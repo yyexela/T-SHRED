{
 "cells": [
  {
   "cell_type": "markdown",
   "metadata": {},
   "source": [
    "## Imports"
   ]
  },
  {
   "cell_type": "code",
   "execution_count": 7,
   "metadata": {},
   "outputs": [
    {
     "name": "stdout",
     "output_type": "stream",
     "text": [
      "The autoreload extension is already loaded. To reload it, use:\n",
      "  %reload_ext autoreload\n"
     ]
    }
   ],
   "source": [
    "\n",
    "%load_ext autoreload\n",
    "%autoreload 2\n",
    "\n",
    "import os\n",
    "import sys\n",
    "import torch\n",
    "import einops\n",
    "import random\n",
    "import pickle\n",
    "import numpy as np\n",
    "import pprint as pp\n",
    "import torch.nn as nn\n",
    "from pathlib import Path\n",
    "from pyfiglet import Figlet\n",
    "from torch.utils.data import DataLoader\n",
    "from src.plots import plot_losses, plot_field_comparison\n",
    "\n",
    "# Add the project root directory to Python path\n",
    "top_dir = Path.cwd().parent\n",
    "sys.path.insert(0, str(top_dir.absolute()))\n",
    "\n",
    "from src import *\n",
    "\n",
    "slurm_dir = top_dir / 'slurms'\n",
    "pickle_dir = top_dir / 'pickles'\n"
   ]
  },
  {
   "cell_type": "code",
   "execution_count": 8,
   "metadata": {},
   "outputs": [],
   "source": [
    "\n",
    "# We will iterate through every combination of these\n",
    "datasets = [\"sst\", \"plasma\", \"planetswe_pod\", \"gray_scott_reaction_diffusion_pod\"]\n",
    "encoders = [\"lstm\", \"vanilla_transformer\", \"sindy_attention_transformer\"]\n",
    "decoders = [\"mlp\", \"unet\"]\n",
    "lrs = [f\"lr{i:0.2e}\" for i in [1e-2, 1e-3, 1e-4, 1e-5]]\n",
    "\n",
    "# These two will be zipped pairwise\n",
    "encoder_depths = [f\"e{i}\" for i in[1, 2, 3]]\n",
    "decoder_depths = [f\"d{i}\" for i in[1, 2]]\n"
   ]
  },
  {
   "cell_type": "code",
   "execution_count": 9,
   "metadata": {},
   "outputs": [],
   "source": [
    "\n",
    "# Get list of results\n",
    "results = helpers.get_dictionaries_from_pickles(pickle_dir, early_stop=None)\n"
   ]
  },
  {
   "cell_type": "code",
   "execution_count": 10,
   "metadata": {},
   "outputs": [
    {
     "name": "stdout",
     "output_type": "stream",
     "text": [
      "<class 'list'>\n",
      "['test_loss',\n",
      " 'start_epoch',\n",
      " 'best_val',\n",
      " 'best_epoch',\n",
      " 'train_losses',\n",
      " 'val_losses',\n",
      " 'sensors',\n",
      " 'hyperparameters']\n",
      "{'batch_size': 128,\n",
      " 'best_checkpoint_path': PosixPath('/home/alexey/Research4/T-SHRED/checkpoints/gru_unet_planetswe_full_e4_d1_lr1.00e-03_p1_model_best.pt'),\n",
      " 'd_data': 3,\n",
      " 'd_model': 150,\n",
      " 'data_cols': 512,\n",
      " 'data_rows': 256,\n",
      " 'dataset': 'planetswe_full',\n",
      " 'decoder': 'unet',\n",
      " 'decoder_depth': 1,\n",
      " 'device': 'cuda:1',\n",
      " 'dim_feedforward': 400,\n",
      " 'dropout': 0.1,\n",
      " 'dt': 1.0,\n",
      " 'early_stop': 10,\n",
      " 'encoder': 'gru',\n",
      " 'encoder_depth': 4,\n",
      " 'epochs': 100,\n",
      " 'eval_full': False,\n",
      " 'generate_test_plots': True,\n",
      " 'generate_training_plots': False,\n",
      " 'hidden_size': 100,\n",
      " 'include_sine': False,\n",
      " 'latest_checkpoint_path': PosixPath('/home/alexey/Research4/T-SHRED/checkpoints/gru_unet_planetswe_full_e4_d1_lr1.00e-03_p1_model_latest.pt'),\n",
      " 'lr': 0.001,\n",
      " 'n_heads': 2,\n",
      " 'n_sensors': 50,\n",
      " 'n_well_tracks': 10,\n",
      " 'output_size': 393216,\n",
      " 'poly_order': 1,\n",
      " 'save_every_n_epochs': 10,\n",
      " 'sindy_threshold': 0.05,\n",
      " 'sindy_weight': 100,\n",
      " 'skip_load_checkpoint': False,\n",
      " 'verbose': True,\n",
      " 'window_length': 50}\n"
     ]
    }
   ],
   "source": [
    "\n",
    "# Print the results / data format\n",
    "print(type(results))\n",
    "pp.pprint(list(results[0].keys()))\n",
    "pp.pprint(results[0]['hyperparameters'])\n"
   ]
  },
  {
   "cell_type": "code",
   "execution_count": 11,
   "metadata": {},
   "outputs": [
    {
     "name": "stdout",
     "output_type": "stream",
     "text": [
      "dict_keys(['test_loss', 'start_epoch', 'best_val', 'best_epoch', 'train_losses', 'val_losses', 'sensors', 'hyperparameters'])\n",
      "dict_keys(['batch_size', 'dataset', 'decoder', 'decoder_depth', 'device', 'dropout', 'dt', 'early_stop', 'encoder', 'eval_full', 'encoder_depth', 'epochs', 'hidden_size', 'generate_test_plots', 'generate_training_plots', 'include_sine', 'lr', 'n_heads', 'n_sensors', 'n_well_tracks', 'poly_order', 'save_every_n_epochs', 'sindy_threshold', 'sindy_weight', 'skip_load_checkpoint', 'verbose', 'window_length', 'd_data', 'data_rows', 'data_cols', 'd_model', 'dim_feedforward', 'output_size', 'latest_checkpoint_path', 'best_checkpoint_path'])\n",
      "[(98, 215), (10, 132), (130, 248), (103, 155), (122, 183), (149, 111), (129, 71), (72, 71), (64, 272), (154, 75), (18, 350), (84, 241), (143, 51), (90, 222), (80, 312), (141, 244), (113, 266), (140, 7), (0, 313), (126, 170), (62, 166), (145, 113), (139, 229), (23, 41), (81, 260), (125, 55), (77, 282), (74, 63), (140, 170), (138, 104), (154, 280), (150, 147), (152, 197), (61, 148), (47, 16), (156, 336), (66, 243), (17, 45), (20, 358), (138, 349), (100, 268), (70, 267), (70, 230), (126, 338), (91, 42), (83, 313), (150, 322), (69, 59), (56, 190), (43, 170)]\n"
     ]
    }
   ],
   "source": [
    "\n",
    "best_result = helpers.get_top_N_models_by_loss('sst', pickle_dir, N=1)[0][1]\n",
    "print(best_result.keys())\n",
    "print(best_result['hyperparameters'].keys())\n",
    "print(best_result['sensors'])\n"
   ]
  },
  {
   "cell_type": "code",
   "execution_count": 14,
   "metadata": {},
   "outputs": [
    {
     "name": "stdout",
     "output_type": "stream",
     "text": [
      "Saved /home/alexey/Research4/T-SHRED/figures/planetswe_full_scatter.pdf\n"
     ]
    },
    {
     "data": {
      "application/vnd.plotly.v1+json": {
       "config": {
        "plotlyServerURL": "https://plot.ly"
       },
       "data": [
        {
         "marker": {
          "color": "white",
          "line": {
           "color": "#5F4690",
           "width": 4
          },
          "size": 12
         },
         "mode": "markers",
         "name": "Encoder: LSTM",
         "showlegend": true,
         "type": "scatter",
         "x": [
          null
         ],
         "y": [
          null
         ]
        },
        {
         "marker": {
          "color": "white",
          "line": {
           "color": "#1D6996",
           "width": 4
          },
          "size": 12
         },
         "mode": "markers",
         "name": "Encoder: GRU",
         "showlegend": true,
         "type": "scatter",
         "x": [
          null
         ],
         "y": [
          null
         ]
        },
        {
         "marker": {
          "color": "white",
          "line": {
           "color": "#38A6A5",
           "width": 4
          },
          "size": 12
         },
         "mode": "markers",
         "name": "Encoder: SL-LSTM",
         "showlegend": true,
         "type": "scatter",
         "x": [
          null
         ],
         "y": [
          null
         ]
        },
        {
         "marker": {
          "color": "white",
          "line": {
           "color": "#0F8554",
           "width": 4
          },
          "size": 12
         },
         "mode": "markers",
         "name": "Encoder: SL-GRU",
         "showlegend": true,
         "type": "scatter",
         "x": [
          null
         ],
         "y": [
          null
         ]
        },
        {
         "marker": {
          "color": "white",
          "line": {
           "color": "#73AF48",
           "width": 4
          },
          "size": 12
         },
         "mode": "markers",
         "name": "Encoder: T",
         "showlegend": true,
         "type": "scatter",
         "x": [
          null
         ],
         "y": [
          null
         ]
        },
        {
         "marker": {
          "color": "white",
          "line": {
           "color": "#EDAD08",
           "width": 4
          },
          "size": 12
         },
         "mode": "markers",
         "name": "Encoder: SL-T",
         "showlegend": true,
         "type": "scatter",
         "x": [
          null
         ],
         "y": [
          null
         ]
        },
        {
         "marker": {
          "color": "white",
          "line": {
           "color": "#E17C05",
           "width": 4
          },
          "size": 12
         },
         "mode": "markers",
         "name": "Encoder: SA-T",
         "showlegend": true,
         "type": "scatter",
         "x": [
          null
         ],
         "y": [
          null
         ]
        },
        {
         "marker": {
          "color": "white",
          "line": {
           "color": "#CC503E",
           "width": 4
          },
          "size": 12
         },
         "mode": "markers",
         "name": "Encoder: SASL-T",
         "showlegend": true,
         "type": "scatter",
         "x": [
          null
         ],
         "y": [
          null
         ]
        },
        {
         "marker": {
          "color": "#66C5CC",
          "line": {
           "color": "white",
           "width": 4
          },
          "size": 12
         },
         "mode": "markers",
         "name": "Decoder: MLP",
         "showlegend": true,
         "type": "scatter",
         "x": [
          null
         ],
         "y": [
          null
         ]
        },
        {
         "marker": {
          "color": "#F6CF71",
          "line": {
           "color": "white",
           "width": 4
          },
          "size": 12
         },
         "mode": "markers",
         "name": "Decoder: CNN",
         "showlegend": true,
         "type": "scatter",
         "x": [
          null
         ],
         "y": [
          null
         ]
        },
        {
         "hovertemplate": "Encoder: sindy_loss_transformer (x1)<br>Decoder: mlp (x1)<br>LR: 1.00e-03<br>Test Loss: 2.91e+03<br><extra></extra>",
         "marker": {
          "color": "#66C5CC",
          "line": {
           "color": "#EDAD08",
           "width": 4
          },
          "size": 12
         },
         "mode": "markers",
         "name": "sindy_loss_transformer-mlp",
         "showlegend": false,
         "type": "scatter",
         "x": [
          1
         ],
         "y": [
          2908.2198486328125
         ]
        },
        {
         "hovertemplate": "Encoder: vanilla_transformer (x3)<br>Decoder: unet (x1)<br>LR: 1.00e-03<br>Test Loss: 2.91e+03<br><extra></extra>",
         "marker": {
          "color": "#F6CF71",
          "line": {
           "color": "#73AF48",
           "width": 4
          },
          "size": 12
         },
         "mode": "markers",
         "name": "vanilla_transformer-unet",
         "showlegend": false,
         "type": "scatter",
         "x": [
          2
         ],
         "y": [
          2908.197998046875
         ]
        },
        {
         "hovertemplate": "Encoder: sindy_attention_sindy_loss_transformer (x1)<br>Decoder: unet (x1)<br>LR: 1.00e-03<br>Test Loss: 2.89e+03<br><extra></extra>",
         "marker": {
          "color": "#F6CF71",
          "line": {
           "color": "#CC503E",
           "width": 4
          },
          "size": 12
         },
         "mode": "markers",
         "name": "sindy_attention_sindy_loss_transformer-unet",
         "showlegend": false,
         "type": "scatter",
         "x": [
          3
         ],
         "y": [
          2887.0531311035156
         ]
        },
        {
         "hovertemplate": "Encoder: sindy_attention_transformer (x1)<br>Decoder: unet (x1)<br>LR: 1.00e-03<br>Test Loss: 2.86e+03<br><extra></extra>",
         "marker": {
          "color": "#F6CF71",
          "line": {
           "color": "#E17C05",
           "width": 4
          },
          "size": 12
         },
         "mode": "markers",
         "name": "sindy_attention_transformer-unet",
         "showlegend": false,
         "type": "scatter",
         "x": [
          4
         ],
         "y": [
          2857.6738891601562
         ]
        },
        {
         "hovertemplate": "Encoder: sindy_attention_transformer (x4)<br>Decoder: unet (x1)<br>LR: 1.00e-03<br>Test Loss: 2.84e+03<br><extra></extra>",
         "marker": {
          "color": "#F6CF71",
          "line": {
           "color": "#E17C05",
           "width": 4
          },
          "size": 12
         },
         "mode": "markers",
         "name": "sindy_attention_transformer-unet",
         "showlegend": false,
         "type": "scatter",
         "x": [
          5
         ],
         "y": [
          2841.8397827148438
         ]
        },
        {
         "hovertemplate": "Encoder: vanilla_transformer (x4)<br>Decoder: unet (x1)<br>LR: 1.00e-03<br>Test Loss: 2.80e+03<br><extra></extra>",
         "marker": {
          "color": "#F6CF71",
          "line": {
           "color": "#73AF48",
           "width": 4
          },
          "size": 12
         },
         "mode": "markers",
         "name": "vanilla_transformer-unet",
         "showlegend": false,
         "type": "scatter",
         "x": [
          6
         ],
         "y": [
          2801.5577087402344
         ]
        },
        {
         "hovertemplate": "Encoder: sindy_attention_sindy_loss_transformer (x2)<br>Decoder: unet (x1)<br>LR: 1.00e-03<br>Test Loss: 2.80e+03<br><extra></extra>",
         "marker": {
          "color": "#F6CF71",
          "line": {
           "color": "#CC503E",
           "width": 4
          },
          "size": 12
         },
         "mode": "markers",
         "name": "sindy_attention_sindy_loss_transformer-unet",
         "showlegend": false,
         "type": "scatter",
         "x": [
          7
         ],
         "y": [
          2795.8570556640625
         ]
        },
        {
         "hovertemplate": "Encoder: vanilla_transformer (x1)<br>Decoder: mlp (x1)<br>LR: 1.00e-03<br>Test Loss: 2.79e+03<br><extra></extra>",
         "marker": {
          "color": "#66C5CC",
          "line": {
           "color": "#73AF48",
           "width": 4
          },
          "size": 12
         },
         "mode": "markers",
         "name": "vanilla_transformer-mlp",
         "showlegend": false,
         "type": "scatter",
         "x": [
          8
         ],
         "y": [
          2786.902862548828
         ]
        },
        {
         "hovertemplate": "Encoder: sindy_attention_sindy_loss_transformer (x3)<br>Decoder: mlp (x1)<br>LR: 1.00e-03<br>Test Loss: 2.78e+03<br><extra></extra>",
         "marker": {
          "color": "#66C5CC",
          "line": {
           "color": "#CC503E",
           "width": 4
          },
          "size": 12
         },
         "mode": "markers",
         "name": "sindy_attention_sindy_loss_transformer-mlp",
         "showlegend": false,
         "type": "scatter",
         "x": [
          9
         ],
         "y": [
          2779.1683959960938
         ]
        },
        {
         "hovertemplate": "Encoder: sindy_attention_transformer (x3)<br>Decoder: mlp (x1)<br>LR: 1.00e-03<br>Test Loss: 2.74e+03<br><extra></extra>",
         "marker": {
          "color": "#66C5CC",
          "line": {
           "color": "#E17C05",
           "width": 4
          },
          "size": 12
         },
         "mode": "markers",
         "name": "sindy_attention_transformer-mlp",
         "showlegend": false,
         "type": "scatter",
         "x": [
          10
         ],
         "y": [
          2741.9566955566406
         ]
        },
        {
         "hovertemplate": "Encoder: vanilla_transformer (x4)<br>Decoder: mlp (x1)<br>LR: 1.00e-03<br>Test Loss: 2.70e+03<br><extra></extra>",
         "marker": {
          "color": "#66C5CC",
          "line": {
           "color": "#73AF48",
           "width": 4
          },
          "size": 12
         },
         "mode": "markers",
         "name": "vanilla_transformer-mlp",
         "showlegend": false,
         "type": "scatter",
         "x": [
          11
         ],
         "y": [
          2695.1192932128906
         ]
        },
        {
         "hovertemplate": "Encoder: sindy_attention_transformer (x4)<br>Decoder: mlp (x1)<br>LR: 1.00e-03<br>Test Loss: 2.67e+03<br><extra></extra>",
         "marker": {
          "color": "#66C5CC",
          "line": {
           "color": "#E17C05",
           "width": 4
          },
          "size": 12
         },
         "mode": "markers",
         "name": "sindy_attention_transformer-mlp",
         "showlegend": false,
         "type": "scatter",
         "x": [
          12
         ],
         "y": [
          2666.7405700683594
         ]
        }
       ],
       "layout": {
        "height": 400,
        "hovermode": "closest",
        "legend": {
         "title": {
          "text": "Legend"
         }
        },
        "showlegend": true,
        "template": {
         "data": {
          "bar": [
           {
            "error_x": {
             "color": "#2a3f5f"
            },
            "error_y": {
             "color": "#2a3f5f"
            },
            "marker": {
             "line": {
              "color": "white",
              "width": 0.5
             },
             "pattern": {
              "fillmode": "overlay",
              "size": 10,
              "solidity": 0.2
             }
            },
            "type": "bar"
           }
          ],
          "barpolar": [
           {
            "marker": {
             "line": {
              "color": "white",
              "width": 0.5
             },
             "pattern": {
              "fillmode": "overlay",
              "size": 10,
              "solidity": 0.2
             }
            },
            "type": "barpolar"
           }
          ],
          "carpet": [
           {
            "aaxis": {
             "endlinecolor": "#2a3f5f",
             "gridcolor": "#C8D4E3",
             "linecolor": "#C8D4E3",
             "minorgridcolor": "#C8D4E3",
             "startlinecolor": "#2a3f5f"
            },
            "baxis": {
             "endlinecolor": "#2a3f5f",
             "gridcolor": "#C8D4E3",
             "linecolor": "#C8D4E3",
             "minorgridcolor": "#C8D4E3",
             "startlinecolor": "#2a3f5f"
            },
            "type": "carpet"
           }
          ],
          "choropleth": [
           {
            "colorbar": {
             "outlinewidth": 0,
             "ticks": ""
            },
            "type": "choropleth"
           }
          ],
          "contour": [
           {
            "colorbar": {
             "outlinewidth": 0,
             "ticks": ""
            },
            "colorscale": [
             [
              0,
              "#0d0887"
             ],
             [
              0.1111111111111111,
              "#46039f"
             ],
             [
              0.2222222222222222,
              "#7201a8"
             ],
             [
              0.3333333333333333,
              "#9c179e"
             ],
             [
              0.4444444444444444,
              "#bd3786"
             ],
             [
              0.5555555555555556,
              "#d8576b"
             ],
             [
              0.6666666666666666,
              "#ed7953"
             ],
             [
              0.7777777777777778,
              "#fb9f3a"
             ],
             [
              0.8888888888888888,
              "#fdca26"
             ],
             [
              1,
              "#f0f921"
             ]
            ],
            "type": "contour"
           }
          ],
          "contourcarpet": [
           {
            "colorbar": {
             "outlinewidth": 0,
             "ticks": ""
            },
            "type": "contourcarpet"
           }
          ],
          "heatmap": [
           {
            "colorbar": {
             "outlinewidth": 0,
             "ticks": ""
            },
            "colorscale": [
             [
              0,
              "#0d0887"
             ],
             [
              0.1111111111111111,
              "#46039f"
             ],
             [
              0.2222222222222222,
              "#7201a8"
             ],
             [
              0.3333333333333333,
              "#9c179e"
             ],
             [
              0.4444444444444444,
              "#bd3786"
             ],
             [
              0.5555555555555556,
              "#d8576b"
             ],
             [
              0.6666666666666666,
              "#ed7953"
             ],
             [
              0.7777777777777778,
              "#fb9f3a"
             ],
             [
              0.8888888888888888,
              "#fdca26"
             ],
             [
              1,
              "#f0f921"
             ]
            ],
            "type": "heatmap"
           }
          ],
          "heatmapgl": [
           {
            "colorbar": {
             "outlinewidth": 0,
             "ticks": ""
            },
            "colorscale": [
             [
              0,
              "#0d0887"
             ],
             [
              0.1111111111111111,
              "#46039f"
             ],
             [
              0.2222222222222222,
              "#7201a8"
             ],
             [
              0.3333333333333333,
              "#9c179e"
             ],
             [
              0.4444444444444444,
              "#bd3786"
             ],
             [
              0.5555555555555556,
              "#d8576b"
             ],
             [
              0.6666666666666666,
              "#ed7953"
             ],
             [
              0.7777777777777778,
              "#fb9f3a"
             ],
             [
              0.8888888888888888,
              "#fdca26"
             ],
             [
              1,
              "#f0f921"
             ]
            ],
            "type": "heatmapgl"
           }
          ],
          "histogram": [
           {
            "marker": {
             "pattern": {
              "fillmode": "overlay",
              "size": 10,
              "solidity": 0.2
             }
            },
            "type": "histogram"
           }
          ],
          "histogram2d": [
           {
            "colorbar": {
             "outlinewidth": 0,
             "ticks": ""
            },
            "colorscale": [
             [
              0,
              "#0d0887"
             ],
             [
              0.1111111111111111,
              "#46039f"
             ],
             [
              0.2222222222222222,
              "#7201a8"
             ],
             [
              0.3333333333333333,
              "#9c179e"
             ],
             [
              0.4444444444444444,
              "#bd3786"
             ],
             [
              0.5555555555555556,
              "#d8576b"
             ],
             [
              0.6666666666666666,
              "#ed7953"
             ],
             [
              0.7777777777777778,
              "#fb9f3a"
             ],
             [
              0.8888888888888888,
              "#fdca26"
             ],
             [
              1,
              "#f0f921"
             ]
            ],
            "type": "histogram2d"
           }
          ],
          "histogram2dcontour": [
           {
            "colorbar": {
             "outlinewidth": 0,
             "ticks": ""
            },
            "colorscale": [
             [
              0,
              "#0d0887"
             ],
             [
              0.1111111111111111,
              "#46039f"
             ],
             [
              0.2222222222222222,
              "#7201a8"
             ],
             [
              0.3333333333333333,
              "#9c179e"
             ],
             [
              0.4444444444444444,
              "#bd3786"
             ],
             [
              0.5555555555555556,
              "#d8576b"
             ],
             [
              0.6666666666666666,
              "#ed7953"
             ],
             [
              0.7777777777777778,
              "#fb9f3a"
             ],
             [
              0.8888888888888888,
              "#fdca26"
             ],
             [
              1,
              "#f0f921"
             ]
            ],
            "type": "histogram2dcontour"
           }
          ],
          "mesh3d": [
           {
            "colorbar": {
             "outlinewidth": 0,
             "ticks": ""
            },
            "type": "mesh3d"
           }
          ],
          "parcoords": [
           {
            "line": {
             "colorbar": {
              "outlinewidth": 0,
              "ticks": ""
             }
            },
            "type": "parcoords"
           }
          ],
          "pie": [
           {
            "automargin": true,
            "type": "pie"
           }
          ],
          "scatter": [
           {
            "marker": {
             "colorbar": {
              "outlinewidth": 0,
              "ticks": ""
             }
            },
            "type": "scatter"
           }
          ],
          "scatter3d": [
           {
            "line": {
             "colorbar": {
              "outlinewidth": 0,
              "ticks": ""
             }
            },
            "marker": {
             "colorbar": {
              "outlinewidth": 0,
              "ticks": ""
             }
            },
            "type": "scatter3d"
           }
          ],
          "scattercarpet": [
           {
            "marker": {
             "colorbar": {
              "outlinewidth": 0,
              "ticks": ""
             }
            },
            "type": "scattercarpet"
           }
          ],
          "scattergeo": [
           {
            "marker": {
             "colorbar": {
              "outlinewidth": 0,
              "ticks": ""
             }
            },
            "type": "scattergeo"
           }
          ],
          "scattergl": [
           {
            "marker": {
             "colorbar": {
              "outlinewidth": 0,
              "ticks": ""
             }
            },
            "type": "scattergl"
           }
          ],
          "scattermapbox": [
           {
            "marker": {
             "colorbar": {
              "outlinewidth": 0,
              "ticks": ""
             }
            },
            "type": "scattermapbox"
           }
          ],
          "scatterpolar": [
           {
            "marker": {
             "colorbar": {
              "outlinewidth": 0,
              "ticks": ""
             }
            },
            "type": "scatterpolar"
           }
          ],
          "scatterpolargl": [
           {
            "marker": {
             "colorbar": {
              "outlinewidth": 0,
              "ticks": ""
             }
            },
            "type": "scatterpolargl"
           }
          ],
          "scatterternary": [
           {
            "marker": {
             "colorbar": {
              "outlinewidth": 0,
              "ticks": ""
             }
            },
            "type": "scatterternary"
           }
          ],
          "surface": [
           {
            "colorbar": {
             "outlinewidth": 0,
             "ticks": ""
            },
            "colorscale": [
             [
              0,
              "#0d0887"
             ],
             [
              0.1111111111111111,
              "#46039f"
             ],
             [
              0.2222222222222222,
              "#7201a8"
             ],
             [
              0.3333333333333333,
              "#9c179e"
             ],
             [
              0.4444444444444444,
              "#bd3786"
             ],
             [
              0.5555555555555556,
              "#d8576b"
             ],
             [
              0.6666666666666666,
              "#ed7953"
             ],
             [
              0.7777777777777778,
              "#fb9f3a"
             ],
             [
              0.8888888888888888,
              "#fdca26"
             ],
             [
              1,
              "#f0f921"
             ]
            ],
            "type": "surface"
           }
          ],
          "table": [
           {
            "cells": {
             "fill": {
              "color": "#EBF0F8"
             },
             "line": {
              "color": "white"
             }
            },
            "header": {
             "fill": {
              "color": "#C8D4E3"
             },
             "line": {
              "color": "white"
             }
            },
            "type": "table"
           }
          ]
         },
         "layout": {
          "annotationdefaults": {
           "arrowcolor": "#2a3f5f",
           "arrowhead": 0,
           "arrowwidth": 1
          },
          "autotypenumbers": "strict",
          "coloraxis": {
           "colorbar": {
            "outlinewidth": 0,
            "ticks": ""
           }
          },
          "colorscale": {
           "diverging": [
            [
             0,
             "#8e0152"
            ],
            [
             0.1,
             "#c51b7d"
            ],
            [
             0.2,
             "#de77ae"
            ],
            [
             0.3,
             "#f1b6da"
            ],
            [
             0.4,
             "#fde0ef"
            ],
            [
             0.5,
             "#f7f7f7"
            ],
            [
             0.6,
             "#e6f5d0"
            ],
            [
             0.7,
             "#b8e186"
            ],
            [
             0.8,
             "#7fbc41"
            ],
            [
             0.9,
             "#4d9221"
            ],
            [
             1,
             "#276419"
            ]
           ],
           "sequential": [
            [
             0,
             "#0d0887"
            ],
            [
             0.1111111111111111,
             "#46039f"
            ],
            [
             0.2222222222222222,
             "#7201a8"
            ],
            [
             0.3333333333333333,
             "#9c179e"
            ],
            [
             0.4444444444444444,
             "#bd3786"
            ],
            [
             0.5555555555555556,
             "#d8576b"
            ],
            [
             0.6666666666666666,
             "#ed7953"
            ],
            [
             0.7777777777777778,
             "#fb9f3a"
            ],
            [
             0.8888888888888888,
             "#fdca26"
            ],
            [
             1,
             "#f0f921"
            ]
           ],
           "sequentialminus": [
            [
             0,
             "#0d0887"
            ],
            [
             0.1111111111111111,
             "#46039f"
            ],
            [
             0.2222222222222222,
             "#7201a8"
            ],
            [
             0.3333333333333333,
             "#9c179e"
            ],
            [
             0.4444444444444444,
             "#bd3786"
            ],
            [
             0.5555555555555556,
             "#d8576b"
            ],
            [
             0.6666666666666666,
             "#ed7953"
            ],
            [
             0.7777777777777778,
             "#fb9f3a"
            ],
            [
             0.8888888888888888,
             "#fdca26"
            ],
            [
             1,
             "#f0f921"
            ]
           ]
          },
          "colorway": [
           "#636efa",
           "#EF553B",
           "#00cc96",
           "#ab63fa",
           "#FFA15A",
           "#19d3f3",
           "#FF6692",
           "#B6E880",
           "#FF97FF",
           "#FECB52"
          ],
          "font": {
           "color": "#2a3f5f"
          },
          "geo": {
           "bgcolor": "white",
           "lakecolor": "white",
           "landcolor": "white",
           "showlakes": true,
           "showland": true,
           "subunitcolor": "#C8D4E3"
          },
          "hoverlabel": {
           "align": "left"
          },
          "hovermode": "closest",
          "mapbox": {
           "style": "light"
          },
          "paper_bgcolor": "white",
          "plot_bgcolor": "white",
          "polar": {
           "angularaxis": {
            "gridcolor": "#EBF0F8",
            "linecolor": "#EBF0F8",
            "ticks": ""
           },
           "bgcolor": "white",
           "radialaxis": {
            "gridcolor": "#EBF0F8",
            "linecolor": "#EBF0F8",
            "ticks": ""
           }
          },
          "scene": {
           "xaxis": {
            "backgroundcolor": "white",
            "gridcolor": "#DFE8F3",
            "gridwidth": 2,
            "linecolor": "#EBF0F8",
            "showbackground": true,
            "ticks": "",
            "zerolinecolor": "#EBF0F8"
           },
           "yaxis": {
            "backgroundcolor": "white",
            "gridcolor": "#DFE8F3",
            "gridwidth": 2,
            "linecolor": "#EBF0F8",
            "showbackground": true,
            "ticks": "",
            "zerolinecolor": "#EBF0F8"
           },
           "zaxis": {
            "backgroundcolor": "white",
            "gridcolor": "#DFE8F3",
            "gridwidth": 2,
            "linecolor": "#EBF0F8",
            "showbackground": true,
            "ticks": "",
            "zerolinecolor": "#EBF0F8"
           }
          },
          "shapedefaults": {
           "line": {
            "color": "#2a3f5f"
           }
          },
          "ternary": {
           "aaxis": {
            "gridcolor": "#DFE8F3",
            "linecolor": "#A2B1C6",
            "ticks": ""
           },
           "baxis": {
            "gridcolor": "#DFE8F3",
            "linecolor": "#A2B1C6",
            "ticks": ""
           },
           "bgcolor": "white",
           "caxis": {
            "gridcolor": "#DFE8F3",
            "linecolor": "#A2B1C6",
            "ticks": ""
           }
          },
          "title": {
           "x": 0.05
          },
          "xaxis": {
           "automargin": true,
           "gridcolor": "#EBF0F8",
           "linecolor": "#EBF0F8",
           "ticks": "",
           "title": {
            "standoff": 15
           },
           "zerolinecolor": "#EBF0F8",
           "zerolinewidth": 2
          },
          "yaxis": {
           "automargin": true,
           "gridcolor": "#EBF0F8",
           "linecolor": "#EBF0F8",
           "ticks": "",
           "title": {
            "standoff": 15
           },
           "zerolinecolor": "#EBF0F8",
           "zerolinewidth": 2
          }
         }
        },
        "title": {
         "text": "PlanetSWE"
        },
        "width": 525,
        "xaxis": {
         "showticklabels": false,
         "title": {
          "text": "Top 12 Models"
         }
        },
        "yaxis": {
         "exponentformat": "E",
         "title": {
          "text": "Test Loss"
         },
         "type": "log"
        }
       }
      },
      "text/html": [
       "<div>                            <div id=\"e0cd769f-8657-4779-a281-59dcf7e213a7\" class=\"plotly-graph-div\" style=\"height:400px; width:525px;\"></div>            <script type=\"text/javascript\">                require([\"plotly\"], function(Plotly) {                    window.PLOTLYENV=window.PLOTLYENV || {};                                    if (document.getElementById(\"e0cd769f-8657-4779-a281-59dcf7e213a7\")) {                    Plotly.newPlot(                        \"e0cd769f-8657-4779-a281-59dcf7e213a7\",                        [{\"marker\":{\"color\":\"white\",\"line\":{\"color\":\"#5F4690\",\"width\":4},\"size\":12},\"mode\":\"markers\",\"name\":\"Encoder: LSTM\",\"showlegend\":true,\"type\":\"scatter\",\"x\":[null],\"y\":[null]},{\"marker\":{\"color\":\"white\",\"line\":{\"color\":\"#1D6996\",\"width\":4},\"size\":12},\"mode\":\"markers\",\"name\":\"Encoder: GRU\",\"showlegend\":true,\"type\":\"scatter\",\"x\":[null],\"y\":[null]},{\"marker\":{\"color\":\"white\",\"line\":{\"color\":\"#38A6A5\",\"width\":4},\"size\":12},\"mode\":\"markers\",\"name\":\"Encoder: SL-LSTM\",\"showlegend\":true,\"type\":\"scatter\",\"x\":[null],\"y\":[null]},{\"marker\":{\"color\":\"white\",\"line\":{\"color\":\"#0F8554\",\"width\":4},\"size\":12},\"mode\":\"markers\",\"name\":\"Encoder: SL-GRU\",\"showlegend\":true,\"type\":\"scatter\",\"x\":[null],\"y\":[null]},{\"marker\":{\"color\":\"white\",\"line\":{\"color\":\"#73AF48\",\"width\":4},\"size\":12},\"mode\":\"markers\",\"name\":\"Encoder: T\",\"showlegend\":true,\"type\":\"scatter\",\"x\":[null],\"y\":[null]},{\"marker\":{\"color\":\"white\",\"line\":{\"color\":\"#EDAD08\",\"width\":4},\"size\":12},\"mode\":\"markers\",\"name\":\"Encoder: SL-T\",\"showlegend\":true,\"type\":\"scatter\",\"x\":[null],\"y\":[null]},{\"marker\":{\"color\":\"white\",\"line\":{\"color\":\"#E17C05\",\"width\":4},\"size\":12},\"mode\":\"markers\",\"name\":\"Encoder: SA-T\",\"showlegend\":true,\"type\":\"scatter\",\"x\":[null],\"y\":[null]},{\"marker\":{\"color\":\"white\",\"line\":{\"color\":\"#CC503E\",\"width\":4},\"size\":12},\"mode\":\"markers\",\"name\":\"Encoder: SASL-T\",\"showlegend\":true,\"type\":\"scatter\",\"x\":[null],\"y\":[null]},{\"marker\":{\"color\":\"#66C5CC\",\"line\":{\"color\":\"white\",\"width\":4},\"size\":12},\"mode\":\"markers\",\"name\":\"Decoder: MLP\",\"showlegend\":true,\"type\":\"scatter\",\"x\":[null],\"y\":[null]},{\"marker\":{\"color\":\"#F6CF71\",\"line\":{\"color\":\"white\",\"width\":4},\"size\":12},\"mode\":\"markers\",\"name\":\"Decoder: CNN\",\"showlegend\":true,\"type\":\"scatter\",\"x\":[null],\"y\":[null]},{\"hovertemplate\":\"Encoder: sindy_loss_transformer (x1)<br>Decoder: mlp (x1)<br>LR: 1.00e-03<br>Test Loss: 2.91e+03<br><extra></extra>\",\"marker\":{\"color\":\"#66C5CC\",\"line\":{\"color\":\"#EDAD08\",\"width\":4},\"size\":12},\"mode\":\"markers\",\"name\":\"sindy_loss_transformer-mlp\",\"showlegend\":false,\"type\":\"scatter\",\"x\":[1],\"y\":[2908.2198486328125]},{\"hovertemplate\":\"Encoder: vanilla_transformer (x3)<br>Decoder: unet (x1)<br>LR: 1.00e-03<br>Test Loss: 2.91e+03<br><extra></extra>\",\"marker\":{\"color\":\"#F6CF71\",\"line\":{\"color\":\"#73AF48\",\"width\":4},\"size\":12},\"mode\":\"markers\",\"name\":\"vanilla_transformer-unet\",\"showlegend\":false,\"type\":\"scatter\",\"x\":[2],\"y\":[2908.197998046875]},{\"hovertemplate\":\"Encoder: sindy_attention_sindy_loss_transformer (x1)<br>Decoder: unet (x1)<br>LR: 1.00e-03<br>Test Loss: 2.89e+03<br><extra></extra>\",\"marker\":{\"color\":\"#F6CF71\",\"line\":{\"color\":\"#CC503E\",\"width\":4},\"size\":12},\"mode\":\"markers\",\"name\":\"sindy_attention_sindy_loss_transformer-unet\",\"showlegend\":false,\"type\":\"scatter\",\"x\":[3],\"y\":[2887.0531311035156]},{\"hovertemplate\":\"Encoder: sindy_attention_transformer (x1)<br>Decoder: unet (x1)<br>LR: 1.00e-03<br>Test Loss: 2.86e+03<br><extra></extra>\",\"marker\":{\"color\":\"#F6CF71\",\"line\":{\"color\":\"#E17C05\",\"width\":4},\"size\":12},\"mode\":\"markers\",\"name\":\"sindy_attention_transformer-unet\",\"showlegend\":false,\"type\":\"scatter\",\"x\":[4],\"y\":[2857.6738891601562]},{\"hovertemplate\":\"Encoder: sindy_attention_transformer (x4)<br>Decoder: unet (x1)<br>LR: 1.00e-03<br>Test Loss: 2.84e+03<br><extra></extra>\",\"marker\":{\"color\":\"#F6CF71\",\"line\":{\"color\":\"#E17C05\",\"width\":4},\"size\":12},\"mode\":\"markers\",\"name\":\"sindy_attention_transformer-unet\",\"showlegend\":false,\"type\":\"scatter\",\"x\":[5],\"y\":[2841.8397827148438]},{\"hovertemplate\":\"Encoder: vanilla_transformer (x4)<br>Decoder: unet (x1)<br>LR: 1.00e-03<br>Test Loss: 2.80e+03<br><extra></extra>\",\"marker\":{\"color\":\"#F6CF71\",\"line\":{\"color\":\"#73AF48\",\"width\":4},\"size\":12},\"mode\":\"markers\",\"name\":\"vanilla_transformer-unet\",\"showlegend\":false,\"type\":\"scatter\",\"x\":[6],\"y\":[2801.5577087402344]},{\"hovertemplate\":\"Encoder: sindy_attention_sindy_loss_transformer (x2)<br>Decoder: unet (x1)<br>LR: 1.00e-03<br>Test Loss: 2.80e+03<br><extra></extra>\",\"marker\":{\"color\":\"#F6CF71\",\"line\":{\"color\":\"#CC503E\",\"width\":4},\"size\":12},\"mode\":\"markers\",\"name\":\"sindy_attention_sindy_loss_transformer-unet\",\"showlegend\":false,\"type\":\"scatter\",\"x\":[7],\"y\":[2795.8570556640625]},{\"hovertemplate\":\"Encoder: vanilla_transformer (x1)<br>Decoder: mlp (x1)<br>LR: 1.00e-03<br>Test Loss: 2.79e+03<br><extra></extra>\",\"marker\":{\"color\":\"#66C5CC\",\"line\":{\"color\":\"#73AF48\",\"width\":4},\"size\":12},\"mode\":\"markers\",\"name\":\"vanilla_transformer-mlp\",\"showlegend\":false,\"type\":\"scatter\",\"x\":[8],\"y\":[2786.902862548828]},{\"hovertemplate\":\"Encoder: sindy_attention_sindy_loss_transformer (x3)<br>Decoder: mlp (x1)<br>LR: 1.00e-03<br>Test Loss: 2.78e+03<br><extra></extra>\",\"marker\":{\"color\":\"#66C5CC\",\"line\":{\"color\":\"#CC503E\",\"width\":4},\"size\":12},\"mode\":\"markers\",\"name\":\"sindy_attention_sindy_loss_transformer-mlp\",\"showlegend\":false,\"type\":\"scatter\",\"x\":[9],\"y\":[2779.1683959960938]},{\"hovertemplate\":\"Encoder: sindy_attention_transformer (x3)<br>Decoder: mlp (x1)<br>LR: 1.00e-03<br>Test Loss: 2.74e+03<br><extra></extra>\",\"marker\":{\"color\":\"#66C5CC\",\"line\":{\"color\":\"#E17C05\",\"width\":4},\"size\":12},\"mode\":\"markers\",\"name\":\"sindy_attention_transformer-mlp\",\"showlegend\":false,\"type\":\"scatter\",\"x\":[10],\"y\":[2741.9566955566406]},{\"hovertemplate\":\"Encoder: vanilla_transformer (x4)<br>Decoder: mlp (x1)<br>LR: 1.00e-03<br>Test Loss: 2.70e+03<br><extra></extra>\",\"marker\":{\"color\":\"#66C5CC\",\"line\":{\"color\":\"#73AF48\",\"width\":4},\"size\":12},\"mode\":\"markers\",\"name\":\"vanilla_transformer-mlp\",\"showlegend\":false,\"type\":\"scatter\",\"x\":[11],\"y\":[2695.1192932128906]},{\"hovertemplate\":\"Encoder: sindy_attention_transformer (x4)<br>Decoder: mlp (x1)<br>LR: 1.00e-03<br>Test Loss: 2.67e+03<br><extra></extra>\",\"marker\":{\"color\":\"#66C5CC\",\"line\":{\"color\":\"#E17C05\",\"width\":4},\"size\":12},\"mode\":\"markers\",\"name\":\"sindy_attention_transformer-mlp\",\"showlegend\":false,\"type\":\"scatter\",\"x\":[12],\"y\":[2666.7405700683594]}],                        {\"height\":400,\"hovermode\":\"closest\",\"legend\":{\"title\":{\"text\":\"Legend\"}},\"showlegend\":true,\"template\":{\"data\":{\"bar\":[{\"error_x\":{\"color\":\"#2a3f5f\"},\"error_y\":{\"color\":\"#2a3f5f\"},\"marker\":{\"line\":{\"color\":\"white\",\"width\":0.5},\"pattern\":{\"fillmode\":\"overlay\",\"size\":10,\"solidity\":0.2}},\"type\":\"bar\"}],\"barpolar\":[{\"marker\":{\"line\":{\"color\":\"white\",\"width\":0.5},\"pattern\":{\"fillmode\":\"overlay\",\"size\":10,\"solidity\":0.2}},\"type\":\"barpolar\"}],\"carpet\":[{\"aaxis\":{\"endlinecolor\":\"#2a3f5f\",\"gridcolor\":\"#C8D4E3\",\"linecolor\":\"#C8D4E3\",\"minorgridcolor\":\"#C8D4E3\",\"startlinecolor\":\"#2a3f5f\"},\"baxis\":{\"endlinecolor\":\"#2a3f5f\",\"gridcolor\":\"#C8D4E3\",\"linecolor\":\"#C8D4E3\",\"minorgridcolor\":\"#C8D4E3\",\"startlinecolor\":\"#2a3f5f\"},\"type\":\"carpet\"}],\"choropleth\":[{\"colorbar\":{\"outlinewidth\":0,\"ticks\":\"\"},\"type\":\"choropleth\"}],\"contour\":[{\"colorbar\":{\"outlinewidth\":0,\"ticks\":\"\"},\"colorscale\":[[0.0,\"#0d0887\"],[0.1111111111111111,\"#46039f\"],[0.2222222222222222,\"#7201a8\"],[0.3333333333333333,\"#9c179e\"],[0.4444444444444444,\"#bd3786\"],[0.5555555555555556,\"#d8576b\"],[0.6666666666666666,\"#ed7953\"],[0.7777777777777778,\"#fb9f3a\"],[0.8888888888888888,\"#fdca26\"],[1.0,\"#f0f921\"]],\"type\":\"contour\"}],\"contourcarpet\":[{\"colorbar\":{\"outlinewidth\":0,\"ticks\":\"\"},\"type\":\"contourcarpet\"}],\"heatmap\":[{\"colorbar\":{\"outlinewidth\":0,\"ticks\":\"\"},\"colorscale\":[[0.0,\"#0d0887\"],[0.1111111111111111,\"#46039f\"],[0.2222222222222222,\"#7201a8\"],[0.3333333333333333,\"#9c179e\"],[0.4444444444444444,\"#bd3786\"],[0.5555555555555556,\"#d8576b\"],[0.6666666666666666,\"#ed7953\"],[0.7777777777777778,\"#fb9f3a\"],[0.8888888888888888,\"#fdca26\"],[1.0,\"#f0f921\"]],\"type\":\"heatmap\"}],\"heatmapgl\":[{\"colorbar\":{\"outlinewidth\":0,\"ticks\":\"\"},\"colorscale\":[[0.0,\"#0d0887\"],[0.1111111111111111,\"#46039f\"],[0.2222222222222222,\"#7201a8\"],[0.3333333333333333,\"#9c179e\"],[0.4444444444444444,\"#bd3786\"],[0.5555555555555556,\"#d8576b\"],[0.6666666666666666,\"#ed7953\"],[0.7777777777777778,\"#fb9f3a\"],[0.8888888888888888,\"#fdca26\"],[1.0,\"#f0f921\"]],\"type\":\"heatmapgl\"}],\"histogram\":[{\"marker\":{\"pattern\":{\"fillmode\":\"overlay\",\"size\":10,\"solidity\":0.2}},\"type\":\"histogram\"}],\"histogram2d\":[{\"colorbar\":{\"outlinewidth\":0,\"ticks\":\"\"},\"colorscale\":[[0.0,\"#0d0887\"],[0.1111111111111111,\"#46039f\"],[0.2222222222222222,\"#7201a8\"],[0.3333333333333333,\"#9c179e\"],[0.4444444444444444,\"#bd3786\"],[0.5555555555555556,\"#d8576b\"],[0.6666666666666666,\"#ed7953\"],[0.7777777777777778,\"#fb9f3a\"],[0.8888888888888888,\"#fdca26\"],[1.0,\"#f0f921\"]],\"type\":\"histogram2d\"}],\"histogram2dcontour\":[{\"colorbar\":{\"outlinewidth\":0,\"ticks\":\"\"},\"colorscale\":[[0.0,\"#0d0887\"],[0.1111111111111111,\"#46039f\"],[0.2222222222222222,\"#7201a8\"],[0.3333333333333333,\"#9c179e\"],[0.4444444444444444,\"#bd3786\"],[0.5555555555555556,\"#d8576b\"],[0.6666666666666666,\"#ed7953\"],[0.7777777777777778,\"#fb9f3a\"],[0.8888888888888888,\"#fdca26\"],[1.0,\"#f0f921\"]],\"type\":\"histogram2dcontour\"}],\"mesh3d\":[{\"colorbar\":{\"outlinewidth\":0,\"ticks\":\"\"},\"type\":\"mesh3d\"}],\"parcoords\":[{\"line\":{\"colorbar\":{\"outlinewidth\":0,\"ticks\":\"\"}},\"type\":\"parcoords\"}],\"pie\":[{\"automargin\":true,\"type\":\"pie\"}],\"scatter\":[{\"marker\":{\"colorbar\":{\"outlinewidth\":0,\"ticks\":\"\"}},\"type\":\"scatter\"}],\"scatter3d\":[{\"line\":{\"colorbar\":{\"outlinewidth\":0,\"ticks\":\"\"}},\"marker\":{\"colorbar\":{\"outlinewidth\":0,\"ticks\":\"\"}},\"type\":\"scatter3d\"}],\"scattercarpet\":[{\"marker\":{\"colorbar\":{\"outlinewidth\":0,\"ticks\":\"\"}},\"type\":\"scattercarpet\"}],\"scattergeo\":[{\"marker\":{\"colorbar\":{\"outlinewidth\":0,\"ticks\":\"\"}},\"type\":\"scattergeo\"}],\"scattergl\":[{\"marker\":{\"colorbar\":{\"outlinewidth\":0,\"ticks\":\"\"}},\"type\":\"scattergl\"}],\"scattermapbox\":[{\"marker\":{\"colorbar\":{\"outlinewidth\":0,\"ticks\":\"\"}},\"type\":\"scattermapbox\"}],\"scatterpolar\":[{\"marker\":{\"colorbar\":{\"outlinewidth\":0,\"ticks\":\"\"}},\"type\":\"scatterpolar\"}],\"scatterpolargl\":[{\"marker\":{\"colorbar\":{\"outlinewidth\":0,\"ticks\":\"\"}},\"type\":\"scatterpolargl\"}],\"scatterternary\":[{\"marker\":{\"colorbar\":{\"outlinewidth\":0,\"ticks\":\"\"}},\"type\":\"scatterternary\"}],\"surface\":[{\"colorbar\":{\"outlinewidth\":0,\"ticks\":\"\"},\"colorscale\":[[0.0,\"#0d0887\"],[0.1111111111111111,\"#46039f\"],[0.2222222222222222,\"#7201a8\"],[0.3333333333333333,\"#9c179e\"],[0.4444444444444444,\"#bd3786\"],[0.5555555555555556,\"#d8576b\"],[0.6666666666666666,\"#ed7953\"],[0.7777777777777778,\"#fb9f3a\"],[0.8888888888888888,\"#fdca26\"],[1.0,\"#f0f921\"]],\"type\":\"surface\"}],\"table\":[{\"cells\":{\"fill\":{\"color\":\"#EBF0F8\"},\"line\":{\"color\":\"white\"}},\"header\":{\"fill\":{\"color\":\"#C8D4E3\"},\"line\":{\"color\":\"white\"}},\"type\":\"table\"}]},\"layout\":{\"annotationdefaults\":{\"arrowcolor\":\"#2a3f5f\",\"arrowhead\":0,\"arrowwidth\":1},\"autotypenumbers\":\"strict\",\"coloraxis\":{\"colorbar\":{\"outlinewidth\":0,\"ticks\":\"\"}},\"colorscale\":{\"diverging\":[[0,\"#8e0152\"],[0.1,\"#c51b7d\"],[0.2,\"#de77ae\"],[0.3,\"#f1b6da\"],[0.4,\"#fde0ef\"],[0.5,\"#f7f7f7\"],[0.6,\"#e6f5d0\"],[0.7,\"#b8e186\"],[0.8,\"#7fbc41\"],[0.9,\"#4d9221\"],[1,\"#276419\"]],\"sequential\":[[0.0,\"#0d0887\"],[0.1111111111111111,\"#46039f\"],[0.2222222222222222,\"#7201a8\"],[0.3333333333333333,\"#9c179e\"],[0.4444444444444444,\"#bd3786\"],[0.5555555555555556,\"#d8576b\"],[0.6666666666666666,\"#ed7953\"],[0.7777777777777778,\"#fb9f3a\"],[0.8888888888888888,\"#fdca26\"],[1.0,\"#f0f921\"]],\"sequentialminus\":[[0.0,\"#0d0887\"],[0.1111111111111111,\"#46039f\"],[0.2222222222222222,\"#7201a8\"],[0.3333333333333333,\"#9c179e\"],[0.4444444444444444,\"#bd3786\"],[0.5555555555555556,\"#d8576b\"],[0.6666666666666666,\"#ed7953\"],[0.7777777777777778,\"#fb9f3a\"],[0.8888888888888888,\"#fdca26\"],[1.0,\"#f0f921\"]]},\"colorway\":[\"#636efa\",\"#EF553B\",\"#00cc96\",\"#ab63fa\",\"#FFA15A\",\"#19d3f3\",\"#FF6692\",\"#B6E880\",\"#FF97FF\",\"#FECB52\"],\"font\":{\"color\":\"#2a3f5f\"},\"geo\":{\"bgcolor\":\"white\",\"lakecolor\":\"white\",\"landcolor\":\"white\",\"showlakes\":true,\"showland\":true,\"subunitcolor\":\"#C8D4E3\"},\"hoverlabel\":{\"align\":\"left\"},\"hovermode\":\"closest\",\"mapbox\":{\"style\":\"light\"},\"paper_bgcolor\":\"white\",\"plot_bgcolor\":\"white\",\"polar\":{\"angularaxis\":{\"gridcolor\":\"#EBF0F8\",\"linecolor\":\"#EBF0F8\",\"ticks\":\"\"},\"bgcolor\":\"white\",\"radialaxis\":{\"gridcolor\":\"#EBF0F8\",\"linecolor\":\"#EBF0F8\",\"ticks\":\"\"}},\"scene\":{\"xaxis\":{\"backgroundcolor\":\"white\",\"gridcolor\":\"#DFE8F3\",\"gridwidth\":2,\"linecolor\":\"#EBF0F8\",\"showbackground\":true,\"ticks\":\"\",\"zerolinecolor\":\"#EBF0F8\"},\"yaxis\":{\"backgroundcolor\":\"white\",\"gridcolor\":\"#DFE8F3\",\"gridwidth\":2,\"linecolor\":\"#EBF0F8\",\"showbackground\":true,\"ticks\":\"\",\"zerolinecolor\":\"#EBF0F8\"},\"zaxis\":{\"backgroundcolor\":\"white\",\"gridcolor\":\"#DFE8F3\",\"gridwidth\":2,\"linecolor\":\"#EBF0F8\",\"showbackground\":true,\"ticks\":\"\",\"zerolinecolor\":\"#EBF0F8\"}},\"shapedefaults\":{\"line\":{\"color\":\"#2a3f5f\"}},\"ternary\":{\"aaxis\":{\"gridcolor\":\"#DFE8F3\",\"linecolor\":\"#A2B1C6\",\"ticks\":\"\"},\"baxis\":{\"gridcolor\":\"#DFE8F3\",\"linecolor\":\"#A2B1C6\",\"ticks\":\"\"},\"bgcolor\":\"white\",\"caxis\":{\"gridcolor\":\"#DFE8F3\",\"linecolor\":\"#A2B1C6\",\"ticks\":\"\"}},\"title\":{\"x\":0.05},\"xaxis\":{\"automargin\":true,\"gridcolor\":\"#EBF0F8\",\"linecolor\":\"#EBF0F8\",\"ticks\":\"\",\"title\":{\"standoff\":15},\"zerolinecolor\":\"#EBF0F8\",\"zerolinewidth\":2},\"yaxis\":{\"automargin\":true,\"gridcolor\":\"#EBF0F8\",\"linecolor\":\"#EBF0F8\",\"ticks\":\"\",\"title\":{\"standoff\":15},\"zerolinecolor\":\"#EBF0F8\",\"zerolinewidth\":2}}},\"title\":{\"text\":\"PlanetSWE\"},\"width\":525,\"xaxis\":{\"showticklabels\":false,\"title\":{\"text\":\"Top 12 Models\"}},\"yaxis\":{\"exponentformat\":\"E\",\"title\":{\"text\":\"Test Loss\"},\"type\":\"log\"}},                        {\"responsive\": true}                    ).then(function(){\n",
       "                            \n",
       "var gd = document.getElementById('e0cd769f-8657-4779-a281-59dcf7e213a7');\n",
       "var x = new MutationObserver(function (mutations, observer) {{\n",
       "        var display = window.getComputedStyle(gd).display;\n",
       "        if (!display || display === 'none') {{\n",
       "            console.log([gd, 'removed!']);\n",
       "            Plotly.purge(gd);\n",
       "            observer.disconnect();\n",
       "        }}\n",
       "}});\n",
       "\n",
       "// Listen for the removal of the full notebook cells\n",
       "var notebookContainer = gd.closest('#notebook-container');\n",
       "if (notebookContainer) {{\n",
       "    x.observe(notebookContainer, {childList: true});\n",
       "}}\n",
       "\n",
       "// Listen for the clearing of the current output cell\n",
       "var outputEl = gd.closest('.output');\n",
       "if (outputEl) {{\n",
       "    x.observe(outputEl, {childList: true});\n",
       "}}\n",
       "\n",
       "                        })                };                });            </script>        </div>"
      ]
     },
     "metadata": {},
     "output_type": "display_data"
    },
    {
     "name": "stdout",
     "output_type": "stream",
     "text": [
      "Saved /home/alexey/Research4/T-SHRED/figures/sst_scatter.pdf\n"
     ]
    },
    {
     "data": {
      "application/vnd.plotly.v1+json": {
       "config": {
        "plotlyServerURL": "https://plot.ly"
       },
       "data": [
        {
         "marker": {
          "color": "white",
          "line": {
           "color": "#5F4690",
           "width": 4
          },
          "size": 12
         },
         "mode": "markers",
         "name": "Encoder: LSTM",
         "showlegend": true,
         "type": "scatter",
         "x": [
          null
         ],
         "y": [
          null
         ]
        },
        {
         "marker": {
          "color": "white",
          "line": {
           "color": "#1D6996",
           "width": 4
          },
          "size": 12
         },
         "mode": "markers",
         "name": "Encoder: GRU",
         "showlegend": true,
         "type": "scatter",
         "x": [
          null
         ],
         "y": [
          null
         ]
        },
        {
         "marker": {
          "color": "white",
          "line": {
           "color": "#38A6A5",
           "width": 4
          },
          "size": 12
         },
         "mode": "markers",
         "name": "Encoder: SL-LSTM",
         "showlegend": true,
         "type": "scatter",
         "x": [
          null
         ],
         "y": [
          null
         ]
        },
        {
         "marker": {
          "color": "white",
          "line": {
           "color": "#0F8554",
           "width": 4
          },
          "size": 12
         },
         "mode": "markers",
         "name": "Encoder: SL-GRU",
         "showlegend": true,
         "type": "scatter",
         "x": [
          null
         ],
         "y": [
          null
         ]
        },
        {
         "marker": {
          "color": "white",
          "line": {
           "color": "#73AF48",
           "width": 4
          },
          "size": 12
         },
         "mode": "markers",
         "name": "Encoder: T",
         "showlegend": true,
         "type": "scatter",
         "x": [
          null
         ],
         "y": [
          null
         ]
        },
        {
         "marker": {
          "color": "white",
          "line": {
           "color": "#EDAD08",
           "width": 4
          },
          "size": 12
         },
         "mode": "markers",
         "name": "Encoder: SL-T",
         "showlegend": true,
         "type": "scatter",
         "x": [
          null
         ],
         "y": [
          null
         ]
        },
        {
         "marker": {
          "color": "white",
          "line": {
           "color": "#E17C05",
           "width": 4
          },
          "size": 12
         },
         "mode": "markers",
         "name": "Encoder: SA-T",
         "showlegend": true,
         "type": "scatter",
         "x": [
          null
         ],
         "y": [
          null
         ]
        },
        {
         "marker": {
          "color": "white",
          "line": {
           "color": "#CC503E",
           "width": 4
          },
          "size": 12
         },
         "mode": "markers",
         "name": "Encoder: SASL-T",
         "showlegend": true,
         "type": "scatter",
         "x": [
          null
         ],
         "y": [
          null
         ]
        },
        {
         "marker": {
          "color": "#66C5CC",
          "line": {
           "color": "white",
           "width": 4
          },
          "size": 12
         },
         "mode": "markers",
         "name": "Decoder: MLP",
         "showlegend": true,
         "type": "scatter",
         "x": [
          null
         ],
         "y": [
          null
         ]
        },
        {
         "marker": {
          "color": "#F6CF71",
          "line": {
           "color": "white",
           "width": 4
          },
          "size": 12
         },
         "mode": "markers",
         "name": "Decoder: CNN",
         "showlegend": true,
         "type": "scatter",
         "x": [
          null
         ],
         "y": [
          null
         ]
        },
        {
         "hovertemplate": "Encoder: sindy_loss_gru (x3)<br>Decoder: unet (x1)<br>LR: 1.00e-03<br>Test Loss: 1.92e-03<br><extra></extra>",
         "marker": {
          "color": "#F6CF71",
          "line": {
           "color": "#0F8554",
           "width": 4
          },
          "size": 12
         },
         "mode": "markers",
         "name": "sindy_loss_gru-unet",
         "showlegend": false,
         "type": "scatter",
         "x": [
          1
         ],
         "y": [
          0.0019162315875291824
         ]
        },
        {
         "hovertemplate": "Encoder: gru (x4)<br>Decoder: unet (x1)<br>LR: 1.00e-03<br>Test Loss: 1.91e-03<br><extra></extra>",
         "marker": {
          "color": "#F6CF71",
          "line": {
           "color": "#1D6996",
           "width": 4
          },
          "size": 12
         },
         "mode": "markers",
         "name": "gru-unet",
         "showlegend": false,
         "type": "scatter",
         "x": [
          2
         ],
         "y": [
          0.0019119050120934844
         ]
        },
        {
         "hovertemplate": "Encoder: gru (x3)<br>Decoder: unet (x1)<br>LR: 1.00e-03<br>Test Loss: 1.88e-03<br><extra></extra>",
         "marker": {
          "color": "#F6CF71",
          "line": {
           "color": "#1D6996",
           "width": 4
          },
          "size": 12
         },
         "mode": "markers",
         "name": "gru-unet",
         "showlegend": false,
         "type": "scatter",
         "x": [
          3
         ],
         "y": [
          0.0018762067193165421
         ]
        },
        {
         "hovertemplate": "Encoder: gru (x3)<br>Decoder: mlp (x1)<br>LR: 1.00e-03<br>Test Loss: 1.81e-03<br><extra></extra>",
         "marker": {
          "color": "#66C5CC",
          "line": {
           "color": "#1D6996",
           "width": 4
          },
          "size": 12
         },
         "mode": "markers",
         "name": "gru-mlp",
         "showlegend": false,
         "type": "scatter",
         "x": [
          4
         ],
         "y": [
          0.001812400878407061
         ]
        },
        {
         "hovertemplate": "Encoder: sindy_loss_gru (x3)<br>Decoder: mlp (x1)<br>LR: 1.00e-03<br>Test Loss: 1.78e-03<br><extra></extra>",
         "marker": {
          "color": "#66C5CC",
          "line": {
           "color": "#0F8554",
           "width": 4
          },
          "size": 12
         },
         "mode": "markers",
         "name": "sindy_loss_gru-mlp",
         "showlegend": false,
         "type": "scatter",
         "x": [
          5
         ],
         "y": [
          0.0017751598497852683
         ]
        },
        {
         "hovertemplate": "Encoder: gru (x2)<br>Decoder: unet (x1)<br>LR: 1.00e-03<br>Test Loss: 1.76e-03<br><extra></extra>",
         "marker": {
          "color": "#F6CF71",
          "line": {
           "color": "#1D6996",
           "width": 4
          },
          "size": 12
         },
         "mode": "markers",
         "name": "gru-unet",
         "showlegend": false,
         "type": "scatter",
         "x": [
          6
         ],
         "y": [
          0.0017636459087952971
         ]
        },
        {
         "hovertemplate": "Encoder: gru (x4)<br>Decoder: mlp (x1)<br>LR: 1.00e-03<br>Test Loss: 1.76e-03<br><extra></extra>",
         "marker": {
          "color": "#66C5CC",
          "line": {
           "color": "#1D6996",
           "width": 4
          },
          "size": 12
         },
         "mode": "markers",
         "name": "gru-mlp",
         "showlegend": false,
         "type": "scatter",
         "x": [
          7
         ],
         "y": [
          0.0017624946776777506
         ]
        },
        {
         "hovertemplate": "Encoder: gru (x2)<br>Decoder: mlp (x1)<br>LR: 1.00e-03<br>Test Loss: 1.72e-03<br><extra></extra>",
         "marker": {
          "color": "#66C5CC",
          "line": {
           "color": "#1D6996",
           "width": 4
          },
          "size": 12
         },
         "mode": "markers",
         "name": "gru-mlp",
         "showlegend": false,
         "type": "scatter",
         "x": [
          8
         ],
         "y": [
          0.0017196149565279484
         ]
        },
        {
         "hovertemplate": "Encoder: sindy_attention_transformer (x1)<br>Decoder: unet (x1)<br>LR: 1.00e-02<br>Test Loss: 1.69e-03<br><extra></extra>",
         "marker": {
          "color": "#F6CF71",
          "line": {
           "color": "#E17C05",
           "width": 4
          },
          "size": 12
         },
         "mode": "markers",
         "name": "sindy_attention_transformer-unet",
         "showlegend": false,
         "type": "scatter",
         "x": [
          9
         ],
         "y": [
          0.0016931942664086819
         ]
        },
        {
         "hovertemplate": "Encoder: vanilla_transformer (x1)<br>Decoder: unet (x1)<br>LR: 1.00e-02<br>Test Loss: 1.63e-03<br><extra></extra>",
         "marker": {
          "color": "#F6CF71",
          "line": {
           "color": "#73AF48",
           "width": 4
          },
          "size": 12
         },
         "mode": "markers",
         "name": "vanilla_transformer-unet",
         "showlegend": false,
         "type": "scatter",
         "x": [
          10
         ],
         "y": [
          0.0016343321185559034
         ]
        },
        {
         "hovertemplate": "Encoder: gru (x1)<br>Decoder: unet (x1)<br>LR: 1.00e-02<br>Test Loss: 1.57e-03<br><extra></extra>",
         "marker": {
          "color": "#F6CF71",
          "line": {
           "color": "#1D6996",
           "width": 4
          },
          "size": 12
         },
         "mode": "markers",
         "name": "gru-unet",
         "showlegend": false,
         "type": "scatter",
         "x": [
          11
         ],
         "y": [
          0.00157342036254704
         ]
        },
        {
         "hovertemplate": "Encoder: gru (x1)<br>Decoder: mlp (x1)<br>LR: 1.00e-02<br>Test Loss: 1.57e-03<br><extra></extra>",
         "marker": {
          "color": "#66C5CC",
          "line": {
           "color": "#1D6996",
           "width": 4
          },
          "size": 12
         },
         "mode": "markers",
         "name": "gru-mlp",
         "showlegend": false,
         "type": "scatter",
         "x": [
          12
         ],
         "y": [
          0.0015706232516095042
         ]
        }
       ],
       "layout": {
        "height": 400,
        "hovermode": "closest",
        "legend": {
         "title": {
          "text": "Legend"
         }
        },
        "showlegend": true,
        "template": {
         "data": {
          "bar": [
           {
            "error_x": {
             "color": "#2a3f5f"
            },
            "error_y": {
             "color": "#2a3f5f"
            },
            "marker": {
             "line": {
              "color": "white",
              "width": 0.5
             },
             "pattern": {
              "fillmode": "overlay",
              "size": 10,
              "solidity": 0.2
             }
            },
            "type": "bar"
           }
          ],
          "barpolar": [
           {
            "marker": {
             "line": {
              "color": "white",
              "width": 0.5
             },
             "pattern": {
              "fillmode": "overlay",
              "size": 10,
              "solidity": 0.2
             }
            },
            "type": "barpolar"
           }
          ],
          "carpet": [
           {
            "aaxis": {
             "endlinecolor": "#2a3f5f",
             "gridcolor": "#C8D4E3",
             "linecolor": "#C8D4E3",
             "minorgridcolor": "#C8D4E3",
             "startlinecolor": "#2a3f5f"
            },
            "baxis": {
             "endlinecolor": "#2a3f5f",
             "gridcolor": "#C8D4E3",
             "linecolor": "#C8D4E3",
             "minorgridcolor": "#C8D4E3",
             "startlinecolor": "#2a3f5f"
            },
            "type": "carpet"
           }
          ],
          "choropleth": [
           {
            "colorbar": {
             "outlinewidth": 0,
             "ticks": ""
            },
            "type": "choropleth"
           }
          ],
          "contour": [
           {
            "colorbar": {
             "outlinewidth": 0,
             "ticks": ""
            },
            "colorscale": [
             [
              0,
              "#0d0887"
             ],
             [
              0.1111111111111111,
              "#46039f"
             ],
             [
              0.2222222222222222,
              "#7201a8"
             ],
             [
              0.3333333333333333,
              "#9c179e"
             ],
             [
              0.4444444444444444,
              "#bd3786"
             ],
             [
              0.5555555555555556,
              "#d8576b"
             ],
             [
              0.6666666666666666,
              "#ed7953"
             ],
             [
              0.7777777777777778,
              "#fb9f3a"
             ],
             [
              0.8888888888888888,
              "#fdca26"
             ],
             [
              1,
              "#f0f921"
             ]
            ],
            "type": "contour"
           }
          ],
          "contourcarpet": [
           {
            "colorbar": {
             "outlinewidth": 0,
             "ticks": ""
            },
            "type": "contourcarpet"
           }
          ],
          "heatmap": [
           {
            "colorbar": {
             "outlinewidth": 0,
             "ticks": ""
            },
            "colorscale": [
             [
              0,
              "#0d0887"
             ],
             [
              0.1111111111111111,
              "#46039f"
             ],
             [
              0.2222222222222222,
              "#7201a8"
             ],
             [
              0.3333333333333333,
              "#9c179e"
             ],
             [
              0.4444444444444444,
              "#bd3786"
             ],
             [
              0.5555555555555556,
              "#d8576b"
             ],
             [
              0.6666666666666666,
              "#ed7953"
             ],
             [
              0.7777777777777778,
              "#fb9f3a"
             ],
             [
              0.8888888888888888,
              "#fdca26"
             ],
             [
              1,
              "#f0f921"
             ]
            ],
            "type": "heatmap"
           }
          ],
          "heatmapgl": [
           {
            "colorbar": {
             "outlinewidth": 0,
             "ticks": ""
            },
            "colorscale": [
             [
              0,
              "#0d0887"
             ],
             [
              0.1111111111111111,
              "#46039f"
             ],
             [
              0.2222222222222222,
              "#7201a8"
             ],
             [
              0.3333333333333333,
              "#9c179e"
             ],
             [
              0.4444444444444444,
              "#bd3786"
             ],
             [
              0.5555555555555556,
              "#d8576b"
             ],
             [
              0.6666666666666666,
              "#ed7953"
             ],
             [
              0.7777777777777778,
              "#fb9f3a"
             ],
             [
              0.8888888888888888,
              "#fdca26"
             ],
             [
              1,
              "#f0f921"
             ]
            ],
            "type": "heatmapgl"
           }
          ],
          "histogram": [
           {
            "marker": {
             "pattern": {
              "fillmode": "overlay",
              "size": 10,
              "solidity": 0.2
             }
            },
            "type": "histogram"
           }
          ],
          "histogram2d": [
           {
            "colorbar": {
             "outlinewidth": 0,
             "ticks": ""
            },
            "colorscale": [
             [
              0,
              "#0d0887"
             ],
             [
              0.1111111111111111,
              "#46039f"
             ],
             [
              0.2222222222222222,
              "#7201a8"
             ],
             [
              0.3333333333333333,
              "#9c179e"
             ],
             [
              0.4444444444444444,
              "#bd3786"
             ],
             [
              0.5555555555555556,
              "#d8576b"
             ],
             [
              0.6666666666666666,
              "#ed7953"
             ],
             [
              0.7777777777777778,
              "#fb9f3a"
             ],
             [
              0.8888888888888888,
              "#fdca26"
             ],
             [
              1,
              "#f0f921"
             ]
            ],
            "type": "histogram2d"
           }
          ],
          "histogram2dcontour": [
           {
            "colorbar": {
             "outlinewidth": 0,
             "ticks": ""
            },
            "colorscale": [
             [
              0,
              "#0d0887"
             ],
             [
              0.1111111111111111,
              "#46039f"
             ],
             [
              0.2222222222222222,
              "#7201a8"
             ],
             [
              0.3333333333333333,
              "#9c179e"
             ],
             [
              0.4444444444444444,
              "#bd3786"
             ],
             [
              0.5555555555555556,
              "#d8576b"
             ],
             [
              0.6666666666666666,
              "#ed7953"
             ],
             [
              0.7777777777777778,
              "#fb9f3a"
             ],
             [
              0.8888888888888888,
              "#fdca26"
             ],
             [
              1,
              "#f0f921"
             ]
            ],
            "type": "histogram2dcontour"
           }
          ],
          "mesh3d": [
           {
            "colorbar": {
             "outlinewidth": 0,
             "ticks": ""
            },
            "type": "mesh3d"
           }
          ],
          "parcoords": [
           {
            "line": {
             "colorbar": {
              "outlinewidth": 0,
              "ticks": ""
             }
            },
            "type": "parcoords"
           }
          ],
          "pie": [
           {
            "automargin": true,
            "type": "pie"
           }
          ],
          "scatter": [
           {
            "marker": {
             "colorbar": {
              "outlinewidth": 0,
              "ticks": ""
             }
            },
            "type": "scatter"
           }
          ],
          "scatter3d": [
           {
            "line": {
             "colorbar": {
              "outlinewidth": 0,
              "ticks": ""
             }
            },
            "marker": {
             "colorbar": {
              "outlinewidth": 0,
              "ticks": ""
             }
            },
            "type": "scatter3d"
           }
          ],
          "scattercarpet": [
           {
            "marker": {
             "colorbar": {
              "outlinewidth": 0,
              "ticks": ""
             }
            },
            "type": "scattercarpet"
           }
          ],
          "scattergeo": [
           {
            "marker": {
             "colorbar": {
              "outlinewidth": 0,
              "ticks": ""
             }
            },
            "type": "scattergeo"
           }
          ],
          "scattergl": [
           {
            "marker": {
             "colorbar": {
              "outlinewidth": 0,
              "ticks": ""
             }
            },
            "type": "scattergl"
           }
          ],
          "scattermapbox": [
           {
            "marker": {
             "colorbar": {
              "outlinewidth": 0,
              "ticks": ""
             }
            },
            "type": "scattermapbox"
           }
          ],
          "scatterpolar": [
           {
            "marker": {
             "colorbar": {
              "outlinewidth": 0,
              "ticks": ""
             }
            },
            "type": "scatterpolar"
           }
          ],
          "scatterpolargl": [
           {
            "marker": {
             "colorbar": {
              "outlinewidth": 0,
              "ticks": ""
             }
            },
            "type": "scatterpolargl"
           }
          ],
          "scatterternary": [
           {
            "marker": {
             "colorbar": {
              "outlinewidth": 0,
              "ticks": ""
             }
            },
            "type": "scatterternary"
           }
          ],
          "surface": [
           {
            "colorbar": {
             "outlinewidth": 0,
             "ticks": ""
            },
            "colorscale": [
             [
              0,
              "#0d0887"
             ],
             [
              0.1111111111111111,
              "#46039f"
             ],
             [
              0.2222222222222222,
              "#7201a8"
             ],
             [
              0.3333333333333333,
              "#9c179e"
             ],
             [
              0.4444444444444444,
              "#bd3786"
             ],
             [
              0.5555555555555556,
              "#d8576b"
             ],
             [
              0.6666666666666666,
              "#ed7953"
             ],
             [
              0.7777777777777778,
              "#fb9f3a"
             ],
             [
              0.8888888888888888,
              "#fdca26"
             ],
             [
              1,
              "#f0f921"
             ]
            ],
            "type": "surface"
           }
          ],
          "table": [
           {
            "cells": {
             "fill": {
              "color": "#EBF0F8"
             },
             "line": {
              "color": "white"
             }
            },
            "header": {
             "fill": {
              "color": "#C8D4E3"
             },
             "line": {
              "color": "white"
             }
            },
            "type": "table"
           }
          ]
         },
         "layout": {
          "annotationdefaults": {
           "arrowcolor": "#2a3f5f",
           "arrowhead": 0,
           "arrowwidth": 1
          },
          "autotypenumbers": "strict",
          "coloraxis": {
           "colorbar": {
            "outlinewidth": 0,
            "ticks": ""
           }
          },
          "colorscale": {
           "diverging": [
            [
             0,
             "#8e0152"
            ],
            [
             0.1,
             "#c51b7d"
            ],
            [
             0.2,
             "#de77ae"
            ],
            [
             0.3,
             "#f1b6da"
            ],
            [
             0.4,
             "#fde0ef"
            ],
            [
             0.5,
             "#f7f7f7"
            ],
            [
             0.6,
             "#e6f5d0"
            ],
            [
             0.7,
             "#b8e186"
            ],
            [
             0.8,
             "#7fbc41"
            ],
            [
             0.9,
             "#4d9221"
            ],
            [
             1,
             "#276419"
            ]
           ],
           "sequential": [
            [
             0,
             "#0d0887"
            ],
            [
             0.1111111111111111,
             "#46039f"
            ],
            [
             0.2222222222222222,
             "#7201a8"
            ],
            [
             0.3333333333333333,
             "#9c179e"
            ],
            [
             0.4444444444444444,
             "#bd3786"
            ],
            [
             0.5555555555555556,
             "#d8576b"
            ],
            [
             0.6666666666666666,
             "#ed7953"
            ],
            [
             0.7777777777777778,
             "#fb9f3a"
            ],
            [
             0.8888888888888888,
             "#fdca26"
            ],
            [
             1,
             "#f0f921"
            ]
           ],
           "sequentialminus": [
            [
             0,
             "#0d0887"
            ],
            [
             0.1111111111111111,
             "#46039f"
            ],
            [
             0.2222222222222222,
             "#7201a8"
            ],
            [
             0.3333333333333333,
             "#9c179e"
            ],
            [
             0.4444444444444444,
             "#bd3786"
            ],
            [
             0.5555555555555556,
             "#d8576b"
            ],
            [
             0.6666666666666666,
             "#ed7953"
            ],
            [
             0.7777777777777778,
             "#fb9f3a"
            ],
            [
             0.8888888888888888,
             "#fdca26"
            ],
            [
             1,
             "#f0f921"
            ]
           ]
          },
          "colorway": [
           "#636efa",
           "#EF553B",
           "#00cc96",
           "#ab63fa",
           "#FFA15A",
           "#19d3f3",
           "#FF6692",
           "#B6E880",
           "#FF97FF",
           "#FECB52"
          ],
          "font": {
           "color": "#2a3f5f"
          },
          "geo": {
           "bgcolor": "white",
           "lakecolor": "white",
           "landcolor": "white",
           "showlakes": true,
           "showland": true,
           "subunitcolor": "#C8D4E3"
          },
          "hoverlabel": {
           "align": "left"
          },
          "hovermode": "closest",
          "mapbox": {
           "style": "light"
          },
          "paper_bgcolor": "white",
          "plot_bgcolor": "white",
          "polar": {
           "angularaxis": {
            "gridcolor": "#EBF0F8",
            "linecolor": "#EBF0F8",
            "ticks": ""
           },
           "bgcolor": "white",
           "radialaxis": {
            "gridcolor": "#EBF0F8",
            "linecolor": "#EBF0F8",
            "ticks": ""
           }
          },
          "scene": {
           "xaxis": {
            "backgroundcolor": "white",
            "gridcolor": "#DFE8F3",
            "gridwidth": 2,
            "linecolor": "#EBF0F8",
            "showbackground": true,
            "ticks": "",
            "zerolinecolor": "#EBF0F8"
           },
           "yaxis": {
            "backgroundcolor": "white",
            "gridcolor": "#DFE8F3",
            "gridwidth": 2,
            "linecolor": "#EBF0F8",
            "showbackground": true,
            "ticks": "",
            "zerolinecolor": "#EBF0F8"
           },
           "zaxis": {
            "backgroundcolor": "white",
            "gridcolor": "#DFE8F3",
            "gridwidth": 2,
            "linecolor": "#EBF0F8",
            "showbackground": true,
            "ticks": "",
            "zerolinecolor": "#EBF0F8"
           }
          },
          "shapedefaults": {
           "line": {
            "color": "#2a3f5f"
           }
          },
          "ternary": {
           "aaxis": {
            "gridcolor": "#DFE8F3",
            "linecolor": "#A2B1C6",
            "ticks": ""
           },
           "baxis": {
            "gridcolor": "#DFE8F3",
            "linecolor": "#A2B1C6",
            "ticks": ""
           },
           "bgcolor": "white",
           "caxis": {
            "gridcolor": "#DFE8F3",
            "linecolor": "#A2B1C6",
            "ticks": ""
           }
          },
          "title": {
           "x": 0.05
          },
          "xaxis": {
           "automargin": true,
           "gridcolor": "#EBF0F8",
           "linecolor": "#EBF0F8",
           "ticks": "",
           "title": {
            "standoff": 15
           },
           "zerolinecolor": "#EBF0F8",
           "zerolinewidth": 2
          },
          "yaxis": {
           "automargin": true,
           "gridcolor": "#EBF0F8",
           "linecolor": "#EBF0F8",
           "ticks": "",
           "title": {
            "standoff": 15
           },
           "zerolinecolor": "#EBF0F8",
           "zerolinewidth": 2
          }
         }
        },
        "title": {
         "text": "SST"
        },
        "width": 525,
        "xaxis": {
         "showticklabels": false,
         "title": {
          "text": "Top 12 Models"
         }
        },
        "yaxis": {
         "exponentformat": "E",
         "title": {
          "text": "Test Loss"
         },
         "type": "log"
        }
       }
      },
      "text/html": [
       "<div>                            <div id=\"b26ffbd2-5105-4ff7-8005-c4eb3da4bdfa\" class=\"plotly-graph-div\" style=\"height:400px; width:525px;\"></div>            <script type=\"text/javascript\">                require([\"plotly\"], function(Plotly) {                    window.PLOTLYENV=window.PLOTLYENV || {};                                    if (document.getElementById(\"b26ffbd2-5105-4ff7-8005-c4eb3da4bdfa\")) {                    Plotly.newPlot(                        \"b26ffbd2-5105-4ff7-8005-c4eb3da4bdfa\",                        [{\"marker\":{\"color\":\"white\",\"line\":{\"color\":\"#5F4690\",\"width\":4},\"size\":12},\"mode\":\"markers\",\"name\":\"Encoder: LSTM\",\"showlegend\":true,\"type\":\"scatter\",\"x\":[null],\"y\":[null]},{\"marker\":{\"color\":\"white\",\"line\":{\"color\":\"#1D6996\",\"width\":4},\"size\":12},\"mode\":\"markers\",\"name\":\"Encoder: GRU\",\"showlegend\":true,\"type\":\"scatter\",\"x\":[null],\"y\":[null]},{\"marker\":{\"color\":\"white\",\"line\":{\"color\":\"#38A6A5\",\"width\":4},\"size\":12},\"mode\":\"markers\",\"name\":\"Encoder: SL-LSTM\",\"showlegend\":true,\"type\":\"scatter\",\"x\":[null],\"y\":[null]},{\"marker\":{\"color\":\"white\",\"line\":{\"color\":\"#0F8554\",\"width\":4},\"size\":12},\"mode\":\"markers\",\"name\":\"Encoder: SL-GRU\",\"showlegend\":true,\"type\":\"scatter\",\"x\":[null],\"y\":[null]},{\"marker\":{\"color\":\"white\",\"line\":{\"color\":\"#73AF48\",\"width\":4},\"size\":12},\"mode\":\"markers\",\"name\":\"Encoder: T\",\"showlegend\":true,\"type\":\"scatter\",\"x\":[null],\"y\":[null]},{\"marker\":{\"color\":\"white\",\"line\":{\"color\":\"#EDAD08\",\"width\":4},\"size\":12},\"mode\":\"markers\",\"name\":\"Encoder: SL-T\",\"showlegend\":true,\"type\":\"scatter\",\"x\":[null],\"y\":[null]},{\"marker\":{\"color\":\"white\",\"line\":{\"color\":\"#E17C05\",\"width\":4},\"size\":12},\"mode\":\"markers\",\"name\":\"Encoder: SA-T\",\"showlegend\":true,\"type\":\"scatter\",\"x\":[null],\"y\":[null]},{\"marker\":{\"color\":\"white\",\"line\":{\"color\":\"#CC503E\",\"width\":4},\"size\":12},\"mode\":\"markers\",\"name\":\"Encoder: SASL-T\",\"showlegend\":true,\"type\":\"scatter\",\"x\":[null],\"y\":[null]},{\"marker\":{\"color\":\"#66C5CC\",\"line\":{\"color\":\"white\",\"width\":4},\"size\":12},\"mode\":\"markers\",\"name\":\"Decoder: MLP\",\"showlegend\":true,\"type\":\"scatter\",\"x\":[null],\"y\":[null]},{\"marker\":{\"color\":\"#F6CF71\",\"line\":{\"color\":\"white\",\"width\":4},\"size\":12},\"mode\":\"markers\",\"name\":\"Decoder: CNN\",\"showlegend\":true,\"type\":\"scatter\",\"x\":[null],\"y\":[null]},{\"hovertemplate\":\"Encoder: sindy_loss_gru (x3)<br>Decoder: unet (x1)<br>LR: 1.00e-03<br>Test Loss: 1.92e-03<br><extra></extra>\",\"marker\":{\"color\":\"#F6CF71\",\"line\":{\"color\":\"#0F8554\",\"width\":4},\"size\":12},\"mode\":\"markers\",\"name\":\"sindy_loss_gru-unet\",\"showlegend\":false,\"type\":\"scatter\",\"x\":[1],\"y\":[0.0019162315875291824]},{\"hovertemplate\":\"Encoder: gru (x4)<br>Decoder: unet (x1)<br>LR: 1.00e-03<br>Test Loss: 1.91e-03<br><extra></extra>\",\"marker\":{\"color\":\"#F6CF71\",\"line\":{\"color\":\"#1D6996\",\"width\":4},\"size\":12},\"mode\":\"markers\",\"name\":\"gru-unet\",\"showlegend\":false,\"type\":\"scatter\",\"x\":[2],\"y\":[0.0019119050120934844]},{\"hovertemplate\":\"Encoder: gru (x3)<br>Decoder: unet (x1)<br>LR: 1.00e-03<br>Test Loss: 1.88e-03<br><extra></extra>\",\"marker\":{\"color\":\"#F6CF71\",\"line\":{\"color\":\"#1D6996\",\"width\":4},\"size\":12},\"mode\":\"markers\",\"name\":\"gru-unet\",\"showlegend\":false,\"type\":\"scatter\",\"x\":[3],\"y\":[0.0018762067193165421]},{\"hovertemplate\":\"Encoder: gru (x3)<br>Decoder: mlp (x1)<br>LR: 1.00e-03<br>Test Loss: 1.81e-03<br><extra></extra>\",\"marker\":{\"color\":\"#66C5CC\",\"line\":{\"color\":\"#1D6996\",\"width\":4},\"size\":12},\"mode\":\"markers\",\"name\":\"gru-mlp\",\"showlegend\":false,\"type\":\"scatter\",\"x\":[4],\"y\":[0.001812400878407061]},{\"hovertemplate\":\"Encoder: sindy_loss_gru (x3)<br>Decoder: mlp (x1)<br>LR: 1.00e-03<br>Test Loss: 1.78e-03<br><extra></extra>\",\"marker\":{\"color\":\"#66C5CC\",\"line\":{\"color\":\"#0F8554\",\"width\":4},\"size\":12},\"mode\":\"markers\",\"name\":\"sindy_loss_gru-mlp\",\"showlegend\":false,\"type\":\"scatter\",\"x\":[5],\"y\":[0.0017751598497852683]},{\"hovertemplate\":\"Encoder: gru (x2)<br>Decoder: unet (x1)<br>LR: 1.00e-03<br>Test Loss: 1.76e-03<br><extra></extra>\",\"marker\":{\"color\":\"#F6CF71\",\"line\":{\"color\":\"#1D6996\",\"width\":4},\"size\":12},\"mode\":\"markers\",\"name\":\"gru-unet\",\"showlegend\":false,\"type\":\"scatter\",\"x\":[6],\"y\":[0.0017636459087952971]},{\"hovertemplate\":\"Encoder: gru (x4)<br>Decoder: mlp (x1)<br>LR: 1.00e-03<br>Test Loss: 1.76e-03<br><extra></extra>\",\"marker\":{\"color\":\"#66C5CC\",\"line\":{\"color\":\"#1D6996\",\"width\":4},\"size\":12},\"mode\":\"markers\",\"name\":\"gru-mlp\",\"showlegend\":false,\"type\":\"scatter\",\"x\":[7],\"y\":[0.0017624946776777506]},{\"hovertemplate\":\"Encoder: gru (x2)<br>Decoder: mlp (x1)<br>LR: 1.00e-03<br>Test Loss: 1.72e-03<br><extra></extra>\",\"marker\":{\"color\":\"#66C5CC\",\"line\":{\"color\":\"#1D6996\",\"width\":4},\"size\":12},\"mode\":\"markers\",\"name\":\"gru-mlp\",\"showlegend\":false,\"type\":\"scatter\",\"x\":[8],\"y\":[0.0017196149565279484]},{\"hovertemplate\":\"Encoder: sindy_attention_transformer (x1)<br>Decoder: unet (x1)<br>LR: 1.00e-02<br>Test Loss: 1.69e-03<br><extra></extra>\",\"marker\":{\"color\":\"#F6CF71\",\"line\":{\"color\":\"#E17C05\",\"width\":4},\"size\":12},\"mode\":\"markers\",\"name\":\"sindy_attention_transformer-unet\",\"showlegend\":false,\"type\":\"scatter\",\"x\":[9],\"y\":[0.0016931942664086819]},{\"hovertemplate\":\"Encoder: vanilla_transformer (x1)<br>Decoder: unet (x1)<br>LR: 1.00e-02<br>Test Loss: 1.63e-03<br><extra></extra>\",\"marker\":{\"color\":\"#F6CF71\",\"line\":{\"color\":\"#73AF48\",\"width\":4},\"size\":12},\"mode\":\"markers\",\"name\":\"vanilla_transformer-unet\",\"showlegend\":false,\"type\":\"scatter\",\"x\":[10],\"y\":[0.0016343321185559034]},{\"hovertemplate\":\"Encoder: gru (x1)<br>Decoder: unet (x1)<br>LR: 1.00e-02<br>Test Loss: 1.57e-03<br><extra></extra>\",\"marker\":{\"color\":\"#F6CF71\",\"line\":{\"color\":\"#1D6996\",\"width\":4},\"size\":12},\"mode\":\"markers\",\"name\":\"gru-unet\",\"showlegend\":false,\"type\":\"scatter\",\"x\":[11],\"y\":[0.00157342036254704]},{\"hovertemplate\":\"Encoder: gru (x1)<br>Decoder: mlp (x1)<br>LR: 1.00e-02<br>Test Loss: 1.57e-03<br><extra></extra>\",\"marker\":{\"color\":\"#66C5CC\",\"line\":{\"color\":\"#1D6996\",\"width\":4},\"size\":12},\"mode\":\"markers\",\"name\":\"gru-mlp\",\"showlegend\":false,\"type\":\"scatter\",\"x\":[12],\"y\":[0.0015706232516095042]}],                        {\"height\":400,\"hovermode\":\"closest\",\"legend\":{\"title\":{\"text\":\"Legend\"}},\"showlegend\":true,\"template\":{\"data\":{\"bar\":[{\"error_x\":{\"color\":\"#2a3f5f\"},\"error_y\":{\"color\":\"#2a3f5f\"},\"marker\":{\"line\":{\"color\":\"white\",\"width\":0.5},\"pattern\":{\"fillmode\":\"overlay\",\"size\":10,\"solidity\":0.2}},\"type\":\"bar\"}],\"barpolar\":[{\"marker\":{\"line\":{\"color\":\"white\",\"width\":0.5},\"pattern\":{\"fillmode\":\"overlay\",\"size\":10,\"solidity\":0.2}},\"type\":\"barpolar\"}],\"carpet\":[{\"aaxis\":{\"endlinecolor\":\"#2a3f5f\",\"gridcolor\":\"#C8D4E3\",\"linecolor\":\"#C8D4E3\",\"minorgridcolor\":\"#C8D4E3\",\"startlinecolor\":\"#2a3f5f\"},\"baxis\":{\"endlinecolor\":\"#2a3f5f\",\"gridcolor\":\"#C8D4E3\",\"linecolor\":\"#C8D4E3\",\"minorgridcolor\":\"#C8D4E3\",\"startlinecolor\":\"#2a3f5f\"},\"type\":\"carpet\"}],\"choropleth\":[{\"colorbar\":{\"outlinewidth\":0,\"ticks\":\"\"},\"type\":\"choropleth\"}],\"contour\":[{\"colorbar\":{\"outlinewidth\":0,\"ticks\":\"\"},\"colorscale\":[[0.0,\"#0d0887\"],[0.1111111111111111,\"#46039f\"],[0.2222222222222222,\"#7201a8\"],[0.3333333333333333,\"#9c179e\"],[0.4444444444444444,\"#bd3786\"],[0.5555555555555556,\"#d8576b\"],[0.6666666666666666,\"#ed7953\"],[0.7777777777777778,\"#fb9f3a\"],[0.8888888888888888,\"#fdca26\"],[1.0,\"#f0f921\"]],\"type\":\"contour\"}],\"contourcarpet\":[{\"colorbar\":{\"outlinewidth\":0,\"ticks\":\"\"},\"type\":\"contourcarpet\"}],\"heatmap\":[{\"colorbar\":{\"outlinewidth\":0,\"ticks\":\"\"},\"colorscale\":[[0.0,\"#0d0887\"],[0.1111111111111111,\"#46039f\"],[0.2222222222222222,\"#7201a8\"],[0.3333333333333333,\"#9c179e\"],[0.4444444444444444,\"#bd3786\"],[0.5555555555555556,\"#d8576b\"],[0.6666666666666666,\"#ed7953\"],[0.7777777777777778,\"#fb9f3a\"],[0.8888888888888888,\"#fdca26\"],[1.0,\"#f0f921\"]],\"type\":\"heatmap\"}],\"heatmapgl\":[{\"colorbar\":{\"outlinewidth\":0,\"ticks\":\"\"},\"colorscale\":[[0.0,\"#0d0887\"],[0.1111111111111111,\"#46039f\"],[0.2222222222222222,\"#7201a8\"],[0.3333333333333333,\"#9c179e\"],[0.4444444444444444,\"#bd3786\"],[0.5555555555555556,\"#d8576b\"],[0.6666666666666666,\"#ed7953\"],[0.7777777777777778,\"#fb9f3a\"],[0.8888888888888888,\"#fdca26\"],[1.0,\"#f0f921\"]],\"type\":\"heatmapgl\"}],\"histogram\":[{\"marker\":{\"pattern\":{\"fillmode\":\"overlay\",\"size\":10,\"solidity\":0.2}},\"type\":\"histogram\"}],\"histogram2d\":[{\"colorbar\":{\"outlinewidth\":0,\"ticks\":\"\"},\"colorscale\":[[0.0,\"#0d0887\"],[0.1111111111111111,\"#46039f\"],[0.2222222222222222,\"#7201a8\"],[0.3333333333333333,\"#9c179e\"],[0.4444444444444444,\"#bd3786\"],[0.5555555555555556,\"#d8576b\"],[0.6666666666666666,\"#ed7953\"],[0.7777777777777778,\"#fb9f3a\"],[0.8888888888888888,\"#fdca26\"],[1.0,\"#f0f921\"]],\"type\":\"histogram2d\"}],\"histogram2dcontour\":[{\"colorbar\":{\"outlinewidth\":0,\"ticks\":\"\"},\"colorscale\":[[0.0,\"#0d0887\"],[0.1111111111111111,\"#46039f\"],[0.2222222222222222,\"#7201a8\"],[0.3333333333333333,\"#9c179e\"],[0.4444444444444444,\"#bd3786\"],[0.5555555555555556,\"#d8576b\"],[0.6666666666666666,\"#ed7953\"],[0.7777777777777778,\"#fb9f3a\"],[0.8888888888888888,\"#fdca26\"],[1.0,\"#f0f921\"]],\"type\":\"histogram2dcontour\"}],\"mesh3d\":[{\"colorbar\":{\"outlinewidth\":0,\"ticks\":\"\"},\"type\":\"mesh3d\"}],\"parcoords\":[{\"line\":{\"colorbar\":{\"outlinewidth\":0,\"ticks\":\"\"}},\"type\":\"parcoords\"}],\"pie\":[{\"automargin\":true,\"type\":\"pie\"}],\"scatter\":[{\"marker\":{\"colorbar\":{\"outlinewidth\":0,\"ticks\":\"\"}},\"type\":\"scatter\"}],\"scatter3d\":[{\"line\":{\"colorbar\":{\"outlinewidth\":0,\"ticks\":\"\"}},\"marker\":{\"colorbar\":{\"outlinewidth\":0,\"ticks\":\"\"}},\"type\":\"scatter3d\"}],\"scattercarpet\":[{\"marker\":{\"colorbar\":{\"outlinewidth\":0,\"ticks\":\"\"}},\"type\":\"scattercarpet\"}],\"scattergeo\":[{\"marker\":{\"colorbar\":{\"outlinewidth\":0,\"ticks\":\"\"}},\"type\":\"scattergeo\"}],\"scattergl\":[{\"marker\":{\"colorbar\":{\"outlinewidth\":0,\"ticks\":\"\"}},\"type\":\"scattergl\"}],\"scattermapbox\":[{\"marker\":{\"colorbar\":{\"outlinewidth\":0,\"ticks\":\"\"}},\"type\":\"scattermapbox\"}],\"scatterpolar\":[{\"marker\":{\"colorbar\":{\"outlinewidth\":0,\"ticks\":\"\"}},\"type\":\"scatterpolar\"}],\"scatterpolargl\":[{\"marker\":{\"colorbar\":{\"outlinewidth\":0,\"ticks\":\"\"}},\"type\":\"scatterpolargl\"}],\"scatterternary\":[{\"marker\":{\"colorbar\":{\"outlinewidth\":0,\"ticks\":\"\"}},\"type\":\"scatterternary\"}],\"surface\":[{\"colorbar\":{\"outlinewidth\":0,\"ticks\":\"\"},\"colorscale\":[[0.0,\"#0d0887\"],[0.1111111111111111,\"#46039f\"],[0.2222222222222222,\"#7201a8\"],[0.3333333333333333,\"#9c179e\"],[0.4444444444444444,\"#bd3786\"],[0.5555555555555556,\"#d8576b\"],[0.6666666666666666,\"#ed7953\"],[0.7777777777777778,\"#fb9f3a\"],[0.8888888888888888,\"#fdca26\"],[1.0,\"#f0f921\"]],\"type\":\"surface\"}],\"table\":[{\"cells\":{\"fill\":{\"color\":\"#EBF0F8\"},\"line\":{\"color\":\"white\"}},\"header\":{\"fill\":{\"color\":\"#C8D4E3\"},\"line\":{\"color\":\"white\"}},\"type\":\"table\"}]},\"layout\":{\"annotationdefaults\":{\"arrowcolor\":\"#2a3f5f\",\"arrowhead\":0,\"arrowwidth\":1},\"autotypenumbers\":\"strict\",\"coloraxis\":{\"colorbar\":{\"outlinewidth\":0,\"ticks\":\"\"}},\"colorscale\":{\"diverging\":[[0,\"#8e0152\"],[0.1,\"#c51b7d\"],[0.2,\"#de77ae\"],[0.3,\"#f1b6da\"],[0.4,\"#fde0ef\"],[0.5,\"#f7f7f7\"],[0.6,\"#e6f5d0\"],[0.7,\"#b8e186\"],[0.8,\"#7fbc41\"],[0.9,\"#4d9221\"],[1,\"#276419\"]],\"sequential\":[[0.0,\"#0d0887\"],[0.1111111111111111,\"#46039f\"],[0.2222222222222222,\"#7201a8\"],[0.3333333333333333,\"#9c179e\"],[0.4444444444444444,\"#bd3786\"],[0.5555555555555556,\"#d8576b\"],[0.6666666666666666,\"#ed7953\"],[0.7777777777777778,\"#fb9f3a\"],[0.8888888888888888,\"#fdca26\"],[1.0,\"#f0f921\"]],\"sequentialminus\":[[0.0,\"#0d0887\"],[0.1111111111111111,\"#46039f\"],[0.2222222222222222,\"#7201a8\"],[0.3333333333333333,\"#9c179e\"],[0.4444444444444444,\"#bd3786\"],[0.5555555555555556,\"#d8576b\"],[0.6666666666666666,\"#ed7953\"],[0.7777777777777778,\"#fb9f3a\"],[0.8888888888888888,\"#fdca26\"],[1.0,\"#f0f921\"]]},\"colorway\":[\"#636efa\",\"#EF553B\",\"#00cc96\",\"#ab63fa\",\"#FFA15A\",\"#19d3f3\",\"#FF6692\",\"#B6E880\",\"#FF97FF\",\"#FECB52\"],\"font\":{\"color\":\"#2a3f5f\"},\"geo\":{\"bgcolor\":\"white\",\"lakecolor\":\"white\",\"landcolor\":\"white\",\"showlakes\":true,\"showland\":true,\"subunitcolor\":\"#C8D4E3\"},\"hoverlabel\":{\"align\":\"left\"},\"hovermode\":\"closest\",\"mapbox\":{\"style\":\"light\"},\"paper_bgcolor\":\"white\",\"plot_bgcolor\":\"white\",\"polar\":{\"angularaxis\":{\"gridcolor\":\"#EBF0F8\",\"linecolor\":\"#EBF0F8\",\"ticks\":\"\"},\"bgcolor\":\"white\",\"radialaxis\":{\"gridcolor\":\"#EBF0F8\",\"linecolor\":\"#EBF0F8\",\"ticks\":\"\"}},\"scene\":{\"xaxis\":{\"backgroundcolor\":\"white\",\"gridcolor\":\"#DFE8F3\",\"gridwidth\":2,\"linecolor\":\"#EBF0F8\",\"showbackground\":true,\"ticks\":\"\",\"zerolinecolor\":\"#EBF0F8\"},\"yaxis\":{\"backgroundcolor\":\"white\",\"gridcolor\":\"#DFE8F3\",\"gridwidth\":2,\"linecolor\":\"#EBF0F8\",\"showbackground\":true,\"ticks\":\"\",\"zerolinecolor\":\"#EBF0F8\"},\"zaxis\":{\"backgroundcolor\":\"white\",\"gridcolor\":\"#DFE8F3\",\"gridwidth\":2,\"linecolor\":\"#EBF0F8\",\"showbackground\":true,\"ticks\":\"\",\"zerolinecolor\":\"#EBF0F8\"}},\"shapedefaults\":{\"line\":{\"color\":\"#2a3f5f\"}},\"ternary\":{\"aaxis\":{\"gridcolor\":\"#DFE8F3\",\"linecolor\":\"#A2B1C6\",\"ticks\":\"\"},\"baxis\":{\"gridcolor\":\"#DFE8F3\",\"linecolor\":\"#A2B1C6\",\"ticks\":\"\"},\"bgcolor\":\"white\",\"caxis\":{\"gridcolor\":\"#DFE8F3\",\"linecolor\":\"#A2B1C6\",\"ticks\":\"\"}},\"title\":{\"x\":0.05},\"xaxis\":{\"automargin\":true,\"gridcolor\":\"#EBF0F8\",\"linecolor\":\"#EBF0F8\",\"ticks\":\"\",\"title\":{\"standoff\":15},\"zerolinecolor\":\"#EBF0F8\",\"zerolinewidth\":2},\"yaxis\":{\"automargin\":true,\"gridcolor\":\"#EBF0F8\",\"linecolor\":\"#EBF0F8\",\"ticks\":\"\",\"title\":{\"standoff\":15},\"zerolinecolor\":\"#EBF0F8\",\"zerolinewidth\":2}}},\"title\":{\"text\":\"SST\"},\"width\":525,\"xaxis\":{\"showticklabels\":false,\"title\":{\"text\":\"Top 12 Models\"}},\"yaxis\":{\"exponentformat\":\"E\",\"title\":{\"text\":\"Test Loss\"},\"type\":\"log\"}},                        {\"responsive\": true}                    ).then(function(){\n",
       "                            \n",
       "var gd = document.getElementById('b26ffbd2-5105-4ff7-8005-c4eb3da4bdfa');\n",
       "var x = new MutationObserver(function (mutations, observer) {{\n",
       "        var display = window.getComputedStyle(gd).display;\n",
       "        if (!display || display === 'none') {{\n",
       "            console.log([gd, 'removed!']);\n",
       "            Plotly.purge(gd);\n",
       "            observer.disconnect();\n",
       "        }}\n",
       "}});\n",
       "\n",
       "// Listen for the removal of the full notebook cells\n",
       "var notebookContainer = gd.closest('#notebook-container');\n",
       "if (notebookContainer) {{\n",
       "    x.observe(notebookContainer, {childList: true});\n",
       "}}\n",
       "\n",
       "// Listen for the clearing of the current output cell\n",
       "var outputEl = gd.closest('.output');\n",
       "if (outputEl) {{\n",
       "    x.observe(outputEl, {childList: true});\n",
       "}}\n",
       "\n",
       "                        })                };                });            </script>        </div>"
      ]
     },
     "metadata": {},
     "output_type": "display_data"
    },
    {
     "name": "stdout",
     "output_type": "stream",
     "text": [
      "Saved /home/alexey/Research4/T-SHRED/figures/plasma_scatter.pdf\n"
     ]
    },
    {
     "data": {
      "application/vnd.plotly.v1+json": {
       "config": {
        "plotlyServerURL": "https://plot.ly"
       },
       "data": [
        {
         "marker": {
          "color": "white",
          "line": {
           "color": "#5F4690",
           "width": 4
          },
          "size": 12
         },
         "mode": "markers",
         "name": "Encoder: LSTM",
         "showlegend": true,
         "type": "scatter",
         "x": [
          null
         ],
         "y": [
          null
         ]
        },
        {
         "marker": {
          "color": "white",
          "line": {
           "color": "#1D6996",
           "width": 4
          },
          "size": 12
         },
         "mode": "markers",
         "name": "Encoder: GRU",
         "showlegend": true,
         "type": "scatter",
         "x": [
          null
         ],
         "y": [
          null
         ]
        },
        {
         "marker": {
          "color": "white",
          "line": {
           "color": "#38A6A5",
           "width": 4
          },
          "size": 12
         },
         "mode": "markers",
         "name": "Encoder: SL-LSTM",
         "showlegend": true,
         "type": "scatter",
         "x": [
          null
         ],
         "y": [
          null
         ]
        },
        {
         "marker": {
          "color": "white",
          "line": {
           "color": "#0F8554",
           "width": 4
          },
          "size": 12
         },
         "mode": "markers",
         "name": "Encoder: SL-GRU",
         "showlegend": true,
         "type": "scatter",
         "x": [
          null
         ],
         "y": [
          null
         ]
        },
        {
         "marker": {
          "color": "white",
          "line": {
           "color": "#73AF48",
           "width": 4
          },
          "size": 12
         },
         "mode": "markers",
         "name": "Encoder: T",
         "showlegend": true,
         "type": "scatter",
         "x": [
          null
         ],
         "y": [
          null
         ]
        },
        {
         "marker": {
          "color": "white",
          "line": {
           "color": "#EDAD08",
           "width": 4
          },
          "size": 12
         },
         "mode": "markers",
         "name": "Encoder: SL-T",
         "showlegend": true,
         "type": "scatter",
         "x": [
          null
         ],
         "y": [
          null
         ]
        },
        {
         "marker": {
          "color": "white",
          "line": {
           "color": "#E17C05",
           "width": 4
          },
          "size": 12
         },
         "mode": "markers",
         "name": "Encoder: SA-T",
         "showlegend": true,
         "type": "scatter",
         "x": [
          null
         ],
         "y": [
          null
         ]
        },
        {
         "marker": {
          "color": "white",
          "line": {
           "color": "#CC503E",
           "width": 4
          },
          "size": 12
         },
         "mode": "markers",
         "name": "Encoder: SASL-T",
         "showlegend": true,
         "type": "scatter",
         "x": [
          null
         ],
         "y": [
          null
         ]
        },
        {
         "marker": {
          "color": "#66C5CC",
          "line": {
           "color": "white",
           "width": 4
          },
          "size": 12
         },
         "mode": "markers",
         "name": "Decoder: MLP",
         "showlegend": true,
         "type": "scatter",
         "x": [
          null
         ],
         "y": [
          null
         ]
        },
        {
         "marker": {
          "color": "#F6CF71",
          "line": {
           "color": "white",
           "width": 4
          },
          "size": 12
         },
         "mode": "markers",
         "name": "Decoder: CNN",
         "showlegend": true,
         "type": "scatter",
         "x": [
          null
         ],
         "y": [
          null
         ]
        },
        {
         "hovertemplate": "Encoder: gru (x3)<br>Decoder: unet (x1)<br>LR: 1.00e-03<br>Test Loss: 1.14e-03<br><extra></extra>",
         "marker": {
          "color": "#F6CF71",
          "line": {
           "color": "#1D6996",
           "width": 4
          },
          "size": 12
         },
         "mode": "markers",
         "name": "gru-unet",
         "showlegend": false,
         "type": "scatter",
         "x": [
          1
         ],
         "y": [
          0.001136694241162891
         ]
        },
        {
         "hovertemplate": "Encoder: gru (x2)<br>Decoder: mlp (x1)<br>LR: 1.00e-02<br>Test Loss: 1.13e-03<br><extra></extra>",
         "marker": {
          "color": "#66C5CC",
          "line": {
           "color": "#1D6996",
           "width": 4
          },
          "size": 12
         },
         "mode": "markers",
         "name": "gru-mlp",
         "showlegend": false,
         "type": "scatter",
         "x": [
          2
         ],
         "y": [
          0.001129190538799426
         ]
        },
        {
         "hovertemplate": "Encoder: gru (x1)<br>Decoder: mlp (x1)<br>LR: 1.00e-02<br>Test Loss: 1.13e-03<br><extra></extra>",
         "marker": {
          "color": "#66C5CC",
          "line": {
           "color": "#1D6996",
           "width": 4
          },
          "size": 12
         },
         "mode": "markers",
         "name": "gru-mlp",
         "showlegend": false,
         "type": "scatter",
         "x": [
          3
         ],
         "y": [
          0.001127227822927615
         ]
        },
        {
         "hovertemplate": "Encoder: sindy_loss_gru (x4)<br>Decoder: mlp (x1)<br>LR: 1.00e-02<br>Test Loss: 1.12e-03<br><extra></extra>",
         "marker": {
          "color": "#66C5CC",
          "line": {
           "color": "#0F8554",
           "width": 4
          },
          "size": 12
         },
         "mode": "markers",
         "name": "sindy_loss_gru-mlp",
         "showlegend": false,
         "type": "scatter",
         "x": [
          4
         ],
         "y": [
          0.0011227298371243076
         ]
        },
        {
         "hovertemplate": "Encoder: sindy_loss_gru (x2)<br>Decoder: mlp (x1)<br>LR: 1.00e-02<br>Test Loss: 1.12e-03<br><extra></extra>",
         "marker": {
          "color": "#66C5CC",
          "line": {
           "color": "#0F8554",
           "width": 4
          },
          "size": 12
         },
         "mode": "markers",
         "name": "sindy_loss_gru-mlp",
         "showlegend": false,
         "type": "scatter",
         "x": [
          5
         ],
         "y": [
          0.00112063845153898
         ]
        },
        {
         "hovertemplate": "Encoder: gru (x1)<br>Decoder: unet (x1)<br>LR: 1.00e-03<br>Test Loss: 1.10e-03<br><extra></extra>",
         "marker": {
          "color": "#F6CF71",
          "line": {
           "color": "#1D6996",
           "width": 4
          },
          "size": 12
         },
         "mode": "markers",
         "name": "gru-unet",
         "showlegend": false,
         "type": "scatter",
         "x": [
          6
         ],
         "y": [
          0.0010978334164694669
         ]
        },
        {
         "hovertemplate": "Encoder: lstm (x1)<br>Decoder: mlp (x1)<br>LR: 1.00e-03<br>Test Loss: 1.09e-03<br><extra></extra>",
         "marker": {
          "color": "#66C5CC",
          "line": {
           "color": "#5F4690",
           "width": 4
          },
          "size": 12
         },
         "mode": "markers",
         "name": "lstm-mlp",
         "showlegend": false,
         "type": "scatter",
         "x": [
          7
         ],
         "y": [
          0.0010934915928653656
         ]
        },
        {
         "hovertemplate": "Encoder: gru (x2)<br>Decoder: unet (x1)<br>LR: 1.00e-03<br>Test Loss: 1.08e-03<br><extra></extra>",
         "marker": {
          "color": "#F6CF71",
          "line": {
           "color": "#1D6996",
           "width": 4
          },
          "size": 12
         },
         "mode": "markers",
         "name": "gru-unet",
         "showlegend": false,
         "type": "scatter",
         "x": [
          8
         ],
         "y": [
          0.0010836193491391337
         ]
        },
        {
         "hovertemplate": "Encoder: sindy_loss_lstm (x1)<br>Decoder: mlp (x1)<br>LR: 1.00e-02<br>Test Loss: 1.07e-03<br><extra></extra>",
         "marker": {
          "color": "#66C5CC",
          "line": {
           "color": "#38A6A5",
           "width": 4
          },
          "size": 12
         },
         "mode": "markers",
         "name": "sindy_loss_lstm-mlp",
         "showlegend": false,
         "type": "scatter",
         "x": [
          9
         ],
         "y": [
          0.0010747108518934022
         ]
        },
        {
         "hovertemplate": "Encoder: gru (x1)<br>Decoder: unet (x1)<br>LR: 1.00e-02<br>Test Loss: 1.06e-03<br><extra></extra>",
         "marker": {
          "color": "#F6CF71",
          "line": {
           "color": "#1D6996",
           "width": 4
          },
          "size": 12
         },
         "mode": "markers",
         "name": "gru-unet",
         "showlegend": false,
         "type": "scatter",
         "x": [
          10
         ],
         "y": [
          0.001064377586142375
         ]
        },
        {
         "hovertemplate": "Encoder: lstm (x1)<br>Decoder: unet (x1)<br>LR: 1.00e-02<br>Test Loss: 1.06e-03<br><extra></extra>",
         "marker": {
          "color": "#F6CF71",
          "line": {
           "color": "#5F4690",
           "width": 4
          },
          "size": 12
         },
         "mode": "markers",
         "name": "lstm-unet",
         "showlegend": false,
         "type": "scatter",
         "x": [
          11
         ],
         "y": [
          0.0010630676798218002
         ]
        },
        {
         "hovertemplate": "Encoder: lstm (x3)<br>Decoder: mlp (x1)<br>LR: 1.00e-02<br>Test Loss: 9.91e-04<br><extra></extra>",
         "marker": {
          "color": "#66C5CC",
          "line": {
           "color": "#5F4690",
           "width": 4
          },
          "size": 12
         },
         "mode": "markers",
         "name": "lstm-mlp",
         "showlegend": false,
         "type": "scatter",
         "x": [
          12
         ],
         "y": [
          0.0009910279180845604
         ]
        }
       ],
       "layout": {
        "height": 400,
        "hovermode": "closest",
        "legend": {
         "title": {
          "text": "Legend"
         }
        },
        "showlegend": true,
        "template": {
         "data": {
          "bar": [
           {
            "error_x": {
             "color": "#2a3f5f"
            },
            "error_y": {
             "color": "#2a3f5f"
            },
            "marker": {
             "line": {
              "color": "white",
              "width": 0.5
             },
             "pattern": {
              "fillmode": "overlay",
              "size": 10,
              "solidity": 0.2
             }
            },
            "type": "bar"
           }
          ],
          "barpolar": [
           {
            "marker": {
             "line": {
              "color": "white",
              "width": 0.5
             },
             "pattern": {
              "fillmode": "overlay",
              "size": 10,
              "solidity": 0.2
             }
            },
            "type": "barpolar"
           }
          ],
          "carpet": [
           {
            "aaxis": {
             "endlinecolor": "#2a3f5f",
             "gridcolor": "#C8D4E3",
             "linecolor": "#C8D4E3",
             "minorgridcolor": "#C8D4E3",
             "startlinecolor": "#2a3f5f"
            },
            "baxis": {
             "endlinecolor": "#2a3f5f",
             "gridcolor": "#C8D4E3",
             "linecolor": "#C8D4E3",
             "minorgridcolor": "#C8D4E3",
             "startlinecolor": "#2a3f5f"
            },
            "type": "carpet"
           }
          ],
          "choropleth": [
           {
            "colorbar": {
             "outlinewidth": 0,
             "ticks": ""
            },
            "type": "choropleth"
           }
          ],
          "contour": [
           {
            "colorbar": {
             "outlinewidth": 0,
             "ticks": ""
            },
            "colorscale": [
             [
              0,
              "#0d0887"
             ],
             [
              0.1111111111111111,
              "#46039f"
             ],
             [
              0.2222222222222222,
              "#7201a8"
             ],
             [
              0.3333333333333333,
              "#9c179e"
             ],
             [
              0.4444444444444444,
              "#bd3786"
             ],
             [
              0.5555555555555556,
              "#d8576b"
             ],
             [
              0.6666666666666666,
              "#ed7953"
             ],
             [
              0.7777777777777778,
              "#fb9f3a"
             ],
             [
              0.8888888888888888,
              "#fdca26"
             ],
             [
              1,
              "#f0f921"
             ]
            ],
            "type": "contour"
           }
          ],
          "contourcarpet": [
           {
            "colorbar": {
             "outlinewidth": 0,
             "ticks": ""
            },
            "type": "contourcarpet"
           }
          ],
          "heatmap": [
           {
            "colorbar": {
             "outlinewidth": 0,
             "ticks": ""
            },
            "colorscale": [
             [
              0,
              "#0d0887"
             ],
             [
              0.1111111111111111,
              "#46039f"
             ],
             [
              0.2222222222222222,
              "#7201a8"
             ],
             [
              0.3333333333333333,
              "#9c179e"
             ],
             [
              0.4444444444444444,
              "#bd3786"
             ],
             [
              0.5555555555555556,
              "#d8576b"
             ],
             [
              0.6666666666666666,
              "#ed7953"
             ],
             [
              0.7777777777777778,
              "#fb9f3a"
             ],
             [
              0.8888888888888888,
              "#fdca26"
             ],
             [
              1,
              "#f0f921"
             ]
            ],
            "type": "heatmap"
           }
          ],
          "heatmapgl": [
           {
            "colorbar": {
             "outlinewidth": 0,
             "ticks": ""
            },
            "colorscale": [
             [
              0,
              "#0d0887"
             ],
             [
              0.1111111111111111,
              "#46039f"
             ],
             [
              0.2222222222222222,
              "#7201a8"
             ],
             [
              0.3333333333333333,
              "#9c179e"
             ],
             [
              0.4444444444444444,
              "#bd3786"
             ],
             [
              0.5555555555555556,
              "#d8576b"
             ],
             [
              0.6666666666666666,
              "#ed7953"
             ],
             [
              0.7777777777777778,
              "#fb9f3a"
             ],
             [
              0.8888888888888888,
              "#fdca26"
             ],
             [
              1,
              "#f0f921"
             ]
            ],
            "type": "heatmapgl"
           }
          ],
          "histogram": [
           {
            "marker": {
             "pattern": {
              "fillmode": "overlay",
              "size": 10,
              "solidity": 0.2
             }
            },
            "type": "histogram"
           }
          ],
          "histogram2d": [
           {
            "colorbar": {
             "outlinewidth": 0,
             "ticks": ""
            },
            "colorscale": [
             [
              0,
              "#0d0887"
             ],
             [
              0.1111111111111111,
              "#46039f"
             ],
             [
              0.2222222222222222,
              "#7201a8"
             ],
             [
              0.3333333333333333,
              "#9c179e"
             ],
             [
              0.4444444444444444,
              "#bd3786"
             ],
             [
              0.5555555555555556,
              "#d8576b"
             ],
             [
              0.6666666666666666,
              "#ed7953"
             ],
             [
              0.7777777777777778,
              "#fb9f3a"
             ],
             [
              0.8888888888888888,
              "#fdca26"
             ],
             [
              1,
              "#f0f921"
             ]
            ],
            "type": "histogram2d"
           }
          ],
          "histogram2dcontour": [
           {
            "colorbar": {
             "outlinewidth": 0,
             "ticks": ""
            },
            "colorscale": [
             [
              0,
              "#0d0887"
             ],
             [
              0.1111111111111111,
              "#46039f"
             ],
             [
              0.2222222222222222,
              "#7201a8"
             ],
             [
              0.3333333333333333,
              "#9c179e"
             ],
             [
              0.4444444444444444,
              "#bd3786"
             ],
             [
              0.5555555555555556,
              "#d8576b"
             ],
             [
              0.6666666666666666,
              "#ed7953"
             ],
             [
              0.7777777777777778,
              "#fb9f3a"
             ],
             [
              0.8888888888888888,
              "#fdca26"
             ],
             [
              1,
              "#f0f921"
             ]
            ],
            "type": "histogram2dcontour"
           }
          ],
          "mesh3d": [
           {
            "colorbar": {
             "outlinewidth": 0,
             "ticks": ""
            },
            "type": "mesh3d"
           }
          ],
          "parcoords": [
           {
            "line": {
             "colorbar": {
              "outlinewidth": 0,
              "ticks": ""
             }
            },
            "type": "parcoords"
           }
          ],
          "pie": [
           {
            "automargin": true,
            "type": "pie"
           }
          ],
          "scatter": [
           {
            "marker": {
             "colorbar": {
              "outlinewidth": 0,
              "ticks": ""
             }
            },
            "type": "scatter"
           }
          ],
          "scatter3d": [
           {
            "line": {
             "colorbar": {
              "outlinewidth": 0,
              "ticks": ""
             }
            },
            "marker": {
             "colorbar": {
              "outlinewidth": 0,
              "ticks": ""
             }
            },
            "type": "scatter3d"
           }
          ],
          "scattercarpet": [
           {
            "marker": {
             "colorbar": {
              "outlinewidth": 0,
              "ticks": ""
             }
            },
            "type": "scattercarpet"
           }
          ],
          "scattergeo": [
           {
            "marker": {
             "colorbar": {
              "outlinewidth": 0,
              "ticks": ""
             }
            },
            "type": "scattergeo"
           }
          ],
          "scattergl": [
           {
            "marker": {
             "colorbar": {
              "outlinewidth": 0,
              "ticks": ""
             }
            },
            "type": "scattergl"
           }
          ],
          "scattermapbox": [
           {
            "marker": {
             "colorbar": {
              "outlinewidth": 0,
              "ticks": ""
             }
            },
            "type": "scattermapbox"
           }
          ],
          "scatterpolar": [
           {
            "marker": {
             "colorbar": {
              "outlinewidth": 0,
              "ticks": ""
             }
            },
            "type": "scatterpolar"
           }
          ],
          "scatterpolargl": [
           {
            "marker": {
             "colorbar": {
              "outlinewidth": 0,
              "ticks": ""
             }
            },
            "type": "scatterpolargl"
           }
          ],
          "scatterternary": [
           {
            "marker": {
             "colorbar": {
              "outlinewidth": 0,
              "ticks": ""
             }
            },
            "type": "scatterternary"
           }
          ],
          "surface": [
           {
            "colorbar": {
             "outlinewidth": 0,
             "ticks": ""
            },
            "colorscale": [
             [
              0,
              "#0d0887"
             ],
             [
              0.1111111111111111,
              "#46039f"
             ],
             [
              0.2222222222222222,
              "#7201a8"
             ],
             [
              0.3333333333333333,
              "#9c179e"
             ],
             [
              0.4444444444444444,
              "#bd3786"
             ],
             [
              0.5555555555555556,
              "#d8576b"
             ],
             [
              0.6666666666666666,
              "#ed7953"
             ],
             [
              0.7777777777777778,
              "#fb9f3a"
             ],
             [
              0.8888888888888888,
              "#fdca26"
             ],
             [
              1,
              "#f0f921"
             ]
            ],
            "type": "surface"
           }
          ],
          "table": [
           {
            "cells": {
             "fill": {
              "color": "#EBF0F8"
             },
             "line": {
              "color": "white"
             }
            },
            "header": {
             "fill": {
              "color": "#C8D4E3"
             },
             "line": {
              "color": "white"
             }
            },
            "type": "table"
           }
          ]
         },
         "layout": {
          "annotationdefaults": {
           "arrowcolor": "#2a3f5f",
           "arrowhead": 0,
           "arrowwidth": 1
          },
          "autotypenumbers": "strict",
          "coloraxis": {
           "colorbar": {
            "outlinewidth": 0,
            "ticks": ""
           }
          },
          "colorscale": {
           "diverging": [
            [
             0,
             "#8e0152"
            ],
            [
             0.1,
             "#c51b7d"
            ],
            [
             0.2,
             "#de77ae"
            ],
            [
             0.3,
             "#f1b6da"
            ],
            [
             0.4,
             "#fde0ef"
            ],
            [
             0.5,
             "#f7f7f7"
            ],
            [
             0.6,
             "#e6f5d0"
            ],
            [
             0.7,
             "#b8e186"
            ],
            [
             0.8,
             "#7fbc41"
            ],
            [
             0.9,
             "#4d9221"
            ],
            [
             1,
             "#276419"
            ]
           ],
           "sequential": [
            [
             0,
             "#0d0887"
            ],
            [
             0.1111111111111111,
             "#46039f"
            ],
            [
             0.2222222222222222,
             "#7201a8"
            ],
            [
             0.3333333333333333,
             "#9c179e"
            ],
            [
             0.4444444444444444,
             "#bd3786"
            ],
            [
             0.5555555555555556,
             "#d8576b"
            ],
            [
             0.6666666666666666,
             "#ed7953"
            ],
            [
             0.7777777777777778,
             "#fb9f3a"
            ],
            [
             0.8888888888888888,
             "#fdca26"
            ],
            [
             1,
             "#f0f921"
            ]
           ],
           "sequentialminus": [
            [
             0,
             "#0d0887"
            ],
            [
             0.1111111111111111,
             "#46039f"
            ],
            [
             0.2222222222222222,
             "#7201a8"
            ],
            [
             0.3333333333333333,
             "#9c179e"
            ],
            [
             0.4444444444444444,
             "#bd3786"
            ],
            [
             0.5555555555555556,
             "#d8576b"
            ],
            [
             0.6666666666666666,
             "#ed7953"
            ],
            [
             0.7777777777777778,
             "#fb9f3a"
            ],
            [
             0.8888888888888888,
             "#fdca26"
            ],
            [
             1,
             "#f0f921"
            ]
           ]
          },
          "colorway": [
           "#636efa",
           "#EF553B",
           "#00cc96",
           "#ab63fa",
           "#FFA15A",
           "#19d3f3",
           "#FF6692",
           "#B6E880",
           "#FF97FF",
           "#FECB52"
          ],
          "font": {
           "color": "#2a3f5f"
          },
          "geo": {
           "bgcolor": "white",
           "lakecolor": "white",
           "landcolor": "white",
           "showlakes": true,
           "showland": true,
           "subunitcolor": "#C8D4E3"
          },
          "hoverlabel": {
           "align": "left"
          },
          "hovermode": "closest",
          "mapbox": {
           "style": "light"
          },
          "paper_bgcolor": "white",
          "plot_bgcolor": "white",
          "polar": {
           "angularaxis": {
            "gridcolor": "#EBF0F8",
            "linecolor": "#EBF0F8",
            "ticks": ""
           },
           "bgcolor": "white",
           "radialaxis": {
            "gridcolor": "#EBF0F8",
            "linecolor": "#EBF0F8",
            "ticks": ""
           }
          },
          "scene": {
           "xaxis": {
            "backgroundcolor": "white",
            "gridcolor": "#DFE8F3",
            "gridwidth": 2,
            "linecolor": "#EBF0F8",
            "showbackground": true,
            "ticks": "",
            "zerolinecolor": "#EBF0F8"
           },
           "yaxis": {
            "backgroundcolor": "white",
            "gridcolor": "#DFE8F3",
            "gridwidth": 2,
            "linecolor": "#EBF0F8",
            "showbackground": true,
            "ticks": "",
            "zerolinecolor": "#EBF0F8"
           },
           "zaxis": {
            "backgroundcolor": "white",
            "gridcolor": "#DFE8F3",
            "gridwidth": 2,
            "linecolor": "#EBF0F8",
            "showbackground": true,
            "ticks": "",
            "zerolinecolor": "#EBF0F8"
           }
          },
          "shapedefaults": {
           "line": {
            "color": "#2a3f5f"
           }
          },
          "ternary": {
           "aaxis": {
            "gridcolor": "#DFE8F3",
            "linecolor": "#A2B1C6",
            "ticks": ""
           },
           "baxis": {
            "gridcolor": "#DFE8F3",
            "linecolor": "#A2B1C6",
            "ticks": ""
           },
           "bgcolor": "white",
           "caxis": {
            "gridcolor": "#DFE8F3",
            "linecolor": "#A2B1C6",
            "ticks": ""
           }
          },
          "title": {
           "x": 0.05
          },
          "xaxis": {
           "automargin": true,
           "gridcolor": "#EBF0F8",
           "linecolor": "#EBF0F8",
           "ticks": "",
           "title": {
            "standoff": 15
           },
           "zerolinecolor": "#EBF0F8",
           "zerolinewidth": 2
          },
          "yaxis": {
           "automargin": true,
           "gridcolor": "#EBF0F8",
           "linecolor": "#EBF0F8",
           "ticks": "",
           "title": {
            "standoff": 15
           },
           "zerolinecolor": "#EBF0F8",
           "zerolinewidth": 2
          }
         }
        },
        "title": {
         "text": "Plasma"
        },
        "width": 525,
        "xaxis": {
         "showticklabels": false,
         "title": {
          "text": "Top 12 Models"
         }
        },
        "yaxis": {
         "exponentformat": "E",
         "title": {
          "text": "Test Loss"
         },
         "type": "log"
        }
       }
      },
      "text/html": [
       "<div>                            <div id=\"3ca9a694-a462-420b-a79f-f45a06a2ad25\" class=\"plotly-graph-div\" style=\"height:400px; width:525px;\"></div>            <script type=\"text/javascript\">                require([\"plotly\"], function(Plotly) {                    window.PLOTLYENV=window.PLOTLYENV || {};                                    if (document.getElementById(\"3ca9a694-a462-420b-a79f-f45a06a2ad25\")) {                    Plotly.newPlot(                        \"3ca9a694-a462-420b-a79f-f45a06a2ad25\",                        [{\"marker\":{\"color\":\"white\",\"line\":{\"color\":\"#5F4690\",\"width\":4},\"size\":12},\"mode\":\"markers\",\"name\":\"Encoder: LSTM\",\"showlegend\":true,\"type\":\"scatter\",\"x\":[null],\"y\":[null]},{\"marker\":{\"color\":\"white\",\"line\":{\"color\":\"#1D6996\",\"width\":4},\"size\":12},\"mode\":\"markers\",\"name\":\"Encoder: GRU\",\"showlegend\":true,\"type\":\"scatter\",\"x\":[null],\"y\":[null]},{\"marker\":{\"color\":\"white\",\"line\":{\"color\":\"#38A6A5\",\"width\":4},\"size\":12},\"mode\":\"markers\",\"name\":\"Encoder: SL-LSTM\",\"showlegend\":true,\"type\":\"scatter\",\"x\":[null],\"y\":[null]},{\"marker\":{\"color\":\"white\",\"line\":{\"color\":\"#0F8554\",\"width\":4},\"size\":12},\"mode\":\"markers\",\"name\":\"Encoder: SL-GRU\",\"showlegend\":true,\"type\":\"scatter\",\"x\":[null],\"y\":[null]},{\"marker\":{\"color\":\"white\",\"line\":{\"color\":\"#73AF48\",\"width\":4},\"size\":12},\"mode\":\"markers\",\"name\":\"Encoder: T\",\"showlegend\":true,\"type\":\"scatter\",\"x\":[null],\"y\":[null]},{\"marker\":{\"color\":\"white\",\"line\":{\"color\":\"#EDAD08\",\"width\":4},\"size\":12},\"mode\":\"markers\",\"name\":\"Encoder: SL-T\",\"showlegend\":true,\"type\":\"scatter\",\"x\":[null],\"y\":[null]},{\"marker\":{\"color\":\"white\",\"line\":{\"color\":\"#E17C05\",\"width\":4},\"size\":12},\"mode\":\"markers\",\"name\":\"Encoder: SA-T\",\"showlegend\":true,\"type\":\"scatter\",\"x\":[null],\"y\":[null]},{\"marker\":{\"color\":\"white\",\"line\":{\"color\":\"#CC503E\",\"width\":4},\"size\":12},\"mode\":\"markers\",\"name\":\"Encoder: SASL-T\",\"showlegend\":true,\"type\":\"scatter\",\"x\":[null],\"y\":[null]},{\"marker\":{\"color\":\"#66C5CC\",\"line\":{\"color\":\"white\",\"width\":4},\"size\":12},\"mode\":\"markers\",\"name\":\"Decoder: MLP\",\"showlegend\":true,\"type\":\"scatter\",\"x\":[null],\"y\":[null]},{\"marker\":{\"color\":\"#F6CF71\",\"line\":{\"color\":\"white\",\"width\":4},\"size\":12},\"mode\":\"markers\",\"name\":\"Decoder: CNN\",\"showlegend\":true,\"type\":\"scatter\",\"x\":[null],\"y\":[null]},{\"hovertemplate\":\"Encoder: gru (x3)<br>Decoder: unet (x1)<br>LR: 1.00e-03<br>Test Loss: 1.14e-03<br><extra></extra>\",\"marker\":{\"color\":\"#F6CF71\",\"line\":{\"color\":\"#1D6996\",\"width\":4},\"size\":12},\"mode\":\"markers\",\"name\":\"gru-unet\",\"showlegend\":false,\"type\":\"scatter\",\"x\":[1],\"y\":[0.001136694241162891]},{\"hovertemplate\":\"Encoder: gru (x2)<br>Decoder: mlp (x1)<br>LR: 1.00e-02<br>Test Loss: 1.13e-03<br><extra></extra>\",\"marker\":{\"color\":\"#66C5CC\",\"line\":{\"color\":\"#1D6996\",\"width\":4},\"size\":12},\"mode\":\"markers\",\"name\":\"gru-mlp\",\"showlegend\":false,\"type\":\"scatter\",\"x\":[2],\"y\":[0.001129190538799426]},{\"hovertemplate\":\"Encoder: gru (x1)<br>Decoder: mlp (x1)<br>LR: 1.00e-02<br>Test Loss: 1.13e-03<br><extra></extra>\",\"marker\":{\"color\":\"#66C5CC\",\"line\":{\"color\":\"#1D6996\",\"width\":4},\"size\":12},\"mode\":\"markers\",\"name\":\"gru-mlp\",\"showlegend\":false,\"type\":\"scatter\",\"x\":[3],\"y\":[0.001127227822927615]},{\"hovertemplate\":\"Encoder: sindy_loss_gru (x4)<br>Decoder: mlp (x1)<br>LR: 1.00e-02<br>Test Loss: 1.12e-03<br><extra></extra>\",\"marker\":{\"color\":\"#66C5CC\",\"line\":{\"color\":\"#0F8554\",\"width\":4},\"size\":12},\"mode\":\"markers\",\"name\":\"sindy_loss_gru-mlp\",\"showlegend\":false,\"type\":\"scatter\",\"x\":[4],\"y\":[0.0011227298371243076]},{\"hovertemplate\":\"Encoder: sindy_loss_gru (x2)<br>Decoder: mlp (x1)<br>LR: 1.00e-02<br>Test Loss: 1.12e-03<br><extra></extra>\",\"marker\":{\"color\":\"#66C5CC\",\"line\":{\"color\":\"#0F8554\",\"width\":4},\"size\":12},\"mode\":\"markers\",\"name\":\"sindy_loss_gru-mlp\",\"showlegend\":false,\"type\":\"scatter\",\"x\":[5],\"y\":[0.00112063845153898]},{\"hovertemplate\":\"Encoder: gru (x1)<br>Decoder: unet (x1)<br>LR: 1.00e-03<br>Test Loss: 1.10e-03<br><extra></extra>\",\"marker\":{\"color\":\"#F6CF71\",\"line\":{\"color\":\"#1D6996\",\"width\":4},\"size\":12},\"mode\":\"markers\",\"name\":\"gru-unet\",\"showlegend\":false,\"type\":\"scatter\",\"x\":[6],\"y\":[0.0010978334164694669]},{\"hovertemplate\":\"Encoder: lstm (x1)<br>Decoder: mlp (x1)<br>LR: 1.00e-03<br>Test Loss: 1.09e-03<br><extra></extra>\",\"marker\":{\"color\":\"#66C5CC\",\"line\":{\"color\":\"#5F4690\",\"width\":4},\"size\":12},\"mode\":\"markers\",\"name\":\"lstm-mlp\",\"showlegend\":false,\"type\":\"scatter\",\"x\":[7],\"y\":[0.0010934915928653656]},{\"hovertemplate\":\"Encoder: gru (x2)<br>Decoder: unet (x1)<br>LR: 1.00e-03<br>Test Loss: 1.08e-03<br><extra></extra>\",\"marker\":{\"color\":\"#F6CF71\",\"line\":{\"color\":\"#1D6996\",\"width\":4},\"size\":12},\"mode\":\"markers\",\"name\":\"gru-unet\",\"showlegend\":false,\"type\":\"scatter\",\"x\":[8],\"y\":[0.0010836193491391337]},{\"hovertemplate\":\"Encoder: sindy_loss_lstm (x1)<br>Decoder: mlp (x1)<br>LR: 1.00e-02<br>Test Loss: 1.07e-03<br><extra></extra>\",\"marker\":{\"color\":\"#66C5CC\",\"line\":{\"color\":\"#38A6A5\",\"width\":4},\"size\":12},\"mode\":\"markers\",\"name\":\"sindy_loss_lstm-mlp\",\"showlegend\":false,\"type\":\"scatter\",\"x\":[9],\"y\":[0.0010747108518934022]},{\"hovertemplate\":\"Encoder: gru (x1)<br>Decoder: unet (x1)<br>LR: 1.00e-02<br>Test Loss: 1.06e-03<br><extra></extra>\",\"marker\":{\"color\":\"#F6CF71\",\"line\":{\"color\":\"#1D6996\",\"width\":4},\"size\":12},\"mode\":\"markers\",\"name\":\"gru-unet\",\"showlegend\":false,\"type\":\"scatter\",\"x\":[10],\"y\":[0.001064377586142375]},{\"hovertemplate\":\"Encoder: lstm (x1)<br>Decoder: unet (x1)<br>LR: 1.00e-02<br>Test Loss: 1.06e-03<br><extra></extra>\",\"marker\":{\"color\":\"#F6CF71\",\"line\":{\"color\":\"#5F4690\",\"width\":4},\"size\":12},\"mode\":\"markers\",\"name\":\"lstm-unet\",\"showlegend\":false,\"type\":\"scatter\",\"x\":[11],\"y\":[0.0010630676798218002]},{\"hovertemplate\":\"Encoder: lstm (x3)<br>Decoder: mlp (x1)<br>LR: 1.00e-02<br>Test Loss: 9.91e-04<br><extra></extra>\",\"marker\":{\"color\":\"#66C5CC\",\"line\":{\"color\":\"#5F4690\",\"width\":4},\"size\":12},\"mode\":\"markers\",\"name\":\"lstm-mlp\",\"showlegend\":false,\"type\":\"scatter\",\"x\":[12],\"y\":[0.0009910279180845604]}],                        {\"height\":400,\"hovermode\":\"closest\",\"legend\":{\"title\":{\"text\":\"Legend\"}},\"showlegend\":true,\"template\":{\"data\":{\"bar\":[{\"error_x\":{\"color\":\"#2a3f5f\"},\"error_y\":{\"color\":\"#2a3f5f\"},\"marker\":{\"line\":{\"color\":\"white\",\"width\":0.5},\"pattern\":{\"fillmode\":\"overlay\",\"size\":10,\"solidity\":0.2}},\"type\":\"bar\"}],\"barpolar\":[{\"marker\":{\"line\":{\"color\":\"white\",\"width\":0.5},\"pattern\":{\"fillmode\":\"overlay\",\"size\":10,\"solidity\":0.2}},\"type\":\"barpolar\"}],\"carpet\":[{\"aaxis\":{\"endlinecolor\":\"#2a3f5f\",\"gridcolor\":\"#C8D4E3\",\"linecolor\":\"#C8D4E3\",\"minorgridcolor\":\"#C8D4E3\",\"startlinecolor\":\"#2a3f5f\"},\"baxis\":{\"endlinecolor\":\"#2a3f5f\",\"gridcolor\":\"#C8D4E3\",\"linecolor\":\"#C8D4E3\",\"minorgridcolor\":\"#C8D4E3\",\"startlinecolor\":\"#2a3f5f\"},\"type\":\"carpet\"}],\"choropleth\":[{\"colorbar\":{\"outlinewidth\":0,\"ticks\":\"\"},\"type\":\"choropleth\"}],\"contour\":[{\"colorbar\":{\"outlinewidth\":0,\"ticks\":\"\"},\"colorscale\":[[0.0,\"#0d0887\"],[0.1111111111111111,\"#46039f\"],[0.2222222222222222,\"#7201a8\"],[0.3333333333333333,\"#9c179e\"],[0.4444444444444444,\"#bd3786\"],[0.5555555555555556,\"#d8576b\"],[0.6666666666666666,\"#ed7953\"],[0.7777777777777778,\"#fb9f3a\"],[0.8888888888888888,\"#fdca26\"],[1.0,\"#f0f921\"]],\"type\":\"contour\"}],\"contourcarpet\":[{\"colorbar\":{\"outlinewidth\":0,\"ticks\":\"\"},\"type\":\"contourcarpet\"}],\"heatmap\":[{\"colorbar\":{\"outlinewidth\":0,\"ticks\":\"\"},\"colorscale\":[[0.0,\"#0d0887\"],[0.1111111111111111,\"#46039f\"],[0.2222222222222222,\"#7201a8\"],[0.3333333333333333,\"#9c179e\"],[0.4444444444444444,\"#bd3786\"],[0.5555555555555556,\"#d8576b\"],[0.6666666666666666,\"#ed7953\"],[0.7777777777777778,\"#fb9f3a\"],[0.8888888888888888,\"#fdca26\"],[1.0,\"#f0f921\"]],\"type\":\"heatmap\"}],\"heatmapgl\":[{\"colorbar\":{\"outlinewidth\":0,\"ticks\":\"\"},\"colorscale\":[[0.0,\"#0d0887\"],[0.1111111111111111,\"#46039f\"],[0.2222222222222222,\"#7201a8\"],[0.3333333333333333,\"#9c179e\"],[0.4444444444444444,\"#bd3786\"],[0.5555555555555556,\"#d8576b\"],[0.6666666666666666,\"#ed7953\"],[0.7777777777777778,\"#fb9f3a\"],[0.8888888888888888,\"#fdca26\"],[1.0,\"#f0f921\"]],\"type\":\"heatmapgl\"}],\"histogram\":[{\"marker\":{\"pattern\":{\"fillmode\":\"overlay\",\"size\":10,\"solidity\":0.2}},\"type\":\"histogram\"}],\"histogram2d\":[{\"colorbar\":{\"outlinewidth\":0,\"ticks\":\"\"},\"colorscale\":[[0.0,\"#0d0887\"],[0.1111111111111111,\"#46039f\"],[0.2222222222222222,\"#7201a8\"],[0.3333333333333333,\"#9c179e\"],[0.4444444444444444,\"#bd3786\"],[0.5555555555555556,\"#d8576b\"],[0.6666666666666666,\"#ed7953\"],[0.7777777777777778,\"#fb9f3a\"],[0.8888888888888888,\"#fdca26\"],[1.0,\"#f0f921\"]],\"type\":\"histogram2d\"}],\"histogram2dcontour\":[{\"colorbar\":{\"outlinewidth\":0,\"ticks\":\"\"},\"colorscale\":[[0.0,\"#0d0887\"],[0.1111111111111111,\"#46039f\"],[0.2222222222222222,\"#7201a8\"],[0.3333333333333333,\"#9c179e\"],[0.4444444444444444,\"#bd3786\"],[0.5555555555555556,\"#d8576b\"],[0.6666666666666666,\"#ed7953\"],[0.7777777777777778,\"#fb9f3a\"],[0.8888888888888888,\"#fdca26\"],[1.0,\"#f0f921\"]],\"type\":\"histogram2dcontour\"}],\"mesh3d\":[{\"colorbar\":{\"outlinewidth\":0,\"ticks\":\"\"},\"type\":\"mesh3d\"}],\"parcoords\":[{\"line\":{\"colorbar\":{\"outlinewidth\":0,\"ticks\":\"\"}},\"type\":\"parcoords\"}],\"pie\":[{\"automargin\":true,\"type\":\"pie\"}],\"scatter\":[{\"marker\":{\"colorbar\":{\"outlinewidth\":0,\"ticks\":\"\"}},\"type\":\"scatter\"}],\"scatter3d\":[{\"line\":{\"colorbar\":{\"outlinewidth\":0,\"ticks\":\"\"}},\"marker\":{\"colorbar\":{\"outlinewidth\":0,\"ticks\":\"\"}},\"type\":\"scatter3d\"}],\"scattercarpet\":[{\"marker\":{\"colorbar\":{\"outlinewidth\":0,\"ticks\":\"\"}},\"type\":\"scattercarpet\"}],\"scattergeo\":[{\"marker\":{\"colorbar\":{\"outlinewidth\":0,\"ticks\":\"\"}},\"type\":\"scattergeo\"}],\"scattergl\":[{\"marker\":{\"colorbar\":{\"outlinewidth\":0,\"ticks\":\"\"}},\"type\":\"scattergl\"}],\"scattermapbox\":[{\"marker\":{\"colorbar\":{\"outlinewidth\":0,\"ticks\":\"\"}},\"type\":\"scattermapbox\"}],\"scatterpolar\":[{\"marker\":{\"colorbar\":{\"outlinewidth\":0,\"ticks\":\"\"}},\"type\":\"scatterpolar\"}],\"scatterpolargl\":[{\"marker\":{\"colorbar\":{\"outlinewidth\":0,\"ticks\":\"\"}},\"type\":\"scatterpolargl\"}],\"scatterternary\":[{\"marker\":{\"colorbar\":{\"outlinewidth\":0,\"ticks\":\"\"}},\"type\":\"scatterternary\"}],\"surface\":[{\"colorbar\":{\"outlinewidth\":0,\"ticks\":\"\"},\"colorscale\":[[0.0,\"#0d0887\"],[0.1111111111111111,\"#46039f\"],[0.2222222222222222,\"#7201a8\"],[0.3333333333333333,\"#9c179e\"],[0.4444444444444444,\"#bd3786\"],[0.5555555555555556,\"#d8576b\"],[0.6666666666666666,\"#ed7953\"],[0.7777777777777778,\"#fb9f3a\"],[0.8888888888888888,\"#fdca26\"],[1.0,\"#f0f921\"]],\"type\":\"surface\"}],\"table\":[{\"cells\":{\"fill\":{\"color\":\"#EBF0F8\"},\"line\":{\"color\":\"white\"}},\"header\":{\"fill\":{\"color\":\"#C8D4E3\"},\"line\":{\"color\":\"white\"}},\"type\":\"table\"}]},\"layout\":{\"annotationdefaults\":{\"arrowcolor\":\"#2a3f5f\",\"arrowhead\":0,\"arrowwidth\":1},\"autotypenumbers\":\"strict\",\"coloraxis\":{\"colorbar\":{\"outlinewidth\":0,\"ticks\":\"\"}},\"colorscale\":{\"diverging\":[[0,\"#8e0152\"],[0.1,\"#c51b7d\"],[0.2,\"#de77ae\"],[0.3,\"#f1b6da\"],[0.4,\"#fde0ef\"],[0.5,\"#f7f7f7\"],[0.6,\"#e6f5d0\"],[0.7,\"#b8e186\"],[0.8,\"#7fbc41\"],[0.9,\"#4d9221\"],[1,\"#276419\"]],\"sequential\":[[0.0,\"#0d0887\"],[0.1111111111111111,\"#46039f\"],[0.2222222222222222,\"#7201a8\"],[0.3333333333333333,\"#9c179e\"],[0.4444444444444444,\"#bd3786\"],[0.5555555555555556,\"#d8576b\"],[0.6666666666666666,\"#ed7953\"],[0.7777777777777778,\"#fb9f3a\"],[0.8888888888888888,\"#fdca26\"],[1.0,\"#f0f921\"]],\"sequentialminus\":[[0.0,\"#0d0887\"],[0.1111111111111111,\"#46039f\"],[0.2222222222222222,\"#7201a8\"],[0.3333333333333333,\"#9c179e\"],[0.4444444444444444,\"#bd3786\"],[0.5555555555555556,\"#d8576b\"],[0.6666666666666666,\"#ed7953\"],[0.7777777777777778,\"#fb9f3a\"],[0.8888888888888888,\"#fdca26\"],[1.0,\"#f0f921\"]]},\"colorway\":[\"#636efa\",\"#EF553B\",\"#00cc96\",\"#ab63fa\",\"#FFA15A\",\"#19d3f3\",\"#FF6692\",\"#B6E880\",\"#FF97FF\",\"#FECB52\"],\"font\":{\"color\":\"#2a3f5f\"},\"geo\":{\"bgcolor\":\"white\",\"lakecolor\":\"white\",\"landcolor\":\"white\",\"showlakes\":true,\"showland\":true,\"subunitcolor\":\"#C8D4E3\"},\"hoverlabel\":{\"align\":\"left\"},\"hovermode\":\"closest\",\"mapbox\":{\"style\":\"light\"},\"paper_bgcolor\":\"white\",\"plot_bgcolor\":\"white\",\"polar\":{\"angularaxis\":{\"gridcolor\":\"#EBF0F8\",\"linecolor\":\"#EBF0F8\",\"ticks\":\"\"},\"bgcolor\":\"white\",\"radialaxis\":{\"gridcolor\":\"#EBF0F8\",\"linecolor\":\"#EBF0F8\",\"ticks\":\"\"}},\"scene\":{\"xaxis\":{\"backgroundcolor\":\"white\",\"gridcolor\":\"#DFE8F3\",\"gridwidth\":2,\"linecolor\":\"#EBF0F8\",\"showbackground\":true,\"ticks\":\"\",\"zerolinecolor\":\"#EBF0F8\"},\"yaxis\":{\"backgroundcolor\":\"white\",\"gridcolor\":\"#DFE8F3\",\"gridwidth\":2,\"linecolor\":\"#EBF0F8\",\"showbackground\":true,\"ticks\":\"\",\"zerolinecolor\":\"#EBF0F8\"},\"zaxis\":{\"backgroundcolor\":\"white\",\"gridcolor\":\"#DFE8F3\",\"gridwidth\":2,\"linecolor\":\"#EBF0F8\",\"showbackground\":true,\"ticks\":\"\",\"zerolinecolor\":\"#EBF0F8\"}},\"shapedefaults\":{\"line\":{\"color\":\"#2a3f5f\"}},\"ternary\":{\"aaxis\":{\"gridcolor\":\"#DFE8F3\",\"linecolor\":\"#A2B1C6\",\"ticks\":\"\"},\"baxis\":{\"gridcolor\":\"#DFE8F3\",\"linecolor\":\"#A2B1C6\",\"ticks\":\"\"},\"bgcolor\":\"white\",\"caxis\":{\"gridcolor\":\"#DFE8F3\",\"linecolor\":\"#A2B1C6\",\"ticks\":\"\"}},\"title\":{\"x\":0.05},\"xaxis\":{\"automargin\":true,\"gridcolor\":\"#EBF0F8\",\"linecolor\":\"#EBF0F8\",\"ticks\":\"\",\"title\":{\"standoff\":15},\"zerolinecolor\":\"#EBF0F8\",\"zerolinewidth\":2},\"yaxis\":{\"automargin\":true,\"gridcolor\":\"#EBF0F8\",\"linecolor\":\"#EBF0F8\",\"ticks\":\"\",\"title\":{\"standoff\":15},\"zerolinecolor\":\"#EBF0F8\",\"zerolinewidth\":2}}},\"title\":{\"text\":\"Plasma\"},\"width\":525,\"xaxis\":{\"showticklabels\":false,\"title\":{\"text\":\"Top 12 Models\"}},\"yaxis\":{\"exponentformat\":\"E\",\"title\":{\"text\":\"Test Loss\"},\"type\":\"log\"}},                        {\"responsive\": true}                    ).then(function(){\n",
       "                            \n",
       "var gd = document.getElementById('3ca9a694-a462-420b-a79f-f45a06a2ad25');\n",
       "var x = new MutationObserver(function (mutations, observer) {{\n",
       "        var display = window.getComputedStyle(gd).display;\n",
       "        if (!display || display === 'none') {{\n",
       "            console.log([gd, 'removed!']);\n",
       "            Plotly.purge(gd);\n",
       "            observer.disconnect();\n",
       "        }}\n",
       "}});\n",
       "\n",
       "// Listen for the removal of the full notebook cells\n",
       "var notebookContainer = gd.closest('#notebook-container');\n",
       "if (notebookContainer) {{\n",
       "    x.observe(notebookContainer, {childList: true});\n",
       "}}\n",
       "\n",
       "// Listen for the clearing of the current output cell\n",
       "var outputEl = gd.closest('.output');\n",
       "if (outputEl) {{\n",
       "    x.observe(outputEl, {childList: true});\n",
       "}}\n",
       "\n",
       "                        })                };                });            </script>        </div>"
      ]
     },
     "metadata": {},
     "output_type": "display_data"
    }
   ],
   "source": [
    "\n",
    "f = Figlet(font='ogre')\n",
    "for dataset in ['planetswe_full', 'sst', 'plasma']:\n",
    "    best_result = helpers.get_top_N_models_by_loss(dataset, pickle_dir, N=1)[0][1]\n",
    "    plots.plot_model_results_scatter(results, dataset, 12, save=True, fname=f\"{dataset}_scatter\")\n"
   ]
  }
 ],
 "metadata": {
  "kernelspec": {
   "display_name": "venv",
   "language": "python",
   "name": "python3"
  },
  "language_info": {
   "codemirror_mode": {
    "name": "ipython",
    "version": 3
   },
   "file_extension": ".py",
   "mimetype": "text/x-python",
   "name": "python",
   "nbconvert_exporter": "python",
   "pygments_lexer": "ipython3",
   "version": "3.13.2"
  }
 },
 "nbformat": 4,
 "nbformat_minor": 2
}
