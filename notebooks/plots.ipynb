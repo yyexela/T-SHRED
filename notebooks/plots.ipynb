{
 "cells": [
  {
   "cell_type": "markdown",
   "metadata": {},
   "source": [
    "## Imports"
   ]
  },
  {
   "cell_type": "code",
   "execution_count": 11,
   "metadata": {},
   "outputs": [
    {
     "name": "stdout",
     "output_type": "stream",
     "text": [
      "The autoreload extension is already loaded. To reload it, use:\n",
      "  %reload_ext autoreload\n",
      "/Users/alexey/Git/T-SHRED_Repo/pickles\n"
     ]
    }
   ],
   "source": [
    "\n",
    "%load_ext autoreload\n",
    "%autoreload 2\n",
    "\n",
    "import os\n",
    "import sys\n",
    "import torch\n",
    "import einops\n",
    "import random\n",
    "import pickle\n",
    "import numpy as np\n",
    "import pprint as pp\n",
    "import torch.nn as nn\n",
    "from pathlib import Path\n",
    "from pyfiglet import Figlet\n",
    "from torch.utils.data import DataLoader\n",
    "from src.plots import plot_losses, plot_field_comparison\n",
    "\n",
    "# Add the project root directory to Python path\n",
    "top_dir = Path.cwd().parent\n",
    "sys.path.insert(0, str(top_dir.absolute()))\n",
    "\n",
    "from src import *\n",
    "\n",
    "slurm_dir = top_dir / 'slurms'\n",
    "pickle_dir = top_dir / 'pickles'\n",
    "print(pickle_dir)\n"
   ]
  },
  {
   "cell_type": "code",
   "execution_count": 12,
   "metadata": {},
   "outputs": [],
   "source": [
    "\n",
    "# We will iterate through every combination of these\n",
    "datasets = [\"sst\", \"plasma\", \"planetswe_pod\", \"gray_scott_reaction_diffusion_pod\"]\n",
    "encoders = [\"lstm\", \"vanilla_transformer\", \"sindy_attention_transformer\"]\n",
    "decoders = [\"mlp\", \"unet\"]\n",
    "lrs = [f\"lr{i:0.2e}\" for i in [1e-2, 1e-3, 1e-4, 1e-5]]\n",
    "\n",
    "# These two will be zipped pairwise\n",
    "encoder_depths = [f\"e{i}\" for i in[1, 2, 3]]\n",
    "decoder_depths = [f\"d{i}\" for i in[1, 2]]\n"
   ]
  },
  {
   "cell_type": "code",
   "execution_count": 13,
   "metadata": {},
   "outputs": [],
   "source": [
    "\n",
    "# Get list of results\n",
    "results = helpers.get_dictionaries_from_pickles(pickle_dir, early_stop=None)\n"
   ]
  },
  {
   "cell_type": "code",
   "execution_count": 14,
   "metadata": {},
   "outputs": [
    {
     "name": "stdout",
     "output_type": "stream",
     "text": [
      "<class 'list'>\n",
      "['test_loss',\n",
      " 'start_epoch',\n",
      " 'best_val',\n",
      " 'best_epoch',\n",
      " 'train_losses',\n",
      " 'val_losses',\n",
      " 'sensors',\n",
      " 'hyperparameters']\n",
      "{'batch_size': 128,\n",
      " 'best_checkpoint_path': PosixPath('/app/code/checkpoints/sindy_loss_transformer_mlp_plasma_e1_d1_lr1.00e-02_p1_model_best.pt'),\n",
      " 'd_data': 1,\n",
      " 'd_model': 50,\n",
      " 'data_cols': 2000,\n",
      " 'data_rows': 1,\n",
      " 'dataset': 'plasma',\n",
      " 'decoder': 'mlp',\n",
      " 'decoder_depth': 1,\n",
      " 'device': 'cuda:0',\n",
      " 'dim_feedforward': 16,\n",
      " 'dropout': 0.1,\n",
      " 'dt': 1.0,\n",
      " 'early_stop': 10,\n",
      " 'encoder': 'sindy_loss_transformer',\n",
      " 'encoder_depth': 1,\n",
      " 'epochs': 100,\n",
      " 'eval_full': False,\n",
      " 'generate_test_plots': True,\n",
      " 'generate_training_plots': False,\n",
      " 'hidden_size': 4,\n",
      " 'include_sine': False,\n",
      " 'latest_checkpoint_path': PosixPath('/app/code/checkpoints/sindy_loss_transformer_mlp_plasma_e1_d1_lr1.00e-02_p1_model_latest.pt'),\n",
      " 'lr': 0.01,\n",
      " 'n_heads': 2,\n",
      " 'n_sensors': 50,\n",
      " 'n_well_tracks': 10,\n",
      " 'output_size': 2000,\n",
      " 'poly_order': 1,\n",
      " 'save_every_n_epochs': 10,\n",
      " 'sindy_threshold': 0.05,\n",
      " 'sindy_weight': 100,\n",
      " 'skip_load_checkpoint': False,\n",
      " 'verbose': True,\n",
      " 'window_length': 50}\n"
     ]
    }
   ],
   "source": [
    "\n",
    "# Print the results / data format\n",
    "print(type(results))\n",
    "pp.pprint(list(results[0].keys()))\n",
    "pp.pprint(results[0]['hyperparameters'])\n"
   ]
  },
  {
   "cell_type": "code",
   "execution_count": 15,
   "metadata": {},
   "outputs": [
    {
     "name": "stdout",
     "output_type": "stream",
     "text": [
      "dict_keys(['test_loss', 'start_epoch', 'best_val', 'best_epoch', 'train_losses', 'val_losses', 'sensors', 'hyperparameters'])\n",
      "dict_keys(['batch_size', 'dataset', 'decoder', 'decoder_depth', 'device', 'dropout', 'dt', 'early_stop', 'encoder', 'eval_full', 'encoder_depth', 'epochs', 'hidden_size', 'generate_test_plots', 'generate_training_plots', 'include_sine', 'lr', 'n_heads', 'n_sensors', 'n_well_tracks', 'poly_order', 'save_every_n_epochs', 'sindy_threshold', 'sindy_weight', 'skip_load_checkpoint', 'verbose', 'window_length', 'd_data', 'data_rows', 'data_cols', 'd_model', 'dim_feedforward', 'output_size', 'latest_checkpoint_path', 'best_checkpoint_path'])\n",
      "[(98, 215), (10, 132), (130, 248), (103, 155), (122, 183), (149, 111), (129, 71), (72, 71), (64, 272), (154, 75), (18, 350), (84, 241), (143, 51), (90, 222), (80, 312), (141, 244), (113, 266), (140, 7), (0, 313), (126, 170), (62, 166), (145, 113), (139, 229), (23, 41), (81, 260), (125, 55), (77, 282), (74, 63), (140, 170), (138, 104), (154, 280), (150, 147), (152, 197), (61, 148), (47, 16), (156, 336), (66, 243), (17, 45), (20, 358), (138, 349), (100, 268), (70, 267), (70, 230), (126, 338), (91, 42), (83, 313), (150, 322), (69, 59), (56, 190), (43, 170)]\n"
     ]
    }
   ],
   "source": [
    "\n",
    "best_result = helpers.get_top_N_models_by_loss('sst', pickle_dir, N=1)[0][1]\n",
    "print(best_result.keys())\n",
    "print(best_result['hyperparameters'].keys())\n",
    "print(best_result['sensors'])\n"
   ]
  },
  {
   "cell_type": "code",
   "execution_count": 16,
   "metadata": {},
   "outputs": [
    {
     "name": "stdout",
     "output_type": "stream",
     "text": [
      "[('sindy_attention_transformer_mlp_planetswe_full_e4_d1_lr1.00e-03_p1.pkl', {'test_loss': 2666.7405700683594, 'start_epoch': 79, 'best_val': 2658.951220703125, 'best_epoch': 79, 'train_losses': [29668.244759114583, 28685.5783203125, 27504.205631510416, 26180.196809895835, 24712.47685546875, 23193.797591145834, 21716.901139322916, 20345.537760416668, 19008.105110677083, 17796.333626302083, 16667.783740234376, 15632.181168619793, 14701.136263020833, 13829.835091145833, 13008.491471354168, 12217.68310546875, 11470.368375651042, 10809.981998697916, 10184.480289713541, 9593.36513671875, 9112.484195963541, 8642.800577799479, 8253.454296875, 7894.79892578125, 7560.525455729166, 7293.146240234375, 7064.3615234375, 6840.81259765625, 6651.67568359375, 6522.373046875, 6371.6815999348955, 6245.40419921875, 6154.406486002604, 6066.626896158854, 5980.98408203125, 5909.398746744791, 5862.173356119792, 5801.894555664063, 5738.948494466146, 5692.903206380209, 5647.671053059896, 5594.2410074869795, 5546.918880208334, 5507.651586914062, 5434.445833333333, 5382.073990885417, 5334.926220703125, 5279.434822591146, 5246.537345377604, 5184.626285807291, 5149.237369791666, 5096.4643147786455, 5052.687931315104, 5014.312320963541, 4973.8043212890625, 4930.171964518229, 4889.094262695313, 4857.13857421875, 4816.688883463542, 4778.198665364584, 4744.478104654948, 4710.348559570312, 4674.488419596354, 4653.566927083333, 4611.81903889974, 4577.536319986979, 4556.837890625, 4526.941495768229, 4495.456632486979, 4468.196036783854, 4431.724519856771, 4401.7927652994795, 4360.284944661458, 4332.909757486979, 4301.300919596354, 4258.115323893229, 4239.629146321615, 4194.936263020833, 4171.150712076823], 'val_losses': [27507.5171875, 26434.26484375, 25152.579296875, 23721.677734375, 22206.58359375, 20663.322265625, 19142.485546875, 17685.6611328125, 16320.3958984375, 15068.691796875, 13928.6298828125, 12894.551171875, 11960.79609375, 11110.561328125, 10314.8248046875, 9593.92333984375, 8886.42255859375, 8245.83193359375, 7681.59931640625, 7158.72958984375, 6688.1357421875, 6232.106640625, 5847.23486328125, 5489.34951171875, 5182.530078125, 4860.66552734375, 4645.72392578125, 4416.65361328125, 4178.4646484375, 4052.50830078125, 3890.424365234375, 3766.465625, 3626.412841796875, 3540.318701171875, 3459.9171875, 3364.787744140625, 3269.364892578125, 3253.238818359375, 3225.781640625, 3130.27431640625, 3119.2568359375, 3088.419384765625, 3031.040625, 3029.48515625, 2973.619580078125, 3021.343505859375, 2942.9732421875, 2923.0908203125, 2955.640234375, 2857.343798828125, 2959.75927734375, 2886.2466796875, 2861.256591796875, 2935.38623046875, 2878.3932861328126, 2725.5023681640623, 2917.9654296875, 2820.65771484375, 2711.22509765625, 2776.25771484375, 2812.91376953125, 2803.405224609375, 2802.211328125, 2682.6109375, 2838.1113525390624, 2731.2706787109373, 2913.85859375, 2729.674658203125, 2732.851416015625, 2751.06572265625, 2715.4875, 2784.107763671875, 2710.37744140625, 2702.427490234375, 2722.795263671875, 2664.8837890625, 2666.6435546875, 2761.0915771484374, 2658.951220703125], 'sensors': [(197, 430), (20, 265), (248, 414), (155, 488), (183, 223), (71, 288), (71, 97), (128, 150), (158, 101), (37, 338), (241, 103), (181, 444), (161, 209), (244, 453), (133, 63), (7, 95), (204, 1), (252, 341), (124, 333), (32, 195), (113, 244), (72, 458), (46, 82), (163, 501), (55, 308), (149, 127), (170, 208), (147, 455), (46, 394), (162, 247), (148, 188), (96, 191), (16, 266), (243, 70), (45, 133), (76, 39), (41, 400), (141, 241), (110, 429), (140, 461), (252, 365), (42, 332), (59, 498), (171, 194), (124, 16), (138, 119), (112, 380), (87, 340), (218, 63), (51, 149)], 'hyperparameters': {'batch_size': 128, 'dataset': 'planetswe_full', 'decoder': 'mlp', 'decoder_depth': 1, 'device': 'cuda:1', 'dropout': 0.1, 'dt': 1.0, 'early_stop': 10, 'encoder': 'sindy_attention_transformer', 'eval_full': False, 'encoder_depth': 4, 'epochs': 100, 'hidden_size': 100, 'generate_test_plots': True, 'generate_training_plots': False, 'include_sine': False, 'lr': 0.001, 'n_heads': 2, 'n_sensors': 50, 'n_well_tracks': 10, 'poly_order': 1, 'save_every_n_epochs': 10, 'sindy_threshold': 0.05, 'sindy_weight': 100, 'skip_load_checkpoint': False, 'verbose': True, 'window_length': 50, 'd_data': 3, 'data_rows': 256, 'data_cols': 512, 'd_model': 150, 'dim_feedforward': 400, 'output_size': 393216, 'latest_checkpoint_path': PosixPath('/home/alexey/Research4/T-SHRED/checkpoints/sindy_attention_transformer_mlp_planetswe_full_e4_d1_lr1.00e-03_p1_model_latest.pt'), 'best_checkpoint_path': PosixPath('/home/alexey/Research4/T-SHRED/checkpoints/sindy_attention_transformer_mlp_planetswe_full_e4_d1_lr1.00e-03_p1_model_best.pt')}})]\n",
      "Saved /Users/alexey/Git/T-SHRED_Repo/figures/planetswe_full_scatter.pdf\n"
     ]
    },
    {
     "data": {
      "application/vnd.plotly.v1+json": {
       "config": {
        "plotlyServerURL": "https://plot.ly"
       },
       "data": [
        {
         "marker": {
          "color": "white",
          "line": {
           "color": "#5F4690",
           "width": 4
          },
          "size": 12
         },
         "mode": "markers",
         "name": "Encoder: lstm",
         "showlegend": true,
         "type": "scatter",
         "x": [
          null
         ],
         "y": [
          null
         ]
        },
        {
         "marker": {
          "color": "white",
          "line": {
           "color": "#1D6996",
           "width": 4
          },
          "size": 12
         },
         "mode": "markers",
         "name": "Encoder: gru",
         "showlegend": true,
         "type": "scatter",
         "x": [
          null
         ],
         "y": [
          null
         ]
        },
        {
         "marker": {
          "color": "white",
          "line": {
           "color": "#38A6A5",
           "width": 4
          },
          "size": 12
         },
         "mode": "markers",
         "name": "Encoder: sindy_loss_lstm",
         "showlegend": true,
         "type": "scatter",
         "x": [
          null
         ],
         "y": [
          null
         ]
        },
        {
         "marker": {
          "color": "white",
          "line": {
           "color": "#0F8554",
           "width": 4
          },
          "size": 12
         },
         "mode": "markers",
         "name": "Encoder: sindy_loss_gru",
         "showlegend": true,
         "type": "scatter",
         "x": [
          null
         ],
         "y": [
          null
         ]
        },
        {
         "marker": {
          "color": "white",
          "line": {
           "color": "#73AF48",
           "width": 4
          },
          "size": 12
         },
         "mode": "markers",
         "name": "Encoder: vanilla_transformer",
         "showlegend": true,
         "type": "scatter",
         "x": [
          null
         ],
         "y": [
          null
         ]
        },
        {
         "marker": {
          "color": "white",
          "line": {
           "color": "#EDAD08",
           "width": 4
          },
          "size": 12
         },
         "mode": "markers",
         "name": "Encoder: sindy_loss_transformer",
         "showlegend": true,
         "type": "scatter",
         "x": [
          null
         ],
         "y": [
          null
         ]
        },
        {
         "marker": {
          "color": "white",
          "line": {
           "color": "#E17C05",
           "width": 4
          },
          "size": 12
         },
         "mode": "markers",
         "name": "Encoder: sindy_attention_transformer",
         "showlegend": true,
         "type": "scatter",
         "x": [
          null
         ],
         "y": [
          null
         ]
        },
        {
         "marker": {
          "color": "white",
          "line": {
           "color": "#CC503E",
           "width": 4
          },
          "size": 12
         },
         "mode": "markers",
         "name": "Encoder: sindy_attention_sindy_loss_transformer",
         "showlegend": true,
         "type": "scatter",
         "x": [
          null
         ],
         "y": [
          null
         ]
        },
        {
         "marker": {
          "color": "#66C5CC",
          "line": {
           "color": "white",
           "width": 4
          },
          "size": 12
         },
         "mode": "markers",
         "name": "Decoder: mlp",
         "showlegend": true,
         "type": "scatter",
         "x": [
          null
         ],
         "y": [
          null
         ]
        },
        {
         "marker": {
          "color": "#F6CF71",
          "line": {
           "color": "white",
           "width": 4
          },
          "size": 12
         },
         "mode": "markers",
         "name": "Decoder: unet",
         "showlegend": true,
         "type": "scatter",
         "x": [
          null
         ],
         "y": [
          null
         ]
        },
        {
         "hovertemplate": "Encoder: sindy_loss_transformer (x1)<br>Decoder: mlp (x1)<br>LR: 1.00e-03<br>Test Loss: 2.91e+03<br><extra></extra>",
         "marker": {
          "color": "#66C5CC",
          "line": {
           "color": "#EDAD08",
           "width": 4
          },
          "size": 12
         },
         "mode": "markers",
         "name": "sindy_loss_transformer-mlp",
         "showlegend": false,
         "type": "scatter",
         "x": [
          1
         ],
         "y": [
          2908.2198486328125
         ]
        },
        {
         "hovertemplate": "Encoder: vanilla_transformer (x3)<br>Decoder: unet (x1)<br>LR: 1.00e-03<br>Test Loss: 2.91e+03<br><extra></extra>",
         "marker": {
          "color": "#F6CF71",
          "line": {
           "color": "#73AF48",
           "width": 4
          },
          "size": 12
         },
         "mode": "markers",
         "name": "vanilla_transformer-unet",
         "showlegend": false,
         "type": "scatter",
         "x": [
          2
         ],
         "y": [
          2908.197998046875
         ]
        },
        {
         "hovertemplate": "Encoder: sindy_attention_sindy_loss_transformer (x1)<br>Decoder: unet (x1)<br>LR: 1.00e-03<br>Test Loss: 2.89e+03<br><extra></extra>",
         "marker": {
          "color": "#F6CF71",
          "line": {
           "color": "#CC503E",
           "width": 4
          },
          "size": 12
         },
         "mode": "markers",
         "name": "sindy_attention_sindy_loss_transformer-unet",
         "showlegend": false,
         "type": "scatter",
         "x": [
          3
         ],
         "y": [
          2887.0531311035156
         ]
        },
        {
         "hovertemplate": "Encoder: sindy_attention_transformer (x1)<br>Decoder: unet (x1)<br>LR: 1.00e-03<br>Test Loss: 2.86e+03<br><extra></extra>",
         "marker": {
          "color": "#F6CF71",
          "line": {
           "color": "#E17C05",
           "width": 4
          },
          "size": 12
         },
         "mode": "markers",
         "name": "sindy_attention_transformer-unet",
         "showlegend": false,
         "type": "scatter",
         "x": [
          4
         ],
         "y": [
          2857.6738891601562
         ]
        },
        {
         "hovertemplate": "Encoder: sindy_attention_transformer (x4)<br>Decoder: unet (x1)<br>LR: 1.00e-03<br>Test Loss: 2.84e+03<br><extra></extra>",
         "marker": {
          "color": "#F6CF71",
          "line": {
           "color": "#E17C05",
           "width": 4
          },
          "size": 12
         },
         "mode": "markers",
         "name": "sindy_attention_transformer-unet",
         "showlegend": false,
         "type": "scatter",
         "x": [
          5
         ],
         "y": [
          2841.8397827148438
         ]
        },
        {
         "hovertemplate": "Encoder: vanilla_transformer (x4)<br>Decoder: unet (x1)<br>LR: 1.00e-03<br>Test Loss: 2.80e+03<br><extra></extra>",
         "marker": {
          "color": "#F6CF71",
          "line": {
           "color": "#73AF48",
           "width": 4
          },
          "size": 12
         },
         "mode": "markers",
         "name": "vanilla_transformer-unet",
         "showlegend": false,
         "type": "scatter",
         "x": [
          6
         ],
         "y": [
          2801.5577087402344
         ]
        },
        {
         "hovertemplate": "Encoder: sindy_attention_sindy_loss_transformer (x2)<br>Decoder: unet (x1)<br>LR: 1.00e-03<br>Test Loss: 2.80e+03<br><extra></extra>",
         "marker": {
          "color": "#F6CF71",
          "line": {
           "color": "#CC503E",
           "width": 4
          },
          "size": 12
         },
         "mode": "markers",
         "name": "sindy_attention_sindy_loss_transformer-unet",
         "showlegend": false,
         "type": "scatter",
         "x": [
          7
         ],
         "y": [
          2795.8570556640625
         ]
        },
        {
         "hovertemplate": "Encoder: vanilla_transformer (x1)<br>Decoder: mlp (x1)<br>LR: 1.00e-03<br>Test Loss: 2.79e+03<br><extra></extra>",
         "marker": {
          "color": "#66C5CC",
          "line": {
           "color": "#73AF48",
           "width": 4
          },
          "size": 12
         },
         "mode": "markers",
         "name": "vanilla_transformer-mlp",
         "showlegend": false,
         "type": "scatter",
         "x": [
          8
         ],
         "y": [
          2786.902862548828
         ]
        },
        {
         "hovertemplate": "Encoder: sindy_attention_sindy_loss_transformer (x3)<br>Decoder: mlp (x1)<br>LR: 1.00e-03<br>Test Loss: 2.78e+03<br><extra></extra>",
         "marker": {
          "color": "#66C5CC",
          "line": {
           "color": "#CC503E",
           "width": 4
          },
          "size": 12
         },
         "mode": "markers",
         "name": "sindy_attention_sindy_loss_transformer-mlp",
         "showlegend": false,
         "type": "scatter",
         "x": [
          9
         ],
         "y": [
          2779.1683959960938
         ]
        },
        {
         "hovertemplate": "Encoder: sindy_attention_transformer (x3)<br>Decoder: mlp (x1)<br>LR: 1.00e-03<br>Test Loss: 2.74e+03<br><extra></extra>",
         "marker": {
          "color": "#66C5CC",
          "line": {
           "color": "#E17C05",
           "width": 4
          },
          "size": 12
         },
         "mode": "markers",
         "name": "sindy_attention_transformer-mlp",
         "showlegend": false,
         "type": "scatter",
         "x": [
          10
         ],
         "y": [
          2741.9566955566406
         ]
        },
        {
         "hovertemplate": "Encoder: vanilla_transformer (x4)<br>Decoder: mlp (x1)<br>LR: 1.00e-03<br>Test Loss: 2.70e+03<br><extra></extra>",
         "marker": {
          "color": "#66C5CC",
          "line": {
           "color": "#73AF48",
           "width": 4
          },
          "size": 12
         },
         "mode": "markers",
         "name": "vanilla_transformer-mlp",
         "showlegend": false,
         "type": "scatter",
         "x": [
          11
         ],
         "y": [
          2695.1192932128906
         ]
        },
        {
         "hovertemplate": "Encoder: sindy_attention_transformer (x4)<br>Decoder: mlp (x1)<br>LR: 1.00e-03<br>Test Loss: 2.67e+03<br><extra></extra>",
         "marker": {
          "color": "#66C5CC",
          "line": {
           "color": "#E17C05",
           "width": 4
          },
          "size": 12
         },
         "mode": "markers",
         "name": "sindy_attention_transformer-mlp",
         "showlegend": false,
         "type": "scatter",
         "x": [
          12
         ],
         "y": [
          2666.7405700683594
         ]
        }
       ],
       "layout": {
        "height": 400,
        "hovermode": "closest",
        "legend": {
         "title": {
          "text": "Legend"
         }
        },
        "showlegend": true,
        "template": {
         "data": {
          "bar": [
           {
            "error_x": {
             "color": "#2a3f5f"
            },
            "error_y": {
             "color": "#2a3f5f"
            },
            "marker": {
             "line": {
              "color": "white",
              "width": 0.5
             },
             "pattern": {
              "fillmode": "overlay",
              "size": 10,
              "solidity": 0.2
             }
            },
            "type": "bar"
           }
          ],
          "barpolar": [
           {
            "marker": {
             "line": {
              "color": "white",
              "width": 0.5
             },
             "pattern": {
              "fillmode": "overlay",
              "size": 10,
              "solidity": 0.2
             }
            },
            "type": "barpolar"
           }
          ],
          "carpet": [
           {
            "aaxis": {
             "endlinecolor": "#2a3f5f",
             "gridcolor": "#C8D4E3",
             "linecolor": "#C8D4E3",
             "minorgridcolor": "#C8D4E3",
             "startlinecolor": "#2a3f5f"
            },
            "baxis": {
             "endlinecolor": "#2a3f5f",
             "gridcolor": "#C8D4E3",
             "linecolor": "#C8D4E3",
             "minorgridcolor": "#C8D4E3",
             "startlinecolor": "#2a3f5f"
            },
            "type": "carpet"
           }
          ],
          "choropleth": [
           {
            "colorbar": {
             "outlinewidth": 0,
             "ticks": ""
            },
            "type": "choropleth"
           }
          ],
          "contour": [
           {
            "colorbar": {
             "outlinewidth": 0,
             "ticks": ""
            },
            "colorscale": [
             [
              0,
              "#0d0887"
             ],
             [
              0.1111111111111111,
              "#46039f"
             ],
             [
              0.2222222222222222,
              "#7201a8"
             ],
             [
              0.3333333333333333,
              "#9c179e"
             ],
             [
              0.4444444444444444,
              "#bd3786"
             ],
             [
              0.5555555555555556,
              "#d8576b"
             ],
             [
              0.6666666666666666,
              "#ed7953"
             ],
             [
              0.7777777777777778,
              "#fb9f3a"
             ],
             [
              0.8888888888888888,
              "#fdca26"
             ],
             [
              1,
              "#f0f921"
             ]
            ],
            "type": "contour"
           }
          ],
          "contourcarpet": [
           {
            "colorbar": {
             "outlinewidth": 0,
             "ticks": ""
            },
            "type": "contourcarpet"
           }
          ],
          "heatmap": [
           {
            "colorbar": {
             "outlinewidth": 0,
             "ticks": ""
            },
            "colorscale": [
             [
              0,
              "#0d0887"
             ],
             [
              0.1111111111111111,
              "#46039f"
             ],
             [
              0.2222222222222222,
              "#7201a8"
             ],
             [
              0.3333333333333333,
              "#9c179e"
             ],
             [
              0.4444444444444444,
              "#bd3786"
             ],
             [
              0.5555555555555556,
              "#d8576b"
             ],
             [
              0.6666666666666666,
              "#ed7953"
             ],
             [
              0.7777777777777778,
              "#fb9f3a"
             ],
             [
              0.8888888888888888,
              "#fdca26"
             ],
             [
              1,
              "#f0f921"
             ]
            ],
            "type": "heatmap"
           }
          ],
          "heatmapgl": [
           {
            "colorbar": {
             "outlinewidth": 0,
             "ticks": ""
            },
            "colorscale": [
             [
              0,
              "#0d0887"
             ],
             [
              0.1111111111111111,
              "#46039f"
             ],
             [
              0.2222222222222222,
              "#7201a8"
             ],
             [
              0.3333333333333333,
              "#9c179e"
             ],
             [
              0.4444444444444444,
              "#bd3786"
             ],
             [
              0.5555555555555556,
              "#d8576b"
             ],
             [
              0.6666666666666666,
              "#ed7953"
             ],
             [
              0.7777777777777778,
              "#fb9f3a"
             ],
             [
              0.8888888888888888,
              "#fdca26"
             ],
             [
              1,
              "#f0f921"
             ]
            ],
            "type": "heatmapgl"
           }
          ],
          "histogram": [
           {
            "marker": {
             "pattern": {
              "fillmode": "overlay",
              "size": 10,
              "solidity": 0.2
             }
            },
            "type": "histogram"
           }
          ],
          "histogram2d": [
           {
            "colorbar": {
             "outlinewidth": 0,
             "ticks": ""
            },
            "colorscale": [
             [
              0,
              "#0d0887"
             ],
             [
              0.1111111111111111,
              "#46039f"
             ],
             [
              0.2222222222222222,
              "#7201a8"
             ],
             [
              0.3333333333333333,
              "#9c179e"
             ],
             [
              0.4444444444444444,
              "#bd3786"
             ],
             [
              0.5555555555555556,
              "#d8576b"
             ],
             [
              0.6666666666666666,
              "#ed7953"
             ],
             [
              0.7777777777777778,
              "#fb9f3a"
             ],
             [
              0.8888888888888888,
              "#fdca26"
             ],
             [
              1,
              "#f0f921"
             ]
            ],
            "type": "histogram2d"
           }
          ],
          "histogram2dcontour": [
           {
            "colorbar": {
             "outlinewidth": 0,
             "ticks": ""
            },
            "colorscale": [
             [
              0,
              "#0d0887"
             ],
             [
              0.1111111111111111,
              "#46039f"
             ],
             [
              0.2222222222222222,
              "#7201a8"
             ],
             [
              0.3333333333333333,
              "#9c179e"
             ],
             [
              0.4444444444444444,
              "#bd3786"
             ],
             [
              0.5555555555555556,
              "#d8576b"
             ],
             [
              0.6666666666666666,
              "#ed7953"
             ],
             [
              0.7777777777777778,
              "#fb9f3a"
             ],
             [
              0.8888888888888888,
              "#fdca26"
             ],
             [
              1,
              "#f0f921"
             ]
            ],
            "type": "histogram2dcontour"
           }
          ],
          "mesh3d": [
           {
            "colorbar": {
             "outlinewidth": 0,
             "ticks": ""
            },
            "type": "mesh3d"
           }
          ],
          "parcoords": [
           {
            "line": {
             "colorbar": {
              "outlinewidth": 0,
              "ticks": ""
             }
            },
            "type": "parcoords"
           }
          ],
          "pie": [
           {
            "automargin": true,
            "type": "pie"
           }
          ],
          "scatter": [
           {
            "marker": {
             "colorbar": {
              "outlinewidth": 0,
              "ticks": ""
             }
            },
            "type": "scatter"
           }
          ],
          "scatter3d": [
           {
            "line": {
             "colorbar": {
              "outlinewidth": 0,
              "ticks": ""
             }
            },
            "marker": {
             "colorbar": {
              "outlinewidth": 0,
              "ticks": ""
             }
            },
            "type": "scatter3d"
           }
          ],
          "scattercarpet": [
           {
            "marker": {
             "colorbar": {
              "outlinewidth": 0,
              "ticks": ""
             }
            },
            "type": "scattercarpet"
           }
          ],
          "scattergeo": [
           {
            "marker": {
             "colorbar": {
              "outlinewidth": 0,
              "ticks": ""
             }
            },
            "type": "scattergeo"
           }
          ],
          "scattergl": [
           {
            "marker": {
             "colorbar": {
              "outlinewidth": 0,
              "ticks": ""
             }
            },
            "type": "scattergl"
           }
          ],
          "scattermapbox": [
           {
            "marker": {
             "colorbar": {
              "outlinewidth": 0,
              "ticks": ""
             }
            },
            "type": "scattermapbox"
           }
          ],
          "scatterpolar": [
           {
            "marker": {
             "colorbar": {
              "outlinewidth": 0,
              "ticks": ""
             }
            },
            "type": "scatterpolar"
           }
          ],
          "scatterpolargl": [
           {
            "marker": {
             "colorbar": {
              "outlinewidth": 0,
              "ticks": ""
             }
            },
            "type": "scatterpolargl"
           }
          ],
          "scatterternary": [
           {
            "marker": {
             "colorbar": {
              "outlinewidth": 0,
              "ticks": ""
             }
            },
            "type": "scatterternary"
           }
          ],
          "surface": [
           {
            "colorbar": {
             "outlinewidth": 0,
             "ticks": ""
            },
            "colorscale": [
             [
              0,
              "#0d0887"
             ],
             [
              0.1111111111111111,
              "#46039f"
             ],
             [
              0.2222222222222222,
              "#7201a8"
             ],
             [
              0.3333333333333333,
              "#9c179e"
             ],
             [
              0.4444444444444444,
              "#bd3786"
             ],
             [
              0.5555555555555556,
              "#d8576b"
             ],
             [
              0.6666666666666666,
              "#ed7953"
             ],
             [
              0.7777777777777778,
              "#fb9f3a"
             ],
             [
              0.8888888888888888,
              "#fdca26"
             ],
             [
              1,
              "#f0f921"
             ]
            ],
            "type": "surface"
           }
          ],
          "table": [
           {
            "cells": {
             "fill": {
              "color": "#EBF0F8"
             },
             "line": {
              "color": "white"
             }
            },
            "header": {
             "fill": {
              "color": "#C8D4E3"
             },
             "line": {
              "color": "white"
             }
            },
            "type": "table"
           }
          ]
         },
         "layout": {
          "annotationdefaults": {
           "arrowcolor": "#2a3f5f",
           "arrowhead": 0,
           "arrowwidth": 1
          },
          "autotypenumbers": "strict",
          "coloraxis": {
           "colorbar": {
            "outlinewidth": 0,
            "ticks": ""
           }
          },
          "colorscale": {
           "diverging": [
            [
             0,
             "#8e0152"
            ],
            [
             0.1,
             "#c51b7d"
            ],
            [
             0.2,
             "#de77ae"
            ],
            [
             0.3,
             "#f1b6da"
            ],
            [
             0.4,
             "#fde0ef"
            ],
            [
             0.5,
             "#f7f7f7"
            ],
            [
             0.6,
             "#e6f5d0"
            ],
            [
             0.7,
             "#b8e186"
            ],
            [
             0.8,
             "#7fbc41"
            ],
            [
             0.9,
             "#4d9221"
            ],
            [
             1,
             "#276419"
            ]
           ],
           "sequential": [
            [
             0,
             "#0d0887"
            ],
            [
             0.1111111111111111,
             "#46039f"
            ],
            [
             0.2222222222222222,
             "#7201a8"
            ],
            [
             0.3333333333333333,
             "#9c179e"
            ],
            [
             0.4444444444444444,
             "#bd3786"
            ],
            [
             0.5555555555555556,
             "#d8576b"
            ],
            [
             0.6666666666666666,
             "#ed7953"
            ],
            [
             0.7777777777777778,
             "#fb9f3a"
            ],
            [
             0.8888888888888888,
             "#fdca26"
            ],
            [
             1,
             "#f0f921"
            ]
           ],
           "sequentialminus": [
            [
             0,
             "#0d0887"
            ],
            [
             0.1111111111111111,
             "#46039f"
            ],
            [
             0.2222222222222222,
             "#7201a8"
            ],
            [
             0.3333333333333333,
             "#9c179e"
            ],
            [
             0.4444444444444444,
             "#bd3786"
            ],
            [
             0.5555555555555556,
             "#d8576b"
            ],
            [
             0.6666666666666666,
             "#ed7953"
            ],
            [
             0.7777777777777778,
             "#fb9f3a"
            ],
            [
             0.8888888888888888,
             "#fdca26"
            ],
            [
             1,
             "#f0f921"
            ]
           ]
          },
          "colorway": [
           "#636efa",
           "#EF553B",
           "#00cc96",
           "#ab63fa",
           "#FFA15A",
           "#19d3f3",
           "#FF6692",
           "#B6E880",
           "#FF97FF",
           "#FECB52"
          ],
          "font": {
           "color": "#2a3f5f"
          },
          "geo": {
           "bgcolor": "white",
           "lakecolor": "white",
           "landcolor": "white",
           "showlakes": true,
           "showland": true,
           "subunitcolor": "#C8D4E3"
          },
          "hoverlabel": {
           "align": "left"
          },
          "hovermode": "closest",
          "mapbox": {
           "style": "light"
          },
          "paper_bgcolor": "white",
          "plot_bgcolor": "white",
          "polar": {
           "angularaxis": {
            "gridcolor": "#EBF0F8",
            "linecolor": "#EBF0F8",
            "ticks": ""
           },
           "bgcolor": "white",
           "radialaxis": {
            "gridcolor": "#EBF0F8",
            "linecolor": "#EBF0F8",
            "ticks": ""
           }
          },
          "scene": {
           "xaxis": {
            "backgroundcolor": "white",
            "gridcolor": "#DFE8F3",
            "gridwidth": 2,
            "linecolor": "#EBF0F8",
            "showbackground": true,
            "ticks": "",
            "zerolinecolor": "#EBF0F8"
           },
           "yaxis": {
            "backgroundcolor": "white",
            "gridcolor": "#DFE8F3",
            "gridwidth": 2,
            "linecolor": "#EBF0F8",
            "showbackground": true,
            "ticks": "",
            "zerolinecolor": "#EBF0F8"
           },
           "zaxis": {
            "backgroundcolor": "white",
            "gridcolor": "#DFE8F3",
            "gridwidth": 2,
            "linecolor": "#EBF0F8",
            "showbackground": true,
            "ticks": "",
            "zerolinecolor": "#EBF0F8"
           }
          },
          "shapedefaults": {
           "line": {
            "color": "#2a3f5f"
           }
          },
          "ternary": {
           "aaxis": {
            "gridcolor": "#DFE8F3",
            "linecolor": "#A2B1C6",
            "ticks": ""
           },
           "baxis": {
            "gridcolor": "#DFE8F3",
            "linecolor": "#A2B1C6",
            "ticks": ""
           },
           "bgcolor": "white",
           "caxis": {
            "gridcolor": "#DFE8F3",
            "linecolor": "#A2B1C6",
            "ticks": ""
           }
          },
          "title": {
           "x": 0.05
          },
          "xaxis": {
           "automargin": true,
           "gridcolor": "#EBF0F8",
           "linecolor": "#EBF0F8",
           "ticks": "",
           "title": {
            "standoff": 15
           },
           "zerolinecolor": "#EBF0F8",
           "zerolinewidth": 2
          },
          "yaxis": {
           "automargin": true,
           "gridcolor": "#EBF0F8",
           "linecolor": "#EBF0F8",
           "ticks": "",
           "title": {
            "standoff": 15
           },
           "zerolinecolor": "#EBF0F8",
           "zerolinewidth": 2
          }
         }
        },
        "title": {
         "text": "Model Results for planetswe_full Dataset (Top 12)"
        },
        "width": 800,
        "xaxis": {
         "showticklabels": false,
         "title": {
          "text": "Model"
         }
        },
        "yaxis": {
         "exponentformat": "E",
         "title": {
          "text": "Test Loss"
         },
         "type": "log"
        }
       }
      }
     },
     "metadata": {},
     "output_type": "display_data"
    },
    {
     "name": "stdout",
     "output_type": "stream",
     "text": [
      "[('gru_mlp_sst_e1_d1_lr1.00e-02_p1.pkl', {'test_loss': 0.0015706232516095042, 'start_epoch': 40, 'best_val': 0.0013682936551049352, 'best_epoch': 40, 'train_losses': [0.08763495542936856, 0.025611266493797302, 0.027644022471374936, 0.02358312987618976, 0.021068058701025114, 0.02010872173640463, 0.01963767098883788, 0.019427185464236472, 0.019307324041922886, 0.019355880717436474, 0.01930902298125956, 0.019288397083679836, 0.01920843082997534, 0.019163688230845664, 0.019118323715196714, 0.019129213152660265, 0.01916152321630054, 0.01910323691036966, 0.019068804052140977, 0.019076125903262034, 0.01909270489381419, 0.01901308385034402, 0.01902760937809944, 0.019004565767116018, 0.01899071844915549, 0.018994363231791392, 0.01894232899778419, 0.01899667725794845, 0.01891983983417352, 0.018967037192649312, 0.01891509298649099, 0.0188889242708683, 0.018915969050592847, 0.01888340525329113, 0.018926629175742466, 0.018891462435324986, 0.018938654826747045, 0.018841072503063414, 0.018874805213676557, 0.01886550523340702], 'val_losses': [0.018678877502679825, 0.0036361280363053083, 0.007114063948392868, 0.0037691902834922075, 0.0027384990826249123, 0.002374673495069146, 0.0026511806063354015, 0.00252844812348485, 0.0033627627417445183, 0.0028856012504547834, 0.0014384599635377526, 0.002098744735121727, 0.0036595098208636045, 0.0029308106750249863, 0.0020815141033381224, 0.0016729007475078106, 0.0034958759788423777, 0.002078344114124775, 0.0020557984244078398, 0.002037398749962449, 0.002132170367985964, 0.0033542905002832413, 0.0014574461383745074, 0.002632726449519396, 0.0023914207704365253, 0.0022321445867419243, 0.0023505729623138905, 0.0022446592338383198, 0.002211376093327999, 0.00205617630854249, 0.0026795987505465746, 0.0019129717256873846, 0.0020691610407084227, 0.002854679711163044, 0.0022380277514457703, 0.0031749927438795567, 0.002233814913779497, 0.0024755089543759823, 0.002921022241935134, 0.0013682936551049352], 'sensors': [(98, 215), (10, 132), (130, 248), (103, 155), (122, 183), (149, 111), (129, 71), (72, 71), (64, 272), (154, 75), (18, 350), (84, 241), (143, 51), (90, 222), (80, 312), (141, 244), (113, 266), (140, 7), (0, 313), (126, 170), (62, 166), (145, 113), (139, 229), (23, 41), (81, 260), (125, 55), (77, 282), (74, 63), (140, 170), (138, 104), (154, 280), (150, 147), (152, 197), (61, 148), (47, 16), (156, 336), (66, 243), (17, 45), (20, 358), (138, 349), (100, 268), (70, 267), (70, 230), (126, 338), (91, 42), (83, 313), (150, 322), (69, 59), (56, 190), (43, 170)], 'hyperparameters': {'batch_size': 128, 'dataset': 'sst', 'decoder': 'mlp', 'decoder_depth': 1, 'device': 'cuda:1', 'dropout': 0.1, 'dt': 1.0, 'early_stop': 10, 'encoder': 'gru', 'eval_full': False, 'encoder_depth': 1, 'epochs': 100, 'hidden_size': 100, 'generate_test_plots': True, 'generate_training_plots': False, 'include_sine': False, 'lr': 0.01, 'n_heads': 2, 'n_sensors': 50, 'n_well_tracks': 10, 'poly_order': 1, 'save_every_n_epochs': 10, 'sindy_threshold': 0.05, 'sindy_weight': 100, 'skip_load_checkpoint': False, 'verbose': True, 'window_length': 50, 'd_data': 1, 'data_rows': 180, 'data_cols': 360, 'd_model': 50, 'dim_feedforward': 400, 'output_size': 64800, 'latest_checkpoint_path': PosixPath('/home/alexey/Research4/T-SHRED/checkpoints/gru_mlp_sst_e1_d1_lr1.00e-02_p1_model_latest.pt'), 'best_checkpoint_path': PosixPath('/home/alexey/Research4/T-SHRED/checkpoints/gru_mlp_sst_e1_d1_lr1.00e-02_p1_model_best.pt')}})]\n",
      "Saved /Users/alexey/Git/T-SHRED_Repo/figures/sst_scatter.pdf\n"
     ]
    },
    {
     "data": {
      "application/vnd.plotly.v1+json": {
       "config": {
        "plotlyServerURL": "https://plot.ly"
       },
       "data": [
        {
         "marker": {
          "color": "white",
          "line": {
           "color": "#5F4690",
           "width": 4
          },
          "size": 12
         },
         "mode": "markers",
         "name": "Encoder: lstm",
         "showlegend": true,
         "type": "scatter",
         "x": [
          null
         ],
         "y": [
          null
         ]
        },
        {
         "marker": {
          "color": "white",
          "line": {
           "color": "#1D6996",
           "width": 4
          },
          "size": 12
         },
         "mode": "markers",
         "name": "Encoder: gru",
         "showlegend": true,
         "type": "scatter",
         "x": [
          null
         ],
         "y": [
          null
         ]
        },
        {
         "marker": {
          "color": "white",
          "line": {
           "color": "#38A6A5",
           "width": 4
          },
          "size": 12
         },
         "mode": "markers",
         "name": "Encoder: sindy_loss_lstm",
         "showlegend": true,
         "type": "scatter",
         "x": [
          null
         ],
         "y": [
          null
         ]
        },
        {
         "marker": {
          "color": "white",
          "line": {
           "color": "#0F8554",
           "width": 4
          },
          "size": 12
         },
         "mode": "markers",
         "name": "Encoder: sindy_loss_gru",
         "showlegend": true,
         "type": "scatter",
         "x": [
          null
         ],
         "y": [
          null
         ]
        },
        {
         "marker": {
          "color": "white",
          "line": {
           "color": "#73AF48",
           "width": 4
          },
          "size": 12
         },
         "mode": "markers",
         "name": "Encoder: vanilla_transformer",
         "showlegend": true,
         "type": "scatter",
         "x": [
          null
         ],
         "y": [
          null
         ]
        },
        {
         "marker": {
          "color": "white",
          "line": {
           "color": "#EDAD08",
           "width": 4
          },
          "size": 12
         },
         "mode": "markers",
         "name": "Encoder: sindy_loss_transformer",
         "showlegend": true,
         "type": "scatter",
         "x": [
          null
         ],
         "y": [
          null
         ]
        },
        {
         "marker": {
          "color": "white",
          "line": {
           "color": "#E17C05",
           "width": 4
          },
          "size": 12
         },
         "mode": "markers",
         "name": "Encoder: sindy_attention_transformer",
         "showlegend": true,
         "type": "scatter",
         "x": [
          null
         ],
         "y": [
          null
         ]
        },
        {
         "marker": {
          "color": "white",
          "line": {
           "color": "#CC503E",
           "width": 4
          },
          "size": 12
         },
         "mode": "markers",
         "name": "Encoder: sindy_attention_sindy_loss_transformer",
         "showlegend": true,
         "type": "scatter",
         "x": [
          null
         ],
         "y": [
          null
         ]
        },
        {
         "marker": {
          "color": "#66C5CC",
          "line": {
           "color": "white",
           "width": 4
          },
          "size": 12
         },
         "mode": "markers",
         "name": "Decoder: mlp",
         "showlegend": true,
         "type": "scatter",
         "x": [
          null
         ],
         "y": [
          null
         ]
        },
        {
         "marker": {
          "color": "#F6CF71",
          "line": {
           "color": "white",
           "width": 4
          },
          "size": 12
         },
         "mode": "markers",
         "name": "Decoder: unet",
         "showlegend": true,
         "type": "scatter",
         "x": [
          null
         ],
         "y": [
          null
         ]
        },
        {
         "hovertemplate": "Encoder: sindy_loss_gru (x3)<br>Decoder: unet (x1)<br>LR: 1.00e-03<br>Test Loss: 1.92e-03<br><extra></extra>",
         "marker": {
          "color": "#F6CF71",
          "line": {
           "color": "#0F8554",
           "width": 4
          },
          "size": 12
         },
         "mode": "markers",
         "name": "sindy_loss_gru-unet",
         "showlegend": false,
         "type": "scatter",
         "x": [
          1
         ],
         "y": [
          0.0019162315875291824
         ]
        },
        {
         "hovertemplate": "Encoder: gru (x4)<br>Decoder: unet (x1)<br>LR: 1.00e-03<br>Test Loss: 1.91e-03<br><extra></extra>",
         "marker": {
          "color": "#F6CF71",
          "line": {
           "color": "#1D6996",
           "width": 4
          },
          "size": 12
         },
         "mode": "markers",
         "name": "gru-unet",
         "showlegend": false,
         "type": "scatter",
         "x": [
          2
         ],
         "y": [
          0.0019119050120934844
         ]
        },
        {
         "hovertemplate": "Encoder: gru (x3)<br>Decoder: unet (x1)<br>LR: 1.00e-03<br>Test Loss: 1.88e-03<br><extra></extra>",
         "marker": {
          "color": "#F6CF71",
          "line": {
           "color": "#1D6996",
           "width": 4
          },
          "size": 12
         },
         "mode": "markers",
         "name": "gru-unet",
         "showlegend": false,
         "type": "scatter",
         "x": [
          3
         ],
         "y": [
          0.0018762067193165421
         ]
        },
        {
         "hovertemplate": "Encoder: gru (x3)<br>Decoder: mlp (x1)<br>LR: 1.00e-03<br>Test Loss: 1.81e-03<br><extra></extra>",
         "marker": {
          "color": "#66C5CC",
          "line": {
           "color": "#1D6996",
           "width": 4
          },
          "size": 12
         },
         "mode": "markers",
         "name": "gru-mlp",
         "showlegend": false,
         "type": "scatter",
         "x": [
          4
         ],
         "y": [
          0.001812400878407061
         ]
        },
        {
         "hovertemplate": "Encoder: sindy_loss_gru (x3)<br>Decoder: mlp (x1)<br>LR: 1.00e-03<br>Test Loss: 1.78e-03<br><extra></extra>",
         "marker": {
          "color": "#66C5CC",
          "line": {
           "color": "#0F8554",
           "width": 4
          },
          "size": 12
         },
         "mode": "markers",
         "name": "sindy_loss_gru-mlp",
         "showlegend": false,
         "type": "scatter",
         "x": [
          5
         ],
         "y": [
          0.0017751598497852683
         ]
        },
        {
         "hovertemplate": "Encoder: gru (x2)<br>Decoder: unet (x1)<br>LR: 1.00e-03<br>Test Loss: 1.76e-03<br><extra></extra>",
         "marker": {
          "color": "#F6CF71",
          "line": {
           "color": "#1D6996",
           "width": 4
          },
          "size": 12
         },
         "mode": "markers",
         "name": "gru-unet",
         "showlegend": false,
         "type": "scatter",
         "x": [
          6
         ],
         "y": [
          0.0017636459087952971
         ]
        },
        {
         "hovertemplate": "Encoder: gru (x4)<br>Decoder: mlp (x1)<br>LR: 1.00e-03<br>Test Loss: 1.76e-03<br><extra></extra>",
         "marker": {
          "color": "#66C5CC",
          "line": {
           "color": "#1D6996",
           "width": 4
          },
          "size": 12
         },
         "mode": "markers",
         "name": "gru-mlp",
         "showlegend": false,
         "type": "scatter",
         "x": [
          7
         ],
         "y": [
          0.0017624946776777506
         ]
        },
        {
         "hovertemplate": "Encoder: gru (x2)<br>Decoder: mlp (x1)<br>LR: 1.00e-03<br>Test Loss: 1.72e-03<br><extra></extra>",
         "marker": {
          "color": "#66C5CC",
          "line": {
           "color": "#1D6996",
           "width": 4
          },
          "size": 12
         },
         "mode": "markers",
         "name": "gru-mlp",
         "showlegend": false,
         "type": "scatter",
         "x": [
          8
         ],
         "y": [
          0.0017196149565279484
         ]
        },
        {
         "hovertemplate": "Encoder: sindy_attention_transformer (x1)<br>Decoder: unet (x1)<br>LR: 1.00e-02<br>Test Loss: 1.69e-03<br><extra></extra>",
         "marker": {
          "color": "#F6CF71",
          "line": {
           "color": "#E17C05",
           "width": 4
          },
          "size": 12
         },
         "mode": "markers",
         "name": "sindy_attention_transformer-unet",
         "showlegend": false,
         "type": "scatter",
         "x": [
          9
         ],
         "y": [
          0.0016931942664086819
         ]
        },
        {
         "hovertemplate": "Encoder: vanilla_transformer (x1)<br>Decoder: unet (x1)<br>LR: 1.00e-02<br>Test Loss: 1.63e-03<br><extra></extra>",
         "marker": {
          "color": "#F6CF71",
          "line": {
           "color": "#73AF48",
           "width": 4
          },
          "size": 12
         },
         "mode": "markers",
         "name": "vanilla_transformer-unet",
         "showlegend": false,
         "type": "scatter",
         "x": [
          10
         ],
         "y": [
          0.0016343321185559034
         ]
        },
        {
         "hovertemplate": "Encoder: gru (x1)<br>Decoder: unet (x1)<br>LR: 1.00e-02<br>Test Loss: 1.57e-03<br><extra></extra>",
         "marker": {
          "color": "#F6CF71",
          "line": {
           "color": "#1D6996",
           "width": 4
          },
          "size": 12
         },
         "mode": "markers",
         "name": "gru-unet",
         "showlegend": false,
         "type": "scatter",
         "x": [
          11
         ],
         "y": [
          0.00157342036254704
         ]
        },
        {
         "hovertemplate": "Encoder: gru (x1)<br>Decoder: mlp (x1)<br>LR: 1.00e-02<br>Test Loss: 1.57e-03<br><extra></extra>",
         "marker": {
          "color": "#66C5CC",
          "line": {
           "color": "#1D6996",
           "width": 4
          },
          "size": 12
         },
         "mode": "markers",
         "name": "gru-mlp",
         "showlegend": false,
         "type": "scatter",
         "x": [
          12
         ],
         "y": [
          0.0015706232516095042
         ]
        }
       ],
       "layout": {
        "height": 400,
        "hovermode": "closest",
        "legend": {
         "title": {
          "text": "Legend"
         }
        },
        "showlegend": true,
        "template": {
         "data": {
          "bar": [
           {
            "error_x": {
             "color": "#2a3f5f"
            },
            "error_y": {
             "color": "#2a3f5f"
            },
            "marker": {
             "line": {
              "color": "white",
              "width": 0.5
             },
             "pattern": {
              "fillmode": "overlay",
              "size": 10,
              "solidity": 0.2
             }
            },
            "type": "bar"
           }
          ],
          "barpolar": [
           {
            "marker": {
             "line": {
              "color": "white",
              "width": 0.5
             },
             "pattern": {
              "fillmode": "overlay",
              "size": 10,
              "solidity": 0.2
             }
            },
            "type": "barpolar"
           }
          ],
          "carpet": [
           {
            "aaxis": {
             "endlinecolor": "#2a3f5f",
             "gridcolor": "#C8D4E3",
             "linecolor": "#C8D4E3",
             "minorgridcolor": "#C8D4E3",
             "startlinecolor": "#2a3f5f"
            },
            "baxis": {
             "endlinecolor": "#2a3f5f",
             "gridcolor": "#C8D4E3",
             "linecolor": "#C8D4E3",
             "minorgridcolor": "#C8D4E3",
             "startlinecolor": "#2a3f5f"
            },
            "type": "carpet"
           }
          ],
          "choropleth": [
           {
            "colorbar": {
             "outlinewidth": 0,
             "ticks": ""
            },
            "type": "choropleth"
           }
          ],
          "contour": [
           {
            "colorbar": {
             "outlinewidth": 0,
             "ticks": ""
            },
            "colorscale": [
             [
              0,
              "#0d0887"
             ],
             [
              0.1111111111111111,
              "#46039f"
             ],
             [
              0.2222222222222222,
              "#7201a8"
             ],
             [
              0.3333333333333333,
              "#9c179e"
             ],
             [
              0.4444444444444444,
              "#bd3786"
             ],
             [
              0.5555555555555556,
              "#d8576b"
             ],
             [
              0.6666666666666666,
              "#ed7953"
             ],
             [
              0.7777777777777778,
              "#fb9f3a"
             ],
             [
              0.8888888888888888,
              "#fdca26"
             ],
             [
              1,
              "#f0f921"
             ]
            ],
            "type": "contour"
           }
          ],
          "contourcarpet": [
           {
            "colorbar": {
             "outlinewidth": 0,
             "ticks": ""
            },
            "type": "contourcarpet"
           }
          ],
          "heatmap": [
           {
            "colorbar": {
             "outlinewidth": 0,
             "ticks": ""
            },
            "colorscale": [
             [
              0,
              "#0d0887"
             ],
             [
              0.1111111111111111,
              "#46039f"
             ],
             [
              0.2222222222222222,
              "#7201a8"
             ],
             [
              0.3333333333333333,
              "#9c179e"
             ],
             [
              0.4444444444444444,
              "#bd3786"
             ],
             [
              0.5555555555555556,
              "#d8576b"
             ],
             [
              0.6666666666666666,
              "#ed7953"
             ],
             [
              0.7777777777777778,
              "#fb9f3a"
             ],
             [
              0.8888888888888888,
              "#fdca26"
             ],
             [
              1,
              "#f0f921"
             ]
            ],
            "type": "heatmap"
           }
          ],
          "heatmapgl": [
           {
            "colorbar": {
             "outlinewidth": 0,
             "ticks": ""
            },
            "colorscale": [
             [
              0,
              "#0d0887"
             ],
             [
              0.1111111111111111,
              "#46039f"
             ],
             [
              0.2222222222222222,
              "#7201a8"
             ],
             [
              0.3333333333333333,
              "#9c179e"
             ],
             [
              0.4444444444444444,
              "#bd3786"
             ],
             [
              0.5555555555555556,
              "#d8576b"
             ],
             [
              0.6666666666666666,
              "#ed7953"
             ],
             [
              0.7777777777777778,
              "#fb9f3a"
             ],
             [
              0.8888888888888888,
              "#fdca26"
             ],
             [
              1,
              "#f0f921"
             ]
            ],
            "type": "heatmapgl"
           }
          ],
          "histogram": [
           {
            "marker": {
             "pattern": {
              "fillmode": "overlay",
              "size": 10,
              "solidity": 0.2
             }
            },
            "type": "histogram"
           }
          ],
          "histogram2d": [
           {
            "colorbar": {
             "outlinewidth": 0,
             "ticks": ""
            },
            "colorscale": [
             [
              0,
              "#0d0887"
             ],
             [
              0.1111111111111111,
              "#46039f"
             ],
             [
              0.2222222222222222,
              "#7201a8"
             ],
             [
              0.3333333333333333,
              "#9c179e"
             ],
             [
              0.4444444444444444,
              "#bd3786"
             ],
             [
              0.5555555555555556,
              "#d8576b"
             ],
             [
              0.6666666666666666,
              "#ed7953"
             ],
             [
              0.7777777777777778,
              "#fb9f3a"
             ],
             [
              0.8888888888888888,
              "#fdca26"
             ],
             [
              1,
              "#f0f921"
             ]
            ],
            "type": "histogram2d"
           }
          ],
          "histogram2dcontour": [
           {
            "colorbar": {
             "outlinewidth": 0,
             "ticks": ""
            },
            "colorscale": [
             [
              0,
              "#0d0887"
             ],
             [
              0.1111111111111111,
              "#46039f"
             ],
             [
              0.2222222222222222,
              "#7201a8"
             ],
             [
              0.3333333333333333,
              "#9c179e"
             ],
             [
              0.4444444444444444,
              "#bd3786"
             ],
             [
              0.5555555555555556,
              "#d8576b"
             ],
             [
              0.6666666666666666,
              "#ed7953"
             ],
             [
              0.7777777777777778,
              "#fb9f3a"
             ],
             [
              0.8888888888888888,
              "#fdca26"
             ],
             [
              1,
              "#f0f921"
             ]
            ],
            "type": "histogram2dcontour"
           }
          ],
          "mesh3d": [
           {
            "colorbar": {
             "outlinewidth": 0,
             "ticks": ""
            },
            "type": "mesh3d"
           }
          ],
          "parcoords": [
           {
            "line": {
             "colorbar": {
              "outlinewidth": 0,
              "ticks": ""
             }
            },
            "type": "parcoords"
           }
          ],
          "pie": [
           {
            "automargin": true,
            "type": "pie"
           }
          ],
          "scatter": [
           {
            "marker": {
             "colorbar": {
              "outlinewidth": 0,
              "ticks": ""
             }
            },
            "type": "scatter"
           }
          ],
          "scatter3d": [
           {
            "line": {
             "colorbar": {
              "outlinewidth": 0,
              "ticks": ""
             }
            },
            "marker": {
             "colorbar": {
              "outlinewidth": 0,
              "ticks": ""
             }
            },
            "type": "scatter3d"
           }
          ],
          "scattercarpet": [
           {
            "marker": {
             "colorbar": {
              "outlinewidth": 0,
              "ticks": ""
             }
            },
            "type": "scattercarpet"
           }
          ],
          "scattergeo": [
           {
            "marker": {
             "colorbar": {
              "outlinewidth": 0,
              "ticks": ""
             }
            },
            "type": "scattergeo"
           }
          ],
          "scattergl": [
           {
            "marker": {
             "colorbar": {
              "outlinewidth": 0,
              "ticks": ""
             }
            },
            "type": "scattergl"
           }
          ],
          "scattermapbox": [
           {
            "marker": {
             "colorbar": {
              "outlinewidth": 0,
              "ticks": ""
             }
            },
            "type": "scattermapbox"
           }
          ],
          "scatterpolar": [
           {
            "marker": {
             "colorbar": {
              "outlinewidth": 0,
              "ticks": ""
             }
            },
            "type": "scatterpolar"
           }
          ],
          "scatterpolargl": [
           {
            "marker": {
             "colorbar": {
              "outlinewidth": 0,
              "ticks": ""
             }
            },
            "type": "scatterpolargl"
           }
          ],
          "scatterternary": [
           {
            "marker": {
             "colorbar": {
              "outlinewidth": 0,
              "ticks": ""
             }
            },
            "type": "scatterternary"
           }
          ],
          "surface": [
           {
            "colorbar": {
             "outlinewidth": 0,
             "ticks": ""
            },
            "colorscale": [
             [
              0,
              "#0d0887"
             ],
             [
              0.1111111111111111,
              "#46039f"
             ],
             [
              0.2222222222222222,
              "#7201a8"
             ],
             [
              0.3333333333333333,
              "#9c179e"
             ],
             [
              0.4444444444444444,
              "#bd3786"
             ],
             [
              0.5555555555555556,
              "#d8576b"
             ],
             [
              0.6666666666666666,
              "#ed7953"
             ],
             [
              0.7777777777777778,
              "#fb9f3a"
             ],
             [
              0.8888888888888888,
              "#fdca26"
             ],
             [
              1,
              "#f0f921"
             ]
            ],
            "type": "surface"
           }
          ],
          "table": [
           {
            "cells": {
             "fill": {
              "color": "#EBF0F8"
             },
             "line": {
              "color": "white"
             }
            },
            "header": {
             "fill": {
              "color": "#C8D4E3"
             },
             "line": {
              "color": "white"
             }
            },
            "type": "table"
           }
          ]
         },
         "layout": {
          "annotationdefaults": {
           "arrowcolor": "#2a3f5f",
           "arrowhead": 0,
           "arrowwidth": 1
          },
          "autotypenumbers": "strict",
          "coloraxis": {
           "colorbar": {
            "outlinewidth": 0,
            "ticks": ""
           }
          },
          "colorscale": {
           "diverging": [
            [
             0,
             "#8e0152"
            ],
            [
             0.1,
             "#c51b7d"
            ],
            [
             0.2,
             "#de77ae"
            ],
            [
             0.3,
             "#f1b6da"
            ],
            [
             0.4,
             "#fde0ef"
            ],
            [
             0.5,
             "#f7f7f7"
            ],
            [
             0.6,
             "#e6f5d0"
            ],
            [
             0.7,
             "#b8e186"
            ],
            [
             0.8,
             "#7fbc41"
            ],
            [
             0.9,
             "#4d9221"
            ],
            [
             1,
             "#276419"
            ]
           ],
           "sequential": [
            [
             0,
             "#0d0887"
            ],
            [
             0.1111111111111111,
             "#46039f"
            ],
            [
             0.2222222222222222,
             "#7201a8"
            ],
            [
             0.3333333333333333,
             "#9c179e"
            ],
            [
             0.4444444444444444,
             "#bd3786"
            ],
            [
             0.5555555555555556,
             "#d8576b"
            ],
            [
             0.6666666666666666,
             "#ed7953"
            ],
            [
             0.7777777777777778,
             "#fb9f3a"
            ],
            [
             0.8888888888888888,
             "#fdca26"
            ],
            [
             1,
             "#f0f921"
            ]
           ],
           "sequentialminus": [
            [
             0,
             "#0d0887"
            ],
            [
             0.1111111111111111,
             "#46039f"
            ],
            [
             0.2222222222222222,
             "#7201a8"
            ],
            [
             0.3333333333333333,
             "#9c179e"
            ],
            [
             0.4444444444444444,
             "#bd3786"
            ],
            [
             0.5555555555555556,
             "#d8576b"
            ],
            [
             0.6666666666666666,
             "#ed7953"
            ],
            [
             0.7777777777777778,
             "#fb9f3a"
            ],
            [
             0.8888888888888888,
             "#fdca26"
            ],
            [
             1,
             "#f0f921"
            ]
           ]
          },
          "colorway": [
           "#636efa",
           "#EF553B",
           "#00cc96",
           "#ab63fa",
           "#FFA15A",
           "#19d3f3",
           "#FF6692",
           "#B6E880",
           "#FF97FF",
           "#FECB52"
          ],
          "font": {
           "color": "#2a3f5f"
          },
          "geo": {
           "bgcolor": "white",
           "lakecolor": "white",
           "landcolor": "white",
           "showlakes": true,
           "showland": true,
           "subunitcolor": "#C8D4E3"
          },
          "hoverlabel": {
           "align": "left"
          },
          "hovermode": "closest",
          "mapbox": {
           "style": "light"
          },
          "paper_bgcolor": "white",
          "plot_bgcolor": "white",
          "polar": {
           "angularaxis": {
            "gridcolor": "#EBF0F8",
            "linecolor": "#EBF0F8",
            "ticks": ""
           },
           "bgcolor": "white",
           "radialaxis": {
            "gridcolor": "#EBF0F8",
            "linecolor": "#EBF0F8",
            "ticks": ""
           }
          },
          "scene": {
           "xaxis": {
            "backgroundcolor": "white",
            "gridcolor": "#DFE8F3",
            "gridwidth": 2,
            "linecolor": "#EBF0F8",
            "showbackground": true,
            "ticks": "",
            "zerolinecolor": "#EBF0F8"
           },
           "yaxis": {
            "backgroundcolor": "white",
            "gridcolor": "#DFE8F3",
            "gridwidth": 2,
            "linecolor": "#EBF0F8",
            "showbackground": true,
            "ticks": "",
            "zerolinecolor": "#EBF0F8"
           },
           "zaxis": {
            "backgroundcolor": "white",
            "gridcolor": "#DFE8F3",
            "gridwidth": 2,
            "linecolor": "#EBF0F8",
            "showbackground": true,
            "ticks": "",
            "zerolinecolor": "#EBF0F8"
           }
          },
          "shapedefaults": {
           "line": {
            "color": "#2a3f5f"
           }
          },
          "ternary": {
           "aaxis": {
            "gridcolor": "#DFE8F3",
            "linecolor": "#A2B1C6",
            "ticks": ""
           },
           "baxis": {
            "gridcolor": "#DFE8F3",
            "linecolor": "#A2B1C6",
            "ticks": ""
           },
           "bgcolor": "white",
           "caxis": {
            "gridcolor": "#DFE8F3",
            "linecolor": "#A2B1C6",
            "ticks": ""
           }
          },
          "title": {
           "x": 0.05
          },
          "xaxis": {
           "automargin": true,
           "gridcolor": "#EBF0F8",
           "linecolor": "#EBF0F8",
           "ticks": "",
           "title": {
            "standoff": 15
           },
           "zerolinecolor": "#EBF0F8",
           "zerolinewidth": 2
          },
          "yaxis": {
           "automargin": true,
           "gridcolor": "#EBF0F8",
           "linecolor": "#EBF0F8",
           "ticks": "",
           "title": {
            "standoff": 15
           },
           "zerolinecolor": "#EBF0F8",
           "zerolinewidth": 2
          }
         }
        },
        "title": {
         "text": "Model Results for sst Dataset (Top 12)"
        },
        "width": 800,
        "xaxis": {
         "showticklabels": false,
         "title": {
          "text": "Model"
         }
        },
        "yaxis": {
         "exponentformat": "E",
         "title": {
          "text": "Test Loss"
         },
         "type": "log"
        }
       }
      }
     },
     "metadata": {},
     "output_type": "display_data"
    },
    {
     "name": "stdout",
     "output_type": "stream",
     "text": [
      "[('lstm_mlp_plasma_e3_d1_lr1.00e-02_p1.pkl', {'test_loss': 0.0009910279180845604, 'start_epoch': 96, 'best_val': 0.002528695808275818, 'best_epoch': 96, 'train_losses': [0.06751685664782849, 0.043637260876215285, 0.04292129389851053, 0.04288506996421338, 0.042856693023095166, 0.04286523630112917, 0.042869424361309576, 0.0428516896681774, 0.04285840807061126, 0.042822744797036016, 0.042872795903117114, 0.04285112790165156, 0.04284719654207102, 0.042865893193985136, 0.04283975475352176, 0.04286431604565785, 0.04286354470209484, 0.04289540296778482, 0.04287197526970339, 0.042851343977552844, 0.042877176645100844, 0.04283410056047776, 0.042851163142353946, 0.042840250489050456, 0.042885759369517766, 0.042860649625822866, 0.042860323168935566, 0.04281570184114786, 0.042874809708038385, 0.04279780977036251, 0.04288944399886178, 0.04280651641733165, 0.0428446507729463, 0.042813631232347514, 0.04284077153117407, 0.04286007224208247, 0.04283048436408205, 0.042865650016823534, 0.042843974582905314, 0.04289386341679125, 0.042831929260071754, 0.04285347071949873, 0.04288883073994133, 0.04280992097916975, 0.04283677702293779, 0.04283910511183913, 0.04281821221548275, 0.04284525803152082, 0.04278849809455466, 0.04286451703005464, 0.04281699010272966, 0.042830822196247516, 0.04285742824675103, 0.042830358628736506, 0.04275992784621942, 0.042769312777005845, 0.042736305345366474, 0.042753825168104935, 0.042722064185969154, 0.04273947919299713, 0.042776825971484474, 0.042723855824003544, 0.04276025518231148, 0.04276869904675913, 0.04277827867154947, 0.04271304720690941, 0.04271393157813671, 0.042709317058324814, 0.042727043258520225, 0.042712942699373785, 0.04272915594225382, 0.04272994949253516, 0.04276168218603099, 0.04273711672447024, 0.04275800115508175, 0.04273031440783301, 0.042729303340479696, 0.04272776966293653, 0.04277384189612384, 0.042756509942222395, 0.042749379482800075, 0.042733285657680815, 0.04274345359735535, 0.04277252803790018, 0.04274224568783802, 0.042757549406983265, 0.04272101167816025, 0.04266791048384931, 0.042736204200562476, 0.042664431679060276, 0.042694142156273776, 0.04268712226818078, 0.04262959543805923, 0.04267316930666747, 0.04264224137557974, 0.04265246483205009], 'val_losses': [0.005828901977600673, 0.004228922301151145, 0.0044624224403658165, 0.004683870719208454, 0.004464223510764826, 0.004450619825197814, 0.0039845796284050895, 0.003955643010648111, 0.004528947223801739, 0.004372629180299834, 0.004442932697621962, 0.003762575488788291, 0.0031282190958826016, 0.005077330646320031, 0.005069205259832625, 0.004644905982646518, 0.004348659386428503, 0.004368668431057953, 0.0038298372170314766, 0.004335115775645066, 0.00309472805999506, 0.004749994084704667, 0.003453886902067237, 0.0038663755538156973, 0.004198836292534207, 0.0032867944145646808, 0.004710434174809892, 0.0034305980258907834, 0.003975773310790269, 0.0037410556777523686, 0.0037767481855833186, 0.003349559717417623, 0.004489824354935151, 0.0047499644077526266, 0.004837984313221218, 0.004213267453731253, 0.005204224117243519, 0.0040486356950938125, 0.004432952694165019, 0.004563013664804972, 0.0036771119966243324, 0.0043785194955909485, 0.002884847235131579, 0.004125328689741974, 0.0040633642616180275, 0.003589302211856613, 0.0041437536666098125, 0.0046569484268100215, 0.003978888414656887, 0.003344137396197766, 0.003865829270440512, 0.003955387152158297, 0.003377759730658279, 0.0037923886780985273, 0.003471050711456113, 0.003215770049092288, 0.003973454863835986, 0.004099138685537932, 0.003958221180185389, 0.003993428751038244, 0.0038331460180835654, 0.00413761113752396, 0.0030426479240234653, 0.0031998802800304615, 0.0035821978056516787, 0.003724904466742793, 0.003339209741590401, 0.004201068457824966, 0.0033084638237666627, 0.003762012566977109, 0.004038900647384043, 0.003713320040752968, 0.0037954481578288744, 0.0036426637805281924, 0.0035398480160018573, 0.003863327894718028, 0.0029354054691234175, 0.002972978695582312, 0.0034625506422554073, 0.0033608968683088627, 0.0032668627771692206, 0.0038491915374134597, 0.003793012561240735, 0.0033748370702736652, 0.0031147667950090882, 0.0037122980709402608, 0.003842332306353805, 0.003710829979704263, 0.003240052767348691, 0.0033315308436823008, 0.003997353818983986, 0.0038504563674975475, 0.003345983479028711, 0.0033976511555150724, 0.0031333067745435983, 0.002528695808275818], 'sensors': [(0, 1552), (0, 82), (0, 1977), (0, 829), (0, 1982), (0, 733), (0, 1033), (0, 577), (0, 1547), (0, 1266), (0, 1863), (0, 635), (0, 1494), (0, 1840), (0, 966), (0, 724), (0, 647), (0, 1979), (0, 906), (0, 127), (0, 191), (0, 1454), (0, 1253), (0, 1695), (0, 499), (0, 1441), (0, 391), (0, 488), (0, 1644), (0, 186), (0, 655), (0, 223), (0, 1128), (0, 1447), (0, 1121), (0, 1668), (0, 1973), (0, 911), (0, 1221), (0, 649), (0, 594), (0, 387), (0, 67), (0, 975), (0, 183), (0, 1795), (0, 1891), (0, 1725), (0, 1839), (0, 1715)], 'hyperparameters': {'batch_size': 128, 'dataset': 'plasma', 'decoder': 'mlp', 'decoder_depth': 1, 'device': 'cuda:0', 'dropout': 0.1, 'dt': 1.0, 'early_stop': 10, 'encoder': 'lstm', 'eval_full': False, 'encoder_depth': 3, 'epochs': 100, 'hidden_size': 4, 'generate_test_plots': True, 'generate_training_plots': False, 'include_sine': False, 'lr': 0.01, 'n_heads': 2, 'n_sensors': 50, 'n_well_tracks': 10, 'poly_order': 1, 'save_every_n_epochs': 10, 'sindy_threshold': 0.05, 'sindy_weight': 100, 'skip_load_checkpoint': False, 'verbose': True, 'window_length': 50, 'd_data': 1, 'data_rows': 1, 'data_cols': 2000, 'd_model': 50, 'dim_feedforward': 16, 'output_size': 2000, 'latest_checkpoint_path': PosixPath('/app/code/checkpoints/lstm_mlp_plasma_e3_d1_lr1.00e-02_p1_model_latest.pt'), 'best_checkpoint_path': PosixPath('/app/code/checkpoints/lstm_mlp_plasma_e3_d1_lr1.00e-02_p1_model_best.pt')}})]\n",
      "Saved /Users/alexey/Git/T-SHRED_Repo/figures/plasma_scatter.pdf\n"
     ]
    },
    {
     "data": {
      "application/vnd.plotly.v1+json": {
       "config": {
        "plotlyServerURL": "https://plot.ly"
       },
       "data": [
        {
         "marker": {
          "color": "white",
          "line": {
           "color": "#5F4690",
           "width": 4
          },
          "size": 12
         },
         "mode": "markers",
         "name": "Encoder: lstm",
         "showlegend": true,
         "type": "scatter",
         "x": [
          null
         ],
         "y": [
          null
         ]
        },
        {
         "marker": {
          "color": "white",
          "line": {
           "color": "#1D6996",
           "width": 4
          },
          "size": 12
         },
         "mode": "markers",
         "name": "Encoder: gru",
         "showlegend": true,
         "type": "scatter",
         "x": [
          null
         ],
         "y": [
          null
         ]
        },
        {
         "marker": {
          "color": "white",
          "line": {
           "color": "#38A6A5",
           "width": 4
          },
          "size": 12
         },
         "mode": "markers",
         "name": "Encoder: sindy_loss_lstm",
         "showlegend": true,
         "type": "scatter",
         "x": [
          null
         ],
         "y": [
          null
         ]
        },
        {
         "marker": {
          "color": "white",
          "line": {
           "color": "#0F8554",
           "width": 4
          },
          "size": 12
         },
         "mode": "markers",
         "name": "Encoder: sindy_loss_gru",
         "showlegend": true,
         "type": "scatter",
         "x": [
          null
         ],
         "y": [
          null
         ]
        },
        {
         "marker": {
          "color": "white",
          "line": {
           "color": "#73AF48",
           "width": 4
          },
          "size": 12
         },
         "mode": "markers",
         "name": "Encoder: vanilla_transformer",
         "showlegend": true,
         "type": "scatter",
         "x": [
          null
         ],
         "y": [
          null
         ]
        },
        {
         "marker": {
          "color": "white",
          "line": {
           "color": "#EDAD08",
           "width": 4
          },
          "size": 12
         },
         "mode": "markers",
         "name": "Encoder: sindy_loss_transformer",
         "showlegend": true,
         "type": "scatter",
         "x": [
          null
         ],
         "y": [
          null
         ]
        },
        {
         "marker": {
          "color": "white",
          "line": {
           "color": "#E17C05",
           "width": 4
          },
          "size": 12
         },
         "mode": "markers",
         "name": "Encoder: sindy_attention_transformer",
         "showlegend": true,
         "type": "scatter",
         "x": [
          null
         ],
         "y": [
          null
         ]
        },
        {
         "marker": {
          "color": "white",
          "line": {
           "color": "#CC503E",
           "width": 4
          },
          "size": 12
         },
         "mode": "markers",
         "name": "Encoder: sindy_attention_sindy_loss_transformer",
         "showlegend": true,
         "type": "scatter",
         "x": [
          null
         ],
         "y": [
          null
         ]
        },
        {
         "marker": {
          "color": "#66C5CC",
          "line": {
           "color": "white",
           "width": 4
          },
          "size": 12
         },
         "mode": "markers",
         "name": "Decoder: mlp",
         "showlegend": true,
         "type": "scatter",
         "x": [
          null
         ],
         "y": [
          null
         ]
        },
        {
         "marker": {
          "color": "#F6CF71",
          "line": {
           "color": "white",
           "width": 4
          },
          "size": 12
         },
         "mode": "markers",
         "name": "Decoder: unet",
         "showlegend": true,
         "type": "scatter",
         "x": [
          null
         ],
         "y": [
          null
         ]
        },
        {
         "hovertemplate": "Encoder: gru (x3)<br>Decoder: unet (x1)<br>LR: 1.00e-03<br>Test Loss: 1.14e-03<br><extra></extra>",
         "marker": {
          "color": "#F6CF71",
          "line": {
           "color": "#1D6996",
           "width": 4
          },
          "size": 12
         },
         "mode": "markers",
         "name": "gru-unet",
         "showlegend": false,
         "type": "scatter",
         "x": [
          1
         ],
         "y": [
          0.001136694241162891
         ]
        },
        {
         "hovertemplate": "Encoder: gru (x2)<br>Decoder: mlp (x1)<br>LR: 1.00e-02<br>Test Loss: 1.13e-03<br><extra></extra>",
         "marker": {
          "color": "#66C5CC",
          "line": {
           "color": "#1D6996",
           "width": 4
          },
          "size": 12
         },
         "mode": "markers",
         "name": "gru-mlp",
         "showlegend": false,
         "type": "scatter",
         "x": [
          2
         ],
         "y": [
          0.001129190538799426
         ]
        },
        {
         "hovertemplate": "Encoder: gru (x1)<br>Decoder: mlp (x1)<br>LR: 1.00e-02<br>Test Loss: 1.13e-03<br><extra></extra>",
         "marker": {
          "color": "#66C5CC",
          "line": {
           "color": "#1D6996",
           "width": 4
          },
          "size": 12
         },
         "mode": "markers",
         "name": "gru-mlp",
         "showlegend": false,
         "type": "scatter",
         "x": [
          3
         ],
         "y": [
          0.001127227822927615
         ]
        },
        {
         "hovertemplate": "Encoder: sindy_loss_gru (x4)<br>Decoder: mlp (x1)<br>LR: 1.00e-02<br>Test Loss: 1.12e-03<br><extra></extra>",
         "marker": {
          "color": "#66C5CC",
          "line": {
           "color": "#0F8554",
           "width": 4
          },
          "size": 12
         },
         "mode": "markers",
         "name": "sindy_loss_gru-mlp",
         "showlegend": false,
         "type": "scatter",
         "x": [
          4
         ],
         "y": [
          0.0011227298371243076
         ]
        },
        {
         "hovertemplate": "Encoder: sindy_loss_gru (x2)<br>Decoder: mlp (x1)<br>LR: 1.00e-02<br>Test Loss: 1.12e-03<br><extra></extra>",
         "marker": {
          "color": "#66C5CC",
          "line": {
           "color": "#0F8554",
           "width": 4
          },
          "size": 12
         },
         "mode": "markers",
         "name": "sindy_loss_gru-mlp",
         "showlegend": false,
         "type": "scatter",
         "x": [
          5
         ],
         "y": [
          0.00112063845153898
         ]
        },
        {
         "hovertemplate": "Encoder: gru (x1)<br>Decoder: unet (x1)<br>LR: 1.00e-03<br>Test Loss: 1.10e-03<br><extra></extra>",
         "marker": {
          "color": "#F6CF71",
          "line": {
           "color": "#1D6996",
           "width": 4
          },
          "size": 12
         },
         "mode": "markers",
         "name": "gru-unet",
         "showlegend": false,
         "type": "scatter",
         "x": [
          6
         ],
         "y": [
          0.0010978334164694669
         ]
        },
        {
         "hovertemplate": "Encoder: lstm (x1)<br>Decoder: mlp (x1)<br>LR: 1.00e-03<br>Test Loss: 1.09e-03<br><extra></extra>",
         "marker": {
          "color": "#66C5CC",
          "line": {
           "color": "#5F4690",
           "width": 4
          },
          "size": 12
         },
         "mode": "markers",
         "name": "lstm-mlp",
         "showlegend": false,
         "type": "scatter",
         "x": [
          7
         ],
         "y": [
          0.0010934915928653656
         ]
        },
        {
         "hovertemplate": "Encoder: gru (x2)<br>Decoder: unet (x1)<br>LR: 1.00e-03<br>Test Loss: 1.08e-03<br><extra></extra>",
         "marker": {
          "color": "#F6CF71",
          "line": {
           "color": "#1D6996",
           "width": 4
          },
          "size": 12
         },
         "mode": "markers",
         "name": "gru-unet",
         "showlegend": false,
         "type": "scatter",
         "x": [
          8
         ],
         "y": [
          0.0010836193491391337
         ]
        },
        {
         "hovertemplate": "Encoder: sindy_loss_lstm (x1)<br>Decoder: mlp (x1)<br>LR: 1.00e-02<br>Test Loss: 1.07e-03<br><extra></extra>",
         "marker": {
          "color": "#66C5CC",
          "line": {
           "color": "#38A6A5",
           "width": 4
          },
          "size": 12
         },
         "mode": "markers",
         "name": "sindy_loss_lstm-mlp",
         "showlegend": false,
         "type": "scatter",
         "x": [
          9
         ],
         "y": [
          0.0010747108518934022
         ]
        },
        {
         "hovertemplate": "Encoder: gru (x1)<br>Decoder: unet (x1)<br>LR: 1.00e-02<br>Test Loss: 1.06e-03<br><extra></extra>",
         "marker": {
          "color": "#F6CF71",
          "line": {
           "color": "#1D6996",
           "width": 4
          },
          "size": 12
         },
         "mode": "markers",
         "name": "gru-unet",
         "showlegend": false,
         "type": "scatter",
         "x": [
          10
         ],
         "y": [
          0.001064377586142375
         ]
        },
        {
         "hovertemplate": "Encoder: lstm (x1)<br>Decoder: unet (x1)<br>LR: 1.00e-02<br>Test Loss: 1.06e-03<br><extra></extra>",
         "marker": {
          "color": "#F6CF71",
          "line": {
           "color": "#5F4690",
           "width": 4
          },
          "size": 12
         },
         "mode": "markers",
         "name": "lstm-unet",
         "showlegend": false,
         "type": "scatter",
         "x": [
          11
         ],
         "y": [
          0.0010630676798218002
         ]
        },
        {
         "hovertemplate": "Encoder: lstm (x3)<br>Decoder: mlp (x1)<br>LR: 1.00e-02<br>Test Loss: 9.91e-04<br><extra></extra>",
         "marker": {
          "color": "#66C5CC",
          "line": {
           "color": "#5F4690",
           "width": 4
          },
          "size": 12
         },
         "mode": "markers",
         "name": "lstm-mlp",
         "showlegend": false,
         "type": "scatter",
         "x": [
          12
         ],
         "y": [
          0.0009910279180845604
         ]
        }
       ],
       "layout": {
        "height": 400,
        "hovermode": "closest",
        "legend": {
         "title": {
          "text": "Legend"
         }
        },
        "showlegend": true,
        "template": {
         "data": {
          "bar": [
           {
            "error_x": {
             "color": "#2a3f5f"
            },
            "error_y": {
             "color": "#2a3f5f"
            },
            "marker": {
             "line": {
              "color": "white",
              "width": 0.5
             },
             "pattern": {
              "fillmode": "overlay",
              "size": 10,
              "solidity": 0.2
             }
            },
            "type": "bar"
           }
          ],
          "barpolar": [
           {
            "marker": {
             "line": {
              "color": "white",
              "width": 0.5
             },
             "pattern": {
              "fillmode": "overlay",
              "size": 10,
              "solidity": 0.2
             }
            },
            "type": "barpolar"
           }
          ],
          "carpet": [
           {
            "aaxis": {
             "endlinecolor": "#2a3f5f",
             "gridcolor": "#C8D4E3",
             "linecolor": "#C8D4E3",
             "minorgridcolor": "#C8D4E3",
             "startlinecolor": "#2a3f5f"
            },
            "baxis": {
             "endlinecolor": "#2a3f5f",
             "gridcolor": "#C8D4E3",
             "linecolor": "#C8D4E3",
             "minorgridcolor": "#C8D4E3",
             "startlinecolor": "#2a3f5f"
            },
            "type": "carpet"
           }
          ],
          "choropleth": [
           {
            "colorbar": {
             "outlinewidth": 0,
             "ticks": ""
            },
            "type": "choropleth"
           }
          ],
          "contour": [
           {
            "colorbar": {
             "outlinewidth": 0,
             "ticks": ""
            },
            "colorscale": [
             [
              0,
              "#0d0887"
             ],
             [
              0.1111111111111111,
              "#46039f"
             ],
             [
              0.2222222222222222,
              "#7201a8"
             ],
             [
              0.3333333333333333,
              "#9c179e"
             ],
             [
              0.4444444444444444,
              "#bd3786"
             ],
             [
              0.5555555555555556,
              "#d8576b"
             ],
             [
              0.6666666666666666,
              "#ed7953"
             ],
             [
              0.7777777777777778,
              "#fb9f3a"
             ],
             [
              0.8888888888888888,
              "#fdca26"
             ],
             [
              1,
              "#f0f921"
             ]
            ],
            "type": "contour"
           }
          ],
          "contourcarpet": [
           {
            "colorbar": {
             "outlinewidth": 0,
             "ticks": ""
            },
            "type": "contourcarpet"
           }
          ],
          "heatmap": [
           {
            "colorbar": {
             "outlinewidth": 0,
             "ticks": ""
            },
            "colorscale": [
             [
              0,
              "#0d0887"
             ],
             [
              0.1111111111111111,
              "#46039f"
             ],
             [
              0.2222222222222222,
              "#7201a8"
             ],
             [
              0.3333333333333333,
              "#9c179e"
             ],
             [
              0.4444444444444444,
              "#bd3786"
             ],
             [
              0.5555555555555556,
              "#d8576b"
             ],
             [
              0.6666666666666666,
              "#ed7953"
             ],
             [
              0.7777777777777778,
              "#fb9f3a"
             ],
             [
              0.8888888888888888,
              "#fdca26"
             ],
             [
              1,
              "#f0f921"
             ]
            ],
            "type": "heatmap"
           }
          ],
          "heatmapgl": [
           {
            "colorbar": {
             "outlinewidth": 0,
             "ticks": ""
            },
            "colorscale": [
             [
              0,
              "#0d0887"
             ],
             [
              0.1111111111111111,
              "#46039f"
             ],
             [
              0.2222222222222222,
              "#7201a8"
             ],
             [
              0.3333333333333333,
              "#9c179e"
             ],
             [
              0.4444444444444444,
              "#bd3786"
             ],
             [
              0.5555555555555556,
              "#d8576b"
             ],
             [
              0.6666666666666666,
              "#ed7953"
             ],
             [
              0.7777777777777778,
              "#fb9f3a"
             ],
             [
              0.8888888888888888,
              "#fdca26"
             ],
             [
              1,
              "#f0f921"
             ]
            ],
            "type": "heatmapgl"
           }
          ],
          "histogram": [
           {
            "marker": {
             "pattern": {
              "fillmode": "overlay",
              "size": 10,
              "solidity": 0.2
             }
            },
            "type": "histogram"
           }
          ],
          "histogram2d": [
           {
            "colorbar": {
             "outlinewidth": 0,
             "ticks": ""
            },
            "colorscale": [
             [
              0,
              "#0d0887"
             ],
             [
              0.1111111111111111,
              "#46039f"
             ],
             [
              0.2222222222222222,
              "#7201a8"
             ],
             [
              0.3333333333333333,
              "#9c179e"
             ],
             [
              0.4444444444444444,
              "#bd3786"
             ],
             [
              0.5555555555555556,
              "#d8576b"
             ],
             [
              0.6666666666666666,
              "#ed7953"
             ],
             [
              0.7777777777777778,
              "#fb9f3a"
             ],
             [
              0.8888888888888888,
              "#fdca26"
             ],
             [
              1,
              "#f0f921"
             ]
            ],
            "type": "histogram2d"
           }
          ],
          "histogram2dcontour": [
           {
            "colorbar": {
             "outlinewidth": 0,
             "ticks": ""
            },
            "colorscale": [
             [
              0,
              "#0d0887"
             ],
             [
              0.1111111111111111,
              "#46039f"
             ],
             [
              0.2222222222222222,
              "#7201a8"
             ],
             [
              0.3333333333333333,
              "#9c179e"
             ],
             [
              0.4444444444444444,
              "#bd3786"
             ],
             [
              0.5555555555555556,
              "#d8576b"
             ],
             [
              0.6666666666666666,
              "#ed7953"
             ],
             [
              0.7777777777777778,
              "#fb9f3a"
             ],
             [
              0.8888888888888888,
              "#fdca26"
             ],
             [
              1,
              "#f0f921"
             ]
            ],
            "type": "histogram2dcontour"
           }
          ],
          "mesh3d": [
           {
            "colorbar": {
             "outlinewidth": 0,
             "ticks": ""
            },
            "type": "mesh3d"
           }
          ],
          "parcoords": [
           {
            "line": {
             "colorbar": {
              "outlinewidth": 0,
              "ticks": ""
             }
            },
            "type": "parcoords"
           }
          ],
          "pie": [
           {
            "automargin": true,
            "type": "pie"
           }
          ],
          "scatter": [
           {
            "marker": {
             "colorbar": {
              "outlinewidth": 0,
              "ticks": ""
             }
            },
            "type": "scatter"
           }
          ],
          "scatter3d": [
           {
            "line": {
             "colorbar": {
              "outlinewidth": 0,
              "ticks": ""
             }
            },
            "marker": {
             "colorbar": {
              "outlinewidth": 0,
              "ticks": ""
             }
            },
            "type": "scatter3d"
           }
          ],
          "scattercarpet": [
           {
            "marker": {
             "colorbar": {
              "outlinewidth": 0,
              "ticks": ""
             }
            },
            "type": "scattercarpet"
           }
          ],
          "scattergeo": [
           {
            "marker": {
             "colorbar": {
              "outlinewidth": 0,
              "ticks": ""
             }
            },
            "type": "scattergeo"
           }
          ],
          "scattergl": [
           {
            "marker": {
             "colorbar": {
              "outlinewidth": 0,
              "ticks": ""
             }
            },
            "type": "scattergl"
           }
          ],
          "scattermapbox": [
           {
            "marker": {
             "colorbar": {
              "outlinewidth": 0,
              "ticks": ""
             }
            },
            "type": "scattermapbox"
           }
          ],
          "scatterpolar": [
           {
            "marker": {
             "colorbar": {
              "outlinewidth": 0,
              "ticks": ""
             }
            },
            "type": "scatterpolar"
           }
          ],
          "scatterpolargl": [
           {
            "marker": {
             "colorbar": {
              "outlinewidth": 0,
              "ticks": ""
             }
            },
            "type": "scatterpolargl"
           }
          ],
          "scatterternary": [
           {
            "marker": {
             "colorbar": {
              "outlinewidth": 0,
              "ticks": ""
             }
            },
            "type": "scatterternary"
           }
          ],
          "surface": [
           {
            "colorbar": {
             "outlinewidth": 0,
             "ticks": ""
            },
            "colorscale": [
             [
              0,
              "#0d0887"
             ],
             [
              0.1111111111111111,
              "#46039f"
             ],
             [
              0.2222222222222222,
              "#7201a8"
             ],
             [
              0.3333333333333333,
              "#9c179e"
             ],
             [
              0.4444444444444444,
              "#bd3786"
             ],
             [
              0.5555555555555556,
              "#d8576b"
             ],
             [
              0.6666666666666666,
              "#ed7953"
             ],
             [
              0.7777777777777778,
              "#fb9f3a"
             ],
             [
              0.8888888888888888,
              "#fdca26"
             ],
             [
              1,
              "#f0f921"
             ]
            ],
            "type": "surface"
           }
          ],
          "table": [
           {
            "cells": {
             "fill": {
              "color": "#EBF0F8"
             },
             "line": {
              "color": "white"
             }
            },
            "header": {
             "fill": {
              "color": "#C8D4E3"
             },
             "line": {
              "color": "white"
             }
            },
            "type": "table"
           }
          ]
         },
         "layout": {
          "annotationdefaults": {
           "arrowcolor": "#2a3f5f",
           "arrowhead": 0,
           "arrowwidth": 1
          },
          "autotypenumbers": "strict",
          "coloraxis": {
           "colorbar": {
            "outlinewidth": 0,
            "ticks": ""
           }
          },
          "colorscale": {
           "diverging": [
            [
             0,
             "#8e0152"
            ],
            [
             0.1,
             "#c51b7d"
            ],
            [
             0.2,
             "#de77ae"
            ],
            [
             0.3,
             "#f1b6da"
            ],
            [
             0.4,
             "#fde0ef"
            ],
            [
             0.5,
             "#f7f7f7"
            ],
            [
             0.6,
             "#e6f5d0"
            ],
            [
             0.7,
             "#b8e186"
            ],
            [
             0.8,
             "#7fbc41"
            ],
            [
             0.9,
             "#4d9221"
            ],
            [
             1,
             "#276419"
            ]
           ],
           "sequential": [
            [
             0,
             "#0d0887"
            ],
            [
             0.1111111111111111,
             "#46039f"
            ],
            [
             0.2222222222222222,
             "#7201a8"
            ],
            [
             0.3333333333333333,
             "#9c179e"
            ],
            [
             0.4444444444444444,
             "#bd3786"
            ],
            [
             0.5555555555555556,
             "#d8576b"
            ],
            [
             0.6666666666666666,
             "#ed7953"
            ],
            [
             0.7777777777777778,
             "#fb9f3a"
            ],
            [
             0.8888888888888888,
             "#fdca26"
            ],
            [
             1,
             "#f0f921"
            ]
           ],
           "sequentialminus": [
            [
             0,
             "#0d0887"
            ],
            [
             0.1111111111111111,
             "#46039f"
            ],
            [
             0.2222222222222222,
             "#7201a8"
            ],
            [
             0.3333333333333333,
             "#9c179e"
            ],
            [
             0.4444444444444444,
             "#bd3786"
            ],
            [
             0.5555555555555556,
             "#d8576b"
            ],
            [
             0.6666666666666666,
             "#ed7953"
            ],
            [
             0.7777777777777778,
             "#fb9f3a"
            ],
            [
             0.8888888888888888,
             "#fdca26"
            ],
            [
             1,
             "#f0f921"
            ]
           ]
          },
          "colorway": [
           "#636efa",
           "#EF553B",
           "#00cc96",
           "#ab63fa",
           "#FFA15A",
           "#19d3f3",
           "#FF6692",
           "#B6E880",
           "#FF97FF",
           "#FECB52"
          ],
          "font": {
           "color": "#2a3f5f"
          },
          "geo": {
           "bgcolor": "white",
           "lakecolor": "white",
           "landcolor": "white",
           "showlakes": true,
           "showland": true,
           "subunitcolor": "#C8D4E3"
          },
          "hoverlabel": {
           "align": "left"
          },
          "hovermode": "closest",
          "mapbox": {
           "style": "light"
          },
          "paper_bgcolor": "white",
          "plot_bgcolor": "white",
          "polar": {
           "angularaxis": {
            "gridcolor": "#EBF0F8",
            "linecolor": "#EBF0F8",
            "ticks": ""
           },
           "bgcolor": "white",
           "radialaxis": {
            "gridcolor": "#EBF0F8",
            "linecolor": "#EBF0F8",
            "ticks": ""
           }
          },
          "scene": {
           "xaxis": {
            "backgroundcolor": "white",
            "gridcolor": "#DFE8F3",
            "gridwidth": 2,
            "linecolor": "#EBF0F8",
            "showbackground": true,
            "ticks": "",
            "zerolinecolor": "#EBF0F8"
           },
           "yaxis": {
            "backgroundcolor": "white",
            "gridcolor": "#DFE8F3",
            "gridwidth": 2,
            "linecolor": "#EBF0F8",
            "showbackground": true,
            "ticks": "",
            "zerolinecolor": "#EBF0F8"
           },
           "zaxis": {
            "backgroundcolor": "white",
            "gridcolor": "#DFE8F3",
            "gridwidth": 2,
            "linecolor": "#EBF0F8",
            "showbackground": true,
            "ticks": "",
            "zerolinecolor": "#EBF0F8"
           }
          },
          "shapedefaults": {
           "line": {
            "color": "#2a3f5f"
           }
          },
          "ternary": {
           "aaxis": {
            "gridcolor": "#DFE8F3",
            "linecolor": "#A2B1C6",
            "ticks": ""
           },
           "baxis": {
            "gridcolor": "#DFE8F3",
            "linecolor": "#A2B1C6",
            "ticks": ""
           },
           "bgcolor": "white",
           "caxis": {
            "gridcolor": "#DFE8F3",
            "linecolor": "#A2B1C6",
            "ticks": ""
           }
          },
          "title": {
           "x": 0.05
          },
          "xaxis": {
           "automargin": true,
           "gridcolor": "#EBF0F8",
           "linecolor": "#EBF0F8",
           "ticks": "",
           "title": {
            "standoff": 15
           },
           "zerolinecolor": "#EBF0F8",
           "zerolinewidth": 2
          },
          "yaxis": {
           "automargin": true,
           "gridcolor": "#EBF0F8",
           "linecolor": "#EBF0F8",
           "ticks": "",
           "title": {
            "standoff": 15
           },
           "zerolinecolor": "#EBF0F8",
           "zerolinewidth": 2
          }
         }
        },
        "title": {
         "text": "Model Results for plasma Dataset (Top 12)"
        },
        "width": 800,
        "xaxis": {
         "showticklabels": false,
         "title": {
          "text": "Model"
         }
        },
        "yaxis": {
         "exponentformat": "E",
         "title": {
          "text": "Test Loss"
         },
         "type": "log"
        }
       }
      }
     },
     "metadata": {},
     "output_type": "display_data"
    }
   ],
   "source": [
    "\n",
    "f = Figlet(font='ogre')\n",
    "for dataset in ['planetswe_full', 'sst', 'plasma']:\n",
    "    best_result = helpers.get_top_N_models_by_loss(dataset, pickle_dir, N=1)\n",
    "    print(best_result)\n",
    "    plots.plot_model_results_scatter(results, dataset, 12, save=True, fname=f\"{dataset}_scatter\")\n"
   ]
  },
  {
   "cell_type": "code",
   "execution_count": null,
   "metadata": {},
   "outputs": [],
   "source": []
  }
 ],
 "metadata": {
  "kernelspec": {
   "display_name": "venv",
   "language": "python",
   "name": "python3"
  },
  "language_info": {
   "codemirror_mode": {
    "name": "ipython",
    "version": 3
   },
   "file_extension": ".py",
   "mimetype": "text/x-python",
   "name": "python",
   "nbconvert_exporter": "python",
   "pygments_lexer": "ipython3",
   "version": "3.13.0"
  }
 },
 "nbformat": 4,
 "nbformat_minor": 2
}
