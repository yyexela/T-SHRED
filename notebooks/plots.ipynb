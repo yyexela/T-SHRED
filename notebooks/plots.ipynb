{
 "cells": [
  {
   "cell_type": "markdown",
   "metadata": {},
   "source": [
    "## Imports"
   ]
  },
  {
   "cell_type": "code",
   "execution_count": 1,
   "metadata": {},
   "outputs": [],
   "source": [
    "\n",
    "%load_ext autoreload\n",
    "%autoreload 2\n",
    "\n",
    "import os\n",
    "import sys\n",
    "import torch\n",
    "import einops\n",
    "import random\n",
    "import pickle\n",
    "import numpy as np\n",
    "import pprint as pp\n",
    "import torch.nn as nn\n",
    "from pathlib import Path\n",
    "from pyfiglet import Figlet\n",
    "from torch.utils.data import DataLoader\n",
    "\n",
    "# Add the project root directory to Python path\n",
    "top_dir = Path.cwd().parent\n",
    "\n",
    "sys.path.insert(0, str(top_dir.absolute()))\n",
    "\n",
    "from src import *\n",
    "\n",
    "slurm_dir = top_dir / 'slurms'\n",
    "pickle_dir = top_dir / 'pickles'\n"
   ]
  },
  {
   "cell_type": "code",
   "execution_count": 2,
   "metadata": {},
   "outputs": [
    {
     "name": "stdout",
     "output_type": "stream",
     "text": [
      "Num. results: 1920\n"
     ]
    }
   ],
   "source": [
    "\n",
    "# Get list of results\n",
    "results = helpers.get_dictionaries_from_pickles(pickle_dir)\n",
    "print(\"Num. results:\", len(results))\n"
   ]
  },
  {
   "cell_type": "code",
   "execution_count": 5,
   "metadata": {},
   "outputs": [
    {
     "name": "stdout",
     "output_type": "stream",
     "text": [
      "[('sindy_loss_gru_mlp_planetswe_e1_d1_lr1.00e-03_p1_s0.pkl', {'test_loss': 0.0019218050583731383, 'start_epoch': 56, 'best_val': 0.0022574458736926315, 'best_epoch': 56, 'train_losses': [0.13539191006372372, 0.03678547590970993, 0.035333632367352645, 0.034432734735310076, 0.03365748537083467, 0.03304062448441982, 0.0325704620530208, 0.03215357108662526, 0.03184492898484071, 0.03160551277299722, 0.031397384808709225, 0.03116783043369651, 0.03099450245499611, 0.030849991738796233, 0.030722183175385, 0.030597152343640726, 0.030499516831090052, 0.03040029527619481, 0.030295406592388947, 0.030201291510214407, 0.030113864131271838, 0.03004052077109615, 0.029974634852260353, 0.029910281642029683, 0.029859598726034164, 0.029782726801931857, 0.029745392066737018, 0.02966735794519385, 0.02962634861469269, 0.02958958751211564, 0.029521808245529732, 0.02949525071308017, 0.029457247847070298, 0.029433266104509432, 0.02943354342132807, 0.029333130301286776, 0.029261330297837656, 0.029290406312793494, 0.029233397046724955, 0.029244663069645564, 0.02917470531538129, 0.029138165712356567, 0.02909084763377905, 0.029070684872567653, 0.02906753939266006, 0.029117240260044735, 0.028983722937603793, 0.028976446328063805, 0.028944048968454202, 0.02893602658684055, 0.02893175578986605, 0.028923643101006747, 0.02889039892082413, 0.028818058688193558, 0.0288117790594697, 0.02880381674816211], 'val_losses': [0.011493345722556114, 0.009818130359053611, 0.00867969123646617, 0.007672092784196139, 0.0077849702909588816, 0.0067475601099431515, 0.007301465608179569, 0.006255389470607042, 0.0064122132956981655, 0.005335791129618883, 0.0066536679863929745, 0.00506619056686759, 0.005961556546390056, 0.005481849703937769, 0.005113885179162026, 0.004592440091073513, 0.00545991426333785, 0.004939305502921343, 0.005617136415094137, 0.005496454704552889, 0.005404319427907467, 0.005122282821685076, 0.004789814632385969, 0.005833516828715801, 0.004145052749663591, 0.0048614474013447765, 0.004225111473351717, 0.004886451922357082, 0.0045355531387031075, 0.004049313394352794, 0.005198963731527328, 0.004218520969152451, 0.0058502391912043095, 0.0039047107566148043, 0.006018233112990856, 0.004529645293951034, 0.005237619020044803, 0.003761486895382404, 0.003231146279722452, 0.004576971381902694, 0.005663375928997993, 0.00484946770593524, 0.004036811087280512, 0.0037802917417138816, 0.007191192638128996, 0.0036131358705461026, 0.0037295025773346423, 0.0034480550792068245, 0.003953976649791002, 0.005734502803534269, 0.004418962448835373, 0.0069712215103209015, 0.004942490812391042, 0.0038452814798802136, 0.004678619466722012, 0.0022574458736926315], 'sensors': [(197, 430), (20, 265), (248, 414), (155, 488), (183, 223), (71, 288), (71, 97), (128, 150), (158, 101), (37, 338), (241, 103), (181, 444), (161, 209), (244, 453), (133, 63), (7, 95), (204, 1), (252, 341), (124, 333), (32, 195), (113, 244), (72, 458), (46, 82), (163, 501), (55, 308), (149, 127), (170, 208), (147, 455), (46, 394), (162, 247), (148, 188), (96, 191), (16, 266), (243, 70), (45, 133), (76, 39), (41, 400), (141, 241), (110, 429), (140, 461), (252, 365), (42, 332), (59, 498), (171, 194), (124, 16), (138, 119), (112, 380), (87, 340), (218, 63), (51, 149)], 'hyperparameters': {'batch_size': 128, 'dataset': 'planetswe', 'decoder': 'mlp', 'decoder_depth': 1, 'device': 'cuda:0', 'dropout': 0.1, 'dt': 1.0, 'early_stop': 10, 'encoder': 'sindy_loss_gru', 'eval_full': False, 'encoder_depth': 1, 'epochs': 100, 'hidden_size': 100, 'generate_test_plots': True, 'generate_training_plots': False, 'include_sine': False, 'identifier': 'sindy_loss_gru_mlp_planetswe_e1_d1_lr1.00e-03_p1sindy_loss_gru_mlp_planetswe_e1_d1_lr1.00e-03_p1_s0', 'lr': 0.001, 'n_heads': 4, 'n_sensors': 50, 'n_well_tracks': 10, 'poly_order': 1, 'save_every_n_epochs': 10, 'seed': 0, 'sindy_attention_threshold': 0.05, 'sindy_attention_threshold_epoch': 10, 'sindy_attention_weight': 0.0, 'sindy_loss_threshold': 0.05, 'sindy_loss_weight': 100, 'skip_load_checkpoint': False, 'verbose': False, 'window_length': 50, 'd_data_in': 3, 'data_rows_in': 256, 'data_cols_in': 512, 'd_data_out': 3, 'data_rows_out': 256, 'data_cols_out': 512, 'd_model': 150, 'dim_feedforward': 400, 'output_size': 393216, 'latest_checkpoint_path': PosixPath('/app/code/checkpoints/sindy_loss_gru_mlp_planetswe_e1_d1_lr1.00e-03_p1sindy_loss_gru_mlp_planetswe_e1_d1_lr1.00e-03_p1_s0_latest.pt'), 'best_checkpoint_path': PosixPath('/app/code/checkpoints/sindy_loss_gru_mlp_planetswe_e1_d1_lr1.00e-03_p1sindy_loss_gru_mlp_planetswe_e1_d1_lr1.00e-03_p1_s0_best.pt')}})]\n",
      "test losses: [0.00794483080971986, 0.007676968933083117, 0.00778250687289983, 0.007591776666231453, 0.007770758122205734]\n",
      "Saved /Users/alexey/Git/T-SHRED/figures/planetswe_worst_scatter.pdf\n"
     ]
    },
    {
     "data": {
      "application/vnd.plotly.v1+json": {
       "config": {
        "plotlyServerURL": "https://plot.ly"
       },
       "data": [
        {
         "marker": {
          "color": "white",
          "line": {
           "color": "#5F4690",
           "width": 4
          },
          "size": 12
         },
         "mode": "markers",
         "name": "LSTM",
         "showlegend": true,
         "type": "scatter",
         "x": [
          null
         ],
         "y": [
          null
         ]
        },
        {
         "marker": {
          "color": "white",
          "line": {
           "color": "#1D6996",
           "width": 4
          },
          "size": 12
         },
         "mode": "markers",
         "name": "GRU",
         "showlegend": true,
         "type": "scatter",
         "x": [
          null
         ],
         "y": [
          null
         ]
        },
        {
         "marker": {
          "color": "white",
          "line": {
           "color": "#38A6A5",
           "width": 4
          },
          "size": 12
         },
         "mode": "markers",
         "name": "SL-LSTM",
         "showlegend": true,
         "type": "scatter",
         "x": [
          null
         ],
         "y": [
          null
         ]
        },
        {
         "marker": {
          "color": "white",
          "line": {
           "color": "#0F8554",
           "width": 4
          },
          "size": 12
         },
         "mode": "markers",
         "name": "SL-GRU",
         "showlegend": true,
         "type": "scatter",
         "x": [
          null
         ],
         "y": [
          null
         ]
        },
        {
         "marker": {
          "color": "white",
          "line": {
           "color": "#73AF48",
           "width": 4
          },
          "size": 12
         },
         "mode": "markers",
         "name": "T",
         "showlegend": true,
         "type": "scatter",
         "x": [
          null
         ],
         "y": [
          null
         ]
        },
        {
         "marker": {
          "color": "white",
          "line": {
           "color": "#EDAD08",
           "width": 4
          },
          "size": 12
         },
         "mode": "markers",
         "name": "SL-T",
         "showlegend": true,
         "type": "scatter",
         "x": [
          null
         ],
         "y": [
          null
         ]
        },
        {
         "marker": {
          "color": "white",
          "line": {
           "color": "#E17C05",
           "width": 4
          },
          "size": 12
         },
         "mode": "markers",
         "name": "SA-T",
         "showlegend": true,
         "type": "scatter",
         "x": [
          null
         ],
         "y": [
          null
         ]
        },
        {
         "marker": {
          "color": "white",
          "line": {
           "color": "#CC503E",
           "width": 4
          },
          "size": 12
         },
         "mode": "markers",
         "name": "SASL-T",
         "showlegend": true,
         "type": "scatter",
         "x": [
          null
         ],
         "y": [
          null
         ]
        },
        {
         "marker": {
          "color": "#66C5CC",
          "line": {
           "color": "white",
           "width": 4
          },
          "size": 12
         },
         "mode": "markers",
         "name": "MLP",
         "showlegend": true,
         "type": "scatter",
         "x": [
          null
         ],
         "y": [
          null
         ]
        },
        {
         "marker": {
          "color": "#F6CF71",
          "line": {
           "color": "white",
           "width": 4
          },
          "size": 12
         },
         "mode": "markers",
         "name": "CNN",
         "showlegend": true,
         "type": "scatter",
         "x": [
          null
         ],
         "y": [
          null
         ]
        },
        {
         "error_y": {
          "array": [
           0.0001425576135802693
          ],
          "color": "black",
          "thickness": 1,
          "type": "data",
          "visible": true,
          "width": 3
         },
         "hovertemplate": "Encoder: gru (x3)<br>Decoder: unet (x1)<br>LR: 1.00e-03<br>Mean Test Loss: 3.09e-03<br>Std Test Loss: 1.43e-04<br>Seeds: 5<br><extra></extra>",
         "marker": {
          "color": "#F6CF71",
          "line": {
           "color": "#1D6996",
           "width": 4
          },
          "size": 12
         },
         "mode": "markers",
         "name": "gru-unet",
         "showlegend": false,
         "type": "scatter",
         "x": [
          1
         ],
         "y": [
          0.0030939683318138124
         ]
        },
        {
         "error_y": {
          "array": [
           0.0002313733964255496
          ],
          "color": "black",
          "thickness": 1,
          "type": "data",
          "visible": true,
          "width": 3
         },
         "hovertemplate": "Encoder: gru (x2)<br>Decoder: mlp (x1)<br>LR: 1.00e-03<br>Mean Test Loss: 3.00e-03<br>Std Test Loss: 2.31e-04<br>Seeds: 5<br><extra></extra>",
         "marker": {
          "color": "#66C5CC",
          "line": {
           "color": "#1D6996",
           "width": 4
          },
          "size": 12
         },
         "mode": "markers",
         "name": "gru-mlp",
         "showlegend": false,
         "type": "scatter",
         "x": [
          2
         ],
         "y": [
          0.003003550588618964
         ]
        },
        {
         "error_y": {
          "array": [
           0.00022311355742602566
          ],
          "color": "black",
          "thickness": 1,
          "type": "data",
          "visible": true,
          "width": 3
         },
         "hovertemplate": "Encoder: lstm (x1)<br>Decoder: mlp (x1)<br>LR: 1.00e-03<br>Mean Test Loss: 3.00e-03<br>Std Test Loss: 2.23e-04<br>Seeds: 5<br><extra></extra>",
         "marker": {
          "color": "#66C5CC",
          "line": {
           "color": "#5F4690",
           "width": 4
          },
          "size": 12
         },
         "mode": "markers",
         "name": "lstm-mlp",
         "showlegend": false,
         "type": "scatter",
         "x": [
          3
         ],
         "y": [
          0.0030024172156117857
         ]
        },
        {
         "error_y": {
          "array": [
           0.00018768377795074173
          ],
          "color": "black",
          "thickness": 1,
          "type": "data",
          "visible": true,
          "width": 3
         },
         "hovertemplate": "Encoder: sindy_loss_gru (x4)<br>Decoder: unet (x1)<br>LR: 1.00e-03<br>Mean Test Loss: 3.00e-03<br>Std Test Loss: 1.88e-04<br>Seeds: 5<br><extra></extra>",
         "marker": {
          "color": "#F6CF71",
          "line": {
           "color": "#0F8554",
           "width": 4
          },
          "size": 12
         },
         "mode": "markers",
         "name": "sindy_loss_gru-unet",
         "showlegend": false,
         "type": "scatter",
         "x": [
          4
         ],
         "y": [
          0.003000773105304688
         ]
        },
        {
         "error_y": {
          "array": [
           0.00009883655394174782
          ],
          "color": "black",
          "thickness": 1,
          "type": "data",
          "visible": true,
          "width": 3
         },
         "hovertemplate": "Encoder: lstm (x1)<br>Decoder: unet (x1)<br>LR: 1.00e-03<br>Mean Test Loss: 2.97e-03<br>Std Test Loss: 9.88e-05<br>Seeds: 5<br><extra></extra>",
         "marker": {
          "color": "#F6CF71",
          "line": {
           "color": "#5F4690",
           "width": 4
          },
          "size": 12
         },
         "mode": "markers",
         "name": "lstm-unet",
         "showlegend": false,
         "type": "scatter",
         "x": [
          5
         ],
         "y": [
          0.002974135335534811
         ]
        },
        {
         "error_y": {
          "array": [
           0.00018187325607885114
          ],
          "color": "black",
          "thickness": 1,
          "type": "data",
          "visible": true,
          "width": 3
         },
         "hovertemplate": "Encoder: sindy_loss_gru (x3)<br>Decoder: unet (x1)<br>LR: 1.00e-03<br>Mean Test Loss: 2.86e-03<br>Std Test Loss: 1.82e-04<br>Seeds: 5<br><extra></extra>",
         "marker": {
          "color": "#F6CF71",
          "line": {
           "color": "#0F8554",
           "width": 4
          },
          "size": 12
         },
         "mode": "markers",
         "name": "sindy_loss_gru-unet",
         "showlegend": false,
         "type": "scatter",
         "x": [
          6
         ],
         "y": [
          0.002862653904594481
         ]
        },
        {
         "error_y": {
          "array": [
           0.00015706699762330819
          ],
          "color": "black",
          "thickness": 1,
          "type": "data",
          "visible": true,
          "width": 3
         },
         "hovertemplate": "Encoder: gru (x1)<br>Decoder: unet (x1)<br>LR: 1.00e-03<br>Mean Test Loss: 2.75e-03<br>Std Test Loss: 1.57e-04<br>Seeds: 5<br><extra></extra>",
         "marker": {
          "color": "#F6CF71",
          "line": {
           "color": "#1D6996",
           "width": 4
          },
          "size": 12
         },
         "mode": "markers",
         "name": "gru-unet",
         "showlegend": false,
         "type": "scatter",
         "x": [
          7
         ],
         "y": [
          0.002751889906357974
         ]
        },
        {
         "error_y": {
          "array": [
           0.00009342988536429154
          ],
          "color": "black",
          "thickness": 1,
          "type": "data",
          "visible": true,
          "width": 3
         },
         "hovertemplate": "Encoder: gru (x1)<br>Decoder: mlp (x1)<br>LR: 1.00e-03<br>Mean Test Loss: 2.72e-03<br>Std Test Loss: 9.34e-05<br>Seeds: 5<br><extra></extra>",
         "marker": {
          "color": "#66C5CC",
          "line": {
           "color": "#1D6996",
           "width": 4
          },
          "size": 12
         },
         "mode": "markers",
         "name": "gru-mlp",
         "showlegend": false,
         "type": "scatter",
         "x": [
          8
         ],
         "y": [
          0.0027180401259101926
         ]
        },
        {
         "error_y": {
          "array": [
           0.0001249678187745287
          ],
          "color": "black",
          "thickness": 1,
          "type": "data",
          "visible": true,
          "width": 3
         },
         "hovertemplate": "Encoder: sindy_loss_gru (x2)<br>Decoder: mlp (x1)<br>LR: 1.00e-03<br>Mean Test Loss: 2.67e-03<br>Std Test Loss: 1.25e-04<br>Seeds: 5<br><extra></extra>",
         "marker": {
          "color": "#66C5CC",
          "line": {
           "color": "#0F8554",
           "width": 4
          },
          "size": 12
         },
         "mode": "markers",
         "name": "sindy_loss_gru-mlp",
         "showlegend": false,
         "type": "scatter",
         "x": [
          9
         ],
         "y": [
          0.0026721307658590376
         ]
        },
        {
         "error_y": {
          "array": [
           0.00018079994758738553
          ],
          "color": "black",
          "thickness": 1,
          "type": "data",
          "visible": true,
          "width": 3
         },
         "hovertemplate": "Encoder: sindy_loss_gru (x2)<br>Decoder: unet (x1)<br>LR: 1.00e-03<br>Mean Test Loss: 2.51e-03<br>Std Test Loss: 1.81e-04<br>Seeds: 5<br><extra></extra>",
         "marker": {
          "color": "#F6CF71",
          "line": {
           "color": "#0F8554",
           "width": 4
          },
          "size": 12
         },
         "mode": "markers",
         "name": "sindy_loss_gru-unet",
         "showlegend": false,
         "type": "scatter",
         "x": [
          10
         ],
         "y": [
          0.002505387464771047
         ]
        },
        {
         "error_y": {
          "array": [
           0.00018068017179420745
          ],
          "color": "black",
          "thickness": 1,
          "type": "data",
          "visible": true,
          "width": 3
         },
         "hovertemplate": "Encoder: sindy_loss_gru (x1)<br>Decoder: unet (x1)<br>LR: 1.00e-03<br>Mean Test Loss: 2.50e-03<br>Std Test Loss: 1.81e-04<br>Seeds: 5<br><extra></extra>",
         "marker": {
          "color": "#F6CF71",
          "line": {
           "color": "#0F8554",
           "width": 4
          },
          "size": 12
         },
         "mode": "markers",
         "name": "sindy_loss_gru-unet",
         "showlegend": false,
         "type": "scatter",
         "x": [
          11
         ],
         "y": [
          0.002498946344712749
         ]
        },
        {
         "error_y": {
          "array": [
           0.00030602518455777024
          ],
          "color": "black",
          "thickness": 1,
          "type": "data",
          "visible": true,
          "width": 3
         },
         "hovertemplate": "Encoder: sindy_loss_gru (x1)<br>Decoder: mlp (x1)<br>LR: 1.00e-03<br>Mean Test Loss: 2.49e-03<br>Std Test Loss: 3.06e-04<br>Seeds: 5<br><extra></extra>",
         "marker": {
          "color": "#66C5CC",
          "line": {
           "color": "#0F8554",
           "width": 4
          },
          "size": 12
         },
         "mode": "markers",
         "name": "sindy_loss_gru-mlp",
         "showlegend": false,
         "type": "scatter",
         "x": [
          12
         ],
         "y": [
          0.0024904052319470794
         ]
        }
       ],
       "layout": {
        "height": 500,
        "hovermode": "closest",
        "legend": {
         "font": {
          "size": 20
         },
         "title": {
          "font": {
           "size": 20
          },
          "text": "Legend"
         }
        },
        "showlegend": true,
        "template": {
         "data": {
          "bar": [
           {
            "error_x": {
             "color": "#2a3f5f"
            },
            "error_y": {
             "color": "#2a3f5f"
            },
            "marker": {
             "line": {
              "color": "white",
              "width": 0.5
             },
             "pattern": {
              "fillmode": "overlay",
              "size": 10,
              "solidity": 0.2
             }
            },
            "type": "bar"
           }
          ],
          "barpolar": [
           {
            "marker": {
             "line": {
              "color": "white",
              "width": 0.5
             },
             "pattern": {
              "fillmode": "overlay",
              "size": 10,
              "solidity": 0.2
             }
            },
            "type": "barpolar"
           }
          ],
          "carpet": [
           {
            "aaxis": {
             "endlinecolor": "#2a3f5f",
             "gridcolor": "#C8D4E3",
             "linecolor": "#C8D4E3",
             "minorgridcolor": "#C8D4E3",
             "startlinecolor": "#2a3f5f"
            },
            "baxis": {
             "endlinecolor": "#2a3f5f",
             "gridcolor": "#C8D4E3",
             "linecolor": "#C8D4E3",
             "minorgridcolor": "#C8D4E3",
             "startlinecolor": "#2a3f5f"
            },
            "type": "carpet"
           }
          ],
          "choropleth": [
           {
            "colorbar": {
             "outlinewidth": 0,
             "ticks": ""
            },
            "type": "choropleth"
           }
          ],
          "contour": [
           {
            "colorbar": {
             "outlinewidth": 0,
             "ticks": ""
            },
            "colorscale": [
             [
              0,
              "#0d0887"
             ],
             [
              0.1111111111111111,
              "#46039f"
             ],
             [
              0.2222222222222222,
              "#7201a8"
             ],
             [
              0.3333333333333333,
              "#9c179e"
             ],
             [
              0.4444444444444444,
              "#bd3786"
             ],
             [
              0.5555555555555556,
              "#d8576b"
             ],
             [
              0.6666666666666666,
              "#ed7953"
             ],
             [
              0.7777777777777778,
              "#fb9f3a"
             ],
             [
              0.8888888888888888,
              "#fdca26"
             ],
             [
              1,
              "#f0f921"
             ]
            ],
            "type": "contour"
           }
          ],
          "contourcarpet": [
           {
            "colorbar": {
             "outlinewidth": 0,
             "ticks": ""
            },
            "type": "contourcarpet"
           }
          ],
          "heatmap": [
           {
            "colorbar": {
             "outlinewidth": 0,
             "ticks": ""
            },
            "colorscale": [
             [
              0,
              "#0d0887"
             ],
             [
              0.1111111111111111,
              "#46039f"
             ],
             [
              0.2222222222222222,
              "#7201a8"
             ],
             [
              0.3333333333333333,
              "#9c179e"
             ],
             [
              0.4444444444444444,
              "#bd3786"
             ],
             [
              0.5555555555555556,
              "#d8576b"
             ],
             [
              0.6666666666666666,
              "#ed7953"
             ],
             [
              0.7777777777777778,
              "#fb9f3a"
             ],
             [
              0.8888888888888888,
              "#fdca26"
             ],
             [
              1,
              "#f0f921"
             ]
            ],
            "type": "heatmap"
           }
          ],
          "heatmapgl": [
           {
            "colorbar": {
             "outlinewidth": 0,
             "ticks": ""
            },
            "colorscale": [
             [
              0,
              "#0d0887"
             ],
             [
              0.1111111111111111,
              "#46039f"
             ],
             [
              0.2222222222222222,
              "#7201a8"
             ],
             [
              0.3333333333333333,
              "#9c179e"
             ],
             [
              0.4444444444444444,
              "#bd3786"
             ],
             [
              0.5555555555555556,
              "#d8576b"
             ],
             [
              0.6666666666666666,
              "#ed7953"
             ],
             [
              0.7777777777777778,
              "#fb9f3a"
             ],
             [
              0.8888888888888888,
              "#fdca26"
             ],
             [
              1,
              "#f0f921"
             ]
            ],
            "type": "heatmapgl"
           }
          ],
          "histogram": [
           {
            "marker": {
             "pattern": {
              "fillmode": "overlay",
              "size": 10,
              "solidity": 0.2
             }
            },
            "type": "histogram"
           }
          ],
          "histogram2d": [
           {
            "colorbar": {
             "outlinewidth": 0,
             "ticks": ""
            },
            "colorscale": [
             [
              0,
              "#0d0887"
             ],
             [
              0.1111111111111111,
              "#46039f"
             ],
             [
              0.2222222222222222,
              "#7201a8"
             ],
             [
              0.3333333333333333,
              "#9c179e"
             ],
             [
              0.4444444444444444,
              "#bd3786"
             ],
             [
              0.5555555555555556,
              "#d8576b"
             ],
             [
              0.6666666666666666,
              "#ed7953"
             ],
             [
              0.7777777777777778,
              "#fb9f3a"
             ],
             [
              0.8888888888888888,
              "#fdca26"
             ],
             [
              1,
              "#f0f921"
             ]
            ],
            "type": "histogram2d"
           }
          ],
          "histogram2dcontour": [
           {
            "colorbar": {
             "outlinewidth": 0,
             "ticks": ""
            },
            "colorscale": [
             [
              0,
              "#0d0887"
             ],
             [
              0.1111111111111111,
              "#46039f"
             ],
             [
              0.2222222222222222,
              "#7201a8"
             ],
             [
              0.3333333333333333,
              "#9c179e"
             ],
             [
              0.4444444444444444,
              "#bd3786"
             ],
             [
              0.5555555555555556,
              "#d8576b"
             ],
             [
              0.6666666666666666,
              "#ed7953"
             ],
             [
              0.7777777777777778,
              "#fb9f3a"
             ],
             [
              0.8888888888888888,
              "#fdca26"
             ],
             [
              1,
              "#f0f921"
             ]
            ],
            "type": "histogram2dcontour"
           }
          ],
          "mesh3d": [
           {
            "colorbar": {
             "outlinewidth": 0,
             "ticks": ""
            },
            "type": "mesh3d"
           }
          ],
          "parcoords": [
           {
            "line": {
             "colorbar": {
              "outlinewidth": 0,
              "ticks": ""
             }
            },
            "type": "parcoords"
           }
          ],
          "pie": [
           {
            "automargin": true,
            "type": "pie"
           }
          ],
          "scatter": [
           {
            "marker": {
             "colorbar": {
              "outlinewidth": 0,
              "ticks": ""
             }
            },
            "type": "scatter"
           }
          ],
          "scatter3d": [
           {
            "line": {
             "colorbar": {
              "outlinewidth": 0,
              "ticks": ""
             }
            },
            "marker": {
             "colorbar": {
              "outlinewidth": 0,
              "ticks": ""
             }
            },
            "type": "scatter3d"
           }
          ],
          "scattercarpet": [
           {
            "marker": {
             "colorbar": {
              "outlinewidth": 0,
              "ticks": ""
             }
            },
            "type": "scattercarpet"
           }
          ],
          "scattergeo": [
           {
            "marker": {
             "colorbar": {
              "outlinewidth": 0,
              "ticks": ""
             }
            },
            "type": "scattergeo"
           }
          ],
          "scattergl": [
           {
            "marker": {
             "colorbar": {
              "outlinewidth": 0,
              "ticks": ""
             }
            },
            "type": "scattergl"
           }
          ],
          "scattermapbox": [
           {
            "marker": {
             "colorbar": {
              "outlinewidth": 0,
              "ticks": ""
             }
            },
            "type": "scattermapbox"
           }
          ],
          "scatterpolar": [
           {
            "marker": {
             "colorbar": {
              "outlinewidth": 0,
              "ticks": ""
             }
            },
            "type": "scatterpolar"
           }
          ],
          "scatterpolargl": [
           {
            "marker": {
             "colorbar": {
              "outlinewidth": 0,
              "ticks": ""
             }
            },
            "type": "scatterpolargl"
           }
          ],
          "scatterternary": [
           {
            "marker": {
             "colorbar": {
              "outlinewidth": 0,
              "ticks": ""
             }
            },
            "type": "scatterternary"
           }
          ],
          "surface": [
           {
            "colorbar": {
             "outlinewidth": 0,
             "ticks": ""
            },
            "colorscale": [
             [
              0,
              "#0d0887"
             ],
             [
              0.1111111111111111,
              "#46039f"
             ],
             [
              0.2222222222222222,
              "#7201a8"
             ],
             [
              0.3333333333333333,
              "#9c179e"
             ],
             [
              0.4444444444444444,
              "#bd3786"
             ],
             [
              0.5555555555555556,
              "#d8576b"
             ],
             [
              0.6666666666666666,
              "#ed7953"
             ],
             [
              0.7777777777777778,
              "#fb9f3a"
             ],
             [
              0.8888888888888888,
              "#fdca26"
             ],
             [
              1,
              "#f0f921"
             ]
            ],
            "type": "surface"
           }
          ],
          "table": [
           {
            "cells": {
             "fill": {
              "color": "#EBF0F8"
             },
             "line": {
              "color": "white"
             }
            },
            "header": {
             "fill": {
              "color": "#C8D4E3"
             },
             "line": {
              "color": "white"
             }
            },
            "type": "table"
           }
          ]
         },
         "layout": {
          "annotationdefaults": {
           "arrowcolor": "#2a3f5f",
           "arrowhead": 0,
           "arrowwidth": 1
          },
          "autotypenumbers": "strict",
          "coloraxis": {
           "colorbar": {
            "outlinewidth": 0,
            "ticks": ""
           }
          },
          "colorscale": {
           "diverging": [
            [
             0,
             "#8e0152"
            ],
            [
             0.1,
             "#c51b7d"
            ],
            [
             0.2,
             "#de77ae"
            ],
            [
             0.3,
             "#f1b6da"
            ],
            [
             0.4,
             "#fde0ef"
            ],
            [
             0.5,
             "#f7f7f7"
            ],
            [
             0.6,
             "#e6f5d0"
            ],
            [
             0.7,
             "#b8e186"
            ],
            [
             0.8,
             "#7fbc41"
            ],
            [
             0.9,
             "#4d9221"
            ],
            [
             1,
             "#276419"
            ]
           ],
           "sequential": [
            [
             0,
             "#0d0887"
            ],
            [
             0.1111111111111111,
             "#46039f"
            ],
            [
             0.2222222222222222,
             "#7201a8"
            ],
            [
             0.3333333333333333,
             "#9c179e"
            ],
            [
             0.4444444444444444,
             "#bd3786"
            ],
            [
             0.5555555555555556,
             "#d8576b"
            ],
            [
             0.6666666666666666,
             "#ed7953"
            ],
            [
             0.7777777777777778,
             "#fb9f3a"
            ],
            [
             0.8888888888888888,
             "#fdca26"
            ],
            [
             1,
             "#f0f921"
            ]
           ],
           "sequentialminus": [
            [
             0,
             "#0d0887"
            ],
            [
             0.1111111111111111,
             "#46039f"
            ],
            [
             0.2222222222222222,
             "#7201a8"
            ],
            [
             0.3333333333333333,
             "#9c179e"
            ],
            [
             0.4444444444444444,
             "#bd3786"
            ],
            [
             0.5555555555555556,
             "#d8576b"
            ],
            [
             0.6666666666666666,
             "#ed7953"
            ],
            [
             0.7777777777777778,
             "#fb9f3a"
            ],
            [
             0.8888888888888888,
             "#fdca26"
            ],
            [
             1,
             "#f0f921"
            ]
           ]
          },
          "colorway": [
           "#636efa",
           "#EF553B",
           "#00cc96",
           "#ab63fa",
           "#FFA15A",
           "#19d3f3",
           "#FF6692",
           "#B6E880",
           "#FF97FF",
           "#FECB52"
          ],
          "font": {
           "color": "#2a3f5f"
          },
          "geo": {
           "bgcolor": "white",
           "lakecolor": "white",
           "landcolor": "white",
           "showlakes": true,
           "showland": true,
           "subunitcolor": "#C8D4E3"
          },
          "hoverlabel": {
           "align": "left"
          },
          "hovermode": "closest",
          "mapbox": {
           "style": "light"
          },
          "paper_bgcolor": "white",
          "plot_bgcolor": "white",
          "polar": {
           "angularaxis": {
            "gridcolor": "#EBF0F8",
            "linecolor": "#EBF0F8",
            "ticks": ""
           },
           "bgcolor": "white",
           "radialaxis": {
            "gridcolor": "#EBF0F8",
            "linecolor": "#EBF0F8",
            "ticks": ""
           }
          },
          "scene": {
           "xaxis": {
            "backgroundcolor": "white",
            "gridcolor": "#DFE8F3",
            "gridwidth": 2,
            "linecolor": "#EBF0F8",
            "showbackground": true,
            "ticks": "",
            "zerolinecolor": "#EBF0F8"
           },
           "yaxis": {
            "backgroundcolor": "white",
            "gridcolor": "#DFE8F3",
            "gridwidth": 2,
            "linecolor": "#EBF0F8",
            "showbackground": true,
            "ticks": "",
            "zerolinecolor": "#EBF0F8"
           },
           "zaxis": {
            "backgroundcolor": "white",
            "gridcolor": "#DFE8F3",
            "gridwidth": 2,
            "linecolor": "#EBF0F8",
            "showbackground": true,
            "ticks": "",
            "zerolinecolor": "#EBF0F8"
           }
          },
          "shapedefaults": {
           "line": {
            "color": "#2a3f5f"
           }
          },
          "ternary": {
           "aaxis": {
            "gridcolor": "#DFE8F3",
            "linecolor": "#A2B1C6",
            "ticks": ""
           },
           "baxis": {
            "gridcolor": "#DFE8F3",
            "linecolor": "#A2B1C6",
            "ticks": ""
           },
           "bgcolor": "white",
           "caxis": {
            "gridcolor": "#DFE8F3",
            "linecolor": "#A2B1C6",
            "ticks": ""
           }
          },
          "title": {
           "x": 0.05
          },
          "xaxis": {
           "automargin": true,
           "gridcolor": "#EBF0F8",
           "linecolor": "#EBF0F8",
           "ticks": "",
           "title": {
            "standoff": 15
           },
           "zerolinecolor": "#EBF0F8",
           "zerolinewidth": 2
          },
          "yaxis": {
           "automargin": true,
           "gridcolor": "#EBF0F8",
           "linecolor": "#EBF0F8",
           "ticks": "",
           "title": {
            "standoff": 15
           },
           "zerolinecolor": "#EBF0F8",
           "zerolinewidth": 2
          }
         }
        },
        "title": {
         "font": {
          "size": 20
         },
         "text": "PlanetSWE"
        },
        "width": 500,
        "xaxis": {
         "showticklabels": false,
         "tickfont": {
          "size": 20
         },
         "title": {
          "font": {
           "size": 20
          },
          "text": "Top 12 Models"
         }
        },
        "yaxis": {
         "exponentformat": "E",
         "nticks": 5,
         "tickfont": {
          "size": 20
         },
         "tickformat": "1.2e",
         "title": {
          "font": {
           "size": 20
          },
          "text": "Test Loss"
         },
         "type": "log"
        }
       }
      }
     },
     "metadata": {},
     "output_type": "display_data"
    },
    {
     "name": "stdout",
     "output_type": "stream",
     "text": [
      "[('gru_mlp_sst_e2_d1_lr1.00e-03_p1_s2.pkl', {'test_loss': 0.0012291716411709785, 'start_epoch': 65, 'best_val': 0.0010706607718020678, 'best_epoch': 65, 'train_losses': [0.1672745860285229, 0.07512702296177547, 0.033827256618274584, 0.02701966195470757, 0.024518782272934914, 0.023421030905511644, 0.02293417975306511, 0.022633249974913068, 0.022451146816213925, 0.022347463708784845, 0.022249660765131313, 0.0220568956186374, 0.02203246599270238, 0.021900197491049767, 0.02179942528406779, 0.021742651652958658, 0.021610755680335894, 0.02158963017993503, 0.0214728984153933, 0.021355981214178935, 0.021307408188780148, 0.021159285265538428, 0.021031749124328297, 0.020922080510192446, 0.020751559279031224, 0.020597263135843806, 0.020497622796230845, 0.020336969445149105, 0.020248877712421946, 0.020165388989779685, 0.020051089632842276, 0.019991698778337903, 0.019941633567214012, 0.019897494465112686, 0.019804369658231735, 0.019817862866653338, 0.01979681808087561, 0.019716526485151716, 0.019772866740822792, 0.019653019805749256, 0.019703407668405108, 0.01966427204509576, 0.019650640793972544, 0.01970137469470501, 0.019611494822634593, 0.019593096234732203, 0.0195678122755554, 0.01958365800480048, 0.019543727652894125, 0.0195097875677877, 0.019505724724796083, 0.01951160157720248, 0.019502983945939276, 0.01947390308810605, 0.019463468136058912, 0.019445934229426913, 0.01944619458582666, 0.019431160969866648, 0.01941660770939456, 0.019434636665715113, 0.019408842755688563, 0.019392962464027934, 0.01938402818308936, 0.019390476246674854, 0.01944848791592651], 'val_losses': [0.11093153804540634, 0.0230728629976511, 0.008411050774157047, 0.005232714582234621, 0.004317145794630051, 0.004326713737100363, 0.004312810488045216, 0.0042420909740030766, 0.004347749054431915, 0.004679663106799126, 0.0040962896309792995, 0.003942928742617369, 0.005016744136810303, 0.004112477879971266, 0.004039271268993616, 0.004367752932012081, 0.004166492726653814, 0.00384310819208622, 0.003884264500811696, 0.003850528271868825, 0.004144519567489624, 0.0034390916116535664, 0.0033427767921239138, 0.003564454149454832, 0.003143472597002983, 0.0035548764280974865, 0.0029530988540500402, 0.0023926475550979376, 0.002100026234984398, 0.002860030625015497, 0.003124726703390479, 0.0027789101004600525, 0.0022214632481336594, 0.0028414700645953417, 0.0027210991829633713, 0.0022416783031076193, 0.002515699714422226, 0.00201091798953712, 0.0022202578838914633, 0.002591460244730115, 0.0019481196068227291, 0.0016778672579675913, 0.0015567278023809195, 0.0018399907276034355, 0.00253507774323225, 0.00228222762234509, 0.0024377971421927214, 0.002464116318151355, 0.00271139619871974, 0.0030660834163427353, 0.002822426613420248, 0.002026163972914219, 0.0020819392520934343, 0.002058103447780013, 0.002427897648885846, 0.002020170446485281, 0.0022976393811404705, 0.0022488650865852833, 0.0031681153923273087, 0.0026165004819631577, 0.0020024075638502836, 0.0016992870951071382, 0.0016796099953353405, 0.0014147714246064425, 0.0010706607718020678], 'sensors': [(98, 215), (10, 132), (130, 248), (103, 155), (122, 183), (149, 111), (129, 71), (72, 71), (64, 272), (154, 75), (18, 350), (84, 241), (143, 51), (90, 222), (80, 312), (141, 244), (113, 266), (140, 7), (0, 313), (126, 170), (62, 166), (145, 113), (139, 229), (23, 41), (81, 260), (125, 55), (77, 282), (74, 63), (140, 170), (138, 104), (154, 280), (150, 147), (152, 197), (61, 148), (47, 16), (156, 336), (66, 243), (17, 45), (20, 358), (138, 349), (100, 268), (70, 267), (70, 230), (126, 338), (91, 42), (83, 313), (150, 322), (69, 59), (56, 190), (43, 170)], 'hyperparameters': {'batch_size': 128, 'dataset': 'sst', 'decoder': 'mlp', 'decoder_depth': 1, 'device': 'cuda:0', 'dropout': 0.1, 'dt': 1.0, 'early_stop': 20, 'encoder': 'gru', 'eval_full': False, 'encoder_depth': 2, 'epochs': 100, 'hidden_size': 100, 'generate_test_plots': True, 'generate_training_plots': False, 'include_sine': False, 'identifier': 'gru_mlp_sst_e2_d1_lr1.00e-03_p1_s2', 'lr': 0.001, 'n_heads': 2, 'n_sensors': 50, 'n_well_tracks': 10, 'poly_order': 1, 'save_every_n_epochs': 10, 'seed': 2, 'sindy_attention_threshold': 0.05, 'sindy_attention_threshold_epoch': 10, 'sindy_attention_weight': 0.0, 'sindy_loss_threshold': 0.05, 'sindy_loss_weight': 100, 'skip_load_checkpoint': False, 'verbose': False, 'window_length': 50, 'd_data_in': 1, 'data_rows_in': 180, 'data_cols_in': 360, 'd_data_out': 1, 'data_rows_out': 180, 'data_cols_out': 360, 'd_model': 50, 'dim_feedforward': 400, 'output_size': 64800, 'latest_checkpoint_path': PosixPath('/app/code/checkpoints/gru_mlp_sst_e2_d1_lr1.00e-03_p1_s2_latest.pt'), 'best_checkpoint_path': PosixPath('/app/code/checkpoints/gru_mlp_sst_e2_d1_lr1.00e-03_p1_s2_best.pt')}})]\n",
      "test losses: [0.004385344684123993, 0.0030370440799742937, 0.0043099066242575645, 0.004210743121802807, 0.004437676165252924]\n",
      "Saved /Users/alexey/Git/T-SHRED/figures/sst_worst_scatter.pdf\n"
     ]
    },
    {
     "data": {
      "application/vnd.plotly.v1+json": {
       "config": {
        "plotlyServerURL": "https://plot.ly"
       },
       "data": [
        {
         "marker": {
          "color": "white",
          "line": {
           "color": "#5F4690",
           "width": 4
          },
          "size": 12
         },
         "mode": "markers",
         "name": "LSTM",
         "showlegend": true,
         "type": "scatter",
         "x": [
          null
         ],
         "y": [
          null
         ]
        },
        {
         "marker": {
          "color": "white",
          "line": {
           "color": "#1D6996",
           "width": 4
          },
          "size": 12
         },
         "mode": "markers",
         "name": "GRU",
         "showlegend": true,
         "type": "scatter",
         "x": [
          null
         ],
         "y": [
          null
         ]
        },
        {
         "marker": {
          "color": "white",
          "line": {
           "color": "#38A6A5",
           "width": 4
          },
          "size": 12
         },
         "mode": "markers",
         "name": "SL-LSTM",
         "showlegend": true,
         "type": "scatter",
         "x": [
          null
         ],
         "y": [
          null
         ]
        },
        {
         "marker": {
          "color": "white",
          "line": {
           "color": "#0F8554",
           "width": 4
          },
          "size": 12
         },
         "mode": "markers",
         "name": "SL-GRU",
         "showlegend": true,
         "type": "scatter",
         "x": [
          null
         ],
         "y": [
          null
         ]
        },
        {
         "marker": {
          "color": "white",
          "line": {
           "color": "#73AF48",
           "width": 4
          },
          "size": 12
         },
         "mode": "markers",
         "name": "T",
         "showlegend": true,
         "type": "scatter",
         "x": [
          null
         ],
         "y": [
          null
         ]
        },
        {
         "marker": {
          "color": "white",
          "line": {
           "color": "#EDAD08",
           "width": 4
          },
          "size": 12
         },
         "mode": "markers",
         "name": "SL-T",
         "showlegend": true,
         "type": "scatter",
         "x": [
          null
         ],
         "y": [
          null
         ]
        },
        {
         "marker": {
          "color": "white",
          "line": {
           "color": "#E17C05",
           "width": 4
          },
          "size": 12
         },
         "mode": "markers",
         "name": "SA-T",
         "showlegend": true,
         "type": "scatter",
         "x": [
          null
         ],
         "y": [
          null
         ]
        },
        {
         "marker": {
          "color": "white",
          "line": {
           "color": "#CC503E",
           "width": 4
          },
          "size": 12
         },
         "mode": "markers",
         "name": "SASL-T",
         "showlegend": true,
         "type": "scatter",
         "x": [
          null
         ],
         "y": [
          null
         ]
        },
        {
         "marker": {
          "color": "#66C5CC",
          "line": {
           "color": "white",
           "width": 4
          },
          "size": 12
         },
         "mode": "markers",
         "name": "MLP",
         "showlegend": true,
         "type": "scatter",
         "x": [
          null
         ],
         "y": [
          null
         ]
        },
        {
         "marker": {
          "color": "#F6CF71",
          "line": {
           "color": "white",
           "width": 4
          },
          "size": 12
         },
         "mode": "markers",
         "name": "CNN",
         "showlegend": true,
         "type": "scatter",
         "x": [
          null
         ],
         "y": [
          null
         ]
        },
        {
         "error_y": {
          "array": [
           0.00008686969857810744
          ],
          "color": "black",
          "thickness": 1,
          "type": "data",
          "visible": true,
          "width": 3
         },
         "hovertemplate": "Encoder: gru (x4)<br>Decoder: mlp (x1)<br>LR: 1.00e-03<br>Mean Test Loss: 1.92e-03<br>Std Test Loss: 8.69e-05<br>Seeds: 5<br><extra></extra>",
         "marker": {
          "color": "#66C5CC",
          "line": {
           "color": "#1D6996",
           "width": 4
          },
          "size": 12
         },
         "mode": "markers",
         "name": "gru-mlp",
         "showlegend": false,
         "type": "scatter",
         "x": [
          1
         ],
         "y": [
          0.0019221923779696227
         ]
        },
        {
         "error_y": {
          "array": [
           0.00020204802866054226
          ],
          "color": "black",
          "thickness": 1,
          "type": "data",
          "visible": true,
          "width": 3
         },
         "hovertemplate": "Encoder: gru (x4)<br>Decoder: unet (x1)<br>LR: 1.00e-03<br>Mean Test Loss: 1.89e-03<br>Std Test Loss: 2.02e-04<br>Seeds: 5<br><extra></extra>",
         "marker": {
          "color": "#F6CF71",
          "line": {
           "color": "#1D6996",
           "width": 4
          },
          "size": 12
         },
         "mode": "markers",
         "name": "gru-unet",
         "showlegend": false,
         "type": "scatter",
         "x": [
          2
         ],
         "y": [
          0.0018947340780869127
         ]
        },
        {
         "error_y": {
          "array": [
           0.00018673465603385919
          ],
          "color": "black",
          "thickness": 1,
          "type": "data",
          "visible": true,
          "width": 3
         },
         "hovertemplate": "Encoder: gru (x1)<br>Decoder: mlp (x1)<br>LR: 1.00e-03<br>Mean Test Loss: 1.89e-03<br>Std Test Loss: 1.87e-04<br>Seeds: 5<br><extra></extra>",
         "marker": {
          "color": "#66C5CC",
          "line": {
           "color": "#1D6996",
           "width": 4
          },
          "size": 12
         },
         "mode": "markers",
         "name": "gru-mlp",
         "showlegend": false,
         "type": "scatter",
         "x": [
          3
         ],
         "y": [
          0.001887281029485166
         ]
        },
        {
         "error_y": {
          "array": [
           0.0004696085074043778
          ],
          "color": "black",
          "thickness": 1,
          "type": "data",
          "visible": true,
          "width": 3
         },
         "hovertemplate": "Encoder: sindy_attention_transformer (x1)<br>Decoder: unet (x1)<br>LR: 1.00e-02<br>Mean Test Loss: 1.87e-03<br>Std Test Loss: 4.70e-04<br>Seeds: 5<br><extra></extra>",
         "marker": {
          "color": "#F6CF71",
          "line": {
           "color": "#E17C05",
           "width": 4
          },
          "size": 12
         },
         "mode": "markers",
         "name": "sindy_attention_transformer-unet",
         "showlegend": false,
         "type": "scatter",
         "x": [
          4
         ],
         "y": [
          0.001870720461010933
         ]
        },
        {
         "error_y": {
          "array": [
           0.00011553259615284229
          ],
          "color": "black",
          "thickness": 1,
          "type": "data",
          "visible": true,
          "width": 3
         },
         "hovertemplate": "Encoder: gru (x2)<br>Decoder: unet (x1)<br>LR: 1.00e-02<br>Mean Test Loss: 1.86e-03<br>Std Test Loss: 1.16e-04<br>Seeds: 5<br><extra></extra>",
         "marker": {
          "color": "#F6CF71",
          "line": {
           "color": "#1D6996",
           "width": 4
          },
          "size": 12
         },
         "mode": "markers",
         "name": "gru-unet",
         "showlegend": false,
         "type": "scatter",
         "x": [
          5
         ],
         "y": [
          0.0018591126892715693
         ]
        },
        {
         "error_y": {
          "array": [
           0.0000981693037617916
          ],
          "color": "black",
          "thickness": 1,
          "type": "data",
          "visible": true,
          "width": 3
         },
         "hovertemplate": "Encoder: gru (x1)<br>Decoder: unet (x1)<br>LR: 1.00e-03<br>Mean Test Loss: 1.84e-03<br>Std Test Loss: 9.82e-05<br>Seeds: 5<br><extra></extra>",
         "marker": {
          "color": "#F6CF71",
          "line": {
           "color": "#1D6996",
           "width": 4
          },
          "size": 12
         },
         "mode": "markers",
         "name": "gru-unet",
         "showlegend": false,
         "type": "scatter",
         "x": [
          6
         ],
         "y": [
          0.0018361234571784735
         ]
        },
        {
         "error_y": {
          "array": [
           0.00012775606334992245
          ],
          "color": "black",
          "thickness": 1,
          "type": "data",
          "visible": true,
          "width": 3
         },
         "hovertemplate": "Encoder: gru (x2)<br>Decoder: unet (x1)<br>LR: 1.00e-03<br>Mean Test Loss: 1.82e-03<br>Std Test Loss: 1.28e-04<br>Seeds: 5<br><extra></extra>",
         "marker": {
          "color": "#F6CF71",
          "line": {
           "color": "#1D6996",
           "width": 4
          },
          "size": 12
         },
         "mode": "markers",
         "name": "gru-unet",
         "showlegend": false,
         "type": "scatter",
         "x": [
          7
         ],
         "y": [
          0.0018201244296506048
         ]
        },
        {
         "error_y": {
          "array": [
           0.00020294874068923282
          ],
          "color": "black",
          "thickness": 1,
          "type": "data",
          "visible": true,
          "width": 3
         },
         "hovertemplate": "Encoder: gru (x3)<br>Decoder: unet (x1)<br>LR: 1.00e-03<br>Mean Test Loss: 1.76e-03<br>Std Test Loss: 2.03e-04<br>Seeds: 5<br><extra></extra>",
         "marker": {
          "color": "#F6CF71",
          "line": {
           "color": "#1D6996",
           "width": 4
          },
          "size": 12
         },
         "mode": "markers",
         "name": "gru-unet",
         "showlegend": false,
         "type": "scatter",
         "x": [
          8
         ],
         "y": [
          0.0017643773928284646
         ]
        },
        {
         "error_y": {
          "array": [
           0.00014132670168741674
          ],
          "color": "black",
          "thickness": 1,
          "type": "data",
          "visible": true,
          "width": 3
         },
         "hovertemplate": "Encoder: gru (x3)<br>Decoder: mlp (x1)<br>LR: 1.00e-03<br>Mean Test Loss: 1.74e-03<br>Std Test Loss: 1.41e-04<br>Seeds: 5<br><extra></extra>",
         "marker": {
          "color": "#66C5CC",
          "line": {
           "color": "#1D6996",
           "width": 4
          },
          "size": 12
         },
         "mode": "markers",
         "name": "gru-mlp",
         "showlegend": false,
         "type": "scatter",
         "x": [
          9
         ],
         "y": [
          0.0017360639991238712
         ]
        },
        {
         "error_y": {
          "array": [
           0.00021296087249178118
          ],
          "color": "black",
          "thickness": 1,
          "type": "data",
          "visible": true,
          "width": 3
         },
         "hovertemplate": "Encoder: gru (x1)<br>Decoder: mlp (x1)<br>LR: 1.00e-02<br>Mean Test Loss: 1.58e-03<br>Std Test Loss: 2.13e-04<br>Seeds: 5<br><extra></extra>",
         "marker": {
          "color": "#66C5CC",
          "line": {
           "color": "#1D6996",
           "width": 4
          },
          "size": 12
         },
         "mode": "markers",
         "name": "gru-mlp",
         "showlegend": false,
         "type": "scatter",
         "x": [
          10
         ],
         "y": [
          0.0015769334975630045
         ]
        },
        {
         "error_y": {
          "array": [
           0.00017976756373757735
          ],
          "color": "black",
          "thickness": 1,
          "type": "data",
          "visible": true,
          "width": 3
         },
         "hovertemplate": "Encoder: gru (x2)<br>Decoder: mlp (x1)<br>LR: 1.00e-03<br>Mean Test Loss: 1.58e-03<br>Std Test Loss: 1.80e-04<br>Seeds: 5<br><extra></extra>",
         "marker": {
          "color": "#66C5CC",
          "line": {
           "color": "#1D6996",
           "width": 4
          },
          "size": 12
         },
         "mode": "markers",
         "name": "gru-mlp",
         "showlegend": false,
         "type": "scatter",
         "x": [
          11
         ],
         "y": [
          0.0015761917922645808
         ]
        },
        {
         "error_y": {
          "array": [
           0.00019576070344105615
          ],
          "color": "black",
          "thickness": 1,
          "type": "data",
          "visible": true,
          "width": 3
         },
         "hovertemplate": "Encoder: gru (x1)<br>Decoder: unet (x1)<br>LR: 1.00e-02<br>Mean Test Loss: 1.50e-03<br>Std Test Loss: 1.96e-04<br>Seeds: 5<br><extra></extra>",
         "marker": {
          "color": "#F6CF71",
          "line": {
           "color": "#1D6996",
           "width": 4
          },
          "size": 12
         },
         "mode": "markers",
         "name": "gru-unet",
         "showlegend": false,
         "type": "scatter",
         "x": [
          12
         ],
         "y": [
          0.0014982429100200533
         ]
        }
       ],
       "layout": {
        "height": 500,
        "hovermode": "closest",
        "legend": {
         "font": {
          "size": 20
         },
         "title": {
          "font": {
           "size": 20
          },
          "text": "Legend"
         }
        },
        "showlegend": true,
        "template": {
         "data": {
          "bar": [
           {
            "error_x": {
             "color": "#2a3f5f"
            },
            "error_y": {
             "color": "#2a3f5f"
            },
            "marker": {
             "line": {
              "color": "white",
              "width": 0.5
             },
             "pattern": {
              "fillmode": "overlay",
              "size": 10,
              "solidity": 0.2
             }
            },
            "type": "bar"
           }
          ],
          "barpolar": [
           {
            "marker": {
             "line": {
              "color": "white",
              "width": 0.5
             },
             "pattern": {
              "fillmode": "overlay",
              "size": 10,
              "solidity": 0.2
             }
            },
            "type": "barpolar"
           }
          ],
          "carpet": [
           {
            "aaxis": {
             "endlinecolor": "#2a3f5f",
             "gridcolor": "#C8D4E3",
             "linecolor": "#C8D4E3",
             "minorgridcolor": "#C8D4E3",
             "startlinecolor": "#2a3f5f"
            },
            "baxis": {
             "endlinecolor": "#2a3f5f",
             "gridcolor": "#C8D4E3",
             "linecolor": "#C8D4E3",
             "minorgridcolor": "#C8D4E3",
             "startlinecolor": "#2a3f5f"
            },
            "type": "carpet"
           }
          ],
          "choropleth": [
           {
            "colorbar": {
             "outlinewidth": 0,
             "ticks": ""
            },
            "type": "choropleth"
           }
          ],
          "contour": [
           {
            "colorbar": {
             "outlinewidth": 0,
             "ticks": ""
            },
            "colorscale": [
             [
              0,
              "#0d0887"
             ],
             [
              0.1111111111111111,
              "#46039f"
             ],
             [
              0.2222222222222222,
              "#7201a8"
             ],
             [
              0.3333333333333333,
              "#9c179e"
             ],
             [
              0.4444444444444444,
              "#bd3786"
             ],
             [
              0.5555555555555556,
              "#d8576b"
             ],
             [
              0.6666666666666666,
              "#ed7953"
             ],
             [
              0.7777777777777778,
              "#fb9f3a"
             ],
             [
              0.8888888888888888,
              "#fdca26"
             ],
             [
              1,
              "#f0f921"
             ]
            ],
            "type": "contour"
           }
          ],
          "contourcarpet": [
           {
            "colorbar": {
             "outlinewidth": 0,
             "ticks": ""
            },
            "type": "contourcarpet"
           }
          ],
          "heatmap": [
           {
            "colorbar": {
             "outlinewidth": 0,
             "ticks": ""
            },
            "colorscale": [
             [
              0,
              "#0d0887"
             ],
             [
              0.1111111111111111,
              "#46039f"
             ],
             [
              0.2222222222222222,
              "#7201a8"
             ],
             [
              0.3333333333333333,
              "#9c179e"
             ],
             [
              0.4444444444444444,
              "#bd3786"
             ],
             [
              0.5555555555555556,
              "#d8576b"
             ],
             [
              0.6666666666666666,
              "#ed7953"
             ],
             [
              0.7777777777777778,
              "#fb9f3a"
             ],
             [
              0.8888888888888888,
              "#fdca26"
             ],
             [
              1,
              "#f0f921"
             ]
            ],
            "type": "heatmap"
           }
          ],
          "heatmapgl": [
           {
            "colorbar": {
             "outlinewidth": 0,
             "ticks": ""
            },
            "colorscale": [
             [
              0,
              "#0d0887"
             ],
             [
              0.1111111111111111,
              "#46039f"
             ],
             [
              0.2222222222222222,
              "#7201a8"
             ],
             [
              0.3333333333333333,
              "#9c179e"
             ],
             [
              0.4444444444444444,
              "#bd3786"
             ],
             [
              0.5555555555555556,
              "#d8576b"
             ],
             [
              0.6666666666666666,
              "#ed7953"
             ],
             [
              0.7777777777777778,
              "#fb9f3a"
             ],
             [
              0.8888888888888888,
              "#fdca26"
             ],
             [
              1,
              "#f0f921"
             ]
            ],
            "type": "heatmapgl"
           }
          ],
          "histogram": [
           {
            "marker": {
             "pattern": {
              "fillmode": "overlay",
              "size": 10,
              "solidity": 0.2
             }
            },
            "type": "histogram"
           }
          ],
          "histogram2d": [
           {
            "colorbar": {
             "outlinewidth": 0,
             "ticks": ""
            },
            "colorscale": [
             [
              0,
              "#0d0887"
             ],
             [
              0.1111111111111111,
              "#46039f"
             ],
             [
              0.2222222222222222,
              "#7201a8"
             ],
             [
              0.3333333333333333,
              "#9c179e"
             ],
             [
              0.4444444444444444,
              "#bd3786"
             ],
             [
              0.5555555555555556,
              "#d8576b"
             ],
             [
              0.6666666666666666,
              "#ed7953"
             ],
             [
              0.7777777777777778,
              "#fb9f3a"
             ],
             [
              0.8888888888888888,
              "#fdca26"
             ],
             [
              1,
              "#f0f921"
             ]
            ],
            "type": "histogram2d"
           }
          ],
          "histogram2dcontour": [
           {
            "colorbar": {
             "outlinewidth": 0,
             "ticks": ""
            },
            "colorscale": [
             [
              0,
              "#0d0887"
             ],
             [
              0.1111111111111111,
              "#46039f"
             ],
             [
              0.2222222222222222,
              "#7201a8"
             ],
             [
              0.3333333333333333,
              "#9c179e"
             ],
             [
              0.4444444444444444,
              "#bd3786"
             ],
             [
              0.5555555555555556,
              "#d8576b"
             ],
             [
              0.6666666666666666,
              "#ed7953"
             ],
             [
              0.7777777777777778,
              "#fb9f3a"
             ],
             [
              0.8888888888888888,
              "#fdca26"
             ],
             [
              1,
              "#f0f921"
             ]
            ],
            "type": "histogram2dcontour"
           }
          ],
          "mesh3d": [
           {
            "colorbar": {
             "outlinewidth": 0,
             "ticks": ""
            },
            "type": "mesh3d"
           }
          ],
          "parcoords": [
           {
            "line": {
             "colorbar": {
              "outlinewidth": 0,
              "ticks": ""
             }
            },
            "type": "parcoords"
           }
          ],
          "pie": [
           {
            "automargin": true,
            "type": "pie"
           }
          ],
          "scatter": [
           {
            "marker": {
             "colorbar": {
              "outlinewidth": 0,
              "ticks": ""
             }
            },
            "type": "scatter"
           }
          ],
          "scatter3d": [
           {
            "line": {
             "colorbar": {
              "outlinewidth": 0,
              "ticks": ""
             }
            },
            "marker": {
             "colorbar": {
              "outlinewidth": 0,
              "ticks": ""
             }
            },
            "type": "scatter3d"
           }
          ],
          "scattercarpet": [
           {
            "marker": {
             "colorbar": {
              "outlinewidth": 0,
              "ticks": ""
             }
            },
            "type": "scattercarpet"
           }
          ],
          "scattergeo": [
           {
            "marker": {
             "colorbar": {
              "outlinewidth": 0,
              "ticks": ""
             }
            },
            "type": "scattergeo"
           }
          ],
          "scattergl": [
           {
            "marker": {
             "colorbar": {
              "outlinewidth": 0,
              "ticks": ""
             }
            },
            "type": "scattergl"
           }
          ],
          "scattermapbox": [
           {
            "marker": {
             "colorbar": {
              "outlinewidth": 0,
              "ticks": ""
             }
            },
            "type": "scattermapbox"
           }
          ],
          "scatterpolar": [
           {
            "marker": {
             "colorbar": {
              "outlinewidth": 0,
              "ticks": ""
             }
            },
            "type": "scatterpolar"
           }
          ],
          "scatterpolargl": [
           {
            "marker": {
             "colorbar": {
              "outlinewidth": 0,
              "ticks": ""
             }
            },
            "type": "scatterpolargl"
           }
          ],
          "scatterternary": [
           {
            "marker": {
             "colorbar": {
              "outlinewidth": 0,
              "ticks": ""
             }
            },
            "type": "scatterternary"
           }
          ],
          "surface": [
           {
            "colorbar": {
             "outlinewidth": 0,
             "ticks": ""
            },
            "colorscale": [
             [
              0,
              "#0d0887"
             ],
             [
              0.1111111111111111,
              "#46039f"
             ],
             [
              0.2222222222222222,
              "#7201a8"
             ],
             [
              0.3333333333333333,
              "#9c179e"
             ],
             [
              0.4444444444444444,
              "#bd3786"
             ],
             [
              0.5555555555555556,
              "#d8576b"
             ],
             [
              0.6666666666666666,
              "#ed7953"
             ],
             [
              0.7777777777777778,
              "#fb9f3a"
             ],
             [
              0.8888888888888888,
              "#fdca26"
             ],
             [
              1,
              "#f0f921"
             ]
            ],
            "type": "surface"
           }
          ],
          "table": [
           {
            "cells": {
             "fill": {
              "color": "#EBF0F8"
             },
             "line": {
              "color": "white"
             }
            },
            "header": {
             "fill": {
              "color": "#C8D4E3"
             },
             "line": {
              "color": "white"
             }
            },
            "type": "table"
           }
          ]
         },
         "layout": {
          "annotationdefaults": {
           "arrowcolor": "#2a3f5f",
           "arrowhead": 0,
           "arrowwidth": 1
          },
          "autotypenumbers": "strict",
          "coloraxis": {
           "colorbar": {
            "outlinewidth": 0,
            "ticks": ""
           }
          },
          "colorscale": {
           "diverging": [
            [
             0,
             "#8e0152"
            ],
            [
             0.1,
             "#c51b7d"
            ],
            [
             0.2,
             "#de77ae"
            ],
            [
             0.3,
             "#f1b6da"
            ],
            [
             0.4,
             "#fde0ef"
            ],
            [
             0.5,
             "#f7f7f7"
            ],
            [
             0.6,
             "#e6f5d0"
            ],
            [
             0.7,
             "#b8e186"
            ],
            [
             0.8,
             "#7fbc41"
            ],
            [
             0.9,
             "#4d9221"
            ],
            [
             1,
             "#276419"
            ]
           ],
           "sequential": [
            [
             0,
             "#0d0887"
            ],
            [
             0.1111111111111111,
             "#46039f"
            ],
            [
             0.2222222222222222,
             "#7201a8"
            ],
            [
             0.3333333333333333,
             "#9c179e"
            ],
            [
             0.4444444444444444,
             "#bd3786"
            ],
            [
             0.5555555555555556,
             "#d8576b"
            ],
            [
             0.6666666666666666,
             "#ed7953"
            ],
            [
             0.7777777777777778,
             "#fb9f3a"
            ],
            [
             0.8888888888888888,
             "#fdca26"
            ],
            [
             1,
             "#f0f921"
            ]
           ],
           "sequentialminus": [
            [
             0,
             "#0d0887"
            ],
            [
             0.1111111111111111,
             "#46039f"
            ],
            [
             0.2222222222222222,
             "#7201a8"
            ],
            [
             0.3333333333333333,
             "#9c179e"
            ],
            [
             0.4444444444444444,
             "#bd3786"
            ],
            [
             0.5555555555555556,
             "#d8576b"
            ],
            [
             0.6666666666666666,
             "#ed7953"
            ],
            [
             0.7777777777777778,
             "#fb9f3a"
            ],
            [
             0.8888888888888888,
             "#fdca26"
            ],
            [
             1,
             "#f0f921"
            ]
           ]
          },
          "colorway": [
           "#636efa",
           "#EF553B",
           "#00cc96",
           "#ab63fa",
           "#FFA15A",
           "#19d3f3",
           "#FF6692",
           "#B6E880",
           "#FF97FF",
           "#FECB52"
          ],
          "font": {
           "color": "#2a3f5f"
          },
          "geo": {
           "bgcolor": "white",
           "lakecolor": "white",
           "landcolor": "white",
           "showlakes": true,
           "showland": true,
           "subunitcolor": "#C8D4E3"
          },
          "hoverlabel": {
           "align": "left"
          },
          "hovermode": "closest",
          "mapbox": {
           "style": "light"
          },
          "paper_bgcolor": "white",
          "plot_bgcolor": "white",
          "polar": {
           "angularaxis": {
            "gridcolor": "#EBF0F8",
            "linecolor": "#EBF0F8",
            "ticks": ""
           },
           "bgcolor": "white",
           "radialaxis": {
            "gridcolor": "#EBF0F8",
            "linecolor": "#EBF0F8",
            "ticks": ""
           }
          },
          "scene": {
           "xaxis": {
            "backgroundcolor": "white",
            "gridcolor": "#DFE8F3",
            "gridwidth": 2,
            "linecolor": "#EBF0F8",
            "showbackground": true,
            "ticks": "",
            "zerolinecolor": "#EBF0F8"
           },
           "yaxis": {
            "backgroundcolor": "white",
            "gridcolor": "#DFE8F3",
            "gridwidth": 2,
            "linecolor": "#EBF0F8",
            "showbackground": true,
            "ticks": "",
            "zerolinecolor": "#EBF0F8"
           },
           "zaxis": {
            "backgroundcolor": "white",
            "gridcolor": "#DFE8F3",
            "gridwidth": 2,
            "linecolor": "#EBF0F8",
            "showbackground": true,
            "ticks": "",
            "zerolinecolor": "#EBF0F8"
           }
          },
          "shapedefaults": {
           "line": {
            "color": "#2a3f5f"
           }
          },
          "ternary": {
           "aaxis": {
            "gridcolor": "#DFE8F3",
            "linecolor": "#A2B1C6",
            "ticks": ""
           },
           "baxis": {
            "gridcolor": "#DFE8F3",
            "linecolor": "#A2B1C6",
            "ticks": ""
           },
           "bgcolor": "white",
           "caxis": {
            "gridcolor": "#DFE8F3",
            "linecolor": "#A2B1C6",
            "ticks": ""
           }
          },
          "title": {
           "x": 0.05
          },
          "xaxis": {
           "automargin": true,
           "gridcolor": "#EBF0F8",
           "linecolor": "#EBF0F8",
           "ticks": "",
           "title": {
            "standoff": 15
           },
           "zerolinecolor": "#EBF0F8",
           "zerolinewidth": 2
          },
          "yaxis": {
           "automargin": true,
           "gridcolor": "#EBF0F8",
           "linecolor": "#EBF0F8",
           "ticks": "",
           "title": {
            "standoff": 15
           },
           "zerolinecolor": "#EBF0F8",
           "zerolinewidth": 2
          }
         }
        },
        "title": {
         "font": {
          "size": 20
         },
         "text": "SST"
        },
        "width": 500,
        "xaxis": {
         "showticklabels": false,
         "tickfont": {
          "size": 20
         },
         "title": {
          "font": {
           "size": 20
          },
          "text": "Top 12 Models"
         }
        },
        "yaxis": {
         "exponentformat": "E",
         "nticks": 5,
         "tickfont": {
          "size": 20
         },
         "tickformat": "1.2e",
         "title": {
          "font": {
           "size": 20
          },
          "text": "Test Loss"
         },
         "type": "log"
        }
       }
      }
     },
     "metadata": {},
     "output_type": "display_data"
    },
    {
     "name": "stdout",
     "output_type": "stream",
     "text": [
      "[('gru_unet_plasma_e3_d1_lr1.00e-03_p1_s0.pkl', {'test_loss': 0.0002057709571090527, 'start_epoch': 99, 'best_val': 0.000275115598924458, 'best_epoch': 99, 'train_losses': [0.0011198220398420324, 0.0005293651080976885, 0.0004928591593992538, 0.00048037336763137806, 0.00047406657204891625, 0.0004659415168974262, 0.0004641128202470449, 0.0004568589233363477, 0.00045339087284026813, 0.00044137748549334134, 0.00043388788113728736, 0.0004344144970393525, 0.00042302966288004356, 0.0004215712363545138, 0.00040928386330891115, 0.0004069045736776808, 0.00039577374431806116, 0.00038884406183989573, 0.0003836328396573663, 0.00037981295519365143, 0.00037373176802737784, 0.00036592404313313845, 0.00035850295814900444, 0.0003501121245790273, 0.000350170121796859, 0.00034553655244123476, 0.00033958648250868113, 0.0003346683941065119, 0.00033003602696296113, 0.00032643248022605595, 0.00032015335343133373, 0.00031651978721269046, 0.000307417884379482, 0.0003081003848749858, 0.0003026697063782754, 0.00030124099486364197, 0.00029753215494565666, 0.00029121593867715163, 0.0002890199516864064, 0.00028114467904043314, 0.0002855390753561201, 0.00027693227681223874, 0.000276749250658143, 0.0002736438025469677, 0.00026667997232065175, 0.00026867173101681355, 0.00026372865137930674, 0.00026835753277947125, 0.0002599445377619794, 0.00025691738119348884, 0.00025349598749576567, 0.0002509875048417598, 0.0002495291432401595, 0.0002484482124250812, 0.00024281083404695473, 0.0002425362841817192, 0.00024091783919944786, 0.00023809451802382962, 0.00023489723837253853, 0.00023428296844940633, 0.0002358496690598818, 0.00022905610967427492, 0.00023005529118773455, 0.00022774386609223887, 0.0002237579924090264, 0.00022035924373015476, 0.00022126392510612137, 0.0002157189972841969, 0.00021636996825691313, 0.00021811091126157687, 0.00021630412307926096, 0.00021280363076724685, 0.00021120294807657885, 0.00020650307235952752, 0.0002051205777276594, 0.00020602709936121336, 0.00020517971894990367, 0.000204704699661726, 0.0002022913764589108, 0.00019940737715492456, 0.00019938567577180668, 0.00019795030283813292, 0.00019486621693851284, 0.00019461539005323386, 0.0001939794153888495, 0.00019379556089496383, 0.00018943827867937775, 0.00018998151174925553, 0.00019076172723613965, 0.00018710507608305378, 0.00018809709469608677, 0.00018727610922024513, 0.00018440219103537785, 0.00018516396364877716, 0.00018469816915547618, 0.000181517141754739, 0.00017983781043977404, 0.0001783523833952271, 0.00017890222975088714], 'val_losses': [0.0006169508851598948, 0.0005839186196681112, 0.000572500197449699, 0.0005677905573975295, 0.0005640732124447823, 0.0005644035118166357, 0.000560398300876841, 0.0005586729967035353, 0.0005497012170962989, 0.0005422354879556224, 0.0005377102497732267, 0.0005348464328562841, 0.0005305939412210137, 0.0005194969853619114, 0.0005261512123979628, 0.0005196780402911827, 0.0004989631997887045, 0.0004985094856237993, 0.0004964971449226141, 0.0004868256510235369, 0.00048046931624412537, 0.0004738771967822686, 0.00046443376049865037, 0.0004571658791974187, 0.00045927203609608114, 0.00045620898890774697, 0.0004452352732187137, 0.0004442596691660583, 0.00042918711551465094, 0.0004256651736795902, 0.00042023646528832614, 0.00040544373041484505, 0.0004136268835281953, 0.000402316713007167, 0.00039579648000653833, 0.0004003502835985273, 0.00039070736966095865, 0.0003918614820577204, 0.0003782132262131199, 0.00038620829582214355, 0.0003842445439659059, 0.000373483999283053, 0.0003656466433312744, 0.000358207049430348, 0.0003693827165989205, 0.0003577273746486753, 0.0003522677579894662, 0.0003471532108960673, 0.00034385336039122194, 0.00033934027305804193, 0.0003399804700165987, 0.0003341481206007302, 0.00033931284269783646, 0.00032809523690957576, 0.000329738890286535, 0.0003252307651564479, 0.00033223064383491874, 0.00032632843067403883, 0.00032228663621935993, 0.0003297619696240872, 0.00031564864912070334, 0.0003236333286622539, 0.0003216035256627947, 0.0003180110943503678, 0.00031171811860986054, 0.00030896438693162054, 0.00030128647631499916, 0.0003076041321037337, 0.000307926835375838, 0.0003078793379245326, 0.000296877755317837, 0.000296879923553206, 0.0002922445855801925, 0.0002958144905278459, 0.00029685320623684675, 0.00029740117315668613, 0.00030429265461862087, 0.00029507001454476267, 0.000290942465653643, 0.00028817332349717617, 0.00028978199406992644, 0.00028716871747747064, 0.000288182171061635, 0.00029105191060807556, 0.00028637744253501296, 0.0002841813111444935, 0.00028782022127415985, 0.00028309425397310406, 0.0002845848212018609, 0.00028078471950720996, 0.00028396124253049493, 0.0002805170515784994, 0.0002828273572959006, 0.00029072081088088453, 0.00027996496646665037, 0.0002836434723576531, 0.00027792829496320337, 0.000290882948320359, 0.000275115598924458], 'sensors': [(197, 215), (20, 132), (248, 207), (155, 244), (183, 111), (71, 144), (71, 48), (128, 75), (158, 50), (37, 169), (241, 51), (181, 222), (161, 104), (244, 226), (133, 31), (7, 47), (204, 0), (252, 170), (124, 166), (32, 97), (113, 122), (72, 229), (46, 41), (163, 250), (55, 154), (149, 63), (170, 104), (147, 227), (46, 197), (162, 123), (148, 94), (96, 95), (16, 133), (243, 35), (45, 66), (76, 19), (41, 200), (141, 120), (110, 214), (140, 230), (252, 182), (42, 166), (59, 249), (171, 97), (124, 8), (138, 59), (112, 190), (87, 170), (218, 31), (51, 74)], 'hyperparameters': {'batch_size': 128, 'dataset': 'plasma', 'decoder': 'unet', 'decoder_depth': 1, 'device': 'cuda:0', 'dropout': 0.1, 'dt': 1.0, 'early_stop': 20, 'encoder': 'gru', 'eval_full': False, 'encoder_depth': 3, 'epochs': 100, 'hidden_size': 100, 'generate_test_plots': True, 'generate_training_plots': False, 'include_sine': False, 'identifier': 'gru_unet_plasma_e3_d1_lr1.00e-03_p1_s0', 'lr': 0.001, 'n_heads': 2, 'n_sensors': 50, 'n_well_tracks': 10, 'poly_order': 1, 'save_every_n_epochs': 10, 'seed': 0, 'sindy_attention_threshold': 0.05, 'sindy_attention_threshold_epoch': 10, 'sindy_attention_weight': 0.0, 'sindy_loss_threshold': 0.05, 'sindy_loss_weight': 100, 'skip_load_checkpoint': False, 'verbose': False, 'window_length': 50, 'd_data_in': 1, 'data_rows_in': 257, 'data_cols_in': 256, 'd_data_out': 1, 'data_rows_out': 1, 'data_cols_out': 280, 'd_model': 50, 'dim_feedforward': 400, 'output_size': 280, 'latest_checkpoint_path': PosixPath('/app/code/checkpoints/gru_unet_plasma_e3_d1_lr1.00e-03_p1_s0_latest.pt'), 'best_checkpoint_path': PosixPath('/app/code/checkpoints/gru_unet_plasma_e3_d1_lr1.00e-03_p1_s0_best.pt')}})]\n",
      "test losses: [0.0005324611265677959, 0.000534241960849613, 0.0005164050526218489, 0.0005101982678752393, 0.0005354620807338506]\n",
      "Saved /Users/alexey/Git/T-SHRED/figures/plasma_worst_scatter.pdf\n"
     ]
    },
    {
     "data": {
      "application/vnd.plotly.v1+json": {
       "config": {
        "plotlyServerURL": "https://plot.ly"
       },
       "data": [
        {
         "marker": {
          "color": "white",
          "line": {
           "color": "#5F4690",
           "width": 4
          },
          "size": 12
         },
         "mode": "markers",
         "name": "LSTM",
         "showlegend": true,
         "type": "scatter",
         "x": [
          null
         ],
         "y": [
          null
         ]
        },
        {
         "marker": {
          "color": "white",
          "line": {
           "color": "#1D6996",
           "width": 4
          },
          "size": 12
         },
         "mode": "markers",
         "name": "GRU",
         "showlegend": true,
         "type": "scatter",
         "x": [
          null
         ],
         "y": [
          null
         ]
        },
        {
         "marker": {
          "color": "white",
          "line": {
           "color": "#38A6A5",
           "width": 4
          },
          "size": 12
         },
         "mode": "markers",
         "name": "SL-LSTM",
         "showlegend": true,
         "type": "scatter",
         "x": [
          null
         ],
         "y": [
          null
         ]
        },
        {
         "marker": {
          "color": "white",
          "line": {
           "color": "#0F8554",
           "width": 4
          },
          "size": 12
         },
         "mode": "markers",
         "name": "SL-GRU",
         "showlegend": true,
         "type": "scatter",
         "x": [
          null
         ],
         "y": [
          null
         ]
        },
        {
         "marker": {
          "color": "white",
          "line": {
           "color": "#73AF48",
           "width": 4
          },
          "size": 12
         },
         "mode": "markers",
         "name": "T",
         "showlegend": true,
         "type": "scatter",
         "x": [
          null
         ],
         "y": [
          null
         ]
        },
        {
         "marker": {
          "color": "white",
          "line": {
           "color": "#EDAD08",
           "width": 4
          },
          "size": 12
         },
         "mode": "markers",
         "name": "SL-T",
         "showlegend": true,
         "type": "scatter",
         "x": [
          null
         ],
         "y": [
          null
         ]
        },
        {
         "marker": {
          "color": "white",
          "line": {
           "color": "#E17C05",
           "width": 4
          },
          "size": 12
         },
         "mode": "markers",
         "name": "SA-T",
         "showlegend": true,
         "type": "scatter",
         "x": [
          null
         ],
         "y": [
          null
         ]
        },
        {
         "marker": {
          "color": "white",
          "line": {
           "color": "#CC503E",
           "width": 4
          },
          "size": 12
         },
         "mode": "markers",
         "name": "SASL-T",
         "showlegend": true,
         "type": "scatter",
         "x": [
          null
         ],
         "y": [
          null
         ]
        },
        {
         "marker": {
          "color": "#66C5CC",
          "line": {
           "color": "white",
           "width": 4
          },
          "size": 12
         },
         "mode": "markers",
         "name": "MLP",
         "showlegend": true,
         "type": "scatter",
         "x": [
          null
         ],
         "y": [
          null
         ]
        },
        {
         "marker": {
          "color": "#F6CF71",
          "line": {
           "color": "white",
           "width": 4
          },
          "size": 12
         },
         "mode": "markers",
         "name": "CNN",
         "showlegend": true,
         "type": "scatter",
         "x": [
          null
         ],
         "y": [
          null
         ]
        },
        {
         "error_y": {
          "array": [
           0.000008150795640393267
          ],
          "color": "black",
          "thickness": 1,
          "type": "data",
          "visible": true,
          "width": 3
         },
         "hovertemplate": "Encoder: gru (x3)<br>Decoder: unet (x1)<br>LR: 1.00e-02<br>Mean Test Loss: 2.44e-04<br>Std Test Loss: 8.15e-06<br>Seeds: 5<br><extra></extra>",
         "marker": {
          "color": "#F6CF71",
          "line": {
           "color": "#1D6996",
           "width": 4
          },
          "size": 12
         },
         "mode": "markers",
         "name": "gru-unet",
         "showlegend": false,
         "type": "scatter",
         "x": [
          1
         ],
         "y": [
          0.0002439247677102685
         ]
        },
        {
         "error_y": {
          "array": [
           0.0000067962238870896205
          ],
          "color": "black",
          "thickness": 1,
          "type": "data",
          "visible": true,
          "width": 3
         },
         "hovertemplate": "Encoder: gru (x4)<br>Decoder: mlp (x1)<br>LR: 1.00e-03<br>Mean Test Loss: 2.42e-04<br>Std Test Loss: 6.80e-06<br>Seeds: 5<br><extra></extra>",
         "marker": {
          "color": "#66C5CC",
          "line": {
           "color": "#1D6996",
           "width": 4
          },
          "size": 12
         },
         "mode": "markers",
         "name": "gru-mlp",
         "showlegend": false,
         "type": "scatter",
         "x": [
          2
         ],
         "y": [
          0.00024221591302193702
         ]
        },
        {
         "error_y": {
          "array": [
           0.000008787738914223112
          ],
          "color": "black",
          "thickness": 1,
          "type": "data",
          "visible": true,
          "width": 3
         },
         "hovertemplate": "Encoder: lstm (x2)<br>Decoder: unet (x1)<br>LR: 1.00e-03<br>Mean Test Loss: 2.41e-04<br>Std Test Loss: 8.79e-06<br>Seeds: 5<br><extra></extra>",
         "marker": {
          "color": "#F6CF71",
          "line": {
           "color": "#5F4690",
           "width": 4
          },
          "size": 12
         },
         "mode": "markers",
         "name": "lstm-unet",
         "showlegend": false,
         "type": "scatter",
         "x": [
          3
         ],
         "y": [
          0.0002409070890280418
         ]
        },
        {
         "error_y": {
          "array": [
           0.00000608999348412989
          ],
          "color": "black",
          "thickness": 1,
          "type": "data",
          "visible": true,
          "width": 3
         },
         "hovertemplate": "Encoder: lstm (x2)<br>Decoder: mlp (x1)<br>LR: 1.00e-03<br>Mean Test Loss: 2.41e-04<br>Std Test Loss: 6.09e-06<br>Seeds: 5<br><extra></extra>",
         "marker": {
          "color": "#66C5CC",
          "line": {
           "color": "#5F4690",
           "width": 4
          },
          "size": 12
         },
         "mode": "markers",
         "name": "lstm-mlp",
         "showlegend": false,
         "type": "scatter",
         "x": [
          4
         ],
         "y": [
          0.00024074585817288608
         ]
        },
        {
         "error_y": {
          "array": [
           0.00001316400408313387
          ],
          "color": "black",
          "thickness": 1,
          "type": "data",
          "visible": true,
          "width": 3
         },
         "hovertemplate": "Encoder: gru (x2)<br>Decoder: mlp (x1)<br>LR: 1.00e-02<br>Mean Test Loss: 2.41e-04<br>Std Test Loss: 1.32e-05<br>Seeds: 5<br><extra></extra>",
         "marker": {
          "color": "#66C5CC",
          "line": {
           "color": "#1D6996",
           "width": 4
          },
          "size": 12
         },
         "mode": "markers",
         "name": "gru-mlp",
         "showlegend": false,
         "type": "scatter",
         "x": [
          5
         ],
         "y": [
          0.00024055174726527183
         ]
        },
        {
         "error_y": {
          "array": [
           0.000006664104400136873
          ],
          "color": "black",
          "thickness": 1,
          "type": "data",
          "visible": true,
          "width": 3
         },
         "hovertemplate": "Encoder: gru (x1)<br>Decoder: unet (x1)<br>LR: 1.00e-02<br>Mean Test Loss: 2.40e-04<br>Std Test Loss: 6.66e-06<br>Seeds: 5<br><extra></extra>",
         "marker": {
          "color": "#F6CF71",
          "line": {
           "color": "#1D6996",
           "width": 4
          },
          "size": 12
         },
         "mode": "markers",
         "name": "gru-unet",
         "showlegend": false,
         "type": "scatter",
         "x": [
          6
         ],
         "y": [
          0.00023959814716363327
         ]
        },
        {
         "error_y": {
          "array": [
           0.000006336537079355725
          ],
          "color": "black",
          "thickness": 1,
          "type": "data",
          "visible": true,
          "width": 3
         },
         "hovertemplate": "Encoder: gru (x1)<br>Decoder: unet (x1)<br>LR: 1.00e-03<br>Mean Test Loss: 2.31e-04<br>Std Test Loss: 6.34e-06<br>Seeds: 5<br><extra></extra>",
         "marker": {
          "color": "#F6CF71",
          "line": {
           "color": "#1D6996",
           "width": 4
          },
          "size": 12
         },
         "mode": "markers",
         "name": "gru-unet",
         "showlegend": false,
         "type": "scatter",
         "x": [
          7
         ],
         "y": [
          0.00023078970989445224
         ]
        },
        {
         "error_y": {
          "array": [
           0.000004307899935951033
          ],
          "color": "black",
          "thickness": 1,
          "type": "data",
          "visible": true,
          "width": 3
         },
         "hovertemplate": "Encoder: gru (x2)<br>Decoder: unet (x1)<br>LR: 1.00e-02<br>Mean Test Loss: 2.29e-04<br>Std Test Loss: 4.31e-06<br>Seeds: 5<br><extra></extra>",
         "marker": {
          "color": "#F6CF71",
          "line": {
           "color": "#1D6996",
           "width": 4
          },
          "size": 12
         },
         "mode": "markers",
         "name": "gru-unet",
         "showlegend": false,
         "type": "scatter",
         "x": [
          8
         ],
         "y": [
          0.00022918741015018896
         ]
        },
        {
         "error_y": {
          "array": [
           0.0000031236518962571806
          ],
          "color": "black",
          "thickness": 1,
          "type": "data",
          "visible": true,
          "width": 3
         },
         "hovertemplate": "Encoder: gru (x4)<br>Decoder: unet (x1)<br>LR: 1.00e-03<br>Mean Test Loss: 2.19e-04<br>Std Test Loss: 3.12e-06<br>Seeds: 5<br><extra></extra>",
         "marker": {
          "color": "#F6CF71",
          "line": {
           "color": "#1D6996",
           "width": 4
          },
          "size": 12
         },
         "mode": "markers",
         "name": "gru-unet",
         "showlegend": false,
         "type": "scatter",
         "x": [
          9
         ],
         "y": [
          0.00021871773496968673
         ]
        },
        {
         "error_y": {
          "array": [
           0.000004310707725074443
          ],
          "color": "black",
          "thickness": 1,
          "type": "data",
          "visible": true,
          "width": 3
         },
         "hovertemplate": "Encoder: lstm (x1)<br>Decoder: unet (x1)<br>LR: 1.00e-03<br>Mean Test Loss: 2.16e-04<br>Std Test Loss: 4.31e-06<br>Seeds: 5<br><extra></extra>",
         "marker": {
          "color": "#F6CF71",
          "line": {
           "color": "#5F4690",
           "width": 4
          },
          "size": 12
         },
         "mode": "markers",
         "name": "lstm-unet",
         "showlegend": false,
         "type": "scatter",
         "x": [
          10
         ],
         "y": [
          0.0002164878067560494
         ]
        },
        {
         "error_y": {
          "array": [
           0.000005349929022830912
          ],
          "color": "black",
          "thickness": 1,
          "type": "data",
          "visible": true,
          "width": 3
         },
         "hovertemplate": "Encoder: gru (x2)<br>Decoder: unet (x1)<br>LR: 1.00e-03<br>Mean Test Loss: 2.15e-04<br>Std Test Loss: 5.35e-06<br>Seeds: 5<br><extra></extra>",
         "marker": {
          "color": "#F6CF71",
          "line": {
           "color": "#1D6996",
           "width": 4
          },
          "size": 12
         },
         "mode": "markers",
         "name": "gru-unet",
         "showlegend": false,
         "type": "scatter",
         "x": [
          11
         ],
         "y": [
          0.00021504851756617426
         ]
        },
        {
         "error_y": {
          "array": [
           0.00000337493276975449
          ],
          "color": "black",
          "thickness": 1,
          "type": "data",
          "visible": true,
          "width": 3
         },
         "hovertemplate": "Encoder: gru (x3)<br>Decoder: unet (x1)<br>LR: 1.00e-03<br>Mean Test Loss: 2.10e-04<br>Std Test Loss: 3.37e-06<br>Seeds: 5<br><extra></extra>",
         "marker": {
          "color": "#F6CF71",
          "line": {
           "color": "#1D6996",
           "width": 4
          },
          "size": 12
         },
         "mode": "markers",
         "name": "gru-unet",
         "showlegend": false,
         "type": "scatter",
         "x": [
          12
         ],
         "y": [
          0.0002100921468809247
         ]
        }
       ],
       "layout": {
        "height": 500,
        "hovermode": "closest",
        "legend": {
         "font": {
          "size": 20
         },
         "title": {
          "font": {
           "size": 20
          },
          "text": "Legend"
         }
        },
        "showlegend": true,
        "template": {
         "data": {
          "bar": [
           {
            "error_x": {
             "color": "#2a3f5f"
            },
            "error_y": {
             "color": "#2a3f5f"
            },
            "marker": {
             "line": {
              "color": "white",
              "width": 0.5
             },
             "pattern": {
              "fillmode": "overlay",
              "size": 10,
              "solidity": 0.2
             }
            },
            "type": "bar"
           }
          ],
          "barpolar": [
           {
            "marker": {
             "line": {
              "color": "white",
              "width": 0.5
             },
             "pattern": {
              "fillmode": "overlay",
              "size": 10,
              "solidity": 0.2
             }
            },
            "type": "barpolar"
           }
          ],
          "carpet": [
           {
            "aaxis": {
             "endlinecolor": "#2a3f5f",
             "gridcolor": "#C8D4E3",
             "linecolor": "#C8D4E3",
             "minorgridcolor": "#C8D4E3",
             "startlinecolor": "#2a3f5f"
            },
            "baxis": {
             "endlinecolor": "#2a3f5f",
             "gridcolor": "#C8D4E3",
             "linecolor": "#C8D4E3",
             "minorgridcolor": "#C8D4E3",
             "startlinecolor": "#2a3f5f"
            },
            "type": "carpet"
           }
          ],
          "choropleth": [
           {
            "colorbar": {
             "outlinewidth": 0,
             "ticks": ""
            },
            "type": "choropleth"
           }
          ],
          "contour": [
           {
            "colorbar": {
             "outlinewidth": 0,
             "ticks": ""
            },
            "colorscale": [
             [
              0,
              "#0d0887"
             ],
             [
              0.1111111111111111,
              "#46039f"
             ],
             [
              0.2222222222222222,
              "#7201a8"
             ],
             [
              0.3333333333333333,
              "#9c179e"
             ],
             [
              0.4444444444444444,
              "#bd3786"
             ],
             [
              0.5555555555555556,
              "#d8576b"
             ],
             [
              0.6666666666666666,
              "#ed7953"
             ],
             [
              0.7777777777777778,
              "#fb9f3a"
             ],
             [
              0.8888888888888888,
              "#fdca26"
             ],
             [
              1,
              "#f0f921"
             ]
            ],
            "type": "contour"
           }
          ],
          "contourcarpet": [
           {
            "colorbar": {
             "outlinewidth": 0,
             "ticks": ""
            },
            "type": "contourcarpet"
           }
          ],
          "heatmap": [
           {
            "colorbar": {
             "outlinewidth": 0,
             "ticks": ""
            },
            "colorscale": [
             [
              0,
              "#0d0887"
             ],
             [
              0.1111111111111111,
              "#46039f"
             ],
             [
              0.2222222222222222,
              "#7201a8"
             ],
             [
              0.3333333333333333,
              "#9c179e"
             ],
             [
              0.4444444444444444,
              "#bd3786"
             ],
             [
              0.5555555555555556,
              "#d8576b"
             ],
             [
              0.6666666666666666,
              "#ed7953"
             ],
             [
              0.7777777777777778,
              "#fb9f3a"
             ],
             [
              0.8888888888888888,
              "#fdca26"
             ],
             [
              1,
              "#f0f921"
             ]
            ],
            "type": "heatmap"
           }
          ],
          "heatmapgl": [
           {
            "colorbar": {
             "outlinewidth": 0,
             "ticks": ""
            },
            "colorscale": [
             [
              0,
              "#0d0887"
             ],
             [
              0.1111111111111111,
              "#46039f"
             ],
             [
              0.2222222222222222,
              "#7201a8"
             ],
             [
              0.3333333333333333,
              "#9c179e"
             ],
             [
              0.4444444444444444,
              "#bd3786"
             ],
             [
              0.5555555555555556,
              "#d8576b"
             ],
             [
              0.6666666666666666,
              "#ed7953"
             ],
             [
              0.7777777777777778,
              "#fb9f3a"
             ],
             [
              0.8888888888888888,
              "#fdca26"
             ],
             [
              1,
              "#f0f921"
             ]
            ],
            "type": "heatmapgl"
           }
          ],
          "histogram": [
           {
            "marker": {
             "pattern": {
              "fillmode": "overlay",
              "size": 10,
              "solidity": 0.2
             }
            },
            "type": "histogram"
           }
          ],
          "histogram2d": [
           {
            "colorbar": {
             "outlinewidth": 0,
             "ticks": ""
            },
            "colorscale": [
             [
              0,
              "#0d0887"
             ],
             [
              0.1111111111111111,
              "#46039f"
             ],
             [
              0.2222222222222222,
              "#7201a8"
             ],
             [
              0.3333333333333333,
              "#9c179e"
             ],
             [
              0.4444444444444444,
              "#bd3786"
             ],
             [
              0.5555555555555556,
              "#d8576b"
             ],
             [
              0.6666666666666666,
              "#ed7953"
             ],
             [
              0.7777777777777778,
              "#fb9f3a"
             ],
             [
              0.8888888888888888,
              "#fdca26"
             ],
             [
              1,
              "#f0f921"
             ]
            ],
            "type": "histogram2d"
           }
          ],
          "histogram2dcontour": [
           {
            "colorbar": {
             "outlinewidth": 0,
             "ticks": ""
            },
            "colorscale": [
             [
              0,
              "#0d0887"
             ],
             [
              0.1111111111111111,
              "#46039f"
             ],
             [
              0.2222222222222222,
              "#7201a8"
             ],
             [
              0.3333333333333333,
              "#9c179e"
             ],
             [
              0.4444444444444444,
              "#bd3786"
             ],
             [
              0.5555555555555556,
              "#d8576b"
             ],
             [
              0.6666666666666666,
              "#ed7953"
             ],
             [
              0.7777777777777778,
              "#fb9f3a"
             ],
             [
              0.8888888888888888,
              "#fdca26"
             ],
             [
              1,
              "#f0f921"
             ]
            ],
            "type": "histogram2dcontour"
           }
          ],
          "mesh3d": [
           {
            "colorbar": {
             "outlinewidth": 0,
             "ticks": ""
            },
            "type": "mesh3d"
           }
          ],
          "parcoords": [
           {
            "line": {
             "colorbar": {
              "outlinewidth": 0,
              "ticks": ""
             }
            },
            "type": "parcoords"
           }
          ],
          "pie": [
           {
            "automargin": true,
            "type": "pie"
           }
          ],
          "scatter": [
           {
            "marker": {
             "colorbar": {
              "outlinewidth": 0,
              "ticks": ""
             }
            },
            "type": "scatter"
           }
          ],
          "scatter3d": [
           {
            "line": {
             "colorbar": {
              "outlinewidth": 0,
              "ticks": ""
             }
            },
            "marker": {
             "colorbar": {
              "outlinewidth": 0,
              "ticks": ""
             }
            },
            "type": "scatter3d"
           }
          ],
          "scattercarpet": [
           {
            "marker": {
             "colorbar": {
              "outlinewidth": 0,
              "ticks": ""
             }
            },
            "type": "scattercarpet"
           }
          ],
          "scattergeo": [
           {
            "marker": {
             "colorbar": {
              "outlinewidth": 0,
              "ticks": ""
             }
            },
            "type": "scattergeo"
           }
          ],
          "scattergl": [
           {
            "marker": {
             "colorbar": {
              "outlinewidth": 0,
              "ticks": ""
             }
            },
            "type": "scattergl"
           }
          ],
          "scattermapbox": [
           {
            "marker": {
             "colorbar": {
              "outlinewidth": 0,
              "ticks": ""
             }
            },
            "type": "scattermapbox"
           }
          ],
          "scatterpolar": [
           {
            "marker": {
             "colorbar": {
              "outlinewidth": 0,
              "ticks": ""
             }
            },
            "type": "scatterpolar"
           }
          ],
          "scatterpolargl": [
           {
            "marker": {
             "colorbar": {
              "outlinewidth": 0,
              "ticks": ""
             }
            },
            "type": "scatterpolargl"
           }
          ],
          "scatterternary": [
           {
            "marker": {
             "colorbar": {
              "outlinewidth": 0,
              "ticks": ""
             }
            },
            "type": "scatterternary"
           }
          ],
          "surface": [
           {
            "colorbar": {
             "outlinewidth": 0,
             "ticks": ""
            },
            "colorscale": [
             [
              0,
              "#0d0887"
             ],
             [
              0.1111111111111111,
              "#46039f"
             ],
             [
              0.2222222222222222,
              "#7201a8"
             ],
             [
              0.3333333333333333,
              "#9c179e"
             ],
             [
              0.4444444444444444,
              "#bd3786"
             ],
             [
              0.5555555555555556,
              "#d8576b"
             ],
             [
              0.6666666666666666,
              "#ed7953"
             ],
             [
              0.7777777777777778,
              "#fb9f3a"
             ],
             [
              0.8888888888888888,
              "#fdca26"
             ],
             [
              1,
              "#f0f921"
             ]
            ],
            "type": "surface"
           }
          ],
          "table": [
           {
            "cells": {
             "fill": {
              "color": "#EBF0F8"
             },
             "line": {
              "color": "white"
             }
            },
            "header": {
             "fill": {
              "color": "#C8D4E3"
             },
             "line": {
              "color": "white"
             }
            },
            "type": "table"
           }
          ]
         },
         "layout": {
          "annotationdefaults": {
           "arrowcolor": "#2a3f5f",
           "arrowhead": 0,
           "arrowwidth": 1
          },
          "autotypenumbers": "strict",
          "coloraxis": {
           "colorbar": {
            "outlinewidth": 0,
            "ticks": ""
           }
          },
          "colorscale": {
           "diverging": [
            [
             0,
             "#8e0152"
            ],
            [
             0.1,
             "#c51b7d"
            ],
            [
             0.2,
             "#de77ae"
            ],
            [
             0.3,
             "#f1b6da"
            ],
            [
             0.4,
             "#fde0ef"
            ],
            [
             0.5,
             "#f7f7f7"
            ],
            [
             0.6,
             "#e6f5d0"
            ],
            [
             0.7,
             "#b8e186"
            ],
            [
             0.8,
             "#7fbc41"
            ],
            [
             0.9,
             "#4d9221"
            ],
            [
             1,
             "#276419"
            ]
           ],
           "sequential": [
            [
             0,
             "#0d0887"
            ],
            [
             0.1111111111111111,
             "#46039f"
            ],
            [
             0.2222222222222222,
             "#7201a8"
            ],
            [
             0.3333333333333333,
             "#9c179e"
            ],
            [
             0.4444444444444444,
             "#bd3786"
            ],
            [
             0.5555555555555556,
             "#d8576b"
            ],
            [
             0.6666666666666666,
             "#ed7953"
            ],
            [
             0.7777777777777778,
             "#fb9f3a"
            ],
            [
             0.8888888888888888,
             "#fdca26"
            ],
            [
             1,
             "#f0f921"
            ]
           ],
           "sequentialminus": [
            [
             0,
             "#0d0887"
            ],
            [
             0.1111111111111111,
             "#46039f"
            ],
            [
             0.2222222222222222,
             "#7201a8"
            ],
            [
             0.3333333333333333,
             "#9c179e"
            ],
            [
             0.4444444444444444,
             "#bd3786"
            ],
            [
             0.5555555555555556,
             "#d8576b"
            ],
            [
             0.6666666666666666,
             "#ed7953"
            ],
            [
             0.7777777777777778,
             "#fb9f3a"
            ],
            [
             0.8888888888888888,
             "#fdca26"
            ],
            [
             1,
             "#f0f921"
            ]
           ]
          },
          "colorway": [
           "#636efa",
           "#EF553B",
           "#00cc96",
           "#ab63fa",
           "#FFA15A",
           "#19d3f3",
           "#FF6692",
           "#B6E880",
           "#FF97FF",
           "#FECB52"
          ],
          "font": {
           "color": "#2a3f5f"
          },
          "geo": {
           "bgcolor": "white",
           "lakecolor": "white",
           "landcolor": "white",
           "showlakes": true,
           "showland": true,
           "subunitcolor": "#C8D4E3"
          },
          "hoverlabel": {
           "align": "left"
          },
          "hovermode": "closest",
          "mapbox": {
           "style": "light"
          },
          "paper_bgcolor": "white",
          "plot_bgcolor": "white",
          "polar": {
           "angularaxis": {
            "gridcolor": "#EBF0F8",
            "linecolor": "#EBF0F8",
            "ticks": ""
           },
           "bgcolor": "white",
           "radialaxis": {
            "gridcolor": "#EBF0F8",
            "linecolor": "#EBF0F8",
            "ticks": ""
           }
          },
          "scene": {
           "xaxis": {
            "backgroundcolor": "white",
            "gridcolor": "#DFE8F3",
            "gridwidth": 2,
            "linecolor": "#EBF0F8",
            "showbackground": true,
            "ticks": "",
            "zerolinecolor": "#EBF0F8"
           },
           "yaxis": {
            "backgroundcolor": "white",
            "gridcolor": "#DFE8F3",
            "gridwidth": 2,
            "linecolor": "#EBF0F8",
            "showbackground": true,
            "ticks": "",
            "zerolinecolor": "#EBF0F8"
           },
           "zaxis": {
            "backgroundcolor": "white",
            "gridcolor": "#DFE8F3",
            "gridwidth": 2,
            "linecolor": "#EBF0F8",
            "showbackground": true,
            "ticks": "",
            "zerolinecolor": "#EBF0F8"
           }
          },
          "shapedefaults": {
           "line": {
            "color": "#2a3f5f"
           }
          },
          "ternary": {
           "aaxis": {
            "gridcolor": "#DFE8F3",
            "linecolor": "#A2B1C6",
            "ticks": ""
           },
           "baxis": {
            "gridcolor": "#DFE8F3",
            "linecolor": "#A2B1C6",
            "ticks": ""
           },
           "bgcolor": "white",
           "caxis": {
            "gridcolor": "#DFE8F3",
            "linecolor": "#A2B1C6",
            "ticks": ""
           }
          },
          "title": {
           "x": 0.05
          },
          "xaxis": {
           "automargin": true,
           "gridcolor": "#EBF0F8",
           "linecolor": "#EBF0F8",
           "ticks": "",
           "title": {
            "standoff": 15
           },
           "zerolinecolor": "#EBF0F8",
           "zerolinewidth": 2
          },
          "yaxis": {
           "automargin": true,
           "gridcolor": "#EBF0F8",
           "linecolor": "#EBF0F8",
           "ticks": "",
           "title": {
            "standoff": 15
           },
           "zerolinecolor": "#EBF0F8",
           "zerolinewidth": 2
          }
         }
        },
        "title": {
         "font": {
          "size": 20
         },
         "text": "Plasma"
        },
        "width": 500,
        "xaxis": {
         "showticklabels": false,
         "tickfont": {
          "size": 20
         },
         "title": {
          "font": {
           "size": 20
          },
          "text": "Top 12 Models"
         }
        },
        "yaxis": {
         "exponentformat": "E",
         "nticks": 5,
         "tickfont": {
          "size": 20
         },
         "tickformat": "1.2e",
         "title": {
          "font": {
           "size": 20
          },
          "text": "Test Loss"
         },
         "type": "log"
        }
       }
      }
     },
     "metadata": {},
     "output_type": "display_data"
    }
   ],
   "source": [
    "\n",
    "f = Figlet(font='ogre')\n",
    "for dataset in ['planetswe', 'sst', 'plasma']:\n",
    "    best_result = helpers.get_top_N_models_by_loss(dataset, pickle_dir, N=1)\n",
    "    print(best_result)\n",
    "    plots.plot_model_results_scatter(results, dataset, 12, save=True, fname=f\"{dataset}_worst_scatter\", title_fontsize=20, axes_fontsize=20, legend_fontsize=20, reverse=False)\n",
    "\n"
   ]
  },
  {
   "cell_type": "code",
   "execution_count": 6,
   "metadata": {},
   "outputs": [
    {
     "name": "stdout",
     "output_type": "stream",
     "text": [
      "[('sindy_loss_gru_mlp_planetswe_e1_d1_lr1.00e-03_p1_s0.pkl', {'test_loss': 0.0019218050583731383, 'start_epoch': 56, 'best_val': 0.0022574458736926315, 'best_epoch': 56, 'train_losses': [0.13539191006372372, 0.03678547590970993, 0.035333632367352645, 0.034432734735310076, 0.03365748537083467, 0.03304062448441982, 0.0325704620530208, 0.03215357108662526, 0.03184492898484071, 0.03160551277299722, 0.031397384808709225, 0.03116783043369651, 0.03099450245499611, 0.030849991738796233, 0.030722183175385, 0.030597152343640726, 0.030499516831090052, 0.03040029527619481, 0.030295406592388947, 0.030201291510214407, 0.030113864131271838, 0.03004052077109615, 0.029974634852260353, 0.029910281642029683, 0.029859598726034164, 0.029782726801931857, 0.029745392066737018, 0.02966735794519385, 0.02962634861469269, 0.02958958751211564, 0.029521808245529732, 0.02949525071308017, 0.029457247847070298, 0.029433266104509432, 0.02943354342132807, 0.029333130301286776, 0.029261330297837656, 0.029290406312793494, 0.029233397046724955, 0.029244663069645564, 0.02917470531538129, 0.029138165712356567, 0.02909084763377905, 0.029070684872567653, 0.02906753939266006, 0.029117240260044735, 0.028983722937603793, 0.028976446328063805, 0.028944048968454202, 0.02893602658684055, 0.02893175578986605, 0.028923643101006747, 0.02889039892082413, 0.028818058688193558, 0.0288117790594697, 0.02880381674816211], 'val_losses': [0.011493345722556114, 0.009818130359053611, 0.00867969123646617, 0.007672092784196139, 0.0077849702909588816, 0.0067475601099431515, 0.007301465608179569, 0.006255389470607042, 0.0064122132956981655, 0.005335791129618883, 0.0066536679863929745, 0.00506619056686759, 0.005961556546390056, 0.005481849703937769, 0.005113885179162026, 0.004592440091073513, 0.00545991426333785, 0.004939305502921343, 0.005617136415094137, 0.005496454704552889, 0.005404319427907467, 0.005122282821685076, 0.004789814632385969, 0.005833516828715801, 0.004145052749663591, 0.0048614474013447765, 0.004225111473351717, 0.004886451922357082, 0.0045355531387031075, 0.004049313394352794, 0.005198963731527328, 0.004218520969152451, 0.0058502391912043095, 0.0039047107566148043, 0.006018233112990856, 0.004529645293951034, 0.005237619020044803, 0.003761486895382404, 0.003231146279722452, 0.004576971381902694, 0.005663375928997993, 0.00484946770593524, 0.004036811087280512, 0.0037802917417138816, 0.007191192638128996, 0.0036131358705461026, 0.0037295025773346423, 0.0034480550792068245, 0.003953976649791002, 0.005734502803534269, 0.004418962448835373, 0.0069712215103209015, 0.004942490812391042, 0.0038452814798802136, 0.004678619466722012, 0.0022574458736926315], 'sensors': [(197, 430), (20, 265), (248, 414), (155, 488), (183, 223), (71, 288), (71, 97), (128, 150), (158, 101), (37, 338), (241, 103), (181, 444), (161, 209), (244, 453), (133, 63), (7, 95), (204, 1), (252, 341), (124, 333), (32, 195), (113, 244), (72, 458), (46, 82), (163, 501), (55, 308), (149, 127), (170, 208), (147, 455), (46, 394), (162, 247), (148, 188), (96, 191), (16, 266), (243, 70), (45, 133), (76, 39), (41, 400), (141, 241), (110, 429), (140, 461), (252, 365), (42, 332), (59, 498), (171, 194), (124, 16), (138, 119), (112, 380), (87, 340), (218, 63), (51, 149)], 'hyperparameters': {'batch_size': 128, 'dataset': 'planetswe', 'decoder': 'mlp', 'decoder_depth': 1, 'device': 'cuda:0', 'dropout': 0.1, 'dt': 1.0, 'early_stop': 10, 'encoder': 'sindy_loss_gru', 'eval_full': False, 'encoder_depth': 1, 'epochs': 100, 'hidden_size': 100, 'generate_test_plots': True, 'generate_training_plots': False, 'include_sine': False, 'identifier': 'sindy_loss_gru_mlp_planetswe_e1_d1_lr1.00e-03_p1sindy_loss_gru_mlp_planetswe_e1_d1_lr1.00e-03_p1_s0', 'lr': 0.001, 'n_heads': 4, 'n_sensors': 50, 'n_well_tracks': 10, 'poly_order': 1, 'save_every_n_epochs': 10, 'seed': 0, 'sindy_attention_threshold': 0.05, 'sindy_attention_threshold_epoch': 10, 'sindy_attention_weight': 0.0, 'sindy_loss_threshold': 0.05, 'sindy_loss_weight': 100, 'skip_load_checkpoint': False, 'verbose': False, 'window_length': 50, 'd_data_in': 3, 'data_rows_in': 256, 'data_cols_in': 512, 'd_data_out': 3, 'data_rows_out': 256, 'data_cols_out': 512, 'd_model': 150, 'dim_feedforward': 400, 'output_size': 393216, 'latest_checkpoint_path': PosixPath('/app/code/checkpoints/sindy_loss_gru_mlp_planetswe_e1_d1_lr1.00e-03_p1sindy_loss_gru_mlp_planetswe_e1_d1_lr1.00e-03_p1_s0_latest.pt'), 'best_checkpoint_path': PosixPath('/app/code/checkpoints/sindy_loss_gru_mlp_planetswe_e1_d1_lr1.00e-03_p1sindy_loss_gru_mlp_planetswe_e1_d1_lr1.00e-03_p1_s0_best.pt')}})]\n",
      "test losses: [0.00794483080971986, 0.007676968933083117, 0.00778250687289983, 0.007591776666231453, 0.007770758122205734]\n",
      "Saved /Users/alexey/Git/T-SHRED/figures/planetswe_scatter.pdf\n"
     ]
    },
    {
     "data": {
      "application/vnd.plotly.v1+json": {
       "config": {
        "plotlyServerURL": "https://plot.ly"
       },
       "data": [
        {
         "marker": {
          "color": "white",
          "line": {
           "color": "#5F4690",
           "width": 4
          },
          "size": 12
         },
         "mode": "markers",
         "name": "LSTM",
         "showlegend": true,
         "type": "scatter",
         "x": [
          null
         ],
         "y": [
          null
         ]
        },
        {
         "marker": {
          "color": "white",
          "line": {
           "color": "#1D6996",
           "width": 4
          },
          "size": 12
         },
         "mode": "markers",
         "name": "GRU",
         "showlegend": true,
         "type": "scatter",
         "x": [
          null
         ],
         "y": [
          null
         ]
        },
        {
         "marker": {
          "color": "white",
          "line": {
           "color": "#38A6A5",
           "width": 4
          },
          "size": 12
         },
         "mode": "markers",
         "name": "SL-LSTM",
         "showlegend": true,
         "type": "scatter",
         "x": [
          null
         ],
         "y": [
          null
         ]
        },
        {
         "marker": {
          "color": "white",
          "line": {
           "color": "#0F8554",
           "width": 4
          },
          "size": 12
         },
         "mode": "markers",
         "name": "SL-GRU",
         "showlegend": true,
         "type": "scatter",
         "x": [
          null
         ],
         "y": [
          null
         ]
        },
        {
         "marker": {
          "color": "white",
          "line": {
           "color": "#73AF48",
           "width": 4
          },
          "size": 12
         },
         "mode": "markers",
         "name": "T",
         "showlegend": true,
         "type": "scatter",
         "x": [
          null
         ],
         "y": [
          null
         ]
        },
        {
         "marker": {
          "color": "white",
          "line": {
           "color": "#EDAD08",
           "width": 4
          },
          "size": 12
         },
         "mode": "markers",
         "name": "SL-T",
         "showlegend": true,
         "type": "scatter",
         "x": [
          null
         ],
         "y": [
          null
         ]
        },
        {
         "marker": {
          "color": "white",
          "line": {
           "color": "#E17C05",
           "width": 4
          },
          "size": 12
         },
         "mode": "markers",
         "name": "SA-T",
         "showlegend": true,
         "type": "scatter",
         "x": [
          null
         ],
         "y": [
          null
         ]
        },
        {
         "marker": {
          "color": "white",
          "line": {
           "color": "#CC503E",
           "width": 4
          },
          "size": 12
         },
         "mode": "markers",
         "name": "SASL-T",
         "showlegend": true,
         "type": "scatter",
         "x": [
          null
         ],
         "y": [
          null
         ]
        },
        {
         "marker": {
          "color": "#66C5CC",
          "line": {
           "color": "white",
           "width": 4
          },
          "size": 12
         },
         "mode": "markers",
         "name": "MLP",
         "showlegend": true,
         "type": "scatter",
         "x": [
          null
         ],
         "y": [
          null
         ]
        },
        {
         "marker": {
          "color": "#F6CF71",
          "line": {
           "color": "white",
           "width": 4
          },
          "size": 12
         },
         "mode": "markers",
         "name": "CNN",
         "showlegend": true,
         "type": "scatter",
         "x": [
          null
         ],
         "y": [
          null
         ]
        },
        {
         "error_y": {
          "array": [
           0.00011811695419752428
          ],
          "color": "black",
          "thickness": 1,
          "type": "data",
          "visible": true,
          "width": 3
         },
         "hovertemplate": "Encoder: sindy_attention_sindy_loss_transformer (x2)<br>Decoder: mlp (x1)<br>LR: 1.00e-02<br>Mean Test Loss: 7.75e-03<br>Std Test Loss: 1.18e-04<br>Seeds: 5<br><extra></extra>",
         "marker": {
          "color": "#66C5CC",
          "line": {
           "color": "#CC503E",
           "width": 4
          },
          "size": 12
         },
         "mode": "markers",
         "name": "sindy_attention_sindy_loss_transformer-mlp",
         "showlegend": false,
         "type": "scatter",
         "x": [
          1
         ],
         "y": [
          0.007753368280827999
         ]
        },
        {
         "error_y": {
          "array": [
           0.00007182490321956939
          ],
          "color": "black",
          "thickness": 1,
          "type": "data",
          "visible": true,
          "width": 3
         },
         "hovertemplate": "Encoder: sindy_attention_sindy_loss_transformer (x4)<br>Decoder: unet (x1)<br>LR: 1.00e-03<br>Mean Test Loss: 7.76e-03<br>Std Test Loss: 7.18e-05<br>Seeds: 5<br><extra></extra>",
         "marker": {
          "color": "#F6CF71",
          "line": {
           "color": "#CC503E",
           "width": 4
          },
          "size": 12
         },
         "mode": "markers",
         "name": "sindy_attention_sindy_loss_transformer-unet",
         "showlegend": false,
         "type": "scatter",
         "x": [
          2
         ],
         "y": [
          0.00775594413280487
         ]
        },
        {
         "error_y": {
          "array": [
           0.000038988373977773635
          ],
          "color": "black",
          "thickness": 1,
          "type": "data",
          "visible": true,
          "width": 3
         },
         "hovertemplate": "Encoder: sindy_attention_sindy_loss_transformer (x3)<br>Decoder: unet (x1)<br>LR: 1.00e-03<br>Mean Test Loss: 7.76e-03<br>Std Test Loss: 3.90e-05<br>Seeds: 5<br><extra></extra>",
         "marker": {
          "color": "#F6CF71",
          "line": {
           "color": "#CC503E",
           "width": 4
          },
          "size": 12
         },
         "mode": "markers",
         "name": "sindy_attention_sindy_loss_transformer-unet",
         "showlegend": false,
         "type": "scatter",
         "x": [
          3
         ],
         "y": [
          0.0077584907179698345
         ]
        },
        {
         "error_y": {
          "array": [
           0.000051173277689293
          ],
          "color": "black",
          "thickness": 1,
          "type": "data",
          "visible": true,
          "width": 3
         },
         "hovertemplate": "Encoder: sindy_attention_sindy_loss_transformer (x2)<br>Decoder: unet (x1)<br>LR: 1.00e-03<br>Mean Test Loss: 7.76e-03<br>Std Test Loss: 5.12e-05<br>Seeds: 5<br><extra></extra>",
         "marker": {
          "color": "#F6CF71",
          "line": {
           "color": "#CC503E",
           "width": 4
          },
          "size": 12
         },
         "mode": "markers",
         "name": "sindy_attention_sindy_loss_transformer-unet",
         "showlegend": false,
         "type": "scatter",
         "x": [
          4
         ],
         "y": [
          0.007761624525301158
         ]
        },
        {
         "error_y": {
          "array": [
           0.00004998305801385087
          ],
          "color": "black",
          "thickness": 1,
          "type": "data",
          "visible": true,
          "width": 3
         },
         "hovertemplate": "Encoder: sindy_loss_transformer (x4)<br>Decoder: mlp (x1)<br>LR: 1.00e-03<br>Mean Test Loss: 7.76e-03<br>Std Test Loss: 5.00e-05<br>Seeds: 5<br><extra></extra>",
         "marker": {
          "color": "#66C5CC",
          "line": {
           "color": "#EDAD08",
           "width": 4
          },
          "size": 12
         },
         "mode": "markers",
         "name": "sindy_loss_transformer-mlp",
         "showlegend": false,
         "type": "scatter",
         "x": [
          5
         ],
         "y": [
          0.007761867484077811
         ]
        },
        {
         "error_y": {
          "array": [
           0.000054624175337904146
          ],
          "color": "black",
          "thickness": 1,
          "type": "data",
          "visible": true,
          "width": 3
         },
         "hovertemplate": "Encoder: sindy_loss_transformer (x1)<br>Decoder: unet (x1)<br>LR: 1.00e-03<br>Mean Test Loss: 7.77e-03<br>Std Test Loss: 5.46e-05<br>Seeds: 5<br><extra></extra>",
         "marker": {
          "color": "#F6CF71",
          "line": {
           "color": "#EDAD08",
           "width": 4
          },
          "size": 12
         },
         "mode": "markers",
         "name": "sindy_loss_transformer-unet",
         "showlegend": false,
         "type": "scatter",
         "x": [
          6
         ],
         "y": [
          0.007767199981026351
         ]
        },
        {
         "error_y": {
          "array": [
           0.00004710599936705891
          ],
          "color": "black",
          "thickness": 1,
          "type": "data",
          "visible": true,
          "width": 3
         },
         "hovertemplate": "Encoder: sindy_attention_sindy_loss_transformer (x2)<br>Decoder: mlp (x1)<br>LR: 1.00e-03<br>Mean Test Loss: 7.78e-03<br>Std Test Loss: 4.71e-05<br>Seeds: 5<br><extra></extra>",
         "marker": {
          "color": "#66C5CC",
          "line": {
           "color": "#CC503E",
           "width": 4
          },
          "size": 12
         },
         "mode": "markers",
         "name": "sindy_attention_sindy_loss_transformer-mlp",
         "showlegend": false,
         "type": "scatter",
         "x": [
          7
         ],
         "y": [
          0.007775918464176357
         ]
        },
        {
         "error_y": {
          "array": [
           0.000042503782818366705
          ],
          "color": "black",
          "thickness": 1,
          "type": "data",
          "visible": true,
          "width": 3
         },
         "hovertemplate": "Encoder: sindy_loss_transformer (x4)<br>Decoder: unet (x1)<br>LR: 1.00e-03<br>Mean Test Loss: 7.78e-03<br>Std Test Loss: 4.25e-05<br>Seeds: 5<br><extra></extra>",
         "marker": {
          "color": "#F6CF71",
          "line": {
           "color": "#EDAD08",
           "width": 4
          },
          "size": 12
         },
         "mode": "markers",
         "name": "sindy_loss_transformer-unet",
         "showlegend": false,
         "type": "scatter",
         "x": [
          8
         ],
         "y": [
          0.007776022306643426
         ]
        },
        {
         "error_y": {
          "array": [
           0.00009942326074440086
          ],
          "color": "black",
          "thickness": 1,
          "type": "data",
          "visible": true,
          "width": 3
         },
         "hovertemplate": "Encoder: sindy_loss_transformer (x2)<br>Decoder: mlp (x1)<br>LR: 1.00e-02<br>Mean Test Loss: 7.79e-03<br>Std Test Loss: 9.94e-05<br>Seeds: 5<br><extra></extra>",
         "marker": {
          "color": "#66C5CC",
          "line": {
           "color": "#EDAD08",
           "width": 4
          },
          "size": 12
         },
         "mode": "markers",
         "name": "sindy_loss_transformer-mlp",
         "showlegend": false,
         "type": "scatter",
         "x": [
          9
         ],
         "y": [
          0.007789599150419236
         ]
        },
        {
         "error_y": {
          "array": [
           0.0000596198392690401
          ],
          "color": "black",
          "thickness": 1,
          "type": "data",
          "visible": true,
          "width": 3
         },
         "hovertemplate": "Encoder: sindy_attention_sindy_loss_transformer (x3)<br>Decoder: mlp (x1)<br>LR: 1.00e-03<br>Mean Test Loss: 7.80e-03<br>Std Test Loss: 5.96e-05<br>Seeds: 5<br><extra></extra>",
         "marker": {
          "color": "#66C5CC",
          "line": {
           "color": "#CC503E",
           "width": 4
          },
          "size": 12
         },
         "mode": "markers",
         "name": "sindy_attention_sindy_loss_transformer-mlp",
         "showlegend": false,
         "type": "scatter",
         "x": [
          10
         ],
         "y": [
          0.007795221381820738
         ]
        },
        {
         "error_y": {
          "array": [
           0.0000979690848866621
          ],
          "color": "black",
          "thickness": 1,
          "type": "data",
          "visible": true,
          "width": 3
         },
         "hovertemplate": "Encoder: sindy_loss_transformer (x1)<br>Decoder: mlp (x1)<br>LR: 1.00e-02<br>Mean Test Loss: 7.80e-03<br>Std Test Loss: 9.80e-05<br>Seeds: 5<br><extra></extra>",
         "marker": {
          "color": "#66C5CC",
          "line": {
           "color": "#EDAD08",
           "width": 4
          },
          "size": 12
         },
         "mode": "markers",
         "name": "sindy_loss_transformer-mlp",
         "showlegend": false,
         "type": "scatter",
         "x": [
          11
         ],
         "y": [
          0.007799714407883585
         ]
        },
        {
         "error_y": {
          "array": [
           0.000049577850230503166
          ],
          "color": "black",
          "thickness": 1,
          "type": "data",
          "visible": true,
          "width": 3
         },
         "hovertemplate": "Encoder: sindy_attention_sindy_loss_transformer (x4)<br>Decoder: mlp (x1)<br>LR: 1.00e-03<br>Mean Test Loss: 7.80e-03<br>Std Test Loss: 4.96e-05<br>Seeds: 5<br><extra></extra>",
         "marker": {
          "color": "#66C5CC",
          "line": {
           "color": "#CC503E",
           "width": 4
          },
          "size": 12
         },
         "mode": "markers",
         "name": "sindy_attention_sindy_loss_transformer-mlp",
         "showlegend": false,
         "type": "scatter",
         "x": [
          12
         ],
         "y": [
          0.007799983327277005
         ]
        }
       ],
       "layout": {
        "height": 500,
        "hovermode": "closest",
        "legend": {
         "font": {
          "size": 20
         },
         "title": {
          "font": {
           "size": 20
          },
          "text": "Legend"
         }
        },
        "showlegend": true,
        "template": {
         "data": {
          "bar": [
           {
            "error_x": {
             "color": "#2a3f5f"
            },
            "error_y": {
             "color": "#2a3f5f"
            },
            "marker": {
             "line": {
              "color": "white",
              "width": 0.5
             },
             "pattern": {
              "fillmode": "overlay",
              "size": 10,
              "solidity": 0.2
             }
            },
            "type": "bar"
           }
          ],
          "barpolar": [
           {
            "marker": {
             "line": {
              "color": "white",
              "width": 0.5
             },
             "pattern": {
              "fillmode": "overlay",
              "size": 10,
              "solidity": 0.2
             }
            },
            "type": "barpolar"
           }
          ],
          "carpet": [
           {
            "aaxis": {
             "endlinecolor": "#2a3f5f",
             "gridcolor": "#C8D4E3",
             "linecolor": "#C8D4E3",
             "minorgridcolor": "#C8D4E3",
             "startlinecolor": "#2a3f5f"
            },
            "baxis": {
             "endlinecolor": "#2a3f5f",
             "gridcolor": "#C8D4E3",
             "linecolor": "#C8D4E3",
             "minorgridcolor": "#C8D4E3",
             "startlinecolor": "#2a3f5f"
            },
            "type": "carpet"
           }
          ],
          "choropleth": [
           {
            "colorbar": {
             "outlinewidth": 0,
             "ticks": ""
            },
            "type": "choropleth"
           }
          ],
          "contour": [
           {
            "colorbar": {
             "outlinewidth": 0,
             "ticks": ""
            },
            "colorscale": [
             [
              0,
              "#0d0887"
             ],
             [
              0.1111111111111111,
              "#46039f"
             ],
             [
              0.2222222222222222,
              "#7201a8"
             ],
             [
              0.3333333333333333,
              "#9c179e"
             ],
             [
              0.4444444444444444,
              "#bd3786"
             ],
             [
              0.5555555555555556,
              "#d8576b"
             ],
             [
              0.6666666666666666,
              "#ed7953"
             ],
             [
              0.7777777777777778,
              "#fb9f3a"
             ],
             [
              0.8888888888888888,
              "#fdca26"
             ],
             [
              1,
              "#f0f921"
             ]
            ],
            "type": "contour"
           }
          ],
          "contourcarpet": [
           {
            "colorbar": {
             "outlinewidth": 0,
             "ticks": ""
            },
            "type": "contourcarpet"
           }
          ],
          "heatmap": [
           {
            "colorbar": {
             "outlinewidth": 0,
             "ticks": ""
            },
            "colorscale": [
             [
              0,
              "#0d0887"
             ],
             [
              0.1111111111111111,
              "#46039f"
             ],
             [
              0.2222222222222222,
              "#7201a8"
             ],
             [
              0.3333333333333333,
              "#9c179e"
             ],
             [
              0.4444444444444444,
              "#bd3786"
             ],
             [
              0.5555555555555556,
              "#d8576b"
             ],
             [
              0.6666666666666666,
              "#ed7953"
             ],
             [
              0.7777777777777778,
              "#fb9f3a"
             ],
             [
              0.8888888888888888,
              "#fdca26"
             ],
             [
              1,
              "#f0f921"
             ]
            ],
            "type": "heatmap"
           }
          ],
          "heatmapgl": [
           {
            "colorbar": {
             "outlinewidth": 0,
             "ticks": ""
            },
            "colorscale": [
             [
              0,
              "#0d0887"
             ],
             [
              0.1111111111111111,
              "#46039f"
             ],
             [
              0.2222222222222222,
              "#7201a8"
             ],
             [
              0.3333333333333333,
              "#9c179e"
             ],
             [
              0.4444444444444444,
              "#bd3786"
             ],
             [
              0.5555555555555556,
              "#d8576b"
             ],
             [
              0.6666666666666666,
              "#ed7953"
             ],
             [
              0.7777777777777778,
              "#fb9f3a"
             ],
             [
              0.8888888888888888,
              "#fdca26"
             ],
             [
              1,
              "#f0f921"
             ]
            ],
            "type": "heatmapgl"
           }
          ],
          "histogram": [
           {
            "marker": {
             "pattern": {
              "fillmode": "overlay",
              "size": 10,
              "solidity": 0.2
             }
            },
            "type": "histogram"
           }
          ],
          "histogram2d": [
           {
            "colorbar": {
             "outlinewidth": 0,
             "ticks": ""
            },
            "colorscale": [
             [
              0,
              "#0d0887"
             ],
             [
              0.1111111111111111,
              "#46039f"
             ],
             [
              0.2222222222222222,
              "#7201a8"
             ],
             [
              0.3333333333333333,
              "#9c179e"
             ],
             [
              0.4444444444444444,
              "#bd3786"
             ],
             [
              0.5555555555555556,
              "#d8576b"
             ],
             [
              0.6666666666666666,
              "#ed7953"
             ],
             [
              0.7777777777777778,
              "#fb9f3a"
             ],
             [
              0.8888888888888888,
              "#fdca26"
             ],
             [
              1,
              "#f0f921"
             ]
            ],
            "type": "histogram2d"
           }
          ],
          "histogram2dcontour": [
           {
            "colorbar": {
             "outlinewidth": 0,
             "ticks": ""
            },
            "colorscale": [
             [
              0,
              "#0d0887"
             ],
             [
              0.1111111111111111,
              "#46039f"
             ],
             [
              0.2222222222222222,
              "#7201a8"
             ],
             [
              0.3333333333333333,
              "#9c179e"
             ],
             [
              0.4444444444444444,
              "#bd3786"
             ],
             [
              0.5555555555555556,
              "#d8576b"
             ],
             [
              0.6666666666666666,
              "#ed7953"
             ],
             [
              0.7777777777777778,
              "#fb9f3a"
             ],
             [
              0.8888888888888888,
              "#fdca26"
             ],
             [
              1,
              "#f0f921"
             ]
            ],
            "type": "histogram2dcontour"
           }
          ],
          "mesh3d": [
           {
            "colorbar": {
             "outlinewidth": 0,
             "ticks": ""
            },
            "type": "mesh3d"
           }
          ],
          "parcoords": [
           {
            "line": {
             "colorbar": {
              "outlinewidth": 0,
              "ticks": ""
             }
            },
            "type": "parcoords"
           }
          ],
          "pie": [
           {
            "automargin": true,
            "type": "pie"
           }
          ],
          "scatter": [
           {
            "marker": {
             "colorbar": {
              "outlinewidth": 0,
              "ticks": ""
             }
            },
            "type": "scatter"
           }
          ],
          "scatter3d": [
           {
            "line": {
             "colorbar": {
              "outlinewidth": 0,
              "ticks": ""
             }
            },
            "marker": {
             "colorbar": {
              "outlinewidth": 0,
              "ticks": ""
             }
            },
            "type": "scatter3d"
           }
          ],
          "scattercarpet": [
           {
            "marker": {
             "colorbar": {
              "outlinewidth": 0,
              "ticks": ""
             }
            },
            "type": "scattercarpet"
           }
          ],
          "scattergeo": [
           {
            "marker": {
             "colorbar": {
              "outlinewidth": 0,
              "ticks": ""
             }
            },
            "type": "scattergeo"
           }
          ],
          "scattergl": [
           {
            "marker": {
             "colorbar": {
              "outlinewidth": 0,
              "ticks": ""
             }
            },
            "type": "scattergl"
           }
          ],
          "scattermapbox": [
           {
            "marker": {
             "colorbar": {
              "outlinewidth": 0,
              "ticks": ""
             }
            },
            "type": "scattermapbox"
           }
          ],
          "scatterpolar": [
           {
            "marker": {
             "colorbar": {
              "outlinewidth": 0,
              "ticks": ""
             }
            },
            "type": "scatterpolar"
           }
          ],
          "scatterpolargl": [
           {
            "marker": {
             "colorbar": {
              "outlinewidth": 0,
              "ticks": ""
             }
            },
            "type": "scatterpolargl"
           }
          ],
          "scatterternary": [
           {
            "marker": {
             "colorbar": {
              "outlinewidth": 0,
              "ticks": ""
             }
            },
            "type": "scatterternary"
           }
          ],
          "surface": [
           {
            "colorbar": {
             "outlinewidth": 0,
             "ticks": ""
            },
            "colorscale": [
             [
              0,
              "#0d0887"
             ],
             [
              0.1111111111111111,
              "#46039f"
             ],
             [
              0.2222222222222222,
              "#7201a8"
             ],
             [
              0.3333333333333333,
              "#9c179e"
             ],
             [
              0.4444444444444444,
              "#bd3786"
             ],
             [
              0.5555555555555556,
              "#d8576b"
             ],
             [
              0.6666666666666666,
              "#ed7953"
             ],
             [
              0.7777777777777778,
              "#fb9f3a"
             ],
             [
              0.8888888888888888,
              "#fdca26"
             ],
             [
              1,
              "#f0f921"
             ]
            ],
            "type": "surface"
           }
          ],
          "table": [
           {
            "cells": {
             "fill": {
              "color": "#EBF0F8"
             },
             "line": {
              "color": "white"
             }
            },
            "header": {
             "fill": {
              "color": "#C8D4E3"
             },
             "line": {
              "color": "white"
             }
            },
            "type": "table"
           }
          ]
         },
         "layout": {
          "annotationdefaults": {
           "arrowcolor": "#2a3f5f",
           "arrowhead": 0,
           "arrowwidth": 1
          },
          "autotypenumbers": "strict",
          "coloraxis": {
           "colorbar": {
            "outlinewidth": 0,
            "ticks": ""
           }
          },
          "colorscale": {
           "diverging": [
            [
             0,
             "#8e0152"
            ],
            [
             0.1,
             "#c51b7d"
            ],
            [
             0.2,
             "#de77ae"
            ],
            [
             0.3,
             "#f1b6da"
            ],
            [
             0.4,
             "#fde0ef"
            ],
            [
             0.5,
             "#f7f7f7"
            ],
            [
             0.6,
             "#e6f5d0"
            ],
            [
             0.7,
             "#b8e186"
            ],
            [
             0.8,
             "#7fbc41"
            ],
            [
             0.9,
             "#4d9221"
            ],
            [
             1,
             "#276419"
            ]
           ],
           "sequential": [
            [
             0,
             "#0d0887"
            ],
            [
             0.1111111111111111,
             "#46039f"
            ],
            [
             0.2222222222222222,
             "#7201a8"
            ],
            [
             0.3333333333333333,
             "#9c179e"
            ],
            [
             0.4444444444444444,
             "#bd3786"
            ],
            [
             0.5555555555555556,
             "#d8576b"
            ],
            [
             0.6666666666666666,
             "#ed7953"
            ],
            [
             0.7777777777777778,
             "#fb9f3a"
            ],
            [
             0.8888888888888888,
             "#fdca26"
            ],
            [
             1,
             "#f0f921"
            ]
           ],
           "sequentialminus": [
            [
             0,
             "#0d0887"
            ],
            [
             0.1111111111111111,
             "#46039f"
            ],
            [
             0.2222222222222222,
             "#7201a8"
            ],
            [
             0.3333333333333333,
             "#9c179e"
            ],
            [
             0.4444444444444444,
             "#bd3786"
            ],
            [
             0.5555555555555556,
             "#d8576b"
            ],
            [
             0.6666666666666666,
             "#ed7953"
            ],
            [
             0.7777777777777778,
             "#fb9f3a"
            ],
            [
             0.8888888888888888,
             "#fdca26"
            ],
            [
             1,
             "#f0f921"
            ]
           ]
          },
          "colorway": [
           "#636efa",
           "#EF553B",
           "#00cc96",
           "#ab63fa",
           "#FFA15A",
           "#19d3f3",
           "#FF6692",
           "#B6E880",
           "#FF97FF",
           "#FECB52"
          ],
          "font": {
           "color": "#2a3f5f"
          },
          "geo": {
           "bgcolor": "white",
           "lakecolor": "white",
           "landcolor": "white",
           "showlakes": true,
           "showland": true,
           "subunitcolor": "#C8D4E3"
          },
          "hoverlabel": {
           "align": "left"
          },
          "hovermode": "closest",
          "mapbox": {
           "style": "light"
          },
          "paper_bgcolor": "white",
          "plot_bgcolor": "white",
          "polar": {
           "angularaxis": {
            "gridcolor": "#EBF0F8",
            "linecolor": "#EBF0F8",
            "ticks": ""
           },
           "bgcolor": "white",
           "radialaxis": {
            "gridcolor": "#EBF0F8",
            "linecolor": "#EBF0F8",
            "ticks": ""
           }
          },
          "scene": {
           "xaxis": {
            "backgroundcolor": "white",
            "gridcolor": "#DFE8F3",
            "gridwidth": 2,
            "linecolor": "#EBF0F8",
            "showbackground": true,
            "ticks": "",
            "zerolinecolor": "#EBF0F8"
           },
           "yaxis": {
            "backgroundcolor": "white",
            "gridcolor": "#DFE8F3",
            "gridwidth": 2,
            "linecolor": "#EBF0F8",
            "showbackground": true,
            "ticks": "",
            "zerolinecolor": "#EBF0F8"
           },
           "zaxis": {
            "backgroundcolor": "white",
            "gridcolor": "#DFE8F3",
            "gridwidth": 2,
            "linecolor": "#EBF0F8",
            "showbackground": true,
            "ticks": "",
            "zerolinecolor": "#EBF0F8"
           }
          },
          "shapedefaults": {
           "line": {
            "color": "#2a3f5f"
           }
          },
          "ternary": {
           "aaxis": {
            "gridcolor": "#DFE8F3",
            "linecolor": "#A2B1C6",
            "ticks": ""
           },
           "baxis": {
            "gridcolor": "#DFE8F3",
            "linecolor": "#A2B1C6",
            "ticks": ""
           },
           "bgcolor": "white",
           "caxis": {
            "gridcolor": "#DFE8F3",
            "linecolor": "#A2B1C6",
            "ticks": ""
           }
          },
          "title": {
           "x": 0.05
          },
          "xaxis": {
           "automargin": true,
           "gridcolor": "#EBF0F8",
           "linecolor": "#EBF0F8",
           "ticks": "",
           "title": {
            "standoff": 15
           },
           "zerolinecolor": "#EBF0F8",
           "zerolinewidth": 2
          },
          "yaxis": {
           "automargin": true,
           "gridcolor": "#EBF0F8",
           "linecolor": "#EBF0F8",
           "ticks": "",
           "title": {
            "standoff": 15
           },
           "zerolinecolor": "#EBF0F8",
           "zerolinewidth": 2
          }
         }
        },
        "title": {
         "font": {
          "size": 20
         },
         "text": "PlanetSWE"
        },
        "width": 500,
        "xaxis": {
         "showticklabels": false,
         "tickfont": {
          "size": 20
         },
         "title": {
          "font": {
           "size": 20
          },
          "text": "Bottom 12 Models"
         }
        },
        "yaxis": {
         "exponentformat": "E",
         "nticks": 5,
         "tickfont": {
          "size": 20
         },
         "tickformat": "1.2e",
         "title": {
          "font": {
           "size": 20
          },
          "text": "Test Loss"
         },
         "type": "log"
        }
       }
      }
     },
     "metadata": {},
     "output_type": "display_data"
    },
    {
     "name": "stdout",
     "output_type": "stream",
     "text": [
      "[('gru_mlp_sst_e2_d1_lr1.00e-03_p1_s2.pkl', {'test_loss': 0.0012291716411709785, 'start_epoch': 65, 'best_val': 0.0010706607718020678, 'best_epoch': 65, 'train_losses': [0.1672745860285229, 0.07512702296177547, 0.033827256618274584, 0.02701966195470757, 0.024518782272934914, 0.023421030905511644, 0.02293417975306511, 0.022633249974913068, 0.022451146816213925, 0.022347463708784845, 0.022249660765131313, 0.0220568956186374, 0.02203246599270238, 0.021900197491049767, 0.02179942528406779, 0.021742651652958658, 0.021610755680335894, 0.02158963017993503, 0.0214728984153933, 0.021355981214178935, 0.021307408188780148, 0.021159285265538428, 0.021031749124328297, 0.020922080510192446, 0.020751559279031224, 0.020597263135843806, 0.020497622796230845, 0.020336969445149105, 0.020248877712421946, 0.020165388989779685, 0.020051089632842276, 0.019991698778337903, 0.019941633567214012, 0.019897494465112686, 0.019804369658231735, 0.019817862866653338, 0.01979681808087561, 0.019716526485151716, 0.019772866740822792, 0.019653019805749256, 0.019703407668405108, 0.01966427204509576, 0.019650640793972544, 0.01970137469470501, 0.019611494822634593, 0.019593096234732203, 0.0195678122755554, 0.01958365800480048, 0.019543727652894125, 0.0195097875677877, 0.019505724724796083, 0.01951160157720248, 0.019502983945939276, 0.01947390308810605, 0.019463468136058912, 0.019445934229426913, 0.01944619458582666, 0.019431160969866648, 0.01941660770939456, 0.019434636665715113, 0.019408842755688563, 0.019392962464027934, 0.01938402818308936, 0.019390476246674854, 0.01944848791592651], 'val_losses': [0.11093153804540634, 0.0230728629976511, 0.008411050774157047, 0.005232714582234621, 0.004317145794630051, 0.004326713737100363, 0.004312810488045216, 0.0042420909740030766, 0.004347749054431915, 0.004679663106799126, 0.0040962896309792995, 0.003942928742617369, 0.005016744136810303, 0.004112477879971266, 0.004039271268993616, 0.004367752932012081, 0.004166492726653814, 0.00384310819208622, 0.003884264500811696, 0.003850528271868825, 0.004144519567489624, 0.0034390916116535664, 0.0033427767921239138, 0.003564454149454832, 0.003143472597002983, 0.0035548764280974865, 0.0029530988540500402, 0.0023926475550979376, 0.002100026234984398, 0.002860030625015497, 0.003124726703390479, 0.0027789101004600525, 0.0022214632481336594, 0.0028414700645953417, 0.0027210991829633713, 0.0022416783031076193, 0.002515699714422226, 0.00201091798953712, 0.0022202578838914633, 0.002591460244730115, 0.0019481196068227291, 0.0016778672579675913, 0.0015567278023809195, 0.0018399907276034355, 0.00253507774323225, 0.00228222762234509, 0.0024377971421927214, 0.002464116318151355, 0.00271139619871974, 0.0030660834163427353, 0.002822426613420248, 0.002026163972914219, 0.0020819392520934343, 0.002058103447780013, 0.002427897648885846, 0.002020170446485281, 0.0022976393811404705, 0.0022488650865852833, 0.0031681153923273087, 0.0026165004819631577, 0.0020024075638502836, 0.0016992870951071382, 0.0016796099953353405, 0.0014147714246064425, 0.0010706607718020678], 'sensors': [(98, 215), (10, 132), (130, 248), (103, 155), (122, 183), (149, 111), (129, 71), (72, 71), (64, 272), (154, 75), (18, 350), (84, 241), (143, 51), (90, 222), (80, 312), (141, 244), (113, 266), (140, 7), (0, 313), (126, 170), (62, 166), (145, 113), (139, 229), (23, 41), (81, 260), (125, 55), (77, 282), (74, 63), (140, 170), (138, 104), (154, 280), (150, 147), (152, 197), (61, 148), (47, 16), (156, 336), (66, 243), (17, 45), (20, 358), (138, 349), (100, 268), (70, 267), (70, 230), (126, 338), (91, 42), (83, 313), (150, 322), (69, 59), (56, 190), (43, 170)], 'hyperparameters': {'batch_size': 128, 'dataset': 'sst', 'decoder': 'mlp', 'decoder_depth': 1, 'device': 'cuda:0', 'dropout': 0.1, 'dt': 1.0, 'early_stop': 20, 'encoder': 'gru', 'eval_full': False, 'encoder_depth': 2, 'epochs': 100, 'hidden_size': 100, 'generate_test_plots': True, 'generate_training_plots': False, 'include_sine': False, 'identifier': 'gru_mlp_sst_e2_d1_lr1.00e-03_p1_s2', 'lr': 0.001, 'n_heads': 2, 'n_sensors': 50, 'n_well_tracks': 10, 'poly_order': 1, 'save_every_n_epochs': 10, 'seed': 2, 'sindy_attention_threshold': 0.05, 'sindy_attention_threshold_epoch': 10, 'sindy_attention_weight': 0.0, 'sindy_loss_threshold': 0.05, 'sindy_loss_weight': 100, 'skip_load_checkpoint': False, 'verbose': False, 'window_length': 50, 'd_data_in': 1, 'data_rows_in': 180, 'data_cols_in': 360, 'd_data_out': 1, 'data_rows_out': 180, 'data_cols_out': 360, 'd_model': 50, 'dim_feedforward': 400, 'output_size': 64800, 'latest_checkpoint_path': PosixPath('/app/code/checkpoints/gru_mlp_sst_e2_d1_lr1.00e-03_p1_s2_latest.pt'), 'best_checkpoint_path': PosixPath('/app/code/checkpoints/gru_mlp_sst_e2_d1_lr1.00e-03_p1_s2_best.pt')}})]\n",
      "test losses: [0.004385344684123993, 0.0030370440799742937, 0.0043099066242575645, 0.004210743121802807, 0.004437676165252924]\n",
      "Saved /Users/alexey/Git/T-SHRED/figures/sst_scatter.pdf\n"
     ]
    },
    {
     "data": {
      "application/vnd.plotly.v1+json": {
       "config": {
        "plotlyServerURL": "https://plot.ly"
       },
       "data": [
        {
         "marker": {
          "color": "white",
          "line": {
           "color": "#5F4690",
           "width": 4
          },
          "size": 12
         },
         "mode": "markers",
         "name": "LSTM",
         "showlegend": true,
         "type": "scatter",
         "x": [
          null
         ],
         "y": [
          null
         ]
        },
        {
         "marker": {
          "color": "white",
          "line": {
           "color": "#1D6996",
           "width": 4
          },
          "size": 12
         },
         "mode": "markers",
         "name": "GRU",
         "showlegend": true,
         "type": "scatter",
         "x": [
          null
         ],
         "y": [
          null
         ]
        },
        {
         "marker": {
          "color": "white",
          "line": {
           "color": "#38A6A5",
           "width": 4
          },
          "size": 12
         },
         "mode": "markers",
         "name": "SL-LSTM",
         "showlegend": true,
         "type": "scatter",
         "x": [
          null
         ],
         "y": [
          null
         ]
        },
        {
         "marker": {
          "color": "white",
          "line": {
           "color": "#0F8554",
           "width": 4
          },
          "size": 12
         },
         "mode": "markers",
         "name": "SL-GRU",
         "showlegend": true,
         "type": "scatter",
         "x": [
          null
         ],
         "y": [
          null
         ]
        },
        {
         "marker": {
          "color": "white",
          "line": {
           "color": "#73AF48",
           "width": 4
          },
          "size": 12
         },
         "mode": "markers",
         "name": "T",
         "showlegend": true,
         "type": "scatter",
         "x": [
          null
         ],
         "y": [
          null
         ]
        },
        {
         "marker": {
          "color": "white",
          "line": {
           "color": "#EDAD08",
           "width": 4
          },
          "size": 12
         },
         "mode": "markers",
         "name": "SL-T",
         "showlegend": true,
         "type": "scatter",
         "x": [
          null
         ],
         "y": [
          null
         ]
        },
        {
         "marker": {
          "color": "white",
          "line": {
           "color": "#E17C05",
           "width": 4
          },
          "size": 12
         },
         "mode": "markers",
         "name": "SA-T",
         "showlegend": true,
         "type": "scatter",
         "x": [
          null
         ],
         "y": [
          null
         ]
        },
        {
         "marker": {
          "color": "white",
          "line": {
           "color": "#CC503E",
           "width": 4
          },
          "size": 12
         },
         "mode": "markers",
         "name": "SASL-T",
         "showlegend": true,
         "type": "scatter",
         "x": [
          null
         ],
         "y": [
          null
         ]
        },
        {
         "marker": {
          "color": "#66C5CC",
          "line": {
           "color": "white",
           "width": 4
          },
          "size": 12
         },
         "mode": "markers",
         "name": "MLP",
         "showlegend": true,
         "type": "scatter",
         "x": [
          null
         ],
         "y": [
          null
         ]
        },
        {
         "marker": {
          "color": "#F6CF71",
          "line": {
           "color": "white",
           "width": 4
          },
          "size": 12
         },
         "mode": "markers",
         "name": "CNN",
         "showlegend": true,
         "type": "scatter",
         "x": [
          null
         ],
         "y": [
          null
         ]
        },
        {
         "error_y": {
          "array": [
           0.0000848070134075506
          ],
          "color": "black",
          "thickness": 1,
          "type": "data",
          "visible": true,
          "width": 3
         },
         "hovertemplate": "Encoder: sindy_loss_transformer (x2)<br>Decoder: unet (x1)<br>LR: 1.00e-03<br>Mean Test Loss: 4.48e-03<br>Std Test Loss: 8.48e-05<br>Seeds: 5<br><extra></extra>",
         "marker": {
          "color": "#F6CF71",
          "line": {
           "color": "#EDAD08",
           "width": 4
          },
          "size": 12
         },
         "mode": "markers",
         "name": "sindy_loss_transformer-unet",
         "showlegend": false,
         "type": "scatter",
         "x": [
          1
         ],
         "y": [
          0.004482883773744106
         ]
        },
        {
         "error_y": {
          "array": [
           0.000014937354862747127
          ],
          "color": "black",
          "thickness": 1,
          "type": "data",
          "visible": true,
          "width": 3
         },
         "hovertemplate": "Encoder: sindy_attention_transformer (x4)<br>Decoder: mlp (x1)<br>LR: 1.00e-03<br>Mean Test Loss: 4.49e-03<br>Std Test Loss: 1.49e-05<br>Seeds: 5<br><extra></extra>",
         "marker": {
          "color": "#66C5CC",
          "line": {
           "color": "#E17C05",
           "width": 4
          },
          "size": 12
         },
         "mode": "markers",
         "name": "sindy_attention_transformer-mlp",
         "showlegend": false,
         "type": "scatter",
         "x": [
          2
         ],
         "y": [
          0.004485155921429396
         ]
        },
        {
         "error_y": {
          "array": [
           0.000019257337229706957
          ],
          "color": "black",
          "thickness": 1,
          "type": "data",
          "visible": true,
          "width": 3
         },
         "hovertemplate": "Encoder: sindy_attention_sindy_loss_transformer (x3)<br>Decoder: unet (x1)<br>LR: 1.00e-03<br>Mean Test Loss: 4.50e-03<br>Std Test Loss: 1.93e-05<br>Seeds: 5<br><extra></extra>",
         "marker": {
          "color": "#F6CF71",
          "line": {
           "color": "#CC503E",
           "width": 4
          },
          "size": 12
         },
         "mode": "markers",
         "name": "sindy_attention_sindy_loss_transformer-unet",
         "showlegend": false,
         "type": "scatter",
         "x": [
          3
         ],
         "y": [
          0.00449970606714487
         ]
        },
        {
         "error_y": {
          "array": [
           0.000013287199595580769
          ],
          "color": "black",
          "thickness": 1,
          "type": "data",
          "visible": true,
          "width": 3
         },
         "hovertemplate": "Encoder: sindy_attention_sindy_loss_transformer (x3)<br>Decoder: mlp (x1)<br>LR: 1.00e-03<br>Mean Test Loss: 4.51e-03<br>Std Test Loss: 1.33e-05<br>Seeds: 5<br><extra></extra>",
         "marker": {
          "color": "#66C5CC",
          "line": {
           "color": "#CC503E",
           "width": 4
          },
          "size": 12
         },
         "mode": "markers",
         "name": "sindy_attention_sindy_loss_transformer-mlp",
         "showlegend": false,
         "type": "scatter",
         "x": [
          4
         ],
         "y": [
          0.0045083844102919105
         ]
        },
        {
         "error_y": {
          "array": [
           0.000018167460102525053
          ],
          "color": "black",
          "thickness": 1,
          "type": "data",
          "visible": true,
          "width": 3
         },
         "hovertemplate": "Encoder: sindy_loss_transformer (x4)<br>Decoder: mlp (x1)<br>LR: 1.00e-03<br>Mean Test Loss: 4.51e-03<br>Std Test Loss: 1.82e-05<br>Seeds: 5<br><extra></extra>",
         "marker": {
          "color": "#66C5CC",
          "line": {
           "color": "#EDAD08",
           "width": 4
          },
          "size": 12
         },
         "mode": "markers",
         "name": "sindy_loss_transformer-mlp",
         "showlegend": false,
         "type": "scatter",
         "x": [
          5
         ],
         "y": [
          0.004510005749762058
         ]
        },
        {
         "error_y": {
          "array": [
           0.000010201972910920024
          ],
          "color": "black",
          "thickness": 1,
          "type": "data",
          "visible": true,
          "width": 3
         },
         "hovertemplate": "Encoder: sindy_attention_sindy_loss_transformer (x4)<br>Decoder: mlp (x1)<br>LR: 1.00e-03<br>Mean Test Loss: 4.51e-03<br>Std Test Loss: 1.02e-05<br>Seeds: 5<br><extra></extra>",
         "marker": {
          "color": "#66C5CC",
          "line": {
           "color": "#CC503E",
           "width": 4
          },
          "size": 12
         },
         "mode": "markers",
         "name": "sindy_attention_sindy_loss_transformer-mlp",
         "showlegend": false,
         "type": "scatter",
         "x": [
          6
         ],
         "y": [
          0.004510828293859959
         ]
        },
        {
         "error_y": {
          "array": [
           0.000012969608852266507
          ],
          "color": "black",
          "thickness": 1,
          "type": "data",
          "visible": true,
          "width": 3
         },
         "hovertemplate": "Encoder: sindy_attention_sindy_loss_transformer (x4)<br>Decoder: unet (x1)<br>LR: 1.00e-03<br>Mean Test Loss: 4.51e-03<br>Std Test Loss: 1.30e-05<br>Seeds: 5<br><extra></extra>",
         "marker": {
          "color": "#F6CF71",
          "line": {
           "color": "#CC503E",
           "width": 4
          },
          "size": 12
         },
         "mode": "markers",
         "name": "sindy_attention_sindy_loss_transformer-unet",
         "showlegend": false,
         "type": "scatter",
         "x": [
          7
         ],
         "y": [
          0.004511173442006111
         ]
        },
        {
         "error_y": {
          "array": [
           0.00008134193090129514
          ],
          "color": "black",
          "thickness": 1,
          "type": "data",
          "visible": true,
          "width": 3
         },
         "hovertemplate": "Encoder: sindy_loss_transformer (x2)<br>Decoder: mlp (x1)<br>LR: 1.00e-03<br>Mean Test Loss: 4.53e-03<br>Std Test Loss: 8.13e-05<br>Seeds: 5<br><extra></extra>",
         "marker": {
          "color": "#66C5CC",
          "line": {
           "color": "#EDAD08",
           "width": 4
          },
          "size": 12
         },
         "mode": "markers",
         "name": "sindy_loss_transformer-mlp",
         "showlegend": false,
         "type": "scatter",
         "x": [
          8
         ],
         "y": [
          0.004525168798863888
         ]
        },
        {
         "error_y": {
          "array": [
           0.00014771016433970377
          ],
          "color": "black",
          "thickness": 1,
          "type": "data",
          "visible": true,
          "width": 3
         },
         "hovertemplate": "Encoder: sindy_attention_sindy_loss_transformer (x1)<br>Decoder: unet (x1)<br>LR: 1.00e-03<br>Mean Test Loss: 4.57e-03<br>Std Test Loss: 1.48e-04<br>Seeds: 5<br><extra></extra>",
         "marker": {
          "color": "#F6CF71",
          "line": {
           "color": "#CC503E",
           "width": 4
          },
          "size": 12
         },
         "mode": "markers",
         "name": "sindy_attention_sindy_loss_transformer-unet",
         "showlegend": false,
         "type": "scatter",
         "x": [
          9
         ],
         "y": [
          0.004565775487571954
         ]
        },
        {
         "error_y": {
          "array": [
           0.00017071931832528676
          ],
          "color": "black",
          "thickness": 1,
          "type": "data",
          "visible": true,
          "width": 3
         },
         "hovertemplate": "Encoder: sindy_attention_sindy_loss_transformer (x1)<br>Decoder: mlp (x1)<br>LR: 1.00e-03<br>Mean Test Loss: 4.62e-03<br>Std Test Loss: 1.71e-04<br>Seeds: 5<br><extra></extra>",
         "marker": {
          "color": "#66C5CC",
          "line": {
           "color": "#CC503E",
           "width": 4
          },
          "size": 12
         },
         "mode": "markers",
         "name": "sindy_attention_sindy_loss_transformer-mlp",
         "showlegend": false,
         "type": "scatter",
         "x": [
          10
         ],
         "y": [
          0.004616099689155817
         ]
        },
        {
         "error_y": {
          "array": [
           0.0001531365765516165
          ],
          "color": "black",
          "thickness": 1,
          "type": "data",
          "visible": true,
          "width": 3
         },
         "hovertemplate": "Encoder: sindy_loss_transformer (x1)<br>Decoder: unet (x1)<br>LR: 1.00e-03<br>Mean Test Loss: 4.77e-03<br>Std Test Loss: 1.53e-04<br>Seeds: 5<br><extra></extra>",
         "marker": {
          "color": "#F6CF71",
          "line": {
           "color": "#EDAD08",
           "width": 4
          },
          "size": 12
         },
         "mode": "markers",
         "name": "sindy_loss_transformer-unet",
         "showlegend": false,
         "type": "scatter",
         "x": [
          11
         ],
         "y": [
          0.004765048995614052
         ]
        },
        {
         "error_y": {
          "array": [
           0.00016636382333284254
          ],
          "color": "black",
          "thickness": 1,
          "type": "data",
          "visible": true,
          "width": 3
         },
         "hovertemplate": "Encoder: sindy_loss_transformer (x1)<br>Decoder: mlp (x1)<br>LR: 1.00e-03<br>Mean Test Loss: 4.90e-03<br>Std Test Loss: 1.66e-04<br>Seeds: 5<br><extra></extra>",
         "marker": {
          "color": "#66C5CC",
          "line": {
           "color": "#EDAD08",
           "width": 4
          },
          "size": 12
         },
         "mode": "markers",
         "name": "sindy_loss_transformer-mlp",
         "showlegend": false,
         "type": "scatter",
         "x": [
          12
         ],
         "y": [
          0.0048984345048666
         ]
        }
       ],
       "layout": {
        "height": 500,
        "hovermode": "closest",
        "legend": {
         "font": {
          "size": 20
         },
         "title": {
          "font": {
           "size": 20
          },
          "text": "Legend"
         }
        },
        "showlegend": true,
        "template": {
         "data": {
          "bar": [
           {
            "error_x": {
             "color": "#2a3f5f"
            },
            "error_y": {
             "color": "#2a3f5f"
            },
            "marker": {
             "line": {
              "color": "white",
              "width": 0.5
             },
             "pattern": {
              "fillmode": "overlay",
              "size": 10,
              "solidity": 0.2
             }
            },
            "type": "bar"
           }
          ],
          "barpolar": [
           {
            "marker": {
             "line": {
              "color": "white",
              "width": 0.5
             },
             "pattern": {
              "fillmode": "overlay",
              "size": 10,
              "solidity": 0.2
             }
            },
            "type": "barpolar"
           }
          ],
          "carpet": [
           {
            "aaxis": {
             "endlinecolor": "#2a3f5f",
             "gridcolor": "#C8D4E3",
             "linecolor": "#C8D4E3",
             "minorgridcolor": "#C8D4E3",
             "startlinecolor": "#2a3f5f"
            },
            "baxis": {
             "endlinecolor": "#2a3f5f",
             "gridcolor": "#C8D4E3",
             "linecolor": "#C8D4E3",
             "minorgridcolor": "#C8D4E3",
             "startlinecolor": "#2a3f5f"
            },
            "type": "carpet"
           }
          ],
          "choropleth": [
           {
            "colorbar": {
             "outlinewidth": 0,
             "ticks": ""
            },
            "type": "choropleth"
           }
          ],
          "contour": [
           {
            "colorbar": {
             "outlinewidth": 0,
             "ticks": ""
            },
            "colorscale": [
             [
              0,
              "#0d0887"
             ],
             [
              0.1111111111111111,
              "#46039f"
             ],
             [
              0.2222222222222222,
              "#7201a8"
             ],
             [
              0.3333333333333333,
              "#9c179e"
             ],
             [
              0.4444444444444444,
              "#bd3786"
             ],
             [
              0.5555555555555556,
              "#d8576b"
             ],
             [
              0.6666666666666666,
              "#ed7953"
             ],
             [
              0.7777777777777778,
              "#fb9f3a"
             ],
             [
              0.8888888888888888,
              "#fdca26"
             ],
             [
              1,
              "#f0f921"
             ]
            ],
            "type": "contour"
           }
          ],
          "contourcarpet": [
           {
            "colorbar": {
             "outlinewidth": 0,
             "ticks": ""
            },
            "type": "contourcarpet"
           }
          ],
          "heatmap": [
           {
            "colorbar": {
             "outlinewidth": 0,
             "ticks": ""
            },
            "colorscale": [
             [
              0,
              "#0d0887"
             ],
             [
              0.1111111111111111,
              "#46039f"
             ],
             [
              0.2222222222222222,
              "#7201a8"
             ],
             [
              0.3333333333333333,
              "#9c179e"
             ],
             [
              0.4444444444444444,
              "#bd3786"
             ],
             [
              0.5555555555555556,
              "#d8576b"
             ],
             [
              0.6666666666666666,
              "#ed7953"
             ],
             [
              0.7777777777777778,
              "#fb9f3a"
             ],
             [
              0.8888888888888888,
              "#fdca26"
             ],
             [
              1,
              "#f0f921"
             ]
            ],
            "type": "heatmap"
           }
          ],
          "heatmapgl": [
           {
            "colorbar": {
             "outlinewidth": 0,
             "ticks": ""
            },
            "colorscale": [
             [
              0,
              "#0d0887"
             ],
             [
              0.1111111111111111,
              "#46039f"
             ],
             [
              0.2222222222222222,
              "#7201a8"
             ],
             [
              0.3333333333333333,
              "#9c179e"
             ],
             [
              0.4444444444444444,
              "#bd3786"
             ],
             [
              0.5555555555555556,
              "#d8576b"
             ],
             [
              0.6666666666666666,
              "#ed7953"
             ],
             [
              0.7777777777777778,
              "#fb9f3a"
             ],
             [
              0.8888888888888888,
              "#fdca26"
             ],
             [
              1,
              "#f0f921"
             ]
            ],
            "type": "heatmapgl"
           }
          ],
          "histogram": [
           {
            "marker": {
             "pattern": {
              "fillmode": "overlay",
              "size": 10,
              "solidity": 0.2
             }
            },
            "type": "histogram"
           }
          ],
          "histogram2d": [
           {
            "colorbar": {
             "outlinewidth": 0,
             "ticks": ""
            },
            "colorscale": [
             [
              0,
              "#0d0887"
             ],
             [
              0.1111111111111111,
              "#46039f"
             ],
             [
              0.2222222222222222,
              "#7201a8"
             ],
             [
              0.3333333333333333,
              "#9c179e"
             ],
             [
              0.4444444444444444,
              "#bd3786"
             ],
             [
              0.5555555555555556,
              "#d8576b"
             ],
             [
              0.6666666666666666,
              "#ed7953"
             ],
             [
              0.7777777777777778,
              "#fb9f3a"
             ],
             [
              0.8888888888888888,
              "#fdca26"
             ],
             [
              1,
              "#f0f921"
             ]
            ],
            "type": "histogram2d"
           }
          ],
          "histogram2dcontour": [
           {
            "colorbar": {
             "outlinewidth": 0,
             "ticks": ""
            },
            "colorscale": [
             [
              0,
              "#0d0887"
             ],
             [
              0.1111111111111111,
              "#46039f"
             ],
             [
              0.2222222222222222,
              "#7201a8"
             ],
             [
              0.3333333333333333,
              "#9c179e"
             ],
             [
              0.4444444444444444,
              "#bd3786"
             ],
             [
              0.5555555555555556,
              "#d8576b"
             ],
             [
              0.6666666666666666,
              "#ed7953"
             ],
             [
              0.7777777777777778,
              "#fb9f3a"
             ],
             [
              0.8888888888888888,
              "#fdca26"
             ],
             [
              1,
              "#f0f921"
             ]
            ],
            "type": "histogram2dcontour"
           }
          ],
          "mesh3d": [
           {
            "colorbar": {
             "outlinewidth": 0,
             "ticks": ""
            },
            "type": "mesh3d"
           }
          ],
          "parcoords": [
           {
            "line": {
             "colorbar": {
              "outlinewidth": 0,
              "ticks": ""
             }
            },
            "type": "parcoords"
           }
          ],
          "pie": [
           {
            "automargin": true,
            "type": "pie"
           }
          ],
          "scatter": [
           {
            "marker": {
             "colorbar": {
              "outlinewidth": 0,
              "ticks": ""
             }
            },
            "type": "scatter"
           }
          ],
          "scatter3d": [
           {
            "line": {
             "colorbar": {
              "outlinewidth": 0,
              "ticks": ""
             }
            },
            "marker": {
             "colorbar": {
              "outlinewidth": 0,
              "ticks": ""
             }
            },
            "type": "scatter3d"
           }
          ],
          "scattercarpet": [
           {
            "marker": {
             "colorbar": {
              "outlinewidth": 0,
              "ticks": ""
             }
            },
            "type": "scattercarpet"
           }
          ],
          "scattergeo": [
           {
            "marker": {
             "colorbar": {
              "outlinewidth": 0,
              "ticks": ""
             }
            },
            "type": "scattergeo"
           }
          ],
          "scattergl": [
           {
            "marker": {
             "colorbar": {
              "outlinewidth": 0,
              "ticks": ""
             }
            },
            "type": "scattergl"
           }
          ],
          "scattermapbox": [
           {
            "marker": {
             "colorbar": {
              "outlinewidth": 0,
              "ticks": ""
             }
            },
            "type": "scattermapbox"
           }
          ],
          "scatterpolar": [
           {
            "marker": {
             "colorbar": {
              "outlinewidth": 0,
              "ticks": ""
             }
            },
            "type": "scatterpolar"
           }
          ],
          "scatterpolargl": [
           {
            "marker": {
             "colorbar": {
              "outlinewidth": 0,
              "ticks": ""
             }
            },
            "type": "scatterpolargl"
           }
          ],
          "scatterternary": [
           {
            "marker": {
             "colorbar": {
              "outlinewidth": 0,
              "ticks": ""
             }
            },
            "type": "scatterternary"
           }
          ],
          "surface": [
           {
            "colorbar": {
             "outlinewidth": 0,
             "ticks": ""
            },
            "colorscale": [
             [
              0,
              "#0d0887"
             ],
             [
              0.1111111111111111,
              "#46039f"
             ],
             [
              0.2222222222222222,
              "#7201a8"
             ],
             [
              0.3333333333333333,
              "#9c179e"
             ],
             [
              0.4444444444444444,
              "#bd3786"
             ],
             [
              0.5555555555555556,
              "#d8576b"
             ],
             [
              0.6666666666666666,
              "#ed7953"
             ],
             [
              0.7777777777777778,
              "#fb9f3a"
             ],
             [
              0.8888888888888888,
              "#fdca26"
             ],
             [
              1,
              "#f0f921"
             ]
            ],
            "type": "surface"
           }
          ],
          "table": [
           {
            "cells": {
             "fill": {
              "color": "#EBF0F8"
             },
             "line": {
              "color": "white"
             }
            },
            "header": {
             "fill": {
              "color": "#C8D4E3"
             },
             "line": {
              "color": "white"
             }
            },
            "type": "table"
           }
          ]
         },
         "layout": {
          "annotationdefaults": {
           "arrowcolor": "#2a3f5f",
           "arrowhead": 0,
           "arrowwidth": 1
          },
          "autotypenumbers": "strict",
          "coloraxis": {
           "colorbar": {
            "outlinewidth": 0,
            "ticks": ""
           }
          },
          "colorscale": {
           "diverging": [
            [
             0,
             "#8e0152"
            ],
            [
             0.1,
             "#c51b7d"
            ],
            [
             0.2,
             "#de77ae"
            ],
            [
             0.3,
             "#f1b6da"
            ],
            [
             0.4,
             "#fde0ef"
            ],
            [
             0.5,
             "#f7f7f7"
            ],
            [
             0.6,
             "#e6f5d0"
            ],
            [
             0.7,
             "#b8e186"
            ],
            [
             0.8,
             "#7fbc41"
            ],
            [
             0.9,
             "#4d9221"
            ],
            [
             1,
             "#276419"
            ]
           ],
           "sequential": [
            [
             0,
             "#0d0887"
            ],
            [
             0.1111111111111111,
             "#46039f"
            ],
            [
             0.2222222222222222,
             "#7201a8"
            ],
            [
             0.3333333333333333,
             "#9c179e"
            ],
            [
             0.4444444444444444,
             "#bd3786"
            ],
            [
             0.5555555555555556,
             "#d8576b"
            ],
            [
             0.6666666666666666,
             "#ed7953"
            ],
            [
             0.7777777777777778,
             "#fb9f3a"
            ],
            [
             0.8888888888888888,
             "#fdca26"
            ],
            [
             1,
             "#f0f921"
            ]
           ],
           "sequentialminus": [
            [
             0,
             "#0d0887"
            ],
            [
             0.1111111111111111,
             "#46039f"
            ],
            [
             0.2222222222222222,
             "#7201a8"
            ],
            [
             0.3333333333333333,
             "#9c179e"
            ],
            [
             0.4444444444444444,
             "#bd3786"
            ],
            [
             0.5555555555555556,
             "#d8576b"
            ],
            [
             0.6666666666666666,
             "#ed7953"
            ],
            [
             0.7777777777777778,
             "#fb9f3a"
            ],
            [
             0.8888888888888888,
             "#fdca26"
            ],
            [
             1,
             "#f0f921"
            ]
           ]
          },
          "colorway": [
           "#636efa",
           "#EF553B",
           "#00cc96",
           "#ab63fa",
           "#FFA15A",
           "#19d3f3",
           "#FF6692",
           "#B6E880",
           "#FF97FF",
           "#FECB52"
          ],
          "font": {
           "color": "#2a3f5f"
          },
          "geo": {
           "bgcolor": "white",
           "lakecolor": "white",
           "landcolor": "white",
           "showlakes": true,
           "showland": true,
           "subunitcolor": "#C8D4E3"
          },
          "hoverlabel": {
           "align": "left"
          },
          "hovermode": "closest",
          "mapbox": {
           "style": "light"
          },
          "paper_bgcolor": "white",
          "plot_bgcolor": "white",
          "polar": {
           "angularaxis": {
            "gridcolor": "#EBF0F8",
            "linecolor": "#EBF0F8",
            "ticks": ""
           },
           "bgcolor": "white",
           "radialaxis": {
            "gridcolor": "#EBF0F8",
            "linecolor": "#EBF0F8",
            "ticks": ""
           }
          },
          "scene": {
           "xaxis": {
            "backgroundcolor": "white",
            "gridcolor": "#DFE8F3",
            "gridwidth": 2,
            "linecolor": "#EBF0F8",
            "showbackground": true,
            "ticks": "",
            "zerolinecolor": "#EBF0F8"
           },
           "yaxis": {
            "backgroundcolor": "white",
            "gridcolor": "#DFE8F3",
            "gridwidth": 2,
            "linecolor": "#EBF0F8",
            "showbackground": true,
            "ticks": "",
            "zerolinecolor": "#EBF0F8"
           },
           "zaxis": {
            "backgroundcolor": "white",
            "gridcolor": "#DFE8F3",
            "gridwidth": 2,
            "linecolor": "#EBF0F8",
            "showbackground": true,
            "ticks": "",
            "zerolinecolor": "#EBF0F8"
           }
          },
          "shapedefaults": {
           "line": {
            "color": "#2a3f5f"
           }
          },
          "ternary": {
           "aaxis": {
            "gridcolor": "#DFE8F3",
            "linecolor": "#A2B1C6",
            "ticks": ""
           },
           "baxis": {
            "gridcolor": "#DFE8F3",
            "linecolor": "#A2B1C6",
            "ticks": ""
           },
           "bgcolor": "white",
           "caxis": {
            "gridcolor": "#DFE8F3",
            "linecolor": "#A2B1C6",
            "ticks": ""
           }
          },
          "title": {
           "x": 0.05
          },
          "xaxis": {
           "automargin": true,
           "gridcolor": "#EBF0F8",
           "linecolor": "#EBF0F8",
           "ticks": "",
           "title": {
            "standoff": 15
           },
           "zerolinecolor": "#EBF0F8",
           "zerolinewidth": 2
          },
          "yaxis": {
           "automargin": true,
           "gridcolor": "#EBF0F8",
           "linecolor": "#EBF0F8",
           "ticks": "",
           "title": {
            "standoff": 15
           },
           "zerolinecolor": "#EBF0F8",
           "zerolinewidth": 2
          }
         }
        },
        "title": {
         "font": {
          "size": 20
         },
         "text": "SST"
        },
        "width": 500,
        "xaxis": {
         "showticklabels": false,
         "tickfont": {
          "size": 20
         },
         "title": {
          "font": {
           "size": 20
          },
          "text": "Bottom 12 Models"
         }
        },
        "yaxis": {
         "exponentformat": "E",
         "nticks": 5,
         "tickfont": {
          "size": 20
         },
         "tickformat": "1.2e",
         "title": {
          "font": {
           "size": 20
          },
          "text": "Test Loss"
         },
         "type": "log"
        }
       }
      }
     },
     "metadata": {},
     "output_type": "display_data"
    },
    {
     "name": "stdout",
     "output_type": "stream",
     "text": [
      "[('gru_unet_plasma_e3_d1_lr1.00e-03_p1_s0.pkl', {'test_loss': 0.0002057709571090527, 'start_epoch': 99, 'best_val': 0.000275115598924458, 'best_epoch': 99, 'train_losses': [0.0011198220398420324, 0.0005293651080976885, 0.0004928591593992538, 0.00048037336763137806, 0.00047406657204891625, 0.0004659415168974262, 0.0004641128202470449, 0.0004568589233363477, 0.00045339087284026813, 0.00044137748549334134, 0.00043388788113728736, 0.0004344144970393525, 0.00042302966288004356, 0.0004215712363545138, 0.00040928386330891115, 0.0004069045736776808, 0.00039577374431806116, 0.00038884406183989573, 0.0003836328396573663, 0.00037981295519365143, 0.00037373176802737784, 0.00036592404313313845, 0.00035850295814900444, 0.0003501121245790273, 0.000350170121796859, 0.00034553655244123476, 0.00033958648250868113, 0.0003346683941065119, 0.00033003602696296113, 0.00032643248022605595, 0.00032015335343133373, 0.00031651978721269046, 0.000307417884379482, 0.0003081003848749858, 0.0003026697063782754, 0.00030124099486364197, 0.00029753215494565666, 0.00029121593867715163, 0.0002890199516864064, 0.00028114467904043314, 0.0002855390753561201, 0.00027693227681223874, 0.000276749250658143, 0.0002736438025469677, 0.00026667997232065175, 0.00026867173101681355, 0.00026372865137930674, 0.00026835753277947125, 0.0002599445377619794, 0.00025691738119348884, 0.00025349598749576567, 0.0002509875048417598, 0.0002495291432401595, 0.0002484482124250812, 0.00024281083404695473, 0.0002425362841817192, 0.00024091783919944786, 0.00023809451802382962, 0.00023489723837253853, 0.00023428296844940633, 0.0002358496690598818, 0.00022905610967427492, 0.00023005529118773455, 0.00022774386609223887, 0.0002237579924090264, 0.00022035924373015476, 0.00022126392510612137, 0.0002157189972841969, 0.00021636996825691313, 0.00021811091126157687, 0.00021630412307926096, 0.00021280363076724685, 0.00021120294807657885, 0.00020650307235952752, 0.0002051205777276594, 0.00020602709936121336, 0.00020517971894990367, 0.000204704699661726, 0.0002022913764589108, 0.00019940737715492456, 0.00019938567577180668, 0.00019795030283813292, 0.00019486621693851284, 0.00019461539005323386, 0.0001939794153888495, 0.00019379556089496383, 0.00018943827867937775, 0.00018998151174925553, 0.00019076172723613965, 0.00018710507608305378, 0.00018809709469608677, 0.00018727610922024513, 0.00018440219103537785, 0.00018516396364877716, 0.00018469816915547618, 0.000181517141754739, 0.00017983781043977404, 0.0001783523833952271, 0.00017890222975088714], 'val_losses': [0.0006169508851598948, 0.0005839186196681112, 0.000572500197449699, 0.0005677905573975295, 0.0005640732124447823, 0.0005644035118166357, 0.000560398300876841, 0.0005586729967035353, 0.0005497012170962989, 0.0005422354879556224, 0.0005377102497732267, 0.0005348464328562841, 0.0005305939412210137, 0.0005194969853619114, 0.0005261512123979628, 0.0005196780402911827, 0.0004989631997887045, 0.0004985094856237993, 0.0004964971449226141, 0.0004868256510235369, 0.00048046931624412537, 0.0004738771967822686, 0.00046443376049865037, 0.0004571658791974187, 0.00045927203609608114, 0.00045620898890774697, 0.0004452352732187137, 0.0004442596691660583, 0.00042918711551465094, 0.0004256651736795902, 0.00042023646528832614, 0.00040544373041484505, 0.0004136268835281953, 0.000402316713007167, 0.00039579648000653833, 0.0004003502835985273, 0.00039070736966095865, 0.0003918614820577204, 0.0003782132262131199, 0.00038620829582214355, 0.0003842445439659059, 0.000373483999283053, 0.0003656466433312744, 0.000358207049430348, 0.0003693827165989205, 0.0003577273746486753, 0.0003522677579894662, 0.0003471532108960673, 0.00034385336039122194, 0.00033934027305804193, 0.0003399804700165987, 0.0003341481206007302, 0.00033931284269783646, 0.00032809523690957576, 0.000329738890286535, 0.0003252307651564479, 0.00033223064383491874, 0.00032632843067403883, 0.00032228663621935993, 0.0003297619696240872, 0.00031564864912070334, 0.0003236333286622539, 0.0003216035256627947, 0.0003180110943503678, 0.00031171811860986054, 0.00030896438693162054, 0.00030128647631499916, 0.0003076041321037337, 0.000307926835375838, 0.0003078793379245326, 0.000296877755317837, 0.000296879923553206, 0.0002922445855801925, 0.0002958144905278459, 0.00029685320623684675, 0.00029740117315668613, 0.00030429265461862087, 0.00029507001454476267, 0.000290942465653643, 0.00028817332349717617, 0.00028978199406992644, 0.00028716871747747064, 0.000288182171061635, 0.00029105191060807556, 0.00028637744253501296, 0.0002841813111444935, 0.00028782022127415985, 0.00028309425397310406, 0.0002845848212018609, 0.00028078471950720996, 0.00028396124253049493, 0.0002805170515784994, 0.0002828273572959006, 0.00029072081088088453, 0.00027996496646665037, 0.0002836434723576531, 0.00027792829496320337, 0.000290882948320359, 0.000275115598924458], 'sensors': [(197, 215), (20, 132), (248, 207), (155, 244), (183, 111), (71, 144), (71, 48), (128, 75), (158, 50), (37, 169), (241, 51), (181, 222), (161, 104), (244, 226), (133, 31), (7, 47), (204, 0), (252, 170), (124, 166), (32, 97), (113, 122), (72, 229), (46, 41), (163, 250), (55, 154), (149, 63), (170, 104), (147, 227), (46, 197), (162, 123), (148, 94), (96, 95), (16, 133), (243, 35), (45, 66), (76, 19), (41, 200), (141, 120), (110, 214), (140, 230), (252, 182), (42, 166), (59, 249), (171, 97), (124, 8), (138, 59), (112, 190), (87, 170), (218, 31), (51, 74)], 'hyperparameters': {'batch_size': 128, 'dataset': 'plasma', 'decoder': 'unet', 'decoder_depth': 1, 'device': 'cuda:0', 'dropout': 0.1, 'dt': 1.0, 'early_stop': 20, 'encoder': 'gru', 'eval_full': False, 'encoder_depth': 3, 'epochs': 100, 'hidden_size': 100, 'generate_test_plots': True, 'generate_training_plots': False, 'include_sine': False, 'identifier': 'gru_unet_plasma_e3_d1_lr1.00e-03_p1_s0', 'lr': 0.001, 'n_heads': 2, 'n_sensors': 50, 'n_well_tracks': 10, 'poly_order': 1, 'save_every_n_epochs': 10, 'seed': 0, 'sindy_attention_threshold': 0.05, 'sindy_attention_threshold_epoch': 10, 'sindy_attention_weight': 0.0, 'sindy_loss_threshold': 0.05, 'sindy_loss_weight': 100, 'skip_load_checkpoint': False, 'verbose': False, 'window_length': 50, 'd_data_in': 1, 'data_rows_in': 257, 'data_cols_in': 256, 'd_data_out': 1, 'data_rows_out': 1, 'data_cols_out': 280, 'd_model': 50, 'dim_feedforward': 400, 'output_size': 280, 'latest_checkpoint_path': PosixPath('/app/code/checkpoints/gru_unet_plasma_e3_d1_lr1.00e-03_p1_s0_latest.pt'), 'best_checkpoint_path': PosixPath('/app/code/checkpoints/gru_unet_plasma_e3_d1_lr1.00e-03_p1_s0_best.pt')}})]\n",
      "test losses: [0.0005324611265677959, 0.000534241960849613, 0.0005164050526218489, 0.0005101982678752393, 0.0005354620807338506]\n",
      "Saved /Users/alexey/Git/T-SHRED/figures/plasma_scatter.pdf\n"
     ]
    },
    {
     "data": {
      "application/vnd.plotly.v1+json": {
       "config": {
        "plotlyServerURL": "https://plot.ly"
       },
       "data": [
        {
         "marker": {
          "color": "white",
          "line": {
           "color": "#5F4690",
           "width": 4
          },
          "size": 12
         },
         "mode": "markers",
         "name": "LSTM",
         "showlegend": true,
         "type": "scatter",
         "x": [
          null
         ],
         "y": [
          null
         ]
        },
        {
         "marker": {
          "color": "white",
          "line": {
           "color": "#1D6996",
           "width": 4
          },
          "size": 12
         },
         "mode": "markers",
         "name": "GRU",
         "showlegend": true,
         "type": "scatter",
         "x": [
          null
         ],
         "y": [
          null
         ]
        },
        {
         "marker": {
          "color": "white",
          "line": {
           "color": "#38A6A5",
           "width": 4
          },
          "size": 12
         },
         "mode": "markers",
         "name": "SL-LSTM",
         "showlegend": true,
         "type": "scatter",
         "x": [
          null
         ],
         "y": [
          null
         ]
        },
        {
         "marker": {
          "color": "white",
          "line": {
           "color": "#0F8554",
           "width": 4
          },
          "size": 12
         },
         "mode": "markers",
         "name": "SL-GRU",
         "showlegend": true,
         "type": "scatter",
         "x": [
          null
         ],
         "y": [
          null
         ]
        },
        {
         "marker": {
          "color": "white",
          "line": {
           "color": "#73AF48",
           "width": 4
          },
          "size": 12
         },
         "mode": "markers",
         "name": "T",
         "showlegend": true,
         "type": "scatter",
         "x": [
          null
         ],
         "y": [
          null
         ]
        },
        {
         "marker": {
          "color": "white",
          "line": {
           "color": "#EDAD08",
           "width": 4
          },
          "size": 12
         },
         "mode": "markers",
         "name": "SL-T",
         "showlegend": true,
         "type": "scatter",
         "x": [
          null
         ],
         "y": [
          null
         ]
        },
        {
         "marker": {
          "color": "white",
          "line": {
           "color": "#E17C05",
           "width": 4
          },
          "size": 12
         },
         "mode": "markers",
         "name": "SA-T",
         "showlegend": true,
         "type": "scatter",
         "x": [
          null
         ],
         "y": [
          null
         ]
        },
        {
         "marker": {
          "color": "white",
          "line": {
           "color": "#CC503E",
           "width": 4
          },
          "size": 12
         },
         "mode": "markers",
         "name": "SASL-T",
         "showlegend": true,
         "type": "scatter",
         "x": [
          null
         ],
         "y": [
          null
         ]
        },
        {
         "marker": {
          "color": "#66C5CC",
          "line": {
           "color": "white",
           "width": 4
          },
          "size": 12
         },
         "mode": "markers",
         "name": "MLP",
         "showlegend": true,
         "type": "scatter",
         "x": [
          null
         ],
         "y": [
          null
         ]
        },
        {
         "marker": {
          "color": "#F6CF71",
          "line": {
           "color": "white",
           "width": 4
          },
          "size": 12
         },
         "mode": "markers",
         "name": "CNN",
         "showlegend": true,
         "type": "scatter",
         "x": [
          null
         ],
         "y": [
          null
         ]
        },
        {
         "error_y": {
          "array": [
           0.000013266228253590245
          ],
          "color": "black",
          "thickness": 1,
          "type": "data",
          "visible": true,
          "width": 3
         },
         "hovertemplate": "Encoder: sindy_loss_transformer (x3)<br>Decoder: mlp (x1)<br>LR: 1.00e-03<br>Mean Test Loss: 5.17e-04<br>Std Test Loss: 1.33e-05<br>Seeds: 5<br><extra></extra>",
         "marker": {
          "color": "#66C5CC",
          "line": {
           "color": "#EDAD08",
           "width": 4
          },
          "size": 12
         },
         "mode": "markers",
         "name": "sindy_loss_transformer-mlp",
         "showlegend": false,
         "type": "scatter",
         "x": [
          1
         ],
         "y": [
          0.0005169925687368959
         ]
        },
        {
         "error_y": {
          "array": [
           0.00000858261500281639
          ],
          "color": "black",
          "thickness": 1,
          "type": "data",
          "visible": true,
          "width": 3
         },
         "hovertemplate": "Encoder: vanilla_transformer (x1)<br>Decoder: unet (x1)<br>LR: 1.00e-02<br>Mean Test Loss: 5.19e-04<br>Std Test Loss: 8.58e-06<br>Seeds: 5<br><extra></extra>",
         "marker": {
          "color": "#F6CF71",
          "line": {
           "color": "#73AF48",
           "width": 4
          },
          "size": 12
         },
         "mode": "markers",
         "name": "vanilla_transformer-unet",
         "showlegend": false,
         "type": "scatter",
         "x": [
          2
         ],
         "y": [
          0.000519468038692139
         ]
        },
        {
         "error_y": {
          "array": [
           0.000012355896918698576
          ],
          "color": "black",
          "thickness": 1,
          "type": "data",
          "visible": true,
          "width": 3
         },
         "hovertemplate": "Encoder: sindy_attention_transformer (x1)<br>Decoder: unet (x1)<br>LR: 1.00e-02<br>Mean Test Loss: 5.20e-04<br>Std Test Loss: 1.24e-05<br>Seeds: 5<br><extra></extra>",
         "marker": {
          "color": "#F6CF71",
          "line": {
           "color": "#E17C05",
           "width": 4
          },
          "size": 12
         },
         "mode": "markers",
         "name": "sindy_attention_transformer-unet",
         "showlegend": false,
         "type": "scatter",
         "x": [
          3
         ],
         "y": [
          0.0005198053986532614
         ]
        },
        {
         "error_y": {
          "array": [
           0.00001214188929301069
          ],
          "color": "black",
          "thickness": 1,
          "type": "data",
          "visible": true,
          "width": 3
         },
         "hovertemplate": "Encoder: sindy_attention_transformer (x3)<br>Decoder: unet (x1)<br>LR: 1.00e-02<br>Mean Test Loss: 5.21e-04<br>Std Test Loss: 1.21e-05<br>Seeds: 5<br><extra></extra>",
         "marker": {
          "color": "#F6CF71",
          "line": {
           "color": "#E17C05",
           "width": 4
          },
          "size": 12
         },
         "mode": "markers",
         "name": "sindy_attention_transformer-unet",
         "showlegend": false,
         "type": "scatter",
         "x": [
          4
         ],
         "y": [
          0.0005209535855101421
         ]
        },
        {
         "error_y": {
          "array": [
           0.000010901351312182788
          ],
          "color": "black",
          "thickness": 1,
          "type": "data",
          "visible": true,
          "width": 3
         },
         "hovertemplate": "Encoder: vanilla_transformer (x2)<br>Decoder: unet (x1)<br>LR: 1.00e-02<br>Mean Test Loss: 5.24e-04<br>Std Test Loss: 1.09e-05<br>Seeds: 5<br><extra></extra>",
         "marker": {
          "color": "#F6CF71",
          "line": {
           "color": "#73AF48",
           "width": 4
          },
          "size": 12
         },
         "mode": "markers",
         "name": "vanilla_transformer-unet",
         "showlegend": false,
         "type": "scatter",
         "x": [
          5
         ],
         "y": [
          0.0005242064013145864
         ]
        },
        {
         "error_y": {
          "array": [
           0.000010398667955809263
          ],
          "color": "black",
          "thickness": 1,
          "type": "data",
          "visible": true,
          "width": 3
         },
         "hovertemplate": "Encoder: vanilla_transformer (x4)<br>Decoder: unet (x1)<br>LR: 1.00e-02<br>Mean Test Loss: 5.26e-04<br>Std Test Loss: 1.04e-05<br>Seeds: 5<br><extra></extra>",
         "marker": {
          "color": "#F6CF71",
          "line": {
           "color": "#73AF48",
           "width": 4
          },
          "size": 12
         },
         "mode": "markers",
         "name": "vanilla_transformer-unet",
         "showlegend": false,
         "type": "scatter",
         "x": [
          6
         ],
         "y": [
          0.0005257536977296695
         ]
        },
        {
         "error_y": {
          "array": [
           0.000022372705797977668
          ],
          "color": "black",
          "thickness": 1,
          "type": "data",
          "visible": true,
          "width": 3
         },
         "hovertemplate": "Encoder: sindy_loss_transformer (x2)<br>Decoder: mlp (x1)<br>LR: 1.00e-03<br>Mean Test Loss: 5.26e-04<br>Std Test Loss: 2.24e-05<br>Seeds: 5<br><extra></extra>",
         "marker": {
          "color": "#66C5CC",
          "line": {
           "color": "#EDAD08",
           "width": 4
          },
          "size": 12
         },
         "mode": "markers",
         "name": "sindy_loss_transformer-mlp",
         "showlegend": false,
         "type": "scatter",
         "x": [
          7
         ],
         "y": [
          0.0005260785314021632
         ]
        },
        {
         "error_y": {
          "array": [
           0.000010726000856593061
          ],
          "color": "black",
          "thickness": 1,
          "type": "data",
          "visible": true,
          "width": 3
         },
         "hovertemplate": "Encoder: vanilla_transformer (x3)<br>Decoder: unet (x1)<br>LR: 1.00e-02<br>Mean Test Loss: 5.26e-04<br>Std Test Loss: 1.07e-05<br>Seeds: 5<br><extra></extra>",
         "marker": {
          "color": "#F6CF71",
          "line": {
           "color": "#73AF48",
           "width": 4
          },
          "size": 12
         },
         "mode": "markers",
         "name": "vanilla_transformer-unet",
         "showlegend": false,
         "type": "scatter",
         "x": [
          8
         ],
         "y": [
          0.000526119553251192
         ]
        },
        {
         "error_y": {
          "array": [
           0.000007201960707015631
          ],
          "color": "black",
          "thickness": 1,
          "type": "data",
          "visible": true,
          "width": 3
         },
         "hovertemplate": "Encoder: sindy_attention_transformer (x4)<br>Decoder: unet (x1)<br>LR: 1.00e-02<br>Mean Test Loss: 5.28e-04<br>Std Test Loss: 7.20e-06<br>Seeds: 5<br><extra></extra>",
         "marker": {
          "color": "#F6CF71",
          "line": {
           "color": "#E17C05",
           "width": 4
          },
          "size": 12
         },
         "mode": "markers",
         "name": "sindy_attention_transformer-unet",
         "showlegend": false,
         "type": "scatter",
         "x": [
          9
         ],
         "y": [
          0.000528490642318502
         ]
        },
        {
         "error_y": {
          "array": [
           0.0000048418809246994764
          ],
          "color": "black",
          "thickness": 1,
          "type": "data",
          "visible": true,
          "width": 3
         },
         "hovertemplate": "Encoder: sindy_attention_transformer (x2)<br>Decoder: unet (x1)<br>LR: 1.00e-02<br>Mean Test Loss: 5.30e-04<br>Std Test Loss: 4.84e-06<br>Seeds: 5<br><extra></extra>",
         "marker": {
          "color": "#F6CF71",
          "line": {
           "color": "#E17C05",
           "width": 4
          },
          "size": 12
         },
         "mode": "markers",
         "name": "sindy_attention_transformer-unet",
         "showlegend": false,
         "type": "scatter",
         "x": [
          10
         ],
         "y": [
          0.0005304471123963594
         ]
        },
        {
         "error_y": {
          "array": [
           0.000017380087936262516
          ],
          "color": "black",
          "thickness": 1,
          "type": "data",
          "visible": true,
          "width": 3
         },
         "hovertemplate": "Encoder: sindy_loss_gru (x1)<br>Decoder: mlp (x1)<br>LR: 1.00e-02<br>Mean Test Loss: 5.73e-04<br>Std Test Loss: 1.74e-05<br>Seeds: 5<br><extra></extra>",
         "marker": {
          "color": "#66C5CC",
          "line": {
           "color": "#0F8554",
           "width": 4
          },
          "size": 12
         },
         "mode": "markers",
         "name": "sindy_loss_gru-mlp",
         "showlegend": false,
         "type": "scatter",
         "x": [
          11
         ],
         "y": [
          0.0005728854914195836
         ]
        },
        {
         "error_y": {
          "array": [
           0.00002306487278929202
          ],
          "color": "black",
          "thickness": 1,
          "type": "data",
          "visible": true,
          "width": 3
         },
         "hovertemplate": "Encoder: sindy_loss_gru (x1)<br>Decoder: unet (x1)<br>LR: 1.00e-02<br>Mean Test Loss: 5.76e-04<br>Std Test Loss: 2.31e-05<br>Seeds: 5<br><extra></extra>",
         "marker": {
          "color": "#F6CF71",
          "line": {
           "color": "#0F8554",
           "width": 4
          },
          "size": 12
         },
         "mode": "markers",
         "name": "sindy_loss_gru-unet",
         "showlegend": false,
         "type": "scatter",
         "x": [
          12
         ],
         "y": [
          0.0005755975260399282
         ]
        }
       ],
       "layout": {
        "height": 500,
        "hovermode": "closest",
        "legend": {
         "font": {
          "size": 20
         },
         "title": {
          "font": {
           "size": 20
          },
          "text": "Legend"
         }
        },
        "showlegend": true,
        "template": {
         "data": {
          "bar": [
           {
            "error_x": {
             "color": "#2a3f5f"
            },
            "error_y": {
             "color": "#2a3f5f"
            },
            "marker": {
             "line": {
              "color": "white",
              "width": 0.5
             },
             "pattern": {
              "fillmode": "overlay",
              "size": 10,
              "solidity": 0.2
             }
            },
            "type": "bar"
           }
          ],
          "barpolar": [
           {
            "marker": {
             "line": {
              "color": "white",
              "width": 0.5
             },
             "pattern": {
              "fillmode": "overlay",
              "size": 10,
              "solidity": 0.2
             }
            },
            "type": "barpolar"
           }
          ],
          "carpet": [
           {
            "aaxis": {
             "endlinecolor": "#2a3f5f",
             "gridcolor": "#C8D4E3",
             "linecolor": "#C8D4E3",
             "minorgridcolor": "#C8D4E3",
             "startlinecolor": "#2a3f5f"
            },
            "baxis": {
             "endlinecolor": "#2a3f5f",
             "gridcolor": "#C8D4E3",
             "linecolor": "#C8D4E3",
             "minorgridcolor": "#C8D4E3",
             "startlinecolor": "#2a3f5f"
            },
            "type": "carpet"
           }
          ],
          "choropleth": [
           {
            "colorbar": {
             "outlinewidth": 0,
             "ticks": ""
            },
            "type": "choropleth"
           }
          ],
          "contour": [
           {
            "colorbar": {
             "outlinewidth": 0,
             "ticks": ""
            },
            "colorscale": [
             [
              0,
              "#0d0887"
             ],
             [
              0.1111111111111111,
              "#46039f"
             ],
             [
              0.2222222222222222,
              "#7201a8"
             ],
             [
              0.3333333333333333,
              "#9c179e"
             ],
             [
              0.4444444444444444,
              "#bd3786"
             ],
             [
              0.5555555555555556,
              "#d8576b"
             ],
             [
              0.6666666666666666,
              "#ed7953"
             ],
             [
              0.7777777777777778,
              "#fb9f3a"
             ],
             [
              0.8888888888888888,
              "#fdca26"
             ],
             [
              1,
              "#f0f921"
             ]
            ],
            "type": "contour"
           }
          ],
          "contourcarpet": [
           {
            "colorbar": {
             "outlinewidth": 0,
             "ticks": ""
            },
            "type": "contourcarpet"
           }
          ],
          "heatmap": [
           {
            "colorbar": {
             "outlinewidth": 0,
             "ticks": ""
            },
            "colorscale": [
             [
              0,
              "#0d0887"
             ],
             [
              0.1111111111111111,
              "#46039f"
             ],
             [
              0.2222222222222222,
              "#7201a8"
             ],
             [
              0.3333333333333333,
              "#9c179e"
             ],
             [
              0.4444444444444444,
              "#bd3786"
             ],
             [
              0.5555555555555556,
              "#d8576b"
             ],
             [
              0.6666666666666666,
              "#ed7953"
             ],
             [
              0.7777777777777778,
              "#fb9f3a"
             ],
             [
              0.8888888888888888,
              "#fdca26"
             ],
             [
              1,
              "#f0f921"
             ]
            ],
            "type": "heatmap"
           }
          ],
          "heatmapgl": [
           {
            "colorbar": {
             "outlinewidth": 0,
             "ticks": ""
            },
            "colorscale": [
             [
              0,
              "#0d0887"
             ],
             [
              0.1111111111111111,
              "#46039f"
             ],
             [
              0.2222222222222222,
              "#7201a8"
             ],
             [
              0.3333333333333333,
              "#9c179e"
             ],
             [
              0.4444444444444444,
              "#bd3786"
             ],
             [
              0.5555555555555556,
              "#d8576b"
             ],
             [
              0.6666666666666666,
              "#ed7953"
             ],
             [
              0.7777777777777778,
              "#fb9f3a"
             ],
             [
              0.8888888888888888,
              "#fdca26"
             ],
             [
              1,
              "#f0f921"
             ]
            ],
            "type": "heatmapgl"
           }
          ],
          "histogram": [
           {
            "marker": {
             "pattern": {
              "fillmode": "overlay",
              "size": 10,
              "solidity": 0.2
             }
            },
            "type": "histogram"
           }
          ],
          "histogram2d": [
           {
            "colorbar": {
             "outlinewidth": 0,
             "ticks": ""
            },
            "colorscale": [
             [
              0,
              "#0d0887"
             ],
             [
              0.1111111111111111,
              "#46039f"
             ],
             [
              0.2222222222222222,
              "#7201a8"
             ],
             [
              0.3333333333333333,
              "#9c179e"
             ],
             [
              0.4444444444444444,
              "#bd3786"
             ],
             [
              0.5555555555555556,
              "#d8576b"
             ],
             [
              0.6666666666666666,
              "#ed7953"
             ],
             [
              0.7777777777777778,
              "#fb9f3a"
             ],
             [
              0.8888888888888888,
              "#fdca26"
             ],
             [
              1,
              "#f0f921"
             ]
            ],
            "type": "histogram2d"
           }
          ],
          "histogram2dcontour": [
           {
            "colorbar": {
             "outlinewidth": 0,
             "ticks": ""
            },
            "colorscale": [
             [
              0,
              "#0d0887"
             ],
             [
              0.1111111111111111,
              "#46039f"
             ],
             [
              0.2222222222222222,
              "#7201a8"
             ],
             [
              0.3333333333333333,
              "#9c179e"
             ],
             [
              0.4444444444444444,
              "#bd3786"
             ],
             [
              0.5555555555555556,
              "#d8576b"
             ],
             [
              0.6666666666666666,
              "#ed7953"
             ],
             [
              0.7777777777777778,
              "#fb9f3a"
             ],
             [
              0.8888888888888888,
              "#fdca26"
             ],
             [
              1,
              "#f0f921"
             ]
            ],
            "type": "histogram2dcontour"
           }
          ],
          "mesh3d": [
           {
            "colorbar": {
             "outlinewidth": 0,
             "ticks": ""
            },
            "type": "mesh3d"
           }
          ],
          "parcoords": [
           {
            "line": {
             "colorbar": {
              "outlinewidth": 0,
              "ticks": ""
             }
            },
            "type": "parcoords"
           }
          ],
          "pie": [
           {
            "automargin": true,
            "type": "pie"
           }
          ],
          "scatter": [
           {
            "marker": {
             "colorbar": {
              "outlinewidth": 0,
              "ticks": ""
             }
            },
            "type": "scatter"
           }
          ],
          "scatter3d": [
           {
            "line": {
             "colorbar": {
              "outlinewidth": 0,
              "ticks": ""
             }
            },
            "marker": {
             "colorbar": {
              "outlinewidth": 0,
              "ticks": ""
             }
            },
            "type": "scatter3d"
           }
          ],
          "scattercarpet": [
           {
            "marker": {
             "colorbar": {
              "outlinewidth": 0,
              "ticks": ""
             }
            },
            "type": "scattercarpet"
           }
          ],
          "scattergeo": [
           {
            "marker": {
             "colorbar": {
              "outlinewidth": 0,
              "ticks": ""
             }
            },
            "type": "scattergeo"
           }
          ],
          "scattergl": [
           {
            "marker": {
             "colorbar": {
              "outlinewidth": 0,
              "ticks": ""
             }
            },
            "type": "scattergl"
           }
          ],
          "scattermapbox": [
           {
            "marker": {
             "colorbar": {
              "outlinewidth": 0,
              "ticks": ""
             }
            },
            "type": "scattermapbox"
           }
          ],
          "scatterpolar": [
           {
            "marker": {
             "colorbar": {
              "outlinewidth": 0,
              "ticks": ""
             }
            },
            "type": "scatterpolar"
           }
          ],
          "scatterpolargl": [
           {
            "marker": {
             "colorbar": {
              "outlinewidth": 0,
              "ticks": ""
             }
            },
            "type": "scatterpolargl"
           }
          ],
          "scatterternary": [
           {
            "marker": {
             "colorbar": {
              "outlinewidth": 0,
              "ticks": ""
             }
            },
            "type": "scatterternary"
           }
          ],
          "surface": [
           {
            "colorbar": {
             "outlinewidth": 0,
             "ticks": ""
            },
            "colorscale": [
             [
              0,
              "#0d0887"
             ],
             [
              0.1111111111111111,
              "#46039f"
             ],
             [
              0.2222222222222222,
              "#7201a8"
             ],
             [
              0.3333333333333333,
              "#9c179e"
             ],
             [
              0.4444444444444444,
              "#bd3786"
             ],
             [
              0.5555555555555556,
              "#d8576b"
             ],
             [
              0.6666666666666666,
              "#ed7953"
             ],
             [
              0.7777777777777778,
              "#fb9f3a"
             ],
             [
              0.8888888888888888,
              "#fdca26"
             ],
             [
              1,
              "#f0f921"
             ]
            ],
            "type": "surface"
           }
          ],
          "table": [
           {
            "cells": {
             "fill": {
              "color": "#EBF0F8"
             },
             "line": {
              "color": "white"
             }
            },
            "header": {
             "fill": {
              "color": "#C8D4E3"
             },
             "line": {
              "color": "white"
             }
            },
            "type": "table"
           }
          ]
         },
         "layout": {
          "annotationdefaults": {
           "arrowcolor": "#2a3f5f",
           "arrowhead": 0,
           "arrowwidth": 1
          },
          "autotypenumbers": "strict",
          "coloraxis": {
           "colorbar": {
            "outlinewidth": 0,
            "ticks": ""
           }
          },
          "colorscale": {
           "diverging": [
            [
             0,
             "#8e0152"
            ],
            [
             0.1,
             "#c51b7d"
            ],
            [
             0.2,
             "#de77ae"
            ],
            [
             0.3,
             "#f1b6da"
            ],
            [
             0.4,
             "#fde0ef"
            ],
            [
             0.5,
             "#f7f7f7"
            ],
            [
             0.6,
             "#e6f5d0"
            ],
            [
             0.7,
             "#b8e186"
            ],
            [
             0.8,
             "#7fbc41"
            ],
            [
             0.9,
             "#4d9221"
            ],
            [
             1,
             "#276419"
            ]
           ],
           "sequential": [
            [
             0,
             "#0d0887"
            ],
            [
             0.1111111111111111,
             "#46039f"
            ],
            [
             0.2222222222222222,
             "#7201a8"
            ],
            [
             0.3333333333333333,
             "#9c179e"
            ],
            [
             0.4444444444444444,
             "#bd3786"
            ],
            [
             0.5555555555555556,
             "#d8576b"
            ],
            [
             0.6666666666666666,
             "#ed7953"
            ],
            [
             0.7777777777777778,
             "#fb9f3a"
            ],
            [
             0.8888888888888888,
             "#fdca26"
            ],
            [
             1,
             "#f0f921"
            ]
           ],
           "sequentialminus": [
            [
             0,
             "#0d0887"
            ],
            [
             0.1111111111111111,
             "#46039f"
            ],
            [
             0.2222222222222222,
             "#7201a8"
            ],
            [
             0.3333333333333333,
             "#9c179e"
            ],
            [
             0.4444444444444444,
             "#bd3786"
            ],
            [
             0.5555555555555556,
             "#d8576b"
            ],
            [
             0.6666666666666666,
             "#ed7953"
            ],
            [
             0.7777777777777778,
             "#fb9f3a"
            ],
            [
             0.8888888888888888,
             "#fdca26"
            ],
            [
             1,
             "#f0f921"
            ]
           ]
          },
          "colorway": [
           "#636efa",
           "#EF553B",
           "#00cc96",
           "#ab63fa",
           "#FFA15A",
           "#19d3f3",
           "#FF6692",
           "#B6E880",
           "#FF97FF",
           "#FECB52"
          ],
          "font": {
           "color": "#2a3f5f"
          },
          "geo": {
           "bgcolor": "white",
           "lakecolor": "white",
           "landcolor": "white",
           "showlakes": true,
           "showland": true,
           "subunitcolor": "#C8D4E3"
          },
          "hoverlabel": {
           "align": "left"
          },
          "hovermode": "closest",
          "mapbox": {
           "style": "light"
          },
          "paper_bgcolor": "white",
          "plot_bgcolor": "white",
          "polar": {
           "angularaxis": {
            "gridcolor": "#EBF0F8",
            "linecolor": "#EBF0F8",
            "ticks": ""
           },
           "bgcolor": "white",
           "radialaxis": {
            "gridcolor": "#EBF0F8",
            "linecolor": "#EBF0F8",
            "ticks": ""
           }
          },
          "scene": {
           "xaxis": {
            "backgroundcolor": "white",
            "gridcolor": "#DFE8F3",
            "gridwidth": 2,
            "linecolor": "#EBF0F8",
            "showbackground": true,
            "ticks": "",
            "zerolinecolor": "#EBF0F8"
           },
           "yaxis": {
            "backgroundcolor": "white",
            "gridcolor": "#DFE8F3",
            "gridwidth": 2,
            "linecolor": "#EBF0F8",
            "showbackground": true,
            "ticks": "",
            "zerolinecolor": "#EBF0F8"
           },
           "zaxis": {
            "backgroundcolor": "white",
            "gridcolor": "#DFE8F3",
            "gridwidth": 2,
            "linecolor": "#EBF0F8",
            "showbackground": true,
            "ticks": "",
            "zerolinecolor": "#EBF0F8"
           }
          },
          "shapedefaults": {
           "line": {
            "color": "#2a3f5f"
           }
          },
          "ternary": {
           "aaxis": {
            "gridcolor": "#DFE8F3",
            "linecolor": "#A2B1C6",
            "ticks": ""
           },
           "baxis": {
            "gridcolor": "#DFE8F3",
            "linecolor": "#A2B1C6",
            "ticks": ""
           },
           "bgcolor": "white",
           "caxis": {
            "gridcolor": "#DFE8F3",
            "linecolor": "#A2B1C6",
            "ticks": ""
           }
          },
          "title": {
           "x": 0.05
          },
          "xaxis": {
           "automargin": true,
           "gridcolor": "#EBF0F8",
           "linecolor": "#EBF0F8",
           "ticks": "",
           "title": {
            "standoff": 15
           },
           "zerolinecolor": "#EBF0F8",
           "zerolinewidth": 2
          },
          "yaxis": {
           "automargin": true,
           "gridcolor": "#EBF0F8",
           "linecolor": "#EBF0F8",
           "ticks": "",
           "title": {
            "standoff": 15
           },
           "zerolinecolor": "#EBF0F8",
           "zerolinewidth": 2
          }
         }
        },
        "title": {
         "font": {
          "size": 20
         },
         "text": "Plasma"
        },
        "width": 500,
        "xaxis": {
         "showticklabels": false,
         "tickfont": {
          "size": 20
         },
         "title": {
          "font": {
           "size": 20
          },
          "text": "Bottom 12 Models"
         }
        },
        "yaxis": {
         "exponentformat": "E",
         "nticks": 5,
         "tickfont": {
          "size": 20
         },
         "tickformat": "1.2e",
         "title": {
          "font": {
           "size": 20
          },
          "text": "Test Loss"
         },
         "type": "log"
        }
       }
      }
     },
     "metadata": {},
     "output_type": "display_data"
    }
   ],
   "source": [
    "\n",
    "f = Figlet(font='ogre')\n",
    "for dataset in ['planetswe', 'sst', 'plasma']:\n",
    "    best_result = helpers.get_top_N_models_by_loss(dataset, pickle_dir, N=1)\n",
    "    print(best_result)\n",
    "    plots.plot_model_results_scatter(results, dataset, 12, save=True, fname=f\"{dataset}_scatter\", title_fontsize=20, axes_fontsize=20, legend_fontsize=20, reverse=True)\n"
   ]
  },
  {
   "cell_type": "code",
   "execution_count": null,
   "metadata": {},
   "outputs": [],
   "source": []
  }
 ],
 "metadata": {
  "kernelspec": {
   "display_name": "venv",
   "language": "python",
   "name": "python3"
  },
  "language_info": {
   "codemirror_mode": {
    "name": "ipython",
    "version": 3
   },
   "file_extension": ".py",
   "mimetype": "text/x-python",
   "name": "python",
   "nbconvert_exporter": "python",
   "pygments_lexer": "ipython3",
   "version": "3.13.0"
  }
 },
 "nbformat": 4,
 "nbformat_minor": 2
}
