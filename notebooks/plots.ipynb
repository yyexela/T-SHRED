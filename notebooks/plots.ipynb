{
 "cells": [
  {
   "cell_type": "markdown",
   "metadata": {},
   "source": [
    "## Imports"
   ]
  },
  {
   "cell_type": "code",
   "execution_count": 6,
   "metadata": {},
   "outputs": [
    {
     "name": "stdout",
     "output_type": "stream",
     "text": [
      "The autoreload extension is already loaded. To reload it, use:\n",
      "  %reload_ext autoreload\n",
      "/data/alexey/T-SHRED_backup/pickles_3\n"
     ]
    }
   ],
   "source": [
    "\n",
    "%load_ext autoreload\n",
    "%autoreload 2\n",
    "\n",
    "import os\n",
    "import sys\n",
    "import torch\n",
    "import einops\n",
    "import random\n",
    "import pickle\n",
    "import numpy as np\n",
    "import pprint as pp\n",
    "import torch.nn as nn\n",
    "from pathlib import Path\n",
    "from pyfiglet import Figlet\n",
    "from torch.utils.data import DataLoader\n",
    "from src.plots import plot_losses, plot_field_comparison\n",
    "\n",
    "# Add the project root directory to Python path\n",
    "top_dir = Path.cwd().parent\n",
    "sys.path.insert(0, str(top_dir.absolute()))\n",
    "\n",
    "from src import *\n",
    "\n",
    "slurm_dir = top_dir / 'slurms'\n",
    "pickle_dir = Path(\"/\") / \"data\" / \"alexey\" / \"T-SHRED_backup\" / 'pickles_3'\n",
    "print(pickle_dir)\n"
   ]
  },
  {
   "cell_type": "code",
   "execution_count": 7,
   "metadata": {},
   "outputs": [],
   "source": [
    "\n",
    "# We will iterate through every combination of these\n",
    "datasets = [\"sst\", \"plasma\", \"planetswe_pod\", \"gray_scott_reaction_diffusion_pod\"]\n",
    "encoders = [\"lstm\", \"vanilla_transformer\", \"sindy_attention_transformer\"]\n",
    "decoders = [\"mlp\", \"unet\"]\n",
    "lrs = [f\"lr{i:0.2e}\" for i in [1e-2, 1e-3, 1e-4, 1e-5]]\n",
    "\n",
    "# These two will be zipped pairwise\n",
    "encoder_depths = [f\"e{i}\" for i in[1, 2, 3]]\n",
    "decoder_depths = [f\"d{i}\" for i in[1, 2]]\n"
   ]
  },
  {
   "cell_type": "code",
   "execution_count": 8,
   "metadata": {},
   "outputs": [],
   "source": [
    "\n",
    "# Get list of results\n",
    "results = helpers.get_dictionaries_from_pickles(pickle_dir, early_stop=None)\n"
   ]
  },
  {
   "cell_type": "code",
   "execution_count": 9,
   "metadata": {},
   "outputs": [
    {
     "name": "stdout",
     "output_type": "stream",
     "text": [
      "<class 'list'>\n",
      "['test_loss',\n",
      " 'start_epoch',\n",
      " 'best_val',\n",
      " 'best_epoch',\n",
      " 'train_losses',\n",
      " 'val_losses',\n",
      " 'sensors',\n",
      " 'hyperparameters']\n",
      "{'batch_size': 128,\n",
      " 'best_checkpoint_path': PosixPath('/home/alexey/Research4/T-SHRED/checkpoints/sindy_loss_transformer_mlp_planetswe_e1_d1_lr1.00e-03_p1_model_best.pt'),\n",
      " 'd_data_in': 3,\n",
      " 'd_data_out': 3,\n",
      " 'd_model': 150,\n",
      " 'data_cols_in': 512,\n",
      " 'data_cols_out': 512,\n",
      " 'data_rows_in': 256,\n",
      " 'data_rows_out': 256,\n",
      " 'dataset': 'planetswe',\n",
      " 'decoder': 'mlp',\n",
      " 'decoder_depth': 1,\n",
      " 'device': 'cuda:1',\n",
      " 'dim_feedforward': 400,\n",
      " 'dropout': 0.1,\n",
      " 'dt': 1.0,\n",
      " 'early_stop': 10,\n",
      " 'encoder': 'sindy_loss_transformer',\n",
      " 'encoder_depth': 1,\n",
      " 'epochs': 100,\n",
      " 'eval_full': False,\n",
      " 'generate_test_plots': True,\n",
      " 'generate_training_plots': False,\n",
      " 'hidden_size': 100,\n",
      " 'include_sine': False,\n",
      " 'latest_checkpoint_path': PosixPath('/home/alexey/Research4/T-SHRED/checkpoints/sindy_loss_transformer_mlp_planetswe_e1_d1_lr1.00e-03_p1_model_latest.pt'),\n",
      " 'lr': 0.001,\n",
      " 'n_heads': 4,\n",
      " 'n_sensors': 50,\n",
      " 'n_well_tracks': 10,\n",
      " 'output_size': 393216,\n",
      " 'poly_order': 1,\n",
      " 'save_every_n_epochs': 10,\n",
      " 'sindy_attention_threshold': 0.05,\n",
      " 'sindy_attention_threshold_epoch': 10,\n",
      " 'sindy_attention_weight': 0.0,\n",
      " 'sindy_loss_threshold': 0.05,\n",
      " 'sindy_loss_weight': 100,\n",
      " 'skip_load_checkpoint': False,\n",
      " 'verbose': False,\n",
      " 'window_length': 50}\n"
     ]
    }
   ],
   "source": [
    "\n",
    "# Print the results / data format\n",
    "print(type(results))\n",
    "pp.pprint(list(results[0].keys()))\n",
    "pp.pprint(results[0]['hyperparameters'])\n"
   ]
  },
  {
   "cell_type": "code",
   "execution_count": 10,
   "metadata": {},
   "outputs": [
    {
     "name": "stdout",
     "output_type": "stream",
     "text": [
      "dict_keys(['test_loss', 'start_epoch', 'best_val', 'best_epoch', 'train_losses', 'val_losses', 'sensors', 'hyperparameters'])\n",
      "dict_keys(['batch_size', 'dataset', 'decoder', 'decoder_depth', 'device', 'dropout', 'dt', 'early_stop', 'encoder', 'eval_full', 'encoder_depth', 'epochs', 'hidden_size', 'generate_test_plots', 'generate_training_plots', 'include_sine', 'lr', 'n_heads', 'n_sensors', 'n_well_tracks', 'poly_order', 'save_every_n_epochs', 'sindy_attention_threshold', 'sindy_attention_threshold_epoch', 'sindy_attention_weight', 'sindy_loss_threshold', 'sindy_loss_weight', 'skip_load_checkpoint', 'verbose', 'window_length', 'd_data_in', 'data_rows_in', 'data_cols_in', 'd_data_out', 'data_rows_out', 'data_cols_out', 'd_model', 'dim_feedforward', 'output_size', 'latest_checkpoint_path', 'best_checkpoint_path'])\n",
      "[(98, 215), (10, 132), (130, 248), (103, 155), (122, 183), (149, 111), (129, 71), (72, 71), (64, 272), (154, 75), (18, 350), (84, 241), (143, 51), (90, 222), (80, 312), (141, 244), (113, 266), (140, 7), (0, 313), (126, 170), (62, 166), (145, 113), (139, 229), (23, 41), (81, 260), (125, 55), (77, 282), (74, 63), (140, 170), (138, 104), (154, 280), (150, 147), (152, 197), (61, 148), (47, 16), (156, 336), (66, 243), (17, 45), (20, 358), (138, 349), (100, 268), (70, 267), (70, 230), (126, 338), (91, 42), (83, 313), (150, 322), (69, 59), (56, 190), (43, 170)]\n"
     ]
    }
   ],
   "source": [
    "\n",
    "best_result = helpers.get_top_N_models_by_loss('sst', pickle_dir, N=1)[0][1]\n",
    "print(best_result.keys())\n",
    "print(best_result['hyperparameters'].keys())\n",
    "print(best_result['sensors'])\n"
   ]
  },
  {
   "cell_type": "code",
   "execution_count": 13,
   "metadata": {},
   "outputs": [
    {
     "name": "stdout",
     "output_type": "stream",
     "text": [
      "[('sindy_loss_gru_mlp_planetswe_e1_d1_lr1.00e-03_p1.pkl', {'test_loss': 0.0019565847178455442, 'start_epoch': 56, 'best_val': 0.0022861711913719773, 'best_epoch': 56, 'train_losses': [0.13539415560662746, 0.036787479060391585, 0.0353351520995299, 0.03443405789633592, 0.03365889924267928, 0.03304231601456801, 0.032571984082460405, 0.03215464521199465, 0.03184547889977694, 0.031606756461163364, 0.03139839951569835, 0.03116901076088349, 0.030996071423093477, 0.03085127261777719, 0.030723219271749258, 0.030598820342371862, 0.03050073590129614, 0.030401754068831603, 0.030296519802262386, 0.03020246752227346, 0.03011476279546817, 0.03004136439412832, 0.02997541936735312, 0.029911178319404524, 0.029860481278349955, 0.029783278082807858, 0.029745476817091308, 0.029668194769571225, 0.029627272703995306, 0.029590167012065648, 0.029522737363974254, 0.029495889476190012, 0.02945811888203025, 0.02943574149782459, 0.02943315894032518, 0.02933460703740517, 0.029261857084929944, 0.029289048320303362, 0.02923413406436642, 0.02924378017584483, 0.029172357047597568, 0.029138752010961375, 0.029091311028848092, 0.02906851110359033, 0.02907366519793868, 0.02911604130640626, 0.02898495119685928, 0.028978214288751285, 0.028942675950626533, 0.028935434576123954, 0.028933684900403024, 0.028922555999209485, 0.028889394272118805, 0.02881772316371401, 0.028813631429026525, 0.028806980419903993], 'val_losses': [0.011493267305195332, 0.009825718589127064, 0.008678162656724452, 0.00767330015078187, 0.0077903480269014835, 0.0067502791993319985, 0.007299455720931292, 0.006254161987453699, 0.006412954349070787, 0.005338201485574246, 0.006660688761621713, 0.0050655252300202845, 0.005966556165367365, 0.0054859726689755915, 0.0051220226101577285, 0.004595980513840914, 0.005461132247000932, 0.00493604140356183, 0.005598455294966697, 0.005491623748093843, 0.005397205986082554, 0.005118483304977417, 0.004791079927235842, 0.005848879925906658, 0.0041493111290037635, 0.004873440880328417, 0.004249478038400411, 0.004877368360757828, 0.004537841025739908, 0.0040601952467113735, 0.005206071119755506, 0.004238275717943907, 0.005839198175817728, 0.0038896772544831037, 0.005987334065139294, 0.00449614180251956, 0.0052120378240942955, 0.003776831179857254, 0.003268678346648812, 0.00469753984361887, 0.005591042153537273, 0.004814665857702493, 0.004052012786269188, 0.0037385682575404645, 0.007108364440500736, 0.0036599801387637854, 0.003685524361208081, 0.003421569615602493, 0.003916553827002645, 0.005793914292007684, 0.004387564491480589, 0.006937525141984225, 0.004894188232719898, 0.003760200785472989, 0.004849984776228666, 0.0022861711913719773], 'sensors': [(197, 430), (20, 265), (248, 414), (155, 488), (183, 223), (71, 288), (71, 97), (128, 150), (158, 101), (37, 338), (241, 103), (181, 444), (161, 209), (244, 453), (133, 63), (7, 95), (204, 1), (252, 341), (124, 333), (32, 195), (113, 244), (72, 458), (46, 82), (163, 501), (55, 308), (149, 127), (170, 208), (147, 455), (46, 394), (162, 247), (148, 188), (96, 191), (16, 266), (243, 70), (45, 133), (76, 39), (41, 400), (141, 241), (110, 429), (140, 461), (252, 365), (42, 332), (59, 498), (171, 194), (124, 16), (138, 119), (112, 380), (87, 340), (218, 63), (51, 149)], 'hyperparameters': {'batch_size': 128, 'dataset': 'planetswe', 'decoder': 'mlp', 'decoder_depth': 1, 'device': 'cuda:0', 'dropout': 0.1, 'dt': 1.0, 'early_stop': 10, 'encoder': 'sindy_loss_gru', 'eval_full': False, 'encoder_depth': 1, 'epochs': 100, 'hidden_size': 100, 'generate_test_plots': True, 'generate_training_plots': False, 'include_sine': False, 'lr': 0.001, 'n_heads': 4, 'n_sensors': 50, 'n_well_tracks': 10, 'poly_order': 1, 'save_every_n_epochs': 10, 'sindy_attention_threshold': 0.05, 'sindy_attention_threshold_epoch': 10, 'sindy_attention_weight': 0.0, 'sindy_loss_threshold': 0.05, 'sindy_loss_weight': 100, 'skip_load_checkpoint': False, 'verbose': False, 'window_length': 50, 'd_data_in': 3, 'data_rows_in': 256, 'data_cols_in': 512, 'd_data_out': 3, 'data_rows_out': 256, 'data_cols_out': 512, 'd_model': 150, 'dim_feedforward': 400, 'output_size': 393216, 'latest_checkpoint_path': PosixPath('/home/alexey/Research4/T-SHRED/checkpoints/sindy_loss_gru_mlp_planetswe_e1_d1_lr1.00e-03_p1_model_latest.pt'), 'best_checkpoint_path': PosixPath('/home/alexey/Research4/T-SHRED/checkpoints/sindy_loss_gru_mlp_planetswe_e1_d1_lr1.00e-03_p1_model_best.pt')}})]\n",
      "Saved /home/alexey/Research4/T-SHRED/figures/planetswe_scatter.pdf\n"
     ]
    },
    {
     "data": {
      "application/vnd.plotly.v1+json": {
       "config": {
        "plotlyServerURL": "https://plot.ly"
       },
       "data": [
        {
         "marker": {
          "color": "white",
          "line": {
           "color": "#5F4690",
           "width": 4
          },
          "size": 12
         },
         "mode": "markers",
         "name": "LSTM",
         "showlegend": true,
         "type": "scatter",
         "x": [
          null
         ],
         "y": [
          null
         ]
        },
        {
         "marker": {
          "color": "white",
          "line": {
           "color": "#1D6996",
           "width": 4
          },
          "size": 12
         },
         "mode": "markers",
         "name": "GRU",
         "showlegend": true,
         "type": "scatter",
         "x": [
          null
         ],
         "y": [
          null
         ]
        },
        {
         "marker": {
          "color": "white",
          "line": {
           "color": "#38A6A5",
           "width": 4
          },
          "size": 12
         },
         "mode": "markers",
         "name": "SL-LSTM",
         "showlegend": true,
         "type": "scatter",
         "x": [
          null
         ],
         "y": [
          null
         ]
        },
        {
         "marker": {
          "color": "white",
          "line": {
           "color": "#0F8554",
           "width": 4
          },
          "size": 12
         },
         "mode": "markers",
         "name": "SL-GRU",
         "showlegend": true,
         "type": "scatter",
         "x": [
          null
         ],
         "y": [
          null
         ]
        },
        {
         "marker": {
          "color": "white",
          "line": {
           "color": "#73AF48",
           "width": 4
          },
          "size": 12
         },
         "mode": "markers",
         "name": "T",
         "showlegend": true,
         "type": "scatter",
         "x": [
          null
         ],
         "y": [
          null
         ]
        },
        {
         "marker": {
          "color": "white",
          "line": {
           "color": "#EDAD08",
           "width": 4
          },
          "size": 12
         },
         "mode": "markers",
         "name": "SL-T",
         "showlegend": true,
         "type": "scatter",
         "x": [
          null
         ],
         "y": [
          null
         ]
        },
        {
         "marker": {
          "color": "white",
          "line": {
           "color": "#E17C05",
           "width": 4
          },
          "size": 12
         },
         "mode": "markers",
         "name": "SA-T",
         "showlegend": true,
         "type": "scatter",
         "x": [
          null
         ],
         "y": [
          null
         ]
        },
        {
         "marker": {
          "color": "white",
          "line": {
           "color": "#CC503E",
           "width": 4
          },
          "size": 12
         },
         "mode": "markers",
         "name": "SASL-T",
         "showlegend": true,
         "type": "scatter",
         "x": [
          null
         ],
         "y": [
          null
         ]
        },
        {
         "marker": {
          "color": "#66C5CC",
          "line": {
           "color": "white",
           "width": 4
          },
          "size": 12
         },
         "mode": "markers",
         "name": "MLP",
         "showlegend": true,
         "type": "scatter",
         "x": [
          null
         ],
         "y": [
          null
         ]
        },
        {
         "marker": {
          "color": "#F6CF71",
          "line": {
           "color": "white",
           "width": 4
          },
          "size": 12
         },
         "mode": "markers",
         "name": "CNN",
         "showlegend": true,
         "type": "scatter",
         "x": [
          null
         ],
         "y": [
          null
         ]
        },
        {
         "hovertemplate": "Encoder: sindy_loss_gru (x4)<br>Decoder: unet (x1)<br>LR: 1.00e-03<br>Test Loss: 3.07e-03<br><extra></extra>",
         "marker": {
          "color": "#F6CF71",
          "line": {
           "color": "#0F8554",
           "width": 4
          },
          "size": 12
         },
         "mode": "markers",
         "name": "sindy_loss_gru-unet",
         "showlegend": false,
         "type": "scatter",
         "x": [
          1
         ],
         "y": [
          0.0030662650242447853
         ]
        },
        {
         "hovertemplate": "Encoder: gru (x1)<br>Decoder: unet (x1)<br>LR: 1.00e-02<br>Test Loss: 3.06e-03<br><extra></extra>",
         "marker": {
          "color": "#F6CF71",
          "line": {
           "color": "#1D6996",
           "width": 4
          },
          "size": 12
         },
         "mode": "markers",
         "name": "gru-unet",
         "showlegend": false,
         "type": "scatter",
         "x": [
          2
         ],
         "y": [
          0.0030612103873863816
         ]
        },
        {
         "hovertemplate": "Encoder: lstm (x1)<br>Decoder: unet (x1)<br>LR: 1.00e-03<br>Test Loss: 3.04e-03<br><extra></extra>",
         "marker": {
          "color": "#F6CF71",
          "line": {
           "color": "#5F4690",
           "width": 4
          },
          "size": 12
         },
         "mode": "markers",
         "name": "lstm-unet",
         "showlegend": false,
         "type": "scatter",
         "x": [
          3
         ],
         "y": [
          0.00303819018881768
         ]
        },
        {
         "hovertemplate": "Encoder: gru (x3)<br>Decoder: unet (x1)<br>LR: 1.00e-03<br>Test Loss: 2.98e-03<br><extra></extra>",
         "marker": {
          "color": "#F6CF71",
          "line": {
           "color": "#1D6996",
           "width": 4
          },
          "size": 12
         },
         "mode": "markers",
         "name": "gru-unet",
         "showlegend": false,
         "type": "scatter",
         "x": [
          4
         ],
         "y": [
          0.002982187841553241
         ]
        },
        {
         "hovertemplate": "Encoder: gru (x1)<br>Decoder: unet (x1)<br>LR: 1.00e-03<br>Test Loss: 2.71e-03<br><extra></extra>",
         "marker": {
          "color": "#F6CF71",
          "line": {
           "color": "#1D6996",
           "width": 4
          },
          "size": 12
         },
         "mode": "markers",
         "name": "gru-unet",
         "showlegend": false,
         "type": "scatter",
         "x": [
          5
         ],
         "y": [
          0.0027111953240819275
         ]
        },
        {
         "hovertemplate": "Encoder: gru (x2)<br>Decoder: mlp (x1)<br>LR: 1.00e-03<br>Test Loss: 2.67e-03<br><extra></extra>",
         "marker": {
          "color": "#66C5CC",
          "line": {
           "color": "#1D6996",
           "width": 4
          },
          "size": 12
         },
         "mode": "markers",
         "name": "gru-mlp",
         "showlegend": false,
         "type": "scatter",
         "x": [
          6
         ],
         "y": [
          0.002669911365956068
         ]
        },
        {
         "hovertemplate": "Encoder: gru (x1)<br>Decoder: mlp (x1)<br>LR: 1.00e-03<br>Test Loss: 2.58e-03<br><extra></extra>",
         "marker": {
          "color": "#66C5CC",
          "line": {
           "color": "#1D6996",
           "width": 4
          },
          "size": 12
         },
         "mode": "markers",
         "name": "gru-mlp",
         "showlegend": false,
         "type": "scatter",
         "x": [
          7
         ],
         "y": [
          0.002581452950835228
         ]
        },
        {
         "hovertemplate": "Encoder: sindy_loss_gru (x2)<br>Decoder: unet (x1)<br>LR: 1.00e-03<br>Test Loss: 2.57e-03<br><extra></extra>",
         "marker": {
          "color": "#F6CF71",
          "line": {
           "color": "#0F8554",
           "width": 4
          },
          "size": 12
         },
         "mode": "markers",
         "name": "sindy_loss_gru-unet",
         "showlegend": false,
         "type": "scatter",
         "x": [
          8
         ],
         "y": [
          0.0025727470638230443
         ]
        },
        {
         "hovertemplate": "Encoder: sindy_loss_gru (x3)<br>Decoder: unet (x1)<br>LR: 1.00e-03<br>Test Loss: 2.52e-03<br><extra></extra>",
         "marker": {
          "color": "#F6CF71",
          "line": {
           "color": "#0F8554",
           "width": 4
          },
          "size": 12
         },
         "mode": "markers",
         "name": "sindy_loss_gru-unet",
         "showlegend": false,
         "type": "scatter",
         "x": [
          9
         ],
         "y": [
          0.0025231787585653365
         ]
        },
        {
         "hovertemplate": "Encoder: sindy_loss_gru (x2)<br>Decoder: mlp (x1)<br>LR: 1.00e-03<br>Test Loss: 2.52e-03<br><extra></extra>",
         "marker": {
          "color": "#66C5CC",
          "line": {
           "color": "#0F8554",
           "width": 4
          },
          "size": 12
         },
         "mode": "markers",
         "name": "sindy_loss_gru-mlp",
         "showlegend": false,
         "type": "scatter",
         "x": [
          10
         ],
         "y": [
          0.0025165043771266937
         ]
        },
        {
         "hovertemplate": "Encoder: sindy_loss_gru (x1)<br>Decoder: unet (x1)<br>LR: 1.00e-03<br>Test Loss: 2.51e-03<br><extra></extra>",
         "marker": {
          "color": "#F6CF71",
          "line": {
           "color": "#0F8554",
           "width": 4
          },
          "size": 12
         },
         "mode": "markers",
         "name": "sindy_loss_gru-unet",
         "showlegend": false,
         "type": "scatter",
         "x": [
          11
         ],
         "y": [
          0.0025091423303820193
         ]
        },
        {
         "hovertemplate": "Encoder: sindy_loss_gru (x1)<br>Decoder: mlp (x1)<br>LR: 1.00e-03<br>Test Loss: 1.96e-03<br><extra></extra>",
         "marker": {
          "color": "#66C5CC",
          "line": {
           "color": "#0F8554",
           "width": 4
          },
          "size": 12
         },
         "mode": "markers",
         "name": "sindy_loss_gru-mlp",
         "showlegend": false,
         "type": "scatter",
         "x": [
          12
         ],
         "y": [
          0.0019565847178455442
         ]
        }
       ],
       "layout": {
        "font": {
         "family": "Times New Roman"
        },
        "height": 400,
        "hovermode": "closest",
        "legend": {
         "font": {
          "family": "Times New Roman",
          "size": 20
         },
         "title": {
          "font": {
           "family": "Times New Roman",
           "size": 20
          },
          "text": "Legend"
         }
        },
        "showlegend": true,
        "template": {
         "data": {
          "bar": [
           {
            "error_x": {
             "color": "#2a3f5f"
            },
            "error_y": {
             "color": "#2a3f5f"
            },
            "marker": {
             "line": {
              "color": "white",
              "width": 0.5
             },
             "pattern": {
              "fillmode": "overlay",
              "size": 10,
              "solidity": 0.2
             }
            },
            "type": "bar"
           }
          ],
          "barpolar": [
           {
            "marker": {
             "line": {
              "color": "white",
              "width": 0.5
             },
             "pattern": {
              "fillmode": "overlay",
              "size": 10,
              "solidity": 0.2
             }
            },
            "type": "barpolar"
           }
          ],
          "carpet": [
           {
            "aaxis": {
             "endlinecolor": "#2a3f5f",
             "gridcolor": "#C8D4E3",
             "linecolor": "#C8D4E3",
             "minorgridcolor": "#C8D4E3",
             "startlinecolor": "#2a3f5f"
            },
            "baxis": {
             "endlinecolor": "#2a3f5f",
             "gridcolor": "#C8D4E3",
             "linecolor": "#C8D4E3",
             "minorgridcolor": "#C8D4E3",
             "startlinecolor": "#2a3f5f"
            },
            "type": "carpet"
           }
          ],
          "choropleth": [
           {
            "colorbar": {
             "outlinewidth": 0,
             "ticks": ""
            },
            "type": "choropleth"
           }
          ],
          "contour": [
           {
            "colorbar": {
             "outlinewidth": 0,
             "ticks": ""
            },
            "colorscale": [
             [
              0,
              "#0d0887"
             ],
             [
              0.1111111111111111,
              "#46039f"
             ],
             [
              0.2222222222222222,
              "#7201a8"
             ],
             [
              0.3333333333333333,
              "#9c179e"
             ],
             [
              0.4444444444444444,
              "#bd3786"
             ],
             [
              0.5555555555555556,
              "#d8576b"
             ],
             [
              0.6666666666666666,
              "#ed7953"
             ],
             [
              0.7777777777777778,
              "#fb9f3a"
             ],
             [
              0.8888888888888888,
              "#fdca26"
             ],
             [
              1,
              "#f0f921"
             ]
            ],
            "type": "contour"
           }
          ],
          "contourcarpet": [
           {
            "colorbar": {
             "outlinewidth": 0,
             "ticks": ""
            },
            "type": "contourcarpet"
           }
          ],
          "heatmap": [
           {
            "colorbar": {
             "outlinewidth": 0,
             "ticks": ""
            },
            "colorscale": [
             [
              0,
              "#0d0887"
             ],
             [
              0.1111111111111111,
              "#46039f"
             ],
             [
              0.2222222222222222,
              "#7201a8"
             ],
             [
              0.3333333333333333,
              "#9c179e"
             ],
             [
              0.4444444444444444,
              "#bd3786"
             ],
             [
              0.5555555555555556,
              "#d8576b"
             ],
             [
              0.6666666666666666,
              "#ed7953"
             ],
             [
              0.7777777777777778,
              "#fb9f3a"
             ],
             [
              0.8888888888888888,
              "#fdca26"
             ],
             [
              1,
              "#f0f921"
             ]
            ],
            "type": "heatmap"
           }
          ],
          "heatmapgl": [
           {
            "colorbar": {
             "outlinewidth": 0,
             "ticks": ""
            },
            "colorscale": [
             [
              0,
              "#0d0887"
             ],
             [
              0.1111111111111111,
              "#46039f"
             ],
             [
              0.2222222222222222,
              "#7201a8"
             ],
             [
              0.3333333333333333,
              "#9c179e"
             ],
             [
              0.4444444444444444,
              "#bd3786"
             ],
             [
              0.5555555555555556,
              "#d8576b"
             ],
             [
              0.6666666666666666,
              "#ed7953"
             ],
             [
              0.7777777777777778,
              "#fb9f3a"
             ],
             [
              0.8888888888888888,
              "#fdca26"
             ],
             [
              1,
              "#f0f921"
             ]
            ],
            "type": "heatmapgl"
           }
          ],
          "histogram": [
           {
            "marker": {
             "pattern": {
              "fillmode": "overlay",
              "size": 10,
              "solidity": 0.2
             }
            },
            "type": "histogram"
           }
          ],
          "histogram2d": [
           {
            "colorbar": {
             "outlinewidth": 0,
             "ticks": ""
            },
            "colorscale": [
             [
              0,
              "#0d0887"
             ],
             [
              0.1111111111111111,
              "#46039f"
             ],
             [
              0.2222222222222222,
              "#7201a8"
             ],
             [
              0.3333333333333333,
              "#9c179e"
             ],
             [
              0.4444444444444444,
              "#bd3786"
             ],
             [
              0.5555555555555556,
              "#d8576b"
             ],
             [
              0.6666666666666666,
              "#ed7953"
             ],
             [
              0.7777777777777778,
              "#fb9f3a"
             ],
             [
              0.8888888888888888,
              "#fdca26"
             ],
             [
              1,
              "#f0f921"
             ]
            ],
            "type": "histogram2d"
           }
          ],
          "histogram2dcontour": [
           {
            "colorbar": {
             "outlinewidth": 0,
             "ticks": ""
            },
            "colorscale": [
             [
              0,
              "#0d0887"
             ],
             [
              0.1111111111111111,
              "#46039f"
             ],
             [
              0.2222222222222222,
              "#7201a8"
             ],
             [
              0.3333333333333333,
              "#9c179e"
             ],
             [
              0.4444444444444444,
              "#bd3786"
             ],
             [
              0.5555555555555556,
              "#d8576b"
             ],
             [
              0.6666666666666666,
              "#ed7953"
             ],
             [
              0.7777777777777778,
              "#fb9f3a"
             ],
             [
              0.8888888888888888,
              "#fdca26"
             ],
             [
              1,
              "#f0f921"
             ]
            ],
            "type": "histogram2dcontour"
           }
          ],
          "mesh3d": [
           {
            "colorbar": {
             "outlinewidth": 0,
             "ticks": ""
            },
            "type": "mesh3d"
           }
          ],
          "parcoords": [
           {
            "line": {
             "colorbar": {
              "outlinewidth": 0,
              "ticks": ""
             }
            },
            "type": "parcoords"
           }
          ],
          "pie": [
           {
            "automargin": true,
            "type": "pie"
           }
          ],
          "scatter": [
           {
            "marker": {
             "colorbar": {
              "outlinewidth": 0,
              "ticks": ""
             }
            },
            "type": "scatter"
           }
          ],
          "scatter3d": [
           {
            "line": {
             "colorbar": {
              "outlinewidth": 0,
              "ticks": ""
             }
            },
            "marker": {
             "colorbar": {
              "outlinewidth": 0,
              "ticks": ""
             }
            },
            "type": "scatter3d"
           }
          ],
          "scattercarpet": [
           {
            "marker": {
             "colorbar": {
              "outlinewidth": 0,
              "ticks": ""
             }
            },
            "type": "scattercarpet"
           }
          ],
          "scattergeo": [
           {
            "marker": {
             "colorbar": {
              "outlinewidth": 0,
              "ticks": ""
             }
            },
            "type": "scattergeo"
           }
          ],
          "scattergl": [
           {
            "marker": {
             "colorbar": {
              "outlinewidth": 0,
              "ticks": ""
             }
            },
            "type": "scattergl"
           }
          ],
          "scattermapbox": [
           {
            "marker": {
             "colorbar": {
              "outlinewidth": 0,
              "ticks": ""
             }
            },
            "type": "scattermapbox"
           }
          ],
          "scatterpolar": [
           {
            "marker": {
             "colorbar": {
              "outlinewidth": 0,
              "ticks": ""
             }
            },
            "type": "scatterpolar"
           }
          ],
          "scatterpolargl": [
           {
            "marker": {
             "colorbar": {
              "outlinewidth": 0,
              "ticks": ""
             }
            },
            "type": "scatterpolargl"
           }
          ],
          "scatterternary": [
           {
            "marker": {
             "colorbar": {
              "outlinewidth": 0,
              "ticks": ""
             }
            },
            "type": "scatterternary"
           }
          ],
          "surface": [
           {
            "colorbar": {
             "outlinewidth": 0,
             "ticks": ""
            },
            "colorscale": [
             [
              0,
              "#0d0887"
             ],
             [
              0.1111111111111111,
              "#46039f"
             ],
             [
              0.2222222222222222,
              "#7201a8"
             ],
             [
              0.3333333333333333,
              "#9c179e"
             ],
             [
              0.4444444444444444,
              "#bd3786"
             ],
             [
              0.5555555555555556,
              "#d8576b"
             ],
             [
              0.6666666666666666,
              "#ed7953"
             ],
             [
              0.7777777777777778,
              "#fb9f3a"
             ],
             [
              0.8888888888888888,
              "#fdca26"
             ],
             [
              1,
              "#f0f921"
             ]
            ],
            "type": "surface"
           }
          ],
          "table": [
           {
            "cells": {
             "fill": {
              "color": "#EBF0F8"
             },
             "line": {
              "color": "white"
             }
            },
            "header": {
             "fill": {
              "color": "#C8D4E3"
             },
             "line": {
              "color": "white"
             }
            },
            "type": "table"
           }
          ]
         },
         "layout": {
          "annotationdefaults": {
           "arrowcolor": "#2a3f5f",
           "arrowhead": 0,
           "arrowwidth": 1
          },
          "autotypenumbers": "strict",
          "coloraxis": {
           "colorbar": {
            "outlinewidth": 0,
            "ticks": ""
           }
          },
          "colorscale": {
           "diverging": [
            [
             0,
             "#8e0152"
            ],
            [
             0.1,
             "#c51b7d"
            ],
            [
             0.2,
             "#de77ae"
            ],
            [
             0.3,
             "#f1b6da"
            ],
            [
             0.4,
             "#fde0ef"
            ],
            [
             0.5,
             "#f7f7f7"
            ],
            [
             0.6,
             "#e6f5d0"
            ],
            [
             0.7,
             "#b8e186"
            ],
            [
             0.8,
             "#7fbc41"
            ],
            [
             0.9,
             "#4d9221"
            ],
            [
             1,
             "#276419"
            ]
           ],
           "sequential": [
            [
             0,
             "#0d0887"
            ],
            [
             0.1111111111111111,
             "#46039f"
            ],
            [
             0.2222222222222222,
             "#7201a8"
            ],
            [
             0.3333333333333333,
             "#9c179e"
            ],
            [
             0.4444444444444444,
             "#bd3786"
            ],
            [
             0.5555555555555556,
             "#d8576b"
            ],
            [
             0.6666666666666666,
             "#ed7953"
            ],
            [
             0.7777777777777778,
             "#fb9f3a"
            ],
            [
             0.8888888888888888,
             "#fdca26"
            ],
            [
             1,
             "#f0f921"
            ]
           ],
           "sequentialminus": [
            [
             0,
             "#0d0887"
            ],
            [
             0.1111111111111111,
             "#46039f"
            ],
            [
             0.2222222222222222,
             "#7201a8"
            ],
            [
             0.3333333333333333,
             "#9c179e"
            ],
            [
             0.4444444444444444,
             "#bd3786"
            ],
            [
             0.5555555555555556,
             "#d8576b"
            ],
            [
             0.6666666666666666,
             "#ed7953"
            ],
            [
             0.7777777777777778,
             "#fb9f3a"
            ],
            [
             0.8888888888888888,
             "#fdca26"
            ],
            [
             1,
             "#f0f921"
            ]
           ]
          },
          "colorway": [
           "#636efa",
           "#EF553B",
           "#00cc96",
           "#ab63fa",
           "#FFA15A",
           "#19d3f3",
           "#FF6692",
           "#B6E880",
           "#FF97FF",
           "#FECB52"
          ],
          "font": {
           "color": "#2a3f5f"
          },
          "geo": {
           "bgcolor": "white",
           "lakecolor": "white",
           "landcolor": "white",
           "showlakes": true,
           "showland": true,
           "subunitcolor": "#C8D4E3"
          },
          "hoverlabel": {
           "align": "left"
          },
          "hovermode": "closest",
          "mapbox": {
           "style": "light"
          },
          "paper_bgcolor": "white",
          "plot_bgcolor": "white",
          "polar": {
           "angularaxis": {
            "gridcolor": "#EBF0F8",
            "linecolor": "#EBF0F8",
            "ticks": ""
           },
           "bgcolor": "white",
           "radialaxis": {
            "gridcolor": "#EBF0F8",
            "linecolor": "#EBF0F8",
            "ticks": ""
           }
          },
          "scene": {
           "xaxis": {
            "backgroundcolor": "white",
            "gridcolor": "#DFE8F3",
            "gridwidth": 2,
            "linecolor": "#EBF0F8",
            "showbackground": true,
            "ticks": "",
            "zerolinecolor": "#EBF0F8"
           },
           "yaxis": {
            "backgroundcolor": "white",
            "gridcolor": "#DFE8F3",
            "gridwidth": 2,
            "linecolor": "#EBF0F8",
            "showbackground": true,
            "ticks": "",
            "zerolinecolor": "#EBF0F8"
           },
           "zaxis": {
            "backgroundcolor": "white",
            "gridcolor": "#DFE8F3",
            "gridwidth": 2,
            "linecolor": "#EBF0F8",
            "showbackground": true,
            "ticks": "",
            "zerolinecolor": "#EBF0F8"
           }
          },
          "shapedefaults": {
           "line": {
            "color": "#2a3f5f"
           }
          },
          "ternary": {
           "aaxis": {
            "gridcolor": "#DFE8F3",
            "linecolor": "#A2B1C6",
            "ticks": ""
           },
           "baxis": {
            "gridcolor": "#DFE8F3",
            "linecolor": "#A2B1C6",
            "ticks": ""
           },
           "bgcolor": "white",
           "caxis": {
            "gridcolor": "#DFE8F3",
            "linecolor": "#A2B1C6",
            "ticks": ""
           }
          },
          "title": {
           "x": 0.05
          },
          "xaxis": {
           "automargin": true,
           "gridcolor": "#EBF0F8",
           "linecolor": "#EBF0F8",
           "ticks": "",
           "title": {
            "standoff": 15
           },
           "zerolinecolor": "#EBF0F8",
           "zerolinewidth": 2
          },
          "yaxis": {
           "automargin": true,
           "gridcolor": "#EBF0F8",
           "linecolor": "#EBF0F8",
           "ticks": "",
           "title": {
            "standoff": 15
           },
           "zerolinecolor": "#EBF0F8",
           "zerolinewidth": 2
          }
         }
        },
        "title": {
         "font": {
          "family": "Times New Roman",
          "size": 20
         },
         "text": "PlanetSWE"
        },
        "width": 525,
        "xaxis": {
         "showticklabels": false,
         "tickfont": {
          "family": "Times New Roman",
          "size": 20
         },
         "title": {
          "font": {
           "family": "Times New Roman",
           "size": 20
          },
          "text": "Top 12 Models"
         }
        },
        "yaxis": {
         "exponentformat": "E",
         "nticks": 5,
         "tickfont": {
          "family": "Times New Roman",
          "size": 20
         },
         "tickformat": "1.2e",
         "title": {
          "font": {
           "family": "Times New Roman",
           "size": 20
          },
          "text": "Test Loss"
         },
         "type": "log"
        }
       }
      },
      "text/html": [
       "<div>                            <div id=\"949657b1-22c1-4b9a-a9a9-4798f6cb5090\" class=\"plotly-graph-div\" style=\"height:400px; width:525px;\"></div>            <script type=\"text/javascript\">                require([\"plotly\"], function(Plotly) {                    window.PLOTLYENV=window.PLOTLYENV || {};                                    if (document.getElementById(\"949657b1-22c1-4b9a-a9a9-4798f6cb5090\")) {                    Plotly.newPlot(                        \"949657b1-22c1-4b9a-a9a9-4798f6cb5090\",                        [{\"marker\":{\"color\":\"white\",\"line\":{\"color\":\"#5F4690\",\"width\":4},\"size\":12},\"mode\":\"markers\",\"name\":\"LSTM\",\"showlegend\":true,\"type\":\"scatter\",\"x\":[null],\"y\":[null]},{\"marker\":{\"color\":\"white\",\"line\":{\"color\":\"#1D6996\",\"width\":4},\"size\":12},\"mode\":\"markers\",\"name\":\"GRU\",\"showlegend\":true,\"type\":\"scatter\",\"x\":[null],\"y\":[null]},{\"marker\":{\"color\":\"white\",\"line\":{\"color\":\"#38A6A5\",\"width\":4},\"size\":12},\"mode\":\"markers\",\"name\":\"SL-LSTM\",\"showlegend\":true,\"type\":\"scatter\",\"x\":[null],\"y\":[null]},{\"marker\":{\"color\":\"white\",\"line\":{\"color\":\"#0F8554\",\"width\":4},\"size\":12},\"mode\":\"markers\",\"name\":\"SL-GRU\",\"showlegend\":true,\"type\":\"scatter\",\"x\":[null],\"y\":[null]},{\"marker\":{\"color\":\"white\",\"line\":{\"color\":\"#73AF48\",\"width\":4},\"size\":12},\"mode\":\"markers\",\"name\":\"T\",\"showlegend\":true,\"type\":\"scatter\",\"x\":[null],\"y\":[null]},{\"marker\":{\"color\":\"white\",\"line\":{\"color\":\"#EDAD08\",\"width\":4},\"size\":12},\"mode\":\"markers\",\"name\":\"SL-T\",\"showlegend\":true,\"type\":\"scatter\",\"x\":[null],\"y\":[null]},{\"marker\":{\"color\":\"white\",\"line\":{\"color\":\"#E17C05\",\"width\":4},\"size\":12},\"mode\":\"markers\",\"name\":\"SA-T\",\"showlegend\":true,\"type\":\"scatter\",\"x\":[null],\"y\":[null]},{\"marker\":{\"color\":\"white\",\"line\":{\"color\":\"#CC503E\",\"width\":4},\"size\":12},\"mode\":\"markers\",\"name\":\"SASL-T\",\"showlegend\":true,\"type\":\"scatter\",\"x\":[null],\"y\":[null]},{\"marker\":{\"color\":\"#66C5CC\",\"line\":{\"color\":\"white\",\"width\":4},\"size\":12},\"mode\":\"markers\",\"name\":\"MLP\",\"showlegend\":true,\"type\":\"scatter\",\"x\":[null],\"y\":[null]},{\"marker\":{\"color\":\"#F6CF71\",\"line\":{\"color\":\"white\",\"width\":4},\"size\":12},\"mode\":\"markers\",\"name\":\"CNN\",\"showlegend\":true,\"type\":\"scatter\",\"x\":[null],\"y\":[null]},{\"hovertemplate\":\"Encoder: sindy_loss_gru (x4)<br>Decoder: unet (x1)<br>LR: 1.00e-03<br>Test Loss: 3.07e-03<br><extra></extra>\",\"marker\":{\"color\":\"#F6CF71\",\"line\":{\"color\":\"#0F8554\",\"width\":4},\"size\":12},\"mode\":\"markers\",\"name\":\"sindy_loss_gru-unet\",\"showlegend\":false,\"type\":\"scatter\",\"x\":[1],\"y\":[0.0030662650242447853]},{\"hovertemplate\":\"Encoder: gru (x1)<br>Decoder: unet (x1)<br>LR: 1.00e-02<br>Test Loss: 3.06e-03<br><extra></extra>\",\"marker\":{\"color\":\"#F6CF71\",\"line\":{\"color\":\"#1D6996\",\"width\":4},\"size\":12},\"mode\":\"markers\",\"name\":\"gru-unet\",\"showlegend\":false,\"type\":\"scatter\",\"x\":[2],\"y\":[0.0030612103873863816]},{\"hovertemplate\":\"Encoder: lstm (x1)<br>Decoder: unet (x1)<br>LR: 1.00e-03<br>Test Loss: 3.04e-03<br><extra></extra>\",\"marker\":{\"color\":\"#F6CF71\",\"line\":{\"color\":\"#5F4690\",\"width\":4},\"size\":12},\"mode\":\"markers\",\"name\":\"lstm-unet\",\"showlegend\":false,\"type\":\"scatter\",\"x\":[3],\"y\":[0.00303819018881768]},{\"hovertemplate\":\"Encoder: gru (x3)<br>Decoder: unet (x1)<br>LR: 1.00e-03<br>Test Loss: 2.98e-03<br><extra></extra>\",\"marker\":{\"color\":\"#F6CF71\",\"line\":{\"color\":\"#1D6996\",\"width\":4},\"size\":12},\"mode\":\"markers\",\"name\":\"gru-unet\",\"showlegend\":false,\"type\":\"scatter\",\"x\":[4],\"y\":[0.002982187841553241]},{\"hovertemplate\":\"Encoder: gru (x1)<br>Decoder: unet (x1)<br>LR: 1.00e-03<br>Test Loss: 2.71e-03<br><extra></extra>\",\"marker\":{\"color\":\"#F6CF71\",\"line\":{\"color\":\"#1D6996\",\"width\":4},\"size\":12},\"mode\":\"markers\",\"name\":\"gru-unet\",\"showlegend\":false,\"type\":\"scatter\",\"x\":[5],\"y\":[0.0027111953240819275]},{\"hovertemplate\":\"Encoder: gru (x2)<br>Decoder: mlp (x1)<br>LR: 1.00e-03<br>Test Loss: 2.67e-03<br><extra></extra>\",\"marker\":{\"color\":\"#66C5CC\",\"line\":{\"color\":\"#1D6996\",\"width\":4},\"size\":12},\"mode\":\"markers\",\"name\":\"gru-mlp\",\"showlegend\":false,\"type\":\"scatter\",\"x\":[6],\"y\":[0.002669911365956068]},{\"hovertemplate\":\"Encoder: gru (x1)<br>Decoder: mlp (x1)<br>LR: 1.00e-03<br>Test Loss: 2.58e-03<br><extra></extra>\",\"marker\":{\"color\":\"#66C5CC\",\"line\":{\"color\":\"#1D6996\",\"width\":4},\"size\":12},\"mode\":\"markers\",\"name\":\"gru-mlp\",\"showlegend\":false,\"type\":\"scatter\",\"x\":[7],\"y\":[0.002581452950835228]},{\"hovertemplate\":\"Encoder: sindy_loss_gru (x2)<br>Decoder: unet (x1)<br>LR: 1.00e-03<br>Test Loss: 2.57e-03<br><extra></extra>\",\"marker\":{\"color\":\"#F6CF71\",\"line\":{\"color\":\"#0F8554\",\"width\":4},\"size\":12},\"mode\":\"markers\",\"name\":\"sindy_loss_gru-unet\",\"showlegend\":false,\"type\":\"scatter\",\"x\":[8],\"y\":[0.0025727470638230443]},{\"hovertemplate\":\"Encoder: sindy_loss_gru (x3)<br>Decoder: unet (x1)<br>LR: 1.00e-03<br>Test Loss: 2.52e-03<br><extra></extra>\",\"marker\":{\"color\":\"#F6CF71\",\"line\":{\"color\":\"#0F8554\",\"width\":4},\"size\":12},\"mode\":\"markers\",\"name\":\"sindy_loss_gru-unet\",\"showlegend\":false,\"type\":\"scatter\",\"x\":[9],\"y\":[0.0025231787585653365]},{\"hovertemplate\":\"Encoder: sindy_loss_gru (x2)<br>Decoder: mlp (x1)<br>LR: 1.00e-03<br>Test Loss: 2.52e-03<br><extra></extra>\",\"marker\":{\"color\":\"#66C5CC\",\"line\":{\"color\":\"#0F8554\",\"width\":4},\"size\":12},\"mode\":\"markers\",\"name\":\"sindy_loss_gru-mlp\",\"showlegend\":false,\"type\":\"scatter\",\"x\":[10],\"y\":[0.0025165043771266937]},{\"hovertemplate\":\"Encoder: sindy_loss_gru (x1)<br>Decoder: unet (x1)<br>LR: 1.00e-03<br>Test Loss: 2.51e-03<br><extra></extra>\",\"marker\":{\"color\":\"#F6CF71\",\"line\":{\"color\":\"#0F8554\",\"width\":4},\"size\":12},\"mode\":\"markers\",\"name\":\"sindy_loss_gru-unet\",\"showlegend\":false,\"type\":\"scatter\",\"x\":[11],\"y\":[0.0025091423303820193]},{\"hovertemplate\":\"Encoder: sindy_loss_gru (x1)<br>Decoder: mlp (x1)<br>LR: 1.00e-03<br>Test Loss: 1.96e-03<br><extra></extra>\",\"marker\":{\"color\":\"#66C5CC\",\"line\":{\"color\":\"#0F8554\",\"width\":4},\"size\":12},\"mode\":\"markers\",\"name\":\"sindy_loss_gru-mlp\",\"showlegend\":false,\"type\":\"scatter\",\"x\":[12],\"y\":[0.0019565847178455442]}],                        {\"font\":{\"family\":\"Times New Roman\"},\"height\":400,\"hovermode\":\"closest\",\"legend\":{\"font\":{\"family\":\"Times New Roman\",\"size\":20},\"title\":{\"font\":{\"family\":\"Times New Roman\",\"size\":20},\"text\":\"Legend\"}},\"showlegend\":true,\"template\":{\"data\":{\"bar\":[{\"error_x\":{\"color\":\"#2a3f5f\"},\"error_y\":{\"color\":\"#2a3f5f\"},\"marker\":{\"line\":{\"color\":\"white\",\"width\":0.5},\"pattern\":{\"fillmode\":\"overlay\",\"size\":10,\"solidity\":0.2}},\"type\":\"bar\"}],\"barpolar\":[{\"marker\":{\"line\":{\"color\":\"white\",\"width\":0.5},\"pattern\":{\"fillmode\":\"overlay\",\"size\":10,\"solidity\":0.2}},\"type\":\"barpolar\"}],\"carpet\":[{\"aaxis\":{\"endlinecolor\":\"#2a3f5f\",\"gridcolor\":\"#C8D4E3\",\"linecolor\":\"#C8D4E3\",\"minorgridcolor\":\"#C8D4E3\",\"startlinecolor\":\"#2a3f5f\"},\"baxis\":{\"endlinecolor\":\"#2a3f5f\",\"gridcolor\":\"#C8D4E3\",\"linecolor\":\"#C8D4E3\",\"minorgridcolor\":\"#C8D4E3\",\"startlinecolor\":\"#2a3f5f\"},\"type\":\"carpet\"}],\"choropleth\":[{\"colorbar\":{\"outlinewidth\":0,\"ticks\":\"\"},\"type\":\"choropleth\"}],\"contour\":[{\"colorbar\":{\"outlinewidth\":0,\"ticks\":\"\"},\"colorscale\":[[0.0,\"#0d0887\"],[0.1111111111111111,\"#46039f\"],[0.2222222222222222,\"#7201a8\"],[0.3333333333333333,\"#9c179e\"],[0.4444444444444444,\"#bd3786\"],[0.5555555555555556,\"#d8576b\"],[0.6666666666666666,\"#ed7953\"],[0.7777777777777778,\"#fb9f3a\"],[0.8888888888888888,\"#fdca26\"],[1.0,\"#f0f921\"]],\"type\":\"contour\"}],\"contourcarpet\":[{\"colorbar\":{\"outlinewidth\":0,\"ticks\":\"\"},\"type\":\"contourcarpet\"}],\"heatmap\":[{\"colorbar\":{\"outlinewidth\":0,\"ticks\":\"\"},\"colorscale\":[[0.0,\"#0d0887\"],[0.1111111111111111,\"#46039f\"],[0.2222222222222222,\"#7201a8\"],[0.3333333333333333,\"#9c179e\"],[0.4444444444444444,\"#bd3786\"],[0.5555555555555556,\"#d8576b\"],[0.6666666666666666,\"#ed7953\"],[0.7777777777777778,\"#fb9f3a\"],[0.8888888888888888,\"#fdca26\"],[1.0,\"#f0f921\"]],\"type\":\"heatmap\"}],\"heatmapgl\":[{\"colorbar\":{\"outlinewidth\":0,\"ticks\":\"\"},\"colorscale\":[[0.0,\"#0d0887\"],[0.1111111111111111,\"#46039f\"],[0.2222222222222222,\"#7201a8\"],[0.3333333333333333,\"#9c179e\"],[0.4444444444444444,\"#bd3786\"],[0.5555555555555556,\"#d8576b\"],[0.6666666666666666,\"#ed7953\"],[0.7777777777777778,\"#fb9f3a\"],[0.8888888888888888,\"#fdca26\"],[1.0,\"#f0f921\"]],\"type\":\"heatmapgl\"}],\"histogram\":[{\"marker\":{\"pattern\":{\"fillmode\":\"overlay\",\"size\":10,\"solidity\":0.2}},\"type\":\"histogram\"}],\"histogram2d\":[{\"colorbar\":{\"outlinewidth\":0,\"ticks\":\"\"},\"colorscale\":[[0.0,\"#0d0887\"],[0.1111111111111111,\"#46039f\"],[0.2222222222222222,\"#7201a8\"],[0.3333333333333333,\"#9c179e\"],[0.4444444444444444,\"#bd3786\"],[0.5555555555555556,\"#d8576b\"],[0.6666666666666666,\"#ed7953\"],[0.7777777777777778,\"#fb9f3a\"],[0.8888888888888888,\"#fdca26\"],[1.0,\"#f0f921\"]],\"type\":\"histogram2d\"}],\"histogram2dcontour\":[{\"colorbar\":{\"outlinewidth\":0,\"ticks\":\"\"},\"colorscale\":[[0.0,\"#0d0887\"],[0.1111111111111111,\"#46039f\"],[0.2222222222222222,\"#7201a8\"],[0.3333333333333333,\"#9c179e\"],[0.4444444444444444,\"#bd3786\"],[0.5555555555555556,\"#d8576b\"],[0.6666666666666666,\"#ed7953\"],[0.7777777777777778,\"#fb9f3a\"],[0.8888888888888888,\"#fdca26\"],[1.0,\"#f0f921\"]],\"type\":\"histogram2dcontour\"}],\"mesh3d\":[{\"colorbar\":{\"outlinewidth\":0,\"ticks\":\"\"},\"type\":\"mesh3d\"}],\"parcoords\":[{\"line\":{\"colorbar\":{\"outlinewidth\":0,\"ticks\":\"\"}},\"type\":\"parcoords\"}],\"pie\":[{\"automargin\":true,\"type\":\"pie\"}],\"scatter\":[{\"marker\":{\"colorbar\":{\"outlinewidth\":0,\"ticks\":\"\"}},\"type\":\"scatter\"}],\"scatter3d\":[{\"line\":{\"colorbar\":{\"outlinewidth\":0,\"ticks\":\"\"}},\"marker\":{\"colorbar\":{\"outlinewidth\":0,\"ticks\":\"\"}},\"type\":\"scatter3d\"}],\"scattercarpet\":[{\"marker\":{\"colorbar\":{\"outlinewidth\":0,\"ticks\":\"\"}},\"type\":\"scattercarpet\"}],\"scattergeo\":[{\"marker\":{\"colorbar\":{\"outlinewidth\":0,\"ticks\":\"\"}},\"type\":\"scattergeo\"}],\"scattergl\":[{\"marker\":{\"colorbar\":{\"outlinewidth\":0,\"ticks\":\"\"}},\"type\":\"scattergl\"}],\"scattermapbox\":[{\"marker\":{\"colorbar\":{\"outlinewidth\":0,\"ticks\":\"\"}},\"type\":\"scattermapbox\"}],\"scatterpolar\":[{\"marker\":{\"colorbar\":{\"outlinewidth\":0,\"ticks\":\"\"}},\"type\":\"scatterpolar\"}],\"scatterpolargl\":[{\"marker\":{\"colorbar\":{\"outlinewidth\":0,\"ticks\":\"\"}},\"type\":\"scatterpolargl\"}],\"scatterternary\":[{\"marker\":{\"colorbar\":{\"outlinewidth\":0,\"ticks\":\"\"}},\"type\":\"scatterternary\"}],\"surface\":[{\"colorbar\":{\"outlinewidth\":0,\"ticks\":\"\"},\"colorscale\":[[0.0,\"#0d0887\"],[0.1111111111111111,\"#46039f\"],[0.2222222222222222,\"#7201a8\"],[0.3333333333333333,\"#9c179e\"],[0.4444444444444444,\"#bd3786\"],[0.5555555555555556,\"#d8576b\"],[0.6666666666666666,\"#ed7953\"],[0.7777777777777778,\"#fb9f3a\"],[0.8888888888888888,\"#fdca26\"],[1.0,\"#f0f921\"]],\"type\":\"surface\"}],\"table\":[{\"cells\":{\"fill\":{\"color\":\"#EBF0F8\"},\"line\":{\"color\":\"white\"}},\"header\":{\"fill\":{\"color\":\"#C8D4E3\"},\"line\":{\"color\":\"white\"}},\"type\":\"table\"}]},\"layout\":{\"annotationdefaults\":{\"arrowcolor\":\"#2a3f5f\",\"arrowhead\":0,\"arrowwidth\":1},\"autotypenumbers\":\"strict\",\"coloraxis\":{\"colorbar\":{\"outlinewidth\":0,\"ticks\":\"\"}},\"colorscale\":{\"diverging\":[[0,\"#8e0152\"],[0.1,\"#c51b7d\"],[0.2,\"#de77ae\"],[0.3,\"#f1b6da\"],[0.4,\"#fde0ef\"],[0.5,\"#f7f7f7\"],[0.6,\"#e6f5d0\"],[0.7,\"#b8e186\"],[0.8,\"#7fbc41\"],[0.9,\"#4d9221\"],[1,\"#276419\"]],\"sequential\":[[0.0,\"#0d0887\"],[0.1111111111111111,\"#46039f\"],[0.2222222222222222,\"#7201a8\"],[0.3333333333333333,\"#9c179e\"],[0.4444444444444444,\"#bd3786\"],[0.5555555555555556,\"#d8576b\"],[0.6666666666666666,\"#ed7953\"],[0.7777777777777778,\"#fb9f3a\"],[0.8888888888888888,\"#fdca26\"],[1.0,\"#f0f921\"]],\"sequentialminus\":[[0.0,\"#0d0887\"],[0.1111111111111111,\"#46039f\"],[0.2222222222222222,\"#7201a8\"],[0.3333333333333333,\"#9c179e\"],[0.4444444444444444,\"#bd3786\"],[0.5555555555555556,\"#d8576b\"],[0.6666666666666666,\"#ed7953\"],[0.7777777777777778,\"#fb9f3a\"],[0.8888888888888888,\"#fdca26\"],[1.0,\"#f0f921\"]]},\"colorway\":[\"#636efa\",\"#EF553B\",\"#00cc96\",\"#ab63fa\",\"#FFA15A\",\"#19d3f3\",\"#FF6692\",\"#B6E880\",\"#FF97FF\",\"#FECB52\"],\"font\":{\"color\":\"#2a3f5f\"},\"geo\":{\"bgcolor\":\"white\",\"lakecolor\":\"white\",\"landcolor\":\"white\",\"showlakes\":true,\"showland\":true,\"subunitcolor\":\"#C8D4E3\"},\"hoverlabel\":{\"align\":\"left\"},\"hovermode\":\"closest\",\"mapbox\":{\"style\":\"light\"},\"paper_bgcolor\":\"white\",\"plot_bgcolor\":\"white\",\"polar\":{\"angularaxis\":{\"gridcolor\":\"#EBF0F8\",\"linecolor\":\"#EBF0F8\",\"ticks\":\"\"},\"bgcolor\":\"white\",\"radialaxis\":{\"gridcolor\":\"#EBF0F8\",\"linecolor\":\"#EBF0F8\",\"ticks\":\"\"}},\"scene\":{\"xaxis\":{\"backgroundcolor\":\"white\",\"gridcolor\":\"#DFE8F3\",\"gridwidth\":2,\"linecolor\":\"#EBF0F8\",\"showbackground\":true,\"ticks\":\"\",\"zerolinecolor\":\"#EBF0F8\"},\"yaxis\":{\"backgroundcolor\":\"white\",\"gridcolor\":\"#DFE8F3\",\"gridwidth\":2,\"linecolor\":\"#EBF0F8\",\"showbackground\":true,\"ticks\":\"\",\"zerolinecolor\":\"#EBF0F8\"},\"zaxis\":{\"backgroundcolor\":\"white\",\"gridcolor\":\"#DFE8F3\",\"gridwidth\":2,\"linecolor\":\"#EBF0F8\",\"showbackground\":true,\"ticks\":\"\",\"zerolinecolor\":\"#EBF0F8\"}},\"shapedefaults\":{\"line\":{\"color\":\"#2a3f5f\"}},\"ternary\":{\"aaxis\":{\"gridcolor\":\"#DFE8F3\",\"linecolor\":\"#A2B1C6\",\"ticks\":\"\"},\"baxis\":{\"gridcolor\":\"#DFE8F3\",\"linecolor\":\"#A2B1C6\",\"ticks\":\"\"},\"bgcolor\":\"white\",\"caxis\":{\"gridcolor\":\"#DFE8F3\",\"linecolor\":\"#A2B1C6\",\"ticks\":\"\"}},\"title\":{\"x\":0.05},\"xaxis\":{\"automargin\":true,\"gridcolor\":\"#EBF0F8\",\"linecolor\":\"#EBF0F8\",\"ticks\":\"\",\"title\":{\"standoff\":15},\"zerolinecolor\":\"#EBF0F8\",\"zerolinewidth\":2},\"yaxis\":{\"automargin\":true,\"gridcolor\":\"#EBF0F8\",\"linecolor\":\"#EBF0F8\",\"ticks\":\"\",\"title\":{\"standoff\":15},\"zerolinecolor\":\"#EBF0F8\",\"zerolinewidth\":2}}},\"title\":{\"font\":{\"family\":\"Times New Roman\",\"size\":20},\"text\":\"PlanetSWE\"},\"width\":525,\"xaxis\":{\"showticklabels\":false,\"tickfont\":{\"family\":\"Times New Roman\",\"size\":20},\"title\":{\"font\":{\"family\":\"Times New Roman\",\"size\":20},\"text\":\"Top 12 Models\"}},\"yaxis\":{\"exponentformat\":\"E\",\"nticks\":5,\"tickfont\":{\"family\":\"Times New Roman\",\"size\":20},\"tickformat\":\"1.2e\",\"title\":{\"font\":{\"family\":\"Times New Roman\",\"size\":20},\"text\":\"Test Loss\"},\"type\":\"log\"}},                        {\"responsive\": true}                    ).then(function(){\n",
       "                            \n",
       "var gd = document.getElementById('949657b1-22c1-4b9a-a9a9-4798f6cb5090');\n",
       "var x = new MutationObserver(function (mutations, observer) {{\n",
       "        var display = window.getComputedStyle(gd).display;\n",
       "        if (!display || display === 'none') {{\n",
       "            console.log([gd, 'removed!']);\n",
       "            Plotly.purge(gd);\n",
       "            observer.disconnect();\n",
       "        }}\n",
       "}});\n",
       "\n",
       "// Listen for the removal of the full notebook cells\n",
       "var notebookContainer = gd.closest('#notebook-container');\n",
       "if (notebookContainer) {{\n",
       "    x.observe(notebookContainer, {childList: true});\n",
       "}}\n",
       "\n",
       "// Listen for the clearing of the current output cell\n",
       "var outputEl = gd.closest('.output');\n",
       "if (outputEl) {{\n",
       "    x.observe(outputEl, {childList: true});\n",
       "}}\n",
       "\n",
       "                        })                };                });            </script>        </div>"
      ]
     },
     "metadata": {},
     "output_type": "display_data"
    },
    {
     "name": "stdout",
     "output_type": "stream",
     "text": [
      "[('gru_unet_sst_e1_d1_lr1.00e-02_p1.pkl', {'test_loss': 0.0014724985230714083, 'start_epoch': 23, 'best_val': 0.0013933521695435047, 'best_epoch': 23, 'train_losses': [0.07939040722946326, 0.02424876681632466, 0.021546482625934813, 0.020280032729109127, 0.019665385286013286, 0.01936081527835793, 0.019292056146595214, 0.01946179796424177, 0.01919062787459956, 0.019263348231712978, 0.01913987286388874, 0.019032497372892167, 0.01906306089626418, 0.01902498449716303, 0.01895106438961294, 0.018926063345538244, 0.01896102498802874, 0.018952007095019024, 0.018926526937219832, 0.01895444778104623, 0.018980390081803005, 0.018903647859891255, 0.018908305714527767], 'val_losses': [0.009746433235704899, 0.006941520143300295, 0.0025536769535392523, 0.0030938012059777975, 0.004076869692653418, 0.002561084693297744, 0.001281240489333868, 0.0019356503617018461, 0.003393482184037566, 0.0017464838456362486, 0.001683334819972515, 0.0032039738725870848, 0.0022324572782963514, 0.0019462195923551917, 0.0023565664887428284, 0.001877875067293644, 0.0027039803098887205, 0.0017606363398954272, 0.0024442393332719803, 0.0019015476573258638, 0.0025012297555804253, 0.0029560525435954332, 0.0013933521695435047], 'sensors': [(98, 215), (10, 132), (130, 248), (103, 155), (122, 183), (149, 111), (129, 71), (72, 71), (64, 272), (154, 75), (18, 350), (84, 241), (143, 51), (90, 222), (80, 312), (141, 244), (113, 266), (140, 7), (0, 313), (126, 170), (62, 166), (145, 113), (139, 229), (23, 41), (81, 260), (125, 55), (77, 282), (74, 63), (140, 170), (138, 104), (154, 280), (150, 147), (152, 197), (61, 148), (47, 16), (156, 336), (66, 243), (17, 45), (20, 358), (138, 349), (100, 268), (70, 267), (70, 230), (126, 338), (91, 42), (83, 313), (150, 322), (69, 59), (56, 190), (43, 170)], 'hyperparameters': {'batch_size': 128, 'dataset': 'sst', 'decoder': 'unet', 'decoder_depth': 1, 'device': 'cuda:0', 'dropout': 0.1, 'dt': 1.0, 'early_stop': 20, 'encoder': 'gru', 'eval_full': False, 'encoder_depth': 1, 'epochs': 100, 'hidden_size': 100, 'generate_test_plots': True, 'generate_training_plots': False, 'include_sine': False, 'lr': 0.01, 'n_heads': 2, 'n_sensors': 50, 'n_well_tracks': 10, 'poly_order': 1, 'save_every_n_epochs': 10, 'sindy_attention_threshold': 0.05, 'sindy_attention_threshold_epoch': 10, 'sindy_attention_weight': 0.0, 'sindy_loss_threshold': 0.05, 'sindy_loss_weight': 100, 'skip_load_checkpoint': False, 'verbose': False, 'window_length': 50, 'd_data_in': 1, 'data_rows_in': 180, 'data_cols_in': 360, 'd_data_out': 1, 'data_rows_out': 180, 'data_cols_out': 360, 'd_model': 50, 'dim_feedforward': 400, 'output_size': 64800, 'latest_checkpoint_path': PosixPath('/app/code/checkpoints/gru_unet_sst_e1_d1_lr1.00e-02_p1_model_latest.pt'), 'best_checkpoint_path': PosixPath('/app/code/checkpoints/gru_unet_sst_e1_d1_lr1.00e-02_p1_model_best.pt')}})]\n",
      "Saved /home/alexey/Research4/T-SHRED/figures/sst_scatter.pdf\n"
     ]
    },
    {
     "data": {
      "application/vnd.plotly.v1+json": {
       "config": {
        "plotlyServerURL": "https://plot.ly"
       },
       "data": [
        {
         "marker": {
          "color": "white",
          "line": {
           "color": "#5F4690",
           "width": 4
          },
          "size": 12
         },
         "mode": "markers",
         "name": "LSTM",
         "showlegend": true,
         "type": "scatter",
         "x": [
          null
         ],
         "y": [
          null
         ]
        },
        {
         "marker": {
          "color": "white",
          "line": {
           "color": "#1D6996",
           "width": 4
          },
          "size": 12
         },
         "mode": "markers",
         "name": "GRU",
         "showlegend": true,
         "type": "scatter",
         "x": [
          null
         ],
         "y": [
          null
         ]
        },
        {
         "marker": {
          "color": "white",
          "line": {
           "color": "#38A6A5",
           "width": 4
          },
          "size": 12
         },
         "mode": "markers",
         "name": "SL-LSTM",
         "showlegend": true,
         "type": "scatter",
         "x": [
          null
         ],
         "y": [
          null
         ]
        },
        {
         "marker": {
          "color": "white",
          "line": {
           "color": "#0F8554",
           "width": 4
          },
          "size": 12
         },
         "mode": "markers",
         "name": "SL-GRU",
         "showlegend": true,
         "type": "scatter",
         "x": [
          null
         ],
         "y": [
          null
         ]
        },
        {
         "marker": {
          "color": "white",
          "line": {
           "color": "#73AF48",
           "width": 4
          },
          "size": 12
         },
         "mode": "markers",
         "name": "T",
         "showlegend": true,
         "type": "scatter",
         "x": [
          null
         ],
         "y": [
          null
         ]
        },
        {
         "marker": {
          "color": "white",
          "line": {
           "color": "#EDAD08",
           "width": 4
          },
          "size": 12
         },
         "mode": "markers",
         "name": "SL-T",
         "showlegend": true,
         "type": "scatter",
         "x": [
          null
         ],
         "y": [
          null
         ]
        },
        {
         "marker": {
          "color": "white",
          "line": {
           "color": "#E17C05",
           "width": 4
          },
          "size": 12
         },
         "mode": "markers",
         "name": "SA-T",
         "showlegend": true,
         "type": "scatter",
         "x": [
          null
         ],
         "y": [
          null
         ]
        },
        {
         "marker": {
          "color": "white",
          "line": {
           "color": "#CC503E",
           "width": 4
          },
          "size": 12
         },
         "mode": "markers",
         "name": "SASL-T",
         "showlegend": true,
         "type": "scatter",
         "x": [
          null
         ],
         "y": [
          null
         ]
        },
        {
         "marker": {
          "color": "#66C5CC",
          "line": {
           "color": "white",
           "width": 4
          },
          "size": 12
         },
         "mode": "markers",
         "name": "MLP",
         "showlegend": true,
         "type": "scatter",
         "x": [
          null
         ],
         "y": [
          null
         ]
        },
        {
         "marker": {
          "color": "#F6CF71",
          "line": {
           "color": "white",
           "width": 4
          },
          "size": 12
         },
         "mode": "markers",
         "name": "CNN",
         "showlegend": true,
         "type": "scatter",
         "x": [
          null
         ],
         "y": [
          null
         ]
        },
        {
         "hovertemplate": "Encoder: gru (x4)<br>Decoder: unet (x1)<br>LR: 1.00e-03<br>Test Loss: 1.92e-03<br><extra></extra>",
         "marker": {
          "color": "#F6CF71",
          "line": {
           "color": "#1D6996",
           "width": 4
          },
          "size": 12
         },
         "mode": "markers",
         "name": "gru-unet",
         "showlegend": false,
         "type": "scatter",
         "x": [
          1
         ],
         "y": [
          0.0019156945636495948
         ]
        },
        {
         "hovertemplate": "Encoder: sindy_loss_gru (x3)<br>Decoder: unet (x1)<br>LR: 1.00e-03<br>Test Loss: 1.91e-03<br><extra></extra>",
         "marker": {
          "color": "#F6CF71",
          "line": {
           "color": "#0F8554",
           "width": 4
          },
          "size": 12
         },
         "mode": "markers",
         "name": "sindy_loss_gru-unet",
         "showlegend": false,
         "type": "scatter",
         "x": [
          2
         ],
         "y": [
          0.0019054472213611007
         ]
        },
        {
         "hovertemplate": "Encoder: gru (x3)<br>Decoder: unet (x1)<br>LR: 1.00e-03<br>Test Loss: 1.88e-03<br><extra></extra>",
         "marker": {
          "color": "#F6CF71",
          "line": {
           "color": "#1D6996",
           "width": 4
          },
          "size": 12
         },
         "mode": "markers",
         "name": "gru-unet",
         "showlegend": false,
         "type": "scatter",
         "x": [
          3
         ],
         "y": [
          0.0018768220907077193
         ]
        },
        {
         "hovertemplate": "Encoder: gru (x4)<br>Decoder: mlp (x1)<br>LR: 1.00e-03<br>Test Loss: 1.82e-03<br><extra></extra>",
         "marker": {
          "color": "#66C5CC",
          "line": {
           "color": "#1D6996",
           "width": 4
          },
          "size": 12
         },
         "mode": "markers",
         "name": "gru-mlp",
         "showlegend": false,
         "type": "scatter",
         "x": [
          4
         ],
         "y": [
          0.00181683583650738
         ]
        },
        {
         "hovertemplate": "Encoder: gru (x3)<br>Decoder: mlp (x1)<br>LR: 1.00e-03<br>Test Loss: 1.81e-03<br><extra></extra>",
         "marker": {
          "color": "#66C5CC",
          "line": {
           "color": "#1D6996",
           "width": 4
          },
          "size": 12
         },
         "mode": "markers",
         "name": "gru-mlp",
         "showlegend": false,
         "type": "scatter",
         "x": [
          5
         ],
         "y": [
          0.0018108212389051914
         ]
        },
        {
         "hovertemplate": "Encoder: sindy_loss_gru (x3)<br>Decoder: mlp (x1)<br>LR: 1.00e-03<br>Test Loss: 1.78e-03<br><extra></extra>",
         "marker": {
          "color": "#66C5CC",
          "line": {
           "color": "#0F8554",
           "width": 4
          },
          "size": 12
         },
         "mode": "markers",
         "name": "sindy_loss_gru-mlp",
         "showlegend": false,
         "type": "scatter",
         "x": [
          6
         ],
         "y": [
          0.001779577462002635
         ]
        },
        {
         "hovertemplate": "Encoder: gru (x2)<br>Decoder: unet (x1)<br>LR: 1.00e-03<br>Test Loss: 1.76e-03<br><extra></extra>",
         "marker": {
          "color": "#F6CF71",
          "line": {
           "color": "#1D6996",
           "width": 4
          },
          "size": 12
         },
         "mode": "markers",
         "name": "gru-unet",
         "showlegend": false,
         "type": "scatter",
         "x": [
          7
         ],
         "y": [
          0.0017623178428038955
         ]
        },
        {
         "hovertemplate": "Encoder: gru (x1)<br>Decoder: mlp (x1)<br>LR: 1.00e-02<br>Test Loss: 1.74e-03<br><extra></extra>",
         "marker": {
          "color": "#66C5CC",
          "line": {
           "color": "#1D6996",
           "width": 4
          },
          "size": 12
         },
         "mode": "markers",
         "name": "gru-mlp",
         "showlegend": false,
         "type": "scatter",
         "x": [
          8
         ],
         "y": [
          0.0017446335405111313
         ]
        },
        {
         "hovertemplate": "Encoder: vanilla_transformer (x1)<br>Decoder: unet (x1)<br>LR: 1.00e-02<br>Test Loss: 1.74e-03<br><extra></extra>",
         "marker": {
          "color": "#F6CF71",
          "line": {
           "color": "#73AF48",
           "width": 4
          },
          "size": 12
         },
         "mode": "markers",
         "name": "vanilla_transformer-unet",
         "showlegend": false,
         "type": "scatter",
         "x": [
          9
         ],
         "y": [
          0.0017366006504744291
         ]
        },
        {
         "hovertemplate": "Encoder: gru (x2)<br>Decoder: mlp (x1)<br>LR: 1.00e-03<br>Test Loss: 1.72e-03<br><extra></extra>",
         "marker": {
          "color": "#66C5CC",
          "line": {
           "color": "#1D6996",
           "width": 4
          },
          "size": 12
         },
         "mode": "markers",
         "name": "gru-mlp",
         "showlegend": false,
         "type": "scatter",
         "x": [
          10
         ],
         "y": [
          0.0017194137908518314
         ]
        },
        {
         "hovertemplate": "Encoder: sindy_attention_transformer (x1)<br>Decoder: unet (x1)<br>LR: 1.00e-02<br>Test Loss: 1.67e-03<br><extra></extra>",
         "marker": {
          "color": "#F6CF71",
          "line": {
           "color": "#E17C05",
           "width": 4
          },
          "size": 12
         },
         "mode": "markers",
         "name": "sindy_attention_transformer-unet",
         "showlegend": false,
         "type": "scatter",
         "x": [
          11
         ],
         "y": [
          0.0016737185651436448
         ]
        },
        {
         "hovertemplate": "Encoder: gru (x1)<br>Decoder: unet (x1)<br>LR: 1.00e-02<br>Test Loss: 1.47e-03<br><extra></extra>",
         "marker": {
          "color": "#F6CF71",
          "line": {
           "color": "#1D6996",
           "width": 4
          },
          "size": 12
         },
         "mode": "markers",
         "name": "gru-unet",
         "showlegend": false,
         "type": "scatter",
         "x": [
          12
         ],
         "y": [
          0.0014724985230714083
         ]
        }
       ],
       "layout": {
        "font": {
         "family": "Times New Roman"
        },
        "height": 400,
        "hovermode": "closest",
        "legend": {
         "font": {
          "family": "Times New Roman",
          "size": 20
         },
         "title": {
          "font": {
           "family": "Times New Roman",
           "size": 20
          },
          "text": "Legend"
         }
        },
        "showlegend": true,
        "template": {
         "data": {
          "bar": [
           {
            "error_x": {
             "color": "#2a3f5f"
            },
            "error_y": {
             "color": "#2a3f5f"
            },
            "marker": {
             "line": {
              "color": "white",
              "width": 0.5
             },
             "pattern": {
              "fillmode": "overlay",
              "size": 10,
              "solidity": 0.2
             }
            },
            "type": "bar"
           }
          ],
          "barpolar": [
           {
            "marker": {
             "line": {
              "color": "white",
              "width": 0.5
             },
             "pattern": {
              "fillmode": "overlay",
              "size": 10,
              "solidity": 0.2
             }
            },
            "type": "barpolar"
           }
          ],
          "carpet": [
           {
            "aaxis": {
             "endlinecolor": "#2a3f5f",
             "gridcolor": "#C8D4E3",
             "linecolor": "#C8D4E3",
             "minorgridcolor": "#C8D4E3",
             "startlinecolor": "#2a3f5f"
            },
            "baxis": {
             "endlinecolor": "#2a3f5f",
             "gridcolor": "#C8D4E3",
             "linecolor": "#C8D4E3",
             "minorgridcolor": "#C8D4E3",
             "startlinecolor": "#2a3f5f"
            },
            "type": "carpet"
           }
          ],
          "choropleth": [
           {
            "colorbar": {
             "outlinewidth": 0,
             "ticks": ""
            },
            "type": "choropleth"
           }
          ],
          "contour": [
           {
            "colorbar": {
             "outlinewidth": 0,
             "ticks": ""
            },
            "colorscale": [
             [
              0,
              "#0d0887"
             ],
             [
              0.1111111111111111,
              "#46039f"
             ],
             [
              0.2222222222222222,
              "#7201a8"
             ],
             [
              0.3333333333333333,
              "#9c179e"
             ],
             [
              0.4444444444444444,
              "#bd3786"
             ],
             [
              0.5555555555555556,
              "#d8576b"
             ],
             [
              0.6666666666666666,
              "#ed7953"
             ],
             [
              0.7777777777777778,
              "#fb9f3a"
             ],
             [
              0.8888888888888888,
              "#fdca26"
             ],
             [
              1,
              "#f0f921"
             ]
            ],
            "type": "contour"
           }
          ],
          "contourcarpet": [
           {
            "colorbar": {
             "outlinewidth": 0,
             "ticks": ""
            },
            "type": "contourcarpet"
           }
          ],
          "heatmap": [
           {
            "colorbar": {
             "outlinewidth": 0,
             "ticks": ""
            },
            "colorscale": [
             [
              0,
              "#0d0887"
             ],
             [
              0.1111111111111111,
              "#46039f"
             ],
             [
              0.2222222222222222,
              "#7201a8"
             ],
             [
              0.3333333333333333,
              "#9c179e"
             ],
             [
              0.4444444444444444,
              "#bd3786"
             ],
             [
              0.5555555555555556,
              "#d8576b"
             ],
             [
              0.6666666666666666,
              "#ed7953"
             ],
             [
              0.7777777777777778,
              "#fb9f3a"
             ],
             [
              0.8888888888888888,
              "#fdca26"
             ],
             [
              1,
              "#f0f921"
             ]
            ],
            "type": "heatmap"
           }
          ],
          "heatmapgl": [
           {
            "colorbar": {
             "outlinewidth": 0,
             "ticks": ""
            },
            "colorscale": [
             [
              0,
              "#0d0887"
             ],
             [
              0.1111111111111111,
              "#46039f"
             ],
             [
              0.2222222222222222,
              "#7201a8"
             ],
             [
              0.3333333333333333,
              "#9c179e"
             ],
             [
              0.4444444444444444,
              "#bd3786"
             ],
             [
              0.5555555555555556,
              "#d8576b"
             ],
             [
              0.6666666666666666,
              "#ed7953"
             ],
             [
              0.7777777777777778,
              "#fb9f3a"
             ],
             [
              0.8888888888888888,
              "#fdca26"
             ],
             [
              1,
              "#f0f921"
             ]
            ],
            "type": "heatmapgl"
           }
          ],
          "histogram": [
           {
            "marker": {
             "pattern": {
              "fillmode": "overlay",
              "size": 10,
              "solidity": 0.2
             }
            },
            "type": "histogram"
           }
          ],
          "histogram2d": [
           {
            "colorbar": {
             "outlinewidth": 0,
             "ticks": ""
            },
            "colorscale": [
             [
              0,
              "#0d0887"
             ],
             [
              0.1111111111111111,
              "#46039f"
             ],
             [
              0.2222222222222222,
              "#7201a8"
             ],
             [
              0.3333333333333333,
              "#9c179e"
             ],
             [
              0.4444444444444444,
              "#bd3786"
             ],
             [
              0.5555555555555556,
              "#d8576b"
             ],
             [
              0.6666666666666666,
              "#ed7953"
             ],
             [
              0.7777777777777778,
              "#fb9f3a"
             ],
             [
              0.8888888888888888,
              "#fdca26"
             ],
             [
              1,
              "#f0f921"
             ]
            ],
            "type": "histogram2d"
           }
          ],
          "histogram2dcontour": [
           {
            "colorbar": {
             "outlinewidth": 0,
             "ticks": ""
            },
            "colorscale": [
             [
              0,
              "#0d0887"
             ],
             [
              0.1111111111111111,
              "#46039f"
             ],
             [
              0.2222222222222222,
              "#7201a8"
             ],
             [
              0.3333333333333333,
              "#9c179e"
             ],
             [
              0.4444444444444444,
              "#bd3786"
             ],
             [
              0.5555555555555556,
              "#d8576b"
             ],
             [
              0.6666666666666666,
              "#ed7953"
             ],
             [
              0.7777777777777778,
              "#fb9f3a"
             ],
             [
              0.8888888888888888,
              "#fdca26"
             ],
             [
              1,
              "#f0f921"
             ]
            ],
            "type": "histogram2dcontour"
           }
          ],
          "mesh3d": [
           {
            "colorbar": {
             "outlinewidth": 0,
             "ticks": ""
            },
            "type": "mesh3d"
           }
          ],
          "parcoords": [
           {
            "line": {
             "colorbar": {
              "outlinewidth": 0,
              "ticks": ""
             }
            },
            "type": "parcoords"
           }
          ],
          "pie": [
           {
            "automargin": true,
            "type": "pie"
           }
          ],
          "scatter": [
           {
            "marker": {
             "colorbar": {
              "outlinewidth": 0,
              "ticks": ""
             }
            },
            "type": "scatter"
           }
          ],
          "scatter3d": [
           {
            "line": {
             "colorbar": {
              "outlinewidth": 0,
              "ticks": ""
             }
            },
            "marker": {
             "colorbar": {
              "outlinewidth": 0,
              "ticks": ""
             }
            },
            "type": "scatter3d"
           }
          ],
          "scattercarpet": [
           {
            "marker": {
             "colorbar": {
              "outlinewidth": 0,
              "ticks": ""
             }
            },
            "type": "scattercarpet"
           }
          ],
          "scattergeo": [
           {
            "marker": {
             "colorbar": {
              "outlinewidth": 0,
              "ticks": ""
             }
            },
            "type": "scattergeo"
           }
          ],
          "scattergl": [
           {
            "marker": {
             "colorbar": {
              "outlinewidth": 0,
              "ticks": ""
             }
            },
            "type": "scattergl"
           }
          ],
          "scattermapbox": [
           {
            "marker": {
             "colorbar": {
              "outlinewidth": 0,
              "ticks": ""
             }
            },
            "type": "scattermapbox"
           }
          ],
          "scatterpolar": [
           {
            "marker": {
             "colorbar": {
              "outlinewidth": 0,
              "ticks": ""
             }
            },
            "type": "scatterpolar"
           }
          ],
          "scatterpolargl": [
           {
            "marker": {
             "colorbar": {
              "outlinewidth": 0,
              "ticks": ""
             }
            },
            "type": "scatterpolargl"
           }
          ],
          "scatterternary": [
           {
            "marker": {
             "colorbar": {
              "outlinewidth": 0,
              "ticks": ""
             }
            },
            "type": "scatterternary"
           }
          ],
          "surface": [
           {
            "colorbar": {
             "outlinewidth": 0,
             "ticks": ""
            },
            "colorscale": [
             [
              0,
              "#0d0887"
             ],
             [
              0.1111111111111111,
              "#46039f"
             ],
             [
              0.2222222222222222,
              "#7201a8"
             ],
             [
              0.3333333333333333,
              "#9c179e"
             ],
             [
              0.4444444444444444,
              "#bd3786"
             ],
             [
              0.5555555555555556,
              "#d8576b"
             ],
             [
              0.6666666666666666,
              "#ed7953"
             ],
             [
              0.7777777777777778,
              "#fb9f3a"
             ],
             [
              0.8888888888888888,
              "#fdca26"
             ],
             [
              1,
              "#f0f921"
             ]
            ],
            "type": "surface"
           }
          ],
          "table": [
           {
            "cells": {
             "fill": {
              "color": "#EBF0F8"
             },
             "line": {
              "color": "white"
             }
            },
            "header": {
             "fill": {
              "color": "#C8D4E3"
             },
             "line": {
              "color": "white"
             }
            },
            "type": "table"
           }
          ]
         },
         "layout": {
          "annotationdefaults": {
           "arrowcolor": "#2a3f5f",
           "arrowhead": 0,
           "arrowwidth": 1
          },
          "autotypenumbers": "strict",
          "coloraxis": {
           "colorbar": {
            "outlinewidth": 0,
            "ticks": ""
           }
          },
          "colorscale": {
           "diverging": [
            [
             0,
             "#8e0152"
            ],
            [
             0.1,
             "#c51b7d"
            ],
            [
             0.2,
             "#de77ae"
            ],
            [
             0.3,
             "#f1b6da"
            ],
            [
             0.4,
             "#fde0ef"
            ],
            [
             0.5,
             "#f7f7f7"
            ],
            [
             0.6,
             "#e6f5d0"
            ],
            [
             0.7,
             "#b8e186"
            ],
            [
             0.8,
             "#7fbc41"
            ],
            [
             0.9,
             "#4d9221"
            ],
            [
             1,
             "#276419"
            ]
           ],
           "sequential": [
            [
             0,
             "#0d0887"
            ],
            [
             0.1111111111111111,
             "#46039f"
            ],
            [
             0.2222222222222222,
             "#7201a8"
            ],
            [
             0.3333333333333333,
             "#9c179e"
            ],
            [
             0.4444444444444444,
             "#bd3786"
            ],
            [
             0.5555555555555556,
             "#d8576b"
            ],
            [
             0.6666666666666666,
             "#ed7953"
            ],
            [
             0.7777777777777778,
             "#fb9f3a"
            ],
            [
             0.8888888888888888,
             "#fdca26"
            ],
            [
             1,
             "#f0f921"
            ]
           ],
           "sequentialminus": [
            [
             0,
             "#0d0887"
            ],
            [
             0.1111111111111111,
             "#46039f"
            ],
            [
             0.2222222222222222,
             "#7201a8"
            ],
            [
             0.3333333333333333,
             "#9c179e"
            ],
            [
             0.4444444444444444,
             "#bd3786"
            ],
            [
             0.5555555555555556,
             "#d8576b"
            ],
            [
             0.6666666666666666,
             "#ed7953"
            ],
            [
             0.7777777777777778,
             "#fb9f3a"
            ],
            [
             0.8888888888888888,
             "#fdca26"
            ],
            [
             1,
             "#f0f921"
            ]
           ]
          },
          "colorway": [
           "#636efa",
           "#EF553B",
           "#00cc96",
           "#ab63fa",
           "#FFA15A",
           "#19d3f3",
           "#FF6692",
           "#B6E880",
           "#FF97FF",
           "#FECB52"
          ],
          "font": {
           "color": "#2a3f5f"
          },
          "geo": {
           "bgcolor": "white",
           "lakecolor": "white",
           "landcolor": "white",
           "showlakes": true,
           "showland": true,
           "subunitcolor": "#C8D4E3"
          },
          "hoverlabel": {
           "align": "left"
          },
          "hovermode": "closest",
          "mapbox": {
           "style": "light"
          },
          "paper_bgcolor": "white",
          "plot_bgcolor": "white",
          "polar": {
           "angularaxis": {
            "gridcolor": "#EBF0F8",
            "linecolor": "#EBF0F8",
            "ticks": ""
           },
           "bgcolor": "white",
           "radialaxis": {
            "gridcolor": "#EBF0F8",
            "linecolor": "#EBF0F8",
            "ticks": ""
           }
          },
          "scene": {
           "xaxis": {
            "backgroundcolor": "white",
            "gridcolor": "#DFE8F3",
            "gridwidth": 2,
            "linecolor": "#EBF0F8",
            "showbackground": true,
            "ticks": "",
            "zerolinecolor": "#EBF0F8"
           },
           "yaxis": {
            "backgroundcolor": "white",
            "gridcolor": "#DFE8F3",
            "gridwidth": 2,
            "linecolor": "#EBF0F8",
            "showbackground": true,
            "ticks": "",
            "zerolinecolor": "#EBF0F8"
           },
           "zaxis": {
            "backgroundcolor": "white",
            "gridcolor": "#DFE8F3",
            "gridwidth": 2,
            "linecolor": "#EBF0F8",
            "showbackground": true,
            "ticks": "",
            "zerolinecolor": "#EBF0F8"
           }
          },
          "shapedefaults": {
           "line": {
            "color": "#2a3f5f"
           }
          },
          "ternary": {
           "aaxis": {
            "gridcolor": "#DFE8F3",
            "linecolor": "#A2B1C6",
            "ticks": ""
           },
           "baxis": {
            "gridcolor": "#DFE8F3",
            "linecolor": "#A2B1C6",
            "ticks": ""
           },
           "bgcolor": "white",
           "caxis": {
            "gridcolor": "#DFE8F3",
            "linecolor": "#A2B1C6",
            "ticks": ""
           }
          },
          "title": {
           "x": 0.05
          },
          "xaxis": {
           "automargin": true,
           "gridcolor": "#EBF0F8",
           "linecolor": "#EBF0F8",
           "ticks": "",
           "title": {
            "standoff": 15
           },
           "zerolinecolor": "#EBF0F8",
           "zerolinewidth": 2
          },
          "yaxis": {
           "automargin": true,
           "gridcolor": "#EBF0F8",
           "linecolor": "#EBF0F8",
           "ticks": "",
           "title": {
            "standoff": 15
           },
           "zerolinecolor": "#EBF0F8",
           "zerolinewidth": 2
          }
         }
        },
        "title": {
         "font": {
          "family": "Times New Roman",
          "size": 20
         },
         "text": "SST"
        },
        "width": 525,
        "xaxis": {
         "showticklabels": false,
         "tickfont": {
          "family": "Times New Roman",
          "size": 20
         },
         "title": {
          "font": {
           "family": "Times New Roman",
           "size": 20
          },
          "text": "Top 12 Models"
         }
        },
        "yaxis": {
         "exponentformat": "E",
         "nticks": 5,
         "tickfont": {
          "family": "Times New Roman",
          "size": 20
         },
         "tickformat": "1.2e",
         "title": {
          "font": {
           "family": "Times New Roman",
           "size": 20
          },
          "text": "Test Loss"
         },
         "type": "log"
        }
       }
      },
      "text/html": [
       "<div>                            <div id=\"db046f37-03f8-4828-bcf5-805491a0e74e\" class=\"plotly-graph-div\" style=\"height:400px; width:525px;\"></div>            <script type=\"text/javascript\">                require([\"plotly\"], function(Plotly) {                    window.PLOTLYENV=window.PLOTLYENV || {};                                    if (document.getElementById(\"db046f37-03f8-4828-bcf5-805491a0e74e\")) {                    Plotly.newPlot(                        \"db046f37-03f8-4828-bcf5-805491a0e74e\",                        [{\"marker\":{\"color\":\"white\",\"line\":{\"color\":\"#5F4690\",\"width\":4},\"size\":12},\"mode\":\"markers\",\"name\":\"LSTM\",\"showlegend\":true,\"type\":\"scatter\",\"x\":[null],\"y\":[null]},{\"marker\":{\"color\":\"white\",\"line\":{\"color\":\"#1D6996\",\"width\":4},\"size\":12},\"mode\":\"markers\",\"name\":\"GRU\",\"showlegend\":true,\"type\":\"scatter\",\"x\":[null],\"y\":[null]},{\"marker\":{\"color\":\"white\",\"line\":{\"color\":\"#38A6A5\",\"width\":4},\"size\":12},\"mode\":\"markers\",\"name\":\"SL-LSTM\",\"showlegend\":true,\"type\":\"scatter\",\"x\":[null],\"y\":[null]},{\"marker\":{\"color\":\"white\",\"line\":{\"color\":\"#0F8554\",\"width\":4},\"size\":12},\"mode\":\"markers\",\"name\":\"SL-GRU\",\"showlegend\":true,\"type\":\"scatter\",\"x\":[null],\"y\":[null]},{\"marker\":{\"color\":\"white\",\"line\":{\"color\":\"#73AF48\",\"width\":4},\"size\":12},\"mode\":\"markers\",\"name\":\"T\",\"showlegend\":true,\"type\":\"scatter\",\"x\":[null],\"y\":[null]},{\"marker\":{\"color\":\"white\",\"line\":{\"color\":\"#EDAD08\",\"width\":4},\"size\":12},\"mode\":\"markers\",\"name\":\"SL-T\",\"showlegend\":true,\"type\":\"scatter\",\"x\":[null],\"y\":[null]},{\"marker\":{\"color\":\"white\",\"line\":{\"color\":\"#E17C05\",\"width\":4},\"size\":12},\"mode\":\"markers\",\"name\":\"SA-T\",\"showlegend\":true,\"type\":\"scatter\",\"x\":[null],\"y\":[null]},{\"marker\":{\"color\":\"white\",\"line\":{\"color\":\"#CC503E\",\"width\":4},\"size\":12},\"mode\":\"markers\",\"name\":\"SASL-T\",\"showlegend\":true,\"type\":\"scatter\",\"x\":[null],\"y\":[null]},{\"marker\":{\"color\":\"#66C5CC\",\"line\":{\"color\":\"white\",\"width\":4},\"size\":12},\"mode\":\"markers\",\"name\":\"MLP\",\"showlegend\":true,\"type\":\"scatter\",\"x\":[null],\"y\":[null]},{\"marker\":{\"color\":\"#F6CF71\",\"line\":{\"color\":\"white\",\"width\":4},\"size\":12},\"mode\":\"markers\",\"name\":\"CNN\",\"showlegend\":true,\"type\":\"scatter\",\"x\":[null],\"y\":[null]},{\"hovertemplate\":\"Encoder: gru (x4)<br>Decoder: unet (x1)<br>LR: 1.00e-03<br>Test Loss: 1.92e-03<br><extra></extra>\",\"marker\":{\"color\":\"#F6CF71\",\"line\":{\"color\":\"#1D6996\",\"width\":4},\"size\":12},\"mode\":\"markers\",\"name\":\"gru-unet\",\"showlegend\":false,\"type\":\"scatter\",\"x\":[1],\"y\":[0.0019156945636495948]},{\"hovertemplate\":\"Encoder: sindy_loss_gru (x3)<br>Decoder: unet (x1)<br>LR: 1.00e-03<br>Test Loss: 1.91e-03<br><extra></extra>\",\"marker\":{\"color\":\"#F6CF71\",\"line\":{\"color\":\"#0F8554\",\"width\":4},\"size\":12},\"mode\":\"markers\",\"name\":\"sindy_loss_gru-unet\",\"showlegend\":false,\"type\":\"scatter\",\"x\":[2],\"y\":[0.0019054472213611007]},{\"hovertemplate\":\"Encoder: gru (x3)<br>Decoder: unet (x1)<br>LR: 1.00e-03<br>Test Loss: 1.88e-03<br><extra></extra>\",\"marker\":{\"color\":\"#F6CF71\",\"line\":{\"color\":\"#1D6996\",\"width\":4},\"size\":12},\"mode\":\"markers\",\"name\":\"gru-unet\",\"showlegend\":false,\"type\":\"scatter\",\"x\":[3],\"y\":[0.0018768220907077193]},{\"hovertemplate\":\"Encoder: gru (x4)<br>Decoder: mlp (x1)<br>LR: 1.00e-03<br>Test Loss: 1.82e-03<br><extra></extra>\",\"marker\":{\"color\":\"#66C5CC\",\"line\":{\"color\":\"#1D6996\",\"width\":4},\"size\":12},\"mode\":\"markers\",\"name\":\"gru-mlp\",\"showlegend\":false,\"type\":\"scatter\",\"x\":[4],\"y\":[0.00181683583650738]},{\"hovertemplate\":\"Encoder: gru (x3)<br>Decoder: mlp (x1)<br>LR: 1.00e-03<br>Test Loss: 1.81e-03<br><extra></extra>\",\"marker\":{\"color\":\"#66C5CC\",\"line\":{\"color\":\"#1D6996\",\"width\":4},\"size\":12},\"mode\":\"markers\",\"name\":\"gru-mlp\",\"showlegend\":false,\"type\":\"scatter\",\"x\":[5],\"y\":[0.0018108212389051914]},{\"hovertemplate\":\"Encoder: sindy_loss_gru (x3)<br>Decoder: mlp (x1)<br>LR: 1.00e-03<br>Test Loss: 1.78e-03<br><extra></extra>\",\"marker\":{\"color\":\"#66C5CC\",\"line\":{\"color\":\"#0F8554\",\"width\":4},\"size\":12},\"mode\":\"markers\",\"name\":\"sindy_loss_gru-mlp\",\"showlegend\":false,\"type\":\"scatter\",\"x\":[6],\"y\":[0.001779577462002635]},{\"hovertemplate\":\"Encoder: gru (x2)<br>Decoder: unet (x1)<br>LR: 1.00e-03<br>Test Loss: 1.76e-03<br><extra></extra>\",\"marker\":{\"color\":\"#F6CF71\",\"line\":{\"color\":\"#1D6996\",\"width\":4},\"size\":12},\"mode\":\"markers\",\"name\":\"gru-unet\",\"showlegend\":false,\"type\":\"scatter\",\"x\":[7],\"y\":[0.0017623178428038955]},{\"hovertemplate\":\"Encoder: gru (x1)<br>Decoder: mlp (x1)<br>LR: 1.00e-02<br>Test Loss: 1.74e-03<br><extra></extra>\",\"marker\":{\"color\":\"#66C5CC\",\"line\":{\"color\":\"#1D6996\",\"width\":4},\"size\":12},\"mode\":\"markers\",\"name\":\"gru-mlp\",\"showlegend\":false,\"type\":\"scatter\",\"x\":[8],\"y\":[0.0017446335405111313]},{\"hovertemplate\":\"Encoder: vanilla_transformer (x1)<br>Decoder: unet (x1)<br>LR: 1.00e-02<br>Test Loss: 1.74e-03<br><extra></extra>\",\"marker\":{\"color\":\"#F6CF71\",\"line\":{\"color\":\"#73AF48\",\"width\":4},\"size\":12},\"mode\":\"markers\",\"name\":\"vanilla_transformer-unet\",\"showlegend\":false,\"type\":\"scatter\",\"x\":[9],\"y\":[0.0017366006504744291]},{\"hovertemplate\":\"Encoder: gru (x2)<br>Decoder: mlp (x1)<br>LR: 1.00e-03<br>Test Loss: 1.72e-03<br><extra></extra>\",\"marker\":{\"color\":\"#66C5CC\",\"line\":{\"color\":\"#1D6996\",\"width\":4},\"size\":12},\"mode\":\"markers\",\"name\":\"gru-mlp\",\"showlegend\":false,\"type\":\"scatter\",\"x\":[10],\"y\":[0.0017194137908518314]},{\"hovertemplate\":\"Encoder: sindy_attention_transformer (x1)<br>Decoder: unet (x1)<br>LR: 1.00e-02<br>Test Loss: 1.67e-03<br><extra></extra>\",\"marker\":{\"color\":\"#F6CF71\",\"line\":{\"color\":\"#E17C05\",\"width\":4},\"size\":12},\"mode\":\"markers\",\"name\":\"sindy_attention_transformer-unet\",\"showlegend\":false,\"type\":\"scatter\",\"x\":[11],\"y\":[0.0016737185651436448]},{\"hovertemplate\":\"Encoder: gru (x1)<br>Decoder: unet (x1)<br>LR: 1.00e-02<br>Test Loss: 1.47e-03<br><extra></extra>\",\"marker\":{\"color\":\"#F6CF71\",\"line\":{\"color\":\"#1D6996\",\"width\":4},\"size\":12},\"mode\":\"markers\",\"name\":\"gru-unet\",\"showlegend\":false,\"type\":\"scatter\",\"x\":[12],\"y\":[0.0014724985230714083]}],                        {\"font\":{\"family\":\"Times New Roman\"},\"height\":400,\"hovermode\":\"closest\",\"legend\":{\"font\":{\"family\":\"Times New Roman\",\"size\":20},\"title\":{\"font\":{\"family\":\"Times New Roman\",\"size\":20},\"text\":\"Legend\"}},\"showlegend\":true,\"template\":{\"data\":{\"bar\":[{\"error_x\":{\"color\":\"#2a3f5f\"},\"error_y\":{\"color\":\"#2a3f5f\"},\"marker\":{\"line\":{\"color\":\"white\",\"width\":0.5},\"pattern\":{\"fillmode\":\"overlay\",\"size\":10,\"solidity\":0.2}},\"type\":\"bar\"}],\"barpolar\":[{\"marker\":{\"line\":{\"color\":\"white\",\"width\":0.5},\"pattern\":{\"fillmode\":\"overlay\",\"size\":10,\"solidity\":0.2}},\"type\":\"barpolar\"}],\"carpet\":[{\"aaxis\":{\"endlinecolor\":\"#2a3f5f\",\"gridcolor\":\"#C8D4E3\",\"linecolor\":\"#C8D4E3\",\"minorgridcolor\":\"#C8D4E3\",\"startlinecolor\":\"#2a3f5f\"},\"baxis\":{\"endlinecolor\":\"#2a3f5f\",\"gridcolor\":\"#C8D4E3\",\"linecolor\":\"#C8D4E3\",\"minorgridcolor\":\"#C8D4E3\",\"startlinecolor\":\"#2a3f5f\"},\"type\":\"carpet\"}],\"choropleth\":[{\"colorbar\":{\"outlinewidth\":0,\"ticks\":\"\"},\"type\":\"choropleth\"}],\"contour\":[{\"colorbar\":{\"outlinewidth\":0,\"ticks\":\"\"},\"colorscale\":[[0.0,\"#0d0887\"],[0.1111111111111111,\"#46039f\"],[0.2222222222222222,\"#7201a8\"],[0.3333333333333333,\"#9c179e\"],[0.4444444444444444,\"#bd3786\"],[0.5555555555555556,\"#d8576b\"],[0.6666666666666666,\"#ed7953\"],[0.7777777777777778,\"#fb9f3a\"],[0.8888888888888888,\"#fdca26\"],[1.0,\"#f0f921\"]],\"type\":\"contour\"}],\"contourcarpet\":[{\"colorbar\":{\"outlinewidth\":0,\"ticks\":\"\"},\"type\":\"contourcarpet\"}],\"heatmap\":[{\"colorbar\":{\"outlinewidth\":0,\"ticks\":\"\"},\"colorscale\":[[0.0,\"#0d0887\"],[0.1111111111111111,\"#46039f\"],[0.2222222222222222,\"#7201a8\"],[0.3333333333333333,\"#9c179e\"],[0.4444444444444444,\"#bd3786\"],[0.5555555555555556,\"#d8576b\"],[0.6666666666666666,\"#ed7953\"],[0.7777777777777778,\"#fb9f3a\"],[0.8888888888888888,\"#fdca26\"],[1.0,\"#f0f921\"]],\"type\":\"heatmap\"}],\"heatmapgl\":[{\"colorbar\":{\"outlinewidth\":0,\"ticks\":\"\"},\"colorscale\":[[0.0,\"#0d0887\"],[0.1111111111111111,\"#46039f\"],[0.2222222222222222,\"#7201a8\"],[0.3333333333333333,\"#9c179e\"],[0.4444444444444444,\"#bd3786\"],[0.5555555555555556,\"#d8576b\"],[0.6666666666666666,\"#ed7953\"],[0.7777777777777778,\"#fb9f3a\"],[0.8888888888888888,\"#fdca26\"],[1.0,\"#f0f921\"]],\"type\":\"heatmapgl\"}],\"histogram\":[{\"marker\":{\"pattern\":{\"fillmode\":\"overlay\",\"size\":10,\"solidity\":0.2}},\"type\":\"histogram\"}],\"histogram2d\":[{\"colorbar\":{\"outlinewidth\":0,\"ticks\":\"\"},\"colorscale\":[[0.0,\"#0d0887\"],[0.1111111111111111,\"#46039f\"],[0.2222222222222222,\"#7201a8\"],[0.3333333333333333,\"#9c179e\"],[0.4444444444444444,\"#bd3786\"],[0.5555555555555556,\"#d8576b\"],[0.6666666666666666,\"#ed7953\"],[0.7777777777777778,\"#fb9f3a\"],[0.8888888888888888,\"#fdca26\"],[1.0,\"#f0f921\"]],\"type\":\"histogram2d\"}],\"histogram2dcontour\":[{\"colorbar\":{\"outlinewidth\":0,\"ticks\":\"\"},\"colorscale\":[[0.0,\"#0d0887\"],[0.1111111111111111,\"#46039f\"],[0.2222222222222222,\"#7201a8\"],[0.3333333333333333,\"#9c179e\"],[0.4444444444444444,\"#bd3786\"],[0.5555555555555556,\"#d8576b\"],[0.6666666666666666,\"#ed7953\"],[0.7777777777777778,\"#fb9f3a\"],[0.8888888888888888,\"#fdca26\"],[1.0,\"#f0f921\"]],\"type\":\"histogram2dcontour\"}],\"mesh3d\":[{\"colorbar\":{\"outlinewidth\":0,\"ticks\":\"\"},\"type\":\"mesh3d\"}],\"parcoords\":[{\"line\":{\"colorbar\":{\"outlinewidth\":0,\"ticks\":\"\"}},\"type\":\"parcoords\"}],\"pie\":[{\"automargin\":true,\"type\":\"pie\"}],\"scatter\":[{\"marker\":{\"colorbar\":{\"outlinewidth\":0,\"ticks\":\"\"}},\"type\":\"scatter\"}],\"scatter3d\":[{\"line\":{\"colorbar\":{\"outlinewidth\":0,\"ticks\":\"\"}},\"marker\":{\"colorbar\":{\"outlinewidth\":0,\"ticks\":\"\"}},\"type\":\"scatter3d\"}],\"scattercarpet\":[{\"marker\":{\"colorbar\":{\"outlinewidth\":0,\"ticks\":\"\"}},\"type\":\"scattercarpet\"}],\"scattergeo\":[{\"marker\":{\"colorbar\":{\"outlinewidth\":0,\"ticks\":\"\"}},\"type\":\"scattergeo\"}],\"scattergl\":[{\"marker\":{\"colorbar\":{\"outlinewidth\":0,\"ticks\":\"\"}},\"type\":\"scattergl\"}],\"scattermapbox\":[{\"marker\":{\"colorbar\":{\"outlinewidth\":0,\"ticks\":\"\"}},\"type\":\"scattermapbox\"}],\"scatterpolar\":[{\"marker\":{\"colorbar\":{\"outlinewidth\":0,\"ticks\":\"\"}},\"type\":\"scatterpolar\"}],\"scatterpolargl\":[{\"marker\":{\"colorbar\":{\"outlinewidth\":0,\"ticks\":\"\"}},\"type\":\"scatterpolargl\"}],\"scatterternary\":[{\"marker\":{\"colorbar\":{\"outlinewidth\":0,\"ticks\":\"\"}},\"type\":\"scatterternary\"}],\"surface\":[{\"colorbar\":{\"outlinewidth\":0,\"ticks\":\"\"},\"colorscale\":[[0.0,\"#0d0887\"],[0.1111111111111111,\"#46039f\"],[0.2222222222222222,\"#7201a8\"],[0.3333333333333333,\"#9c179e\"],[0.4444444444444444,\"#bd3786\"],[0.5555555555555556,\"#d8576b\"],[0.6666666666666666,\"#ed7953\"],[0.7777777777777778,\"#fb9f3a\"],[0.8888888888888888,\"#fdca26\"],[1.0,\"#f0f921\"]],\"type\":\"surface\"}],\"table\":[{\"cells\":{\"fill\":{\"color\":\"#EBF0F8\"},\"line\":{\"color\":\"white\"}},\"header\":{\"fill\":{\"color\":\"#C8D4E3\"},\"line\":{\"color\":\"white\"}},\"type\":\"table\"}]},\"layout\":{\"annotationdefaults\":{\"arrowcolor\":\"#2a3f5f\",\"arrowhead\":0,\"arrowwidth\":1},\"autotypenumbers\":\"strict\",\"coloraxis\":{\"colorbar\":{\"outlinewidth\":0,\"ticks\":\"\"}},\"colorscale\":{\"diverging\":[[0,\"#8e0152\"],[0.1,\"#c51b7d\"],[0.2,\"#de77ae\"],[0.3,\"#f1b6da\"],[0.4,\"#fde0ef\"],[0.5,\"#f7f7f7\"],[0.6,\"#e6f5d0\"],[0.7,\"#b8e186\"],[0.8,\"#7fbc41\"],[0.9,\"#4d9221\"],[1,\"#276419\"]],\"sequential\":[[0.0,\"#0d0887\"],[0.1111111111111111,\"#46039f\"],[0.2222222222222222,\"#7201a8\"],[0.3333333333333333,\"#9c179e\"],[0.4444444444444444,\"#bd3786\"],[0.5555555555555556,\"#d8576b\"],[0.6666666666666666,\"#ed7953\"],[0.7777777777777778,\"#fb9f3a\"],[0.8888888888888888,\"#fdca26\"],[1.0,\"#f0f921\"]],\"sequentialminus\":[[0.0,\"#0d0887\"],[0.1111111111111111,\"#46039f\"],[0.2222222222222222,\"#7201a8\"],[0.3333333333333333,\"#9c179e\"],[0.4444444444444444,\"#bd3786\"],[0.5555555555555556,\"#d8576b\"],[0.6666666666666666,\"#ed7953\"],[0.7777777777777778,\"#fb9f3a\"],[0.8888888888888888,\"#fdca26\"],[1.0,\"#f0f921\"]]},\"colorway\":[\"#636efa\",\"#EF553B\",\"#00cc96\",\"#ab63fa\",\"#FFA15A\",\"#19d3f3\",\"#FF6692\",\"#B6E880\",\"#FF97FF\",\"#FECB52\"],\"font\":{\"color\":\"#2a3f5f\"},\"geo\":{\"bgcolor\":\"white\",\"lakecolor\":\"white\",\"landcolor\":\"white\",\"showlakes\":true,\"showland\":true,\"subunitcolor\":\"#C8D4E3\"},\"hoverlabel\":{\"align\":\"left\"},\"hovermode\":\"closest\",\"mapbox\":{\"style\":\"light\"},\"paper_bgcolor\":\"white\",\"plot_bgcolor\":\"white\",\"polar\":{\"angularaxis\":{\"gridcolor\":\"#EBF0F8\",\"linecolor\":\"#EBF0F8\",\"ticks\":\"\"},\"bgcolor\":\"white\",\"radialaxis\":{\"gridcolor\":\"#EBF0F8\",\"linecolor\":\"#EBF0F8\",\"ticks\":\"\"}},\"scene\":{\"xaxis\":{\"backgroundcolor\":\"white\",\"gridcolor\":\"#DFE8F3\",\"gridwidth\":2,\"linecolor\":\"#EBF0F8\",\"showbackground\":true,\"ticks\":\"\",\"zerolinecolor\":\"#EBF0F8\"},\"yaxis\":{\"backgroundcolor\":\"white\",\"gridcolor\":\"#DFE8F3\",\"gridwidth\":2,\"linecolor\":\"#EBF0F8\",\"showbackground\":true,\"ticks\":\"\",\"zerolinecolor\":\"#EBF0F8\"},\"zaxis\":{\"backgroundcolor\":\"white\",\"gridcolor\":\"#DFE8F3\",\"gridwidth\":2,\"linecolor\":\"#EBF0F8\",\"showbackground\":true,\"ticks\":\"\",\"zerolinecolor\":\"#EBF0F8\"}},\"shapedefaults\":{\"line\":{\"color\":\"#2a3f5f\"}},\"ternary\":{\"aaxis\":{\"gridcolor\":\"#DFE8F3\",\"linecolor\":\"#A2B1C6\",\"ticks\":\"\"},\"baxis\":{\"gridcolor\":\"#DFE8F3\",\"linecolor\":\"#A2B1C6\",\"ticks\":\"\"},\"bgcolor\":\"white\",\"caxis\":{\"gridcolor\":\"#DFE8F3\",\"linecolor\":\"#A2B1C6\",\"ticks\":\"\"}},\"title\":{\"x\":0.05},\"xaxis\":{\"automargin\":true,\"gridcolor\":\"#EBF0F8\",\"linecolor\":\"#EBF0F8\",\"ticks\":\"\",\"title\":{\"standoff\":15},\"zerolinecolor\":\"#EBF0F8\",\"zerolinewidth\":2},\"yaxis\":{\"automargin\":true,\"gridcolor\":\"#EBF0F8\",\"linecolor\":\"#EBF0F8\",\"ticks\":\"\",\"title\":{\"standoff\":15},\"zerolinecolor\":\"#EBF0F8\",\"zerolinewidth\":2}}},\"title\":{\"font\":{\"family\":\"Times New Roman\",\"size\":20},\"text\":\"SST\"},\"width\":525,\"xaxis\":{\"showticklabels\":false,\"tickfont\":{\"family\":\"Times New Roman\",\"size\":20},\"title\":{\"font\":{\"family\":\"Times New Roman\",\"size\":20},\"text\":\"Top 12 Models\"}},\"yaxis\":{\"exponentformat\":\"E\",\"nticks\":5,\"tickfont\":{\"family\":\"Times New Roman\",\"size\":20},\"tickformat\":\"1.2e\",\"title\":{\"font\":{\"family\":\"Times New Roman\",\"size\":20},\"text\":\"Test Loss\"},\"type\":\"log\"}},                        {\"responsive\": true}                    ).then(function(){\n",
       "                            \n",
       "var gd = document.getElementById('db046f37-03f8-4828-bcf5-805491a0e74e');\n",
       "var x = new MutationObserver(function (mutations, observer) {{\n",
       "        var display = window.getComputedStyle(gd).display;\n",
       "        if (!display || display === 'none') {{\n",
       "            console.log([gd, 'removed!']);\n",
       "            Plotly.purge(gd);\n",
       "            observer.disconnect();\n",
       "        }}\n",
       "}});\n",
       "\n",
       "// Listen for the removal of the full notebook cells\n",
       "var notebookContainer = gd.closest('#notebook-container');\n",
       "if (notebookContainer) {{\n",
       "    x.observe(notebookContainer, {childList: true});\n",
       "}}\n",
       "\n",
       "// Listen for the clearing of the current output cell\n",
       "var outputEl = gd.closest('.output');\n",
       "if (outputEl) {{\n",
       "    x.observe(outputEl, {childList: true});\n",
       "}}\n",
       "\n",
       "                        })                };                });            </script>        </div>"
      ]
     },
     "metadata": {},
     "output_type": "display_data"
    },
    {
     "name": "stdout",
     "output_type": "stream",
     "text": [
      "[('lstm_unet_plasma_e3_d1_lr1.00e-02_p1.pkl', {'test_loss': 0.0004636579687939957, 'start_epoch': 97, 'best_val': 0.0005385390541050583, 'best_epoch': 97, 'train_losses': [0.0074916467464600615, 0.0009504193126653823, 0.0006071071167333195, 0.0005124679256158953, 0.0004871508505087919, 0.0004825130476652143, 0.00047481054878936935, 0.000478632918272454, 0.00047608839052442747, 0.00047263418449662055, 0.0004700831554006212, 0.0004714863921085802, 0.00047339061319899675, 0.00047511756509685744, 0.0004733269384954698, 0.00047332813175251853, 0.0004703080160722423, 0.000473937512232134, 0.0004707753810530099, 0.0004717185354540841, 0.0004739120575742653, 0.0004749729123432189, 0.0004710283090109722, 0.00047281225516389194, 0.00047534062356974644, 0.0004755888590947367, 0.00047235457056488556, 0.0004736566110155903, 0.00047241051932080434, 0.0004715589300478594, 0.0004715936889764495, 0.0004741584192603253, 0.0004760962284098451, 0.000470003733286061, 0.00047491695687103155, 0.0004724907675363983, 0.0004726084768593025, 0.0004717549130033988, 0.00046918333212558465, 0.00047071929573296354, 0.0004713951896589536, 0.0004736696181890483, 0.00046747090975539043, 0.0004700696691333388, 0.00046922971243755176, 0.0004655387422714669, 0.00046774616035131307, 0.00046509768715343223, 0.0004644380354035932, 0.00046393038624396117, 0.0004605484472659345, 0.00046051217717691685, 0.0004611538136557031, 0.0004615042036255965, 0.0004609076445026753, 0.0004601003848410283, 0.0004603819599231848, 0.00046006520502627467, 0.00046391838651078823, 0.00046148637417130743, 0.0004611704498529434, 0.00045968669403989153, 0.00046039717227148893, 0.00045887358226956654, 0.000457370342561402, 0.0004581557362913512, 0.0004553577567164141, 0.00046033427441635955, 0.00045999741996638477, 0.00045414890001456323, 0.00045934301809980895, 0.00045788704077354993, 0.0004566920621213145, 0.0004631386456402162, 0.0004574322889451511, 0.0004570558129881437, 0.00045843057047862274, 0.00045783330166998965, 0.00045670392976787227, 0.000458759813157555, 0.0004580841744497705, 0.0004572410230489018, 0.00045840633594287705, 0.0004555698654327828, 0.00045487211453011975, 0.0004522488743532449, 0.0004560958947807264, 0.0004493685018342848, 0.00045110924894778203, 0.00044919315797205153, 0.00044612072927590745, 0.0004471858264878392, 0.00044669488740440173, 0.0004505904955574526, 0.00044500233175662847, 0.0004464615172205063, 0.00044601692710644926], 'val_losses': [0.0011489252792671323, 0.0007431728881783783, 0.000604573986493051, 0.0005862420366611332, 0.0005788183480035514, 0.0005763641383964568, 0.0005737734900321811, 0.0005761661159340292, 0.0005765715322922915, 0.0005726323288399726, 0.0005761339270975441, 0.0005725750816054642, 0.0005764848901890218, 0.0005761001084465533, 0.0005779314378742129, 0.0005752243159804493, 0.0005754297890234739, 0.0005747581599280238, 0.0005776663310825825, 0.000572033430216834, 0.0005756540631409734, 0.0005742306530009955, 0.0005753578734584153, 0.0005735410668421537, 0.0005782833613920957, 0.0005740043125115335, 0.0005784976237919182, 0.0005763299996033311, 0.0005758721963502467, 0.0005730294797103852, 0.0005762519722338766, 0.0005755246675107628, 0.0005759595369454473, 0.0005745504749938846, 0.000573858356801793, 0.0005773346056230366, 0.000574877398321405, 0.0005727380339521915, 0.0005758963234256953, 0.000573405617615208, 0.0005762670189142227, 0.0005766229005530477, 0.0005732580029871315, 0.0005731973506044596, 0.0005715618608519435, 0.000569525669561699, 0.0005716116866096854, 0.0005685753421857953, 0.0005697066953871399, 0.0005683918425347656, 0.0005636329879052937, 0.0005624645273201168, 0.0005671738472301513, 0.0005717719905078411, 0.0005608208302874118, 0.0005636711430270225, 0.0005629677034448832, 0.0005667005316354334, 0.0005643903277814388, 0.000569508847547695, 0.0005644990596920252, 0.000563072768272832, 0.0005617015995085239, 0.0005592288798652589, 0.0005632405809592456, 0.0005627057107631117, 0.0005614640249405056, 0.0005645605269819498, 0.0005664623458869755, 0.00056637660600245, 0.0005680200702045113, 0.0005615539266727865, 0.0005614390247501433, 0.0005653266853187233, 0.000560187385417521, 0.0005585766048170626, 0.0005606246995739639, 0.0005624231416732073, 0.0005625177582260221, 0.000560749031137675, 0.0005586261104326695, 0.0005657314031850547, 0.0005607641360256821, 0.0005588393833022565, 0.0005542207218240947, 0.0005571984511334449, 0.0005517637764569372, 0.0005484806024469435, 0.0005485666624736041, 0.0005451174802146852, 0.0005465639987960458, 0.0005452460900414735, 0.0005491912015713751, 0.0005478952953126281, 0.0005500423430930823, 0.0005400619993451983, 0.0005385390541050583], 'sensors': [(197, 215), (20, 132), (248, 207), (155, 244), (183, 111), (71, 144), (71, 48), (128, 75), (158, 50), (37, 169), (241, 51), (181, 222), (161, 104), (244, 226), (133, 31), (7, 47), (204, 0), (252, 170), (124, 166), (32, 97), (113, 122), (72, 229), (46, 41), (163, 250), (55, 154), (149, 63), (170, 104), (147, 227), (46, 197), (162, 123), (148, 94), (96, 95), (16, 133), (243, 35), (45, 66), (76, 19), (41, 200), (141, 120), (110, 214), (140, 230), (252, 182), (42, 166), (59, 249), (171, 97), (124, 8), (138, 59), (112, 190), (87, 170), (218, 31), (51, 74)], 'hyperparameters': {'batch_size': 128, 'dataset': 'plasma', 'decoder': 'unet', 'decoder_depth': 1, 'device': 'cuda:0', 'dropout': 0.1, 'dt': 1.0, 'early_stop': 20, 'encoder': 'lstm', 'eval_full': False, 'encoder_depth': 3, 'epochs': 100, 'hidden_size': 6, 'generate_test_plots': True, 'generate_training_plots': False, 'include_sine': False, 'lr': 0.01, 'n_heads': 2, 'n_sensors': 50, 'n_well_tracks': 10, 'poly_order': 1, 'save_every_n_epochs': 10, 'sindy_attention_threshold': 0.05, 'sindy_attention_threshold_epoch': 10, 'sindy_attention_weight': 0.0, 'sindy_loss_threshold': 0.05, 'sindy_loss_weight': 100, 'skip_load_checkpoint': False, 'verbose': False, 'window_length': 50, 'd_data_in': 1, 'data_rows_in': 257, 'data_cols_in': 256, 'd_data_out': 1, 'data_rows_out': 1, 'data_cols_out': 280, 'd_model': 50, 'dim_feedforward': 24, 'output_size': 280, 'latest_checkpoint_path': PosixPath('/app/code/checkpoints/lstm_unet_plasma_e3_d1_lr1.00e-02_p1_model_latest.pt'), 'best_checkpoint_path': PosixPath('/app/code/checkpoints/lstm_unet_plasma_e3_d1_lr1.00e-02_p1_model_best.pt')}})]\n",
      "Saved /home/alexey/Research4/T-SHRED/figures/plasma_scatter.pdf\n"
     ]
    },
    {
     "data": {
      "application/vnd.plotly.v1+json": {
       "config": {
        "plotlyServerURL": "https://plot.ly"
       },
       "data": [
        {
         "marker": {
          "color": "white",
          "line": {
           "color": "#5F4690",
           "width": 4
          },
          "size": 12
         },
         "mode": "markers",
         "name": "LSTM",
         "showlegend": true,
         "type": "scatter",
         "x": [
          null
         ],
         "y": [
          null
         ]
        },
        {
         "marker": {
          "color": "white",
          "line": {
           "color": "#1D6996",
           "width": 4
          },
          "size": 12
         },
         "mode": "markers",
         "name": "GRU",
         "showlegend": true,
         "type": "scatter",
         "x": [
          null
         ],
         "y": [
          null
         ]
        },
        {
         "marker": {
          "color": "white",
          "line": {
           "color": "#38A6A5",
           "width": 4
          },
          "size": 12
         },
         "mode": "markers",
         "name": "SL-LSTM",
         "showlegend": true,
         "type": "scatter",
         "x": [
          null
         ],
         "y": [
          null
         ]
        },
        {
         "marker": {
          "color": "white",
          "line": {
           "color": "#0F8554",
           "width": 4
          },
          "size": 12
         },
         "mode": "markers",
         "name": "SL-GRU",
         "showlegend": true,
         "type": "scatter",
         "x": [
          null
         ],
         "y": [
          null
         ]
        },
        {
         "marker": {
          "color": "white",
          "line": {
           "color": "#73AF48",
           "width": 4
          },
          "size": 12
         },
         "mode": "markers",
         "name": "T",
         "showlegend": true,
         "type": "scatter",
         "x": [
          null
         ],
         "y": [
          null
         ]
        },
        {
         "marker": {
          "color": "white",
          "line": {
           "color": "#EDAD08",
           "width": 4
          },
          "size": 12
         },
         "mode": "markers",
         "name": "SL-T",
         "showlegend": true,
         "type": "scatter",
         "x": [
          null
         ],
         "y": [
          null
         ]
        },
        {
         "marker": {
          "color": "white",
          "line": {
           "color": "#E17C05",
           "width": 4
          },
          "size": 12
         },
         "mode": "markers",
         "name": "SA-T",
         "showlegend": true,
         "type": "scatter",
         "x": [
          null
         ],
         "y": [
          null
         ]
        },
        {
         "marker": {
          "color": "white",
          "line": {
           "color": "#CC503E",
           "width": 4
          },
          "size": 12
         },
         "mode": "markers",
         "name": "SASL-T",
         "showlegend": true,
         "type": "scatter",
         "x": [
          null
         ],
         "y": [
          null
         ]
        },
        {
         "marker": {
          "color": "#66C5CC",
          "line": {
           "color": "white",
           "width": 4
          },
          "size": 12
         },
         "mode": "markers",
         "name": "MLP",
         "showlegend": true,
         "type": "scatter",
         "x": [
          null
         ],
         "y": [
          null
         ]
        },
        {
         "marker": {
          "color": "#F6CF71",
          "line": {
           "color": "white",
           "width": 4
          },
          "size": 12
         },
         "mode": "markers",
         "name": "CNN",
         "showlegend": true,
         "type": "scatter",
         "x": [
          null
         ],
         "y": [
          null
         ]
        },
        {
         "hovertemplate": "Encoder: gru (x1)<br>Decoder: mlp (x1)<br>LR: 1.00e-02<br>Test Loss: 4.99e-04<br><extra></extra>",
         "marker": {
          "color": "#66C5CC",
          "line": {
           "color": "#1D6996",
           "width": 4
          },
          "size": 12
         },
         "mode": "markers",
         "name": "gru-mlp",
         "showlegend": false,
         "type": "scatter",
         "x": [
          1
         ],
         "y": [
          0.0004987309075659141
         ]
        },
        {
         "hovertemplate": "Encoder: sindy_attention_transformer (x2)<br>Decoder: unet (x1)<br>LR: 1.00e-03<br>Test Loss: 4.99e-04<br><extra></extra>",
         "marker": {
          "color": "#F6CF71",
          "line": {
           "color": "#E17C05",
           "width": 4
          },
          "size": 12
         },
         "mode": "markers",
         "name": "sindy_attention_transformer-unet",
         "showlegend": false,
         "type": "scatter",
         "x": [
          2
         ],
         "y": [
          0.0004986255953554064
         ]
        },
        {
         "hovertemplate": "Encoder: gru (x4)<br>Decoder: unet (x1)<br>LR: 1.00e-03<br>Test Loss: 4.98e-04<br><extra></extra>",
         "marker": {
          "color": "#F6CF71",
          "line": {
           "color": "#1D6996",
           "width": 4
          },
          "size": 12
         },
         "mode": "markers",
         "name": "gru-unet",
         "showlegend": false,
         "type": "scatter",
         "x": [
          3
         ],
         "y": [
          0.0004984966944903135
         ]
        },
        {
         "hovertemplate": "Encoder: sindy_attention_sindy_loss_transformer (x3)<br>Decoder: unet (x1)<br>LR: 1.00e-03<br>Test Loss: 4.98e-04<br><extra></extra>",
         "marker": {
          "color": "#F6CF71",
          "line": {
           "color": "#CC503E",
           "width": 4
          },
          "size": 12
         },
         "mode": "markers",
         "name": "sindy_attention_sindy_loss_transformer-unet",
         "showlegend": false,
         "type": "scatter",
         "x": [
          4
         ],
         "y": [
          0.000498331879498437
         ]
        },
        {
         "hovertemplate": "Encoder: sindy_attention_sindy_loss_transformer (x2)<br>Decoder: unet (x1)<br>LR: 1.00e-03<br>Test Loss: 4.98e-04<br><extra></extra>",
         "marker": {
          "color": "#F6CF71",
          "line": {
           "color": "#CC503E",
           "width": 4
          },
          "size": 12
         },
         "mode": "markers",
         "name": "sindy_attention_sindy_loss_transformer-unet",
         "showlegend": false,
         "type": "scatter",
         "x": [
          5
         ],
         "y": [
          0.0004981944657629356
         ]
        },
        {
         "hovertemplate": "Encoder: lstm (x2)<br>Decoder: unet (x1)<br>LR: 1.00e-03<br>Test Loss: 4.98e-04<br><extra></extra>",
         "marker": {
          "color": "#F6CF71",
          "line": {
           "color": "#5F4690",
           "width": 4
          },
          "size": 12
         },
         "mode": "markers",
         "name": "lstm-unet",
         "showlegend": false,
         "type": "scatter",
         "x": [
          6
         ],
         "y": [
          0.0004978315118933097
         ]
        },
        {
         "hovertemplate": "Encoder: lstm (x4)<br>Decoder: unet (x1)<br>LR: 1.00e-02<br>Test Loss: 4.91e-04<br><extra></extra>",
         "marker": {
          "color": "#F6CF71",
          "line": {
           "color": "#5F4690",
           "width": 4
          },
          "size": 12
         },
         "mode": "markers",
         "name": "lstm-unet",
         "showlegend": false,
         "type": "scatter",
         "x": [
          7
         ],
         "y": [
          0.0004909959970973432
         ]
        },
        {
         "hovertemplate": "Encoder: lstm (x2)<br>Decoder: unet (x1)<br>LR: 1.00e-02<br>Test Loss: 4.86e-04<br><extra></extra>",
         "marker": {
          "color": "#F6CF71",
          "line": {
           "color": "#5F4690",
           "width": 4
          },
          "size": 12
         },
         "mode": "markers",
         "name": "lstm-unet",
         "showlegend": false,
         "type": "scatter",
         "x": [
          8
         ],
         "y": [
          0.0004862084169872105
         ]
        },
        {
         "hovertemplate": "Encoder: gru (x2)<br>Decoder: unet (x1)<br>LR: 1.00e-02<br>Test Loss: 4.83e-04<br><extra></extra>",
         "marker": {
          "color": "#F6CF71",
          "line": {
           "color": "#1D6996",
           "width": 4
          },
          "size": 12
         },
         "mode": "markers",
         "name": "gru-unet",
         "showlegend": false,
         "type": "scatter",
         "x": [
          9
         ],
         "y": [
          0.00048313059960491955
         ]
        },
        {
         "hovertemplate": "Encoder: gru (x3)<br>Decoder: unet (x1)<br>LR: 1.00e-02<br>Test Loss: 4.83e-04<br><extra></extra>",
         "marker": {
          "color": "#F6CF71",
          "line": {
           "color": "#1D6996",
           "width": 4
          },
          "size": 12
         },
         "mode": "markers",
         "name": "gru-unet",
         "showlegend": false,
         "type": "scatter",
         "x": [
          10
         ],
         "y": [
          0.0004828338715014979
         ]
        },
        {
         "hovertemplate": "Encoder: gru (x4)<br>Decoder: unet (x1)<br>LR: 1.00e-02<br>Test Loss: 4.73e-04<br><extra></extra>",
         "marker": {
          "color": "#F6CF71",
          "line": {
           "color": "#1D6996",
           "width": 4
          },
          "size": 12
         },
         "mode": "markers",
         "name": "gru-unet",
         "showlegend": false,
         "type": "scatter",
         "x": [
          11
         ],
         "y": [
          0.00047302350867539644
         ]
        },
        {
         "hovertemplate": "Encoder: lstm (x3)<br>Decoder: unet (x1)<br>LR: 1.00e-02<br>Test Loss: 4.64e-04<br><extra></extra>",
         "marker": {
          "color": "#F6CF71",
          "line": {
           "color": "#5F4690",
           "width": 4
          },
          "size": 12
         },
         "mode": "markers",
         "name": "lstm-unet",
         "showlegend": false,
         "type": "scatter",
         "x": [
          12
         ],
         "y": [
          0.0004636579687939957
         ]
        }
       ],
       "layout": {
        "font": {
         "family": "Times New Roman"
        },
        "height": 400,
        "hovermode": "closest",
        "legend": {
         "font": {
          "family": "Times New Roman",
          "size": 20
         },
         "title": {
          "font": {
           "family": "Times New Roman",
           "size": 20
          },
          "text": "Legend"
         }
        },
        "showlegend": true,
        "template": {
         "data": {
          "bar": [
           {
            "error_x": {
             "color": "#2a3f5f"
            },
            "error_y": {
             "color": "#2a3f5f"
            },
            "marker": {
             "line": {
              "color": "white",
              "width": 0.5
             },
             "pattern": {
              "fillmode": "overlay",
              "size": 10,
              "solidity": 0.2
             }
            },
            "type": "bar"
           }
          ],
          "barpolar": [
           {
            "marker": {
             "line": {
              "color": "white",
              "width": 0.5
             },
             "pattern": {
              "fillmode": "overlay",
              "size": 10,
              "solidity": 0.2
             }
            },
            "type": "barpolar"
           }
          ],
          "carpet": [
           {
            "aaxis": {
             "endlinecolor": "#2a3f5f",
             "gridcolor": "#C8D4E3",
             "linecolor": "#C8D4E3",
             "minorgridcolor": "#C8D4E3",
             "startlinecolor": "#2a3f5f"
            },
            "baxis": {
             "endlinecolor": "#2a3f5f",
             "gridcolor": "#C8D4E3",
             "linecolor": "#C8D4E3",
             "minorgridcolor": "#C8D4E3",
             "startlinecolor": "#2a3f5f"
            },
            "type": "carpet"
           }
          ],
          "choropleth": [
           {
            "colorbar": {
             "outlinewidth": 0,
             "ticks": ""
            },
            "type": "choropleth"
           }
          ],
          "contour": [
           {
            "colorbar": {
             "outlinewidth": 0,
             "ticks": ""
            },
            "colorscale": [
             [
              0,
              "#0d0887"
             ],
             [
              0.1111111111111111,
              "#46039f"
             ],
             [
              0.2222222222222222,
              "#7201a8"
             ],
             [
              0.3333333333333333,
              "#9c179e"
             ],
             [
              0.4444444444444444,
              "#bd3786"
             ],
             [
              0.5555555555555556,
              "#d8576b"
             ],
             [
              0.6666666666666666,
              "#ed7953"
             ],
             [
              0.7777777777777778,
              "#fb9f3a"
             ],
             [
              0.8888888888888888,
              "#fdca26"
             ],
             [
              1,
              "#f0f921"
             ]
            ],
            "type": "contour"
           }
          ],
          "contourcarpet": [
           {
            "colorbar": {
             "outlinewidth": 0,
             "ticks": ""
            },
            "type": "contourcarpet"
           }
          ],
          "heatmap": [
           {
            "colorbar": {
             "outlinewidth": 0,
             "ticks": ""
            },
            "colorscale": [
             [
              0,
              "#0d0887"
             ],
             [
              0.1111111111111111,
              "#46039f"
             ],
             [
              0.2222222222222222,
              "#7201a8"
             ],
             [
              0.3333333333333333,
              "#9c179e"
             ],
             [
              0.4444444444444444,
              "#bd3786"
             ],
             [
              0.5555555555555556,
              "#d8576b"
             ],
             [
              0.6666666666666666,
              "#ed7953"
             ],
             [
              0.7777777777777778,
              "#fb9f3a"
             ],
             [
              0.8888888888888888,
              "#fdca26"
             ],
             [
              1,
              "#f0f921"
             ]
            ],
            "type": "heatmap"
           }
          ],
          "heatmapgl": [
           {
            "colorbar": {
             "outlinewidth": 0,
             "ticks": ""
            },
            "colorscale": [
             [
              0,
              "#0d0887"
             ],
             [
              0.1111111111111111,
              "#46039f"
             ],
             [
              0.2222222222222222,
              "#7201a8"
             ],
             [
              0.3333333333333333,
              "#9c179e"
             ],
             [
              0.4444444444444444,
              "#bd3786"
             ],
             [
              0.5555555555555556,
              "#d8576b"
             ],
             [
              0.6666666666666666,
              "#ed7953"
             ],
             [
              0.7777777777777778,
              "#fb9f3a"
             ],
             [
              0.8888888888888888,
              "#fdca26"
             ],
             [
              1,
              "#f0f921"
             ]
            ],
            "type": "heatmapgl"
           }
          ],
          "histogram": [
           {
            "marker": {
             "pattern": {
              "fillmode": "overlay",
              "size": 10,
              "solidity": 0.2
             }
            },
            "type": "histogram"
           }
          ],
          "histogram2d": [
           {
            "colorbar": {
             "outlinewidth": 0,
             "ticks": ""
            },
            "colorscale": [
             [
              0,
              "#0d0887"
             ],
             [
              0.1111111111111111,
              "#46039f"
             ],
             [
              0.2222222222222222,
              "#7201a8"
             ],
             [
              0.3333333333333333,
              "#9c179e"
             ],
             [
              0.4444444444444444,
              "#bd3786"
             ],
             [
              0.5555555555555556,
              "#d8576b"
             ],
             [
              0.6666666666666666,
              "#ed7953"
             ],
             [
              0.7777777777777778,
              "#fb9f3a"
             ],
             [
              0.8888888888888888,
              "#fdca26"
             ],
             [
              1,
              "#f0f921"
             ]
            ],
            "type": "histogram2d"
           }
          ],
          "histogram2dcontour": [
           {
            "colorbar": {
             "outlinewidth": 0,
             "ticks": ""
            },
            "colorscale": [
             [
              0,
              "#0d0887"
             ],
             [
              0.1111111111111111,
              "#46039f"
             ],
             [
              0.2222222222222222,
              "#7201a8"
             ],
             [
              0.3333333333333333,
              "#9c179e"
             ],
             [
              0.4444444444444444,
              "#bd3786"
             ],
             [
              0.5555555555555556,
              "#d8576b"
             ],
             [
              0.6666666666666666,
              "#ed7953"
             ],
             [
              0.7777777777777778,
              "#fb9f3a"
             ],
             [
              0.8888888888888888,
              "#fdca26"
             ],
             [
              1,
              "#f0f921"
             ]
            ],
            "type": "histogram2dcontour"
           }
          ],
          "mesh3d": [
           {
            "colorbar": {
             "outlinewidth": 0,
             "ticks": ""
            },
            "type": "mesh3d"
           }
          ],
          "parcoords": [
           {
            "line": {
             "colorbar": {
              "outlinewidth": 0,
              "ticks": ""
             }
            },
            "type": "parcoords"
           }
          ],
          "pie": [
           {
            "automargin": true,
            "type": "pie"
           }
          ],
          "scatter": [
           {
            "marker": {
             "colorbar": {
              "outlinewidth": 0,
              "ticks": ""
             }
            },
            "type": "scatter"
           }
          ],
          "scatter3d": [
           {
            "line": {
             "colorbar": {
              "outlinewidth": 0,
              "ticks": ""
             }
            },
            "marker": {
             "colorbar": {
              "outlinewidth": 0,
              "ticks": ""
             }
            },
            "type": "scatter3d"
           }
          ],
          "scattercarpet": [
           {
            "marker": {
             "colorbar": {
              "outlinewidth": 0,
              "ticks": ""
             }
            },
            "type": "scattercarpet"
           }
          ],
          "scattergeo": [
           {
            "marker": {
             "colorbar": {
              "outlinewidth": 0,
              "ticks": ""
             }
            },
            "type": "scattergeo"
           }
          ],
          "scattergl": [
           {
            "marker": {
             "colorbar": {
              "outlinewidth": 0,
              "ticks": ""
             }
            },
            "type": "scattergl"
           }
          ],
          "scattermapbox": [
           {
            "marker": {
             "colorbar": {
              "outlinewidth": 0,
              "ticks": ""
             }
            },
            "type": "scattermapbox"
           }
          ],
          "scatterpolar": [
           {
            "marker": {
             "colorbar": {
              "outlinewidth": 0,
              "ticks": ""
             }
            },
            "type": "scatterpolar"
           }
          ],
          "scatterpolargl": [
           {
            "marker": {
             "colorbar": {
              "outlinewidth": 0,
              "ticks": ""
             }
            },
            "type": "scatterpolargl"
           }
          ],
          "scatterternary": [
           {
            "marker": {
             "colorbar": {
              "outlinewidth": 0,
              "ticks": ""
             }
            },
            "type": "scatterternary"
           }
          ],
          "surface": [
           {
            "colorbar": {
             "outlinewidth": 0,
             "ticks": ""
            },
            "colorscale": [
             [
              0,
              "#0d0887"
             ],
             [
              0.1111111111111111,
              "#46039f"
             ],
             [
              0.2222222222222222,
              "#7201a8"
             ],
             [
              0.3333333333333333,
              "#9c179e"
             ],
             [
              0.4444444444444444,
              "#bd3786"
             ],
             [
              0.5555555555555556,
              "#d8576b"
             ],
             [
              0.6666666666666666,
              "#ed7953"
             ],
             [
              0.7777777777777778,
              "#fb9f3a"
             ],
             [
              0.8888888888888888,
              "#fdca26"
             ],
             [
              1,
              "#f0f921"
             ]
            ],
            "type": "surface"
           }
          ],
          "table": [
           {
            "cells": {
             "fill": {
              "color": "#EBF0F8"
             },
             "line": {
              "color": "white"
             }
            },
            "header": {
             "fill": {
              "color": "#C8D4E3"
             },
             "line": {
              "color": "white"
             }
            },
            "type": "table"
           }
          ]
         },
         "layout": {
          "annotationdefaults": {
           "arrowcolor": "#2a3f5f",
           "arrowhead": 0,
           "arrowwidth": 1
          },
          "autotypenumbers": "strict",
          "coloraxis": {
           "colorbar": {
            "outlinewidth": 0,
            "ticks": ""
           }
          },
          "colorscale": {
           "diverging": [
            [
             0,
             "#8e0152"
            ],
            [
             0.1,
             "#c51b7d"
            ],
            [
             0.2,
             "#de77ae"
            ],
            [
             0.3,
             "#f1b6da"
            ],
            [
             0.4,
             "#fde0ef"
            ],
            [
             0.5,
             "#f7f7f7"
            ],
            [
             0.6,
             "#e6f5d0"
            ],
            [
             0.7,
             "#b8e186"
            ],
            [
             0.8,
             "#7fbc41"
            ],
            [
             0.9,
             "#4d9221"
            ],
            [
             1,
             "#276419"
            ]
           ],
           "sequential": [
            [
             0,
             "#0d0887"
            ],
            [
             0.1111111111111111,
             "#46039f"
            ],
            [
             0.2222222222222222,
             "#7201a8"
            ],
            [
             0.3333333333333333,
             "#9c179e"
            ],
            [
             0.4444444444444444,
             "#bd3786"
            ],
            [
             0.5555555555555556,
             "#d8576b"
            ],
            [
             0.6666666666666666,
             "#ed7953"
            ],
            [
             0.7777777777777778,
             "#fb9f3a"
            ],
            [
             0.8888888888888888,
             "#fdca26"
            ],
            [
             1,
             "#f0f921"
            ]
           ],
           "sequentialminus": [
            [
             0,
             "#0d0887"
            ],
            [
             0.1111111111111111,
             "#46039f"
            ],
            [
             0.2222222222222222,
             "#7201a8"
            ],
            [
             0.3333333333333333,
             "#9c179e"
            ],
            [
             0.4444444444444444,
             "#bd3786"
            ],
            [
             0.5555555555555556,
             "#d8576b"
            ],
            [
             0.6666666666666666,
             "#ed7953"
            ],
            [
             0.7777777777777778,
             "#fb9f3a"
            ],
            [
             0.8888888888888888,
             "#fdca26"
            ],
            [
             1,
             "#f0f921"
            ]
           ]
          },
          "colorway": [
           "#636efa",
           "#EF553B",
           "#00cc96",
           "#ab63fa",
           "#FFA15A",
           "#19d3f3",
           "#FF6692",
           "#B6E880",
           "#FF97FF",
           "#FECB52"
          ],
          "font": {
           "color": "#2a3f5f"
          },
          "geo": {
           "bgcolor": "white",
           "lakecolor": "white",
           "landcolor": "white",
           "showlakes": true,
           "showland": true,
           "subunitcolor": "#C8D4E3"
          },
          "hoverlabel": {
           "align": "left"
          },
          "hovermode": "closest",
          "mapbox": {
           "style": "light"
          },
          "paper_bgcolor": "white",
          "plot_bgcolor": "white",
          "polar": {
           "angularaxis": {
            "gridcolor": "#EBF0F8",
            "linecolor": "#EBF0F8",
            "ticks": ""
           },
           "bgcolor": "white",
           "radialaxis": {
            "gridcolor": "#EBF0F8",
            "linecolor": "#EBF0F8",
            "ticks": ""
           }
          },
          "scene": {
           "xaxis": {
            "backgroundcolor": "white",
            "gridcolor": "#DFE8F3",
            "gridwidth": 2,
            "linecolor": "#EBF0F8",
            "showbackground": true,
            "ticks": "",
            "zerolinecolor": "#EBF0F8"
           },
           "yaxis": {
            "backgroundcolor": "white",
            "gridcolor": "#DFE8F3",
            "gridwidth": 2,
            "linecolor": "#EBF0F8",
            "showbackground": true,
            "ticks": "",
            "zerolinecolor": "#EBF0F8"
           },
           "zaxis": {
            "backgroundcolor": "white",
            "gridcolor": "#DFE8F3",
            "gridwidth": 2,
            "linecolor": "#EBF0F8",
            "showbackground": true,
            "ticks": "",
            "zerolinecolor": "#EBF0F8"
           }
          },
          "shapedefaults": {
           "line": {
            "color": "#2a3f5f"
           }
          },
          "ternary": {
           "aaxis": {
            "gridcolor": "#DFE8F3",
            "linecolor": "#A2B1C6",
            "ticks": ""
           },
           "baxis": {
            "gridcolor": "#DFE8F3",
            "linecolor": "#A2B1C6",
            "ticks": ""
           },
           "bgcolor": "white",
           "caxis": {
            "gridcolor": "#DFE8F3",
            "linecolor": "#A2B1C6",
            "ticks": ""
           }
          },
          "title": {
           "x": 0.05
          },
          "xaxis": {
           "automargin": true,
           "gridcolor": "#EBF0F8",
           "linecolor": "#EBF0F8",
           "ticks": "",
           "title": {
            "standoff": 15
           },
           "zerolinecolor": "#EBF0F8",
           "zerolinewidth": 2
          },
          "yaxis": {
           "automargin": true,
           "gridcolor": "#EBF0F8",
           "linecolor": "#EBF0F8",
           "ticks": "",
           "title": {
            "standoff": 15
           },
           "zerolinecolor": "#EBF0F8",
           "zerolinewidth": 2
          }
         }
        },
        "title": {
         "font": {
          "family": "Times New Roman",
          "size": 20
         },
         "text": "Plasma"
        },
        "width": 525,
        "xaxis": {
         "showticklabels": false,
         "tickfont": {
          "family": "Times New Roman",
          "size": 20
         },
         "title": {
          "font": {
           "family": "Times New Roman",
           "size": 20
          },
          "text": "Top 12 Models"
         }
        },
        "yaxis": {
         "exponentformat": "E",
         "nticks": 5,
         "tickfont": {
          "family": "Times New Roman",
          "size": 20
         },
         "tickformat": "1.2e",
         "title": {
          "font": {
           "family": "Times New Roman",
           "size": 20
          },
          "text": "Test Loss"
         },
         "type": "log"
        }
       }
      },
      "text/html": [
       "<div>                            <div id=\"fc54a543-a5ce-4b13-833a-3ad6a772f6e3\" class=\"plotly-graph-div\" style=\"height:400px; width:525px;\"></div>            <script type=\"text/javascript\">                require([\"plotly\"], function(Plotly) {                    window.PLOTLYENV=window.PLOTLYENV || {};                                    if (document.getElementById(\"fc54a543-a5ce-4b13-833a-3ad6a772f6e3\")) {                    Plotly.newPlot(                        \"fc54a543-a5ce-4b13-833a-3ad6a772f6e3\",                        [{\"marker\":{\"color\":\"white\",\"line\":{\"color\":\"#5F4690\",\"width\":4},\"size\":12},\"mode\":\"markers\",\"name\":\"LSTM\",\"showlegend\":true,\"type\":\"scatter\",\"x\":[null],\"y\":[null]},{\"marker\":{\"color\":\"white\",\"line\":{\"color\":\"#1D6996\",\"width\":4},\"size\":12},\"mode\":\"markers\",\"name\":\"GRU\",\"showlegend\":true,\"type\":\"scatter\",\"x\":[null],\"y\":[null]},{\"marker\":{\"color\":\"white\",\"line\":{\"color\":\"#38A6A5\",\"width\":4},\"size\":12},\"mode\":\"markers\",\"name\":\"SL-LSTM\",\"showlegend\":true,\"type\":\"scatter\",\"x\":[null],\"y\":[null]},{\"marker\":{\"color\":\"white\",\"line\":{\"color\":\"#0F8554\",\"width\":4},\"size\":12},\"mode\":\"markers\",\"name\":\"SL-GRU\",\"showlegend\":true,\"type\":\"scatter\",\"x\":[null],\"y\":[null]},{\"marker\":{\"color\":\"white\",\"line\":{\"color\":\"#73AF48\",\"width\":4},\"size\":12},\"mode\":\"markers\",\"name\":\"T\",\"showlegend\":true,\"type\":\"scatter\",\"x\":[null],\"y\":[null]},{\"marker\":{\"color\":\"white\",\"line\":{\"color\":\"#EDAD08\",\"width\":4},\"size\":12},\"mode\":\"markers\",\"name\":\"SL-T\",\"showlegend\":true,\"type\":\"scatter\",\"x\":[null],\"y\":[null]},{\"marker\":{\"color\":\"white\",\"line\":{\"color\":\"#E17C05\",\"width\":4},\"size\":12},\"mode\":\"markers\",\"name\":\"SA-T\",\"showlegend\":true,\"type\":\"scatter\",\"x\":[null],\"y\":[null]},{\"marker\":{\"color\":\"white\",\"line\":{\"color\":\"#CC503E\",\"width\":4},\"size\":12},\"mode\":\"markers\",\"name\":\"SASL-T\",\"showlegend\":true,\"type\":\"scatter\",\"x\":[null],\"y\":[null]},{\"marker\":{\"color\":\"#66C5CC\",\"line\":{\"color\":\"white\",\"width\":4},\"size\":12},\"mode\":\"markers\",\"name\":\"MLP\",\"showlegend\":true,\"type\":\"scatter\",\"x\":[null],\"y\":[null]},{\"marker\":{\"color\":\"#F6CF71\",\"line\":{\"color\":\"white\",\"width\":4},\"size\":12},\"mode\":\"markers\",\"name\":\"CNN\",\"showlegend\":true,\"type\":\"scatter\",\"x\":[null],\"y\":[null]},{\"hovertemplate\":\"Encoder: gru (x1)<br>Decoder: mlp (x1)<br>LR: 1.00e-02<br>Test Loss: 4.99e-04<br><extra></extra>\",\"marker\":{\"color\":\"#66C5CC\",\"line\":{\"color\":\"#1D6996\",\"width\":4},\"size\":12},\"mode\":\"markers\",\"name\":\"gru-mlp\",\"showlegend\":false,\"type\":\"scatter\",\"x\":[1],\"y\":[0.0004987309075659141]},{\"hovertemplate\":\"Encoder: sindy_attention_transformer (x2)<br>Decoder: unet (x1)<br>LR: 1.00e-03<br>Test Loss: 4.99e-04<br><extra></extra>\",\"marker\":{\"color\":\"#F6CF71\",\"line\":{\"color\":\"#E17C05\",\"width\":4},\"size\":12},\"mode\":\"markers\",\"name\":\"sindy_attention_transformer-unet\",\"showlegend\":false,\"type\":\"scatter\",\"x\":[2],\"y\":[0.0004986255953554064]},{\"hovertemplate\":\"Encoder: gru (x4)<br>Decoder: unet (x1)<br>LR: 1.00e-03<br>Test Loss: 4.98e-04<br><extra></extra>\",\"marker\":{\"color\":\"#F6CF71\",\"line\":{\"color\":\"#1D6996\",\"width\":4},\"size\":12},\"mode\":\"markers\",\"name\":\"gru-unet\",\"showlegend\":false,\"type\":\"scatter\",\"x\":[3],\"y\":[0.0004984966944903135]},{\"hovertemplate\":\"Encoder: sindy_attention_sindy_loss_transformer (x3)<br>Decoder: unet (x1)<br>LR: 1.00e-03<br>Test Loss: 4.98e-04<br><extra></extra>\",\"marker\":{\"color\":\"#F6CF71\",\"line\":{\"color\":\"#CC503E\",\"width\":4},\"size\":12},\"mode\":\"markers\",\"name\":\"sindy_attention_sindy_loss_transformer-unet\",\"showlegend\":false,\"type\":\"scatter\",\"x\":[4],\"y\":[0.000498331879498437]},{\"hovertemplate\":\"Encoder: sindy_attention_sindy_loss_transformer (x2)<br>Decoder: unet (x1)<br>LR: 1.00e-03<br>Test Loss: 4.98e-04<br><extra></extra>\",\"marker\":{\"color\":\"#F6CF71\",\"line\":{\"color\":\"#CC503E\",\"width\":4},\"size\":12},\"mode\":\"markers\",\"name\":\"sindy_attention_sindy_loss_transformer-unet\",\"showlegend\":false,\"type\":\"scatter\",\"x\":[5],\"y\":[0.0004981944657629356]},{\"hovertemplate\":\"Encoder: lstm (x2)<br>Decoder: unet (x1)<br>LR: 1.00e-03<br>Test Loss: 4.98e-04<br><extra></extra>\",\"marker\":{\"color\":\"#F6CF71\",\"line\":{\"color\":\"#5F4690\",\"width\":4},\"size\":12},\"mode\":\"markers\",\"name\":\"lstm-unet\",\"showlegend\":false,\"type\":\"scatter\",\"x\":[6],\"y\":[0.0004978315118933097]},{\"hovertemplate\":\"Encoder: lstm (x4)<br>Decoder: unet (x1)<br>LR: 1.00e-02<br>Test Loss: 4.91e-04<br><extra></extra>\",\"marker\":{\"color\":\"#F6CF71\",\"line\":{\"color\":\"#5F4690\",\"width\":4},\"size\":12},\"mode\":\"markers\",\"name\":\"lstm-unet\",\"showlegend\":false,\"type\":\"scatter\",\"x\":[7],\"y\":[0.0004909959970973432]},{\"hovertemplate\":\"Encoder: lstm (x2)<br>Decoder: unet (x1)<br>LR: 1.00e-02<br>Test Loss: 4.86e-04<br><extra></extra>\",\"marker\":{\"color\":\"#F6CF71\",\"line\":{\"color\":\"#5F4690\",\"width\":4},\"size\":12},\"mode\":\"markers\",\"name\":\"lstm-unet\",\"showlegend\":false,\"type\":\"scatter\",\"x\":[8],\"y\":[0.0004862084169872105]},{\"hovertemplate\":\"Encoder: gru (x2)<br>Decoder: unet (x1)<br>LR: 1.00e-02<br>Test Loss: 4.83e-04<br><extra></extra>\",\"marker\":{\"color\":\"#F6CF71\",\"line\":{\"color\":\"#1D6996\",\"width\":4},\"size\":12},\"mode\":\"markers\",\"name\":\"gru-unet\",\"showlegend\":false,\"type\":\"scatter\",\"x\":[9],\"y\":[0.00048313059960491955]},{\"hovertemplate\":\"Encoder: gru (x3)<br>Decoder: unet (x1)<br>LR: 1.00e-02<br>Test Loss: 4.83e-04<br><extra></extra>\",\"marker\":{\"color\":\"#F6CF71\",\"line\":{\"color\":\"#1D6996\",\"width\":4},\"size\":12},\"mode\":\"markers\",\"name\":\"gru-unet\",\"showlegend\":false,\"type\":\"scatter\",\"x\":[10],\"y\":[0.0004828338715014979]},{\"hovertemplate\":\"Encoder: gru (x4)<br>Decoder: unet (x1)<br>LR: 1.00e-02<br>Test Loss: 4.73e-04<br><extra></extra>\",\"marker\":{\"color\":\"#F6CF71\",\"line\":{\"color\":\"#1D6996\",\"width\":4},\"size\":12},\"mode\":\"markers\",\"name\":\"gru-unet\",\"showlegend\":false,\"type\":\"scatter\",\"x\":[11],\"y\":[0.00047302350867539644]},{\"hovertemplate\":\"Encoder: lstm (x3)<br>Decoder: unet (x1)<br>LR: 1.00e-02<br>Test Loss: 4.64e-04<br><extra></extra>\",\"marker\":{\"color\":\"#F6CF71\",\"line\":{\"color\":\"#5F4690\",\"width\":4},\"size\":12},\"mode\":\"markers\",\"name\":\"lstm-unet\",\"showlegend\":false,\"type\":\"scatter\",\"x\":[12],\"y\":[0.0004636579687939957]}],                        {\"font\":{\"family\":\"Times New Roman\"},\"height\":400,\"hovermode\":\"closest\",\"legend\":{\"font\":{\"family\":\"Times New Roman\",\"size\":20},\"title\":{\"font\":{\"family\":\"Times New Roman\",\"size\":20},\"text\":\"Legend\"}},\"showlegend\":true,\"template\":{\"data\":{\"bar\":[{\"error_x\":{\"color\":\"#2a3f5f\"},\"error_y\":{\"color\":\"#2a3f5f\"},\"marker\":{\"line\":{\"color\":\"white\",\"width\":0.5},\"pattern\":{\"fillmode\":\"overlay\",\"size\":10,\"solidity\":0.2}},\"type\":\"bar\"}],\"barpolar\":[{\"marker\":{\"line\":{\"color\":\"white\",\"width\":0.5},\"pattern\":{\"fillmode\":\"overlay\",\"size\":10,\"solidity\":0.2}},\"type\":\"barpolar\"}],\"carpet\":[{\"aaxis\":{\"endlinecolor\":\"#2a3f5f\",\"gridcolor\":\"#C8D4E3\",\"linecolor\":\"#C8D4E3\",\"minorgridcolor\":\"#C8D4E3\",\"startlinecolor\":\"#2a3f5f\"},\"baxis\":{\"endlinecolor\":\"#2a3f5f\",\"gridcolor\":\"#C8D4E3\",\"linecolor\":\"#C8D4E3\",\"minorgridcolor\":\"#C8D4E3\",\"startlinecolor\":\"#2a3f5f\"},\"type\":\"carpet\"}],\"choropleth\":[{\"colorbar\":{\"outlinewidth\":0,\"ticks\":\"\"},\"type\":\"choropleth\"}],\"contour\":[{\"colorbar\":{\"outlinewidth\":0,\"ticks\":\"\"},\"colorscale\":[[0.0,\"#0d0887\"],[0.1111111111111111,\"#46039f\"],[0.2222222222222222,\"#7201a8\"],[0.3333333333333333,\"#9c179e\"],[0.4444444444444444,\"#bd3786\"],[0.5555555555555556,\"#d8576b\"],[0.6666666666666666,\"#ed7953\"],[0.7777777777777778,\"#fb9f3a\"],[0.8888888888888888,\"#fdca26\"],[1.0,\"#f0f921\"]],\"type\":\"contour\"}],\"contourcarpet\":[{\"colorbar\":{\"outlinewidth\":0,\"ticks\":\"\"},\"type\":\"contourcarpet\"}],\"heatmap\":[{\"colorbar\":{\"outlinewidth\":0,\"ticks\":\"\"},\"colorscale\":[[0.0,\"#0d0887\"],[0.1111111111111111,\"#46039f\"],[0.2222222222222222,\"#7201a8\"],[0.3333333333333333,\"#9c179e\"],[0.4444444444444444,\"#bd3786\"],[0.5555555555555556,\"#d8576b\"],[0.6666666666666666,\"#ed7953\"],[0.7777777777777778,\"#fb9f3a\"],[0.8888888888888888,\"#fdca26\"],[1.0,\"#f0f921\"]],\"type\":\"heatmap\"}],\"heatmapgl\":[{\"colorbar\":{\"outlinewidth\":0,\"ticks\":\"\"},\"colorscale\":[[0.0,\"#0d0887\"],[0.1111111111111111,\"#46039f\"],[0.2222222222222222,\"#7201a8\"],[0.3333333333333333,\"#9c179e\"],[0.4444444444444444,\"#bd3786\"],[0.5555555555555556,\"#d8576b\"],[0.6666666666666666,\"#ed7953\"],[0.7777777777777778,\"#fb9f3a\"],[0.8888888888888888,\"#fdca26\"],[1.0,\"#f0f921\"]],\"type\":\"heatmapgl\"}],\"histogram\":[{\"marker\":{\"pattern\":{\"fillmode\":\"overlay\",\"size\":10,\"solidity\":0.2}},\"type\":\"histogram\"}],\"histogram2d\":[{\"colorbar\":{\"outlinewidth\":0,\"ticks\":\"\"},\"colorscale\":[[0.0,\"#0d0887\"],[0.1111111111111111,\"#46039f\"],[0.2222222222222222,\"#7201a8\"],[0.3333333333333333,\"#9c179e\"],[0.4444444444444444,\"#bd3786\"],[0.5555555555555556,\"#d8576b\"],[0.6666666666666666,\"#ed7953\"],[0.7777777777777778,\"#fb9f3a\"],[0.8888888888888888,\"#fdca26\"],[1.0,\"#f0f921\"]],\"type\":\"histogram2d\"}],\"histogram2dcontour\":[{\"colorbar\":{\"outlinewidth\":0,\"ticks\":\"\"},\"colorscale\":[[0.0,\"#0d0887\"],[0.1111111111111111,\"#46039f\"],[0.2222222222222222,\"#7201a8\"],[0.3333333333333333,\"#9c179e\"],[0.4444444444444444,\"#bd3786\"],[0.5555555555555556,\"#d8576b\"],[0.6666666666666666,\"#ed7953\"],[0.7777777777777778,\"#fb9f3a\"],[0.8888888888888888,\"#fdca26\"],[1.0,\"#f0f921\"]],\"type\":\"histogram2dcontour\"}],\"mesh3d\":[{\"colorbar\":{\"outlinewidth\":0,\"ticks\":\"\"},\"type\":\"mesh3d\"}],\"parcoords\":[{\"line\":{\"colorbar\":{\"outlinewidth\":0,\"ticks\":\"\"}},\"type\":\"parcoords\"}],\"pie\":[{\"automargin\":true,\"type\":\"pie\"}],\"scatter\":[{\"marker\":{\"colorbar\":{\"outlinewidth\":0,\"ticks\":\"\"}},\"type\":\"scatter\"}],\"scatter3d\":[{\"line\":{\"colorbar\":{\"outlinewidth\":0,\"ticks\":\"\"}},\"marker\":{\"colorbar\":{\"outlinewidth\":0,\"ticks\":\"\"}},\"type\":\"scatter3d\"}],\"scattercarpet\":[{\"marker\":{\"colorbar\":{\"outlinewidth\":0,\"ticks\":\"\"}},\"type\":\"scattercarpet\"}],\"scattergeo\":[{\"marker\":{\"colorbar\":{\"outlinewidth\":0,\"ticks\":\"\"}},\"type\":\"scattergeo\"}],\"scattergl\":[{\"marker\":{\"colorbar\":{\"outlinewidth\":0,\"ticks\":\"\"}},\"type\":\"scattergl\"}],\"scattermapbox\":[{\"marker\":{\"colorbar\":{\"outlinewidth\":0,\"ticks\":\"\"}},\"type\":\"scattermapbox\"}],\"scatterpolar\":[{\"marker\":{\"colorbar\":{\"outlinewidth\":0,\"ticks\":\"\"}},\"type\":\"scatterpolar\"}],\"scatterpolargl\":[{\"marker\":{\"colorbar\":{\"outlinewidth\":0,\"ticks\":\"\"}},\"type\":\"scatterpolargl\"}],\"scatterternary\":[{\"marker\":{\"colorbar\":{\"outlinewidth\":0,\"ticks\":\"\"}},\"type\":\"scatterternary\"}],\"surface\":[{\"colorbar\":{\"outlinewidth\":0,\"ticks\":\"\"},\"colorscale\":[[0.0,\"#0d0887\"],[0.1111111111111111,\"#46039f\"],[0.2222222222222222,\"#7201a8\"],[0.3333333333333333,\"#9c179e\"],[0.4444444444444444,\"#bd3786\"],[0.5555555555555556,\"#d8576b\"],[0.6666666666666666,\"#ed7953\"],[0.7777777777777778,\"#fb9f3a\"],[0.8888888888888888,\"#fdca26\"],[1.0,\"#f0f921\"]],\"type\":\"surface\"}],\"table\":[{\"cells\":{\"fill\":{\"color\":\"#EBF0F8\"},\"line\":{\"color\":\"white\"}},\"header\":{\"fill\":{\"color\":\"#C8D4E3\"},\"line\":{\"color\":\"white\"}},\"type\":\"table\"}]},\"layout\":{\"annotationdefaults\":{\"arrowcolor\":\"#2a3f5f\",\"arrowhead\":0,\"arrowwidth\":1},\"autotypenumbers\":\"strict\",\"coloraxis\":{\"colorbar\":{\"outlinewidth\":0,\"ticks\":\"\"}},\"colorscale\":{\"diverging\":[[0,\"#8e0152\"],[0.1,\"#c51b7d\"],[0.2,\"#de77ae\"],[0.3,\"#f1b6da\"],[0.4,\"#fde0ef\"],[0.5,\"#f7f7f7\"],[0.6,\"#e6f5d0\"],[0.7,\"#b8e186\"],[0.8,\"#7fbc41\"],[0.9,\"#4d9221\"],[1,\"#276419\"]],\"sequential\":[[0.0,\"#0d0887\"],[0.1111111111111111,\"#46039f\"],[0.2222222222222222,\"#7201a8\"],[0.3333333333333333,\"#9c179e\"],[0.4444444444444444,\"#bd3786\"],[0.5555555555555556,\"#d8576b\"],[0.6666666666666666,\"#ed7953\"],[0.7777777777777778,\"#fb9f3a\"],[0.8888888888888888,\"#fdca26\"],[1.0,\"#f0f921\"]],\"sequentialminus\":[[0.0,\"#0d0887\"],[0.1111111111111111,\"#46039f\"],[0.2222222222222222,\"#7201a8\"],[0.3333333333333333,\"#9c179e\"],[0.4444444444444444,\"#bd3786\"],[0.5555555555555556,\"#d8576b\"],[0.6666666666666666,\"#ed7953\"],[0.7777777777777778,\"#fb9f3a\"],[0.8888888888888888,\"#fdca26\"],[1.0,\"#f0f921\"]]},\"colorway\":[\"#636efa\",\"#EF553B\",\"#00cc96\",\"#ab63fa\",\"#FFA15A\",\"#19d3f3\",\"#FF6692\",\"#B6E880\",\"#FF97FF\",\"#FECB52\"],\"font\":{\"color\":\"#2a3f5f\"},\"geo\":{\"bgcolor\":\"white\",\"lakecolor\":\"white\",\"landcolor\":\"white\",\"showlakes\":true,\"showland\":true,\"subunitcolor\":\"#C8D4E3\"},\"hoverlabel\":{\"align\":\"left\"},\"hovermode\":\"closest\",\"mapbox\":{\"style\":\"light\"},\"paper_bgcolor\":\"white\",\"plot_bgcolor\":\"white\",\"polar\":{\"angularaxis\":{\"gridcolor\":\"#EBF0F8\",\"linecolor\":\"#EBF0F8\",\"ticks\":\"\"},\"bgcolor\":\"white\",\"radialaxis\":{\"gridcolor\":\"#EBF0F8\",\"linecolor\":\"#EBF0F8\",\"ticks\":\"\"}},\"scene\":{\"xaxis\":{\"backgroundcolor\":\"white\",\"gridcolor\":\"#DFE8F3\",\"gridwidth\":2,\"linecolor\":\"#EBF0F8\",\"showbackground\":true,\"ticks\":\"\",\"zerolinecolor\":\"#EBF0F8\"},\"yaxis\":{\"backgroundcolor\":\"white\",\"gridcolor\":\"#DFE8F3\",\"gridwidth\":2,\"linecolor\":\"#EBF0F8\",\"showbackground\":true,\"ticks\":\"\",\"zerolinecolor\":\"#EBF0F8\"},\"zaxis\":{\"backgroundcolor\":\"white\",\"gridcolor\":\"#DFE8F3\",\"gridwidth\":2,\"linecolor\":\"#EBF0F8\",\"showbackground\":true,\"ticks\":\"\",\"zerolinecolor\":\"#EBF0F8\"}},\"shapedefaults\":{\"line\":{\"color\":\"#2a3f5f\"}},\"ternary\":{\"aaxis\":{\"gridcolor\":\"#DFE8F3\",\"linecolor\":\"#A2B1C6\",\"ticks\":\"\"},\"baxis\":{\"gridcolor\":\"#DFE8F3\",\"linecolor\":\"#A2B1C6\",\"ticks\":\"\"},\"bgcolor\":\"white\",\"caxis\":{\"gridcolor\":\"#DFE8F3\",\"linecolor\":\"#A2B1C6\",\"ticks\":\"\"}},\"title\":{\"x\":0.05},\"xaxis\":{\"automargin\":true,\"gridcolor\":\"#EBF0F8\",\"linecolor\":\"#EBF0F8\",\"ticks\":\"\",\"title\":{\"standoff\":15},\"zerolinecolor\":\"#EBF0F8\",\"zerolinewidth\":2},\"yaxis\":{\"automargin\":true,\"gridcolor\":\"#EBF0F8\",\"linecolor\":\"#EBF0F8\",\"ticks\":\"\",\"title\":{\"standoff\":15},\"zerolinecolor\":\"#EBF0F8\",\"zerolinewidth\":2}}},\"title\":{\"font\":{\"family\":\"Times New Roman\",\"size\":20},\"text\":\"Plasma\"},\"width\":525,\"xaxis\":{\"showticklabels\":false,\"tickfont\":{\"family\":\"Times New Roman\",\"size\":20},\"title\":{\"font\":{\"family\":\"Times New Roman\",\"size\":20},\"text\":\"Top 12 Models\"}},\"yaxis\":{\"exponentformat\":\"E\",\"nticks\":5,\"tickfont\":{\"family\":\"Times New Roman\",\"size\":20},\"tickformat\":\"1.2e\",\"title\":{\"font\":{\"family\":\"Times New Roman\",\"size\":20},\"text\":\"Test Loss\"},\"type\":\"log\"}},                        {\"responsive\": true}                    ).then(function(){\n",
       "                            \n",
       "var gd = document.getElementById('fc54a543-a5ce-4b13-833a-3ad6a772f6e3');\n",
       "var x = new MutationObserver(function (mutations, observer) {{\n",
       "        var display = window.getComputedStyle(gd).display;\n",
       "        if (!display || display === 'none') {{\n",
       "            console.log([gd, 'removed!']);\n",
       "            Plotly.purge(gd);\n",
       "            observer.disconnect();\n",
       "        }}\n",
       "}});\n",
       "\n",
       "// Listen for the removal of the full notebook cells\n",
       "var notebookContainer = gd.closest('#notebook-container');\n",
       "if (notebookContainer) {{\n",
       "    x.observe(notebookContainer, {childList: true});\n",
       "}}\n",
       "\n",
       "// Listen for the clearing of the current output cell\n",
       "var outputEl = gd.closest('.output');\n",
       "if (outputEl) {{\n",
       "    x.observe(outputEl, {childList: true});\n",
       "}}\n",
       "\n",
       "                        })                };                });            </script>        </div>"
      ]
     },
     "metadata": {},
     "output_type": "display_data"
    }
   ],
   "source": [
    "\n",
    "f = Figlet(font='ogre')\n",
    "for dataset in ['planetswe', 'sst', 'plasma']:\n",
    "    best_result = helpers.get_top_N_models_by_loss(dataset, pickle_dir, N=1)\n",
    "    print(best_result)\n",
    "    plots.plot_model_results_scatter(results, dataset, 12, save=True, fname=f\"{dataset}_scatter\",\n",
    "                                     title_fontsize=20, axes_fontsize=20, legend_fontsize=20)\n",
    "\n"
   ]
  },
  {
   "cell_type": "code",
   "execution_count": 12,
   "metadata": {},
   "outputs": [
    {
     "name": "stdout",
     "output_type": "stream",
     "text": [
      "[('sindy_loss_gru_mlp_planetswe_e1_d1_lr1.00e-03_p1.pkl', {'test_loss': 0.0019565847178455442, 'start_epoch': 56, 'best_val': 0.0022861711913719773, 'best_epoch': 56, 'train_losses': [0.13539415560662746, 0.036787479060391585, 0.0353351520995299, 0.03443405789633592, 0.03365889924267928, 0.03304231601456801, 0.032571984082460405, 0.03215464521199465, 0.03184547889977694, 0.031606756461163364, 0.03139839951569835, 0.03116901076088349, 0.030996071423093477, 0.03085127261777719, 0.030723219271749258, 0.030598820342371862, 0.03050073590129614, 0.030401754068831603, 0.030296519802262386, 0.03020246752227346, 0.03011476279546817, 0.03004136439412832, 0.02997541936735312, 0.029911178319404524, 0.029860481278349955, 0.029783278082807858, 0.029745476817091308, 0.029668194769571225, 0.029627272703995306, 0.029590167012065648, 0.029522737363974254, 0.029495889476190012, 0.02945811888203025, 0.02943574149782459, 0.02943315894032518, 0.02933460703740517, 0.029261857084929944, 0.029289048320303362, 0.02923413406436642, 0.02924378017584483, 0.029172357047597568, 0.029138752010961375, 0.029091311028848092, 0.02906851110359033, 0.02907366519793868, 0.02911604130640626, 0.02898495119685928, 0.028978214288751285, 0.028942675950626533, 0.028935434576123954, 0.028933684900403024, 0.028922555999209485, 0.028889394272118805, 0.02881772316371401, 0.028813631429026525, 0.028806980419903993], 'val_losses': [0.011493267305195332, 0.009825718589127064, 0.008678162656724452, 0.00767330015078187, 0.0077903480269014835, 0.0067502791993319985, 0.007299455720931292, 0.006254161987453699, 0.006412954349070787, 0.005338201485574246, 0.006660688761621713, 0.0050655252300202845, 0.005966556165367365, 0.0054859726689755915, 0.0051220226101577285, 0.004595980513840914, 0.005461132247000932, 0.00493604140356183, 0.005598455294966697, 0.005491623748093843, 0.005397205986082554, 0.005118483304977417, 0.004791079927235842, 0.005848879925906658, 0.0041493111290037635, 0.004873440880328417, 0.004249478038400411, 0.004877368360757828, 0.004537841025739908, 0.0040601952467113735, 0.005206071119755506, 0.004238275717943907, 0.005839198175817728, 0.0038896772544831037, 0.005987334065139294, 0.00449614180251956, 0.0052120378240942955, 0.003776831179857254, 0.003268678346648812, 0.00469753984361887, 0.005591042153537273, 0.004814665857702493, 0.004052012786269188, 0.0037385682575404645, 0.007108364440500736, 0.0036599801387637854, 0.003685524361208081, 0.003421569615602493, 0.003916553827002645, 0.005793914292007684, 0.004387564491480589, 0.006937525141984225, 0.004894188232719898, 0.003760200785472989, 0.004849984776228666, 0.0022861711913719773], 'sensors': [(197, 430), (20, 265), (248, 414), (155, 488), (183, 223), (71, 288), (71, 97), (128, 150), (158, 101), (37, 338), (241, 103), (181, 444), (161, 209), (244, 453), (133, 63), (7, 95), (204, 1), (252, 341), (124, 333), (32, 195), (113, 244), (72, 458), (46, 82), (163, 501), (55, 308), (149, 127), (170, 208), (147, 455), (46, 394), (162, 247), (148, 188), (96, 191), (16, 266), (243, 70), (45, 133), (76, 39), (41, 400), (141, 241), (110, 429), (140, 461), (252, 365), (42, 332), (59, 498), (171, 194), (124, 16), (138, 119), (112, 380), (87, 340), (218, 63), (51, 149)], 'hyperparameters': {'batch_size': 128, 'dataset': 'planetswe', 'decoder': 'mlp', 'decoder_depth': 1, 'device': 'cuda:0', 'dropout': 0.1, 'dt': 1.0, 'early_stop': 10, 'encoder': 'sindy_loss_gru', 'eval_full': False, 'encoder_depth': 1, 'epochs': 100, 'hidden_size': 100, 'generate_test_plots': True, 'generate_training_plots': False, 'include_sine': False, 'lr': 0.001, 'n_heads': 4, 'n_sensors': 50, 'n_well_tracks': 10, 'poly_order': 1, 'save_every_n_epochs': 10, 'sindy_attention_threshold': 0.05, 'sindy_attention_threshold_epoch': 10, 'sindy_attention_weight': 0.0, 'sindy_loss_threshold': 0.05, 'sindy_loss_weight': 100, 'skip_load_checkpoint': False, 'verbose': False, 'window_length': 50, 'd_data_in': 3, 'data_rows_in': 256, 'data_cols_in': 512, 'd_data_out': 3, 'data_rows_out': 256, 'data_cols_out': 512, 'd_model': 150, 'dim_feedforward': 400, 'output_size': 393216, 'latest_checkpoint_path': PosixPath('/home/alexey/Research4/T-SHRED/checkpoints/sindy_loss_gru_mlp_planetswe_e1_d1_lr1.00e-03_p1_model_latest.pt'), 'best_checkpoint_path': PosixPath('/home/alexey/Research4/T-SHRED/checkpoints/sindy_loss_gru_mlp_planetswe_e1_d1_lr1.00e-03_p1_model_best.pt')}})]\n",
      "Saved /home/alexey/Research4/T-SHRED/figures/planetswe_scatter.pdf\n"
     ]
    },
    {
     "data": {
      "application/vnd.plotly.v1+json": {
       "config": {
        "plotlyServerURL": "https://plot.ly"
       },
       "data": [
        {
         "marker": {
          "color": "white",
          "line": {
           "color": "#5F4690",
           "width": 4
          },
          "size": 12
         },
         "mode": "markers",
         "name": "LSTM",
         "showlegend": true,
         "type": "scatter",
         "x": [
          null
         ],
         "y": [
          null
         ]
        },
        {
         "marker": {
          "color": "white",
          "line": {
           "color": "#1D6996",
           "width": 4
          },
          "size": 12
         },
         "mode": "markers",
         "name": "GRU",
         "showlegend": true,
         "type": "scatter",
         "x": [
          null
         ],
         "y": [
          null
         ]
        },
        {
         "marker": {
          "color": "white",
          "line": {
           "color": "#38A6A5",
           "width": 4
          },
          "size": 12
         },
         "mode": "markers",
         "name": "SL-LSTM",
         "showlegend": true,
         "type": "scatter",
         "x": [
          null
         ],
         "y": [
          null
         ]
        },
        {
         "marker": {
          "color": "white",
          "line": {
           "color": "#0F8554",
           "width": 4
          },
          "size": 12
         },
         "mode": "markers",
         "name": "SL-GRU",
         "showlegend": true,
         "type": "scatter",
         "x": [
          null
         ],
         "y": [
          null
         ]
        },
        {
         "marker": {
          "color": "white",
          "line": {
           "color": "#73AF48",
           "width": 4
          },
          "size": 12
         },
         "mode": "markers",
         "name": "T",
         "showlegend": true,
         "type": "scatter",
         "x": [
          null
         ],
         "y": [
          null
         ]
        },
        {
         "marker": {
          "color": "white",
          "line": {
           "color": "#EDAD08",
           "width": 4
          },
          "size": 12
         },
         "mode": "markers",
         "name": "SL-T",
         "showlegend": true,
         "type": "scatter",
         "x": [
          null
         ],
         "y": [
          null
         ]
        },
        {
         "marker": {
          "color": "white",
          "line": {
           "color": "#E17C05",
           "width": 4
          },
          "size": 12
         },
         "mode": "markers",
         "name": "SA-T",
         "showlegend": true,
         "type": "scatter",
         "x": [
          null
         ],
         "y": [
          null
         ]
        },
        {
         "marker": {
          "color": "white",
          "line": {
           "color": "#CC503E",
           "width": 4
          },
          "size": 12
         },
         "mode": "markers",
         "name": "SASL-T",
         "showlegend": true,
         "type": "scatter",
         "x": [
          null
         ],
         "y": [
          null
         ]
        },
        {
         "marker": {
          "color": "#66C5CC",
          "line": {
           "color": "white",
           "width": 4
          },
          "size": 12
         },
         "mode": "markers",
         "name": "MLP",
         "showlegend": true,
         "type": "scatter",
         "x": [
          null
         ],
         "y": [
          null
         ]
        },
        {
         "marker": {
          "color": "#F6CF71",
          "line": {
           "color": "white",
           "width": 4
          },
          "size": 12
         },
         "mode": "markers",
         "name": "CNN",
         "showlegend": true,
         "type": "scatter",
         "x": [
          null
         ],
         "y": [
          null
         ]
        },
        {
         "hovertemplate": "Encoder: sindy_attention_transformer (x4)<br>Decoder: unet (x1)<br>LR: 1.00e-03<br>Test Loss: 4.02e-03<br><extra></extra>",
         "marker": {
          "color": "#F6CF71",
          "line": {
           "color": "#E17C05",
           "width": 4
          },
          "size": 12
         },
         "mode": "markers",
         "name": "sindy_attention_transformer-unet",
         "showlegend": false,
         "type": "scatter",
         "x": [
          1
         ],
         "y": [
          0.00401918962597847
         ]
        },
        {
         "hovertemplate": "Encoder: vanilla_transformer (x2)<br>Decoder: mlp (x1)<br>LR: 1.00e-03<br>Test Loss: 3.97e-03<br><extra></extra>",
         "marker": {
          "color": "#66C5CC",
          "line": {
           "color": "#73AF48",
           "width": 4
          },
          "size": 12
         },
         "mode": "markers",
         "name": "vanilla_transformer-mlp",
         "showlegend": false,
         "type": "scatter",
         "x": [
          2
         ],
         "y": [
          0.003966554126236588
         ]
        },
        {
         "hovertemplate": "Encoder: vanilla_transformer (x3)<br>Decoder: unet (x1)<br>LR: 1.00e-03<br>Test Loss: 3.95e-03<br><extra></extra>",
         "marker": {
          "color": "#F6CF71",
          "line": {
           "color": "#73AF48",
           "width": 4
          },
          "size": 12
         },
         "mode": "markers",
         "name": "vanilla_transformer-unet",
         "showlegend": false,
         "type": "scatter",
         "x": [
          3
         ],
         "y": [
          0.003954097628593445
         ]
        },
        {
         "hovertemplate": "Encoder: vanilla_transformer (x4)<br>Decoder: unet (x1)<br>LR: 1.00e-03<br>Test Loss: 3.93e-03<br><extra></extra>",
         "marker": {
          "color": "#F6CF71",
          "line": {
           "color": "#73AF48",
           "width": 4
          },
          "size": 12
         },
         "mode": "markers",
         "name": "vanilla_transformer-unet",
         "showlegend": false,
         "type": "scatter",
         "x": [
          4
         ],
         "y": [
          0.003930476610548794
         ]
        },
        {
         "hovertemplate": "Encoder: sindy_attention_transformer (x3)<br>Decoder: unet (x1)<br>LR: 1.00e-03<br>Test Loss: 3.92e-03<br><extra></extra>",
         "marker": {
          "color": "#F6CF71",
          "line": {
           "color": "#E17C05",
           "width": 4
          },
          "size": 12
         },
         "mode": "markers",
         "name": "sindy_attention_transformer-unet",
         "showlegend": false,
         "type": "scatter",
         "x": [
          5
         ],
         "y": [
          0.003917470341548324
         ]
        },
        {
         "hovertemplate": "Encoder: vanilla_transformer (x1)<br>Decoder: mlp (x1)<br>LR: 1.00e-03<br>Test Loss: 3.89e-03<br><extra></extra>",
         "marker": {
          "color": "#66C5CC",
          "line": {
           "color": "#73AF48",
           "width": 4
          },
          "size": 12
         },
         "mode": "markers",
         "name": "vanilla_transformer-mlp",
         "showlegend": false,
         "type": "scatter",
         "x": [
          6
         ],
         "y": [
          0.003891577129252255
         ]
        },
        {
         "hovertemplate": "Encoder: vanilla_transformer (x1)<br>Decoder: mlp (x1)<br>LR: 1.00e-02<br>Test Loss: 3.89e-03<br><extra></extra>",
         "marker": {
          "color": "#66C5CC",
          "line": {
           "color": "#73AF48",
           "width": 4
          },
          "size": 12
         },
         "mode": "markers",
         "name": "vanilla_transformer-mlp",
         "showlegend": false,
         "type": "scatter",
         "x": [
          7
         ],
         "y": [
          0.0038850732380524278
         ]
        },
        {
         "hovertemplate": "Encoder: sindy_attention_transformer (x1)<br>Decoder: mlp (x1)<br>LR: 1.00e-03<br>Test Loss: 3.82e-03<br><extra></extra>",
         "marker": {
          "color": "#66C5CC",
          "line": {
           "color": "#E17C05",
           "width": 4
          },
          "size": 12
         },
         "mode": "markers",
         "name": "sindy_attention_transformer-mlp",
         "showlegend": false,
         "type": "scatter",
         "x": [
          8
         ],
         "y": [
          0.0038221240392886102
         ]
        },
        {
         "hovertemplate": "Encoder: sindy_attention_transformer (x2)<br>Decoder: unet (x1)<br>LR: 1.00e-03<br>Test Loss: 3.80e-03<br><extra></extra>",
         "marker": {
          "color": "#F6CF71",
          "line": {
           "color": "#E17C05",
           "width": 4
          },
          "size": 12
         },
         "mode": "markers",
         "name": "sindy_attention_transformer-unet",
         "showlegend": false,
         "type": "scatter",
         "x": [
          9
         ],
         "y": [
          0.0038021064247004688
         ]
        },
        {
         "hovertemplate": "Encoder: vanilla_transformer (x2)<br>Decoder: unet (x1)<br>LR: 1.00e-03<br>Test Loss: 3.79e-03<br><extra></extra>",
         "marker": {
          "color": "#F6CF71",
          "line": {
           "color": "#73AF48",
           "width": 4
          },
          "size": 12
         },
         "mode": "markers",
         "name": "vanilla_transformer-unet",
         "showlegend": false,
         "type": "scatter",
         "x": [
          10
         ],
         "y": [
          0.00378527061548084
         ]
        },
        {
         "hovertemplate": "Encoder: sindy_attention_transformer (x1)<br>Decoder: unet (x1)<br>LR: 1.00e-03<br>Test Loss: 3.63e-03<br><extra></extra>",
         "marker": {
          "color": "#F6CF71",
          "line": {
           "color": "#E17C05",
           "width": 4
          },
          "size": 12
         },
         "mode": "markers",
         "name": "sindy_attention_transformer-unet",
         "showlegend": false,
         "type": "scatter",
         "x": [
          11
         ],
         "y": [
          0.003631792846135795
         ]
        },
        {
         "hovertemplate": "Encoder: vanilla_transformer (x1)<br>Decoder: unet (x1)<br>LR: 1.00e-03<br>Test Loss: 3.47e-03<br><extra></extra>",
         "marker": {
          "color": "#F6CF71",
          "line": {
           "color": "#73AF48",
           "width": 4
          },
          "size": 12
         },
         "mode": "markers",
         "name": "vanilla_transformer-unet",
         "showlegend": false,
         "type": "scatter",
         "x": [
          12
         ],
         "y": [
          0.003470553958322853
         ]
        }
       ],
       "layout": {
        "font": {
         "family": "Times New Roman"
        },
        "height": 400,
        "hovermode": "closest",
        "legend": {
         "font": {
          "family": "Times New Roman",
          "size": 20
         },
         "title": {
          "font": {
           "family": "Times New Roman",
           "size": 20
          },
          "text": "Legend"
         }
        },
        "showlegend": true,
        "template": {
         "data": {
          "bar": [
           {
            "error_x": {
             "color": "#2a3f5f"
            },
            "error_y": {
             "color": "#2a3f5f"
            },
            "marker": {
             "line": {
              "color": "white",
              "width": 0.5
             },
             "pattern": {
              "fillmode": "overlay",
              "size": 10,
              "solidity": 0.2
             }
            },
            "type": "bar"
           }
          ],
          "barpolar": [
           {
            "marker": {
             "line": {
              "color": "white",
              "width": 0.5
             },
             "pattern": {
              "fillmode": "overlay",
              "size": 10,
              "solidity": 0.2
             }
            },
            "type": "barpolar"
           }
          ],
          "carpet": [
           {
            "aaxis": {
             "endlinecolor": "#2a3f5f",
             "gridcolor": "#C8D4E3",
             "linecolor": "#C8D4E3",
             "minorgridcolor": "#C8D4E3",
             "startlinecolor": "#2a3f5f"
            },
            "baxis": {
             "endlinecolor": "#2a3f5f",
             "gridcolor": "#C8D4E3",
             "linecolor": "#C8D4E3",
             "minorgridcolor": "#C8D4E3",
             "startlinecolor": "#2a3f5f"
            },
            "type": "carpet"
           }
          ],
          "choropleth": [
           {
            "colorbar": {
             "outlinewidth": 0,
             "ticks": ""
            },
            "type": "choropleth"
           }
          ],
          "contour": [
           {
            "colorbar": {
             "outlinewidth": 0,
             "ticks": ""
            },
            "colorscale": [
             [
              0,
              "#0d0887"
             ],
             [
              0.1111111111111111,
              "#46039f"
             ],
             [
              0.2222222222222222,
              "#7201a8"
             ],
             [
              0.3333333333333333,
              "#9c179e"
             ],
             [
              0.4444444444444444,
              "#bd3786"
             ],
             [
              0.5555555555555556,
              "#d8576b"
             ],
             [
              0.6666666666666666,
              "#ed7953"
             ],
             [
              0.7777777777777778,
              "#fb9f3a"
             ],
             [
              0.8888888888888888,
              "#fdca26"
             ],
             [
              1,
              "#f0f921"
             ]
            ],
            "type": "contour"
           }
          ],
          "contourcarpet": [
           {
            "colorbar": {
             "outlinewidth": 0,
             "ticks": ""
            },
            "type": "contourcarpet"
           }
          ],
          "heatmap": [
           {
            "colorbar": {
             "outlinewidth": 0,
             "ticks": ""
            },
            "colorscale": [
             [
              0,
              "#0d0887"
             ],
             [
              0.1111111111111111,
              "#46039f"
             ],
             [
              0.2222222222222222,
              "#7201a8"
             ],
             [
              0.3333333333333333,
              "#9c179e"
             ],
             [
              0.4444444444444444,
              "#bd3786"
             ],
             [
              0.5555555555555556,
              "#d8576b"
             ],
             [
              0.6666666666666666,
              "#ed7953"
             ],
             [
              0.7777777777777778,
              "#fb9f3a"
             ],
             [
              0.8888888888888888,
              "#fdca26"
             ],
             [
              1,
              "#f0f921"
             ]
            ],
            "type": "heatmap"
           }
          ],
          "heatmapgl": [
           {
            "colorbar": {
             "outlinewidth": 0,
             "ticks": ""
            },
            "colorscale": [
             [
              0,
              "#0d0887"
             ],
             [
              0.1111111111111111,
              "#46039f"
             ],
             [
              0.2222222222222222,
              "#7201a8"
             ],
             [
              0.3333333333333333,
              "#9c179e"
             ],
             [
              0.4444444444444444,
              "#bd3786"
             ],
             [
              0.5555555555555556,
              "#d8576b"
             ],
             [
              0.6666666666666666,
              "#ed7953"
             ],
             [
              0.7777777777777778,
              "#fb9f3a"
             ],
             [
              0.8888888888888888,
              "#fdca26"
             ],
             [
              1,
              "#f0f921"
             ]
            ],
            "type": "heatmapgl"
           }
          ],
          "histogram": [
           {
            "marker": {
             "pattern": {
              "fillmode": "overlay",
              "size": 10,
              "solidity": 0.2
             }
            },
            "type": "histogram"
           }
          ],
          "histogram2d": [
           {
            "colorbar": {
             "outlinewidth": 0,
             "ticks": ""
            },
            "colorscale": [
             [
              0,
              "#0d0887"
             ],
             [
              0.1111111111111111,
              "#46039f"
             ],
             [
              0.2222222222222222,
              "#7201a8"
             ],
             [
              0.3333333333333333,
              "#9c179e"
             ],
             [
              0.4444444444444444,
              "#bd3786"
             ],
             [
              0.5555555555555556,
              "#d8576b"
             ],
             [
              0.6666666666666666,
              "#ed7953"
             ],
             [
              0.7777777777777778,
              "#fb9f3a"
             ],
             [
              0.8888888888888888,
              "#fdca26"
             ],
             [
              1,
              "#f0f921"
             ]
            ],
            "type": "histogram2d"
           }
          ],
          "histogram2dcontour": [
           {
            "colorbar": {
             "outlinewidth": 0,
             "ticks": ""
            },
            "colorscale": [
             [
              0,
              "#0d0887"
             ],
             [
              0.1111111111111111,
              "#46039f"
             ],
             [
              0.2222222222222222,
              "#7201a8"
             ],
             [
              0.3333333333333333,
              "#9c179e"
             ],
             [
              0.4444444444444444,
              "#bd3786"
             ],
             [
              0.5555555555555556,
              "#d8576b"
             ],
             [
              0.6666666666666666,
              "#ed7953"
             ],
             [
              0.7777777777777778,
              "#fb9f3a"
             ],
             [
              0.8888888888888888,
              "#fdca26"
             ],
             [
              1,
              "#f0f921"
             ]
            ],
            "type": "histogram2dcontour"
           }
          ],
          "mesh3d": [
           {
            "colorbar": {
             "outlinewidth": 0,
             "ticks": ""
            },
            "type": "mesh3d"
           }
          ],
          "parcoords": [
           {
            "line": {
             "colorbar": {
              "outlinewidth": 0,
              "ticks": ""
             }
            },
            "type": "parcoords"
           }
          ],
          "pie": [
           {
            "automargin": true,
            "type": "pie"
           }
          ],
          "scatter": [
           {
            "marker": {
             "colorbar": {
              "outlinewidth": 0,
              "ticks": ""
             }
            },
            "type": "scatter"
           }
          ],
          "scatter3d": [
           {
            "line": {
             "colorbar": {
              "outlinewidth": 0,
              "ticks": ""
             }
            },
            "marker": {
             "colorbar": {
              "outlinewidth": 0,
              "ticks": ""
             }
            },
            "type": "scatter3d"
           }
          ],
          "scattercarpet": [
           {
            "marker": {
             "colorbar": {
              "outlinewidth": 0,
              "ticks": ""
             }
            },
            "type": "scattercarpet"
           }
          ],
          "scattergeo": [
           {
            "marker": {
             "colorbar": {
              "outlinewidth": 0,
              "ticks": ""
             }
            },
            "type": "scattergeo"
           }
          ],
          "scattergl": [
           {
            "marker": {
             "colorbar": {
              "outlinewidth": 0,
              "ticks": ""
             }
            },
            "type": "scattergl"
           }
          ],
          "scattermapbox": [
           {
            "marker": {
             "colorbar": {
              "outlinewidth": 0,
              "ticks": ""
             }
            },
            "type": "scattermapbox"
           }
          ],
          "scatterpolar": [
           {
            "marker": {
             "colorbar": {
              "outlinewidth": 0,
              "ticks": ""
             }
            },
            "type": "scatterpolar"
           }
          ],
          "scatterpolargl": [
           {
            "marker": {
             "colorbar": {
              "outlinewidth": 0,
              "ticks": ""
             }
            },
            "type": "scatterpolargl"
           }
          ],
          "scatterternary": [
           {
            "marker": {
             "colorbar": {
              "outlinewidth": 0,
              "ticks": ""
             }
            },
            "type": "scatterternary"
           }
          ],
          "surface": [
           {
            "colorbar": {
             "outlinewidth": 0,
             "ticks": ""
            },
            "colorscale": [
             [
              0,
              "#0d0887"
             ],
             [
              0.1111111111111111,
              "#46039f"
             ],
             [
              0.2222222222222222,
              "#7201a8"
             ],
             [
              0.3333333333333333,
              "#9c179e"
             ],
             [
              0.4444444444444444,
              "#bd3786"
             ],
             [
              0.5555555555555556,
              "#d8576b"
             ],
             [
              0.6666666666666666,
              "#ed7953"
             ],
             [
              0.7777777777777778,
              "#fb9f3a"
             ],
             [
              0.8888888888888888,
              "#fdca26"
             ],
             [
              1,
              "#f0f921"
             ]
            ],
            "type": "surface"
           }
          ],
          "table": [
           {
            "cells": {
             "fill": {
              "color": "#EBF0F8"
             },
             "line": {
              "color": "white"
             }
            },
            "header": {
             "fill": {
              "color": "#C8D4E3"
             },
             "line": {
              "color": "white"
             }
            },
            "type": "table"
           }
          ]
         },
         "layout": {
          "annotationdefaults": {
           "arrowcolor": "#2a3f5f",
           "arrowhead": 0,
           "arrowwidth": 1
          },
          "autotypenumbers": "strict",
          "coloraxis": {
           "colorbar": {
            "outlinewidth": 0,
            "ticks": ""
           }
          },
          "colorscale": {
           "diverging": [
            [
             0,
             "#8e0152"
            ],
            [
             0.1,
             "#c51b7d"
            ],
            [
             0.2,
             "#de77ae"
            ],
            [
             0.3,
             "#f1b6da"
            ],
            [
             0.4,
             "#fde0ef"
            ],
            [
             0.5,
             "#f7f7f7"
            ],
            [
             0.6,
             "#e6f5d0"
            ],
            [
             0.7,
             "#b8e186"
            ],
            [
             0.8,
             "#7fbc41"
            ],
            [
             0.9,
             "#4d9221"
            ],
            [
             1,
             "#276419"
            ]
           ],
           "sequential": [
            [
             0,
             "#0d0887"
            ],
            [
             0.1111111111111111,
             "#46039f"
            ],
            [
             0.2222222222222222,
             "#7201a8"
            ],
            [
             0.3333333333333333,
             "#9c179e"
            ],
            [
             0.4444444444444444,
             "#bd3786"
            ],
            [
             0.5555555555555556,
             "#d8576b"
            ],
            [
             0.6666666666666666,
             "#ed7953"
            ],
            [
             0.7777777777777778,
             "#fb9f3a"
            ],
            [
             0.8888888888888888,
             "#fdca26"
            ],
            [
             1,
             "#f0f921"
            ]
           ],
           "sequentialminus": [
            [
             0,
             "#0d0887"
            ],
            [
             0.1111111111111111,
             "#46039f"
            ],
            [
             0.2222222222222222,
             "#7201a8"
            ],
            [
             0.3333333333333333,
             "#9c179e"
            ],
            [
             0.4444444444444444,
             "#bd3786"
            ],
            [
             0.5555555555555556,
             "#d8576b"
            ],
            [
             0.6666666666666666,
             "#ed7953"
            ],
            [
             0.7777777777777778,
             "#fb9f3a"
            ],
            [
             0.8888888888888888,
             "#fdca26"
            ],
            [
             1,
             "#f0f921"
            ]
           ]
          },
          "colorway": [
           "#636efa",
           "#EF553B",
           "#00cc96",
           "#ab63fa",
           "#FFA15A",
           "#19d3f3",
           "#FF6692",
           "#B6E880",
           "#FF97FF",
           "#FECB52"
          ],
          "font": {
           "color": "#2a3f5f"
          },
          "geo": {
           "bgcolor": "white",
           "lakecolor": "white",
           "landcolor": "white",
           "showlakes": true,
           "showland": true,
           "subunitcolor": "#C8D4E3"
          },
          "hoverlabel": {
           "align": "left"
          },
          "hovermode": "closest",
          "mapbox": {
           "style": "light"
          },
          "paper_bgcolor": "white",
          "plot_bgcolor": "white",
          "polar": {
           "angularaxis": {
            "gridcolor": "#EBF0F8",
            "linecolor": "#EBF0F8",
            "ticks": ""
           },
           "bgcolor": "white",
           "radialaxis": {
            "gridcolor": "#EBF0F8",
            "linecolor": "#EBF0F8",
            "ticks": ""
           }
          },
          "scene": {
           "xaxis": {
            "backgroundcolor": "white",
            "gridcolor": "#DFE8F3",
            "gridwidth": 2,
            "linecolor": "#EBF0F8",
            "showbackground": true,
            "ticks": "",
            "zerolinecolor": "#EBF0F8"
           },
           "yaxis": {
            "backgroundcolor": "white",
            "gridcolor": "#DFE8F3",
            "gridwidth": 2,
            "linecolor": "#EBF0F8",
            "showbackground": true,
            "ticks": "",
            "zerolinecolor": "#EBF0F8"
           },
           "zaxis": {
            "backgroundcolor": "white",
            "gridcolor": "#DFE8F3",
            "gridwidth": 2,
            "linecolor": "#EBF0F8",
            "showbackground": true,
            "ticks": "",
            "zerolinecolor": "#EBF0F8"
           }
          },
          "shapedefaults": {
           "line": {
            "color": "#2a3f5f"
           }
          },
          "ternary": {
           "aaxis": {
            "gridcolor": "#DFE8F3",
            "linecolor": "#A2B1C6",
            "ticks": ""
           },
           "baxis": {
            "gridcolor": "#DFE8F3",
            "linecolor": "#A2B1C6",
            "ticks": ""
           },
           "bgcolor": "white",
           "caxis": {
            "gridcolor": "#DFE8F3",
            "linecolor": "#A2B1C6",
            "ticks": ""
           }
          },
          "title": {
           "x": 0.05
          },
          "xaxis": {
           "automargin": true,
           "gridcolor": "#EBF0F8",
           "linecolor": "#EBF0F8",
           "ticks": "",
           "title": {
            "standoff": 15
           },
           "zerolinecolor": "#EBF0F8",
           "zerolinewidth": 2
          },
          "yaxis": {
           "automargin": true,
           "gridcolor": "#EBF0F8",
           "linecolor": "#EBF0F8",
           "ticks": "",
           "title": {
            "standoff": 15
           },
           "zerolinecolor": "#EBF0F8",
           "zerolinewidth": 2
          }
         }
        },
        "title": {
         "font": {
          "family": "Times New Roman",
          "size": 20
         },
         "text": "PlanetSWE"
        },
        "width": 525,
        "xaxis": {
         "showticklabels": false,
         "tickfont": {
          "family": "Times New Roman",
          "size": 20
         },
         "title": {
          "font": {
           "family": "Times New Roman",
           "size": 20
          },
          "text": "Top 12 Models"
         }
        },
        "yaxis": {
         "exponentformat": "E",
         "nticks": 5,
         "tickfont": {
          "family": "Times New Roman",
          "size": 20
         },
         "tickformat": "1.2e",
         "title": {
          "font": {
           "family": "Times New Roman",
           "size": 20
          },
          "text": "Test Loss"
         },
         "type": "log"
        }
       }
      },
      "text/html": [
       "<div>                            <div id=\"4a58885d-d434-43e0-b0c4-864921df7ef7\" class=\"plotly-graph-div\" style=\"height:400px; width:525px;\"></div>            <script type=\"text/javascript\">                require([\"plotly\"], function(Plotly) {                    window.PLOTLYENV=window.PLOTLYENV || {};                                    if (document.getElementById(\"4a58885d-d434-43e0-b0c4-864921df7ef7\")) {                    Plotly.newPlot(                        \"4a58885d-d434-43e0-b0c4-864921df7ef7\",                        [{\"marker\":{\"color\":\"white\",\"line\":{\"color\":\"#5F4690\",\"width\":4},\"size\":12},\"mode\":\"markers\",\"name\":\"LSTM\",\"showlegend\":true,\"type\":\"scatter\",\"x\":[null],\"y\":[null]},{\"marker\":{\"color\":\"white\",\"line\":{\"color\":\"#1D6996\",\"width\":4},\"size\":12},\"mode\":\"markers\",\"name\":\"GRU\",\"showlegend\":true,\"type\":\"scatter\",\"x\":[null],\"y\":[null]},{\"marker\":{\"color\":\"white\",\"line\":{\"color\":\"#38A6A5\",\"width\":4},\"size\":12},\"mode\":\"markers\",\"name\":\"SL-LSTM\",\"showlegend\":true,\"type\":\"scatter\",\"x\":[null],\"y\":[null]},{\"marker\":{\"color\":\"white\",\"line\":{\"color\":\"#0F8554\",\"width\":4},\"size\":12},\"mode\":\"markers\",\"name\":\"SL-GRU\",\"showlegend\":true,\"type\":\"scatter\",\"x\":[null],\"y\":[null]},{\"marker\":{\"color\":\"white\",\"line\":{\"color\":\"#73AF48\",\"width\":4},\"size\":12},\"mode\":\"markers\",\"name\":\"T\",\"showlegend\":true,\"type\":\"scatter\",\"x\":[null],\"y\":[null]},{\"marker\":{\"color\":\"white\",\"line\":{\"color\":\"#EDAD08\",\"width\":4},\"size\":12},\"mode\":\"markers\",\"name\":\"SL-T\",\"showlegend\":true,\"type\":\"scatter\",\"x\":[null],\"y\":[null]},{\"marker\":{\"color\":\"white\",\"line\":{\"color\":\"#E17C05\",\"width\":4},\"size\":12},\"mode\":\"markers\",\"name\":\"SA-T\",\"showlegend\":true,\"type\":\"scatter\",\"x\":[null],\"y\":[null]},{\"marker\":{\"color\":\"white\",\"line\":{\"color\":\"#CC503E\",\"width\":4},\"size\":12},\"mode\":\"markers\",\"name\":\"SASL-T\",\"showlegend\":true,\"type\":\"scatter\",\"x\":[null],\"y\":[null]},{\"marker\":{\"color\":\"#66C5CC\",\"line\":{\"color\":\"white\",\"width\":4},\"size\":12},\"mode\":\"markers\",\"name\":\"MLP\",\"showlegend\":true,\"type\":\"scatter\",\"x\":[null],\"y\":[null]},{\"marker\":{\"color\":\"#F6CF71\",\"line\":{\"color\":\"white\",\"width\":4},\"size\":12},\"mode\":\"markers\",\"name\":\"CNN\",\"showlegend\":true,\"type\":\"scatter\",\"x\":[null],\"y\":[null]},{\"hovertemplate\":\"Encoder: sindy_attention_transformer (x4)<br>Decoder: unet (x1)<br>LR: 1.00e-03<br>Test Loss: 4.02e-03<br><extra></extra>\",\"marker\":{\"color\":\"#F6CF71\",\"line\":{\"color\":\"#E17C05\",\"width\":4},\"size\":12},\"mode\":\"markers\",\"name\":\"sindy_attention_transformer-unet\",\"showlegend\":false,\"type\":\"scatter\",\"x\":[1],\"y\":[0.00401918962597847]},{\"hovertemplate\":\"Encoder: vanilla_transformer (x2)<br>Decoder: mlp (x1)<br>LR: 1.00e-03<br>Test Loss: 3.97e-03<br><extra></extra>\",\"marker\":{\"color\":\"#66C5CC\",\"line\":{\"color\":\"#73AF48\",\"width\":4},\"size\":12},\"mode\":\"markers\",\"name\":\"vanilla_transformer-mlp\",\"showlegend\":false,\"type\":\"scatter\",\"x\":[2],\"y\":[0.003966554126236588]},{\"hovertemplate\":\"Encoder: vanilla_transformer (x3)<br>Decoder: unet (x1)<br>LR: 1.00e-03<br>Test Loss: 3.95e-03<br><extra></extra>\",\"marker\":{\"color\":\"#F6CF71\",\"line\":{\"color\":\"#73AF48\",\"width\":4},\"size\":12},\"mode\":\"markers\",\"name\":\"vanilla_transformer-unet\",\"showlegend\":false,\"type\":\"scatter\",\"x\":[3],\"y\":[0.003954097628593445]},{\"hovertemplate\":\"Encoder: vanilla_transformer (x4)<br>Decoder: unet (x1)<br>LR: 1.00e-03<br>Test Loss: 3.93e-03<br><extra></extra>\",\"marker\":{\"color\":\"#F6CF71\",\"line\":{\"color\":\"#73AF48\",\"width\":4},\"size\":12},\"mode\":\"markers\",\"name\":\"vanilla_transformer-unet\",\"showlegend\":false,\"type\":\"scatter\",\"x\":[4],\"y\":[0.003930476610548794]},{\"hovertemplate\":\"Encoder: sindy_attention_transformer (x3)<br>Decoder: unet (x1)<br>LR: 1.00e-03<br>Test Loss: 3.92e-03<br><extra></extra>\",\"marker\":{\"color\":\"#F6CF71\",\"line\":{\"color\":\"#E17C05\",\"width\":4},\"size\":12},\"mode\":\"markers\",\"name\":\"sindy_attention_transformer-unet\",\"showlegend\":false,\"type\":\"scatter\",\"x\":[5],\"y\":[0.003917470341548324]},{\"hovertemplate\":\"Encoder: vanilla_transformer (x1)<br>Decoder: mlp (x1)<br>LR: 1.00e-03<br>Test Loss: 3.89e-03<br><extra></extra>\",\"marker\":{\"color\":\"#66C5CC\",\"line\":{\"color\":\"#73AF48\",\"width\":4},\"size\":12},\"mode\":\"markers\",\"name\":\"vanilla_transformer-mlp\",\"showlegend\":false,\"type\":\"scatter\",\"x\":[6],\"y\":[0.003891577129252255]},{\"hovertemplate\":\"Encoder: vanilla_transformer (x1)<br>Decoder: mlp (x1)<br>LR: 1.00e-02<br>Test Loss: 3.89e-03<br><extra></extra>\",\"marker\":{\"color\":\"#66C5CC\",\"line\":{\"color\":\"#73AF48\",\"width\":4},\"size\":12},\"mode\":\"markers\",\"name\":\"vanilla_transformer-mlp\",\"showlegend\":false,\"type\":\"scatter\",\"x\":[7],\"y\":[0.0038850732380524278]},{\"hovertemplate\":\"Encoder: sindy_attention_transformer (x1)<br>Decoder: mlp (x1)<br>LR: 1.00e-03<br>Test Loss: 3.82e-03<br><extra></extra>\",\"marker\":{\"color\":\"#66C5CC\",\"line\":{\"color\":\"#E17C05\",\"width\":4},\"size\":12},\"mode\":\"markers\",\"name\":\"sindy_attention_transformer-mlp\",\"showlegend\":false,\"type\":\"scatter\",\"x\":[8],\"y\":[0.0038221240392886102]},{\"hovertemplate\":\"Encoder: sindy_attention_transformer (x2)<br>Decoder: unet (x1)<br>LR: 1.00e-03<br>Test Loss: 3.80e-03<br><extra></extra>\",\"marker\":{\"color\":\"#F6CF71\",\"line\":{\"color\":\"#E17C05\",\"width\":4},\"size\":12},\"mode\":\"markers\",\"name\":\"sindy_attention_transformer-unet\",\"showlegend\":false,\"type\":\"scatter\",\"x\":[9],\"y\":[0.0038021064247004688]},{\"hovertemplate\":\"Encoder: vanilla_transformer (x2)<br>Decoder: unet (x1)<br>LR: 1.00e-03<br>Test Loss: 3.79e-03<br><extra></extra>\",\"marker\":{\"color\":\"#F6CF71\",\"line\":{\"color\":\"#73AF48\",\"width\":4},\"size\":12},\"mode\":\"markers\",\"name\":\"vanilla_transformer-unet\",\"showlegend\":false,\"type\":\"scatter\",\"x\":[10],\"y\":[0.00378527061548084]},{\"hovertemplate\":\"Encoder: sindy_attention_transformer (x1)<br>Decoder: unet (x1)<br>LR: 1.00e-03<br>Test Loss: 3.63e-03<br><extra></extra>\",\"marker\":{\"color\":\"#F6CF71\",\"line\":{\"color\":\"#E17C05\",\"width\":4},\"size\":12},\"mode\":\"markers\",\"name\":\"sindy_attention_transformer-unet\",\"showlegend\":false,\"type\":\"scatter\",\"x\":[11],\"y\":[0.003631792846135795]},{\"hovertemplate\":\"Encoder: vanilla_transformer (x1)<br>Decoder: unet (x1)<br>LR: 1.00e-03<br>Test Loss: 3.47e-03<br><extra></extra>\",\"marker\":{\"color\":\"#F6CF71\",\"line\":{\"color\":\"#73AF48\",\"width\":4},\"size\":12},\"mode\":\"markers\",\"name\":\"vanilla_transformer-unet\",\"showlegend\":false,\"type\":\"scatter\",\"x\":[12],\"y\":[0.003470553958322853]}],                        {\"font\":{\"family\":\"Times New Roman\"},\"height\":400,\"hovermode\":\"closest\",\"legend\":{\"font\":{\"family\":\"Times New Roman\",\"size\":20},\"title\":{\"font\":{\"family\":\"Times New Roman\",\"size\":20},\"text\":\"Legend\"}},\"showlegend\":true,\"template\":{\"data\":{\"bar\":[{\"error_x\":{\"color\":\"#2a3f5f\"},\"error_y\":{\"color\":\"#2a3f5f\"},\"marker\":{\"line\":{\"color\":\"white\",\"width\":0.5},\"pattern\":{\"fillmode\":\"overlay\",\"size\":10,\"solidity\":0.2}},\"type\":\"bar\"}],\"barpolar\":[{\"marker\":{\"line\":{\"color\":\"white\",\"width\":0.5},\"pattern\":{\"fillmode\":\"overlay\",\"size\":10,\"solidity\":0.2}},\"type\":\"barpolar\"}],\"carpet\":[{\"aaxis\":{\"endlinecolor\":\"#2a3f5f\",\"gridcolor\":\"#C8D4E3\",\"linecolor\":\"#C8D4E3\",\"minorgridcolor\":\"#C8D4E3\",\"startlinecolor\":\"#2a3f5f\"},\"baxis\":{\"endlinecolor\":\"#2a3f5f\",\"gridcolor\":\"#C8D4E3\",\"linecolor\":\"#C8D4E3\",\"minorgridcolor\":\"#C8D4E3\",\"startlinecolor\":\"#2a3f5f\"},\"type\":\"carpet\"}],\"choropleth\":[{\"colorbar\":{\"outlinewidth\":0,\"ticks\":\"\"},\"type\":\"choropleth\"}],\"contour\":[{\"colorbar\":{\"outlinewidth\":0,\"ticks\":\"\"},\"colorscale\":[[0.0,\"#0d0887\"],[0.1111111111111111,\"#46039f\"],[0.2222222222222222,\"#7201a8\"],[0.3333333333333333,\"#9c179e\"],[0.4444444444444444,\"#bd3786\"],[0.5555555555555556,\"#d8576b\"],[0.6666666666666666,\"#ed7953\"],[0.7777777777777778,\"#fb9f3a\"],[0.8888888888888888,\"#fdca26\"],[1.0,\"#f0f921\"]],\"type\":\"contour\"}],\"contourcarpet\":[{\"colorbar\":{\"outlinewidth\":0,\"ticks\":\"\"},\"type\":\"contourcarpet\"}],\"heatmap\":[{\"colorbar\":{\"outlinewidth\":0,\"ticks\":\"\"},\"colorscale\":[[0.0,\"#0d0887\"],[0.1111111111111111,\"#46039f\"],[0.2222222222222222,\"#7201a8\"],[0.3333333333333333,\"#9c179e\"],[0.4444444444444444,\"#bd3786\"],[0.5555555555555556,\"#d8576b\"],[0.6666666666666666,\"#ed7953\"],[0.7777777777777778,\"#fb9f3a\"],[0.8888888888888888,\"#fdca26\"],[1.0,\"#f0f921\"]],\"type\":\"heatmap\"}],\"heatmapgl\":[{\"colorbar\":{\"outlinewidth\":0,\"ticks\":\"\"},\"colorscale\":[[0.0,\"#0d0887\"],[0.1111111111111111,\"#46039f\"],[0.2222222222222222,\"#7201a8\"],[0.3333333333333333,\"#9c179e\"],[0.4444444444444444,\"#bd3786\"],[0.5555555555555556,\"#d8576b\"],[0.6666666666666666,\"#ed7953\"],[0.7777777777777778,\"#fb9f3a\"],[0.8888888888888888,\"#fdca26\"],[1.0,\"#f0f921\"]],\"type\":\"heatmapgl\"}],\"histogram\":[{\"marker\":{\"pattern\":{\"fillmode\":\"overlay\",\"size\":10,\"solidity\":0.2}},\"type\":\"histogram\"}],\"histogram2d\":[{\"colorbar\":{\"outlinewidth\":0,\"ticks\":\"\"},\"colorscale\":[[0.0,\"#0d0887\"],[0.1111111111111111,\"#46039f\"],[0.2222222222222222,\"#7201a8\"],[0.3333333333333333,\"#9c179e\"],[0.4444444444444444,\"#bd3786\"],[0.5555555555555556,\"#d8576b\"],[0.6666666666666666,\"#ed7953\"],[0.7777777777777778,\"#fb9f3a\"],[0.8888888888888888,\"#fdca26\"],[1.0,\"#f0f921\"]],\"type\":\"histogram2d\"}],\"histogram2dcontour\":[{\"colorbar\":{\"outlinewidth\":0,\"ticks\":\"\"},\"colorscale\":[[0.0,\"#0d0887\"],[0.1111111111111111,\"#46039f\"],[0.2222222222222222,\"#7201a8\"],[0.3333333333333333,\"#9c179e\"],[0.4444444444444444,\"#bd3786\"],[0.5555555555555556,\"#d8576b\"],[0.6666666666666666,\"#ed7953\"],[0.7777777777777778,\"#fb9f3a\"],[0.8888888888888888,\"#fdca26\"],[1.0,\"#f0f921\"]],\"type\":\"histogram2dcontour\"}],\"mesh3d\":[{\"colorbar\":{\"outlinewidth\":0,\"ticks\":\"\"},\"type\":\"mesh3d\"}],\"parcoords\":[{\"line\":{\"colorbar\":{\"outlinewidth\":0,\"ticks\":\"\"}},\"type\":\"parcoords\"}],\"pie\":[{\"automargin\":true,\"type\":\"pie\"}],\"scatter\":[{\"marker\":{\"colorbar\":{\"outlinewidth\":0,\"ticks\":\"\"}},\"type\":\"scatter\"}],\"scatter3d\":[{\"line\":{\"colorbar\":{\"outlinewidth\":0,\"ticks\":\"\"}},\"marker\":{\"colorbar\":{\"outlinewidth\":0,\"ticks\":\"\"}},\"type\":\"scatter3d\"}],\"scattercarpet\":[{\"marker\":{\"colorbar\":{\"outlinewidth\":0,\"ticks\":\"\"}},\"type\":\"scattercarpet\"}],\"scattergeo\":[{\"marker\":{\"colorbar\":{\"outlinewidth\":0,\"ticks\":\"\"}},\"type\":\"scattergeo\"}],\"scattergl\":[{\"marker\":{\"colorbar\":{\"outlinewidth\":0,\"ticks\":\"\"}},\"type\":\"scattergl\"}],\"scattermapbox\":[{\"marker\":{\"colorbar\":{\"outlinewidth\":0,\"ticks\":\"\"}},\"type\":\"scattermapbox\"}],\"scatterpolar\":[{\"marker\":{\"colorbar\":{\"outlinewidth\":0,\"ticks\":\"\"}},\"type\":\"scatterpolar\"}],\"scatterpolargl\":[{\"marker\":{\"colorbar\":{\"outlinewidth\":0,\"ticks\":\"\"}},\"type\":\"scatterpolargl\"}],\"scatterternary\":[{\"marker\":{\"colorbar\":{\"outlinewidth\":0,\"ticks\":\"\"}},\"type\":\"scatterternary\"}],\"surface\":[{\"colorbar\":{\"outlinewidth\":0,\"ticks\":\"\"},\"colorscale\":[[0.0,\"#0d0887\"],[0.1111111111111111,\"#46039f\"],[0.2222222222222222,\"#7201a8\"],[0.3333333333333333,\"#9c179e\"],[0.4444444444444444,\"#bd3786\"],[0.5555555555555556,\"#d8576b\"],[0.6666666666666666,\"#ed7953\"],[0.7777777777777778,\"#fb9f3a\"],[0.8888888888888888,\"#fdca26\"],[1.0,\"#f0f921\"]],\"type\":\"surface\"}],\"table\":[{\"cells\":{\"fill\":{\"color\":\"#EBF0F8\"},\"line\":{\"color\":\"white\"}},\"header\":{\"fill\":{\"color\":\"#C8D4E3\"},\"line\":{\"color\":\"white\"}},\"type\":\"table\"}]},\"layout\":{\"annotationdefaults\":{\"arrowcolor\":\"#2a3f5f\",\"arrowhead\":0,\"arrowwidth\":1},\"autotypenumbers\":\"strict\",\"coloraxis\":{\"colorbar\":{\"outlinewidth\":0,\"ticks\":\"\"}},\"colorscale\":{\"diverging\":[[0,\"#8e0152\"],[0.1,\"#c51b7d\"],[0.2,\"#de77ae\"],[0.3,\"#f1b6da\"],[0.4,\"#fde0ef\"],[0.5,\"#f7f7f7\"],[0.6,\"#e6f5d0\"],[0.7,\"#b8e186\"],[0.8,\"#7fbc41\"],[0.9,\"#4d9221\"],[1,\"#276419\"]],\"sequential\":[[0.0,\"#0d0887\"],[0.1111111111111111,\"#46039f\"],[0.2222222222222222,\"#7201a8\"],[0.3333333333333333,\"#9c179e\"],[0.4444444444444444,\"#bd3786\"],[0.5555555555555556,\"#d8576b\"],[0.6666666666666666,\"#ed7953\"],[0.7777777777777778,\"#fb9f3a\"],[0.8888888888888888,\"#fdca26\"],[1.0,\"#f0f921\"]],\"sequentialminus\":[[0.0,\"#0d0887\"],[0.1111111111111111,\"#46039f\"],[0.2222222222222222,\"#7201a8\"],[0.3333333333333333,\"#9c179e\"],[0.4444444444444444,\"#bd3786\"],[0.5555555555555556,\"#d8576b\"],[0.6666666666666666,\"#ed7953\"],[0.7777777777777778,\"#fb9f3a\"],[0.8888888888888888,\"#fdca26\"],[1.0,\"#f0f921\"]]},\"colorway\":[\"#636efa\",\"#EF553B\",\"#00cc96\",\"#ab63fa\",\"#FFA15A\",\"#19d3f3\",\"#FF6692\",\"#B6E880\",\"#FF97FF\",\"#FECB52\"],\"font\":{\"color\":\"#2a3f5f\"},\"geo\":{\"bgcolor\":\"white\",\"lakecolor\":\"white\",\"landcolor\":\"white\",\"showlakes\":true,\"showland\":true,\"subunitcolor\":\"#C8D4E3\"},\"hoverlabel\":{\"align\":\"left\"},\"hovermode\":\"closest\",\"mapbox\":{\"style\":\"light\"},\"paper_bgcolor\":\"white\",\"plot_bgcolor\":\"white\",\"polar\":{\"angularaxis\":{\"gridcolor\":\"#EBF0F8\",\"linecolor\":\"#EBF0F8\",\"ticks\":\"\"},\"bgcolor\":\"white\",\"radialaxis\":{\"gridcolor\":\"#EBF0F8\",\"linecolor\":\"#EBF0F8\",\"ticks\":\"\"}},\"scene\":{\"xaxis\":{\"backgroundcolor\":\"white\",\"gridcolor\":\"#DFE8F3\",\"gridwidth\":2,\"linecolor\":\"#EBF0F8\",\"showbackground\":true,\"ticks\":\"\",\"zerolinecolor\":\"#EBF0F8\"},\"yaxis\":{\"backgroundcolor\":\"white\",\"gridcolor\":\"#DFE8F3\",\"gridwidth\":2,\"linecolor\":\"#EBF0F8\",\"showbackground\":true,\"ticks\":\"\",\"zerolinecolor\":\"#EBF0F8\"},\"zaxis\":{\"backgroundcolor\":\"white\",\"gridcolor\":\"#DFE8F3\",\"gridwidth\":2,\"linecolor\":\"#EBF0F8\",\"showbackground\":true,\"ticks\":\"\",\"zerolinecolor\":\"#EBF0F8\"}},\"shapedefaults\":{\"line\":{\"color\":\"#2a3f5f\"}},\"ternary\":{\"aaxis\":{\"gridcolor\":\"#DFE8F3\",\"linecolor\":\"#A2B1C6\",\"ticks\":\"\"},\"baxis\":{\"gridcolor\":\"#DFE8F3\",\"linecolor\":\"#A2B1C6\",\"ticks\":\"\"},\"bgcolor\":\"white\",\"caxis\":{\"gridcolor\":\"#DFE8F3\",\"linecolor\":\"#A2B1C6\",\"ticks\":\"\"}},\"title\":{\"x\":0.05},\"xaxis\":{\"automargin\":true,\"gridcolor\":\"#EBF0F8\",\"linecolor\":\"#EBF0F8\",\"ticks\":\"\",\"title\":{\"standoff\":15},\"zerolinecolor\":\"#EBF0F8\",\"zerolinewidth\":2},\"yaxis\":{\"automargin\":true,\"gridcolor\":\"#EBF0F8\",\"linecolor\":\"#EBF0F8\",\"ticks\":\"\",\"title\":{\"standoff\":15},\"zerolinecolor\":\"#EBF0F8\",\"zerolinewidth\":2}}},\"title\":{\"font\":{\"family\":\"Times New Roman\",\"size\":20},\"text\":\"PlanetSWE\"},\"width\":525,\"xaxis\":{\"showticklabels\":false,\"tickfont\":{\"family\":\"Times New Roman\",\"size\":20},\"title\":{\"font\":{\"family\":\"Times New Roman\",\"size\":20},\"text\":\"Top 12 Models\"}},\"yaxis\":{\"exponentformat\":\"E\",\"nticks\":5,\"tickfont\":{\"family\":\"Times New Roman\",\"size\":20},\"tickformat\":\"1.2e\",\"title\":{\"font\":{\"family\":\"Times New Roman\",\"size\":20},\"text\":\"Test Loss\"},\"type\":\"log\"}},                        {\"responsive\": true}                    ).then(function(){\n",
       "                            \n",
       "var gd = document.getElementById('4a58885d-d434-43e0-b0c4-864921df7ef7');\n",
       "var x = new MutationObserver(function (mutations, observer) {{\n",
       "        var display = window.getComputedStyle(gd).display;\n",
       "        if (!display || display === 'none') {{\n",
       "            console.log([gd, 'removed!']);\n",
       "            Plotly.purge(gd);\n",
       "            observer.disconnect();\n",
       "        }}\n",
       "}});\n",
       "\n",
       "// Listen for the removal of the full notebook cells\n",
       "var notebookContainer = gd.closest('#notebook-container');\n",
       "if (notebookContainer) {{\n",
       "    x.observe(notebookContainer, {childList: true});\n",
       "}}\n",
       "\n",
       "// Listen for the clearing of the current output cell\n",
       "var outputEl = gd.closest('.output');\n",
       "if (outputEl) {{\n",
       "    x.observe(outputEl, {childList: true});\n",
       "}}\n",
       "\n",
       "                        })                };                });            </script>        </div>"
      ]
     },
     "metadata": {},
     "output_type": "display_data"
    },
    {
     "name": "stdout",
     "output_type": "stream",
     "text": [
      "[('gru_unet_sst_e1_d1_lr1.00e-02_p1.pkl', {'test_loss': 0.0014724985230714083, 'start_epoch': 23, 'best_val': 0.0013933521695435047, 'best_epoch': 23, 'train_losses': [0.07939040722946326, 0.02424876681632466, 0.021546482625934813, 0.020280032729109127, 0.019665385286013286, 0.01936081527835793, 0.019292056146595214, 0.01946179796424177, 0.01919062787459956, 0.019263348231712978, 0.01913987286388874, 0.019032497372892167, 0.01906306089626418, 0.01902498449716303, 0.01895106438961294, 0.018926063345538244, 0.01896102498802874, 0.018952007095019024, 0.018926526937219832, 0.01895444778104623, 0.018980390081803005, 0.018903647859891255, 0.018908305714527767], 'val_losses': [0.009746433235704899, 0.006941520143300295, 0.0025536769535392523, 0.0030938012059777975, 0.004076869692653418, 0.002561084693297744, 0.001281240489333868, 0.0019356503617018461, 0.003393482184037566, 0.0017464838456362486, 0.001683334819972515, 0.0032039738725870848, 0.0022324572782963514, 0.0019462195923551917, 0.0023565664887428284, 0.001877875067293644, 0.0027039803098887205, 0.0017606363398954272, 0.0024442393332719803, 0.0019015476573258638, 0.0025012297555804253, 0.0029560525435954332, 0.0013933521695435047], 'sensors': [(98, 215), (10, 132), (130, 248), (103, 155), (122, 183), (149, 111), (129, 71), (72, 71), (64, 272), (154, 75), (18, 350), (84, 241), (143, 51), (90, 222), (80, 312), (141, 244), (113, 266), (140, 7), (0, 313), (126, 170), (62, 166), (145, 113), (139, 229), (23, 41), (81, 260), (125, 55), (77, 282), (74, 63), (140, 170), (138, 104), (154, 280), (150, 147), (152, 197), (61, 148), (47, 16), (156, 336), (66, 243), (17, 45), (20, 358), (138, 349), (100, 268), (70, 267), (70, 230), (126, 338), (91, 42), (83, 313), (150, 322), (69, 59), (56, 190), (43, 170)], 'hyperparameters': {'batch_size': 128, 'dataset': 'sst', 'decoder': 'unet', 'decoder_depth': 1, 'device': 'cuda:0', 'dropout': 0.1, 'dt': 1.0, 'early_stop': 20, 'encoder': 'gru', 'eval_full': False, 'encoder_depth': 1, 'epochs': 100, 'hidden_size': 100, 'generate_test_plots': True, 'generate_training_plots': False, 'include_sine': False, 'lr': 0.01, 'n_heads': 2, 'n_sensors': 50, 'n_well_tracks': 10, 'poly_order': 1, 'save_every_n_epochs': 10, 'sindy_attention_threshold': 0.05, 'sindy_attention_threshold_epoch': 10, 'sindy_attention_weight': 0.0, 'sindy_loss_threshold': 0.05, 'sindy_loss_weight': 100, 'skip_load_checkpoint': False, 'verbose': False, 'window_length': 50, 'd_data_in': 1, 'data_rows_in': 180, 'data_cols_in': 360, 'd_data_out': 1, 'data_rows_out': 180, 'data_cols_out': 360, 'd_model': 50, 'dim_feedforward': 400, 'output_size': 64800, 'latest_checkpoint_path': PosixPath('/app/code/checkpoints/gru_unet_sst_e1_d1_lr1.00e-02_p1_model_latest.pt'), 'best_checkpoint_path': PosixPath('/app/code/checkpoints/gru_unet_sst_e1_d1_lr1.00e-02_p1_model_best.pt')}})]\n"
     ]
    },
    {
     "name": "stdout",
     "output_type": "stream",
     "text": [
      "Saved /home/alexey/Research4/T-SHRED/figures/sst_scatter.pdf\n"
     ]
    },
    {
     "data": {
      "application/vnd.plotly.v1+json": {
       "config": {
        "plotlyServerURL": "https://plot.ly"
       },
       "data": [
        {
         "marker": {
          "color": "white",
          "line": {
           "color": "#5F4690",
           "width": 4
          },
          "size": 12
         },
         "mode": "markers",
         "name": "LSTM",
         "showlegend": true,
         "type": "scatter",
         "x": [
          null
         ],
         "y": [
          null
         ]
        },
        {
         "marker": {
          "color": "white",
          "line": {
           "color": "#1D6996",
           "width": 4
          },
          "size": 12
         },
         "mode": "markers",
         "name": "GRU",
         "showlegend": true,
         "type": "scatter",
         "x": [
          null
         ],
         "y": [
          null
         ]
        },
        {
         "marker": {
          "color": "white",
          "line": {
           "color": "#38A6A5",
           "width": 4
          },
          "size": 12
         },
         "mode": "markers",
         "name": "SL-LSTM",
         "showlegend": true,
         "type": "scatter",
         "x": [
          null
         ],
         "y": [
          null
         ]
        },
        {
         "marker": {
          "color": "white",
          "line": {
           "color": "#0F8554",
           "width": 4
          },
          "size": 12
         },
         "mode": "markers",
         "name": "SL-GRU",
         "showlegend": true,
         "type": "scatter",
         "x": [
          null
         ],
         "y": [
          null
         ]
        },
        {
         "marker": {
          "color": "white",
          "line": {
           "color": "#73AF48",
           "width": 4
          },
          "size": 12
         },
         "mode": "markers",
         "name": "T",
         "showlegend": true,
         "type": "scatter",
         "x": [
          null
         ],
         "y": [
          null
         ]
        },
        {
         "marker": {
          "color": "white",
          "line": {
           "color": "#EDAD08",
           "width": 4
          },
          "size": 12
         },
         "mode": "markers",
         "name": "SL-T",
         "showlegend": true,
         "type": "scatter",
         "x": [
          null
         ],
         "y": [
          null
         ]
        },
        {
         "marker": {
          "color": "white",
          "line": {
           "color": "#E17C05",
           "width": 4
          },
          "size": 12
         },
         "mode": "markers",
         "name": "SA-T",
         "showlegend": true,
         "type": "scatter",
         "x": [
          null
         ],
         "y": [
          null
         ]
        },
        {
         "marker": {
          "color": "white",
          "line": {
           "color": "#CC503E",
           "width": 4
          },
          "size": 12
         },
         "mode": "markers",
         "name": "SASL-T",
         "showlegend": true,
         "type": "scatter",
         "x": [
          null
         ],
         "y": [
          null
         ]
        },
        {
         "marker": {
          "color": "#66C5CC",
          "line": {
           "color": "white",
           "width": 4
          },
          "size": 12
         },
         "mode": "markers",
         "name": "MLP",
         "showlegend": true,
         "type": "scatter",
         "x": [
          null
         ],
         "y": [
          null
         ]
        },
        {
         "marker": {
          "color": "#F6CF71",
          "line": {
           "color": "white",
           "width": 4
          },
          "size": 12
         },
         "mode": "markers",
         "name": "CNN",
         "showlegend": true,
         "type": "scatter",
         "x": [
          null
         ],
         "y": [
          null
         ]
        },
        {
         "hovertemplate": "Encoder: sindy_attention_transformer (x1)<br>Decoder: mlp (x1)<br>LR: 1.00e-03<br>Test Loss: 2.77e-03<br><extra></extra>",
         "marker": {
          "color": "#66C5CC",
          "line": {
           "color": "#E17C05",
           "width": 4
          },
          "size": 12
         },
         "mode": "markers",
         "name": "sindy_attention_transformer-mlp",
         "showlegend": false,
         "type": "scatter",
         "x": [
          1
         ],
         "y": [
          0.002770321210846305
         ]
        },
        {
         "hovertemplate": "Encoder: sindy_attention_transformer (x2)<br>Decoder: unet (x1)<br>LR: 1.00e-03<br>Test Loss: 2.75e-03<br><extra></extra>",
         "marker": {
          "color": "#F6CF71",
          "line": {
           "color": "#E17C05",
           "width": 4
          },
          "size": 12
         },
         "mode": "markers",
         "name": "sindy_attention_transformer-unet",
         "showlegend": false,
         "type": "scatter",
         "x": [
          2
         ],
         "y": [
          0.002754311775788665
         ]
        },
        {
         "hovertemplate": "Encoder: vanilla_transformer (x3)<br>Decoder: unet (x1)<br>LR: 1.00e-03<br>Test Loss: 2.75e-03<br><extra></extra>",
         "marker": {
          "color": "#F6CF71",
          "line": {
           "color": "#73AF48",
           "width": 4
          },
          "size": 12
         },
         "mode": "markers",
         "name": "vanilla_transformer-unet",
         "showlegend": false,
         "type": "scatter",
         "x": [
          3
         ],
         "y": [
          0.00275022373534739
         ]
        },
        {
         "hovertemplate": "Encoder: vanilla_transformer (x1)<br>Decoder: mlp (x1)<br>LR: 1.00e-03<br>Test Loss: 2.74e-03<br><extra></extra>",
         "marker": {
          "color": "#66C5CC",
          "line": {
           "color": "#73AF48",
           "width": 4
          },
          "size": 12
         },
         "mode": "markers",
         "name": "vanilla_transformer-mlp",
         "showlegend": false,
         "type": "scatter",
         "x": [
          4
         ],
         "y": [
          0.0027353093028068542
         ]
        },
        {
         "hovertemplate": "Encoder: vanilla_transformer (x2)<br>Decoder: unet (x1)<br>LR: 1.00e-03<br>Test Loss: 2.69e-03<br><extra></extra>",
         "marker": {
          "color": "#F6CF71",
          "line": {
           "color": "#73AF48",
           "width": 4
          },
          "size": 12
         },
         "mode": "markers",
         "name": "vanilla_transformer-unet",
         "showlegend": false,
         "type": "scatter",
         "x": [
          5
         ],
         "y": [
          0.002692997921258211
         ]
        },
        {
         "hovertemplate": "Encoder: vanilla_transformer (x4)<br>Decoder: unet (x1)<br>LR: 1.00e-03<br>Test Loss: 2.69e-03<br><extra></extra>",
         "marker": {
          "color": "#F6CF71",
          "line": {
           "color": "#73AF48",
           "width": 4
          },
          "size": 12
         },
         "mode": "markers",
         "name": "vanilla_transformer-unet",
         "showlegend": false,
         "type": "scatter",
         "x": [
          6
         ],
         "y": [
          0.0026920712552964687
         ]
        },
        {
         "hovertemplate": "Encoder: sindy_attention_transformer (x1)<br>Decoder: unet (x1)<br>LR: 1.00e-03<br>Test Loss: 2.69e-03<br><extra></extra>",
         "marker": {
          "color": "#F6CF71",
          "line": {
           "color": "#E17C05",
           "width": 4
          },
          "size": 12
         },
         "mode": "markers",
         "name": "sindy_attention_transformer-unet",
         "showlegend": false,
         "type": "scatter",
         "x": [
          7
         ],
         "y": [
          0.002688785782083869
         ]
        },
        {
         "hovertemplate": "Encoder: vanilla_transformer (x1)<br>Decoder: unet (x1)<br>LR: 1.00e-03<br>Test Loss: 2.65e-03<br><extra></extra>",
         "marker": {
          "color": "#F6CF71",
          "line": {
           "color": "#73AF48",
           "width": 4
          },
          "size": 12
         },
         "mode": "markers",
         "name": "vanilla_transformer-unet",
         "showlegend": false,
         "type": "scatter",
         "x": [
          8
         ],
         "y": [
          0.002645087894052267
         ]
        },
        {
         "hovertemplate": "Encoder: sindy_attention_transformer (x1)<br>Decoder: mlp (x1)<br>LR: 1.00e-02<br>Test Loss: 2.42e-03<br><extra></extra>",
         "marker": {
          "color": "#66C5CC",
          "line": {
           "color": "#E17C05",
           "width": 4
          },
          "size": 12
         },
         "mode": "markers",
         "name": "sindy_attention_transformer-mlp",
         "showlegend": false,
         "type": "scatter",
         "x": [
          9
         ],
         "y": [
          0.0024238917976617813
         ]
        },
        {
         "hovertemplate": "Encoder: vanilla_transformer (x1)<br>Decoder: mlp (x1)<br>LR: 1.00e-02<br>Test Loss: 2.21e-03<br><extra></extra>",
         "marker": {
          "color": "#66C5CC",
          "line": {
           "color": "#73AF48",
           "width": 4
          },
          "size": 12
         },
         "mode": "markers",
         "name": "vanilla_transformer-mlp",
         "showlegend": false,
         "type": "scatter",
         "x": [
          10
         ],
         "y": [
          0.0022107705008238554
         ]
        },
        {
         "hovertemplate": "Encoder: vanilla_transformer (x1)<br>Decoder: unet (x1)<br>LR: 1.00e-02<br>Test Loss: 1.74e-03<br><extra></extra>",
         "marker": {
          "color": "#F6CF71",
          "line": {
           "color": "#73AF48",
           "width": 4
          },
          "size": 12
         },
         "mode": "markers",
         "name": "vanilla_transformer-unet",
         "showlegend": false,
         "type": "scatter",
         "x": [
          11
         ],
         "y": [
          0.0017366006504744291
         ]
        },
        {
         "hovertemplate": "Encoder: sindy_attention_transformer (x1)<br>Decoder: unet (x1)<br>LR: 1.00e-02<br>Test Loss: 1.67e-03<br><extra></extra>",
         "marker": {
          "color": "#F6CF71",
          "line": {
           "color": "#E17C05",
           "width": 4
          },
          "size": 12
         },
         "mode": "markers",
         "name": "sindy_attention_transformer-unet",
         "showlegend": false,
         "type": "scatter",
         "x": [
          12
         ],
         "y": [
          0.0016737185651436448
         ]
        }
       ],
       "layout": {
        "font": {
         "family": "Times New Roman"
        },
        "height": 400,
        "hovermode": "closest",
        "legend": {
         "font": {
          "family": "Times New Roman",
          "size": 20
         },
         "title": {
          "font": {
           "family": "Times New Roman",
           "size": 20
          },
          "text": "Legend"
         }
        },
        "showlegend": true,
        "template": {
         "data": {
          "bar": [
           {
            "error_x": {
             "color": "#2a3f5f"
            },
            "error_y": {
             "color": "#2a3f5f"
            },
            "marker": {
             "line": {
              "color": "white",
              "width": 0.5
             },
             "pattern": {
              "fillmode": "overlay",
              "size": 10,
              "solidity": 0.2
             }
            },
            "type": "bar"
           }
          ],
          "barpolar": [
           {
            "marker": {
             "line": {
              "color": "white",
              "width": 0.5
             },
             "pattern": {
              "fillmode": "overlay",
              "size": 10,
              "solidity": 0.2
             }
            },
            "type": "barpolar"
           }
          ],
          "carpet": [
           {
            "aaxis": {
             "endlinecolor": "#2a3f5f",
             "gridcolor": "#C8D4E3",
             "linecolor": "#C8D4E3",
             "minorgridcolor": "#C8D4E3",
             "startlinecolor": "#2a3f5f"
            },
            "baxis": {
             "endlinecolor": "#2a3f5f",
             "gridcolor": "#C8D4E3",
             "linecolor": "#C8D4E3",
             "minorgridcolor": "#C8D4E3",
             "startlinecolor": "#2a3f5f"
            },
            "type": "carpet"
           }
          ],
          "choropleth": [
           {
            "colorbar": {
             "outlinewidth": 0,
             "ticks": ""
            },
            "type": "choropleth"
           }
          ],
          "contour": [
           {
            "colorbar": {
             "outlinewidth": 0,
             "ticks": ""
            },
            "colorscale": [
             [
              0,
              "#0d0887"
             ],
             [
              0.1111111111111111,
              "#46039f"
             ],
             [
              0.2222222222222222,
              "#7201a8"
             ],
             [
              0.3333333333333333,
              "#9c179e"
             ],
             [
              0.4444444444444444,
              "#bd3786"
             ],
             [
              0.5555555555555556,
              "#d8576b"
             ],
             [
              0.6666666666666666,
              "#ed7953"
             ],
             [
              0.7777777777777778,
              "#fb9f3a"
             ],
             [
              0.8888888888888888,
              "#fdca26"
             ],
             [
              1,
              "#f0f921"
             ]
            ],
            "type": "contour"
           }
          ],
          "contourcarpet": [
           {
            "colorbar": {
             "outlinewidth": 0,
             "ticks": ""
            },
            "type": "contourcarpet"
           }
          ],
          "heatmap": [
           {
            "colorbar": {
             "outlinewidth": 0,
             "ticks": ""
            },
            "colorscale": [
             [
              0,
              "#0d0887"
             ],
             [
              0.1111111111111111,
              "#46039f"
             ],
             [
              0.2222222222222222,
              "#7201a8"
             ],
             [
              0.3333333333333333,
              "#9c179e"
             ],
             [
              0.4444444444444444,
              "#bd3786"
             ],
             [
              0.5555555555555556,
              "#d8576b"
             ],
             [
              0.6666666666666666,
              "#ed7953"
             ],
             [
              0.7777777777777778,
              "#fb9f3a"
             ],
             [
              0.8888888888888888,
              "#fdca26"
             ],
             [
              1,
              "#f0f921"
             ]
            ],
            "type": "heatmap"
           }
          ],
          "heatmapgl": [
           {
            "colorbar": {
             "outlinewidth": 0,
             "ticks": ""
            },
            "colorscale": [
             [
              0,
              "#0d0887"
             ],
             [
              0.1111111111111111,
              "#46039f"
             ],
             [
              0.2222222222222222,
              "#7201a8"
             ],
             [
              0.3333333333333333,
              "#9c179e"
             ],
             [
              0.4444444444444444,
              "#bd3786"
             ],
             [
              0.5555555555555556,
              "#d8576b"
             ],
             [
              0.6666666666666666,
              "#ed7953"
             ],
             [
              0.7777777777777778,
              "#fb9f3a"
             ],
             [
              0.8888888888888888,
              "#fdca26"
             ],
             [
              1,
              "#f0f921"
             ]
            ],
            "type": "heatmapgl"
           }
          ],
          "histogram": [
           {
            "marker": {
             "pattern": {
              "fillmode": "overlay",
              "size": 10,
              "solidity": 0.2
             }
            },
            "type": "histogram"
           }
          ],
          "histogram2d": [
           {
            "colorbar": {
             "outlinewidth": 0,
             "ticks": ""
            },
            "colorscale": [
             [
              0,
              "#0d0887"
             ],
             [
              0.1111111111111111,
              "#46039f"
             ],
             [
              0.2222222222222222,
              "#7201a8"
             ],
             [
              0.3333333333333333,
              "#9c179e"
             ],
             [
              0.4444444444444444,
              "#bd3786"
             ],
             [
              0.5555555555555556,
              "#d8576b"
             ],
             [
              0.6666666666666666,
              "#ed7953"
             ],
             [
              0.7777777777777778,
              "#fb9f3a"
             ],
             [
              0.8888888888888888,
              "#fdca26"
             ],
             [
              1,
              "#f0f921"
             ]
            ],
            "type": "histogram2d"
           }
          ],
          "histogram2dcontour": [
           {
            "colorbar": {
             "outlinewidth": 0,
             "ticks": ""
            },
            "colorscale": [
             [
              0,
              "#0d0887"
             ],
             [
              0.1111111111111111,
              "#46039f"
             ],
             [
              0.2222222222222222,
              "#7201a8"
             ],
             [
              0.3333333333333333,
              "#9c179e"
             ],
             [
              0.4444444444444444,
              "#bd3786"
             ],
             [
              0.5555555555555556,
              "#d8576b"
             ],
             [
              0.6666666666666666,
              "#ed7953"
             ],
             [
              0.7777777777777778,
              "#fb9f3a"
             ],
             [
              0.8888888888888888,
              "#fdca26"
             ],
             [
              1,
              "#f0f921"
             ]
            ],
            "type": "histogram2dcontour"
           }
          ],
          "mesh3d": [
           {
            "colorbar": {
             "outlinewidth": 0,
             "ticks": ""
            },
            "type": "mesh3d"
           }
          ],
          "parcoords": [
           {
            "line": {
             "colorbar": {
              "outlinewidth": 0,
              "ticks": ""
             }
            },
            "type": "parcoords"
           }
          ],
          "pie": [
           {
            "automargin": true,
            "type": "pie"
           }
          ],
          "scatter": [
           {
            "marker": {
             "colorbar": {
              "outlinewidth": 0,
              "ticks": ""
             }
            },
            "type": "scatter"
           }
          ],
          "scatter3d": [
           {
            "line": {
             "colorbar": {
              "outlinewidth": 0,
              "ticks": ""
             }
            },
            "marker": {
             "colorbar": {
              "outlinewidth": 0,
              "ticks": ""
             }
            },
            "type": "scatter3d"
           }
          ],
          "scattercarpet": [
           {
            "marker": {
             "colorbar": {
              "outlinewidth": 0,
              "ticks": ""
             }
            },
            "type": "scattercarpet"
           }
          ],
          "scattergeo": [
           {
            "marker": {
             "colorbar": {
              "outlinewidth": 0,
              "ticks": ""
             }
            },
            "type": "scattergeo"
           }
          ],
          "scattergl": [
           {
            "marker": {
             "colorbar": {
              "outlinewidth": 0,
              "ticks": ""
             }
            },
            "type": "scattergl"
           }
          ],
          "scattermapbox": [
           {
            "marker": {
             "colorbar": {
              "outlinewidth": 0,
              "ticks": ""
             }
            },
            "type": "scattermapbox"
           }
          ],
          "scatterpolar": [
           {
            "marker": {
             "colorbar": {
              "outlinewidth": 0,
              "ticks": ""
             }
            },
            "type": "scatterpolar"
           }
          ],
          "scatterpolargl": [
           {
            "marker": {
             "colorbar": {
              "outlinewidth": 0,
              "ticks": ""
             }
            },
            "type": "scatterpolargl"
           }
          ],
          "scatterternary": [
           {
            "marker": {
             "colorbar": {
              "outlinewidth": 0,
              "ticks": ""
             }
            },
            "type": "scatterternary"
           }
          ],
          "surface": [
           {
            "colorbar": {
             "outlinewidth": 0,
             "ticks": ""
            },
            "colorscale": [
             [
              0,
              "#0d0887"
             ],
             [
              0.1111111111111111,
              "#46039f"
             ],
             [
              0.2222222222222222,
              "#7201a8"
             ],
             [
              0.3333333333333333,
              "#9c179e"
             ],
             [
              0.4444444444444444,
              "#bd3786"
             ],
             [
              0.5555555555555556,
              "#d8576b"
             ],
             [
              0.6666666666666666,
              "#ed7953"
             ],
             [
              0.7777777777777778,
              "#fb9f3a"
             ],
             [
              0.8888888888888888,
              "#fdca26"
             ],
             [
              1,
              "#f0f921"
             ]
            ],
            "type": "surface"
           }
          ],
          "table": [
           {
            "cells": {
             "fill": {
              "color": "#EBF0F8"
             },
             "line": {
              "color": "white"
             }
            },
            "header": {
             "fill": {
              "color": "#C8D4E3"
             },
             "line": {
              "color": "white"
             }
            },
            "type": "table"
           }
          ]
         },
         "layout": {
          "annotationdefaults": {
           "arrowcolor": "#2a3f5f",
           "arrowhead": 0,
           "arrowwidth": 1
          },
          "autotypenumbers": "strict",
          "coloraxis": {
           "colorbar": {
            "outlinewidth": 0,
            "ticks": ""
           }
          },
          "colorscale": {
           "diverging": [
            [
             0,
             "#8e0152"
            ],
            [
             0.1,
             "#c51b7d"
            ],
            [
             0.2,
             "#de77ae"
            ],
            [
             0.3,
             "#f1b6da"
            ],
            [
             0.4,
             "#fde0ef"
            ],
            [
             0.5,
             "#f7f7f7"
            ],
            [
             0.6,
             "#e6f5d0"
            ],
            [
             0.7,
             "#b8e186"
            ],
            [
             0.8,
             "#7fbc41"
            ],
            [
             0.9,
             "#4d9221"
            ],
            [
             1,
             "#276419"
            ]
           ],
           "sequential": [
            [
             0,
             "#0d0887"
            ],
            [
             0.1111111111111111,
             "#46039f"
            ],
            [
             0.2222222222222222,
             "#7201a8"
            ],
            [
             0.3333333333333333,
             "#9c179e"
            ],
            [
             0.4444444444444444,
             "#bd3786"
            ],
            [
             0.5555555555555556,
             "#d8576b"
            ],
            [
             0.6666666666666666,
             "#ed7953"
            ],
            [
             0.7777777777777778,
             "#fb9f3a"
            ],
            [
             0.8888888888888888,
             "#fdca26"
            ],
            [
             1,
             "#f0f921"
            ]
           ],
           "sequentialminus": [
            [
             0,
             "#0d0887"
            ],
            [
             0.1111111111111111,
             "#46039f"
            ],
            [
             0.2222222222222222,
             "#7201a8"
            ],
            [
             0.3333333333333333,
             "#9c179e"
            ],
            [
             0.4444444444444444,
             "#bd3786"
            ],
            [
             0.5555555555555556,
             "#d8576b"
            ],
            [
             0.6666666666666666,
             "#ed7953"
            ],
            [
             0.7777777777777778,
             "#fb9f3a"
            ],
            [
             0.8888888888888888,
             "#fdca26"
            ],
            [
             1,
             "#f0f921"
            ]
           ]
          },
          "colorway": [
           "#636efa",
           "#EF553B",
           "#00cc96",
           "#ab63fa",
           "#FFA15A",
           "#19d3f3",
           "#FF6692",
           "#B6E880",
           "#FF97FF",
           "#FECB52"
          ],
          "font": {
           "color": "#2a3f5f"
          },
          "geo": {
           "bgcolor": "white",
           "lakecolor": "white",
           "landcolor": "white",
           "showlakes": true,
           "showland": true,
           "subunitcolor": "#C8D4E3"
          },
          "hoverlabel": {
           "align": "left"
          },
          "hovermode": "closest",
          "mapbox": {
           "style": "light"
          },
          "paper_bgcolor": "white",
          "plot_bgcolor": "white",
          "polar": {
           "angularaxis": {
            "gridcolor": "#EBF0F8",
            "linecolor": "#EBF0F8",
            "ticks": ""
           },
           "bgcolor": "white",
           "radialaxis": {
            "gridcolor": "#EBF0F8",
            "linecolor": "#EBF0F8",
            "ticks": ""
           }
          },
          "scene": {
           "xaxis": {
            "backgroundcolor": "white",
            "gridcolor": "#DFE8F3",
            "gridwidth": 2,
            "linecolor": "#EBF0F8",
            "showbackground": true,
            "ticks": "",
            "zerolinecolor": "#EBF0F8"
           },
           "yaxis": {
            "backgroundcolor": "white",
            "gridcolor": "#DFE8F3",
            "gridwidth": 2,
            "linecolor": "#EBF0F8",
            "showbackground": true,
            "ticks": "",
            "zerolinecolor": "#EBF0F8"
           },
           "zaxis": {
            "backgroundcolor": "white",
            "gridcolor": "#DFE8F3",
            "gridwidth": 2,
            "linecolor": "#EBF0F8",
            "showbackground": true,
            "ticks": "",
            "zerolinecolor": "#EBF0F8"
           }
          },
          "shapedefaults": {
           "line": {
            "color": "#2a3f5f"
           }
          },
          "ternary": {
           "aaxis": {
            "gridcolor": "#DFE8F3",
            "linecolor": "#A2B1C6",
            "ticks": ""
           },
           "baxis": {
            "gridcolor": "#DFE8F3",
            "linecolor": "#A2B1C6",
            "ticks": ""
           },
           "bgcolor": "white",
           "caxis": {
            "gridcolor": "#DFE8F3",
            "linecolor": "#A2B1C6",
            "ticks": ""
           }
          },
          "title": {
           "x": 0.05
          },
          "xaxis": {
           "automargin": true,
           "gridcolor": "#EBF0F8",
           "linecolor": "#EBF0F8",
           "ticks": "",
           "title": {
            "standoff": 15
           },
           "zerolinecolor": "#EBF0F8",
           "zerolinewidth": 2
          },
          "yaxis": {
           "automargin": true,
           "gridcolor": "#EBF0F8",
           "linecolor": "#EBF0F8",
           "ticks": "",
           "title": {
            "standoff": 15
           },
           "zerolinecolor": "#EBF0F8",
           "zerolinewidth": 2
          }
         }
        },
        "title": {
         "font": {
          "family": "Times New Roman",
          "size": 20
         },
         "text": "SST"
        },
        "width": 525,
        "xaxis": {
         "showticklabels": false,
         "tickfont": {
          "family": "Times New Roman",
          "size": 20
         },
         "title": {
          "font": {
           "family": "Times New Roman",
           "size": 20
          },
          "text": "Top 12 Models"
         }
        },
        "yaxis": {
         "exponentformat": "E",
         "nticks": 5,
         "tickfont": {
          "family": "Times New Roman",
          "size": 20
         },
         "tickformat": "1.2e",
         "title": {
          "font": {
           "family": "Times New Roman",
           "size": 20
          },
          "text": "Test Loss"
         },
         "type": "log"
        }
       }
      },
      "text/html": [
       "<div>                            <div id=\"8ef5712a-c97d-4395-ba1f-925edc51e61c\" class=\"plotly-graph-div\" style=\"height:400px; width:525px;\"></div>            <script type=\"text/javascript\">                require([\"plotly\"], function(Plotly) {                    window.PLOTLYENV=window.PLOTLYENV || {};                                    if (document.getElementById(\"8ef5712a-c97d-4395-ba1f-925edc51e61c\")) {                    Plotly.newPlot(                        \"8ef5712a-c97d-4395-ba1f-925edc51e61c\",                        [{\"marker\":{\"color\":\"white\",\"line\":{\"color\":\"#5F4690\",\"width\":4},\"size\":12},\"mode\":\"markers\",\"name\":\"LSTM\",\"showlegend\":true,\"type\":\"scatter\",\"x\":[null],\"y\":[null]},{\"marker\":{\"color\":\"white\",\"line\":{\"color\":\"#1D6996\",\"width\":4},\"size\":12},\"mode\":\"markers\",\"name\":\"GRU\",\"showlegend\":true,\"type\":\"scatter\",\"x\":[null],\"y\":[null]},{\"marker\":{\"color\":\"white\",\"line\":{\"color\":\"#38A6A5\",\"width\":4},\"size\":12},\"mode\":\"markers\",\"name\":\"SL-LSTM\",\"showlegend\":true,\"type\":\"scatter\",\"x\":[null],\"y\":[null]},{\"marker\":{\"color\":\"white\",\"line\":{\"color\":\"#0F8554\",\"width\":4},\"size\":12},\"mode\":\"markers\",\"name\":\"SL-GRU\",\"showlegend\":true,\"type\":\"scatter\",\"x\":[null],\"y\":[null]},{\"marker\":{\"color\":\"white\",\"line\":{\"color\":\"#73AF48\",\"width\":4},\"size\":12},\"mode\":\"markers\",\"name\":\"T\",\"showlegend\":true,\"type\":\"scatter\",\"x\":[null],\"y\":[null]},{\"marker\":{\"color\":\"white\",\"line\":{\"color\":\"#EDAD08\",\"width\":4},\"size\":12},\"mode\":\"markers\",\"name\":\"SL-T\",\"showlegend\":true,\"type\":\"scatter\",\"x\":[null],\"y\":[null]},{\"marker\":{\"color\":\"white\",\"line\":{\"color\":\"#E17C05\",\"width\":4},\"size\":12},\"mode\":\"markers\",\"name\":\"SA-T\",\"showlegend\":true,\"type\":\"scatter\",\"x\":[null],\"y\":[null]},{\"marker\":{\"color\":\"white\",\"line\":{\"color\":\"#CC503E\",\"width\":4},\"size\":12},\"mode\":\"markers\",\"name\":\"SASL-T\",\"showlegend\":true,\"type\":\"scatter\",\"x\":[null],\"y\":[null]},{\"marker\":{\"color\":\"#66C5CC\",\"line\":{\"color\":\"white\",\"width\":4},\"size\":12},\"mode\":\"markers\",\"name\":\"MLP\",\"showlegend\":true,\"type\":\"scatter\",\"x\":[null],\"y\":[null]},{\"marker\":{\"color\":\"#F6CF71\",\"line\":{\"color\":\"white\",\"width\":4},\"size\":12},\"mode\":\"markers\",\"name\":\"CNN\",\"showlegend\":true,\"type\":\"scatter\",\"x\":[null],\"y\":[null]},{\"hovertemplate\":\"Encoder: sindy_attention_transformer (x1)<br>Decoder: mlp (x1)<br>LR: 1.00e-03<br>Test Loss: 2.77e-03<br><extra></extra>\",\"marker\":{\"color\":\"#66C5CC\",\"line\":{\"color\":\"#E17C05\",\"width\":4},\"size\":12},\"mode\":\"markers\",\"name\":\"sindy_attention_transformer-mlp\",\"showlegend\":false,\"type\":\"scatter\",\"x\":[1],\"y\":[0.002770321210846305]},{\"hovertemplate\":\"Encoder: sindy_attention_transformer (x2)<br>Decoder: unet (x1)<br>LR: 1.00e-03<br>Test Loss: 2.75e-03<br><extra></extra>\",\"marker\":{\"color\":\"#F6CF71\",\"line\":{\"color\":\"#E17C05\",\"width\":4},\"size\":12},\"mode\":\"markers\",\"name\":\"sindy_attention_transformer-unet\",\"showlegend\":false,\"type\":\"scatter\",\"x\":[2],\"y\":[0.002754311775788665]},{\"hovertemplate\":\"Encoder: vanilla_transformer (x3)<br>Decoder: unet (x1)<br>LR: 1.00e-03<br>Test Loss: 2.75e-03<br><extra></extra>\",\"marker\":{\"color\":\"#F6CF71\",\"line\":{\"color\":\"#73AF48\",\"width\":4},\"size\":12},\"mode\":\"markers\",\"name\":\"vanilla_transformer-unet\",\"showlegend\":false,\"type\":\"scatter\",\"x\":[3],\"y\":[0.00275022373534739]},{\"hovertemplate\":\"Encoder: vanilla_transformer (x1)<br>Decoder: mlp (x1)<br>LR: 1.00e-03<br>Test Loss: 2.74e-03<br><extra></extra>\",\"marker\":{\"color\":\"#66C5CC\",\"line\":{\"color\":\"#73AF48\",\"width\":4},\"size\":12},\"mode\":\"markers\",\"name\":\"vanilla_transformer-mlp\",\"showlegend\":false,\"type\":\"scatter\",\"x\":[4],\"y\":[0.0027353093028068542]},{\"hovertemplate\":\"Encoder: vanilla_transformer (x2)<br>Decoder: unet (x1)<br>LR: 1.00e-03<br>Test Loss: 2.69e-03<br><extra></extra>\",\"marker\":{\"color\":\"#F6CF71\",\"line\":{\"color\":\"#73AF48\",\"width\":4},\"size\":12},\"mode\":\"markers\",\"name\":\"vanilla_transformer-unet\",\"showlegend\":false,\"type\":\"scatter\",\"x\":[5],\"y\":[0.002692997921258211]},{\"hovertemplate\":\"Encoder: vanilla_transformer (x4)<br>Decoder: unet (x1)<br>LR: 1.00e-03<br>Test Loss: 2.69e-03<br><extra></extra>\",\"marker\":{\"color\":\"#F6CF71\",\"line\":{\"color\":\"#73AF48\",\"width\":4},\"size\":12},\"mode\":\"markers\",\"name\":\"vanilla_transformer-unet\",\"showlegend\":false,\"type\":\"scatter\",\"x\":[6],\"y\":[0.0026920712552964687]},{\"hovertemplate\":\"Encoder: sindy_attention_transformer (x1)<br>Decoder: unet (x1)<br>LR: 1.00e-03<br>Test Loss: 2.69e-03<br><extra></extra>\",\"marker\":{\"color\":\"#F6CF71\",\"line\":{\"color\":\"#E17C05\",\"width\":4},\"size\":12},\"mode\":\"markers\",\"name\":\"sindy_attention_transformer-unet\",\"showlegend\":false,\"type\":\"scatter\",\"x\":[7],\"y\":[0.002688785782083869]},{\"hovertemplate\":\"Encoder: vanilla_transformer (x1)<br>Decoder: unet (x1)<br>LR: 1.00e-03<br>Test Loss: 2.65e-03<br><extra></extra>\",\"marker\":{\"color\":\"#F6CF71\",\"line\":{\"color\":\"#73AF48\",\"width\":4},\"size\":12},\"mode\":\"markers\",\"name\":\"vanilla_transformer-unet\",\"showlegend\":false,\"type\":\"scatter\",\"x\":[8],\"y\":[0.002645087894052267]},{\"hovertemplate\":\"Encoder: sindy_attention_transformer (x1)<br>Decoder: mlp (x1)<br>LR: 1.00e-02<br>Test Loss: 2.42e-03<br><extra></extra>\",\"marker\":{\"color\":\"#66C5CC\",\"line\":{\"color\":\"#E17C05\",\"width\":4},\"size\":12},\"mode\":\"markers\",\"name\":\"sindy_attention_transformer-mlp\",\"showlegend\":false,\"type\":\"scatter\",\"x\":[9],\"y\":[0.0024238917976617813]},{\"hovertemplate\":\"Encoder: vanilla_transformer (x1)<br>Decoder: mlp (x1)<br>LR: 1.00e-02<br>Test Loss: 2.21e-03<br><extra></extra>\",\"marker\":{\"color\":\"#66C5CC\",\"line\":{\"color\":\"#73AF48\",\"width\":4},\"size\":12},\"mode\":\"markers\",\"name\":\"vanilla_transformer-mlp\",\"showlegend\":false,\"type\":\"scatter\",\"x\":[10],\"y\":[0.0022107705008238554]},{\"hovertemplate\":\"Encoder: vanilla_transformer (x1)<br>Decoder: unet (x1)<br>LR: 1.00e-02<br>Test Loss: 1.74e-03<br><extra></extra>\",\"marker\":{\"color\":\"#F6CF71\",\"line\":{\"color\":\"#73AF48\",\"width\":4},\"size\":12},\"mode\":\"markers\",\"name\":\"vanilla_transformer-unet\",\"showlegend\":false,\"type\":\"scatter\",\"x\":[11],\"y\":[0.0017366006504744291]},{\"hovertemplate\":\"Encoder: sindy_attention_transformer (x1)<br>Decoder: unet (x1)<br>LR: 1.00e-02<br>Test Loss: 1.67e-03<br><extra></extra>\",\"marker\":{\"color\":\"#F6CF71\",\"line\":{\"color\":\"#E17C05\",\"width\":4},\"size\":12},\"mode\":\"markers\",\"name\":\"sindy_attention_transformer-unet\",\"showlegend\":false,\"type\":\"scatter\",\"x\":[12],\"y\":[0.0016737185651436448]}],                        {\"font\":{\"family\":\"Times New Roman\"},\"height\":400,\"hovermode\":\"closest\",\"legend\":{\"font\":{\"family\":\"Times New Roman\",\"size\":20},\"title\":{\"font\":{\"family\":\"Times New Roman\",\"size\":20},\"text\":\"Legend\"}},\"showlegend\":true,\"template\":{\"data\":{\"bar\":[{\"error_x\":{\"color\":\"#2a3f5f\"},\"error_y\":{\"color\":\"#2a3f5f\"},\"marker\":{\"line\":{\"color\":\"white\",\"width\":0.5},\"pattern\":{\"fillmode\":\"overlay\",\"size\":10,\"solidity\":0.2}},\"type\":\"bar\"}],\"barpolar\":[{\"marker\":{\"line\":{\"color\":\"white\",\"width\":0.5},\"pattern\":{\"fillmode\":\"overlay\",\"size\":10,\"solidity\":0.2}},\"type\":\"barpolar\"}],\"carpet\":[{\"aaxis\":{\"endlinecolor\":\"#2a3f5f\",\"gridcolor\":\"#C8D4E3\",\"linecolor\":\"#C8D4E3\",\"minorgridcolor\":\"#C8D4E3\",\"startlinecolor\":\"#2a3f5f\"},\"baxis\":{\"endlinecolor\":\"#2a3f5f\",\"gridcolor\":\"#C8D4E3\",\"linecolor\":\"#C8D4E3\",\"minorgridcolor\":\"#C8D4E3\",\"startlinecolor\":\"#2a3f5f\"},\"type\":\"carpet\"}],\"choropleth\":[{\"colorbar\":{\"outlinewidth\":0,\"ticks\":\"\"},\"type\":\"choropleth\"}],\"contour\":[{\"colorbar\":{\"outlinewidth\":0,\"ticks\":\"\"},\"colorscale\":[[0.0,\"#0d0887\"],[0.1111111111111111,\"#46039f\"],[0.2222222222222222,\"#7201a8\"],[0.3333333333333333,\"#9c179e\"],[0.4444444444444444,\"#bd3786\"],[0.5555555555555556,\"#d8576b\"],[0.6666666666666666,\"#ed7953\"],[0.7777777777777778,\"#fb9f3a\"],[0.8888888888888888,\"#fdca26\"],[1.0,\"#f0f921\"]],\"type\":\"contour\"}],\"contourcarpet\":[{\"colorbar\":{\"outlinewidth\":0,\"ticks\":\"\"},\"type\":\"contourcarpet\"}],\"heatmap\":[{\"colorbar\":{\"outlinewidth\":0,\"ticks\":\"\"},\"colorscale\":[[0.0,\"#0d0887\"],[0.1111111111111111,\"#46039f\"],[0.2222222222222222,\"#7201a8\"],[0.3333333333333333,\"#9c179e\"],[0.4444444444444444,\"#bd3786\"],[0.5555555555555556,\"#d8576b\"],[0.6666666666666666,\"#ed7953\"],[0.7777777777777778,\"#fb9f3a\"],[0.8888888888888888,\"#fdca26\"],[1.0,\"#f0f921\"]],\"type\":\"heatmap\"}],\"heatmapgl\":[{\"colorbar\":{\"outlinewidth\":0,\"ticks\":\"\"},\"colorscale\":[[0.0,\"#0d0887\"],[0.1111111111111111,\"#46039f\"],[0.2222222222222222,\"#7201a8\"],[0.3333333333333333,\"#9c179e\"],[0.4444444444444444,\"#bd3786\"],[0.5555555555555556,\"#d8576b\"],[0.6666666666666666,\"#ed7953\"],[0.7777777777777778,\"#fb9f3a\"],[0.8888888888888888,\"#fdca26\"],[1.0,\"#f0f921\"]],\"type\":\"heatmapgl\"}],\"histogram\":[{\"marker\":{\"pattern\":{\"fillmode\":\"overlay\",\"size\":10,\"solidity\":0.2}},\"type\":\"histogram\"}],\"histogram2d\":[{\"colorbar\":{\"outlinewidth\":0,\"ticks\":\"\"},\"colorscale\":[[0.0,\"#0d0887\"],[0.1111111111111111,\"#46039f\"],[0.2222222222222222,\"#7201a8\"],[0.3333333333333333,\"#9c179e\"],[0.4444444444444444,\"#bd3786\"],[0.5555555555555556,\"#d8576b\"],[0.6666666666666666,\"#ed7953\"],[0.7777777777777778,\"#fb9f3a\"],[0.8888888888888888,\"#fdca26\"],[1.0,\"#f0f921\"]],\"type\":\"histogram2d\"}],\"histogram2dcontour\":[{\"colorbar\":{\"outlinewidth\":0,\"ticks\":\"\"},\"colorscale\":[[0.0,\"#0d0887\"],[0.1111111111111111,\"#46039f\"],[0.2222222222222222,\"#7201a8\"],[0.3333333333333333,\"#9c179e\"],[0.4444444444444444,\"#bd3786\"],[0.5555555555555556,\"#d8576b\"],[0.6666666666666666,\"#ed7953\"],[0.7777777777777778,\"#fb9f3a\"],[0.8888888888888888,\"#fdca26\"],[1.0,\"#f0f921\"]],\"type\":\"histogram2dcontour\"}],\"mesh3d\":[{\"colorbar\":{\"outlinewidth\":0,\"ticks\":\"\"},\"type\":\"mesh3d\"}],\"parcoords\":[{\"line\":{\"colorbar\":{\"outlinewidth\":0,\"ticks\":\"\"}},\"type\":\"parcoords\"}],\"pie\":[{\"automargin\":true,\"type\":\"pie\"}],\"scatter\":[{\"marker\":{\"colorbar\":{\"outlinewidth\":0,\"ticks\":\"\"}},\"type\":\"scatter\"}],\"scatter3d\":[{\"line\":{\"colorbar\":{\"outlinewidth\":0,\"ticks\":\"\"}},\"marker\":{\"colorbar\":{\"outlinewidth\":0,\"ticks\":\"\"}},\"type\":\"scatter3d\"}],\"scattercarpet\":[{\"marker\":{\"colorbar\":{\"outlinewidth\":0,\"ticks\":\"\"}},\"type\":\"scattercarpet\"}],\"scattergeo\":[{\"marker\":{\"colorbar\":{\"outlinewidth\":0,\"ticks\":\"\"}},\"type\":\"scattergeo\"}],\"scattergl\":[{\"marker\":{\"colorbar\":{\"outlinewidth\":0,\"ticks\":\"\"}},\"type\":\"scattergl\"}],\"scattermapbox\":[{\"marker\":{\"colorbar\":{\"outlinewidth\":0,\"ticks\":\"\"}},\"type\":\"scattermapbox\"}],\"scatterpolar\":[{\"marker\":{\"colorbar\":{\"outlinewidth\":0,\"ticks\":\"\"}},\"type\":\"scatterpolar\"}],\"scatterpolargl\":[{\"marker\":{\"colorbar\":{\"outlinewidth\":0,\"ticks\":\"\"}},\"type\":\"scatterpolargl\"}],\"scatterternary\":[{\"marker\":{\"colorbar\":{\"outlinewidth\":0,\"ticks\":\"\"}},\"type\":\"scatterternary\"}],\"surface\":[{\"colorbar\":{\"outlinewidth\":0,\"ticks\":\"\"},\"colorscale\":[[0.0,\"#0d0887\"],[0.1111111111111111,\"#46039f\"],[0.2222222222222222,\"#7201a8\"],[0.3333333333333333,\"#9c179e\"],[0.4444444444444444,\"#bd3786\"],[0.5555555555555556,\"#d8576b\"],[0.6666666666666666,\"#ed7953\"],[0.7777777777777778,\"#fb9f3a\"],[0.8888888888888888,\"#fdca26\"],[1.0,\"#f0f921\"]],\"type\":\"surface\"}],\"table\":[{\"cells\":{\"fill\":{\"color\":\"#EBF0F8\"},\"line\":{\"color\":\"white\"}},\"header\":{\"fill\":{\"color\":\"#C8D4E3\"},\"line\":{\"color\":\"white\"}},\"type\":\"table\"}]},\"layout\":{\"annotationdefaults\":{\"arrowcolor\":\"#2a3f5f\",\"arrowhead\":0,\"arrowwidth\":1},\"autotypenumbers\":\"strict\",\"coloraxis\":{\"colorbar\":{\"outlinewidth\":0,\"ticks\":\"\"}},\"colorscale\":{\"diverging\":[[0,\"#8e0152\"],[0.1,\"#c51b7d\"],[0.2,\"#de77ae\"],[0.3,\"#f1b6da\"],[0.4,\"#fde0ef\"],[0.5,\"#f7f7f7\"],[0.6,\"#e6f5d0\"],[0.7,\"#b8e186\"],[0.8,\"#7fbc41\"],[0.9,\"#4d9221\"],[1,\"#276419\"]],\"sequential\":[[0.0,\"#0d0887\"],[0.1111111111111111,\"#46039f\"],[0.2222222222222222,\"#7201a8\"],[0.3333333333333333,\"#9c179e\"],[0.4444444444444444,\"#bd3786\"],[0.5555555555555556,\"#d8576b\"],[0.6666666666666666,\"#ed7953\"],[0.7777777777777778,\"#fb9f3a\"],[0.8888888888888888,\"#fdca26\"],[1.0,\"#f0f921\"]],\"sequentialminus\":[[0.0,\"#0d0887\"],[0.1111111111111111,\"#46039f\"],[0.2222222222222222,\"#7201a8\"],[0.3333333333333333,\"#9c179e\"],[0.4444444444444444,\"#bd3786\"],[0.5555555555555556,\"#d8576b\"],[0.6666666666666666,\"#ed7953\"],[0.7777777777777778,\"#fb9f3a\"],[0.8888888888888888,\"#fdca26\"],[1.0,\"#f0f921\"]]},\"colorway\":[\"#636efa\",\"#EF553B\",\"#00cc96\",\"#ab63fa\",\"#FFA15A\",\"#19d3f3\",\"#FF6692\",\"#B6E880\",\"#FF97FF\",\"#FECB52\"],\"font\":{\"color\":\"#2a3f5f\"},\"geo\":{\"bgcolor\":\"white\",\"lakecolor\":\"white\",\"landcolor\":\"white\",\"showlakes\":true,\"showland\":true,\"subunitcolor\":\"#C8D4E3\"},\"hoverlabel\":{\"align\":\"left\"},\"hovermode\":\"closest\",\"mapbox\":{\"style\":\"light\"},\"paper_bgcolor\":\"white\",\"plot_bgcolor\":\"white\",\"polar\":{\"angularaxis\":{\"gridcolor\":\"#EBF0F8\",\"linecolor\":\"#EBF0F8\",\"ticks\":\"\"},\"bgcolor\":\"white\",\"radialaxis\":{\"gridcolor\":\"#EBF0F8\",\"linecolor\":\"#EBF0F8\",\"ticks\":\"\"}},\"scene\":{\"xaxis\":{\"backgroundcolor\":\"white\",\"gridcolor\":\"#DFE8F3\",\"gridwidth\":2,\"linecolor\":\"#EBF0F8\",\"showbackground\":true,\"ticks\":\"\",\"zerolinecolor\":\"#EBF0F8\"},\"yaxis\":{\"backgroundcolor\":\"white\",\"gridcolor\":\"#DFE8F3\",\"gridwidth\":2,\"linecolor\":\"#EBF0F8\",\"showbackground\":true,\"ticks\":\"\",\"zerolinecolor\":\"#EBF0F8\"},\"zaxis\":{\"backgroundcolor\":\"white\",\"gridcolor\":\"#DFE8F3\",\"gridwidth\":2,\"linecolor\":\"#EBF0F8\",\"showbackground\":true,\"ticks\":\"\",\"zerolinecolor\":\"#EBF0F8\"}},\"shapedefaults\":{\"line\":{\"color\":\"#2a3f5f\"}},\"ternary\":{\"aaxis\":{\"gridcolor\":\"#DFE8F3\",\"linecolor\":\"#A2B1C6\",\"ticks\":\"\"},\"baxis\":{\"gridcolor\":\"#DFE8F3\",\"linecolor\":\"#A2B1C6\",\"ticks\":\"\"},\"bgcolor\":\"white\",\"caxis\":{\"gridcolor\":\"#DFE8F3\",\"linecolor\":\"#A2B1C6\",\"ticks\":\"\"}},\"title\":{\"x\":0.05},\"xaxis\":{\"automargin\":true,\"gridcolor\":\"#EBF0F8\",\"linecolor\":\"#EBF0F8\",\"ticks\":\"\",\"title\":{\"standoff\":15},\"zerolinecolor\":\"#EBF0F8\",\"zerolinewidth\":2},\"yaxis\":{\"automargin\":true,\"gridcolor\":\"#EBF0F8\",\"linecolor\":\"#EBF0F8\",\"ticks\":\"\",\"title\":{\"standoff\":15},\"zerolinecolor\":\"#EBF0F8\",\"zerolinewidth\":2}}},\"title\":{\"font\":{\"family\":\"Times New Roman\",\"size\":20},\"text\":\"SST\"},\"width\":525,\"xaxis\":{\"showticklabels\":false,\"tickfont\":{\"family\":\"Times New Roman\",\"size\":20},\"title\":{\"font\":{\"family\":\"Times New Roman\",\"size\":20},\"text\":\"Top 12 Models\"}},\"yaxis\":{\"exponentformat\":\"E\",\"nticks\":5,\"tickfont\":{\"family\":\"Times New Roman\",\"size\":20},\"tickformat\":\"1.2e\",\"title\":{\"font\":{\"family\":\"Times New Roman\",\"size\":20},\"text\":\"Test Loss\"},\"type\":\"log\"}},                        {\"responsive\": true}                    ).then(function(){\n",
       "                            \n",
       "var gd = document.getElementById('8ef5712a-c97d-4395-ba1f-925edc51e61c');\n",
       "var x = new MutationObserver(function (mutations, observer) {{\n",
       "        var display = window.getComputedStyle(gd).display;\n",
       "        if (!display || display === 'none') {{\n",
       "            console.log([gd, 'removed!']);\n",
       "            Plotly.purge(gd);\n",
       "            observer.disconnect();\n",
       "        }}\n",
       "}});\n",
       "\n",
       "// Listen for the removal of the full notebook cells\n",
       "var notebookContainer = gd.closest('#notebook-container');\n",
       "if (notebookContainer) {{\n",
       "    x.observe(notebookContainer, {childList: true});\n",
       "}}\n",
       "\n",
       "// Listen for the clearing of the current output cell\n",
       "var outputEl = gd.closest('.output');\n",
       "if (outputEl) {{\n",
       "    x.observe(outputEl, {childList: true});\n",
       "}}\n",
       "\n",
       "                        })                };                });            </script>        </div>"
      ]
     },
     "metadata": {},
     "output_type": "display_data"
    },
    {
     "name": "stdout",
     "output_type": "stream",
     "text": [
      "[('lstm_unet_plasma_e3_d1_lr1.00e-02_p1.pkl', {'test_loss': 0.0004636579687939957, 'start_epoch': 97, 'best_val': 0.0005385390541050583, 'best_epoch': 97, 'train_losses': [0.0074916467464600615, 0.0009504193126653823, 0.0006071071167333195, 0.0005124679256158953, 0.0004871508505087919, 0.0004825130476652143, 0.00047481054878936935, 0.000478632918272454, 0.00047608839052442747, 0.00047263418449662055, 0.0004700831554006212, 0.0004714863921085802, 0.00047339061319899675, 0.00047511756509685744, 0.0004733269384954698, 0.00047332813175251853, 0.0004703080160722423, 0.000473937512232134, 0.0004707753810530099, 0.0004717185354540841, 0.0004739120575742653, 0.0004749729123432189, 0.0004710283090109722, 0.00047281225516389194, 0.00047534062356974644, 0.0004755888590947367, 0.00047235457056488556, 0.0004736566110155903, 0.00047241051932080434, 0.0004715589300478594, 0.0004715936889764495, 0.0004741584192603253, 0.0004760962284098451, 0.000470003733286061, 0.00047491695687103155, 0.0004724907675363983, 0.0004726084768593025, 0.0004717549130033988, 0.00046918333212558465, 0.00047071929573296354, 0.0004713951896589536, 0.0004736696181890483, 0.00046747090975539043, 0.0004700696691333388, 0.00046922971243755176, 0.0004655387422714669, 0.00046774616035131307, 0.00046509768715343223, 0.0004644380354035932, 0.00046393038624396117, 0.0004605484472659345, 0.00046051217717691685, 0.0004611538136557031, 0.0004615042036255965, 0.0004609076445026753, 0.0004601003848410283, 0.0004603819599231848, 0.00046006520502627467, 0.00046391838651078823, 0.00046148637417130743, 0.0004611704498529434, 0.00045968669403989153, 0.00046039717227148893, 0.00045887358226956654, 0.000457370342561402, 0.0004581557362913512, 0.0004553577567164141, 0.00046033427441635955, 0.00045999741996638477, 0.00045414890001456323, 0.00045934301809980895, 0.00045788704077354993, 0.0004566920621213145, 0.0004631386456402162, 0.0004574322889451511, 0.0004570558129881437, 0.00045843057047862274, 0.00045783330166998965, 0.00045670392976787227, 0.000458759813157555, 0.0004580841744497705, 0.0004572410230489018, 0.00045840633594287705, 0.0004555698654327828, 0.00045487211453011975, 0.0004522488743532449, 0.0004560958947807264, 0.0004493685018342848, 0.00045110924894778203, 0.00044919315797205153, 0.00044612072927590745, 0.0004471858264878392, 0.00044669488740440173, 0.0004505904955574526, 0.00044500233175662847, 0.0004464615172205063, 0.00044601692710644926], 'val_losses': [0.0011489252792671323, 0.0007431728881783783, 0.000604573986493051, 0.0005862420366611332, 0.0005788183480035514, 0.0005763641383964568, 0.0005737734900321811, 0.0005761661159340292, 0.0005765715322922915, 0.0005726323288399726, 0.0005761339270975441, 0.0005725750816054642, 0.0005764848901890218, 0.0005761001084465533, 0.0005779314378742129, 0.0005752243159804493, 0.0005754297890234739, 0.0005747581599280238, 0.0005776663310825825, 0.000572033430216834, 0.0005756540631409734, 0.0005742306530009955, 0.0005753578734584153, 0.0005735410668421537, 0.0005782833613920957, 0.0005740043125115335, 0.0005784976237919182, 0.0005763299996033311, 0.0005758721963502467, 0.0005730294797103852, 0.0005762519722338766, 0.0005755246675107628, 0.0005759595369454473, 0.0005745504749938846, 0.000573858356801793, 0.0005773346056230366, 0.000574877398321405, 0.0005727380339521915, 0.0005758963234256953, 0.000573405617615208, 0.0005762670189142227, 0.0005766229005530477, 0.0005732580029871315, 0.0005731973506044596, 0.0005715618608519435, 0.000569525669561699, 0.0005716116866096854, 0.0005685753421857953, 0.0005697066953871399, 0.0005683918425347656, 0.0005636329879052937, 0.0005624645273201168, 0.0005671738472301513, 0.0005717719905078411, 0.0005608208302874118, 0.0005636711430270225, 0.0005629677034448832, 0.0005667005316354334, 0.0005643903277814388, 0.000569508847547695, 0.0005644990596920252, 0.000563072768272832, 0.0005617015995085239, 0.0005592288798652589, 0.0005632405809592456, 0.0005627057107631117, 0.0005614640249405056, 0.0005645605269819498, 0.0005664623458869755, 0.00056637660600245, 0.0005680200702045113, 0.0005615539266727865, 0.0005614390247501433, 0.0005653266853187233, 0.000560187385417521, 0.0005585766048170626, 0.0005606246995739639, 0.0005624231416732073, 0.0005625177582260221, 0.000560749031137675, 0.0005586261104326695, 0.0005657314031850547, 0.0005607641360256821, 0.0005588393833022565, 0.0005542207218240947, 0.0005571984511334449, 0.0005517637764569372, 0.0005484806024469435, 0.0005485666624736041, 0.0005451174802146852, 0.0005465639987960458, 0.0005452460900414735, 0.0005491912015713751, 0.0005478952953126281, 0.0005500423430930823, 0.0005400619993451983, 0.0005385390541050583], 'sensors': [(197, 215), (20, 132), (248, 207), (155, 244), (183, 111), (71, 144), (71, 48), (128, 75), (158, 50), (37, 169), (241, 51), (181, 222), (161, 104), (244, 226), (133, 31), (7, 47), (204, 0), (252, 170), (124, 166), (32, 97), (113, 122), (72, 229), (46, 41), (163, 250), (55, 154), (149, 63), (170, 104), (147, 227), (46, 197), (162, 123), (148, 94), (96, 95), (16, 133), (243, 35), (45, 66), (76, 19), (41, 200), (141, 120), (110, 214), (140, 230), (252, 182), (42, 166), (59, 249), (171, 97), (124, 8), (138, 59), (112, 190), (87, 170), (218, 31), (51, 74)], 'hyperparameters': {'batch_size': 128, 'dataset': 'plasma', 'decoder': 'unet', 'decoder_depth': 1, 'device': 'cuda:0', 'dropout': 0.1, 'dt': 1.0, 'early_stop': 20, 'encoder': 'lstm', 'eval_full': False, 'encoder_depth': 3, 'epochs': 100, 'hidden_size': 6, 'generate_test_plots': True, 'generate_training_plots': False, 'include_sine': False, 'lr': 0.01, 'n_heads': 2, 'n_sensors': 50, 'n_well_tracks': 10, 'poly_order': 1, 'save_every_n_epochs': 10, 'sindy_attention_threshold': 0.05, 'sindy_attention_threshold_epoch': 10, 'sindy_attention_weight': 0.0, 'sindy_loss_threshold': 0.05, 'sindy_loss_weight': 100, 'skip_load_checkpoint': False, 'verbose': False, 'window_length': 50, 'd_data_in': 1, 'data_rows_in': 257, 'data_cols_in': 256, 'd_data_out': 1, 'data_rows_out': 1, 'data_cols_out': 280, 'd_model': 50, 'dim_feedforward': 24, 'output_size': 280, 'latest_checkpoint_path': PosixPath('/app/code/checkpoints/lstm_unet_plasma_e3_d1_lr1.00e-02_p1_model_latest.pt'), 'best_checkpoint_path': PosixPath('/app/code/checkpoints/lstm_unet_plasma_e3_d1_lr1.00e-02_p1_model_best.pt')}})]\n",
      "Saved /home/alexey/Research4/T-SHRED/figures/plasma_scatter.pdf\n"
     ]
    },
    {
     "data": {
      "application/vnd.plotly.v1+json": {
       "config": {
        "plotlyServerURL": "https://plot.ly"
       },
       "data": [
        {
         "marker": {
          "color": "white",
          "line": {
           "color": "#5F4690",
           "width": 4
          },
          "size": 12
         },
         "mode": "markers",
         "name": "LSTM",
         "showlegend": true,
         "type": "scatter",
         "x": [
          null
         ],
         "y": [
          null
         ]
        },
        {
         "marker": {
          "color": "white",
          "line": {
           "color": "#1D6996",
           "width": 4
          },
          "size": 12
         },
         "mode": "markers",
         "name": "GRU",
         "showlegend": true,
         "type": "scatter",
         "x": [
          null
         ],
         "y": [
          null
         ]
        },
        {
         "marker": {
          "color": "white",
          "line": {
           "color": "#38A6A5",
           "width": 4
          },
          "size": 12
         },
         "mode": "markers",
         "name": "SL-LSTM",
         "showlegend": true,
         "type": "scatter",
         "x": [
          null
         ],
         "y": [
          null
         ]
        },
        {
         "marker": {
          "color": "white",
          "line": {
           "color": "#0F8554",
           "width": 4
          },
          "size": 12
         },
         "mode": "markers",
         "name": "SL-GRU",
         "showlegend": true,
         "type": "scatter",
         "x": [
          null
         ],
         "y": [
          null
         ]
        },
        {
         "marker": {
          "color": "white",
          "line": {
           "color": "#73AF48",
           "width": 4
          },
          "size": 12
         },
         "mode": "markers",
         "name": "T",
         "showlegend": true,
         "type": "scatter",
         "x": [
          null
         ],
         "y": [
          null
         ]
        },
        {
         "marker": {
          "color": "white",
          "line": {
           "color": "#EDAD08",
           "width": 4
          },
          "size": 12
         },
         "mode": "markers",
         "name": "SL-T",
         "showlegend": true,
         "type": "scatter",
         "x": [
          null
         ],
         "y": [
          null
         ]
        },
        {
         "marker": {
          "color": "white",
          "line": {
           "color": "#E17C05",
           "width": 4
          },
          "size": 12
         },
         "mode": "markers",
         "name": "SA-T",
         "showlegend": true,
         "type": "scatter",
         "x": [
          null
         ],
         "y": [
          null
         ]
        },
        {
         "marker": {
          "color": "white",
          "line": {
           "color": "#CC503E",
           "width": 4
          },
          "size": 12
         },
         "mode": "markers",
         "name": "SASL-T",
         "showlegend": true,
         "type": "scatter",
         "x": [
          null
         ],
         "y": [
          null
         ]
        },
        {
         "marker": {
          "color": "#66C5CC",
          "line": {
           "color": "white",
           "width": 4
          },
          "size": 12
         },
         "mode": "markers",
         "name": "MLP",
         "showlegend": true,
         "type": "scatter",
         "x": [
          null
         ],
         "y": [
          null
         ]
        },
        {
         "marker": {
          "color": "#F6CF71",
          "line": {
           "color": "white",
           "width": 4
          },
          "size": 12
         },
         "mode": "markers",
         "name": "CNN",
         "showlegend": true,
         "type": "scatter",
         "x": [
          null
         ],
         "y": [
          null
         ]
        },
        {
         "hovertemplate": "Encoder: sindy_attention_sindy_loss_transformer (x3)<br>Decoder: mlp (x1)<br>LR: 1.00e-03<br>Test Loss: 5.00e-04<br><extra></extra>",
         "marker": {
          "color": "#66C5CC",
          "line": {
           "color": "#CC503E",
           "width": 4
          },
          "size": 12
         },
         "mode": "markers",
         "name": "sindy_attention_sindy_loss_transformer-mlp",
         "showlegend": false,
         "type": "scatter",
         "x": [
          1
         ],
         "y": [
          0.0005000749952159822
         ]
        },
        {
         "hovertemplate": "Encoder: sindy_attention_transformer (x1)<br>Decoder: unet (x1)<br>LR: 1.00e-03<br>Test Loss: 5.00e-04<br><extra></extra>",
         "marker": {
          "color": "#F6CF71",
          "line": {
           "color": "#E17C05",
           "width": 4
          },
          "size": 12
         },
         "mode": "markers",
         "name": "sindy_attention_transformer-unet",
         "showlegend": false,
         "type": "scatter",
         "x": [
          2
         ],
         "y": [
          0.000499905290780589
         ]
        },
        {
         "hovertemplate": "Encoder: sindy_loss_transformer (x4)<br>Decoder: unet (x1)<br>LR: 1.00e-03<br>Test Loss: 5.00e-04<br><extra></extra>",
         "marker": {
          "color": "#F6CF71",
          "line": {
           "color": "#EDAD08",
           "width": 4
          },
          "size": 12
         },
         "mode": "markers",
         "name": "sindy_loss_transformer-unet",
         "showlegend": false,
         "type": "scatter",
         "x": [
          3
         ],
         "y": [
          0.0004998862132197246
         ]
        },
        {
         "hovertemplate": "Encoder: sindy_loss_transformer (x2)<br>Decoder: unet (x1)<br>LR: 1.00e-03<br>Test Loss: 5.00e-04<br><extra></extra>",
         "marker": {
          "color": "#F6CF71",
          "line": {
           "color": "#EDAD08",
           "width": 4
          },
          "size": 12
         },
         "mode": "markers",
         "name": "sindy_loss_transformer-unet",
         "showlegend": false,
         "type": "scatter",
         "x": [
          4
         ],
         "y": [
          0.0004996995703550056
         ]
        },
        {
         "hovertemplate": "Encoder: sindy_attention_transformer (x2)<br>Decoder: mlp (x1)<br>LR: 1.00e-03<br>Test Loss: 5.00e-04<br><extra></extra>",
         "marker": {
          "color": "#66C5CC",
          "line": {
           "color": "#E17C05",
           "width": 4
          },
          "size": 12
         },
         "mode": "markers",
         "name": "sindy_attention_transformer-mlp",
         "showlegend": false,
         "type": "scatter",
         "x": [
          5
         ],
         "y": [
          0.0004996352217858657
         ]
        },
        {
         "hovertemplate": "Encoder: sindy_loss_transformer (x1)<br>Decoder: unet (x1)<br>LR: 1.00e-03<br>Test Loss: 5.00e-04<br><extra></extra>",
         "marker": {
          "color": "#F6CF71",
          "line": {
           "color": "#EDAD08",
           "width": 4
          },
          "size": 12
         },
         "mode": "markers",
         "name": "sindy_loss_transformer-unet",
         "showlegend": false,
         "type": "scatter",
         "x": [
          6
         ],
         "y": [
          0.0004996237548766658
         ]
        },
        {
         "hovertemplate": "Encoder: sindy_loss_transformer (x3)<br>Decoder: unet (x1)<br>LR: 1.00e-03<br>Test Loss: 4.99e-04<br><extra></extra>",
         "marker": {
          "color": "#F6CF71",
          "line": {
           "color": "#EDAD08",
           "width": 4
          },
          "size": 12
         },
         "mode": "markers",
         "name": "sindy_loss_transformer-unet",
         "showlegend": false,
         "type": "scatter",
         "x": [
          7
         ],
         "y": [
          0.0004993710172129795
         ]
        },
        {
         "hovertemplate": "Encoder: sindy_attention_sindy_loss_transformer (x1)<br>Decoder: unet (x1)<br>LR: 1.00e-03<br>Test Loss: 4.99e-04<br><extra></extra>",
         "marker": {
          "color": "#F6CF71",
          "line": {
           "color": "#CC503E",
           "width": 4
          },
          "size": 12
         },
         "mode": "markers",
         "name": "sindy_attention_sindy_loss_transformer-unet",
         "showlegend": false,
         "type": "scatter",
         "x": [
          8
         ],
         "y": [
          0.0004993124457541853
         ]
        },
        {
         "hovertemplate": "Encoder: sindy_attention_sindy_loss_transformer (x1)<br>Decoder: mlp (x1)<br>LR: 1.00e-03<br>Test Loss: 4.99e-04<br><extra></extra>",
         "marker": {
          "color": "#66C5CC",
          "line": {
           "color": "#CC503E",
           "width": 4
          },
          "size": 12
         },
         "mode": "markers",
         "name": "sindy_attention_sindy_loss_transformer-mlp",
         "showlegend": false,
         "type": "scatter",
         "x": [
          9
         ],
         "y": [
          0.0004991159366909415
         ]
        },
        {
         "hovertemplate": "Encoder: sindy_attention_transformer (x2)<br>Decoder: unet (x1)<br>LR: 1.00e-03<br>Test Loss: 4.99e-04<br><extra></extra>",
         "marker": {
          "color": "#F6CF71",
          "line": {
           "color": "#E17C05",
           "width": 4
          },
          "size": 12
         },
         "mode": "markers",
         "name": "sindy_attention_transformer-unet",
         "showlegend": false,
         "type": "scatter",
         "x": [
          10
         ],
         "y": [
          0.0004986255953554064
         ]
        },
        {
         "hovertemplate": "Encoder: sindy_attention_sindy_loss_transformer (x3)<br>Decoder: unet (x1)<br>LR: 1.00e-03<br>Test Loss: 4.98e-04<br><extra></extra>",
         "marker": {
          "color": "#F6CF71",
          "line": {
           "color": "#CC503E",
           "width": 4
          },
          "size": 12
         },
         "mode": "markers",
         "name": "sindy_attention_sindy_loss_transformer-unet",
         "showlegend": false,
         "type": "scatter",
         "x": [
          11
         ],
         "y": [
          0.000498331879498437
         ]
        },
        {
         "hovertemplate": "Encoder: sindy_attention_sindy_loss_transformer (x2)<br>Decoder: unet (x1)<br>LR: 1.00e-03<br>Test Loss: 4.98e-04<br><extra></extra>",
         "marker": {
          "color": "#F6CF71",
          "line": {
           "color": "#CC503E",
           "width": 4
          },
          "size": 12
         },
         "mode": "markers",
         "name": "sindy_attention_sindy_loss_transformer-unet",
         "showlegend": false,
         "type": "scatter",
         "x": [
          12
         ],
         "y": [
          0.0004981944657629356
         ]
        }
       ],
       "layout": {
        "font": {
         "family": "Times New Roman"
        },
        "height": 400,
        "hovermode": "closest",
        "legend": {
         "font": {
          "family": "Times New Roman",
          "size": 20
         },
         "title": {
          "font": {
           "family": "Times New Roman",
           "size": 20
          },
          "text": "Legend"
         }
        },
        "showlegend": true,
        "template": {
         "data": {
          "bar": [
           {
            "error_x": {
             "color": "#2a3f5f"
            },
            "error_y": {
             "color": "#2a3f5f"
            },
            "marker": {
             "line": {
              "color": "white",
              "width": 0.5
             },
             "pattern": {
              "fillmode": "overlay",
              "size": 10,
              "solidity": 0.2
             }
            },
            "type": "bar"
           }
          ],
          "barpolar": [
           {
            "marker": {
             "line": {
              "color": "white",
              "width": 0.5
             },
             "pattern": {
              "fillmode": "overlay",
              "size": 10,
              "solidity": 0.2
             }
            },
            "type": "barpolar"
           }
          ],
          "carpet": [
           {
            "aaxis": {
             "endlinecolor": "#2a3f5f",
             "gridcolor": "#C8D4E3",
             "linecolor": "#C8D4E3",
             "minorgridcolor": "#C8D4E3",
             "startlinecolor": "#2a3f5f"
            },
            "baxis": {
             "endlinecolor": "#2a3f5f",
             "gridcolor": "#C8D4E3",
             "linecolor": "#C8D4E3",
             "minorgridcolor": "#C8D4E3",
             "startlinecolor": "#2a3f5f"
            },
            "type": "carpet"
           }
          ],
          "choropleth": [
           {
            "colorbar": {
             "outlinewidth": 0,
             "ticks": ""
            },
            "type": "choropleth"
           }
          ],
          "contour": [
           {
            "colorbar": {
             "outlinewidth": 0,
             "ticks": ""
            },
            "colorscale": [
             [
              0,
              "#0d0887"
             ],
             [
              0.1111111111111111,
              "#46039f"
             ],
             [
              0.2222222222222222,
              "#7201a8"
             ],
             [
              0.3333333333333333,
              "#9c179e"
             ],
             [
              0.4444444444444444,
              "#bd3786"
             ],
             [
              0.5555555555555556,
              "#d8576b"
             ],
             [
              0.6666666666666666,
              "#ed7953"
             ],
             [
              0.7777777777777778,
              "#fb9f3a"
             ],
             [
              0.8888888888888888,
              "#fdca26"
             ],
             [
              1,
              "#f0f921"
             ]
            ],
            "type": "contour"
           }
          ],
          "contourcarpet": [
           {
            "colorbar": {
             "outlinewidth": 0,
             "ticks": ""
            },
            "type": "contourcarpet"
           }
          ],
          "heatmap": [
           {
            "colorbar": {
             "outlinewidth": 0,
             "ticks": ""
            },
            "colorscale": [
             [
              0,
              "#0d0887"
             ],
             [
              0.1111111111111111,
              "#46039f"
             ],
             [
              0.2222222222222222,
              "#7201a8"
             ],
             [
              0.3333333333333333,
              "#9c179e"
             ],
             [
              0.4444444444444444,
              "#bd3786"
             ],
             [
              0.5555555555555556,
              "#d8576b"
             ],
             [
              0.6666666666666666,
              "#ed7953"
             ],
             [
              0.7777777777777778,
              "#fb9f3a"
             ],
             [
              0.8888888888888888,
              "#fdca26"
             ],
             [
              1,
              "#f0f921"
             ]
            ],
            "type": "heatmap"
           }
          ],
          "heatmapgl": [
           {
            "colorbar": {
             "outlinewidth": 0,
             "ticks": ""
            },
            "colorscale": [
             [
              0,
              "#0d0887"
             ],
             [
              0.1111111111111111,
              "#46039f"
             ],
             [
              0.2222222222222222,
              "#7201a8"
             ],
             [
              0.3333333333333333,
              "#9c179e"
             ],
             [
              0.4444444444444444,
              "#bd3786"
             ],
             [
              0.5555555555555556,
              "#d8576b"
             ],
             [
              0.6666666666666666,
              "#ed7953"
             ],
             [
              0.7777777777777778,
              "#fb9f3a"
             ],
             [
              0.8888888888888888,
              "#fdca26"
             ],
             [
              1,
              "#f0f921"
             ]
            ],
            "type": "heatmapgl"
           }
          ],
          "histogram": [
           {
            "marker": {
             "pattern": {
              "fillmode": "overlay",
              "size": 10,
              "solidity": 0.2
             }
            },
            "type": "histogram"
           }
          ],
          "histogram2d": [
           {
            "colorbar": {
             "outlinewidth": 0,
             "ticks": ""
            },
            "colorscale": [
             [
              0,
              "#0d0887"
             ],
             [
              0.1111111111111111,
              "#46039f"
             ],
             [
              0.2222222222222222,
              "#7201a8"
             ],
             [
              0.3333333333333333,
              "#9c179e"
             ],
             [
              0.4444444444444444,
              "#bd3786"
             ],
             [
              0.5555555555555556,
              "#d8576b"
             ],
             [
              0.6666666666666666,
              "#ed7953"
             ],
             [
              0.7777777777777778,
              "#fb9f3a"
             ],
             [
              0.8888888888888888,
              "#fdca26"
             ],
             [
              1,
              "#f0f921"
             ]
            ],
            "type": "histogram2d"
           }
          ],
          "histogram2dcontour": [
           {
            "colorbar": {
             "outlinewidth": 0,
             "ticks": ""
            },
            "colorscale": [
             [
              0,
              "#0d0887"
             ],
             [
              0.1111111111111111,
              "#46039f"
             ],
             [
              0.2222222222222222,
              "#7201a8"
             ],
             [
              0.3333333333333333,
              "#9c179e"
             ],
             [
              0.4444444444444444,
              "#bd3786"
             ],
             [
              0.5555555555555556,
              "#d8576b"
             ],
             [
              0.6666666666666666,
              "#ed7953"
             ],
             [
              0.7777777777777778,
              "#fb9f3a"
             ],
             [
              0.8888888888888888,
              "#fdca26"
             ],
             [
              1,
              "#f0f921"
             ]
            ],
            "type": "histogram2dcontour"
           }
          ],
          "mesh3d": [
           {
            "colorbar": {
             "outlinewidth": 0,
             "ticks": ""
            },
            "type": "mesh3d"
           }
          ],
          "parcoords": [
           {
            "line": {
             "colorbar": {
              "outlinewidth": 0,
              "ticks": ""
             }
            },
            "type": "parcoords"
           }
          ],
          "pie": [
           {
            "automargin": true,
            "type": "pie"
           }
          ],
          "scatter": [
           {
            "marker": {
             "colorbar": {
              "outlinewidth": 0,
              "ticks": ""
             }
            },
            "type": "scatter"
           }
          ],
          "scatter3d": [
           {
            "line": {
             "colorbar": {
              "outlinewidth": 0,
              "ticks": ""
             }
            },
            "marker": {
             "colorbar": {
              "outlinewidth": 0,
              "ticks": ""
             }
            },
            "type": "scatter3d"
           }
          ],
          "scattercarpet": [
           {
            "marker": {
             "colorbar": {
              "outlinewidth": 0,
              "ticks": ""
             }
            },
            "type": "scattercarpet"
           }
          ],
          "scattergeo": [
           {
            "marker": {
             "colorbar": {
              "outlinewidth": 0,
              "ticks": ""
             }
            },
            "type": "scattergeo"
           }
          ],
          "scattergl": [
           {
            "marker": {
             "colorbar": {
              "outlinewidth": 0,
              "ticks": ""
             }
            },
            "type": "scattergl"
           }
          ],
          "scattermapbox": [
           {
            "marker": {
             "colorbar": {
              "outlinewidth": 0,
              "ticks": ""
             }
            },
            "type": "scattermapbox"
           }
          ],
          "scatterpolar": [
           {
            "marker": {
             "colorbar": {
              "outlinewidth": 0,
              "ticks": ""
             }
            },
            "type": "scatterpolar"
           }
          ],
          "scatterpolargl": [
           {
            "marker": {
             "colorbar": {
              "outlinewidth": 0,
              "ticks": ""
             }
            },
            "type": "scatterpolargl"
           }
          ],
          "scatterternary": [
           {
            "marker": {
             "colorbar": {
              "outlinewidth": 0,
              "ticks": ""
             }
            },
            "type": "scatterternary"
           }
          ],
          "surface": [
           {
            "colorbar": {
             "outlinewidth": 0,
             "ticks": ""
            },
            "colorscale": [
             [
              0,
              "#0d0887"
             ],
             [
              0.1111111111111111,
              "#46039f"
             ],
             [
              0.2222222222222222,
              "#7201a8"
             ],
             [
              0.3333333333333333,
              "#9c179e"
             ],
             [
              0.4444444444444444,
              "#bd3786"
             ],
             [
              0.5555555555555556,
              "#d8576b"
             ],
             [
              0.6666666666666666,
              "#ed7953"
             ],
             [
              0.7777777777777778,
              "#fb9f3a"
             ],
             [
              0.8888888888888888,
              "#fdca26"
             ],
             [
              1,
              "#f0f921"
             ]
            ],
            "type": "surface"
           }
          ],
          "table": [
           {
            "cells": {
             "fill": {
              "color": "#EBF0F8"
             },
             "line": {
              "color": "white"
             }
            },
            "header": {
             "fill": {
              "color": "#C8D4E3"
             },
             "line": {
              "color": "white"
             }
            },
            "type": "table"
           }
          ]
         },
         "layout": {
          "annotationdefaults": {
           "arrowcolor": "#2a3f5f",
           "arrowhead": 0,
           "arrowwidth": 1
          },
          "autotypenumbers": "strict",
          "coloraxis": {
           "colorbar": {
            "outlinewidth": 0,
            "ticks": ""
           }
          },
          "colorscale": {
           "diverging": [
            [
             0,
             "#8e0152"
            ],
            [
             0.1,
             "#c51b7d"
            ],
            [
             0.2,
             "#de77ae"
            ],
            [
             0.3,
             "#f1b6da"
            ],
            [
             0.4,
             "#fde0ef"
            ],
            [
             0.5,
             "#f7f7f7"
            ],
            [
             0.6,
             "#e6f5d0"
            ],
            [
             0.7,
             "#b8e186"
            ],
            [
             0.8,
             "#7fbc41"
            ],
            [
             0.9,
             "#4d9221"
            ],
            [
             1,
             "#276419"
            ]
           ],
           "sequential": [
            [
             0,
             "#0d0887"
            ],
            [
             0.1111111111111111,
             "#46039f"
            ],
            [
             0.2222222222222222,
             "#7201a8"
            ],
            [
             0.3333333333333333,
             "#9c179e"
            ],
            [
             0.4444444444444444,
             "#bd3786"
            ],
            [
             0.5555555555555556,
             "#d8576b"
            ],
            [
             0.6666666666666666,
             "#ed7953"
            ],
            [
             0.7777777777777778,
             "#fb9f3a"
            ],
            [
             0.8888888888888888,
             "#fdca26"
            ],
            [
             1,
             "#f0f921"
            ]
           ],
           "sequentialminus": [
            [
             0,
             "#0d0887"
            ],
            [
             0.1111111111111111,
             "#46039f"
            ],
            [
             0.2222222222222222,
             "#7201a8"
            ],
            [
             0.3333333333333333,
             "#9c179e"
            ],
            [
             0.4444444444444444,
             "#bd3786"
            ],
            [
             0.5555555555555556,
             "#d8576b"
            ],
            [
             0.6666666666666666,
             "#ed7953"
            ],
            [
             0.7777777777777778,
             "#fb9f3a"
            ],
            [
             0.8888888888888888,
             "#fdca26"
            ],
            [
             1,
             "#f0f921"
            ]
           ]
          },
          "colorway": [
           "#636efa",
           "#EF553B",
           "#00cc96",
           "#ab63fa",
           "#FFA15A",
           "#19d3f3",
           "#FF6692",
           "#B6E880",
           "#FF97FF",
           "#FECB52"
          ],
          "font": {
           "color": "#2a3f5f"
          },
          "geo": {
           "bgcolor": "white",
           "lakecolor": "white",
           "landcolor": "white",
           "showlakes": true,
           "showland": true,
           "subunitcolor": "#C8D4E3"
          },
          "hoverlabel": {
           "align": "left"
          },
          "hovermode": "closest",
          "mapbox": {
           "style": "light"
          },
          "paper_bgcolor": "white",
          "plot_bgcolor": "white",
          "polar": {
           "angularaxis": {
            "gridcolor": "#EBF0F8",
            "linecolor": "#EBF0F8",
            "ticks": ""
           },
           "bgcolor": "white",
           "radialaxis": {
            "gridcolor": "#EBF0F8",
            "linecolor": "#EBF0F8",
            "ticks": ""
           }
          },
          "scene": {
           "xaxis": {
            "backgroundcolor": "white",
            "gridcolor": "#DFE8F3",
            "gridwidth": 2,
            "linecolor": "#EBF0F8",
            "showbackground": true,
            "ticks": "",
            "zerolinecolor": "#EBF0F8"
           },
           "yaxis": {
            "backgroundcolor": "white",
            "gridcolor": "#DFE8F3",
            "gridwidth": 2,
            "linecolor": "#EBF0F8",
            "showbackground": true,
            "ticks": "",
            "zerolinecolor": "#EBF0F8"
           },
           "zaxis": {
            "backgroundcolor": "white",
            "gridcolor": "#DFE8F3",
            "gridwidth": 2,
            "linecolor": "#EBF0F8",
            "showbackground": true,
            "ticks": "",
            "zerolinecolor": "#EBF0F8"
           }
          },
          "shapedefaults": {
           "line": {
            "color": "#2a3f5f"
           }
          },
          "ternary": {
           "aaxis": {
            "gridcolor": "#DFE8F3",
            "linecolor": "#A2B1C6",
            "ticks": ""
           },
           "baxis": {
            "gridcolor": "#DFE8F3",
            "linecolor": "#A2B1C6",
            "ticks": ""
           },
           "bgcolor": "white",
           "caxis": {
            "gridcolor": "#DFE8F3",
            "linecolor": "#A2B1C6",
            "ticks": ""
           }
          },
          "title": {
           "x": 0.05
          },
          "xaxis": {
           "automargin": true,
           "gridcolor": "#EBF0F8",
           "linecolor": "#EBF0F8",
           "ticks": "",
           "title": {
            "standoff": 15
           },
           "zerolinecolor": "#EBF0F8",
           "zerolinewidth": 2
          },
          "yaxis": {
           "automargin": true,
           "gridcolor": "#EBF0F8",
           "linecolor": "#EBF0F8",
           "ticks": "",
           "title": {
            "standoff": 15
           },
           "zerolinecolor": "#EBF0F8",
           "zerolinewidth": 2
          }
         }
        },
        "title": {
         "font": {
          "family": "Times New Roman",
          "size": 20
         },
         "text": "Plasma"
        },
        "width": 525,
        "xaxis": {
         "showticklabels": false,
         "tickfont": {
          "family": "Times New Roman",
          "size": 20
         },
         "title": {
          "font": {
           "family": "Times New Roman",
           "size": 20
          },
          "text": "Top 12 Models"
         }
        },
        "yaxis": {
         "exponentformat": "E",
         "nticks": 5,
         "tickfont": {
          "family": "Times New Roman",
          "size": 20
         },
         "tickformat": "1.2e",
         "title": {
          "font": {
           "family": "Times New Roman",
           "size": 20
          },
          "text": "Test Loss"
         },
         "type": "log"
        }
       }
      },
      "text/html": [
       "<div>                            <div id=\"08df462c-74b6-4820-96e8-ccd637dd734d\" class=\"plotly-graph-div\" style=\"height:400px; width:525px;\"></div>            <script type=\"text/javascript\">                require([\"plotly\"], function(Plotly) {                    window.PLOTLYENV=window.PLOTLYENV || {};                                    if (document.getElementById(\"08df462c-74b6-4820-96e8-ccd637dd734d\")) {                    Plotly.newPlot(                        \"08df462c-74b6-4820-96e8-ccd637dd734d\",                        [{\"marker\":{\"color\":\"white\",\"line\":{\"color\":\"#5F4690\",\"width\":4},\"size\":12},\"mode\":\"markers\",\"name\":\"LSTM\",\"showlegend\":true,\"type\":\"scatter\",\"x\":[null],\"y\":[null]},{\"marker\":{\"color\":\"white\",\"line\":{\"color\":\"#1D6996\",\"width\":4},\"size\":12},\"mode\":\"markers\",\"name\":\"GRU\",\"showlegend\":true,\"type\":\"scatter\",\"x\":[null],\"y\":[null]},{\"marker\":{\"color\":\"white\",\"line\":{\"color\":\"#38A6A5\",\"width\":4},\"size\":12},\"mode\":\"markers\",\"name\":\"SL-LSTM\",\"showlegend\":true,\"type\":\"scatter\",\"x\":[null],\"y\":[null]},{\"marker\":{\"color\":\"white\",\"line\":{\"color\":\"#0F8554\",\"width\":4},\"size\":12},\"mode\":\"markers\",\"name\":\"SL-GRU\",\"showlegend\":true,\"type\":\"scatter\",\"x\":[null],\"y\":[null]},{\"marker\":{\"color\":\"white\",\"line\":{\"color\":\"#73AF48\",\"width\":4},\"size\":12},\"mode\":\"markers\",\"name\":\"T\",\"showlegend\":true,\"type\":\"scatter\",\"x\":[null],\"y\":[null]},{\"marker\":{\"color\":\"white\",\"line\":{\"color\":\"#EDAD08\",\"width\":4},\"size\":12},\"mode\":\"markers\",\"name\":\"SL-T\",\"showlegend\":true,\"type\":\"scatter\",\"x\":[null],\"y\":[null]},{\"marker\":{\"color\":\"white\",\"line\":{\"color\":\"#E17C05\",\"width\":4},\"size\":12},\"mode\":\"markers\",\"name\":\"SA-T\",\"showlegend\":true,\"type\":\"scatter\",\"x\":[null],\"y\":[null]},{\"marker\":{\"color\":\"white\",\"line\":{\"color\":\"#CC503E\",\"width\":4},\"size\":12},\"mode\":\"markers\",\"name\":\"SASL-T\",\"showlegend\":true,\"type\":\"scatter\",\"x\":[null],\"y\":[null]},{\"marker\":{\"color\":\"#66C5CC\",\"line\":{\"color\":\"white\",\"width\":4},\"size\":12},\"mode\":\"markers\",\"name\":\"MLP\",\"showlegend\":true,\"type\":\"scatter\",\"x\":[null],\"y\":[null]},{\"marker\":{\"color\":\"#F6CF71\",\"line\":{\"color\":\"white\",\"width\":4},\"size\":12},\"mode\":\"markers\",\"name\":\"CNN\",\"showlegend\":true,\"type\":\"scatter\",\"x\":[null],\"y\":[null]},{\"hovertemplate\":\"Encoder: sindy_attention_sindy_loss_transformer (x3)<br>Decoder: mlp (x1)<br>LR: 1.00e-03<br>Test Loss: 5.00e-04<br><extra></extra>\",\"marker\":{\"color\":\"#66C5CC\",\"line\":{\"color\":\"#CC503E\",\"width\":4},\"size\":12},\"mode\":\"markers\",\"name\":\"sindy_attention_sindy_loss_transformer-mlp\",\"showlegend\":false,\"type\":\"scatter\",\"x\":[1],\"y\":[0.0005000749952159822]},{\"hovertemplate\":\"Encoder: sindy_attention_transformer (x1)<br>Decoder: unet (x1)<br>LR: 1.00e-03<br>Test Loss: 5.00e-04<br><extra></extra>\",\"marker\":{\"color\":\"#F6CF71\",\"line\":{\"color\":\"#E17C05\",\"width\":4},\"size\":12},\"mode\":\"markers\",\"name\":\"sindy_attention_transformer-unet\",\"showlegend\":false,\"type\":\"scatter\",\"x\":[2],\"y\":[0.000499905290780589]},{\"hovertemplate\":\"Encoder: sindy_loss_transformer (x4)<br>Decoder: unet (x1)<br>LR: 1.00e-03<br>Test Loss: 5.00e-04<br><extra></extra>\",\"marker\":{\"color\":\"#F6CF71\",\"line\":{\"color\":\"#EDAD08\",\"width\":4},\"size\":12},\"mode\":\"markers\",\"name\":\"sindy_loss_transformer-unet\",\"showlegend\":false,\"type\":\"scatter\",\"x\":[3],\"y\":[0.0004998862132197246]},{\"hovertemplate\":\"Encoder: sindy_loss_transformer (x2)<br>Decoder: unet (x1)<br>LR: 1.00e-03<br>Test Loss: 5.00e-04<br><extra></extra>\",\"marker\":{\"color\":\"#F6CF71\",\"line\":{\"color\":\"#EDAD08\",\"width\":4},\"size\":12},\"mode\":\"markers\",\"name\":\"sindy_loss_transformer-unet\",\"showlegend\":false,\"type\":\"scatter\",\"x\":[4],\"y\":[0.0004996995703550056]},{\"hovertemplate\":\"Encoder: sindy_attention_transformer (x2)<br>Decoder: mlp (x1)<br>LR: 1.00e-03<br>Test Loss: 5.00e-04<br><extra></extra>\",\"marker\":{\"color\":\"#66C5CC\",\"line\":{\"color\":\"#E17C05\",\"width\":4},\"size\":12},\"mode\":\"markers\",\"name\":\"sindy_attention_transformer-mlp\",\"showlegend\":false,\"type\":\"scatter\",\"x\":[5],\"y\":[0.0004996352217858657]},{\"hovertemplate\":\"Encoder: sindy_loss_transformer (x1)<br>Decoder: unet (x1)<br>LR: 1.00e-03<br>Test Loss: 5.00e-04<br><extra></extra>\",\"marker\":{\"color\":\"#F6CF71\",\"line\":{\"color\":\"#EDAD08\",\"width\":4},\"size\":12},\"mode\":\"markers\",\"name\":\"sindy_loss_transformer-unet\",\"showlegend\":false,\"type\":\"scatter\",\"x\":[6],\"y\":[0.0004996237548766658]},{\"hovertemplate\":\"Encoder: sindy_loss_transformer (x3)<br>Decoder: unet (x1)<br>LR: 1.00e-03<br>Test Loss: 4.99e-04<br><extra></extra>\",\"marker\":{\"color\":\"#F6CF71\",\"line\":{\"color\":\"#EDAD08\",\"width\":4},\"size\":12},\"mode\":\"markers\",\"name\":\"sindy_loss_transformer-unet\",\"showlegend\":false,\"type\":\"scatter\",\"x\":[7],\"y\":[0.0004993710172129795]},{\"hovertemplate\":\"Encoder: sindy_attention_sindy_loss_transformer (x1)<br>Decoder: unet (x1)<br>LR: 1.00e-03<br>Test Loss: 4.99e-04<br><extra></extra>\",\"marker\":{\"color\":\"#F6CF71\",\"line\":{\"color\":\"#CC503E\",\"width\":4},\"size\":12},\"mode\":\"markers\",\"name\":\"sindy_attention_sindy_loss_transformer-unet\",\"showlegend\":false,\"type\":\"scatter\",\"x\":[8],\"y\":[0.0004993124457541853]},{\"hovertemplate\":\"Encoder: sindy_attention_sindy_loss_transformer (x1)<br>Decoder: mlp (x1)<br>LR: 1.00e-03<br>Test Loss: 4.99e-04<br><extra></extra>\",\"marker\":{\"color\":\"#66C5CC\",\"line\":{\"color\":\"#CC503E\",\"width\":4},\"size\":12},\"mode\":\"markers\",\"name\":\"sindy_attention_sindy_loss_transformer-mlp\",\"showlegend\":false,\"type\":\"scatter\",\"x\":[9],\"y\":[0.0004991159366909415]},{\"hovertemplate\":\"Encoder: sindy_attention_transformer (x2)<br>Decoder: unet (x1)<br>LR: 1.00e-03<br>Test Loss: 4.99e-04<br><extra></extra>\",\"marker\":{\"color\":\"#F6CF71\",\"line\":{\"color\":\"#E17C05\",\"width\":4},\"size\":12},\"mode\":\"markers\",\"name\":\"sindy_attention_transformer-unet\",\"showlegend\":false,\"type\":\"scatter\",\"x\":[10],\"y\":[0.0004986255953554064]},{\"hovertemplate\":\"Encoder: sindy_attention_sindy_loss_transformer (x3)<br>Decoder: unet (x1)<br>LR: 1.00e-03<br>Test Loss: 4.98e-04<br><extra></extra>\",\"marker\":{\"color\":\"#F6CF71\",\"line\":{\"color\":\"#CC503E\",\"width\":4},\"size\":12},\"mode\":\"markers\",\"name\":\"sindy_attention_sindy_loss_transformer-unet\",\"showlegend\":false,\"type\":\"scatter\",\"x\":[11],\"y\":[0.000498331879498437]},{\"hovertemplate\":\"Encoder: sindy_attention_sindy_loss_transformer (x2)<br>Decoder: unet (x1)<br>LR: 1.00e-03<br>Test Loss: 4.98e-04<br><extra></extra>\",\"marker\":{\"color\":\"#F6CF71\",\"line\":{\"color\":\"#CC503E\",\"width\":4},\"size\":12},\"mode\":\"markers\",\"name\":\"sindy_attention_sindy_loss_transformer-unet\",\"showlegend\":false,\"type\":\"scatter\",\"x\":[12],\"y\":[0.0004981944657629356]}],                        {\"font\":{\"family\":\"Times New Roman\"},\"height\":400,\"hovermode\":\"closest\",\"legend\":{\"font\":{\"family\":\"Times New Roman\",\"size\":20},\"title\":{\"font\":{\"family\":\"Times New Roman\",\"size\":20},\"text\":\"Legend\"}},\"showlegend\":true,\"template\":{\"data\":{\"bar\":[{\"error_x\":{\"color\":\"#2a3f5f\"},\"error_y\":{\"color\":\"#2a3f5f\"},\"marker\":{\"line\":{\"color\":\"white\",\"width\":0.5},\"pattern\":{\"fillmode\":\"overlay\",\"size\":10,\"solidity\":0.2}},\"type\":\"bar\"}],\"barpolar\":[{\"marker\":{\"line\":{\"color\":\"white\",\"width\":0.5},\"pattern\":{\"fillmode\":\"overlay\",\"size\":10,\"solidity\":0.2}},\"type\":\"barpolar\"}],\"carpet\":[{\"aaxis\":{\"endlinecolor\":\"#2a3f5f\",\"gridcolor\":\"#C8D4E3\",\"linecolor\":\"#C8D4E3\",\"minorgridcolor\":\"#C8D4E3\",\"startlinecolor\":\"#2a3f5f\"},\"baxis\":{\"endlinecolor\":\"#2a3f5f\",\"gridcolor\":\"#C8D4E3\",\"linecolor\":\"#C8D4E3\",\"minorgridcolor\":\"#C8D4E3\",\"startlinecolor\":\"#2a3f5f\"},\"type\":\"carpet\"}],\"choropleth\":[{\"colorbar\":{\"outlinewidth\":0,\"ticks\":\"\"},\"type\":\"choropleth\"}],\"contour\":[{\"colorbar\":{\"outlinewidth\":0,\"ticks\":\"\"},\"colorscale\":[[0.0,\"#0d0887\"],[0.1111111111111111,\"#46039f\"],[0.2222222222222222,\"#7201a8\"],[0.3333333333333333,\"#9c179e\"],[0.4444444444444444,\"#bd3786\"],[0.5555555555555556,\"#d8576b\"],[0.6666666666666666,\"#ed7953\"],[0.7777777777777778,\"#fb9f3a\"],[0.8888888888888888,\"#fdca26\"],[1.0,\"#f0f921\"]],\"type\":\"contour\"}],\"contourcarpet\":[{\"colorbar\":{\"outlinewidth\":0,\"ticks\":\"\"},\"type\":\"contourcarpet\"}],\"heatmap\":[{\"colorbar\":{\"outlinewidth\":0,\"ticks\":\"\"},\"colorscale\":[[0.0,\"#0d0887\"],[0.1111111111111111,\"#46039f\"],[0.2222222222222222,\"#7201a8\"],[0.3333333333333333,\"#9c179e\"],[0.4444444444444444,\"#bd3786\"],[0.5555555555555556,\"#d8576b\"],[0.6666666666666666,\"#ed7953\"],[0.7777777777777778,\"#fb9f3a\"],[0.8888888888888888,\"#fdca26\"],[1.0,\"#f0f921\"]],\"type\":\"heatmap\"}],\"heatmapgl\":[{\"colorbar\":{\"outlinewidth\":0,\"ticks\":\"\"},\"colorscale\":[[0.0,\"#0d0887\"],[0.1111111111111111,\"#46039f\"],[0.2222222222222222,\"#7201a8\"],[0.3333333333333333,\"#9c179e\"],[0.4444444444444444,\"#bd3786\"],[0.5555555555555556,\"#d8576b\"],[0.6666666666666666,\"#ed7953\"],[0.7777777777777778,\"#fb9f3a\"],[0.8888888888888888,\"#fdca26\"],[1.0,\"#f0f921\"]],\"type\":\"heatmapgl\"}],\"histogram\":[{\"marker\":{\"pattern\":{\"fillmode\":\"overlay\",\"size\":10,\"solidity\":0.2}},\"type\":\"histogram\"}],\"histogram2d\":[{\"colorbar\":{\"outlinewidth\":0,\"ticks\":\"\"},\"colorscale\":[[0.0,\"#0d0887\"],[0.1111111111111111,\"#46039f\"],[0.2222222222222222,\"#7201a8\"],[0.3333333333333333,\"#9c179e\"],[0.4444444444444444,\"#bd3786\"],[0.5555555555555556,\"#d8576b\"],[0.6666666666666666,\"#ed7953\"],[0.7777777777777778,\"#fb9f3a\"],[0.8888888888888888,\"#fdca26\"],[1.0,\"#f0f921\"]],\"type\":\"histogram2d\"}],\"histogram2dcontour\":[{\"colorbar\":{\"outlinewidth\":0,\"ticks\":\"\"},\"colorscale\":[[0.0,\"#0d0887\"],[0.1111111111111111,\"#46039f\"],[0.2222222222222222,\"#7201a8\"],[0.3333333333333333,\"#9c179e\"],[0.4444444444444444,\"#bd3786\"],[0.5555555555555556,\"#d8576b\"],[0.6666666666666666,\"#ed7953\"],[0.7777777777777778,\"#fb9f3a\"],[0.8888888888888888,\"#fdca26\"],[1.0,\"#f0f921\"]],\"type\":\"histogram2dcontour\"}],\"mesh3d\":[{\"colorbar\":{\"outlinewidth\":0,\"ticks\":\"\"},\"type\":\"mesh3d\"}],\"parcoords\":[{\"line\":{\"colorbar\":{\"outlinewidth\":0,\"ticks\":\"\"}},\"type\":\"parcoords\"}],\"pie\":[{\"automargin\":true,\"type\":\"pie\"}],\"scatter\":[{\"marker\":{\"colorbar\":{\"outlinewidth\":0,\"ticks\":\"\"}},\"type\":\"scatter\"}],\"scatter3d\":[{\"line\":{\"colorbar\":{\"outlinewidth\":0,\"ticks\":\"\"}},\"marker\":{\"colorbar\":{\"outlinewidth\":0,\"ticks\":\"\"}},\"type\":\"scatter3d\"}],\"scattercarpet\":[{\"marker\":{\"colorbar\":{\"outlinewidth\":0,\"ticks\":\"\"}},\"type\":\"scattercarpet\"}],\"scattergeo\":[{\"marker\":{\"colorbar\":{\"outlinewidth\":0,\"ticks\":\"\"}},\"type\":\"scattergeo\"}],\"scattergl\":[{\"marker\":{\"colorbar\":{\"outlinewidth\":0,\"ticks\":\"\"}},\"type\":\"scattergl\"}],\"scattermapbox\":[{\"marker\":{\"colorbar\":{\"outlinewidth\":0,\"ticks\":\"\"}},\"type\":\"scattermapbox\"}],\"scatterpolar\":[{\"marker\":{\"colorbar\":{\"outlinewidth\":0,\"ticks\":\"\"}},\"type\":\"scatterpolar\"}],\"scatterpolargl\":[{\"marker\":{\"colorbar\":{\"outlinewidth\":0,\"ticks\":\"\"}},\"type\":\"scatterpolargl\"}],\"scatterternary\":[{\"marker\":{\"colorbar\":{\"outlinewidth\":0,\"ticks\":\"\"}},\"type\":\"scatterternary\"}],\"surface\":[{\"colorbar\":{\"outlinewidth\":0,\"ticks\":\"\"},\"colorscale\":[[0.0,\"#0d0887\"],[0.1111111111111111,\"#46039f\"],[0.2222222222222222,\"#7201a8\"],[0.3333333333333333,\"#9c179e\"],[0.4444444444444444,\"#bd3786\"],[0.5555555555555556,\"#d8576b\"],[0.6666666666666666,\"#ed7953\"],[0.7777777777777778,\"#fb9f3a\"],[0.8888888888888888,\"#fdca26\"],[1.0,\"#f0f921\"]],\"type\":\"surface\"}],\"table\":[{\"cells\":{\"fill\":{\"color\":\"#EBF0F8\"},\"line\":{\"color\":\"white\"}},\"header\":{\"fill\":{\"color\":\"#C8D4E3\"},\"line\":{\"color\":\"white\"}},\"type\":\"table\"}]},\"layout\":{\"annotationdefaults\":{\"arrowcolor\":\"#2a3f5f\",\"arrowhead\":0,\"arrowwidth\":1},\"autotypenumbers\":\"strict\",\"coloraxis\":{\"colorbar\":{\"outlinewidth\":0,\"ticks\":\"\"}},\"colorscale\":{\"diverging\":[[0,\"#8e0152\"],[0.1,\"#c51b7d\"],[0.2,\"#de77ae\"],[0.3,\"#f1b6da\"],[0.4,\"#fde0ef\"],[0.5,\"#f7f7f7\"],[0.6,\"#e6f5d0\"],[0.7,\"#b8e186\"],[0.8,\"#7fbc41\"],[0.9,\"#4d9221\"],[1,\"#276419\"]],\"sequential\":[[0.0,\"#0d0887\"],[0.1111111111111111,\"#46039f\"],[0.2222222222222222,\"#7201a8\"],[0.3333333333333333,\"#9c179e\"],[0.4444444444444444,\"#bd3786\"],[0.5555555555555556,\"#d8576b\"],[0.6666666666666666,\"#ed7953\"],[0.7777777777777778,\"#fb9f3a\"],[0.8888888888888888,\"#fdca26\"],[1.0,\"#f0f921\"]],\"sequentialminus\":[[0.0,\"#0d0887\"],[0.1111111111111111,\"#46039f\"],[0.2222222222222222,\"#7201a8\"],[0.3333333333333333,\"#9c179e\"],[0.4444444444444444,\"#bd3786\"],[0.5555555555555556,\"#d8576b\"],[0.6666666666666666,\"#ed7953\"],[0.7777777777777778,\"#fb9f3a\"],[0.8888888888888888,\"#fdca26\"],[1.0,\"#f0f921\"]]},\"colorway\":[\"#636efa\",\"#EF553B\",\"#00cc96\",\"#ab63fa\",\"#FFA15A\",\"#19d3f3\",\"#FF6692\",\"#B6E880\",\"#FF97FF\",\"#FECB52\"],\"font\":{\"color\":\"#2a3f5f\"},\"geo\":{\"bgcolor\":\"white\",\"lakecolor\":\"white\",\"landcolor\":\"white\",\"showlakes\":true,\"showland\":true,\"subunitcolor\":\"#C8D4E3\"},\"hoverlabel\":{\"align\":\"left\"},\"hovermode\":\"closest\",\"mapbox\":{\"style\":\"light\"},\"paper_bgcolor\":\"white\",\"plot_bgcolor\":\"white\",\"polar\":{\"angularaxis\":{\"gridcolor\":\"#EBF0F8\",\"linecolor\":\"#EBF0F8\",\"ticks\":\"\"},\"bgcolor\":\"white\",\"radialaxis\":{\"gridcolor\":\"#EBF0F8\",\"linecolor\":\"#EBF0F8\",\"ticks\":\"\"}},\"scene\":{\"xaxis\":{\"backgroundcolor\":\"white\",\"gridcolor\":\"#DFE8F3\",\"gridwidth\":2,\"linecolor\":\"#EBF0F8\",\"showbackground\":true,\"ticks\":\"\",\"zerolinecolor\":\"#EBF0F8\"},\"yaxis\":{\"backgroundcolor\":\"white\",\"gridcolor\":\"#DFE8F3\",\"gridwidth\":2,\"linecolor\":\"#EBF0F8\",\"showbackground\":true,\"ticks\":\"\",\"zerolinecolor\":\"#EBF0F8\"},\"zaxis\":{\"backgroundcolor\":\"white\",\"gridcolor\":\"#DFE8F3\",\"gridwidth\":2,\"linecolor\":\"#EBF0F8\",\"showbackground\":true,\"ticks\":\"\",\"zerolinecolor\":\"#EBF0F8\"}},\"shapedefaults\":{\"line\":{\"color\":\"#2a3f5f\"}},\"ternary\":{\"aaxis\":{\"gridcolor\":\"#DFE8F3\",\"linecolor\":\"#A2B1C6\",\"ticks\":\"\"},\"baxis\":{\"gridcolor\":\"#DFE8F3\",\"linecolor\":\"#A2B1C6\",\"ticks\":\"\"},\"bgcolor\":\"white\",\"caxis\":{\"gridcolor\":\"#DFE8F3\",\"linecolor\":\"#A2B1C6\",\"ticks\":\"\"}},\"title\":{\"x\":0.05},\"xaxis\":{\"automargin\":true,\"gridcolor\":\"#EBF0F8\",\"linecolor\":\"#EBF0F8\",\"ticks\":\"\",\"title\":{\"standoff\":15},\"zerolinecolor\":\"#EBF0F8\",\"zerolinewidth\":2},\"yaxis\":{\"automargin\":true,\"gridcolor\":\"#EBF0F8\",\"linecolor\":\"#EBF0F8\",\"ticks\":\"\",\"title\":{\"standoff\":15},\"zerolinecolor\":\"#EBF0F8\",\"zerolinewidth\":2}}},\"title\":{\"font\":{\"family\":\"Times New Roman\",\"size\":20},\"text\":\"Plasma\"},\"width\":525,\"xaxis\":{\"showticklabels\":false,\"tickfont\":{\"family\":\"Times New Roman\",\"size\":20},\"title\":{\"font\":{\"family\":\"Times New Roman\",\"size\":20},\"text\":\"Top 12 Models\"}},\"yaxis\":{\"exponentformat\":\"E\",\"nticks\":5,\"tickfont\":{\"family\":\"Times New Roman\",\"size\":20},\"tickformat\":\"1.2e\",\"title\":{\"font\":{\"family\":\"Times New Roman\",\"size\":20},\"text\":\"Test Loss\"},\"type\":\"log\"}},                        {\"responsive\": true}                    ).then(function(){\n",
       "                            \n",
       "var gd = document.getElementById('08df462c-74b6-4820-96e8-ccd637dd734d');\n",
       "var x = new MutationObserver(function (mutations, observer) {{\n",
       "        var display = window.getComputedStyle(gd).display;\n",
       "        if (!display || display === 'none') {{\n",
       "            console.log([gd, 'removed!']);\n",
       "            Plotly.purge(gd);\n",
       "            observer.disconnect();\n",
       "        }}\n",
       "}});\n",
       "\n",
       "// Listen for the removal of the full notebook cells\n",
       "var notebookContainer = gd.closest('#notebook-container');\n",
       "if (notebookContainer) {{\n",
       "    x.observe(notebookContainer, {childList: true});\n",
       "}}\n",
       "\n",
       "// Listen for the clearing of the current output cell\n",
       "var outputEl = gd.closest('.output');\n",
       "if (outputEl) {{\n",
       "    x.observe(outputEl, {childList: true});\n",
       "}}\n",
       "\n",
       "                        })                };                });            </script>        </div>"
      ]
     },
     "metadata": {},
     "output_type": "display_data"
    }
   ],
   "source": [
    "\n",
    "f = Figlet(font='ogre')\n",
    "for dataset in ['planetswe', 'sst', 'plasma']:\n",
    "    best_result = helpers.get_top_N_models_by_loss(dataset, pickle_dir, N=1)\n",
    "    print(best_result)\n",
    "    plots.plot_model_results_scatter(results, dataset, 12, save=True, fname=f\"{dataset}_scatter\",\n",
    "                                     title_fontsize=20, axes_fontsize=20, legend_fontsize=20)\n"
   ]
  },
  {
   "cell_type": "code",
   "execution_count": null,
   "metadata": {},
   "outputs": [],
   "source": []
  }
 ],
 "metadata": {
  "kernelspec": {
   "display_name": "venv",
   "language": "python",
   "name": "python3"
  },
  "language_info": {
   "codemirror_mode": {
    "name": "ipython",
    "version": 3
   },
   "file_extension": ".py",
   "mimetype": "text/x-python",
   "name": "python",
   "nbconvert_exporter": "python",
   "pygments_lexer": "ipython3",
   "version": "3.13.2"
  }
 },
 "nbformat": 4,
 "nbformat_minor": 2
}
