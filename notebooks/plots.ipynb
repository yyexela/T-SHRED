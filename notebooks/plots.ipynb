{
 "cells": [
  {
   "cell_type": "markdown",
   "metadata": {},
   "source": [
    "## Imports"
   ]
  },
  {
   "cell_type": "code",
   "execution_count": 1,
   "metadata": {},
   "outputs": [],
   "source": [
    "\n",
    "%load_ext autoreload\n",
    "%autoreload 2\n",
    "\n",
    "import os\n",
    "import sys\n",
    "import torch\n",
    "import einops\n",
    "import random\n",
    "import pickle\n",
    "import numpy as np\n",
    "import pprint as pp\n",
    "import torch.nn as nn\n",
    "from pathlib import Path\n",
    "from pyfiglet import Figlet\n",
    "from torch.utils.data import DataLoader\n",
    "from src.plots import plot_losses, plot_field_comparison\n",
    "\n",
    "# Add the project root directory to Python path\n",
    "top_dir = Path.cwd().parent\n",
    "sys.path.insert(0, str(top_dir.absolute()))\n",
    "\n",
    "from src import *\n",
    "\n",
    "slurm_dir = top_dir / 'slurms'\n",
    "pickle_dir = top_dir / 'pickles'\n"
   ]
  },
  {
   "cell_type": "code",
   "execution_count": 2,
   "metadata": {},
   "outputs": [],
   "source": [
    "\n",
    "# We will iterate through every combination of these\n",
    "datasets = [\"sst\", \"plasma\", \"planetswe_pod\", \"gray_scott_reaction_diffusion_pod\"]\n",
    "encoders = [\"lstm\", \"vanilla_transformer\", \"sindy_attention_transformer\"]\n",
    "decoders = [\"mlp\", \"unet\"]\n",
    "lrs = [f\"lr{i:0.2e}\" for i in [1e-2, 1e-3, 1e-4, 1e-5]]\n",
    "\n",
    "# These two will be zipped pairwise\n",
    "encoder_depths = [f\"e{i}\" for i in[1, 2, 3]]\n",
    "decoder_depths = [f\"d{i}\" for i in[1, 2]]\n"
   ]
  },
  {
   "cell_type": "code",
   "execution_count": 3,
   "metadata": {},
   "outputs": [],
   "source": [
    "\n",
    "# Get list of results\n",
    "results = helpers.get_dictionaries_from_pickles(pickle_dir)\n"
   ]
  },
  {
   "cell_type": "code",
   "execution_count": 4,
   "metadata": {},
   "outputs": [
    {
     "name": "stdout",
     "output_type": "stream",
     "text": [
      "<class 'list'>\n",
      "['test_loss',\n",
      " 'start_epoch',\n",
      " 'best_val',\n",
      " 'best_epoch',\n",
      " 'train_losses',\n",
      " 'val_losses',\n",
      " 'sensors',\n",
      " 'hyperparameters']\n",
      "{'batch_size': 128,\n",
      " 'best_checkpoint_path': PosixPath('/app/code/checkpoints/lstm_unet_sst_e4_d2_lr1.00e-03_model_best.pt'),\n",
      " 'd_data': 1,\n",
      " 'd_model': 50,\n",
      " 'data_cols': 360,\n",
      " 'data_rows': 180,\n",
      " 'dataset': 'sst',\n",
      " 'decoder': 'unet',\n",
      " 'decoder_depth': 2,\n",
      " 'device': 'cuda:0',\n",
      " 'dim_feedforward': 32,\n",
      " 'dropout': 0.1,\n",
      " 'encoder': 'lstm',\n",
      " 'encoder_depth': 4,\n",
      " 'epochs': 200,\n",
      " 'eval_full': False,\n",
      " 'hidden_size': 8,\n",
      " 'include_sine': False,\n",
      " 'latest_checkpoint_path': PosixPath('/app/code/checkpoints/lstm_unet_sst_e4_d2_lr1.00e-03_model_latest.pt'),\n",
      " 'lr': 0.001,\n",
      " 'n_heads': 2,\n",
      " 'n_sensors': 50,\n",
      " 'output_size': 64800,\n",
      " 'poly_order': 2,\n",
      " 'save_every_n_epochs': 10,\n",
      " 'skip_load_checkpoint': False,\n",
      " 'verbose': True,\n",
      " 'window_length': 50}\n"
     ]
    }
   ],
   "source": [
    "\n",
    "# Print the results / data format\n",
    "print(type(results))\n",
    "pp.pprint(list(results[0].keys()))\n",
    "pp.pprint(results[0]['hyperparameters'])\n"
   ]
  },
  {
   "cell_type": "code",
   "execution_count": 5,
   "metadata": {},
   "outputs": [
    {
     "name": "stdout",
     "output_type": "stream",
     "text": [
      "dict_keys(['test_loss', 'start_epoch', 'best_val', 'best_epoch', 'train_losses', 'val_losses', 'sensors', 'hyperparameters'])\n",
      "dict_keys(['batch_size', 'dataset', 'decoder', 'decoder_depth', 'device', 'dropout', 'encoder', 'eval_full', 'encoder_depth', 'epochs', 'hidden_size', 'include_sine', 'lr', 'n_heads', 'n_sensors', 'poly_order', 'save_every_n_epochs', 'skip_load_checkpoint', 'verbose', 'window_length', 'd_data', 'data_rows', 'data_cols', 'd_model', 'dim_feedforward', 'output_size', 'latest_checkpoint_path', 'best_checkpoint_path'])\n",
      "[(98, 215), (10, 132), (130, 248), (103, 155), (122, 183), (149, 111), (129, 71), (72, 71), (24, 316), (64, 272), (154, 75), (79, 50), (18, 350), (84, 241), (143, 51), (90, 222), (80, 312), (163, 104), (141, 244), (113, 266), (66, 31), (140, 7), (23, 204), (171, 320), (0, 313), (126, 170), (62, 166), (16, 97), (145, 113), (61, 72), (139, 229), (23, 41), (81, 260), (125, 55), (77, 282), (74, 63), (140, 170), (138, 104), (154, 280), (150, 147), (113, 46), (152, 197), (81, 294), (61, 148), (47, 96), (47, 16), (156, 336), (66, 243), (17, 45), (173, 66)]\n"
     ]
    }
   ],
   "source": [
    "\n",
    "best_result = helpers.get_top_N_models_by_loss('sst', pickle_dir, N=1)[0][1]\n",
    "print(best_result.keys())\n",
    "print(best_result['hyperparameters'].keys())\n",
    "print(best_result['sensors'])\n"
   ]
  },
  {
   "cell_type": "code",
   "execution_count": 6,
   "metadata": {},
   "outputs": [
    {
     "name": "stdout",
     "output_type": "stream",
     "text": [
      "       _                  _                                         _ \n",
      " _ __ | | __ _ _ __   ___| |_ _____      _____      _ __   ___   __| |\n",
      "| '_ \\| |/ _` | '_ \\ / _ \\ __/ __\\ \\ /\\ / / _ \\    | '_ \\ / _ \\ / _` |\n",
      "| |_) | | (_| | | | |  __/ |_\\__ \\\\ V  V /  __/    | |_) | (_) | (_| |\n",
      "| .__/|_|\\__,_|_| |_|\\___|\\__|___/ \\_/\\_/ \\___|____| .__/ \\___/ \\__,_|\n",
      "|_|                                          |_____|_|                \n",
      "\n",
      "         _   \n",
      " ___ ___| |_ \n",
      "/ __/ __| __|\n",
      "\\__ \\__ \\ |_ \n",
      "|___/___/\\__|\n",
      "             \n",
      "\n",
      "       _                           \n",
      " _ __ | | __ _ ___ _ __ ___   __ _ \n",
      "| '_ \\| |/ _` / __| '_ ` _ \\ / _` |\n",
      "| |_) | | (_| \\__ \\ | | | | | (_| |\n",
      "| .__/|_|\\__,_|___/_| |_| |_|\\__,_|\n",
      "|_|                                \n",
      "\n",
      "                                         _   _                           _   _ \n",
      "  __ _ _ __ __ _ _   _     ___  ___ ___ | |_| |_     _ __ ___  __ _  ___| |_(_)\n",
      " / _` | '__/ _` | | | |   / __|/ __/ _ \\| __| __|   | '__/ _ \\/ _` |/ __| __| |\n",
      "| (_| | | | (_| | |_| |   \\__ \\ (_| (_) | |_| |_    | | |  __/ (_| | (__| |_| |\n",
      " \\__, |_|  \\__,_|\\__, |___|___/\\___\\___/ \\__|\\__|___|_|  \\___|\\__,_|\\___|\\__|_|\n",
      " |___/           |___/_____|                   |_____|                         \n",
      "                    _ _  __  __           _                                  _ \n",
      "  ___  _ __      __| (_)/ _|/ _|_   _ ___(_) ___  _ __       _ __   ___   __| |\n",
      " / _ \\| '_ \\    / _` | | |_| |_| | | / __| |/ _ \\| '_ \\     | '_ \\ / _ \\ / _` |\n",
      "| (_) | | | |  | (_| | |  _|  _| |_| \\__ \\ | (_) | | | |    | |_) | (_) | (_| |\n",
      " \\___/|_| |_|___\\__,_|_|_| |_|  \\__,_|___/_|\\___/|_| |_|____| .__/ \\___/ \\__,_|\n",
      "           |_____|                                    |_____|_|                \n",
      "\n"
     ]
    }
   ],
   "source": [
    "\n",
    "f = Figlet(font='ogre')\n",
    "for dataset in ['planetswe_pod', 'sst', 'plasma', 'gray_scott_reaction_diffusion_pod']:\n",
    "    print(f.renderText(dataset))\n",
    "    best_result = helpers.get_top_N_models_by_loss(dataset, pickle_dir, N=1)[0][1]\n",
    "    #if 'pod' in best_result['hyperparameters']['dataset']:\n",
    "        #plots.plot_field_comparison_scratch(best_result)\n",
    "    #plots.plot_field_comparison_scratch(best_result)\n",
    "    plots.plot_model_results_scatter(results, dataset, 12, save=True, fname=f\"{dataset}_scatter.pdf\")\n",
    "    if 'train_losses' in best_result:\n",
    "        plots.plot_losses(best_result['train_losses'], best_result['val_losses'], best_result['best_epoch'], save=True, fname=f\"{dataset}_losses.pdf\")\n"
   ]
  }
 ],
 "metadata": {
  "kernelspec": {
   "display_name": "venv",
   "language": "python",
   "name": "python3"
  },
  "language_info": {
   "codemirror_mode": {
    "name": "ipython",
    "version": 3
   },
   "file_extension": ".py",
   "mimetype": "text/x-python",
   "name": "python",
   "nbconvert_exporter": "python",
   "pygments_lexer": "ipython3",
   "version": "3.13.2"
  }
 },
 "nbformat": 4,
 "nbformat_minor": 2
}
